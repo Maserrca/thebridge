{
 "metadata": {
  "language_info": {
   "codemirror_mode": {
    "name": "ipython",
    "version": 3
   },
   "file_extension": ".py",
   "mimetype": "text/x-python",
   "name": "python",
   "nbconvert_exporter": "python",
   "pygments_lexer": "ipython3",
   "version": "3.7.4"
  },
  "orig_nbformat": 2,
  "kernelspec": {
   "name": "python3",
   "display_name": "Python 3.7.4 64-bit"
  },
  "interpreter": {
   "hash": "797ece2db6cd49410b212500b07c3b6429b528fb918ab6c0d0ffbc4c51c5b09e"
  }
 },
 "nbformat": 4,
 "nbformat_minor": 2,
 "cells": [
  {
   "cell_type": "markdown",
   "metadata": {},
   "source": [
    "### 1. \n",
    "\n",
    "Crear una función que reciba cuatro parámetros: una lista 'L', un número 'T', un número 'V' y un booleano 'S'. La función debe devolver otras dos listas: \"lista_train_val\" y \"lista_test\".\n",
    "\n",
    "- \"lista_train_val\" es una lista con dos elementos. Cada elemento es una lista: \"list_train\", que representa el conjunto de entrenamiento y \"list_val\", que representa el conjunto de validación. \n",
    "- \"list_test\" es el conjunto de test. Como mínimo ha de tener 1 elemento (si 'L' > 1).\n",
    "- \"L\" es cualquier lista de elementos. Al principio, entra con un tamaño completo (100%). Esta es la lista que se partirá y se generarán los conjuntos entrenamiento, de validación y de test.\n",
    "- \"T\" es un número entre 1 y 100 que va a representar el tamaño, en porcentaje, del conjunto de test \"list_test\". \n",
    "- \"V\" es un número entre 0 y 100 que va a representar el tamaño, en porcentaje, del conjunto de validación \"list_val\". Su valor por defecto es 0.\n",
    "- \"S\", que por defecto es False, determinará si los conjuntos \"list_train\", \"list_test\" y \"list_val\" están aleatoriamente ordenados. ¿Encuentras alguna posible incoherencia si se reordenan aleatoriamente?\n",
    "\n",
    "Prueba la función con una lista de 100 números aleatorios del 0 al 100. \n",
    "\n",
    "### 2. \n",
    "\n",
    "Rehacer el ejercicio anterior en otra función para que no devuelva dos listas, sino los tres conjuntos: \n",
    "\n",
    "--> return list_train, list_val, list_test "
   ]
  },
  {
   "cell_type": "code",
   "execution_count": 8,
   "metadata": {},
   "outputs": [
    {
     "output_type": "stream",
     "name": "stdout",
     "text": [
      "[92, 11, 47, 78, 28, 59, 5, 14, 7, 40, 43, 79, 42, 10, 87, 98, 48, 94, 0, 54, 83, 93, 8, 18, 75, 95, 12, 64, 82, 4, 50, 9, 96, 19, 16, 3, 26, 41, 67, 60, 84, 34, 70, 86, 1, 89, 22, 58, 88, 23, 33, 57, 6, 72, 36, 21, 35, 49, 73, 68, 13, 2, 61, 55, 45, 27, 56, 53, 65, 69, 24, 91, 52, 44, 37, 62, 15, 29, 99, 38, 31, 71, 32, 30, 66, 17, 51, 97, 80, 46, 77, 85, 39, 90, 63, 81, 74, 76, 25, 20]\n"
     ]
    }
   ],
   "source": [
    "import random\n",
    "lista = random.sample(range(0, 100),100)\n",
    "print(lista)"
   ]
  },
  {
   "cell_type": "code",
   "execution_count": null,
   "metadata": {},
   "outputs": [],
   "source": [
    "lista_train_val = [[90, 32, 44, 17, 28, 96, 88, 40, 14, 64, 4, 0, 73, 50, 67, 42, 23, 65, 22, 69, 15, 84, 31, 1, 43, 91, 94, 55, 24, 51, 89, 10, 74, 16, 85, 57, 83, 79, 37, 80, 68, 99, 19, 95, 86, 53, 52, 38, 59, 12, 9, 77, 47, 30, 7, 92], [63, 41, 5, 56, 49, 11, 97, 76, 46, 21, 25, 34, 87, 45, 33, 18, 13, 8, 2, 81, 78, 98, 54, 20]]\n",
    "print(\"list_train:\", lista_train_val[0], \"\\nlist_val:\", lista_train_val[1])"
   ]
  },
  {
   "cell_type": "code",
   "execution_count": null,
   "metadata": {},
   "outputs": [],
   "source": [
    "lista_test = [3, 29, 39, 58, 35, 62, 72, 36, 66, 71, 61, 6, 26, 60, 48, 70, 82, 75, 27, 93]\n",
    "print(\"lista_test\", lista_test)"
   ]
  },
  {
   "cell_type": "code",
   "execution_count": 14,
   "metadata": {},
   "outputs": [],
   "source": [
    "def f1(L:list, T:int, V=0, S= False):\n",
    "    '''\n",
    "    Esta función recibe cuatro parámetros: una lista 'L', un número 'T', un número 'V' y un booleano 'S'\n",
    "    La función devuelve dos listas: \"lista_train_val\" y \"lista_test\", esta última con dos elementos\n",
    "    '''\n",
    "    lista_train_val = []\n",
    "    #lista_train_val = [\"lista_train\" es el entrenamiento, \"list_val\" es el conjunto de validacion]\n",
    "    #list_test es el conjunto de test. Como mínimo ha de tener 1 elemento (si 'L' > 1).\n",
    "    test_size = int((len(L))*(T/100))#Porcentaje multiplicado por la longitud para coger hasta el que llega\n",
    "    \n",
    "    lista_test = L[:test_size]\n",
    "    lista_to_split = L[test_size:]\n",
    "    \n",
    "    val_size = int((len(lista_to_split))*(V/100))    \n",
    "    \n",
    "    lista_train_val.append(lista_to_split[val_size:])\n",
    "    lista_train_val.append(lista_to_split[:val_size])\n",
    "    \n",
    "    lists = [lista_train_val[0], lista_train_val[1], lista_test]\n",
    "        \n",
    "    for lista in lists: \n",
    "        if S==False:\n",
    "            lista.sort()\n",
    "        else:\n",
    "            random.shuffle(lista)\n",
    "            \n",
    "    print(\"#####################\")\n",
    "    print(f\"The len of the train list is: {len(lista_train_val[0])}\")\n",
    "    print()\n",
    "    print(f\"The len of the validation list is: {len(lista_train_val[1])}\")\n",
    "    print()\n",
    "    print(f\"The len of the test list is: {len(lista_test)}\")\n",
    "    print(\"#####################\")\n",
    "    print()\n",
    "    \n",
    "    return lista_train_val, lista_test"
   ]
  },
  {
   "cell_type": "code",
   "execution_count": 15,
   "metadata": {},
   "outputs": [
    {
     "output_type": "stream",
     "name": "stdout",
     "text": [
      "#####################\nThe len of the train list is: 56\n\nThe len of the validation list is: 24\n\nThe len of the test list is: 20\n#####################\n\n([[13, 99, 68, 29, 46, 63, 76, 31, 27, 39, 90, 24, 25, 80, 52, 91, 73, 61, 66, 77, 57, 20, 1, 33, 88, 65, 44, 22, 35, 17, 49, 6, 97, 21, 62, 55, 32, 71, 37, 15, 69, 45, 58, 30, 89, 72, 85, 2, 56, 36, 38, 23, 74, 51, 81, 53], [50, 3, 19, 84, 95, 12, 75, 70, 9, 86, 34, 18, 64, 16, 8, 93, 60, 41, 26, 82, 67, 83, 96, 4]], [47, 43, 28, 7, 11, 78, 54, 42, 0, 48, 14, 98, 40, 59, 10, 79, 5, 94, 87, 92])\n"
     ]
    }
   ],
   "source": [
    "print(f1(L=lista, T=20, V=30, S=True))"
   ]
  },
  {
   "cell_type": "code",
   "execution_count": null,
   "metadata": {},
   "outputs": [],
   "source": []
  }
 ]
}