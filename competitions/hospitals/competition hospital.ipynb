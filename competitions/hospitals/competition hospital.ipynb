{
 "metadata": {
  "language_info": {
   "codemirror_mode": {
    "name": "ipython",
    "version": 3
   },
   "file_extension": ".py",
   "mimetype": "text/x-python",
   "name": "python",
   "nbconvert_exporter": "python",
   "pygments_lexer": "ipython3",
   "version": "3.7.4"
  },
  "orig_nbformat": 4,
  "kernelspec": {
   "name": "python3",
   "display_name": "Python 3.7.4 64-bit"
  },
  "interpreter": {
   "hash": "797ece2db6cd49410b212500b07c3b6429b528fb918ab6c0d0ffbc4c51c5b09e"
  }
 },
 "nbformat": 4,
 "nbformat_minor": 2,
 "cells": [
  {
   "cell_type": "code",
   "execution_count": 1,
   "metadata": {},
   "outputs": [],
   "source": [
    "import pandas as pd \n",
    "import numpy as np\n",
    "from sklearn.preprocessing import LabelEncoder\n",
    "from sklearn import preprocessing\n",
    "from sklearn.pipeline import Pipeline\n",
    "from sklearn.ensemble import RandomForestClassifier\n",
    "from sklearn.linear_model import LogisticRegression\n",
    "from sklearn.svm import SVC\n",
    "from sklearn.neighbors import KNeighborsClassifier\n",
    "from sklearn.model_selection import GridSearchCV\n",
    "from sklearn.model_selection import train_test_split\n",
    "from sklearn.feature_selection import SelectKBest\n",
    "import urllib.request\n",
    "from PIL import Image"
   ]
  },
  {
   "cell_type": "code",
   "execution_count": 2,
   "metadata": {},
   "outputs": [
    {
     "output_type": "execute_result",
     "data": {
      "text/plain": [
       "                                              Description\n",
       "Column                                                   \n",
       "0                          Case_ID registered in Hospital\n",
       "1                            Unique code for the Hospital\n",
       "2                    Unique code for the type of Hospital\n",
       "3                               City Code of the Hospital\n",
       "4                             Region Code of the Hospital\n",
       "5         Number of Extra rooms available in the Hospital\n",
       "6                         Department overlooking the case\n",
       "7                                  Code for the Ward type\n",
       "8                              Code for the Ward Facility\n",
       "9                            Condition of Bed in the Ward\n",
       "10                                      Unique Patient Id\n",
       "11                              City Code for the patient\n",
       "12              Admission Type registered by the Hospital\n",
       "13      Severity of the illness recorded at the time o...\n",
       "14                    Number of Visitors with the patient\n",
       "15                                     Age of the patient\n",
       "16                          Deposit at the Admission Time\n",
       "17                               Stay Days by the patient"
      ],
      "text/html": "<div>\n<style scoped>\n    .dataframe tbody tr th:only-of-type {\n        vertical-align: middle;\n    }\n\n    .dataframe tbody tr th {\n        vertical-align: top;\n    }\n\n    .dataframe thead th {\n        text-align: right;\n    }\n</style>\n<table border=\"1\" class=\"dataframe\">\n  <thead>\n    <tr style=\"text-align: right;\">\n      <th></th>\n      <th>Description</th>\n    </tr>\n    <tr>\n      <th>Column</th>\n      <th></th>\n    </tr>\n  </thead>\n  <tbody>\n    <tr>\n      <th>0</th>\n      <td>Case_ID registered in Hospital</td>\n    </tr>\n    <tr>\n      <th>1</th>\n      <td>Unique code for the Hospital</td>\n    </tr>\n    <tr>\n      <th>2</th>\n      <td>Unique code for the type of Hospital</td>\n    </tr>\n    <tr>\n      <th>3</th>\n      <td>City Code of the Hospital</td>\n    </tr>\n    <tr>\n      <th>4</th>\n      <td>Region Code of the Hospital</td>\n    </tr>\n    <tr>\n      <th>5</th>\n      <td>Number of Extra rooms available in the Hospital</td>\n    </tr>\n    <tr>\n      <th>6</th>\n      <td>Department overlooking the case</td>\n    </tr>\n    <tr>\n      <th>7</th>\n      <td>Code for the Ward type</td>\n    </tr>\n    <tr>\n      <th>8</th>\n      <td>Code for the Ward Facility</td>\n    </tr>\n    <tr>\n      <th>9</th>\n      <td>Condition of Bed in the Ward</td>\n    </tr>\n    <tr>\n      <th>10</th>\n      <td>Unique Patient Id</td>\n    </tr>\n    <tr>\n      <th>11</th>\n      <td>City Code for the patient</td>\n    </tr>\n    <tr>\n      <th>12</th>\n      <td>Admission Type registered by the Hospital</td>\n    </tr>\n    <tr>\n      <th>13</th>\n      <td>Severity of the illness recorded at the time o...</td>\n    </tr>\n    <tr>\n      <th>14</th>\n      <td>Number of Visitors with the patient</td>\n    </tr>\n    <tr>\n      <th>15</th>\n      <td>Age of the patient</td>\n    </tr>\n    <tr>\n      <th>16</th>\n      <td>Deposit at the Admission Time</td>\n    </tr>\n    <tr>\n      <th>17</th>\n      <td>Stay Days by the patient</td>\n    </tr>\n  </tbody>\n</table>\n</div>"
     },
     "metadata": {},
     "execution_count": 2
    }
   ],
   "source": [
    "#Read csv\n",
    "columnas  = pd.read_csv('columns_meaning.csv', index_col=0)\n",
    "columnas"
   ]
  },
  {
   "cell_type": "code",
   "execution_count": 3,
   "metadata": {},
   "outputs": [
    {
     "output_type": "execute_result",
     "data": {
      "text/plain": [
       "['Case_ID registered in Hospital',\n",
       " 'Unique code for the Hospital',\n",
       " 'Unique code for the type of Hospital',\n",
       " 'City Code of the Hospital',\n",
       " 'Region Code of the Hospital',\n",
       " 'Number of Extra rooms available in the Hospital',\n",
       " 'Department overlooking the case',\n",
       " 'Code for the Ward type',\n",
       " 'Code for the Ward Facility',\n",
       " 'Condition of Bed in the Ward',\n",
       " 'Unique Patient Id',\n",
       " 'City Code for the patient',\n",
       " 'Admission Type registered by the Hospital',\n",
       " 'Severity of the illness recorded at the time of admission',\n",
       " 'Number of Visitors with the patient',\n",
       " 'Age of the patient',\n",
       " 'Deposit at the Admission Time',\n",
       " 'Stay Days by the patient']"
      ]
     },
     "metadata": {},
     "execution_count": 3
    }
   ],
   "source": [
    "column_list = list(columnas['Description'])\n",
    "column_list"
   ]
  },
  {
   "cell_type": "code",
   "execution_count": 4,
   "metadata": {},
   "outputs": [
    {
     "output_type": "execute_result",
     "data": {
      "text/plain": [
       "            0   1  2   3  4  5           6  7  8    9      10    11  \\\n",
       "0      161528   6  a   6  X  2  gynecology  R  F  4.0   45810   2.0   \n",
       "1      159472  23  a   6  X  4  gynecology  Q  F  2.0  128565  15.0   \n",
       "2      309765   2  c   5  Z  2  anesthesia  S  F  3.0   46565   5.0   \n",
       "3      279614  32  f   9  Y  3  gynecology  S  B  4.0  124546   6.0   \n",
       "4      147791  14  a   1  X  3  gynecology  S  E  2.0   22729   8.0   \n",
       "...       ...  .. ..  .. .. ..         ... .. ..  ...     ...   ...   \n",
       "99995  237869  12  a   9  Y  3  gynecology  R  B  3.0   82914   3.0   \n",
       "99996  254763  28  b  11  X  2  gynecology  R  F  2.0   40026   5.0   \n",
       "99997   69788   6  a   6  X  3  gynecology  Q  F  3.0   92346   2.0   \n",
       "99998  204442  32  f   9  Y  2  gynecology  S  B  4.0  113798  15.0   \n",
       "99999   69647  25  e   1  X  3  gynecology  Q  E  2.0  109237   8.0   \n",
       "\n",
       "              12        13  14     15      16                  17  \n",
       "0         Urgent  Moderate   2  21-30  2817.0                0-10  \n",
       "1         Trauma  Moderate   4  51-60  4498.0               21-30  \n",
       "2         Urgent  Moderate   2  71-80  4573.0               11-20  \n",
       "3      Emergency  Moderate   4  11-20  7202.0               51-60  \n",
       "4         Urgent  Moderate   2  51-60  3398.0               51-60  \n",
       "...          ...       ...  ..    ...     ...                 ...  \n",
       "99995  Emergency  Moderate   6  51-60  3966.0  More than 100 Days  \n",
       "99996     Urgent  Moderate   3  21-30  4005.0               51-60  \n",
       "99997     Trauma     Minor   2  31-40  5215.0               31-40  \n",
       "99998     Trauma  Moderate   3  41-50  5092.0               11-20  \n",
       "99999  Emergency  Moderate   2  41-50  3390.0               41-50  \n",
       "\n",
       "[100000 rows x 18 columns]"
      ],
      "text/html": "<div>\n<style scoped>\n    .dataframe tbody tr th:only-of-type {\n        vertical-align: middle;\n    }\n\n    .dataframe tbody tr th {\n        vertical-align: top;\n    }\n\n    .dataframe thead th {\n        text-align: right;\n    }\n</style>\n<table border=\"1\" class=\"dataframe\">\n  <thead>\n    <tr style=\"text-align: right;\">\n      <th></th>\n      <th>0</th>\n      <th>1</th>\n      <th>2</th>\n      <th>3</th>\n      <th>4</th>\n      <th>5</th>\n      <th>6</th>\n      <th>7</th>\n      <th>8</th>\n      <th>9</th>\n      <th>10</th>\n      <th>11</th>\n      <th>12</th>\n      <th>13</th>\n      <th>14</th>\n      <th>15</th>\n      <th>16</th>\n      <th>17</th>\n    </tr>\n  </thead>\n  <tbody>\n    <tr>\n      <th>0</th>\n      <td>161528</td>\n      <td>6</td>\n      <td>a</td>\n      <td>6</td>\n      <td>X</td>\n      <td>2</td>\n      <td>gynecology</td>\n      <td>R</td>\n      <td>F</td>\n      <td>4.0</td>\n      <td>45810</td>\n      <td>2.0</td>\n      <td>Urgent</td>\n      <td>Moderate</td>\n      <td>2</td>\n      <td>21-30</td>\n      <td>2817.0</td>\n      <td>0-10</td>\n    </tr>\n    <tr>\n      <th>1</th>\n      <td>159472</td>\n      <td>23</td>\n      <td>a</td>\n      <td>6</td>\n      <td>X</td>\n      <td>4</td>\n      <td>gynecology</td>\n      <td>Q</td>\n      <td>F</td>\n      <td>2.0</td>\n      <td>128565</td>\n      <td>15.0</td>\n      <td>Trauma</td>\n      <td>Moderate</td>\n      <td>4</td>\n      <td>51-60</td>\n      <td>4498.0</td>\n      <td>21-30</td>\n    </tr>\n    <tr>\n      <th>2</th>\n      <td>309765</td>\n      <td>2</td>\n      <td>c</td>\n      <td>5</td>\n      <td>Z</td>\n      <td>2</td>\n      <td>anesthesia</td>\n      <td>S</td>\n      <td>F</td>\n      <td>3.0</td>\n      <td>46565</td>\n      <td>5.0</td>\n      <td>Urgent</td>\n      <td>Moderate</td>\n      <td>2</td>\n      <td>71-80</td>\n      <td>4573.0</td>\n      <td>11-20</td>\n    </tr>\n    <tr>\n      <th>3</th>\n      <td>279614</td>\n      <td>32</td>\n      <td>f</td>\n      <td>9</td>\n      <td>Y</td>\n      <td>3</td>\n      <td>gynecology</td>\n      <td>S</td>\n      <td>B</td>\n      <td>4.0</td>\n      <td>124546</td>\n      <td>6.0</td>\n      <td>Emergency</td>\n      <td>Moderate</td>\n      <td>4</td>\n      <td>11-20</td>\n      <td>7202.0</td>\n      <td>51-60</td>\n    </tr>\n    <tr>\n      <th>4</th>\n      <td>147791</td>\n      <td>14</td>\n      <td>a</td>\n      <td>1</td>\n      <td>X</td>\n      <td>3</td>\n      <td>gynecology</td>\n      <td>S</td>\n      <td>E</td>\n      <td>2.0</td>\n      <td>22729</td>\n      <td>8.0</td>\n      <td>Urgent</td>\n      <td>Moderate</td>\n      <td>2</td>\n      <td>51-60</td>\n      <td>3398.0</td>\n      <td>51-60</td>\n    </tr>\n    <tr>\n      <th>...</th>\n      <td>...</td>\n      <td>...</td>\n      <td>...</td>\n      <td>...</td>\n      <td>...</td>\n      <td>...</td>\n      <td>...</td>\n      <td>...</td>\n      <td>...</td>\n      <td>...</td>\n      <td>...</td>\n      <td>...</td>\n      <td>...</td>\n      <td>...</td>\n      <td>...</td>\n      <td>...</td>\n      <td>...</td>\n      <td>...</td>\n    </tr>\n    <tr>\n      <th>99995</th>\n      <td>237869</td>\n      <td>12</td>\n      <td>a</td>\n      <td>9</td>\n      <td>Y</td>\n      <td>3</td>\n      <td>gynecology</td>\n      <td>R</td>\n      <td>B</td>\n      <td>3.0</td>\n      <td>82914</td>\n      <td>3.0</td>\n      <td>Emergency</td>\n      <td>Moderate</td>\n      <td>6</td>\n      <td>51-60</td>\n      <td>3966.0</td>\n      <td>More than 100 Days</td>\n    </tr>\n    <tr>\n      <th>99996</th>\n      <td>254763</td>\n      <td>28</td>\n      <td>b</td>\n      <td>11</td>\n      <td>X</td>\n      <td>2</td>\n      <td>gynecology</td>\n      <td>R</td>\n      <td>F</td>\n      <td>2.0</td>\n      <td>40026</td>\n      <td>5.0</td>\n      <td>Urgent</td>\n      <td>Moderate</td>\n      <td>3</td>\n      <td>21-30</td>\n      <td>4005.0</td>\n      <td>51-60</td>\n    </tr>\n    <tr>\n      <th>99997</th>\n      <td>69788</td>\n      <td>6</td>\n      <td>a</td>\n      <td>6</td>\n      <td>X</td>\n      <td>3</td>\n      <td>gynecology</td>\n      <td>Q</td>\n      <td>F</td>\n      <td>3.0</td>\n      <td>92346</td>\n      <td>2.0</td>\n      <td>Trauma</td>\n      <td>Minor</td>\n      <td>2</td>\n      <td>31-40</td>\n      <td>5215.0</td>\n      <td>31-40</td>\n    </tr>\n    <tr>\n      <th>99998</th>\n      <td>204442</td>\n      <td>32</td>\n      <td>f</td>\n      <td>9</td>\n      <td>Y</td>\n      <td>2</td>\n      <td>gynecology</td>\n      <td>S</td>\n      <td>B</td>\n      <td>4.0</td>\n      <td>113798</td>\n      <td>15.0</td>\n      <td>Trauma</td>\n      <td>Moderate</td>\n      <td>3</td>\n      <td>41-50</td>\n      <td>5092.0</td>\n      <td>11-20</td>\n    </tr>\n    <tr>\n      <th>99999</th>\n      <td>69647</td>\n      <td>25</td>\n      <td>e</td>\n      <td>1</td>\n      <td>X</td>\n      <td>3</td>\n      <td>gynecology</td>\n      <td>Q</td>\n      <td>E</td>\n      <td>2.0</td>\n      <td>109237</td>\n      <td>8.0</td>\n      <td>Emergency</td>\n      <td>Moderate</td>\n      <td>2</td>\n      <td>41-50</td>\n      <td>3390.0</td>\n      <td>41-50</td>\n    </tr>\n  </tbody>\n</table>\n<p>100000 rows × 18 columns</p>\n</div>"
     },
     "metadata": {},
     "execution_count": 4
    }
   ],
   "source": [
    "train = pd.read_csv('hospital_train.csv')\n",
    "train"
   ]
  },
  {
   "cell_type": "code",
   "execution_count": 5,
   "metadata": {},
   "outputs": [
    {
     "output_type": "execute_result",
     "data": {
      "text/plain": [
       "       Case_ID registered in Hospital  Unique code for the Hospital  \\\n",
       "0                              161528                             6   \n",
       "1                              159472                            23   \n",
       "2                              309765                             2   \n",
       "3                              279614                            32   \n",
       "4                              147791                            14   \n",
       "...                               ...                           ...   \n",
       "99995                          237869                            12   \n",
       "99996                          254763                            28   \n",
       "99997                           69788                             6   \n",
       "99998                          204442                            32   \n",
       "99999                           69647                            25   \n",
       "\n",
       "      Unique code for the type of Hospital  City Code of the Hospital  \\\n",
       "0                                        a                          6   \n",
       "1                                        a                          6   \n",
       "2                                        c                          5   \n",
       "3                                        f                          9   \n",
       "4                                        a                          1   \n",
       "...                                    ...                        ...   \n",
       "99995                                    a                          9   \n",
       "99996                                    b                         11   \n",
       "99997                                    a                          6   \n",
       "99998                                    f                          9   \n",
       "99999                                    e                          1   \n",
       "\n",
       "      Region Code of the Hospital  \\\n",
       "0                               X   \n",
       "1                               X   \n",
       "2                               Z   \n",
       "3                               Y   \n",
       "4                               X   \n",
       "...                           ...   \n",
       "99995                           Y   \n",
       "99996                           X   \n",
       "99997                           X   \n",
       "99998                           Y   \n",
       "99999                           X   \n",
       "\n",
       "       Number of Extra rooms available in the Hospital  \\\n",
       "0                                                    2   \n",
       "1                                                    4   \n",
       "2                                                    2   \n",
       "3                                                    3   \n",
       "4                                                    3   \n",
       "...                                                ...   \n",
       "99995                                                3   \n",
       "99996                                                2   \n",
       "99997                                                3   \n",
       "99998                                                2   \n",
       "99999                                                3   \n",
       "\n",
       "      Department overlooking the case Code for the Ward type  \\\n",
       "0                          gynecology                      R   \n",
       "1                          gynecology                      Q   \n",
       "2                          anesthesia                      S   \n",
       "3                          gynecology                      S   \n",
       "4                          gynecology                      S   \n",
       "...                               ...                    ...   \n",
       "99995                      gynecology                      R   \n",
       "99996                      gynecology                      R   \n",
       "99997                      gynecology                      Q   \n",
       "99998                      gynecology                      S   \n",
       "99999                      gynecology                      Q   \n",
       "\n",
       "      Code for the Ward Facility  Condition of Bed in the Ward  \\\n",
       "0                              F                           4.0   \n",
       "1                              F                           2.0   \n",
       "2                              F                           3.0   \n",
       "3                              B                           4.0   \n",
       "4                              E                           2.0   \n",
       "...                          ...                           ...   \n",
       "99995                          B                           3.0   \n",
       "99996                          F                           2.0   \n",
       "99997                          F                           3.0   \n",
       "99998                          B                           4.0   \n",
       "99999                          E                           2.0   \n",
       "\n",
       "       Unique Patient Id  City Code for the patient  \\\n",
       "0                  45810                        2.0   \n",
       "1                 128565                       15.0   \n",
       "2                  46565                        5.0   \n",
       "3                 124546                        6.0   \n",
       "4                  22729                        8.0   \n",
       "...                  ...                        ...   \n",
       "99995              82914                        3.0   \n",
       "99996              40026                        5.0   \n",
       "99997              92346                        2.0   \n",
       "99998             113798                       15.0   \n",
       "99999             109237                        8.0   \n",
       "\n",
       "      Admission Type registered by the Hospital  \\\n",
       "0                                        Urgent   \n",
       "1                                        Trauma   \n",
       "2                                        Urgent   \n",
       "3                                     Emergency   \n",
       "4                                        Urgent   \n",
       "...                                         ...   \n",
       "99995                                 Emergency   \n",
       "99996                                    Urgent   \n",
       "99997                                    Trauma   \n",
       "99998                                    Trauma   \n",
       "99999                                 Emergency   \n",
       "\n",
       "      Severity of the illness recorded at the time of admission  \\\n",
       "0                                               Moderate          \n",
       "1                                               Moderate          \n",
       "2                                               Moderate          \n",
       "3                                               Moderate          \n",
       "4                                               Moderate          \n",
       "...                                                  ...          \n",
       "99995                                           Moderate          \n",
       "99996                                           Moderate          \n",
       "99997                                              Minor          \n",
       "99998                                           Moderate          \n",
       "99999                                           Moderate          \n",
       "\n",
       "       Number of Visitors with the patient Age of the patient  \\\n",
       "0                                        2              21-30   \n",
       "1                                        4              51-60   \n",
       "2                                        2              71-80   \n",
       "3                                        4              11-20   \n",
       "4                                        2              51-60   \n",
       "...                                    ...                ...   \n",
       "99995                                    6              51-60   \n",
       "99996                                    3              21-30   \n",
       "99997                                    2              31-40   \n",
       "99998                                    3              41-50   \n",
       "99999                                    2              41-50   \n",
       "\n",
       "       Deposit at the Admission Time Stay Days by the patient  \n",
       "0                             2817.0                     0-10  \n",
       "1                             4498.0                    21-30  \n",
       "2                             4573.0                    11-20  \n",
       "3                             7202.0                    51-60  \n",
       "4                             3398.0                    51-60  \n",
       "...                              ...                      ...  \n",
       "99995                         3966.0       More than 100 Days  \n",
       "99996                         4005.0                    51-60  \n",
       "99997                         5215.0                    31-40  \n",
       "99998                         5092.0                    11-20  \n",
       "99999                         3390.0                    41-50  \n",
       "\n",
       "[100000 rows x 18 columns]"
      ],
      "text/html": "<div>\n<style scoped>\n    .dataframe tbody tr th:only-of-type {\n        vertical-align: middle;\n    }\n\n    .dataframe tbody tr th {\n        vertical-align: top;\n    }\n\n    .dataframe thead th {\n        text-align: right;\n    }\n</style>\n<table border=\"1\" class=\"dataframe\">\n  <thead>\n    <tr style=\"text-align: right;\">\n      <th></th>\n      <th>Case_ID registered in Hospital</th>\n      <th>Unique code for the Hospital</th>\n      <th>Unique code for the type of Hospital</th>\n      <th>City Code of the Hospital</th>\n      <th>Region Code of the Hospital</th>\n      <th>Number of Extra rooms available in the Hospital</th>\n      <th>Department overlooking the case</th>\n      <th>Code for the Ward type</th>\n      <th>Code for the Ward Facility</th>\n      <th>Condition of Bed in the Ward</th>\n      <th>Unique Patient Id</th>\n      <th>City Code for the patient</th>\n      <th>Admission Type registered by the Hospital</th>\n      <th>Severity of the illness recorded at the time of admission</th>\n      <th>Number of Visitors with the patient</th>\n      <th>Age of the patient</th>\n      <th>Deposit at the Admission Time</th>\n      <th>Stay Days by the patient</th>\n    </tr>\n  </thead>\n  <tbody>\n    <tr>\n      <th>0</th>\n      <td>161528</td>\n      <td>6</td>\n      <td>a</td>\n      <td>6</td>\n      <td>X</td>\n      <td>2</td>\n      <td>gynecology</td>\n      <td>R</td>\n      <td>F</td>\n      <td>4.0</td>\n      <td>45810</td>\n      <td>2.0</td>\n      <td>Urgent</td>\n      <td>Moderate</td>\n      <td>2</td>\n      <td>21-30</td>\n      <td>2817.0</td>\n      <td>0-10</td>\n    </tr>\n    <tr>\n      <th>1</th>\n      <td>159472</td>\n      <td>23</td>\n      <td>a</td>\n      <td>6</td>\n      <td>X</td>\n      <td>4</td>\n      <td>gynecology</td>\n      <td>Q</td>\n      <td>F</td>\n      <td>2.0</td>\n      <td>128565</td>\n      <td>15.0</td>\n      <td>Trauma</td>\n      <td>Moderate</td>\n      <td>4</td>\n      <td>51-60</td>\n      <td>4498.0</td>\n      <td>21-30</td>\n    </tr>\n    <tr>\n      <th>2</th>\n      <td>309765</td>\n      <td>2</td>\n      <td>c</td>\n      <td>5</td>\n      <td>Z</td>\n      <td>2</td>\n      <td>anesthesia</td>\n      <td>S</td>\n      <td>F</td>\n      <td>3.0</td>\n      <td>46565</td>\n      <td>5.0</td>\n      <td>Urgent</td>\n      <td>Moderate</td>\n      <td>2</td>\n      <td>71-80</td>\n      <td>4573.0</td>\n      <td>11-20</td>\n    </tr>\n    <tr>\n      <th>3</th>\n      <td>279614</td>\n      <td>32</td>\n      <td>f</td>\n      <td>9</td>\n      <td>Y</td>\n      <td>3</td>\n      <td>gynecology</td>\n      <td>S</td>\n      <td>B</td>\n      <td>4.0</td>\n      <td>124546</td>\n      <td>6.0</td>\n      <td>Emergency</td>\n      <td>Moderate</td>\n      <td>4</td>\n      <td>11-20</td>\n      <td>7202.0</td>\n      <td>51-60</td>\n    </tr>\n    <tr>\n      <th>4</th>\n      <td>147791</td>\n      <td>14</td>\n      <td>a</td>\n      <td>1</td>\n      <td>X</td>\n      <td>3</td>\n      <td>gynecology</td>\n      <td>S</td>\n      <td>E</td>\n      <td>2.0</td>\n      <td>22729</td>\n      <td>8.0</td>\n      <td>Urgent</td>\n      <td>Moderate</td>\n      <td>2</td>\n      <td>51-60</td>\n      <td>3398.0</td>\n      <td>51-60</td>\n    </tr>\n    <tr>\n      <th>...</th>\n      <td>...</td>\n      <td>...</td>\n      <td>...</td>\n      <td>...</td>\n      <td>...</td>\n      <td>...</td>\n      <td>...</td>\n      <td>...</td>\n      <td>...</td>\n      <td>...</td>\n      <td>...</td>\n      <td>...</td>\n      <td>...</td>\n      <td>...</td>\n      <td>...</td>\n      <td>...</td>\n      <td>...</td>\n      <td>...</td>\n    </tr>\n    <tr>\n      <th>99995</th>\n      <td>237869</td>\n      <td>12</td>\n      <td>a</td>\n      <td>9</td>\n      <td>Y</td>\n      <td>3</td>\n      <td>gynecology</td>\n      <td>R</td>\n      <td>B</td>\n      <td>3.0</td>\n      <td>82914</td>\n      <td>3.0</td>\n      <td>Emergency</td>\n      <td>Moderate</td>\n      <td>6</td>\n      <td>51-60</td>\n      <td>3966.0</td>\n      <td>More than 100 Days</td>\n    </tr>\n    <tr>\n      <th>99996</th>\n      <td>254763</td>\n      <td>28</td>\n      <td>b</td>\n      <td>11</td>\n      <td>X</td>\n      <td>2</td>\n      <td>gynecology</td>\n      <td>R</td>\n      <td>F</td>\n      <td>2.0</td>\n      <td>40026</td>\n      <td>5.0</td>\n      <td>Urgent</td>\n      <td>Moderate</td>\n      <td>3</td>\n      <td>21-30</td>\n      <td>4005.0</td>\n      <td>51-60</td>\n    </tr>\n    <tr>\n      <th>99997</th>\n      <td>69788</td>\n      <td>6</td>\n      <td>a</td>\n      <td>6</td>\n      <td>X</td>\n      <td>3</td>\n      <td>gynecology</td>\n      <td>Q</td>\n      <td>F</td>\n      <td>3.0</td>\n      <td>92346</td>\n      <td>2.0</td>\n      <td>Trauma</td>\n      <td>Minor</td>\n      <td>2</td>\n      <td>31-40</td>\n      <td>5215.0</td>\n      <td>31-40</td>\n    </tr>\n    <tr>\n      <th>99998</th>\n      <td>204442</td>\n      <td>32</td>\n      <td>f</td>\n      <td>9</td>\n      <td>Y</td>\n      <td>2</td>\n      <td>gynecology</td>\n      <td>S</td>\n      <td>B</td>\n      <td>4.0</td>\n      <td>113798</td>\n      <td>15.0</td>\n      <td>Trauma</td>\n      <td>Moderate</td>\n      <td>3</td>\n      <td>41-50</td>\n      <td>5092.0</td>\n      <td>11-20</td>\n    </tr>\n    <tr>\n      <th>99999</th>\n      <td>69647</td>\n      <td>25</td>\n      <td>e</td>\n      <td>1</td>\n      <td>X</td>\n      <td>3</td>\n      <td>gynecology</td>\n      <td>Q</td>\n      <td>E</td>\n      <td>2.0</td>\n      <td>109237</td>\n      <td>8.0</td>\n      <td>Emergency</td>\n      <td>Moderate</td>\n      <td>2</td>\n      <td>41-50</td>\n      <td>3390.0</td>\n      <td>41-50</td>\n    </tr>\n  </tbody>\n</table>\n<p>100000 rows × 18 columns</p>\n</div>"
     },
     "metadata": {},
     "execution_count": 5
    }
   ],
   "source": [
    "#Incorporamos los nombres de las columnas para mejor comprensión\n",
    "train.columns = column_list\n",
    "train"
   ]
  },
  {
   "cell_type": "code",
   "execution_count": 6,
   "metadata": {},
   "outputs": [
    {
     "output_type": "stream",
     "name": "stdout",
     "text": [
      "<class 'pandas.core.frame.DataFrame'>\nRangeIndex: 100000 entries, 0 to 99999\nData columns (total 18 columns):\n #   Column                                                     Non-Null Count   Dtype  \n---  ------                                                     --------------   -----  \n 0   Case_ID registered in Hospital                             100000 non-null  int64  \n 1   Unique code for the Hospital                               100000 non-null  int64  \n 2   Unique code for the type of Hospital                       100000 non-null  object \n 3   City Code of the Hospital                                  100000 non-null  int64  \n 4   Region Code of the Hospital                                100000 non-null  object \n 5   Number of Extra rooms available in the Hospital            100000 non-null  int64  \n 6   Department overlooking the case                            100000 non-null  object \n 7   Code for the Ward type                                     100000 non-null  object \n 8   Code for the Ward Facility                                 100000 non-null  object \n 9   Condition of Bed in the Ward                               99967 non-null   float64\n 10  Unique Patient Id                                          100000 non-null  int64  \n 11  City Code for the patient                                  98517 non-null   float64\n 12  Admission Type registered by the Hospital                  100000 non-null  object \n 13  Severity of the illness recorded at the time of admission  100000 non-null  object \n 14  Number of Visitors with the patient                        100000 non-null  int64  \n 15  Age of the patient                                         100000 non-null  object \n 16  Deposit at the Admission Time                              100000 non-null  float64\n 17  Stay Days by the patient                                   100000 non-null  object \ndtypes: float64(3), int64(6), object(9)\nmemory usage: 13.7+ MB\n"
     ]
    }
   ],
   "source": [
    "train.info()\n"
   ]
  },
  {
   "cell_type": "code",
   "execution_count": 7,
   "metadata": {},
   "outputs": [
    {
     "output_type": "execute_result",
     "data": {
      "text/plain": [
       "Case_ID registered in Hospital                                  0\n",
       "Unique code for the Hospital                                    0\n",
       "Unique code for the type of Hospital                            0\n",
       "City Code of the Hospital                                       0\n",
       "Region Code of the Hospital                                     0\n",
       "Number of Extra rooms available in the Hospital                 0\n",
       "Department overlooking the case                                 0\n",
       "Code for the Ward type                                          0\n",
       "Code for the Ward Facility                                      0\n",
       "Condition of Bed in the Ward                                   33\n",
       "Unique Patient Id                                               0\n",
       "City Code for the patient                                    1483\n",
       "Admission Type registered by the Hospital                       0\n",
       "Severity of the illness recorded at the time of admission       0\n",
       "Number of Visitors with the patient                             0\n",
       "Age of the patient                                              0\n",
       "Deposit at the Admission Time                                   0\n",
       "Stay Days by the patient                                        0\n",
       "dtype: int64"
      ]
     },
     "metadata": {},
     "execution_count": 7
    }
   ],
   "source": [
    "train.isnull().sum()"
   ]
  },
  {
   "cell_type": "code",
   "execution_count": 8,
   "metadata": {},
   "outputs": [
    {
     "output_type": "execute_result",
     "data": {
      "text/plain": [
       "2.0    38932\n",
       "3.0    34548\n",
       "4.0    18096\n",
       "1.0     8391\n",
       "Name: Condition of Bed in the Ward, dtype: int64"
      ]
     },
     "metadata": {},
     "execution_count": 8
    }
   ],
   "source": [
    "train['Condition of Bed in the Ward'].value_counts()\n"
   ]
  },
  {
   "cell_type": "code",
   "execution_count": 9,
   "metadata": {},
   "outputs": [
    {
     "output_type": "execute_result",
     "data": {
      "text/plain": [
       "       City Code of the Hospital  \\\n",
       "0                              6   \n",
       "1                              6   \n",
       "2                              5   \n",
       "3                              9   \n",
       "4                              1   \n",
       "...                          ...   \n",
       "99995                          9   \n",
       "99996                         11   \n",
       "99997                          6   \n",
       "99998                          9   \n",
       "99999                          1   \n",
       "\n",
       "       Number of Extra rooms available in the Hospital  \\\n",
       "0                                                    2   \n",
       "1                                                    4   \n",
       "2                                                    2   \n",
       "3                                                    3   \n",
       "4                                                    3   \n",
       "...                                                ...   \n",
       "99995                                                3   \n",
       "99996                                                2   \n",
       "99997                                                3   \n",
       "99998                                                2   \n",
       "99999                                                3   \n",
       "\n",
       "       Condition of Bed in the Ward  Number of Visitors with the patient  \\\n",
       "0                               4.0                                    2   \n",
       "1                               2.0                                    4   \n",
       "2                               3.0                                    2   \n",
       "3                               4.0                                    4   \n",
       "4                               2.0                                    2   \n",
       "...                             ...                                  ...   \n",
       "99995                           3.0                                    6   \n",
       "99996                           2.0                                    3   \n",
       "99997                           3.0                                    2   \n",
       "99998                           4.0                                    3   \n",
       "99999                           2.0                                    2   \n",
       "\n",
       "       Deposit at the Admission Time Department overlooking the case  \\\n",
       "0                             2817.0                      gynecology   \n",
       "1                             4498.0                      gynecology   \n",
       "2                             4573.0                      anesthesia   \n",
       "3                             7202.0                      gynecology   \n",
       "4                             3398.0                      gynecology   \n",
       "...                              ...                             ...   \n",
       "99995                         3966.0                      gynecology   \n",
       "99996                         4005.0                      gynecology   \n",
       "99997                         5215.0                      gynecology   \n",
       "99998                         5092.0                      gynecology   \n",
       "99999                         3390.0                      gynecology   \n",
       "\n",
       "      Severity of the illness recorded at the time of admission  \\\n",
       "0                                               Moderate          \n",
       "1                                               Moderate          \n",
       "2                                               Moderate          \n",
       "3                                               Moderate          \n",
       "4                                               Moderate          \n",
       "...                                                  ...          \n",
       "99995                                           Moderate          \n",
       "99996                                           Moderate          \n",
       "99997                                              Minor          \n",
       "99998                                           Moderate          \n",
       "99999                                           Moderate          \n",
       "\n",
       "      Age of the patient  \n",
       "0                  21-30  \n",
       "1                  51-60  \n",
       "2                  71-80  \n",
       "3                  11-20  \n",
       "4                  51-60  \n",
       "...                  ...  \n",
       "99995              51-60  \n",
       "99996              21-30  \n",
       "99997              31-40  \n",
       "99998              41-50  \n",
       "99999              41-50  \n",
       "\n",
       "[100000 rows x 8 columns]"
      ],
      "text/html": "<div>\n<style scoped>\n    .dataframe tbody tr th:only-of-type {\n        vertical-align: middle;\n    }\n\n    .dataframe tbody tr th {\n        vertical-align: top;\n    }\n\n    .dataframe thead th {\n        text-align: right;\n    }\n</style>\n<table border=\"1\" class=\"dataframe\">\n  <thead>\n    <tr style=\"text-align: right;\">\n      <th></th>\n      <th>City Code of the Hospital</th>\n      <th>Number of Extra rooms available in the Hospital</th>\n      <th>Condition of Bed in the Ward</th>\n      <th>Number of Visitors with the patient</th>\n      <th>Deposit at the Admission Time</th>\n      <th>Department overlooking the case</th>\n      <th>Severity of the illness recorded at the time of admission</th>\n      <th>Age of the patient</th>\n    </tr>\n  </thead>\n  <tbody>\n    <tr>\n      <th>0</th>\n      <td>6</td>\n      <td>2</td>\n      <td>4.0</td>\n      <td>2</td>\n      <td>2817.0</td>\n      <td>gynecology</td>\n      <td>Moderate</td>\n      <td>21-30</td>\n    </tr>\n    <tr>\n      <th>1</th>\n      <td>6</td>\n      <td>4</td>\n      <td>2.0</td>\n      <td>4</td>\n      <td>4498.0</td>\n      <td>gynecology</td>\n      <td>Moderate</td>\n      <td>51-60</td>\n    </tr>\n    <tr>\n      <th>2</th>\n      <td>5</td>\n      <td>2</td>\n      <td>3.0</td>\n      <td>2</td>\n      <td>4573.0</td>\n      <td>anesthesia</td>\n      <td>Moderate</td>\n      <td>71-80</td>\n    </tr>\n    <tr>\n      <th>3</th>\n      <td>9</td>\n      <td>3</td>\n      <td>4.0</td>\n      <td>4</td>\n      <td>7202.0</td>\n      <td>gynecology</td>\n      <td>Moderate</td>\n      <td>11-20</td>\n    </tr>\n    <tr>\n      <th>4</th>\n      <td>1</td>\n      <td>3</td>\n      <td>2.0</td>\n      <td>2</td>\n      <td>3398.0</td>\n      <td>gynecology</td>\n      <td>Moderate</td>\n      <td>51-60</td>\n    </tr>\n    <tr>\n      <th>...</th>\n      <td>...</td>\n      <td>...</td>\n      <td>...</td>\n      <td>...</td>\n      <td>...</td>\n      <td>...</td>\n      <td>...</td>\n      <td>...</td>\n    </tr>\n    <tr>\n      <th>99995</th>\n      <td>9</td>\n      <td>3</td>\n      <td>3.0</td>\n      <td>6</td>\n      <td>3966.0</td>\n      <td>gynecology</td>\n      <td>Moderate</td>\n      <td>51-60</td>\n    </tr>\n    <tr>\n      <th>99996</th>\n      <td>11</td>\n      <td>2</td>\n      <td>2.0</td>\n      <td>3</td>\n      <td>4005.0</td>\n      <td>gynecology</td>\n      <td>Moderate</td>\n      <td>21-30</td>\n    </tr>\n    <tr>\n      <th>99997</th>\n      <td>6</td>\n      <td>3</td>\n      <td>3.0</td>\n      <td>2</td>\n      <td>5215.0</td>\n      <td>gynecology</td>\n      <td>Minor</td>\n      <td>31-40</td>\n    </tr>\n    <tr>\n      <th>99998</th>\n      <td>9</td>\n      <td>2</td>\n      <td>4.0</td>\n      <td>3</td>\n      <td>5092.0</td>\n      <td>gynecology</td>\n      <td>Moderate</td>\n      <td>41-50</td>\n    </tr>\n    <tr>\n      <th>99999</th>\n      <td>1</td>\n      <td>3</td>\n      <td>2.0</td>\n      <td>2</td>\n      <td>3390.0</td>\n      <td>gynecology</td>\n      <td>Moderate</td>\n      <td>41-50</td>\n    </tr>\n  </tbody>\n</table>\n<p>100000 rows × 8 columns</p>\n</div>"
     },
     "metadata": {},
     "execution_count": 9
    }
   ],
   "source": [
    "#Seleccionamos las columnas más relevantes por intuición sobre la estancia de un paciente, como el número de habitaciones que hay disponibles, el deposito economico realizado, severidad de la enfermedad, la edad o si existen muchos visitantes puesto que puede influuir en el numero de personas que pueden estar a su cuidado de forma externa y en la motivación del paciente.\n",
    "train_1 = train[['City Code of the Hospital','Number of Extra rooms available in the Hospital','Condition of Bed in the Ward','Number of Visitors with the patient','Deposit at the Admission Time','Department overlooking the case', 'Severity of the illness recorded at the time of admission', 'Age of the patient']]\n",
    "train_1"
   ]
  },
  {
   "cell_type": "code",
   "execution_count": 10,
   "metadata": {},
   "outputs": [],
   "source": [
    "#Tras intentar eliminar los valores NaN en la columna Condition of Bed in the Ward sin dar resultado, se cambian por un valor que no interfiera con el resto de categorías\n",
    "train_1 = train_1.fillna(0)"
   ]
  },
  {
   "cell_type": "code",
   "execution_count": 11,
   "metadata": {},
   "outputs": [],
   "source": [
    "def codi(df):\n",
    "    '''\n",
    "    Esta función da valores numéricos a las categorías de las columnas object relevantes\n",
    "    '''\n",
    "    cols = ['Department overlooking the case', 'Severity of the illness recorded at the time of admission', 'Age of the patient']\n",
    "    for col in cols:\n",
    "        le = LabelEncoder()\n",
    "        df[col] = le.fit_transform(df[col])\n",
    "    return df\n"
   ]
  },
  {
   "cell_type": "code",
   "execution_count": 12,
   "metadata": {},
   "outputs": [
    {
     "output_type": "execute_result",
     "data": {
      "text/plain": [
       "       City Code of the Hospital  \\\n",
       "0                              6   \n",
       "1                              6   \n",
       "2                              5   \n",
       "3                              9   \n",
       "4                              1   \n",
       "...                          ...   \n",
       "99995                          9   \n",
       "99996                         11   \n",
       "99997                          6   \n",
       "99998                          9   \n",
       "99999                          1   \n",
       "\n",
       "       Number of Extra rooms available in the Hospital  \\\n",
       "0                                                    2   \n",
       "1                                                    4   \n",
       "2                                                    2   \n",
       "3                                                    3   \n",
       "4                                                    3   \n",
       "...                                                ...   \n",
       "99995                                                3   \n",
       "99996                                                2   \n",
       "99997                                                3   \n",
       "99998                                                2   \n",
       "99999                                                3   \n",
       "\n",
       "       Condition of Bed in the Ward  Number of Visitors with the patient  \\\n",
       "0                               4.0                                    2   \n",
       "1                               2.0                                    4   \n",
       "2                               3.0                                    2   \n",
       "3                               4.0                                    4   \n",
       "4                               2.0                                    2   \n",
       "...                             ...                                  ...   \n",
       "99995                           3.0                                    6   \n",
       "99996                           2.0                                    3   \n",
       "99997                           3.0                                    2   \n",
       "99998                           4.0                                    3   \n",
       "99999                           2.0                                    2   \n",
       "\n",
       "       Deposit at the Admission Time  Department overlooking the case  \\\n",
       "0                             2817.0                                2   \n",
       "1                             4498.0                                2   \n",
       "2                             4573.0                                1   \n",
       "3                             7202.0                                2   \n",
       "4                             3398.0                                2   \n",
       "...                              ...                              ...   \n",
       "99995                         3966.0                                2   \n",
       "99996                         4005.0                                2   \n",
       "99997                         5215.0                                2   \n",
       "99998                         5092.0                                2   \n",
       "99999                         3390.0                                2   \n",
       "\n",
       "       Severity of the illness recorded at the time of admission  \\\n",
       "0                                                      2           \n",
       "1                                                      2           \n",
       "2                                                      2           \n",
       "3                                                      2           \n",
       "4                                                      2           \n",
       "...                                                  ...           \n",
       "99995                                                  2           \n",
       "99996                                                  2           \n",
       "99997                                                  1           \n",
       "99998                                                  2           \n",
       "99999                                                  2           \n",
       "\n",
       "       Age of the patient  \n",
       "0                       2  \n",
       "1                       5  \n",
       "2                       7  \n",
       "3                       1  \n",
       "4                       5  \n",
       "...                   ...  \n",
       "99995                   5  \n",
       "99996                   2  \n",
       "99997                   3  \n",
       "99998                   4  \n",
       "99999                   4  \n",
       "\n",
       "[100000 rows x 8 columns]"
      ],
      "text/html": "<div>\n<style scoped>\n    .dataframe tbody tr th:only-of-type {\n        vertical-align: middle;\n    }\n\n    .dataframe tbody tr th {\n        vertical-align: top;\n    }\n\n    .dataframe thead th {\n        text-align: right;\n    }\n</style>\n<table border=\"1\" class=\"dataframe\">\n  <thead>\n    <tr style=\"text-align: right;\">\n      <th></th>\n      <th>City Code of the Hospital</th>\n      <th>Number of Extra rooms available in the Hospital</th>\n      <th>Condition of Bed in the Ward</th>\n      <th>Number of Visitors with the patient</th>\n      <th>Deposit at the Admission Time</th>\n      <th>Department overlooking the case</th>\n      <th>Severity of the illness recorded at the time of admission</th>\n      <th>Age of the patient</th>\n    </tr>\n  </thead>\n  <tbody>\n    <tr>\n      <th>0</th>\n      <td>6</td>\n      <td>2</td>\n      <td>4.0</td>\n      <td>2</td>\n      <td>2817.0</td>\n      <td>2</td>\n      <td>2</td>\n      <td>2</td>\n    </tr>\n    <tr>\n      <th>1</th>\n      <td>6</td>\n      <td>4</td>\n      <td>2.0</td>\n      <td>4</td>\n      <td>4498.0</td>\n      <td>2</td>\n      <td>2</td>\n      <td>5</td>\n    </tr>\n    <tr>\n      <th>2</th>\n      <td>5</td>\n      <td>2</td>\n      <td>3.0</td>\n      <td>2</td>\n      <td>4573.0</td>\n      <td>1</td>\n      <td>2</td>\n      <td>7</td>\n    </tr>\n    <tr>\n      <th>3</th>\n      <td>9</td>\n      <td>3</td>\n      <td>4.0</td>\n      <td>4</td>\n      <td>7202.0</td>\n      <td>2</td>\n      <td>2</td>\n      <td>1</td>\n    </tr>\n    <tr>\n      <th>4</th>\n      <td>1</td>\n      <td>3</td>\n      <td>2.0</td>\n      <td>2</td>\n      <td>3398.0</td>\n      <td>2</td>\n      <td>2</td>\n      <td>5</td>\n    </tr>\n    <tr>\n      <th>...</th>\n      <td>...</td>\n      <td>...</td>\n      <td>...</td>\n      <td>...</td>\n      <td>...</td>\n      <td>...</td>\n      <td>...</td>\n      <td>...</td>\n    </tr>\n    <tr>\n      <th>99995</th>\n      <td>9</td>\n      <td>3</td>\n      <td>3.0</td>\n      <td>6</td>\n      <td>3966.0</td>\n      <td>2</td>\n      <td>2</td>\n      <td>5</td>\n    </tr>\n    <tr>\n      <th>99996</th>\n      <td>11</td>\n      <td>2</td>\n      <td>2.0</td>\n      <td>3</td>\n      <td>4005.0</td>\n      <td>2</td>\n      <td>2</td>\n      <td>2</td>\n    </tr>\n    <tr>\n      <th>99997</th>\n      <td>6</td>\n      <td>3</td>\n      <td>3.0</td>\n      <td>2</td>\n      <td>5215.0</td>\n      <td>2</td>\n      <td>1</td>\n      <td>3</td>\n    </tr>\n    <tr>\n      <th>99998</th>\n      <td>9</td>\n      <td>2</td>\n      <td>4.0</td>\n      <td>3</td>\n      <td>5092.0</td>\n      <td>2</td>\n      <td>2</td>\n      <td>4</td>\n    </tr>\n    <tr>\n      <th>99999</th>\n      <td>1</td>\n      <td>3</td>\n      <td>2.0</td>\n      <td>2</td>\n      <td>3390.0</td>\n      <td>2</td>\n      <td>2</td>\n      <td>4</td>\n    </tr>\n  </tbody>\n</table>\n<p>100000 rows × 8 columns</p>\n</div>"
     },
     "metadata": {},
     "execution_count": 12
    }
   ],
   "source": [
    "codi(train_1)"
   ]
  },
  {
   "cell_type": "code",
   "execution_count": 13,
   "metadata": {},
   "outputs": [
    {
     "output_type": "execute_result",
     "data": {
      "text/plain": [
       "City Code of the Hospital                                    0\n",
       "Number of Extra rooms available in the Hospital              0\n",
       "Condition of Bed in the Ward                                 0\n",
       "Number of Visitors with the patient                          0\n",
       "Deposit at the Admission Time                                0\n",
       "Department overlooking the case                              0\n",
       "Severity of the illness recorded at the time of admission    0\n",
       "Age of the patient                                           0\n",
       "dtype: int64"
      ]
     },
     "metadata": {},
     "execution_count": 13
    }
   ],
   "source": [
    "train_1.isnull().sum()"
   ]
  },
  {
   "cell_type": "code",
   "execution_count": 14,
   "metadata": {},
   "outputs": [],
   "source": [
    "#En el modelo 2 cambiamos el tamaño del train\n",
    "X = np.array(train_1)\n",
    "y = np.array(train['Stay Days by the patient'])\n",
    "X_train, X_test, y_train, y_test = train_test_split(X, y, train_size=0.8, random_state=153)\n",
    "\n",
    "reg_log = Pipeline(steps=[\n",
    "    ('classifier', SVC())])\n",
    "\n",
    "logistic_params = {'classifier': [LogisticRegression()]}\n",
    "kn_params = {'classifier': [KNeighborsClassifier()]}\n",
    "svm_params = {'classifier': [SVC()]}\n",
    "\n",
    "search_space = [\n",
    "    logistic_params,\n",
    "    kn_params,\n",
    "    svm_params]\n",
    "\n",
    "clf = GridSearchCV(estimator = reg_log,\n",
    "                param_grid = search_space,\n",
    "                cv = 2,\n",
    "                verbose=1,\n",
    "                n_jobs=-1)\n",
    "\n"
   ]
  },
  {
   "cell_type": "code",
   "execution_count": 15,
   "metadata": {},
   "outputs": [
    {
     "output_type": "stream",
     "name": "stdout",
     "text": [
      "Fitting 2 folds for each of 3 candidates, totalling 6 fits\n",
      "C:\\Users\\marin\\AppData\\Local\\Programs\\Python\\Python37\\lib\\site-packages\\sklearn\\linear_model\\_logistic.py:765: ConvergenceWarning: lbfgs failed to converge (status=1):\n",
      "STOP: TOTAL NO. of ITERATIONS REACHED LIMIT.\n",
      "\n",
      "Increase the number of iterations (max_iter) or scale the data as shown in:\n",
      "    https://scikit-learn.org/stable/modules/preprocessing.html\n",
      "Please also refer to the documentation for alternative solver options:\n",
      "    https://scikit-learn.org/stable/modules/linear_model.html#logistic-regression\n",
      "  extra_warning_msg=_LOGISTIC_SOLVER_CONVERGENCE_MSG)\n"
     ]
    },
    {
     "output_type": "execute_result",
     "data": {
      "text/plain": [
       "GridSearchCV(cv=2, estimator=Pipeline(steps=[('classifier', SVC())]), n_jobs=-1,\n",
       "             param_grid=[{'classifier': [LogisticRegression()]},\n",
       "                         {'classifier': [KNeighborsClassifier()]},\n",
       "                         {'classifier': [SVC()]}],\n",
       "             verbose=1)"
      ]
     },
     "metadata": {},
     "execution_count": 15
    }
   ],
   "source": [
    "clf.fit(X_train, y_train)\n"
   ]
  },
  {
   "cell_type": "code",
   "execution_count": 16,
   "metadata": {},
   "outputs": [
    {
     "output_type": "stream",
     "name": "stdout",
     "text": [
      "{'classifier': LogisticRegression()}\n0.3327625\n"
     ]
    }
   ],
   "source": [
    "print(clf.best_params_)\n",
    "print(clf.best_score_)"
   ]
  },
  {
   "cell_type": "code",
   "execution_count": 17,
   "metadata": {},
   "outputs": [
    {
     "output_type": "stream",
     "name": "stdout",
     "text": [
      "['21-30' '21-30' '11-20' ... '21-30' '21-30' '21-30']\n"
     ]
    }
   ],
   "source": [
    "predictions = clf.predict(X_test)\n",
    "print(predictions)"
   ]
  },
  {
   "source": [
    "test = pd.read_csv('hospital_test.csv')\n",
    "test"
   ],
   "cell_type": "code",
   "metadata": {},
   "execution_count": 18,
   "outputs": [
    {
     "output_type": "execute_result",
     "data": {
      "text/plain": [
       "             0   1  2   3  4  5                   6  7  8    9      10    11  \\\n",
       "0       314114  19  a   7  Y  4          gynecology  S  C  2.0   59278   8.0   \n",
       "1       208989  15  c   5  Z  3          gynecology  S  F  2.0  102253  15.0   \n",
       "2       305872  17  e   1  X  4          gynecology  R  E  4.0    5828   4.0   \n",
       "3       266099   3  c   3  Z  4  TB & Chest disease  R  A  2.0   56642   9.0   \n",
       "4        13228   6  a   6  X  4          gynecology  R  F  1.0  116266   8.0   \n",
       "...        ...  .. ..  .. .. ..                 ... .. ..  ...     ...   ...   \n",
       "133739  318155  18  d  13  Y  6          anesthesia  Q  B  3.0  123269  25.0   \n",
       "133740  144850  27  a   7  Y  2          gynecology  S  C  2.0    1293   8.0   \n",
       "133741  180676  16  c   3  Z  3          gynecology  R  A  3.0  112921   5.0   \n",
       "133742   39933  28  b  11  X  4          gynecology  R  F  2.0     585   2.0   \n",
       "133743  116673   6  a   6  X  4  TB & Chest disease  Q  F  2.0  119482  12.0   \n",
       "\n",
       "               12        13  14     15      16  \n",
       "0       Emergency     Minor   2  41-50  4778.0  \n",
       "1          Trauma  Moderate   3  31-40  5734.0  \n",
       "2       Emergency     Minor   3  71-80  5064.0  \n",
       "3          Urgent   Extreme   4  31-40  3254.0  \n",
       "4       Emergency     Minor   3  21-30  4639.0  \n",
       "...           ...       ...  ..    ...     ...  \n",
       "133739     Urgent     Minor   4  51-60  5089.0  \n",
       "133740  Emergency  Moderate   3  61-70  6713.0  \n",
       "133741     Trauma     Minor   3  31-40  5326.0  \n",
       "133742     Trauma   Extreme   2  31-40  7072.0  \n",
       "133743     Trauma  Moderate   4  51-60  5221.0  \n",
       "\n",
       "[133744 rows x 17 columns]"
      ],
      "text/html": "<div>\n<style scoped>\n    .dataframe tbody tr th:only-of-type {\n        vertical-align: middle;\n    }\n\n    .dataframe tbody tr th {\n        vertical-align: top;\n    }\n\n    .dataframe thead th {\n        text-align: right;\n    }\n</style>\n<table border=\"1\" class=\"dataframe\">\n  <thead>\n    <tr style=\"text-align: right;\">\n      <th></th>\n      <th>0</th>\n      <th>1</th>\n      <th>2</th>\n      <th>3</th>\n      <th>4</th>\n      <th>5</th>\n      <th>6</th>\n      <th>7</th>\n      <th>8</th>\n      <th>9</th>\n      <th>10</th>\n      <th>11</th>\n      <th>12</th>\n      <th>13</th>\n      <th>14</th>\n      <th>15</th>\n      <th>16</th>\n    </tr>\n  </thead>\n  <tbody>\n    <tr>\n      <th>0</th>\n      <td>314114</td>\n      <td>19</td>\n      <td>a</td>\n      <td>7</td>\n      <td>Y</td>\n      <td>4</td>\n      <td>gynecology</td>\n      <td>S</td>\n      <td>C</td>\n      <td>2.0</td>\n      <td>59278</td>\n      <td>8.0</td>\n      <td>Emergency</td>\n      <td>Minor</td>\n      <td>2</td>\n      <td>41-50</td>\n      <td>4778.0</td>\n    </tr>\n    <tr>\n      <th>1</th>\n      <td>208989</td>\n      <td>15</td>\n      <td>c</td>\n      <td>5</td>\n      <td>Z</td>\n      <td>3</td>\n      <td>gynecology</td>\n      <td>S</td>\n      <td>F</td>\n      <td>2.0</td>\n      <td>102253</td>\n      <td>15.0</td>\n      <td>Trauma</td>\n      <td>Moderate</td>\n      <td>3</td>\n      <td>31-40</td>\n      <td>5734.0</td>\n    </tr>\n    <tr>\n      <th>2</th>\n      <td>305872</td>\n      <td>17</td>\n      <td>e</td>\n      <td>1</td>\n      <td>X</td>\n      <td>4</td>\n      <td>gynecology</td>\n      <td>R</td>\n      <td>E</td>\n      <td>4.0</td>\n      <td>5828</td>\n      <td>4.0</td>\n      <td>Emergency</td>\n      <td>Minor</td>\n      <td>3</td>\n      <td>71-80</td>\n      <td>5064.0</td>\n    </tr>\n    <tr>\n      <th>3</th>\n      <td>266099</td>\n      <td>3</td>\n      <td>c</td>\n      <td>3</td>\n      <td>Z</td>\n      <td>4</td>\n      <td>TB &amp; Chest disease</td>\n      <td>R</td>\n      <td>A</td>\n      <td>2.0</td>\n      <td>56642</td>\n      <td>9.0</td>\n      <td>Urgent</td>\n      <td>Extreme</td>\n      <td>4</td>\n      <td>31-40</td>\n      <td>3254.0</td>\n    </tr>\n    <tr>\n      <th>4</th>\n      <td>13228</td>\n      <td>6</td>\n      <td>a</td>\n      <td>6</td>\n      <td>X</td>\n      <td>4</td>\n      <td>gynecology</td>\n      <td>R</td>\n      <td>F</td>\n      <td>1.0</td>\n      <td>116266</td>\n      <td>8.0</td>\n      <td>Emergency</td>\n      <td>Minor</td>\n      <td>3</td>\n      <td>21-30</td>\n      <td>4639.0</td>\n    </tr>\n    <tr>\n      <th>...</th>\n      <td>...</td>\n      <td>...</td>\n      <td>...</td>\n      <td>...</td>\n      <td>...</td>\n      <td>...</td>\n      <td>...</td>\n      <td>...</td>\n      <td>...</td>\n      <td>...</td>\n      <td>...</td>\n      <td>...</td>\n      <td>...</td>\n      <td>...</td>\n      <td>...</td>\n      <td>...</td>\n      <td>...</td>\n    </tr>\n    <tr>\n      <th>133739</th>\n      <td>318155</td>\n      <td>18</td>\n      <td>d</td>\n      <td>13</td>\n      <td>Y</td>\n      <td>6</td>\n      <td>anesthesia</td>\n      <td>Q</td>\n      <td>B</td>\n      <td>3.0</td>\n      <td>123269</td>\n      <td>25.0</td>\n      <td>Urgent</td>\n      <td>Minor</td>\n      <td>4</td>\n      <td>51-60</td>\n      <td>5089.0</td>\n    </tr>\n    <tr>\n      <th>133740</th>\n      <td>144850</td>\n      <td>27</td>\n      <td>a</td>\n      <td>7</td>\n      <td>Y</td>\n      <td>2</td>\n      <td>gynecology</td>\n      <td>S</td>\n      <td>C</td>\n      <td>2.0</td>\n      <td>1293</td>\n      <td>8.0</td>\n      <td>Emergency</td>\n      <td>Moderate</td>\n      <td>3</td>\n      <td>61-70</td>\n      <td>6713.0</td>\n    </tr>\n    <tr>\n      <th>133741</th>\n      <td>180676</td>\n      <td>16</td>\n      <td>c</td>\n      <td>3</td>\n      <td>Z</td>\n      <td>3</td>\n      <td>gynecology</td>\n      <td>R</td>\n      <td>A</td>\n      <td>3.0</td>\n      <td>112921</td>\n      <td>5.0</td>\n      <td>Trauma</td>\n      <td>Minor</td>\n      <td>3</td>\n      <td>31-40</td>\n      <td>5326.0</td>\n    </tr>\n    <tr>\n      <th>133742</th>\n      <td>39933</td>\n      <td>28</td>\n      <td>b</td>\n      <td>11</td>\n      <td>X</td>\n      <td>4</td>\n      <td>gynecology</td>\n      <td>R</td>\n      <td>F</td>\n      <td>2.0</td>\n      <td>585</td>\n      <td>2.0</td>\n      <td>Trauma</td>\n      <td>Extreme</td>\n      <td>2</td>\n      <td>31-40</td>\n      <td>7072.0</td>\n    </tr>\n    <tr>\n      <th>133743</th>\n      <td>116673</td>\n      <td>6</td>\n      <td>a</td>\n      <td>6</td>\n      <td>X</td>\n      <td>4</td>\n      <td>TB &amp; Chest disease</td>\n      <td>Q</td>\n      <td>F</td>\n      <td>2.0</td>\n      <td>119482</td>\n      <td>12.0</td>\n      <td>Trauma</td>\n      <td>Moderate</td>\n      <td>4</td>\n      <td>51-60</td>\n      <td>5221.0</td>\n    </tr>\n  </tbody>\n</table>\n<p>133744 rows × 17 columns</p>\n</div>"
     },
     "metadata": {},
     "execution_count": 18
    }
   ]
  },
  {
   "cell_type": "code",
   "execution_count": 19,
   "metadata": {},
   "outputs": [],
   "source": [
    "column_test = column_list[0:-1]"
   ]
  },
  {
   "cell_type": "code",
   "execution_count": 20,
   "metadata": {},
   "outputs": [
    {
     "output_type": "execute_result",
     "data": {
      "text/plain": [
       "        Case_ID registered in Hospital  Unique code for the Hospital  \\\n",
       "0                               314114                            19   \n",
       "1                               208989                            15   \n",
       "2                               305872                            17   \n",
       "3                               266099                             3   \n",
       "4                                13228                             6   \n",
       "...                                ...                           ...   \n",
       "133739                          318155                            18   \n",
       "133740                          144850                            27   \n",
       "133741                          180676                            16   \n",
       "133742                           39933                            28   \n",
       "133743                          116673                             6   \n",
       "\n",
       "       Unique code for the type of Hospital  City Code of the Hospital  \\\n",
       "0                                         a                          7   \n",
       "1                                         c                          5   \n",
       "2                                         e                          1   \n",
       "3                                         c                          3   \n",
       "4                                         a                          6   \n",
       "...                                     ...                        ...   \n",
       "133739                                    d                         13   \n",
       "133740                                    a                          7   \n",
       "133741                                    c                          3   \n",
       "133742                                    b                         11   \n",
       "133743                                    a                          6   \n",
       "\n",
       "       Region Code of the Hospital  \\\n",
       "0                                Y   \n",
       "1                                Z   \n",
       "2                                X   \n",
       "3                                Z   \n",
       "4                                X   \n",
       "...                            ...   \n",
       "133739                           Y   \n",
       "133740                           Y   \n",
       "133741                           Z   \n",
       "133742                           X   \n",
       "133743                           X   \n",
       "\n",
       "        Number of Extra rooms available in the Hospital  \\\n",
       "0                                                     4   \n",
       "1                                                     3   \n",
       "2                                                     4   \n",
       "3                                                     4   \n",
       "4                                                     4   \n",
       "...                                                 ...   \n",
       "133739                                                6   \n",
       "133740                                                2   \n",
       "133741                                                3   \n",
       "133742                                                4   \n",
       "133743                                                4   \n",
       "\n",
       "       Department overlooking the case Code for the Ward type  \\\n",
       "0                           gynecology                      S   \n",
       "1                           gynecology                      S   \n",
       "2                           gynecology                      R   \n",
       "3                   TB & Chest disease                      R   \n",
       "4                           gynecology                      R   \n",
       "...                                ...                    ...   \n",
       "133739                      anesthesia                      Q   \n",
       "133740                      gynecology                      S   \n",
       "133741                      gynecology                      R   \n",
       "133742                      gynecology                      R   \n",
       "133743              TB & Chest disease                      Q   \n",
       "\n",
       "       Code for the Ward Facility  Condition of Bed in the Ward  \\\n",
       "0                               C                           2.0   \n",
       "1                               F                           2.0   \n",
       "2                               E                           4.0   \n",
       "3                               A                           2.0   \n",
       "4                               F                           1.0   \n",
       "...                           ...                           ...   \n",
       "133739                          B                           3.0   \n",
       "133740                          C                           2.0   \n",
       "133741                          A                           3.0   \n",
       "133742                          F                           2.0   \n",
       "133743                          F                           2.0   \n",
       "\n",
       "        Unique Patient Id  City Code for the patient  \\\n",
       "0                   59278                        8.0   \n",
       "1                  102253                       15.0   \n",
       "2                    5828                        4.0   \n",
       "3                   56642                        9.0   \n",
       "4                  116266                        8.0   \n",
       "...                   ...                        ...   \n",
       "133739             123269                       25.0   \n",
       "133740               1293                        8.0   \n",
       "133741             112921                        5.0   \n",
       "133742                585                        2.0   \n",
       "133743             119482                       12.0   \n",
       "\n",
       "       Admission Type registered by the Hospital  \\\n",
       "0                                      Emergency   \n",
       "1                                         Trauma   \n",
       "2                                      Emergency   \n",
       "3                                         Urgent   \n",
       "4                                      Emergency   \n",
       "...                                          ...   \n",
       "133739                                    Urgent   \n",
       "133740                                 Emergency   \n",
       "133741                                    Trauma   \n",
       "133742                                    Trauma   \n",
       "133743                                    Trauma   \n",
       "\n",
       "       Severity of the illness recorded at the time of admission  \\\n",
       "0                                                   Minor          \n",
       "1                                                Moderate          \n",
       "2                                                   Minor          \n",
       "3                                                 Extreme          \n",
       "4                                                   Minor          \n",
       "...                                                   ...          \n",
       "133739                                              Minor          \n",
       "133740                                           Moderate          \n",
       "133741                                              Minor          \n",
       "133742                                            Extreme          \n",
       "133743                                           Moderate          \n",
       "\n",
       "        Number of Visitors with the patient Age of the patient  \\\n",
       "0                                         2              41-50   \n",
       "1                                         3              31-40   \n",
       "2                                         3              71-80   \n",
       "3                                         4              31-40   \n",
       "4                                         3              21-30   \n",
       "...                                     ...                ...   \n",
       "133739                                    4              51-60   \n",
       "133740                                    3              61-70   \n",
       "133741                                    3              31-40   \n",
       "133742                                    2              31-40   \n",
       "133743                                    4              51-60   \n",
       "\n",
       "        Deposit at the Admission Time  \n",
       "0                              4778.0  \n",
       "1                              5734.0  \n",
       "2                              5064.0  \n",
       "3                              3254.0  \n",
       "4                              4639.0  \n",
       "...                               ...  \n",
       "133739                         5089.0  \n",
       "133740                         6713.0  \n",
       "133741                         5326.0  \n",
       "133742                         7072.0  \n",
       "133743                         5221.0  \n",
       "\n",
       "[133744 rows x 17 columns]"
      ],
      "text/html": "<div>\n<style scoped>\n    .dataframe tbody tr th:only-of-type {\n        vertical-align: middle;\n    }\n\n    .dataframe tbody tr th {\n        vertical-align: top;\n    }\n\n    .dataframe thead th {\n        text-align: right;\n    }\n</style>\n<table border=\"1\" class=\"dataframe\">\n  <thead>\n    <tr style=\"text-align: right;\">\n      <th></th>\n      <th>Case_ID registered in Hospital</th>\n      <th>Unique code for the Hospital</th>\n      <th>Unique code for the type of Hospital</th>\n      <th>City Code of the Hospital</th>\n      <th>Region Code of the Hospital</th>\n      <th>Number of Extra rooms available in the Hospital</th>\n      <th>Department overlooking the case</th>\n      <th>Code for the Ward type</th>\n      <th>Code for the Ward Facility</th>\n      <th>Condition of Bed in the Ward</th>\n      <th>Unique Patient Id</th>\n      <th>City Code for the patient</th>\n      <th>Admission Type registered by the Hospital</th>\n      <th>Severity of the illness recorded at the time of admission</th>\n      <th>Number of Visitors with the patient</th>\n      <th>Age of the patient</th>\n      <th>Deposit at the Admission Time</th>\n    </tr>\n  </thead>\n  <tbody>\n    <tr>\n      <th>0</th>\n      <td>314114</td>\n      <td>19</td>\n      <td>a</td>\n      <td>7</td>\n      <td>Y</td>\n      <td>4</td>\n      <td>gynecology</td>\n      <td>S</td>\n      <td>C</td>\n      <td>2.0</td>\n      <td>59278</td>\n      <td>8.0</td>\n      <td>Emergency</td>\n      <td>Minor</td>\n      <td>2</td>\n      <td>41-50</td>\n      <td>4778.0</td>\n    </tr>\n    <tr>\n      <th>1</th>\n      <td>208989</td>\n      <td>15</td>\n      <td>c</td>\n      <td>5</td>\n      <td>Z</td>\n      <td>3</td>\n      <td>gynecology</td>\n      <td>S</td>\n      <td>F</td>\n      <td>2.0</td>\n      <td>102253</td>\n      <td>15.0</td>\n      <td>Trauma</td>\n      <td>Moderate</td>\n      <td>3</td>\n      <td>31-40</td>\n      <td>5734.0</td>\n    </tr>\n    <tr>\n      <th>2</th>\n      <td>305872</td>\n      <td>17</td>\n      <td>e</td>\n      <td>1</td>\n      <td>X</td>\n      <td>4</td>\n      <td>gynecology</td>\n      <td>R</td>\n      <td>E</td>\n      <td>4.0</td>\n      <td>5828</td>\n      <td>4.0</td>\n      <td>Emergency</td>\n      <td>Minor</td>\n      <td>3</td>\n      <td>71-80</td>\n      <td>5064.0</td>\n    </tr>\n    <tr>\n      <th>3</th>\n      <td>266099</td>\n      <td>3</td>\n      <td>c</td>\n      <td>3</td>\n      <td>Z</td>\n      <td>4</td>\n      <td>TB &amp; Chest disease</td>\n      <td>R</td>\n      <td>A</td>\n      <td>2.0</td>\n      <td>56642</td>\n      <td>9.0</td>\n      <td>Urgent</td>\n      <td>Extreme</td>\n      <td>4</td>\n      <td>31-40</td>\n      <td>3254.0</td>\n    </tr>\n    <tr>\n      <th>4</th>\n      <td>13228</td>\n      <td>6</td>\n      <td>a</td>\n      <td>6</td>\n      <td>X</td>\n      <td>4</td>\n      <td>gynecology</td>\n      <td>R</td>\n      <td>F</td>\n      <td>1.0</td>\n      <td>116266</td>\n      <td>8.0</td>\n      <td>Emergency</td>\n      <td>Minor</td>\n      <td>3</td>\n      <td>21-30</td>\n      <td>4639.0</td>\n    </tr>\n    <tr>\n      <th>...</th>\n      <td>...</td>\n      <td>...</td>\n      <td>...</td>\n      <td>...</td>\n      <td>...</td>\n      <td>...</td>\n      <td>...</td>\n      <td>...</td>\n      <td>...</td>\n      <td>...</td>\n      <td>...</td>\n      <td>...</td>\n      <td>...</td>\n      <td>...</td>\n      <td>...</td>\n      <td>...</td>\n      <td>...</td>\n    </tr>\n    <tr>\n      <th>133739</th>\n      <td>318155</td>\n      <td>18</td>\n      <td>d</td>\n      <td>13</td>\n      <td>Y</td>\n      <td>6</td>\n      <td>anesthesia</td>\n      <td>Q</td>\n      <td>B</td>\n      <td>3.0</td>\n      <td>123269</td>\n      <td>25.0</td>\n      <td>Urgent</td>\n      <td>Minor</td>\n      <td>4</td>\n      <td>51-60</td>\n      <td>5089.0</td>\n    </tr>\n    <tr>\n      <th>133740</th>\n      <td>144850</td>\n      <td>27</td>\n      <td>a</td>\n      <td>7</td>\n      <td>Y</td>\n      <td>2</td>\n      <td>gynecology</td>\n      <td>S</td>\n      <td>C</td>\n      <td>2.0</td>\n      <td>1293</td>\n      <td>8.0</td>\n      <td>Emergency</td>\n      <td>Moderate</td>\n      <td>3</td>\n      <td>61-70</td>\n      <td>6713.0</td>\n    </tr>\n    <tr>\n      <th>133741</th>\n      <td>180676</td>\n      <td>16</td>\n      <td>c</td>\n      <td>3</td>\n      <td>Z</td>\n      <td>3</td>\n      <td>gynecology</td>\n      <td>R</td>\n      <td>A</td>\n      <td>3.0</td>\n      <td>112921</td>\n      <td>5.0</td>\n      <td>Trauma</td>\n      <td>Minor</td>\n      <td>3</td>\n      <td>31-40</td>\n      <td>5326.0</td>\n    </tr>\n    <tr>\n      <th>133742</th>\n      <td>39933</td>\n      <td>28</td>\n      <td>b</td>\n      <td>11</td>\n      <td>X</td>\n      <td>4</td>\n      <td>gynecology</td>\n      <td>R</td>\n      <td>F</td>\n      <td>2.0</td>\n      <td>585</td>\n      <td>2.0</td>\n      <td>Trauma</td>\n      <td>Extreme</td>\n      <td>2</td>\n      <td>31-40</td>\n      <td>7072.0</td>\n    </tr>\n    <tr>\n      <th>133743</th>\n      <td>116673</td>\n      <td>6</td>\n      <td>a</td>\n      <td>6</td>\n      <td>X</td>\n      <td>4</td>\n      <td>TB &amp; Chest disease</td>\n      <td>Q</td>\n      <td>F</td>\n      <td>2.0</td>\n      <td>119482</td>\n      <td>12.0</td>\n      <td>Trauma</td>\n      <td>Moderate</td>\n      <td>4</td>\n      <td>51-60</td>\n      <td>5221.0</td>\n    </tr>\n  </tbody>\n</table>\n<p>133744 rows × 17 columns</p>\n</div>"
     },
     "metadata": {},
     "execution_count": 20
    }
   ],
   "source": [
    "test.columns = column_test\n",
    "test"
   ]
  },
  {
   "cell_type": "code",
   "execution_count": 21,
   "metadata": {},
   "outputs": [],
   "source": [
    "test_1 = test[['City Code of the Hospital','Number of Extra rooms available in the Hospital','Condition of Bed in the Ward','Number of Visitors with the patient','Deposit at the Admission Time','Department overlooking the case', 'Severity of the illness recorded at the time of admission', 'Age of the patient']]"
   ]
  },
  {
   "cell_type": "code",
   "execution_count": 22,
   "metadata": {},
   "outputs": [],
   "source": [
    "test_1 = test_1.fillna(0)"
   ]
  },
  {
   "cell_type": "code",
   "execution_count": 23,
   "metadata": {},
   "outputs": [
    {
     "output_type": "execute_result",
     "data": {
      "text/plain": [
       "        City Code of the Hospital  \\\n",
       "0                               7   \n",
       "1                               5   \n",
       "2                               1   \n",
       "3                               3   \n",
       "4                               6   \n",
       "...                           ...   \n",
       "133739                         13   \n",
       "133740                          7   \n",
       "133741                          3   \n",
       "133742                         11   \n",
       "133743                          6   \n",
       "\n",
       "        Number of Extra rooms available in the Hospital  \\\n",
       "0                                                     4   \n",
       "1                                                     3   \n",
       "2                                                     4   \n",
       "3                                                     4   \n",
       "4                                                     4   \n",
       "...                                                 ...   \n",
       "133739                                                6   \n",
       "133740                                                2   \n",
       "133741                                                3   \n",
       "133742                                                4   \n",
       "133743                                                4   \n",
       "\n",
       "        Condition of Bed in the Ward  Number of Visitors with the patient  \\\n",
       "0                                2.0                                    2   \n",
       "1                                2.0                                    3   \n",
       "2                                4.0                                    3   \n",
       "3                                2.0                                    4   \n",
       "4                                1.0                                    3   \n",
       "...                              ...                                  ...   \n",
       "133739                           3.0                                    4   \n",
       "133740                           2.0                                    3   \n",
       "133741                           3.0                                    3   \n",
       "133742                           2.0                                    2   \n",
       "133743                           2.0                                    4   \n",
       "\n",
       "        Deposit at the Admission Time  Department overlooking the case  \\\n",
       "0                              4778.0                                2   \n",
       "1                              5734.0                                2   \n",
       "2                              5064.0                                2   \n",
       "3                              3254.0                                0   \n",
       "4                              4639.0                                2   \n",
       "...                               ...                              ...   \n",
       "133739                         5089.0                                1   \n",
       "133740                         6713.0                                2   \n",
       "133741                         5326.0                                2   \n",
       "133742                         7072.0                                2   \n",
       "133743                         5221.0                                0   \n",
       "\n",
       "        Severity of the illness recorded at the time of admission  \\\n",
       "0                                                       1           \n",
       "1                                                       2           \n",
       "2                                                       1           \n",
       "3                                                       0           \n",
       "4                                                       1           \n",
       "...                                                   ...           \n",
       "133739                                                  1           \n",
       "133740                                                  2           \n",
       "133741                                                  1           \n",
       "133742                                                  0           \n",
       "133743                                                  2           \n",
       "\n",
       "        Age of the patient  \n",
       "0                        4  \n",
       "1                        3  \n",
       "2                        7  \n",
       "3                        3  \n",
       "4                        2  \n",
       "...                    ...  \n",
       "133739                   5  \n",
       "133740                   6  \n",
       "133741                   3  \n",
       "133742                   3  \n",
       "133743                   5  \n",
       "\n",
       "[133744 rows x 8 columns]"
      ],
      "text/html": "<div>\n<style scoped>\n    .dataframe tbody tr th:only-of-type {\n        vertical-align: middle;\n    }\n\n    .dataframe tbody tr th {\n        vertical-align: top;\n    }\n\n    .dataframe thead th {\n        text-align: right;\n    }\n</style>\n<table border=\"1\" class=\"dataframe\">\n  <thead>\n    <tr style=\"text-align: right;\">\n      <th></th>\n      <th>City Code of the Hospital</th>\n      <th>Number of Extra rooms available in the Hospital</th>\n      <th>Condition of Bed in the Ward</th>\n      <th>Number of Visitors with the patient</th>\n      <th>Deposit at the Admission Time</th>\n      <th>Department overlooking the case</th>\n      <th>Severity of the illness recorded at the time of admission</th>\n      <th>Age of the patient</th>\n    </tr>\n  </thead>\n  <tbody>\n    <tr>\n      <th>0</th>\n      <td>7</td>\n      <td>4</td>\n      <td>2.0</td>\n      <td>2</td>\n      <td>4778.0</td>\n      <td>2</td>\n      <td>1</td>\n      <td>4</td>\n    </tr>\n    <tr>\n      <th>1</th>\n      <td>5</td>\n      <td>3</td>\n      <td>2.0</td>\n      <td>3</td>\n      <td>5734.0</td>\n      <td>2</td>\n      <td>2</td>\n      <td>3</td>\n    </tr>\n    <tr>\n      <th>2</th>\n      <td>1</td>\n      <td>4</td>\n      <td>4.0</td>\n      <td>3</td>\n      <td>5064.0</td>\n      <td>2</td>\n      <td>1</td>\n      <td>7</td>\n    </tr>\n    <tr>\n      <th>3</th>\n      <td>3</td>\n      <td>4</td>\n      <td>2.0</td>\n      <td>4</td>\n      <td>3254.0</td>\n      <td>0</td>\n      <td>0</td>\n      <td>3</td>\n    </tr>\n    <tr>\n      <th>4</th>\n      <td>6</td>\n      <td>4</td>\n      <td>1.0</td>\n      <td>3</td>\n      <td>4639.0</td>\n      <td>2</td>\n      <td>1</td>\n      <td>2</td>\n    </tr>\n    <tr>\n      <th>...</th>\n      <td>...</td>\n      <td>...</td>\n      <td>...</td>\n      <td>...</td>\n      <td>...</td>\n      <td>...</td>\n      <td>...</td>\n      <td>...</td>\n    </tr>\n    <tr>\n      <th>133739</th>\n      <td>13</td>\n      <td>6</td>\n      <td>3.0</td>\n      <td>4</td>\n      <td>5089.0</td>\n      <td>1</td>\n      <td>1</td>\n      <td>5</td>\n    </tr>\n    <tr>\n      <th>133740</th>\n      <td>7</td>\n      <td>2</td>\n      <td>2.0</td>\n      <td>3</td>\n      <td>6713.0</td>\n      <td>2</td>\n      <td>2</td>\n      <td>6</td>\n    </tr>\n    <tr>\n      <th>133741</th>\n      <td>3</td>\n      <td>3</td>\n      <td>3.0</td>\n      <td>3</td>\n      <td>5326.0</td>\n      <td>2</td>\n      <td>1</td>\n      <td>3</td>\n    </tr>\n    <tr>\n      <th>133742</th>\n      <td>11</td>\n      <td>4</td>\n      <td>2.0</td>\n      <td>2</td>\n      <td>7072.0</td>\n      <td>2</td>\n      <td>0</td>\n      <td>3</td>\n    </tr>\n    <tr>\n      <th>133743</th>\n      <td>6</td>\n      <td>4</td>\n      <td>2.0</td>\n      <td>4</td>\n      <td>5221.0</td>\n      <td>0</td>\n      <td>2</td>\n      <td>5</td>\n    </tr>\n  </tbody>\n</table>\n<p>133744 rows × 8 columns</p>\n</div>"
     },
     "metadata": {},
     "execution_count": 23
    }
   ],
   "source": [
    "codi(test_1)"
   ]
  },
  {
   "cell_type": "code",
   "execution_count": 24,
   "metadata": {},
   "outputs": [],
   "source": [
    "X_pred = np.array(test_1)"
   ]
  },
  {
   "cell_type": "code",
   "execution_count": 25,
   "metadata": {},
   "outputs": [
    {
     "output_type": "execute_result",
     "data": {
      "text/plain": [
       "(133744, 8)"
      ]
     },
     "metadata": {},
     "execution_count": 25
    }
   ],
   "source": [
    "X_pred.shape"
   ]
  },
  {
   "cell_type": "code",
   "execution_count": 26,
   "metadata": {},
   "outputs": [
    {
     "output_type": "execute_result",
     "data": {
      "text/plain": [
       "array(['21-30', '21-30', '21-30', ..., '11-20', '21-30', '21-30'],\n",
       "      dtype=object)"
      ]
     },
     "metadata": {},
     "execution_count": 26
    }
   ],
   "source": [
    "predictions_submit = clf.predict(X_pred)\n",
    "predictions_submit"
   ]
  },
  {
   "cell_type": "code",
   "execution_count": 27,
   "metadata": {},
   "outputs": [
    {
     "output_type": "execute_result",
     "data": {
      "text/plain": [
       "            id   days\n",
       "0       314114  11-20\n",
       "1       208989  31-40\n",
       "2       305872  81-90\n",
       "3       266099  21-30\n",
       "4        13228  31-40\n",
       "...        ...    ...\n",
       "133739  318155  41-50\n",
       "133740  144850  21-30\n",
       "133741  180676  11-20\n",
       "133742   39933  21-30\n",
       "133743  116673  71-80\n",
       "\n",
       "[133744 rows x 2 columns]"
      ],
      "text/html": "<div>\n<style scoped>\n    .dataframe tbody tr th:only-of-type {\n        vertical-align: middle;\n    }\n\n    .dataframe tbody tr th {\n        vertical-align: top;\n    }\n\n    .dataframe thead th {\n        text-align: right;\n    }\n</style>\n<table border=\"1\" class=\"dataframe\">\n  <thead>\n    <tr style=\"text-align: right;\">\n      <th></th>\n      <th>id</th>\n      <th>days</th>\n    </tr>\n  </thead>\n  <tbody>\n    <tr>\n      <th>0</th>\n      <td>314114</td>\n      <td>11-20</td>\n    </tr>\n    <tr>\n      <th>1</th>\n      <td>208989</td>\n      <td>31-40</td>\n    </tr>\n    <tr>\n      <th>2</th>\n      <td>305872</td>\n      <td>81-90</td>\n    </tr>\n    <tr>\n      <th>3</th>\n      <td>266099</td>\n      <td>21-30</td>\n    </tr>\n    <tr>\n      <th>4</th>\n      <td>13228</td>\n      <td>31-40</td>\n    </tr>\n    <tr>\n      <th>...</th>\n      <td>...</td>\n      <td>...</td>\n    </tr>\n    <tr>\n      <th>133739</th>\n      <td>318155</td>\n      <td>41-50</td>\n    </tr>\n    <tr>\n      <th>133740</th>\n      <td>144850</td>\n      <td>21-30</td>\n    </tr>\n    <tr>\n      <th>133741</th>\n      <td>180676</td>\n      <td>11-20</td>\n    </tr>\n    <tr>\n      <th>133742</th>\n      <td>39933</td>\n      <td>21-30</td>\n    </tr>\n    <tr>\n      <th>133743</th>\n      <td>116673</td>\n      <td>71-80</td>\n    </tr>\n  </tbody>\n</table>\n<p>133744 rows × 2 columns</p>\n</div>"
     },
     "metadata": {},
     "execution_count": 27
    }
   ],
   "source": [
    "#Reading sample to compare\n",
    "sample = pd.read_csv('sample_submission.csv')\n",
    "sample"
   ]
  },
  {
   "cell_type": "code",
   "execution_count": 28,
   "metadata": {},
   "outputs": [
    {
     "output_type": "execute_result",
     "data": {
      "text/plain": [
       "            id   days\n",
       "0       314114  21-30\n",
       "1       208989  21-30\n",
       "2       305872  21-30\n",
       "3       266099  31-40\n",
       "4        13228  21-30\n",
       "...        ...    ...\n",
       "133739  318155  21-30\n",
       "133740  144850  21-30\n",
       "133741  180676  11-20\n",
       "133742   39933  21-30\n",
       "133743  116673  21-30\n",
       "\n",
       "[133744 rows x 2 columns]"
      ],
      "text/html": "<div>\n<style scoped>\n    .dataframe tbody tr th:only-of-type {\n        vertical-align: middle;\n    }\n\n    .dataframe tbody tr th {\n        vertical-align: top;\n    }\n\n    .dataframe thead th {\n        text-align: right;\n    }\n</style>\n<table border=\"1\" class=\"dataframe\">\n  <thead>\n    <tr style=\"text-align: right;\">\n      <th></th>\n      <th>id</th>\n      <th>days</th>\n    </tr>\n  </thead>\n  <tbody>\n    <tr>\n      <th>0</th>\n      <td>314114</td>\n      <td>21-30</td>\n    </tr>\n    <tr>\n      <th>1</th>\n      <td>208989</td>\n      <td>21-30</td>\n    </tr>\n    <tr>\n      <th>2</th>\n      <td>305872</td>\n      <td>21-30</td>\n    </tr>\n    <tr>\n      <th>3</th>\n      <td>266099</td>\n      <td>31-40</td>\n    </tr>\n    <tr>\n      <th>4</th>\n      <td>13228</td>\n      <td>21-30</td>\n    </tr>\n    <tr>\n      <th>...</th>\n      <td>...</td>\n      <td>...</td>\n    </tr>\n    <tr>\n      <th>133739</th>\n      <td>318155</td>\n      <td>21-30</td>\n    </tr>\n    <tr>\n      <th>133740</th>\n      <td>144850</td>\n      <td>21-30</td>\n    </tr>\n    <tr>\n      <th>133741</th>\n      <td>180676</td>\n      <td>11-20</td>\n    </tr>\n    <tr>\n      <th>133742</th>\n      <td>39933</td>\n      <td>21-30</td>\n    </tr>\n    <tr>\n      <th>133743</th>\n      <td>116673</td>\n      <td>21-30</td>\n    </tr>\n  </tbody>\n</table>\n<p>133744 rows × 2 columns</p>\n</div>"
     },
     "metadata": {},
     "execution_count": 28
    }
   ],
   "source": [
    "submission = pd.DataFrame({\"id\": sample['id'], \"days\": predictions_submit})\n",
    "submission"
   ]
  },
  {
   "cell_type": "code",
   "execution_count": 29,
   "metadata": {},
   "outputs": [],
   "source": [
    "def chequeator(df_to_submit):\n",
    "    \"\"\"\n",
    "    Esta función se asegura de que tu submission tenga la forma requerida por Kaggle.\n",
    "    \n",
    "    Si es así, se guardará el dataframe en un `csv` y estará listo para subir a Kaggle.\n",
    "    \n",
    "    Si no, LEE EL MENSAJE Y HAZLE CASO.\n",
    "    \n",
    "    Si aún no:\n",
    "    - apaga tu ordenador, \n",
    "    - date una vuelta, \n",
    "    - enciendelo otra vez, \n",
    "    - abre este notebook y \n",
    "    - leelo todo de nuevo. \n",
    "    Todos nos merecemos una segunda oportunidad. También tú.\n",
    "    \"\"\"\n",
    "    if df_to_submit.shape == sample.shape:\n",
    "        if df_to_submit.columns.all() == sample.columns.all():\n",
    "            if df_to_submit.id.all() == sample.id.all():\n",
    "                print(\"You're ready to submit!\")\n",
    "                submission.to_csv(\"submission3.csv\", index = False) #muy importante el index = False\n",
    "                urllib.request.urlretrieve(\"https://i.kym-cdn.com/photos/images/facebook/000/747/556/27a.jpg\", \"gfg.png\")     \n",
    "                img = Image.open(\"gfg.png\")\n",
    "                img.show()   \n",
    "            else:\n",
    "                print(\"Check the ids and try again\")\n",
    "        else:\n",
    "            print(\"Check the names of the columns and try again\")\n",
    "    else:\n",
    "        print(\"Check the number of rows and/or columns and try again\")\n",
    "        print(\"\\nMensaje secreto de Clara: No me puedo creer que después de todo este notebook hayas hecho algún cambio en las filas de `diamonds_test.csv`. Lloro.\")"
   ]
  },
  {
   "cell_type": "code",
   "execution_count": 30,
   "metadata": {},
   "outputs": [
    {
     "output_type": "stream",
     "name": "stdout",
     "text": [
      "You're ready to submit!\n"
     ]
    }
   ],
   "source": [
    "chequeator(submission)"
   ]
  },
  {
   "cell_type": "code",
   "execution_count": null,
   "metadata": {},
   "outputs": [],
   "source": []
  }
 ]
}