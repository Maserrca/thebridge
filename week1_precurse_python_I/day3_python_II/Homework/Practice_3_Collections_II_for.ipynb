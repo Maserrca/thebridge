{
  "nbformat": 4,
  "nbformat_minor": 0,
  "metadata": {
    "kernelspec": {
      "name": "python374jvsc74a57bd0797ece2db6cd49410b212500b07c3b6429b528fb918ab6c0d0ffbc4c51c5b09e",
      "display_name": "Python 3.7.4 64-bit"
    },
    "language_info": {
      "codemirror_mode": {
        "name": "ipython",
        "version": 3
      },
      "file_extension": ".py",
      "mimetype": "text/x-python",
      "name": "python",
      "nbconvert_exporter": "python",
      "pygments_lexer": "ipython3",
      "version": "3.7.4"
    },
    "colab": {
      "name": "Practice_3_Collections_II_for.ipynb",
      "provenance": []
    },
    "metadata": {
      "interpreter": {
        "hash": "797ece2db6cd49410b212500b07c3b6429b528fb918ab6c0d0ffbc4c51c5b09e"
      }
    }
  },
  "cells": [
    {
      "cell_type": "markdown",
      "metadata": {
        "id": "NGR5PFuXu5kl"
      },
      "source": [
        "# Python | day 2 | collections & if/else & for"
      ]
    },
    {
      "cell_type": "markdown",
      "metadata": {
        "id": "uTY5vUANu5lH"
      },
      "source": [
        "### Exercise 1. "
      ]
    },
    {
      "cell_type": "markdown",
      "metadata": {
        "id": "Am86hLlOu5lK"
      },
      "source": [
        "1. Create a variable called **num_bridge** with a value of 15."
      ]
    },
    {
      "cell_type": "code",
      "metadata": {
        "id": "oR9YTpbMu5lL"
      },
      "source": [
        "num_bridge = 15"
      ],
      "execution_count": 1,
      "outputs": []
    },
    {
      "cell_type": "markdown",
      "metadata": {
        "id": "E1tTv3rvu5lN"
      },
      "source": [
        "2. Create a variable called **name_street** with the value \"Recoletos\".\n",
        "\n"
      ]
    },
    {
      "cell_type": "code",
      "metadata": {
        "id": "vcVxAO0su5lP"
      },
      "source": [
        "name_street = \"Recoletos\""
      ],
      "execution_count": 2,
      "outputs": []
    },
    {
      "cell_type": "markdown",
      "metadata": {
        "id": "6TAj0BJSu5lQ"
      },
      "source": [
        "3. Create a variable called **personal_taste** which should be `True` if you like the beach better or `False` if you rather choose mountain. \n",
        "\n",
        "```python\n",
        "Example: \n",
        "personal_taste = True\n",
        "```"
      ]
    },
    {
      "cell_type": "code",
      "metadata": {
        "id": "xc9SrDegu5lR"
      },
      "source": [
        "personal_taste = True"
      ],
      "execution_count": 3,
      "outputs": []
    },
    {
      "cell_type": "markdown",
      "metadata": {
        "id": "IdJQtM06u5lS"
      },
      "source": [
        "4. Create a variable called **nothing** like follows: `nothing = None`. `None`doesn't represent any value, something you should keep in mind if you do `if nothing:` then `nothing` acts as a boolean `False`. "
      ]
    },
    {
      "cell_type": "code",
      "metadata": {
        "id": "WN8oxrS0u5lT"
      },
      "source": [
        "nothing = None"
      ],
      "execution_count": 4,
      "outputs": []
    },
    {
      "cell_type": "markdown",
      "metadata": {
        "id": "4FL-Gaq-u5lT"
      },
      "source": [
        "5. Create a variable called **address_list**. This should be a list which contains the following: first element **name_street** and second element **num_bridge**. "
      ]
    },
    {
      "cell_type": "code",
      "metadata": {
        "id": "dLe_boApu5lU"
      },
      "source": [
        "address_list = [name_street, num_bridge]"
      ],
      "execution_count": 5,
      "outputs": []
    },
    {
      "cell_type": "markdown",
      "metadata": {
        "id": "GucLZjSqu5lU"
      },
      "source": [
        "6. Create a variable called **sleep_hours** that should contains, as a string, the hours you've slept today."
      ]
    },
    {
      "cell_type": "code",
      "metadata": {
        "id": "ZxYEbKAIu5lV"
      },
      "source": [
        "sleep_hours = \"6\""
      ],
      "execution_count": 6,
      "outputs": []
    },
    {
      "cell_type": "markdown",
      "metadata": {
        "id": "W1ZHes0-u5lV"
      },
      "source": [
        "7. Create a list called **info_list** containing every variable you've just created in the order you have done it.\n",
        "\n",
        "```python\n",
        "len(info_list) == 6\n",
        "True\n",
        "```\n",
        "\n",
        "**IMPORTANT: you will use `info_list` at some point during the ramp-up**"
      ]
    },
    {
      "cell_type": "code",
      "metadata": {
        "id": "lkmdd39du5lW"
      },
      "source": [
        "info_list = [num_bridge, name_street, personal_taste, nothing, address_list, sleep_hours]"
      ],
      "execution_count": 7,
      "outputs": []
    },
    {
      "cell_type": "markdown",
      "metadata": {
        "id": "L3jbE_vgu5lW"
      },
      "source": [
        "8. Run the following cell in order to delete every variable you've just created and keep **info_list** only.\n",
        "Print **info_list** once you've done it to check the list still exists."
      ]
    },
    {
      "cell_type": "code",
      "metadata": {
        "id": "kNGo8-7su5lX"
      },
      "source": [
        "#run this\n",
        "del num_bridge\n",
        "del name_street\n",
        "del personal_taste\n",
        "del nothing\n",
        "del address_list\n",
        "del sleep_hours"
      ],
      "execution_count": 8,
      "outputs": []
    },
    {
      "cell_type": "code",
      "metadata": {
        "id": "0Md4NA6yu5lX"
      },
      "source": [
        "print(info_list)"
      ],
      "execution_count": 9,
      "outputs": [
        {
          "output_type": "stream",
          "name": "stdout",
          "text": [
            "[15, 'Recoletos', True, None, ['Recoletos', 15], '6']\n"
          ]
        }
      ]
    },
    {
      "cell_type": "markdown",
      "metadata": {
        "id": "OSqYAq2Au5lY"
      },
      "source": [
        "### Exercise 2."
      ]
    },
    {
      "cell_type": "markdown",
      "metadata": {
        "id": "uCP42QW4u5lY"
      },
      "source": [
        "You'll need `info_list` in order to continue with this exercise. Remember don't use any variable except `info_list`. \n",
        "\n",
        "Print the following. Don't use functions and/or loops. "
      ]
    },
    {
      "cell_type": "markdown",
      "metadata": {
        "id": "Hxt8-9Jeu5lZ"
      },
      "source": [
        " 1. Sum up the street number of The Bridge and the hours you slept last night. "
      ]
    },
    {
      "cell_type": "code",
      "metadata": {
        "id": "HxqjoVQ0u5lZ"
      },
      "source": [
        "info_list[0] + int(info_list[5])"
      ],
      "execution_count": 15,
      "outputs": [
        {
          "output_type": "execute_result",
          "data": {
            "text/plain": [
              "21"
            ]
          },
          "metadata": {},
          "execution_count": 15
        }
      ]
    },
    {
      "cell_type": "markdown",
      "metadata": {
        "id": "82APkBgKu5la"
      },
      "source": [
        "2. Concatenate the street number of The Bridge, the name of the street, your personal taste and the hours you slept. All of them should be separated by `\" --> \"`."
      ]
    },
    {
      "cell_type": "code",
      "metadata": {
        "id": "icLqOMM7u5la"
      },
      "source": [
        "# [15, 'Recoletos', True, None, ['Recoletos', 15], '6']\n",
        "str(info_list[0]) + \" --> \" + info_list[1] + \" --> \" + str(info_list[2]) + \" --> \" + info_list[5]"
      ],
      "execution_count": 19,
      "outputs": [
        {
          "output_type": "execute_result",
          "data": {
            "text/plain": [
              "'15 --> Recoletos --> True --> 6'"
            ]
          },
          "metadata": {},
          "execution_count": 19
        }
      ]
    },
    {
      "cell_type": "markdown",
      "metadata": {
        "id": "ENZfEmF7u5lb"
      },
      "source": [
        "3. Access to the list which is at the fourth position of **info_list** and print the result of: \n",
        "     - The concatenation of both elements contained in the list found in fourth position of **info_list**. \n",
        "     - The multiplication of the lenght of the list and the lenght of the street's name.\n",
        "    \n",
        "   If at the fourth position of **info_list** you don't find a list, go back to Exercise 1, please. "
      ]
    },
    {
      "cell_type": "code",
      "metadata": {
        "id": "_v7jpFbBu5lb"
      },
      "source": [
        "str(info_list[4][0]) + \" \" + str(info_list[4][1])"
      ],
      "execution_count": 20,
      "outputs": [
        {
          "output_type": "execute_result",
          "data": {
            "text/plain": [
              "'Recoletos 15'"
            ]
          },
          "metadata": {},
          "execution_count": 20
        }
      ]
    },
    {
      "cell_type": "code",
      "execution_count": 22,
      "metadata": {},
      "outputs": [
        {
          "output_type": "execute_result",
          "data": {
            "text/plain": [
              "18"
            ]
          },
          "metadata": {},
          "execution_count": 22
        }
      ],
      "source": [
        "len(str(info_list[4][0])) * len(str(info_list[4][1]))"
      ]
    },
    {
      "cell_type": "markdown",
      "metadata": {
        "id": "ub6Vx_IQu5lc"
      },
      "source": [
        "### Exercise 3."
      ]
    },
    {
      "cell_type": "markdown",
      "metadata": {
        "id": "EdfP_tOIu5lc"
      },
      "source": [
        "1. Get user input using input(“Enter your age: ”). If user is 18 or older, give feedback: You are old enough to drive. If below 18 give feedback to wait for the missing amount of years."
      ]
    },
    {
      "cell_type": "code",
      "metadata": {
        "id": "Lu4Jq1dLu5ld"
      },
      "source": [
        "#Ejemplo\n",
        "x = 15\n",
        "y = 18 - x\n",
        "if x >= 18:\n",
        "    print(\"You are old enough to drive.\")\n",
        "elif x < 18:\n",
        "    print(\"you need to wait\" + \" \" + str(y) + \" \" + \"years\")"
      ],
      "execution_count": 36,
      "outputs": [
        {
          "output_type": "stream",
          "name": "stdout",
          "text": [
            "you need to wait 3 years\n"
          ]
        }
      ]
    },
    {
      "cell_type": "code",
      "execution_count": 42,
      "metadata": {},
      "outputs": [],
      "source": [
        "del(x)\n",
        "del(y)"
      ]
    },
    {
      "cell_type": "code",
      "execution_count": 49,
      "metadata": {},
      "outputs": [
        {
          "output_type": "stream",
          "name": "stdout",
          "text": [
            "you need to wait 3 years\n"
          ]
        }
      ],
      "source": [
        "age = int(input(\"Enter your age\"))\n",
        "if age >= 18:\n",
        "    print(\"You are old enough to drive.\")\n",
        "elif age < 18:\n",
        "    print(\"you need to wait\" + \" \" + str(18 - age) + \" \" + \"years\")"
      ]
    },
    {
      "cell_type": "markdown",
      "metadata": {
        "id": "uWeE9Nj4u5ld"
      },
      "source": [
        "2. Compare the values of **my_age** and **your_age** using if/else. Who is older (me or you)? Use input(“Enter your age: ”) to get **your_age** as input. **my_age** is always your age, cause you are the one coding the program. "
      ]
    },
    {
      "cell_type": "code",
      "metadata": {
        "id": "eiNHMB-wu5le"
      },
      "source": [
        "my_age = int(input(\"Enter your age\"))\n",
        "your_age = int(input(\"Enter your age\"))\n",
        "if my_age > your_age:\n",
        "    print(\"I am older than you\")\n",
        "else:\n",
        "    print(\"You are older than me\")"
      ],
      "execution_count": null,
      "outputs": []
    },
    {
      "cell_type": "markdown",
      "metadata": {
        "id": "xvHrJe6eu5le"
      },
      "source": [
        "3. Get two numbers from the user using input prompt. If a is greater than b return \"a is greater than b\", if a is less b return \"a is smaller than b\", else \"a is equal to b\"."
      ]
    },
    {
      "cell_type": "code",
      "metadata": {
        "id": "Mn1L4o8vu5le"
      },
      "source": [
        "a = int(input(\"First number\"))\n",
        "b = int(input(\"Second number\"))\n",
        "if a > b:\n",
        "    print(\"a is freater than b\")\n",
        "elif a < b:\n",
        "    print(\"a is smaller than b\")"
      ],
      "execution_count": 55,
      "outputs": [
        {
          "output_type": "stream",
          "name": "stdout",
          "text": [
            "a is smaller than b\n"
          ]
        }
      ]
    },
    {
      "cell_type": "markdown",
      "metadata": {
        "id": "pRGm3U3du5lf"
      },
      "source": [
        "### Exercise 4\n",
        "\n",
        "Learn about **for loop**\n",
        "\n",
        "Watch this video: https://www.youtube.com/watch?v=wxds6MAtUQ0\n",
        "\n",
        "Read this: https://www.w3schools.com/python/python_for_loops.asp\n",
        "\n",
        "You may need this to understand what is going on with your loops: http://www.pythontutor.com/visualize.html#mode=edit"
      ]
    },
    {
      "cell_type": "markdown",
      "metadata": {
        "id": "Ac5uC9K8u5lf"
      },
      "source": [
        "Declare four variables: \n",
        "- A string variable containing your surname. \n",
        "- Two integers variables: one, with the number of the street in which you live, and two, the age of the classmate sitting on your right. \n",
        "    If you are on the right edge of the table, look for your classmate on your left.\n",
        "    If you are on remote, choose one of your mates who are on remote too. \n",
        "- A list containing the variables you have just declared."
      ]
    },
    {
      "cell_type": "code",
      "metadata": {
        "id": "AnpV3_oau5lg"
      },
      "source": [
        "surname = \"Serrano\"\n",
        "number = 10\n",
        "isa = 24\n",
        "random_list = [surname, number, isa]"
      ],
      "execution_count": 58,
      "outputs": []
    },
    {
      "cell_type": "markdown",
      "metadata": {
        "id": "nrzv8U1au5lg"
      },
      "source": [
        "Using a **for loop** print every element of the list you've just created. \n",
        "    \n"
      ]
    },
    {
      "cell_type": "code",
      "metadata": {
        "id": "3Duk7MNru5lh"
      },
      "source": [
        "for i in random_list:\n",
        "    print(i)"
      ],
      "execution_count": 76,
      "outputs": [
        {
          "output_type": "stream",
          "name": "stdout",
          "text": [
            "Serrano\n10\n24\n"
          ]
        }
      ]
    },
    {
      "cell_type": "markdown",
      "metadata": {
        "id": "ssmsEHiau5lh"
      },
      "source": [
        "Using a **for loop** and a **if** make sure you only print the element in the list which is a string\n",
        "(Your surname). "
      ]
    },
    {
      "cell_type": "code",
      "metadata": {
        "id": "qpHjSFHVu5lh"
      },
      "source": [
        "for i in random_list:\n",
        "    if type(i) == str:\n",
        "        print(i)"
      ],
      "execution_count": 79,
      "outputs": [
        {
          "output_type": "stream",
          "name": "stdout",
          "text": [
            "Serrano\n"
          ]
        }
      ]
    },
    {
      "cell_type": "markdown",
      "metadata": {
        "id": "A8-1e74Nu5li"
      },
      "source": [
        "**Well done!**"
      ]
    },
    {
      "cell_type": "markdown",
      "metadata": {
        "id": "ziyTbPLsu5li"
      },
      "source": [
        "### Exercise 5\n",
        "\n",
        "1. The following list contains some fruits:\n",
        "    \n",
        "`fruits = ['banana', 'orange', 'mango', 'lemon']`\n",
        "\n",
        "If a fruit doesn't exist in the list add the fruit to the list and print the modified list. If the fruit exists print('That fruit already exist in the list')\n",
        "\n",
        "Note: You can solve this exercise using or not `for` loop."
      ]
    },
    {
      "cell_type": "code",
      "execution_count": 39,
      "metadata": {},
      "outputs": [
        {
          "output_type": "stream",
          "name": "stdout",
          "text": [
            "Esta fruta ya está\n"
          ]
        },
        {
          "output_type": "execute_result",
          "data": {
            "text/plain": [
              "['banana', 'orange', 'mango', 'lemon', 'fresa']"
            ]
          },
          "metadata": {},
          "execution_count": 39
        }
      ],
      "source": [
        "lista_fruits = ['banana', 'orange', 'mango', 'lemon']\n",
        "nueva_fruta = input()\n",
        "se_ha_insertado = False\n",
        "for fruta in lista_fruits:\n",
        "    if nueva_fruta in lista_fruits:\n",
        "        print(\"Esta fruta ya está\")\n",
        "        break\n",
        "    elif se_ha_insertado == False and (lista_fruits[-1] == fruta):\n",
        "        lista_fruits.append(nueva_fruta)\n",
        "        se_ha_insertado = True\n",
        "        \n",
        "lista_fruits\n"
      ]
    },
    {
      "cell_type": "code",
      "execution_count": 31,
      "metadata": {},
      "outputs": [
        {
          "output_type": "stream",
          "name": "stdout",
          "text": [
            "None\n['banana', 'orange', 'mango', 'lemon', '']\n"
          ]
        }
      ],
      "source": [
        "fruits = ['banana', 'orange', 'mango', 'lemon']\n",
        "f = input(\"Escribe una fruta\")\n",
        "if (f in fruits):\n",
        "    print(\"That fruit already exist in the list\")\n",
        "else:\n",
        "    print(fruits.append(f))\n",
        "  \n",
        "print(fruits)"
      ]
    },
    {
      "cell_type": "markdown",
      "metadata": {
        "id": "fCEJakvvu5lj"
      },
      "source": [
        "2. Prints the numbers between 0 and 70 that are multiples of 3 and 5."
      ]
    },
    {
      "cell_type": "code",
      "metadata": {
        "id": "ZvqwKGJ4u5lj"
      },
      "source": [
        "for i in range(0, 70):\n",
        "    if i % 3 == 0:\n",
        "        print(i)\n",
        "for i in range(0, 70):\n",
        "    if i % 5 == 0:\n",
        "        print(i)"
      ],
      "execution_count": 88,
      "outputs": [
        {
          "output_type": "stream",
          "name": "stdout",
          "text": [
            "0\n3\n6\n9\n12\n15\n18\n21\n24\n27\n30\n33\n36\n39\n42\n45\n48\n51\n54\n57\n60\n63\n66\n69\n0\n5\n10\n15\n20\n25\n30\n35\n40\n45\n50\n55\n60\n65\n"
          ]
        }
      ]
    },
    {
      "cell_type": "markdown",
      "metadata": {
        "id": "41JzdP1tu5lk"
      },
      "source": [
        "3. Given two lists of same lenght, create a third list which contains the sum of both of the list, element by element. \n",
        "\n",
        "```python\n",
        "Example: \n",
        "a = [1,2]\n",
        "b = [4,5]\n",
        "new_list = [5,7]\n",
        "```"
      ]
    },
    {
      "cell_type": "code",
      "metadata": {
        "id": "Pe0_yjHMu5lk"
      },
      "source": [
        "a = [1,2]\n",
        "b = [4,5]\n",
        "\n",
        "for i in range(len(a)):\n",
        "    lista = [a[i] + b [i]]\n",
        "    print(lista)\n",
        "\n",
        "    \n",
        "  \n"
      ],
      "execution_count": 11,
      "outputs": [
        {
          "output_type": "stream",
          "name": "stdout",
          "text": [
            "[5]\n[7]\n"
          ]
        }
      ]
    },
    {
      "cell_type": "code",
      "execution_count": 24,
      "metadata": {},
      "outputs": [
        {
          "output_type": "stream",
          "name": "stdout",
          "text": [
            "[5]\n[5, 7]\n"
          ]
        }
      ],
      "source": [
        "##SOLUCION\n",
        "a = [1,2]\n",
        "b = [4,5]\n",
        "\n",
        "c = []\n",
        "contador = 0 # queremos que el primer elemento de la lista tenga valor cero, si queremos que empiece por 1 podemos igualarlo a uno, o al valor que queramos\n",
        "#uso del **contador**, variable auxiliar, para tener un dominio mayor del proceso\n",
        "### REVISAR PROCESO EN PYTHONTUTOR\n",
        "\n",
        "for num in a:\n",
        "   c.append(num + b[contador])\n",
        "   contador += 1\n",
        "   print(c)"
      ]
    },
    {
      "cell_type": "code",
      "execution_count": 28,
      "metadata": {},
      "outputs": [
        {
          "output_type": "stream",
          "name": "stdout",
          "text": [
            "[[5]]\n[[5], [7]]\n"
          ]
        }
      ],
      "source": [
        "##SOLUCION CON RANGO\n",
        "\n",
        "a = [1,2]\n",
        "b = [4,5]\n",
        "c = []\n",
        "\n",
        "for i in range(len(a)): \n",
        "    c.append([a[i] + b [i]])\n",
        "    print(c)\n"
      ]
    },
    {
      "cell_type": "code",
      "execution_count": 25,
      "metadata": {},
      "outputs": [
        {
          "output_type": "execute_result",
          "data": {
            "text/plain": [
              "[5, 7]"
            ]
          },
          "metadata": {},
          "execution_count": 25
        }
      ],
      "source": [
        "## solucion con element\n",
        "a = [1,2]\n",
        "b = [4,5]\n",
        "c = []\n",
        "\n",
        "for i, elem in enumerate(a): #i para la a elem para la b\n",
        "    c.append(elem+ b [i])\n",
        "(c)\n"
      ]
    },
    {
      "cell_type": "markdown",
      "metadata": {
        "id": "RDH2wfiEu5lm"
      },
      "source": [
        "### Bonus Track"
      ]
    },
    {
      "cell_type": "code",
      "execution_count": null,
      "metadata": {},
      "outputs": [],
      "source": [
        "# Los bonus track se me acumulan pero del finde no pasan, estos han sido más difíciles, tengo que dar un gran repaso antes"
      ]
    },
    {
      "cell_type": "markdown",
      "metadata": {
        "id": "l2IFdVGZu5ln"
      },
      "source": [
        "4. Print the following pattern:\n",
        "\n",
        "```python\n",
        "1\n",
        "22\n",
        "333\n",
        "4444\n",
        "55555\n",
        "666666\n",
        "7777777\n",
        "88888888\n",
        "999999999\n",
        "```"
      ]
    },
    {
      "cell_type": "code",
      "metadata": {
        "id": "iVxHBb_Au5lo"
      },
      "source": [
        "for i in range(10):\n",
        "    print(str(i) * i)"
      ],
      "execution_count": 89,
      "outputs": [
        {
          "output_type": "stream",
          "name": "stdout",
          "text": [
            "\n1\n22\n333\n4444\n55555\n666666\n7777777\n88888888\n999999999\n"
          ]
        }
      ]
    },
    {
      "cell_type": "markdown",
      "metadata": {
        "id": "ri0ae4cau5lo"
      },
      "source": [
        "5. Get first, second best scores from the list.\n",
        "List contains duplicates."
      ]
    },
    {
      "cell_type": "code",
      "metadata": {
        "id": "pgEKJOKiu5lp"
      },
      "source": [
        "scores = [86,86,85,85,85,83,23,45,84,1,2,0]\n"
      ],
      "execution_count": 95,
      "outputs": []
    },
    {
      "cell_type": "code",
      "metadata": {
        "id": "J0CzNHjGu5lq"
      },
      "source": [],
      "execution_count": null,
      "outputs": []
    },
    {
      "cell_type": "markdown",
      "metadata": {
        "id": "1lvTRnL7u5lq"
      },
      "source": [
        "6. From the given list:\n",
        "    \n",
        "    a) Create separate lists of strings and numbers.\n",
        "\n",
        "    b) Sort the strings' list in ascending order\n",
        "\n",
        "    c) Sort the strings' list in descending order\n",
        "\n",
        "    d) Sort the number's list from lowest to highest\n",
        "\n",
        "    e) Sort the number's list from highest to lowest"
      ]
    },
    {
      "cell_type": "code",
      "metadata": {
        "id": "iCnnqwN-u5lr"
      },
      "source": [
        "gadgets = [\"Mobile\", \"Laptop\", 100, \"Camera\", 310.28, \"Speakers\", 27.00, \n",
        "           \"Television\", 1000, \"Laptop Case\", \"Camera Lens\"]"
      ],
      "execution_count": null,
      "outputs": []
    },
    {
      "cell_type": "code",
      "metadata": {
        "id": "_qZ9jfaKu5lr"
      },
      "source": [],
      "execution_count": null,
      "outputs": []
    },
    {
      "cell_type": "markdown",
      "metadata": {
        "id": "Re2REvLuu5ls"
      },
      "source": [
        "7. Make a list of ten aliens, each of which is one color: 'red', 'green', or 'blue'.\n",
        "    - You can shorten this to 'r', 'g', and 'b' if you want, but if you choose this option you have to include a comment explaining what r, g, and b stand for.\n",
        "    - Red aliens are worth 5 points, green aliens are worth 10 points, and blue aliens are worth 20 points.\n",
        "    - Use a for loop to determine the number of points a player would earn for destroying all of the aliens in your list."
      ]
    },
    {
      "cell_type": "code",
      "metadata": {
        "id": "7WR3zqFNu5lt"
      },
      "source": [],
      "execution_count": null,
      "outputs": []
    },
    {
      "cell_type": "markdown",
      "metadata": {
        "id": "EWFS7lfJu5lt"
      },
      "source": [
        "![\"hola\"](https://preview.redd.it/wk843smkri441.jpg?width=960&crop=smart&auto=webp&s=1a4d7a5ddeef38c03334d275afe3a9dd33866ce8)"
      ]
    },
    {
      "cell_type": "code",
      "metadata": {
        "id": "p7OSxr0pu5lu"
      },
      "source": [],
      "execution_count": null,
      "outputs": []
    }
  ]
}