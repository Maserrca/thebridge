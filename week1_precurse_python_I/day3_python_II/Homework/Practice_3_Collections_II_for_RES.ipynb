{
  "nbformat": 4,
  "nbformat_minor": 0,
  "metadata": {
    "kernelspec": {
      "display_name": "Python 3",
      "language": "python",
      "name": "python3"
    },
    "language_info": {
      "codemirror_mode": {
        "name": "ipython",
        "version": 3
      },
      "file_extension": ".py",
      "mimetype": "text/x-python",
      "name": "python",
      "nbconvert_exporter": "python",
      "pygments_lexer": "ipython3",
      "version": "3.8.3"
    },
    "colab": {
      "name": "Practice_3_Collections_II_for_RES.ipynb",
      "provenance": []
    }
  },
  "cells": [
    {
      "cell_type": "markdown",
      "metadata": {
        "id": "tfVI65C3OadC"
      },
      "source": [
        "# Python | day 2 | collections & if/else & for"
      ]
    },
    {
      "cell_type": "markdown",
      "metadata": {
        "id": "NLMhxFAMOadY"
      },
      "source": [
        "### Exercise 1. "
      ]
    },
    {
      "cell_type": "markdown",
      "metadata": {
        "id": "0nIG9iExOada"
      },
      "source": [
        "1. Create a variable called **num_bridge** with a value of 15."
      ]
    },
    {
      "cell_type": "code",
      "metadata": {
        "id": "GW8Wo06vOadb"
      },
      "source": [
        "num_bridge = 15"
      ],
      "execution_count": null,
      "outputs": []
    },
    {
      "cell_type": "markdown",
      "metadata": {
        "id": "H4tVKnzFOadc"
      },
      "source": [
        "2. Create a variable called **name_street** with the value \"Recoletos\".\n",
        "\n"
      ]
    },
    {
      "cell_type": "code",
      "metadata": {
        "id": "Qv44tU-6Oade"
      },
      "source": [
        "name_street = 'Recoletos'"
      ],
      "execution_count": null,
      "outputs": []
    },
    {
      "cell_type": "markdown",
      "metadata": {
        "id": "4PplfluTOade"
      },
      "source": [
        "3. Create a variable called **personal_taste** which should be `True` if you like the beach better or `False` if you rather choose mountain. \n",
        "\n",
        "```python\n",
        "Example: \n",
        "personal_taste = True\n",
        "```"
      ]
    },
    {
      "cell_type": "code",
      "metadata": {
        "id": "UjPESyBHOadf"
      },
      "source": [
        "personal_taste = False"
      ],
      "execution_count": null,
      "outputs": []
    },
    {
      "cell_type": "markdown",
      "metadata": {
        "id": "WG8xxL5gOadg"
      },
      "source": [
        "4. Create a variable called **nothing** like follows: `nothing = None`. `None`doesn't represent any value, something you should keep in mind if you do `if nothing:` then `nothing` acts as a boolean `False`. "
      ]
    },
    {
      "cell_type": "code",
      "metadata": {
        "id": "Ss6Ir6SLOadh"
      },
      "source": [
        "nothing = None"
      ],
      "execution_count": null,
      "outputs": []
    },
    {
      "cell_type": "markdown",
      "metadata": {
        "id": "lLW1IYIbOadi"
      },
      "source": [
        "5. Create a variable called **address_list**. This should be a list which contains the following: first element **name_street** and second element **num_bridge**. "
      ]
    },
    {
      "cell_type": "code",
      "metadata": {
        "id": "V9U8RFEcOadi",
        "outputId": "e0f35544-f598-46f1-c5cb-70c16952d956"
      },
      "source": [
        "address_list = [name_street, num_bridge]\n",
        "address_list"
      ],
      "execution_count": null,
      "outputs": [
        {
          "output_type": "execute_result",
          "data": {
            "text/plain": [
              "['Recoletos', 15]"
            ]
          },
          "metadata": {
            "tags": []
          },
          "execution_count": 5
        }
      ]
    },
    {
      "cell_type": "markdown",
      "metadata": {
        "id": "ExjgZE8GOadl"
      },
      "source": [
        "6. Create a variable called **sleep_hours** that should contains, as a string, the hours you've slept today."
      ]
    },
    {
      "cell_type": "code",
      "metadata": {
        "id": "h0lu3QUoOadl"
      },
      "source": [
        "sleep_hours= '8'"
      ],
      "execution_count": null,
      "outputs": []
    },
    {
      "cell_type": "markdown",
      "metadata": {
        "id": "gYxYPqboOadm"
      },
      "source": [
        "7. Create a list called **info_list** containing every variable you've just created in the order you have done it.\n",
        "\n",
        "```python\n",
        "len(info_list) == 6\n",
        "True\n",
        "```\n",
        "\n",
        "**IMPORTANT: you will use `info_list` at some point during the ramp-up**"
      ]
    },
    {
      "cell_type": "code",
      "metadata": {
        "id": "NKeIcTCnOadn",
        "outputId": "ffdc7a2e-4658-4665-9f96-089472f37fab"
      },
      "source": [
        "info_list = [num_bridge, name_street, address_list, personal_taste, nothing, sleep_hours]\n",
        "info_list"
      ],
      "execution_count": null,
      "outputs": [
        {
          "output_type": "execute_result",
          "data": {
            "text/plain": [
              "[15, 'Recoletos', ['Recoletos', 15], False, None, '8']"
            ]
          },
          "metadata": {
            "tags": []
          },
          "execution_count": 7
        }
      ]
    },
    {
      "cell_type": "markdown",
      "metadata": {
        "id": "y9SpmHIROadn"
      },
      "source": [
        "8. Run the following cell in order to delete every variable you've just created and keep **info_list** only.\n",
        "Print **info_list** once you've done it to check the list still exists."
      ]
    },
    {
      "cell_type": "code",
      "metadata": {
        "id": "OJkDqvYBOado"
      },
      "source": [
        "#run this\n",
        "del num_bridge\n",
        "del name_street\n",
        "del personal_taste\n",
        "del nothing\n",
        "del address_list\n",
        "del sleep_hours"
      ],
      "execution_count": null,
      "outputs": []
    },
    {
      "cell_type": "markdown",
      "metadata": {
        "id": "KzBqBctEOadp"
      },
      "source": [
        "### Exercise 2."
      ]
    },
    {
      "cell_type": "markdown",
      "metadata": {
        "id": "sLzbD4ndOadp"
      },
      "source": [
        "You'll need `info_list` in order to continue with this exercise. Remember don't use any variable except `info_list`. \n",
        "\n",
        "Print the following. Don't use functions and/or loops. "
      ]
    },
    {
      "cell_type": "markdown",
      "metadata": {
        "id": "zH0zdDzvOadq"
      },
      "source": [
        " 1. Sum up the street number of The Bridge and the hours you slept last night. "
      ]
    },
    {
      "cell_type": "code",
      "metadata": {
        "id": "cERw6j_0Oadq",
        "outputId": "67c27893-0cc2-4738-9934-47a4e1192f38"
      },
      "source": [
        "info_list[0] + int(info_list[5])"
      ],
      "execution_count": null,
      "outputs": [
        {
          "output_type": "execute_result",
          "data": {
            "text/plain": [
              "23"
            ]
          },
          "metadata": {
            "tags": []
          },
          "execution_count": 9
        }
      ]
    },
    {
      "cell_type": "markdown",
      "metadata": {
        "id": "yX2VIi8EOadr"
      },
      "source": [
        "2. Concatenate the street number of The Bridge, the name of the street, your personal taste and the hours you slept. All of them should be separated by `\" --> \"`."
      ]
    },
    {
      "cell_type": "code",
      "metadata": {
        "id": "D2nCse0tOadr",
        "outputId": "0001f1d9-5004-49af-9db7-f2363fd30663"
      },
      "source": [
        "concated = str(info_list[0]) + \" --> \" + info_list[1] + \" --> \" + str(info_list[3]) +  \" --> \" + str(info_list[4])\n",
        "concated"
      ],
      "execution_count": null,
      "outputs": [
        {
          "output_type": "execute_result",
          "data": {
            "text/plain": [
              "'15 --> Recoletos --> False --> None'"
            ]
          },
          "metadata": {
            "tags": []
          },
          "execution_count": 10
        }
      ]
    },
    {
      "cell_type": "markdown",
      "metadata": {
        "id": "q-jQwbU0Oads"
      },
      "source": [
        "3. Access to the list which is at the fourth position of **info_list** and print the result of: \n",
        "     - The concatenation of both elements contained in the list found in fourth position of **info_list**. \n",
        "     - The multiplication of the lenght of the list and the lenght of the street's name.\n",
        "    \n",
        "   If at the fourth position of **info_list** you don't find a list, go back to Exercise 1, please. "
      ]
    },
    {
      "cell_type": "code",
      "metadata": {
        "id": "aHPgnkL1Oadt",
        "outputId": "69cb3c85-6936-41a5-e6c6-d7fa024d9294"
      },
      "source": [
        "print (info_list[2])\n",
        "\n",
        "concated = str(info_list[2][1]) + info_list[2][0]\n",
        "print (f'\\n1. {concated}')\n",
        "\n",
        "print (f'\\n2. Result: {len(info_list[2][0]) * info_list[2][1]}')"
      ],
      "execution_count": null,
      "outputs": [
        {
          "output_type": "stream",
          "text": [
            "['Recoletos', 15]\n",
            "\n",
            "1. 15Recoletos\n",
            "\n",
            "2. Result: 135\n"
          ],
          "name": "stdout"
        }
      ]
    },
    {
      "cell_type": "markdown",
      "metadata": {
        "id": "1ZBxowTyOadu"
      },
      "source": [
        "### Exercise 3."
      ]
    },
    {
      "cell_type": "markdown",
      "metadata": {
        "id": "xVr72yR-Oadu"
      },
      "source": [
        "1. Get user input using input(“Enter your age: ”). If user is 18 or older, give feedback: You are old enough to drive. If below 18 give feedback to wait for the missing amount of years."
      ]
    },
    {
      "cell_type": "code",
      "metadata": {
        "id": "rrhunA6ROadv",
        "outputId": "b068dc26-93e9-4fa0-9242-1cfb54da305d"
      },
      "source": [
        "age = int(input(\"Enter your age:\" ))\n",
        "\n",
        "if age < 18:\n",
        "    difference = 18 - age\n",
        "    print(f\"Ha! Ha! You'll need to wait {difference} years!\")\n",
        "else:\n",
        "    print(\"You're old enough to drive\") "
      ],
      "execution_count": null,
      "outputs": [
        {
          "output_type": "stream",
          "text": [
            "Enter your age:18\n",
            "You're old enough to drive\n"
          ],
          "name": "stdout"
        }
      ]
    },
    {
      "cell_type": "markdown",
      "metadata": {
        "id": "4m8zRUpiOadv"
      },
      "source": [
        "2. Compare the values of **my_age** and **your_age** using if/else. Who is older (me or you)? Use input(“Enter your age: ”) to get **your_age** as input. **my_age** is always your age, cause you are the one coding the program. "
      ]
    },
    {
      "cell_type": "code",
      "metadata": {
        "id": "dyhH_iJcOadw",
        "outputId": "f2e7f1f4-407a-47d2-c2bf-a35a5780877e"
      },
      "source": [
        "my_age = 27\n",
        "your_age = int(input(\"Enter your age:\" ))\n",
        "\n",
        "if my_age < your_age:\n",
        "    print(f\"I'm older!\")\n",
        "else:\n",
        "    print(\"No you're not!\") "
      ],
      "execution_count": null,
      "outputs": [
        {
          "output_type": "stream",
          "text": [
            "Enter your age:3\n",
            "No you're not!\n"
          ],
          "name": "stdout"
        }
      ]
    },
    {
      "cell_type": "markdown",
      "metadata": {
        "id": "3kAeJGJrOadx"
      },
      "source": [
        "3. Get two numbers from the user using input prompt. If a is greater than b return \"a is greater than b\", if a is less b return \"a is smaller than b\", else \"a is equal to b\"."
      ]
    },
    {
      "cell_type": "code",
      "metadata": {
        "id": "ljfQz_AtOadx",
        "outputId": "45e8d140-2a71-4216-b655-e0e796bc12a7"
      },
      "source": [
        "a = int(input(\"Nuber 1:\" ))\n",
        "b = int(input(\"Number 2:\" ))\n",
        "\n",
        "if a < b:\n",
        "    print(f\"b) is bigger\")\n",
        "elif b < a:\n",
        "    print(f\"a) is bigger\")\n",
        "else:\n",
        "    print(\"They're equal!\")"
      ],
      "execution_count": null,
      "outputs": [
        {
          "output_type": "stream",
          "text": [
            "Nuber 1:5\n",
            "Number 2:4\n",
            "a) is bigger\n"
          ],
          "name": "stdout"
        }
      ]
    },
    {
      "cell_type": "markdown",
      "metadata": {
        "id": "ZZxjg9L4Oady"
      },
      "source": [
        "### Exercise 4\n",
        "\n",
        "Learn about **for loop**\n",
        "\n",
        "Watch this video: https://www.youtube.com/watch?v=wxds6MAtUQ0\n",
        "\n",
        "Read this: https://www.w3schools.com/python/python_for_loops.asp\n",
        "\n",
        "You may need this to understand what is going on with your loops: http://www.pythontutor.com/visualize.html#mode=edit"
      ]
    },
    {
      "cell_type": "markdown",
      "metadata": {
        "id": "JZUVlsJBOady"
      },
      "source": [
        "Declare four variables: \n",
        "- A string variable containing your surname. \n",
        "- Two integers variables: one, with the number of the street in which you live, and two, the age of the classmate sitting on your right. \n",
        "    If you are on the right edge of the table, look for your classmate on your left.\n",
        "    If you are on remote, choose one of your mates who are on remote too. \n",
        "- A list containing the variables you have just declared."
      ]
    },
    {
      "cell_type": "code",
      "metadata": {
        "id": "VYWhjYMIOadz"
      },
      "source": [
        "surname = 'House'\n",
        "one = 34\n",
        "two = 56\n",
        "\n",
        "a_list = [surname, one, two]"
      ],
      "execution_count": null,
      "outputs": []
    },
    {
      "cell_type": "markdown",
      "metadata": {
        "id": "beEaSJhLOad0"
      },
      "source": [
        "Using a **for loop** print every element of the list you've just created. \n",
        "    \n"
      ]
    },
    {
      "cell_type": "code",
      "metadata": {
        "id": "RN61IKNQOad0",
        "outputId": "949b4267-65c3-4b62-d98f-3c351b9706b4"
      },
      "source": [
        "for e in a_list:\n",
        "    print(e)"
      ],
      "execution_count": null,
      "outputs": [
        {
          "output_type": "stream",
          "text": [
            "House\n",
            "34\n",
            "56\n"
          ],
          "name": "stdout"
        }
      ]
    },
    {
      "cell_type": "markdown",
      "metadata": {
        "id": "xc0-RlhwOad1"
      },
      "source": [
        "Using a **for loop** and a **if** make sure you only print the element in the list which is a string\n",
        "(Your surname). "
      ]
    },
    {
      "cell_type": "code",
      "metadata": {
        "id": "jtZ8bHIsOad1",
        "outputId": "ec4208c6-9cac-4d40-9aa7-f5061d3faaad"
      },
      "source": [
        "for e in a_list:\n",
        "    if type(e) == str:\n",
        "        print(e)"
      ],
      "execution_count": null,
      "outputs": [
        {
          "output_type": "stream",
          "text": [
            "House\n"
          ],
          "name": "stdout"
        }
      ]
    },
    {
      "cell_type": "markdown",
      "metadata": {
        "id": "SJXvVI7YOad1"
      },
      "source": [
        "**Well done!**"
      ]
    },
    {
      "cell_type": "markdown",
      "metadata": {
        "id": "qWQfnXv0Oad2"
      },
      "source": [
        "### Exercise 5\n",
        "\n",
        "1. The following list contains some fruits:\n",
        "    \n",
        "`fruits = ['banana', 'orange', 'mango', 'lemon']`\n",
        "\n",
        "If a fruit doesn't exist in the list add the fruit to the list and print the modified list. If the fruit exists print('That fruit already exist in the list')\n",
        "\n",
        "Note: You can solve this exercise using or not `for` loop."
      ]
    },
    {
      "cell_type": "code",
      "metadata": {
        "id": "fObk5cvQOad2"
      },
      "source": [
        "fruits = ['banana', 'orange', 'mango', 'lemon']"
      ],
      "execution_count": null,
      "outputs": []
    },
    {
      "cell_type": "code",
      "metadata": {
        "id": "8GCq-cnUOad2",
        "outputId": "ab63254b-b0d4-4f27-cf13-2a6ed06c19bc"
      },
      "source": [
        "# Take 1\n",
        "fruit = input(\"Type the fruit here> \")\n",
        "\n",
        "if fruit in fruits:\n",
        "    print (f'- That fruit ({fruit}) already exist in the list')\n",
        "    \n",
        "else:\n",
        "    print(f'- {fruit} added to the list')\n",
        "    fruits.append(fruit)\n",
        "\n",
        "print(fruits)"
      ],
      "execution_count": null,
      "outputs": [
        {
          "output_type": "stream",
          "text": [
            "Type the fruit here> peach\n",
            "- peach added to the list\n",
            "['banana', 'orange', 'mango', 'lemon', 'peach']\n"
          ],
          "name": "stdout"
        }
      ]
    },
    {
      "cell_type": "code",
      "metadata": {
        "id": "XIW2BfcgOad3",
        "outputId": "0db490c4-bf05-4c17-c591-d7cd3718370d"
      },
      "source": [
        "# Take 2\n",
        "fruits_to_add =  ['orange', 'watermelon', 'cherimoya']\n",
        "\n",
        "for e in fruits_to_add:\n",
        "    if e in fruits:\n",
        "        print (f'- That fruit ({e}) already exist in the list')\n",
        "        \n",
        "    else:\n",
        "        print(f'- {e} added to the list')\n",
        "        fruits.append(e)\n",
        "\n",
        "print(f'\\n{fruits}')"
      ],
      "execution_count": null,
      "outputs": [
        {
          "output_type": "stream",
          "text": [
            "- That fruit (orange) already exist in the list\n",
            "- watermelon added to the list\n",
            "- cherimoya added to the list\n",
            "\n",
            "['banana', 'orange', 'mango', 'lemon', 'peach', 'watermelon', 'cherimoya']\n"
          ],
          "name": "stdout"
        }
      ]
    },
    {
      "cell_type": "markdown",
      "metadata": {
        "id": "EeZ48I5aOad3"
      },
      "source": [
        "2. Prints the numbers between 0 and 70 that are multiples of 3 and 5."
      ]
    },
    {
      "cell_type": "code",
      "metadata": {
        "id": "D0VhgDxDOad3",
        "outputId": "a6ded940-6530-4672-bc88-827af9218407"
      },
      "source": [
        "for n in range(71):\n",
        "    if n % 3 == 0 and n % 5 == 0:\n",
        "        print(n)"
      ],
      "execution_count": null,
      "outputs": [
        {
          "output_type": "stream",
          "text": [
            "0\n",
            "15\n",
            "30\n",
            "45\n",
            "60\n"
          ],
          "name": "stdout"
        }
      ]
    },
    {
      "cell_type": "markdown",
      "metadata": {
        "id": "ogcuVIH2Oad4"
      },
      "source": [
        "3. Given two lists of same lenght, create a third list which contains the sum of both of the list, element by element. \n",
        "\n",
        "```python\n",
        "Example: \n",
        "a = [1,2]\n",
        "b = [4,5]\n",
        "new_list = [5,7]\n",
        "```"
      ]
    },
    {
      "cell_type": "code",
      "metadata": {
        "id": "VaEj5xnHOad4",
        "outputId": "6f95b89a-6265-4513-d1fe-949a72e3e5cc"
      },
      "source": [
        "a = [1,2]\n",
        "b = [4,5]\n",
        "c = []\n",
        "\n",
        "for e in range(len(a)):\n",
        "    n = a[e] + b[e]\n",
        "    c.append(n)\n",
        "\n",
        "print(c)"
      ],
      "execution_count": null,
      "outputs": [
        {
          "output_type": "stream",
          "text": [
            "[5, 7]\n"
          ],
          "name": "stdout"
        }
      ]
    },
    {
      "cell_type": "markdown",
      "metadata": {
        "id": "i_epv7rNOad5"
      },
      "source": [
        "### Bonus Track"
      ]
    },
    {
      "cell_type": "markdown",
      "metadata": {
        "id": "lEK9igXpOad5"
      },
      "source": [
        "4. Print the following pattern:\n",
        "\n",
        "```python\n",
        "1\n",
        "22\n",
        "333\n",
        "4444\n",
        "55555\n",
        "666666\n",
        "7777777\n",
        "88888888\n",
        "999999999\n",
        "```"
      ]
    },
    {
      "cell_type": "code",
      "metadata": {
        "id": "WC6T6TKpOad5",
        "outputId": "7ffac284-1e7f-470b-c90f-79f878f08103"
      },
      "source": [
        "for i in range(10):\n",
        "    print(str(i)*i)"
      ],
      "execution_count": null,
      "outputs": [
        {
          "output_type": "stream",
          "text": [
            "\n",
            "1\n",
            "22\n",
            "333\n",
            "4444\n",
            "55555\n",
            "666666\n",
            "7777777\n",
            "88888888\n",
            "999999999\n"
          ],
          "name": "stdout"
        }
      ]
    },
    {
      "cell_type": "markdown",
      "metadata": {
        "id": "eKli4fdROad6"
      },
      "source": [
        "5. Get first, second best scores from the list.\n",
        "List contains duplicates."
      ]
    },
    {
      "cell_type": "code",
      "metadata": {
        "id": "MsP4R9GnOad6"
      },
      "source": [
        "scores = [86,86,85,85,85,83,23,45,84,1,2,0]"
      ],
      "execution_count": null,
      "outputs": []
    },
    {
      "cell_type": "code",
      "metadata": {
        "id": "tKja9GD7Oad6",
        "outputId": "832213ef-d5a2-4e90-8ca1-3dc3b5452321"
      },
      "source": [
        "# para calcular el máximo con la función max \n",
        "max(scores)"
      ],
      "execution_count": null,
      "outputs": [
        {
          "output_type": "execute_result",
          "data": {
            "text/plain": [
              "86"
            ]
          },
          "metadata": {
            "tags": []
          },
          "execution_count": 25
        }
      ]
    },
    {
      "cell_type": "code",
      "metadata": {
        "id": "MWfwHq0_Oad6"
      },
      "source": [
        "# para calcular el segundo mejor, pasamos a set para eliminar duplicados y eliminamos el máximo de scores y volvemos a calcular\n",
        "uniques = set(scores)\n",
        "uniques.remove(max(scores))"
      ],
      "execution_count": null,
      "outputs": []
    },
    {
      "cell_type": "code",
      "metadata": {
        "id": "-knTJW1ROad7",
        "outputId": "cf00355b-702b-4d7b-cd54-7eb33da85664"
      },
      "source": [
        "max(uniques)"
      ],
      "execution_count": null,
      "outputs": [
        {
          "output_type": "execute_result",
          "data": {
            "text/plain": [
              "85"
            ]
          },
          "metadata": {
            "tags": []
          },
          "execution_count": 27
        }
      ]
    },
    {
      "cell_type": "markdown",
      "metadata": {
        "id": "XtKnne4YOad7"
      },
      "source": [
        "6. From the given list:\n",
        "    \n",
        "    a) Create separate lists of strings and numbers.\n",
        "\n",
        "    b) Sort the strings' list in ascending order\n",
        "\n",
        "    c) Sort the strings' list in descending order\n",
        "\n",
        "    d) Sort the number's list from lowest to highest\n",
        "\n",
        "    e) Sort the number's list from highest to lowest"
      ]
    },
    {
      "cell_type": "code",
      "metadata": {
        "id": "czDAtOVCOad7"
      },
      "source": [
        "gadgets = [\"Mobile\", \"Laptop\", 100, \"Camera\", 310.28, \"Speakers\", 27.00, \n",
        "           \"Television\", 1000, \"Laptop Case\", \"Camera Lens\"]"
      ],
      "execution_count": null,
      "outputs": []
    },
    {
      "cell_type": "code",
      "metadata": {
        "id": "I_iz-pf4Oad7"
      },
      "source": [
        "strings = []\n",
        "numbers = []\n",
        "for elem in gadgets:\n",
        "    if type(elem) == str:\n",
        "        strings.append(elem)\n",
        "    elif type(elem) == int or type(elem) == float:\n",
        "        numbers.append(elem)"
      ],
      "execution_count": null,
      "outputs": []
    },
    {
      "cell_type": "code",
      "metadata": {
        "id": "pCNoANZaOad8",
        "outputId": "a8ab3c61-0c8a-4b48-dbb5-9619441b2f7e"
      },
      "source": [
        "strings"
      ],
      "execution_count": null,
      "outputs": [
        {
          "output_type": "execute_result",
          "data": {
            "text/plain": [
              "['Mobile',\n",
              " 'Laptop',\n",
              " 'Camera',\n",
              " 'Speakers',\n",
              " 'Television',\n",
              " 'Laptop Case',\n",
              " 'Camera Lens']"
            ]
          },
          "metadata": {
            "tags": []
          },
          "execution_count": 30
        }
      ]
    },
    {
      "cell_type": "code",
      "metadata": {
        "id": "7eZBjeSKOad8",
        "outputId": "1819f6dc-6576-4fd8-80ee-fff5a1f4c21a"
      },
      "source": [
        "strings.sort()\n",
        "strings"
      ],
      "execution_count": null,
      "outputs": [
        {
          "output_type": "execute_result",
          "data": {
            "text/plain": [
              "['Camera',\n",
              " 'Camera Lens',\n",
              " 'Laptop',\n",
              " 'Laptop Case',\n",
              " 'Mobile',\n",
              " 'Speakers',\n",
              " 'Television']"
            ]
          },
          "metadata": {
            "tags": []
          },
          "execution_count": 31
        }
      ]
    },
    {
      "cell_type": "code",
      "metadata": {
        "id": "tFCuydmLOad8",
        "outputId": "9cb9dee5-be5e-412e-f93c-2d517e4ac0a8"
      },
      "source": [
        "strings.sort(reverse = True)\n",
        "strings"
      ],
      "execution_count": null,
      "outputs": [
        {
          "output_type": "execute_result",
          "data": {
            "text/plain": [
              "['Television',\n",
              " 'Speakers',\n",
              " 'Mobile',\n",
              " 'Laptop Case',\n",
              " 'Laptop',\n",
              " 'Camera Lens',\n",
              " 'Camera']"
            ]
          },
          "metadata": {
            "tags": []
          },
          "execution_count": 32
        }
      ]
    },
    {
      "cell_type": "code",
      "metadata": {
        "id": "6pO-JxxKOad9",
        "outputId": "86497a83-f0d2-48a5-b168-591fdba7d7a4"
      },
      "source": [
        "numbers.sort()\n",
        "numbers"
      ],
      "execution_count": null,
      "outputs": [
        {
          "output_type": "execute_result",
          "data": {
            "text/plain": [
              "[27.0, 100, 310.28, 1000]"
            ]
          },
          "metadata": {
            "tags": []
          },
          "execution_count": 33
        }
      ]
    },
    {
      "cell_type": "code",
      "metadata": {
        "id": "a3cBG3n-Oad9",
        "outputId": "dc1b6d89-8c57-4eeb-87e0-c9ef424f493a"
      },
      "source": [
        "numbers.sort(reverse = True)\n",
        "numbers"
      ],
      "execution_count": null,
      "outputs": [
        {
          "output_type": "execute_result",
          "data": {
            "text/plain": [
              "[1000, 310.28, 100, 27.0]"
            ]
          },
          "metadata": {
            "tags": []
          },
          "execution_count": 34
        }
      ]
    },
    {
      "cell_type": "markdown",
      "metadata": {
        "id": "5o-LitBNOad9"
      },
      "source": [
        "7. Make a list of ten aliens, each of which is one color: 'red', 'green', or 'blue'.\n",
        "    - You can shorten this to 'r', 'g', and 'b' if you want, but if you choose this option you have to include a comment explaining what r, g, and b stand for.\n",
        "    - Red aliens are worth 5 points, green aliens are worth 10 points, and blue aliens are worth 20 points.\n",
        "    - Use a for loop to determine the number of points a player would earn for destroying all of the aliens in your list."
      ]
    },
    {
      "cell_type": "code",
      "metadata": {
        "id": "F-uPKzqoOad-",
        "outputId": "2596c078-b2fe-48e9-c87b-443900234234"
      },
      "source": [
        "aliens = ['red', 'green', 'blue', 'red', 'green', 'blue', 'red', 'green', 'blue', 'red']\n",
        "points = 0\n",
        "\n",
        "\n",
        "for e in aliens:\n",
        "    if e == 'red':\n",
        "        points += 5\n",
        "    elif e == 'green':\n",
        "        points += 10\n",
        "    elif e == 'blue':\n",
        "        points += 20\n",
        "print (f'Max score: {points}')"
      ],
      "execution_count": null,
      "outputs": [
        {
          "output_type": "stream",
          "text": [
            "Max score: 110\n"
          ],
          "name": "stdout"
        }
      ]
    },
    {
      "cell_type": "markdown",
      "metadata": {
        "id": "0G26iALSOad-"
      },
      "source": [
        "![\"hola\"](https://preview.redd.it/wk843smkri441.jpg?width=960&crop=smart&auto=webp&s=1a4d7a5ddeef38c03334d275afe3a9dd33866ce8)"
      ]
    },
    {
      "cell_type": "code",
      "metadata": {
        "id": "ZKYPJd_aOad-"
      },
      "source": [
        ""
      ],
      "execution_count": null,
      "outputs": []
    }
  ]
}