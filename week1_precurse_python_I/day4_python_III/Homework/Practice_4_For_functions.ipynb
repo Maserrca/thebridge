{
  "nbformat": 4,
  "nbformat_minor": 0,
  "metadata": {
    "kernelspec": {
      "name": "python374jvsc74a57bd0797ece2db6cd49410b212500b07c3b6429b528fb918ab6c0d0ffbc4c51c5b09e",
      "display_name": "Python 3.7.4 64-bit"
    },
    "language_info": {
      "codemirror_mode": {
        "name": "ipython",
        "version": 3
      },
      "file_extension": ".py",
      "mimetype": "text/x-python",
      "name": "python",
      "nbconvert_exporter": "python",
      "pygments_lexer": "ipython3",
      "version": "3.7.4"
    },
    "colab": {
      "name": "Practice_4_For_functions.ipynb",
      "provenance": []
    },
    "metadata": {
      "interpreter": {
        "hash": "797ece2db6cd49410b212500b07c3b6429b528fb918ab6c0d0ffbc4c51c5b09e"
      }
    }
  },
  "cells": [
    {
      "cell_type": "markdown",
      "metadata": {
        "id": "o1ASllXvBuRW"
      },
      "source": [
        "# Python | day 4 | for loop, functions (feat. basics & if/else) "
      ]
    },
    {
      "cell_type": "markdown",
      "metadata": {
        "id": "JZITE8hpBuRl"
      },
      "source": [
        "### Exercise 0.1 - Python Basics\n",
        "\n",
        "1. What do we use to make a line break in a print? And for a tab stop?\n",
        "\n",
        "have a look ---> http://elclubdelautodidacta.es/wp/2012/04/python-capitulo-31-exprimiendo-la-funcion-print/"
      ]
    },
    {
      "cell_type": "code",
      "metadata": {
        "id": "ceez1_Z5BuRo"
      },
      "source": [
        "print(\"ja\"); print(\"jaja\")\n",
        "print(\"oh\\tnotfunny\")\n"
      ],
      "execution_count": 112,
      "outputs": [
        {
          "output_type": "stream",
          "name": "stdout",
          "text": [
            "ja\njaja\noh\tnotfunny\n"
          ]
        }
      ]
    },
    {
      "cell_type": "markdown",
      "metadata": {
        "id": "_AcYHd_lBuRp"
      },
      "source": [
        "2. Make a converter from dollars to euros. You'll have to use input."
      ]
    },
    {
      "cell_type": "code",
      "metadata": {
        "id": "YTnaFsh9BuRq"
      },
      "source": [
        "def dollar_to_euro(ammount):\n",
        "    print(0.84 * int(ammount))\n",
        "\n",
        "ammount = input()\n",
        "\n",
        "dollar_to_euro(ammount)"
      ],
      "execution_count": 1,
      "outputs": [
        {
          "output_type": "stream",
          "name": "stdout",
          "text": [
            "0.84\n"
          ]
        }
      ]
    },
    {
      "cell_type": "markdown",
      "metadata": {
        "id": "4mZC-BPZBuRq"
      },
      "source": [
        "3. Declare two strings, one will be your first name and the other your last name. Declare your age in another variable. Print a sentence which include those variables, using ```f{}```. Wtf is that? check this out **-->** https://realpython.com/python-string-formatting/"
      ]
    },
    {
      "cell_type": "code",
      "metadata": {
        "id": "vewUIAKeBuRr"
      },
      "source": [
        "name = \"Marina\"\n",
        "lastname = \"Serrano\"\n",
        "age = 25\n",
        "\n",
        "def frase(name, lastname, age):\n",
        "    return f\"Hey, my name is {name} {lastname}, i am {age} and i have no idea of what i am doing.\"\n",
        "\n",
        "frase(\"Marina\", \"Serrano\", \"25\")"
      ],
      "execution_count": 6,
      "outputs": [
        {
          "output_type": "execute_result",
          "data": {
            "text/plain": [
              "'Hey, my name is Marina Serrano, i am 25 and i have no idea of what i am doing.'"
            ]
          },
          "metadata": {},
          "execution_count": 6
        }
      ]
    },
    {
      "cell_type": "code",
      "execution_count": 4,
      "metadata": {},
      "outputs": [
        {
          "output_type": "execute_result",
          "data": {
            "text/plain": [
              "'Hey, my name is Marina Serrano, i am 25 and i have no idea of what i am doing.'"
            ]
          },
          "metadata": {},
          "execution_count": 4
        }
      ],
      "source": [
        "frase(\"Marina\", \"Serrano\", \"25\")"
      ]
    },
    {
      "cell_type": "markdown",
      "metadata": {
        "id": "6PdvL0CrBuRs"
      },
      "source": [
        "4. Given the list `[4,7, -3]`, calculate its maximum, minimum and sum."
      ]
    },
    {
      "cell_type": "code",
      "metadata": {
        "id": "GjOrBbj8BuRt"
      },
      "source": [
        "list = [4, 7, -3]\n",
        "max(list), min(list), sum(list)\n"
      ],
      "execution_count": 11,
      "outputs": [
        {
          "output_type": "execute_result",
          "data": {
            "text/plain": [
              "(7, -3, 8)"
            ]
          },
          "metadata": {},
          "execution_count": 11
        }
      ]
    },
    {
      "cell_type": "markdown",
      "metadata": {
        "id": "l9TV60fwBuRt"
      },
      "source": [
        "5. Save the number `38.38276252728` to a variable called `number_dec` and round it to 5 decimal places.\n"
      ]
    },
    {
      "cell_type": "code",
      "metadata": {
        "id": "sjMUB33xBuRu"
      },
      "source": [
        "number_dec = 38.38276252728\n",
        "round(number_dec,5)\n"
      ],
      "execution_count": 21,
      "outputs": [
        {
          "output_type": "execute_result",
          "data": {
            "text/plain": [
              "38.38276"
            ]
          },
          "metadata": {},
          "execution_count": 21
        }
      ]
    },
    {
      "source": [
        "6. Declare a variable `phrase` with the value `\"Born to be wild\"` and make it uppercase, then lowercase, divide it by spaces, and finally, replace `\"wild\"` with `\"Geek.\"`"
      ],
      "cell_type": "markdown",
      "metadata": {
        "id": "Fhp5efApBuRv"
      }
    },
    {
      "cell_type": "code",
      "metadata": {
        "id": "cPJnjk1KBuRv"
      },
      "source": [
        "phrase = \"Born to be wild\"\n",
        "phrase.upper(), phrase.lower(), phrase.split(), phrase.replace(\"wild\", \"Geek\")\n",
        "\n"
      ],
      "execution_count": 30,
      "outputs": [
        {
          "output_type": "execute_result",
          "data": {
            "text/plain": [
              "('BORN TO BE WILD',\n",
              " 'born to be wild',\n",
              " ['Born', 'to', 'be', 'wild'],\n",
              " 'Born to be Geek')"
            ]
          },
          "metadata": {},
          "execution_count": 30
        }
      ]
    },
    {
      "cell_type": "markdown",
      "metadata": {
        "id": "f2-TR6SiBuRw"
      },
      "source": [
        "7. Create a program where two inputs are collected, and the output of the program is a boolean which tell the user whether those inputs are the same or not.\n"
      ]
    },
    {
      "cell_type": "code",
      "metadata": {
        "id": "o09KEMTIBuRx"
      },
      "source": [
        "n = input()\n",
        "t = input()\n",
        "def comprobacion(n, t):\n",
        "    if n == t:\n",
        "        print(True)\n",
        "    elif n != t:\n",
        "        print(False)\n",
        "\n",
        "comprobacion(n,t)"
      ],
      "execution_count": 34,
      "outputs": [
        {
          "output_type": "stream",
          "name": "stdout",
          "text": [
            "False\n"
          ]
        }
      ]
    },
    {
      "cell_type": "markdown",
      "metadata": {
        "id": "dwAp4XBvBuRx"
      },
      "source": [
        "### Exercise 0.2 - If/else\n",
        "\n",
        "1. Create a decission tree using if/else sentences, to determine the price of the movies ticket. If the client's age is between 5 and 15 years, both included, the price will be 5, if she/he is retired and the movie is one of the `peliculas_discount`, the price is 4. In any other case, it will be 7 euros.\n",
        "\n",
        "You should create the list of `peliculas_discount` with your favourites movies. "
      ]
    },
    {
      "cell_type": "code",
      "metadata": {
        "id": "Ck1qidT_BuRy"
      },
      "source": [
        "peliculas_discount = [\"LODR\",\"E.T\", \"Corpse Bride\", \"Sweeney Todd\",\"Harry Potter\"]\n",
        "input(\"age\")\n",
        "\n",
        "for film in (peliculas_discount):\n",
        "    if isinstance(age, int) >= 5 and isinstance(age, int) <= 15:\n",
        "       print(\"it will be 5\")\n",
        "       break\n",
        "\n",
        "    elif isinstance(age, int) >= 65 and film in peliculas_discount:\n",
        "        print(\"it will be 4\")\n",
        "        break\n",
        "\n",
        "    else:\n",
        "        print(\"it will be 7 euros\")\n",
        "        break"
      ],
      "execution_count": 115,
      "outputs": [
        {
          "output_type": "stream",
          "name": "stdout",
          "text": [
            "it will be 7 euros\n"
          ]
        }
      ]
    },
    {
      "cell_type": "markdown",
      "metadata": {
        "id": "-5IxFLIJBuRy"
      },
      "source": [
        "### Exercise 1 - For"
      ]
    },
    {
      "cell_type": "markdown",
      "metadata": {
        "id": "hA2QSvp0BuRz"
      },
      "source": [
        "1. You are witnessing an epic battle between two powerful sorcerers: Gandalf and Saruman. Each sorcerer has 10 spells of variable power in their mind and they are going to throw them one after the other. The winner of the duel will be the one who wins more of those clashes between spells. Spells are represented as a list of 10 integers whose value equals the power of the spell.\n",
        "\n",
        "```python\n",
        "gandalf = [10, 11, 13, 30, 22, 11, 10, 33, 22, 22]\n",
        "saruman = [23, 66, 12, 43, 12, 10, 44, 23, 12, 17]\n",
        "```\n",
        "\n",
        "For example:\n",
        "\n",
        "The first clash is won by Saruman: 10 against 23, wins 23\n",
        "The second clash wins Saruman: 11 against 66, wins 66\n",
        "etc.\n",
        "You will create two variables, one for each sorcerer, where the sum of clashes won will be stored. Depending on which variable is greater at the end of the duel, you will show one of the following three results on the screen:\n",
        "```\n",
        "Gandalf wins\n",
        "Saruman wins\n",
        "Tie\n",
        "```"
      ]
    },
    {
      "cell_type": "code",
      "metadata": {
        "id": "JSar3NG6BuR0"
      },
      "source": [
        "#EHHHHHHHHHHHHHHHHHHHHHHHHHHHH\n",
        "gandalf = [10, 11, 13, 30, 22, 11, 10, 33, 22, 22]\n",
        "saruman = [23, 66, 12, 43, 12, 10, 44, 23, 12, 17]\n",
        "gandalf_win = [0]\n",
        "saruman_win = [0]\n",
        "\n",
        "for i, e in enumerate(saruman):\n",
        "    if  gandalf[i] < saruman[i]:\n",
        "        saruman_win.append(1) \n",
        "    elif gandalf[i] > saruman [i]:\n",
        "       gandalf_win.append(1)\n",
        "\n",
        "if gandalf_win > saruman_win:\n",
        "    print(\"Gandalf wins, wiiiiiii\")\n",
        "elif gandalf_win < saruman_win:\n",
        "    print(\"saruman wins we will die soon\")\n",
        "else:\n",
        "    print(\"Tie, WHERE IS FRODO WITH THE RING??\")"
      ],
      "execution_count": 109,
      "outputs": [
        {
          "output_type": "stream",
          "name": "stdout",
          "text": [
            "Gandalf wins, wiiiiiii\n"
          ]
        }
      ]
    },
    {
      "cell_type": "markdown",
      "metadata": {
        "id": "DGkSQwB5BuR0"
      },
      "source": [
        "### Exercise 2 - Functions"
      ]
    },
    {
      "cell_type": "markdown",
      "metadata": {
        "id": "mP7Fa7DaBuR1"
      },
      "source": [
        "1. Write a function program to sum up two given different numbers. "
      ]
    },
    {
      "cell_type": "code",
      "metadata": {
        "id": "GwiIA2QnBuR1"
      },
      "source": [
        "def suma(x, y):\n",
        "    print(int(x) + int(y))\n",
        "\n",
        "x = input()\n",
        "y = input()\n",
        "suma(x,y)"
      ],
      "execution_count": 40,
      "outputs": [
        {
          "output_type": "stream",
          "name": "stdout",
          "text": [
            "36\n"
          ]
        }
      ]
    },
    {
      "cell_type": "markdown",
      "metadata": {
        "id": "QJB-8opUBuR2"
      },
      "source": [
        "Call the function you've just defined to sum up: \n",
        "    - 5 and 6\n",
        "    - -3 and 10\n",
        "    - 99 and 789"
      ]
    },
    {
      "cell_type": "code",
      "metadata": {
        "id": "Zu9iidgUBuR2"
      },
      "source": [
        "suma(5, 6)\n",
        "suma(3,10)\n",
        "suma(99,789)"
      ],
      "execution_count": 42,
      "outputs": [
        {
          "output_type": "stream",
          "name": "stdout",
          "text": [
            "11\n13\n888\n"
          ]
        }
      ]
    },
    {
      "cell_type": "markdown",
      "metadata": {
        "id": "_FPoP8UrBuR3"
      },
      "source": [
        "### Bonus Track"
      ]
    },
    {
      "cell_type": "markdown",
      "metadata": {
        "id": "ZEsx774dBuR3"
      },
      "source": [
        "2. Write a Python program to convert a tuple of characters into a string.\n",
        "\n",
        "    - Sample tuple: `(\"T\", \"H\", \"E\", \" \", \"B\", \"R\", \"I\", \"D\", \"G\", \"E\")`\n",
        "    - Expected output : `\"THE BRIDGE\"`\n",
        "    \n",
        "Hint: Turn it into a list. "
      ]
    },
    {
      "cell_type": "code",
      "metadata": {
        "id": "modOQsX4BuR4"
      },
      "source": [
        "tupla = (\"T\", \"H\", \"E\", \" \", \"B\", \"R\", \"I\", \"D\", \"G\", \"E\")\n",
        "\n",
        "list(tupla)\n",
        "\n",
        "\n"
      ],
      "execution_count": 98,
      "outputs": [
        {
          "output_type": "error",
          "ename": "TypeError",
          "evalue": "'list' object is not callable",
          "traceback": [
            "\u001b[1;31m---------------------------------------------------------------------------\u001b[0m",
            "\u001b[1;31mTypeError\u001b[0m                                 Traceback (most recent call last)",
            "\u001b[1;32m<ipython-input-98-7d8368369acb>\u001b[0m in \u001b[0;36m<module>\u001b[1;34m\u001b[0m\n\u001b[0;32m      1\u001b[0m \u001b[0mtupla\u001b[0m \u001b[1;33m=\u001b[0m \u001b[1;33m(\u001b[0m\u001b[1;34m\"T\"\u001b[0m\u001b[1;33m,\u001b[0m \u001b[1;34m\"H\"\u001b[0m\u001b[1;33m,\u001b[0m \u001b[1;34m\"E\"\u001b[0m\u001b[1;33m,\u001b[0m \u001b[1;34m\" \"\u001b[0m\u001b[1;33m,\u001b[0m \u001b[1;34m\"B\"\u001b[0m\u001b[1;33m,\u001b[0m \u001b[1;34m\"R\"\u001b[0m\u001b[1;33m,\u001b[0m \u001b[1;34m\"I\"\u001b[0m\u001b[1;33m,\u001b[0m \u001b[1;34m\"D\"\u001b[0m\u001b[1;33m,\u001b[0m \u001b[1;34m\"G\"\u001b[0m\u001b[1;33m,\u001b[0m \u001b[1;34m\"E\"\u001b[0m\u001b[1;33m)\u001b[0m\u001b[1;33m\u001b[0m\u001b[1;33m\u001b[0m\u001b[0m\n\u001b[1;32m----> 2\u001b[1;33m \u001b[0mlist\u001b[0m\u001b[1;33m(\u001b[0m\u001b[0mtupla\u001b[0m\u001b[1;33m)\u001b[0m\u001b[1;33m\u001b[0m\u001b[1;33m\u001b[0m\u001b[0m\n\u001b[0m\u001b[0;32m      3\u001b[0m \u001b[1;33m\u001b[0m\u001b[0m\n\u001b[0;32m      4\u001b[0m \u001b[1;33m\u001b[0m\u001b[0m\n",
            "\u001b[1;31mTypeError\u001b[0m: 'list' object is not callable"
          ]
        }
      ]
    },
    {
      "cell_type": "markdown",
      "metadata": {
        "id": "7hEaU3A1BuR4"
      },
      "source": [
        "3. Write a Python program to generate a list where the values are square of numbers between 1 and 30 (both included), and return a list of first and last 5 elements of the list."
      ]
    },
    {
      "cell_type": "code",
      "metadata": {
        "id": "cNUBkO8LBuR5"
      },
      "source": [],
      "execution_count": null,
      "outputs": []
    },
    {
      "cell_type": "markdown",
      "metadata": {
        "id": "qKJRDcBDBuR5"
      },
      "source": [
        "4. Create a program that calculates the average.\n",
        "\n",
        "The program will ask the user to specify how many numbers you want to enter, and will show a prompt to include number by number to a list, and then calculate the average of each number in that list."
      ]
    },
    {
      "cell_type": "code",
      "metadata": {
        "id": "FSXCrrNSBuR6"
      },
      "source": [],
      "execution_count": null,
      "outputs": []
    },
    {
      "cell_type": "markdown",
      "metadata": {
        "id": "TRCzMwl_BuR6"
      },
      "source": [
        "# If you made it till here you did a fantastic work!"
      ]
    },
    {
      "cell_type": "markdown",
      "metadata": {
        "id": "r7CHJEHCBuR7"
      },
      "source": [
        "![\"holo\"](https://img-9gag-fun.9cache.com/photo/aNg9wMK_460s.jpg)"
      ]
    },
    {
      "cell_type": "code",
      "metadata": {
        "id": "dWHXu-r0BuR7"
      },
      "source": [],
      "execution_count": null,
      "outputs": []
    }
  ]
}