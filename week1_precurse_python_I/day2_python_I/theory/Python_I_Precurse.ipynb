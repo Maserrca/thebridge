{
 "cells": [
  {
   "cell_type": "markdown",
   "metadata": {},
   "source": [
    "# Data Science Bootcamp - The Bridge \n",
    "## Precurso\n",
    "En este notebook vamos a ver, uno a uno, los conceptos básicos de Python. Constarán de ejercicios prácticos acompañados de una explicación teórica dada por el profesor.\n",
    "\n",
    "Los siguientes enlaces están recomendados para el alumno para profundizar y reforzar conceptos a partir de  ejercicios y ejemplos:\n",
    "\n",
    "- https://facundoq.github.io/courses/aa2018/res/02_python.html\n",
    "\n",
    "- https://www.w3resource.com/python-exercises/\n",
    "\n",
    "- https://www.practicepython.org/\n",
    "\n",
    "- https://es.slideshare.net/egutierrezru/python-paraprincipiantes\n",
    "\n",
    "- https://www.sololearn.com/Play/Python#\n",
    "\n",
    "- https://github.com/mhkmcp/Python-Bootcamp-from-Basic-to-Advanced\n",
    "\n",
    "Ejercicios avanzados:\n",
    "\n",
    "- https://github.com/darkprinx/100-plus-Python-programming-exercises-extended/tree/master/Status (++)\n",
    "\n",
    "- https://github.com/mahtab04/Python-Programming-Practice (++)\n",
    "\n",
    "- https://github.com/whojayantkumar/Python_Programs (+++)\n",
    "\n",
    "- https://www.w3resource.com/python-exercises/ (++++)\n",
    "\n",
    "- https://github.com/fupus/notebooks-ejercicios (+++++)\n",
    "\n",
    "Tutor de ayuda PythonTutor:\n",
    "\n",
    "- http://pythontutor.com/\n"
   ]
  },
  {
   "cell_type": "markdown",
   "metadata": {},
   "source": [
    "## 1. Variables y tipos\n",
    "\n",
    "### Cadenas"
   ]
  },
  {
   "cell_type": "code",
   "execution_count": null,
   "metadata": {},
   "outputs": [],
   "source": [
    "# Entero - Integer - int\n",
    "x = 7\n",
    "# Cadena - String - Lista de caracteres\n",
    "x = \"lorena\"\n",
    "print(x)\n",
    "\n",
    "x = 7\n",
    "print(x)"
   ]
  },
  {
   "cell_type": "code",
   "execution_count": null,
   "metadata": {},
   "outputs": [],
   "source": []
  },
  {
   "cell_type": "code",
   "execution_count": null,
   "metadata": {},
   "outputs": [],
   "source": [
    "# built-in\n",
    "type"
   ]
  },
  {
   "cell_type": "code",
   "execution_count": null,
   "metadata": {},
   "outputs": [],
   "source": [
    "x = 5\n",
    "y = 7\n",
    "\n",
    "z = x + y\n",
    "print(z)"
   ]
  },
  {
   "cell_type": "code",
   "execution_count": null,
   "metadata": {},
   "outputs": [],
   "source": [
    "x = \"'lorena'\\\" \"\n",
    "l = 'silvia----'\n",
    "\n",
    "g = x + l\n",
    "# Las cadenas se concatenan\n",
    "print(g)"
   ]
  },
  {
   "cell_type": "code",
   "execution_count": null,
   "metadata": {},
   "outputs": [],
   "source": [
    "print(g)"
   ]
  },
  {
   "cell_type": "code",
   "execution_count": null,
   "metadata": {},
   "outputs": [],
   "source": [
    "# type muestra el tipo de la variable\n",
    "type(g)"
   ]
  },
  {
   "cell_type": "code",
   "execution_count": null,
   "metadata": {},
   "outputs": [],
   "source": [
    "type(3)"
   ]
  },
  {
   "cell_type": "code",
   "execution_count": null,
   "metadata": {},
   "outputs": [],
   "source": [
    "# print es una función que recibe varios argumentos y cada argumento está diferenciado por la coma. Después de cada coma, la función 'print' añade un espacio.\n",
    "\n",
    "# mala praxis\n",
    "print(    g,z  ,    6,     \"cadena\")\n",
    "\n",
    "# buena praxis - PEP8\n",
    "print(g, z, 6, \"cadena\")"
   ]
  },
  {
   "cell_type": "code",
   "execution_count": 1,
   "metadata": {},
   "outputs": [
    {
     "output_type": "stream",
     "name": "stdout",
     "text": [
      "<class 'int'>\n<class 'str'>\n"
     ]
    }
   ],
   "source": [
    "# Cambiar de int a str\n",
    "# built-in\n",
    "x = 6\n",
    "print(type(x))\n",
    "x = str(6)\n",
    "print(type(x))\n",
    "\n",
    "# el primer caso es int el segundo es str porque hemos utilizado la funcion para crear cadena str()\n",
    "\n"
   ]
  },
  {
   "cell_type": "code",
   "execution_count": 5,
   "metadata": {},
   "outputs": [
    {
     "output_type": "stream",
     "name": "stdout",
     "text": [
      "56\n<class 'str'>\n56\n<class 'int'>\n63\n"
     ]
    }
   ],
   "source": [
    "# Cambiar de str a int\n",
    "s = '56'\n",
    "print(s)\n",
    "print (type(s))\n",
    "s = int(s)\n",
    "print (s)\n",
    "print(type(s))\n",
    "\n",
    "z = 7 + s\n",
    "print(z)\n",
    "\n"
   ]
  },
  {
   "cell_type": "code",
   "execution_count": 7,
   "metadata": {},
   "outputs": [
    {
     "output_type": "error",
     "ename": "ValueError",
     "evalue": "invalid literal for int() with base 10: '56a'",
     "traceback": [
      "\u001b[1;31m---------------------------------------------------------------------------\u001b[0m",
      "\u001b[1;31mValueError\u001b[0m                                Traceback (most recent call last)",
      "\u001b[1;32m<ipython-input-7-1230000389a8>\u001b[0m in \u001b[0;36m<module>\u001b[1;34m\u001b[0m\n\u001b[0;32m      1\u001b[0m \u001b[0ms\u001b[0m \u001b[1;33m=\u001b[0m \u001b[1;34m'56a'\u001b[0m\u001b[1;33m\u001b[0m\u001b[1;33m\u001b[0m\u001b[0m\n\u001b[1;32m----> 2\u001b[1;33m \u001b[0ms\u001b[0m \u001b[1;33m=\u001b[0m \u001b[0mint\u001b[0m\u001b[1;33m(\u001b[0m\u001b[0ms\u001b[0m\u001b[1;33m)\u001b[0m\u001b[1;33m\u001b[0m\u001b[1;33m\u001b[0m\u001b[0m\n\u001b[0m\u001b[0;32m      3\u001b[0m \u001b[0mprint\u001b[0m \u001b[1;33m(\u001b[0m\u001b[0ms\u001b[0m\u001b[1;33m)\u001b[0m\u001b[1;33m\u001b[0m\u001b[1;33m\u001b[0m\u001b[0m\n",
      "\u001b[1;31mValueError\u001b[0m: invalid literal for int() with base 10: '56a'"
     ]
    }
   ],
   "source": [
    "s = '56a'\n",
    "s = int(s)\n",
    "print (s)\n",
    "\n",
    "# da error porque no podemos convertir a entero (int) caracteres alfanuméricos, solo cuando la variable str esta compuesta de numeros"
   ]
  },
  {
   "cell_type": "code",
   "execution_count": 9,
   "metadata": {},
   "outputs": [
    {
     "output_type": "stream",
     "name": "stdout",
     "text": [
      "16\n"
     ]
    }
   ],
   "source": [
    "# Para ver la longitud de una lista de caracteres (lista)\n",
    "\n",
    "p = 'lista caracteres'\n",
    "print(len(p))\n"
   ]
  },
  {
   "cell_type": "code",
   "execution_count": null,
   "metadata": {},
   "outputs": [],
   "source": [
    "# String, Integer, Float, List, None (NaN), bool\n",
    "# str, int, float, list, bool\n",
    "#float es lo mismo que numeros con decimales"
   ]
  },
  {
   "cell_type": "code",
   "execution_count": 10,
   "metadata": {},
   "outputs": [
    {
     "output_type": "stream",
     "name": "stdout",
     "text": [
      "<class 'float'>\n"
     ]
    }
   ],
   "source": [
    "x = 5.875\n",
    "print(type(x))\n"
   ]
  },
  {
   "cell_type": "code",
   "execution_count": 11,
   "metadata": {},
   "outputs": [
    {
     "output_type": "stream",
     "name": "stdout",
     "text": [
      "7.875\n"
     ]
    }
   ],
   "source": [
    "o = x + 2\n",
    "print(o)"
   ]
  },
  {
   "cell_type": "code",
   "execution_count": 12,
   "metadata": {},
   "outputs": [
    {
     "output_type": "stream",
     "name": "stdout",
     "text": [
      "5\n<class 'int'>\n"
     ]
    }
   ],
   "source": [
    "x = int(x) # si lo cambio a float lo volvera decimal de entero 5.0\n",
    "print(x)\n",
    "print(type(x))\n"
   ]
  },
  {
   "cell_type": "code",
   "execution_count": null,
   "metadata": {},
   "outputs": [],
   "source": [
    "m = ((((65 + int(\"22\")) * 2))) #se conservar las reglas de la matematica \n",
    "m"
   ]
  },
  {
   "cell_type": "code",
   "execution_count": 15,
   "metadata": {},
   "outputs": [],
   "source": [
    "s= '89'"
   ]
  },
  {
   "cell_type": "code",
   "execution_count": 18,
   "metadata": {},
   "outputs": [
    {
     "output_type": "stream",
     "name": "stdout",
     "text": [
      "<class 'int'>\n"
     ]
    }
   ],
   "source": [
    "print(type(int(s)))\n"
   ]
  },
  {
   "cell_type": "code",
   "execution_count": null,
   "metadata": {},
   "outputs": [],
   "source": [
    "print(type(int(string2)))"
   ]
  },
  {
   "cell_type": "code",
   "execution_count": null,
   "metadata": {},
   "outputs": [],
   "source": [
    "# los decimales son float. Python permite las operaciones entre int y float\n",
    "# los resultados siempre que uses un float va a ser float a no ser que siguiente--> \n",
    "x = 4\n",
    "y = 4.2\n",
    "\n",
    "print(x + y)"
   ]
  },
  {
   "cell_type": "code",
   "execution_count": 20,
   "metadata": {},
   "outputs": [
    {
     "output_type": "stream",
     "name": "stdout",
     "text": [
      "3\n3.75\n"
     ]
    }
   ],
   "source": [
    "# La división normal (/) es siempre float\n",
    "# La división absoluta (//) puede ser: \n",
    "# - float si uno de los dos números (o los dos) son float\n",
    "# - int si los dos son int \n",
    "j = 15\n",
    "k = 4\n",
    "division = j // k\n",
    "print (division)\n",
    "print(j/k)\n",
    "\n",
    "\n"
   ]
  },
  {
   "cell_type": "code",
   "execution_count": 21,
   "metadata": {},
   "outputs": [
    {
     "output_type": "stream",
     "name": "stdout",
     "text": [
      "suma: 15\nresta: 9\nmultiplicacion: 36\ndivision: 4.0\ndivision_absoluta: 4\n<class 'float'>\n<class 'int'>\n"
     ]
    }
   ],
   "source": [
    "# RESUMEN DE OPERACIONES MATEMATICAS\n",
    "\n",
    "num1 = 12\n",
    "num2 = 3\n",
    "\n",
    "suma = num1 + num2\n",
    "resta = num1 - num2\n",
    "multiplicacion = num1 * num2 \n",
    "division = num1 / num2\n",
    "division_absoluta = num1 // num2\n",
    "\n",
    "print(\"suma:\", suma)\n",
    "print(\"resta:\", resta)\n",
    "print(\"multiplicacion:\", multiplicacion)\n",
    "print(\"division:\", division)\n",
    "print(\"division_absoluta:\", division_absoluta)\n",
    "print(type(division))\n",
    "print(type(division_absoluta))"
   ]
  },
  {
   "cell_type": "code",
   "execution_count": 26,
   "metadata": {},
   "outputs": [
    {
     "output_type": "execute_result",
     "data": {
      "text/plain": [
       "4"
      ]
     },
     "metadata": {},
     "execution_count": 26
    }
   ],
   "source": [
    "# Jupyter notebook permite que la última línea se imprima por pantalla ( la variable )\n",
    "\n",
    "x = 2\n",
    "k = 4\n",
    "x\n",
    "k"
   ]
  },
  {
   "cell_type": "code",
   "execution_count": 27,
   "metadata": {},
   "outputs": [
    {
     "output_type": "execute_result",
     "data": {
      "text/plain": [
       "2"
      ]
     },
     "metadata": {},
     "execution_count": 27
    }
   ],
   "source": [
    "# Jupyter notebook permite que la última línea se imprima por pantalla ( la variable )\n",
    "\n",
    "x = 2\n",
    "k = 4\n",
    "x\n"
   ]
  },
  {
   "cell_type": "code",
   "execution_count": null,
   "metadata": {},
   "outputs": [],
   "source": [
    "\n",
    "#USO DE COMILLAS\n",
    "# Soy un comentario\n",
    "# print(\"Hello Python world!\")\n",
    "# Estoy creando una variable que vale 2\n",
    "\"\"\"\n",
    "Esto es otro comentario\n",
    "\"\"\""
   ]
  },
  {
   "cell_type": "markdown",
   "metadata": {},
   "source": [
    "## Ejercicio: \n",
    "### Crear una nueva celda.\n",
    "### Declarar tres variables: \n",
    "- Una con el nombre \"edad\" con valor vuestra edad\n",
    "- Otra \"edad_compañero_der\" que contengan la edad de tipo entero de vuestro compañero de la derecha\n",
    "- Otra \"suma_anterior\" que contenga la suma de las dos variables anteriormente declaradas\n",
    "\n",
    " Mostrar por pantalla la variable \"suma_anterior\"\n",
    "\n"
   ]
  },
  {
   "cell_type": "code",
   "execution_count": 29,
   "metadata": {},
   "outputs": [
    {
     "output_type": "stream",
     "name": "stdout",
     "text": [
      "49\n"
     ]
    },
    {
     "output_type": "execute_result",
     "data": {
      "text/plain": [
       "49"
      ]
     },
     "metadata": {},
     "execution_count": 29
    }
   ],
   "source": [
    "#EJERCICIO\n",
    "edad = 25\n",
    "edad_companero_der = 24\n",
    "suma_anterior = edad + edad_companero_der\n",
    "print(suma_anterior)\n",
    "suma_anterior"
   ]
  },
  {
   "cell_type": "code",
   "execution_count": null,
   "metadata": {},
   "outputs": [],
   "source": [
    "# funciones built-in de string\n",
    "#malas praxis \n",
    " # - no se puede utilizar como nombre de variable una funcion preestablecida\n",
    " # str = a algo\n",
    " # print = a algo\n",
    "\n",
    "string1 = 'Hola'\n",
    "string1.\n",
    "# salen las funciones de tipo string al añadir un punto  al estar la variable definida como string"
   ]
  },
  {
   "cell_type": "markdown",
   "metadata": {},
   "source": [
    "## 2. Números y operadores"
   ]
  },
  {
   "cell_type": "code",
   "execution_count": 33,
   "metadata": {},
   "outputs": [
    {
     "output_type": "stream",
     "name": "stdout",
     "text": [
      "5\n"
     ]
    }
   ],
   "source": [
    " x = 4\n",
    " x = x + 1 \n",
    " print(x)\n",
    " # siempre lee primero lo de la derecha por lo tanto 5 se iguala a x\n",
    " # es modificacion de x hacer un x+ = lo que sea\n"
   ]
  },
  {
   "cell_type": "code",
   "execution_count": 34,
   "metadata": {},
   "outputs": [
    {
     "output_type": "stream",
     "name": "stdout",
     "text": [
      "- Tipo de x:\n<class 'int'>\n- Valor de x:\n3\n- x+1:\n4\n- x-1:\n2\n- x*2:\n6\n- x^2:\n9\n- x modificado:\n4\n- x modificado:\n8\n- El módulo de x con 40\n0\n- Varias cosas en una línea:\n1 2 8 10\n"
     ]
    }
   ],
   "source": [
    "### Enteros ###\n",
    "\n",
    "x = 3\n",
    "\n",
    "print(\"- Tipo de x:\")\n",
    "print(type(x)) # Imprime el tipo (o `clase`) de x\n",
    "print(\"- Valor de x:\")\n",
    "print(x)       # Imprimir un valor\n",
    "print(\"- x+1:\")\n",
    "print(x + 1)   # Suma: imprime \"4\"\n",
    "print(\"- x-1:\")\n",
    "print(x - 1)   # Resta; imprime \"2\"\n",
    "print(\"- x*2:\")\n",
    "print(x * 2)   # Multiplicación; imprime \"6\"\n",
    "print(\"- x^2:\")\n",
    "print(x ** 2)  # Exponenciación; imprime \"9\" \n",
    "# Modificación de x\n",
    "x += 1 \n",
    "print(\"- x modificado:\")\n",
    "print(x)  # Imprime \"4\"\n",
    "\n",
    "x *= 2\n",
    "print(\"- x modificado:\")\n",
    "print(x)  # Imprime \"8\"\n",
    "\n",
    "print(\"- El módulo de x con 40\")\n",
    "print(40 % x)\n",
    "\n",
    "print(\"- Varias cosas en una línea:\")\n",
    "print(1, 2, x, 5*2) # imprime varias cosas a la vez"
   ]
  },
  {
   "cell_type": "code",
   "execution_count": 35,
   "metadata": {},
   "outputs": [
    {
     "output_type": "execute_result",
     "data": {
      "text/plain": [
       "0"
      ]
     },
     "metadata": {},
     "execution_count": 35
    }
   ],
   "source": [
    "# El módulo muestra el resto de la división entre dos números (%)\n",
    "x = 4 % 2\n",
    "x\n",
    "\n"
   ]
  },
  {
   "cell_type": "code",
   "execution_count": null,
   "metadata": {},
   "outputs": [],
   "source": [
    "numero = 99\n",
    "\n",
    "numero % 2  # Si el resto es 0, el número es par. Sino, impar."
   ]
  },
  {
   "cell_type": "code",
   "execution_count": null,
   "metadata": {},
   "outputs": [],
   "source": [
    "# si el modulo es divisor del numero el resto da cero\n"
   ]
  },
  {
   "source": [
    "## Título markdown"
   ],
   "cell_type": "markdown",
   "metadata": {}
  },
  {
   "source": [
    "# INPUT"
   ],
   "cell_type": "markdown",
   "metadata": {}
  },
  {
   "cell_type": "code",
   "execution_count": 8,
   "metadata": {},
   "outputs": [
    {
     "output_type": "stream",
     "name": "stdout",
     "text": [
      "<class 'int'>\n56\n"
     ]
    }
   ],
   "source": [
    "x = int(input())\n",
    "print (type(x))\n",
    "l = 4 + x\n",
    "print (x)\n",
    "\n",
    "# x va a almacenar mediante imput el texto dentro de la variable como TIPO TEXTO, para transformarlo a entero o float debemos usar la funcion correspondiente importante rellenar el cuadradito de arriba, si no se hace se queda pensando infinito, las celdas no se reproducen hasta que ha terminado la anterior, se detienen con el stop el kernel y si quieres volver a reproducir las variables se reinicia o se da a run all cells"
   ]
  },
  {
   "cell_type": "markdown",
   "metadata": {},
   "source": [
    "## 3. Tipo None"
   ]
  },
  {
   "cell_type": "code",
   "execution_count": 12,
   "metadata": {},
   "outputs": [
    {
     "output_type": "stream",
     "name": "stdout",
     "text": [
      "<class 'NoneType'>\n"
     ]
    }
   ],
   "source": [
    "# str int float none\n",
    "x = None\n",
    "# p = 5 + x\n",
    "# print(p)\n",
    "# da error none es especialito\n",
    "# importante que la primera N sea mayuscula, asi de especialito\n",
    "\n",
    "print (type(x))\n"
   ]
  },
  {
   "cell_type": "code",
   "execution_count": 9,
   "metadata": {},
   "outputs": [
    {
     "output_type": "error",
     "ename": "ValueError",
     "evalue": "invalid literal for int() with base 10: '5.7'",
     "traceback": [
      "\u001b[1;31m---------------------------------------------------------------------------\u001b[0m",
      "\u001b[1;31mValueError\u001b[0m                                Traceback (most recent call last)",
      "\u001b[1;32m<ipython-input-9-095e7ed1108d>\u001b[0m in \u001b[0;36m<module>\u001b[1;34m\u001b[0m\n\u001b[1;32m----> 1\u001b[1;33m \u001b[0mx\u001b[0m \u001b[1;33m=\u001b[0m \u001b[0mint\u001b[0m\u001b[1;33m(\u001b[0m\u001b[0minput\u001b[0m\u001b[1;33m(\u001b[0m\u001b[1;33m)\u001b[0m\u001b[1;33m)\u001b[0m\u001b[1;33m\u001b[0m\u001b[1;33m\u001b[0m\u001b[0m\n\u001b[0m\u001b[0;32m      2\u001b[0m \u001b[1;31m# si quieres que el numero se transforme a float tienes que utilizar la funcion float no es valida la funcion int\u001b[0m\u001b[1;33m\u001b[0m\u001b[1;33m\u001b[0m\u001b[1;33m\u001b[0m\u001b[0m\n",
      "\u001b[1;31mValueError\u001b[0m: invalid literal for int() with base 10: '5.7'"
     ]
    }
   ],
   "source": [
    "x = int(input())\n",
    "# si quieres que el numero se transforme a float tienes que utilizar la funcion float no es valida la funcion int (ej: 5.7)"
   ]
  },
  {
   "cell_type": "code",
   "execution_count": 11,
   "metadata": {},
   "outputs": [
    {
     "output_type": "execute_result",
     "data": {
      "text/plain": [
       "5.7"
      ]
     },
     "metadata": {},
     "execution_count": 11
    }
   ],
   "source": [
    "# sin embargo:\n",
    "x = float(input())\n",
    "x"
   ]
  },
  {
   "source": [
    "Actualizar variable en cada ejecución"
   ],
   "cell_type": "markdown",
   "metadata": {}
  },
  {
   "cell_type": "code",
   "execution_count": 13,
   "metadata": {},
   "outputs": [],
   "source": [
    "x =  5"
   ]
  },
  {
   "cell_type": "code",
   "execution_count": 15,
   "metadata": {},
   "outputs": [
    {
     "output_type": "stream",
     "name": "stdout",
     "text": [
      "16\n"
     ]
    }
   ],
   "source": [
    "x += 2\n",
    "j = 7 + x\n",
    "print(j)\n",
    "#en caja ejecucion sale +2 del numero de antes por x modificado y porque no hemos vuelto a definir x- 5 al tenerlo en otra celda, importante mantener variables en cada ejecucion si es lo que queremos"
   ]
  },
  {
   "source": [
    "## Booleans"
   ],
   "cell_type": "markdown",
   "metadata": {}
  },
  {
   "cell_type": "code",
   "execution_count": null,
   "metadata": {},
   "outputs": [],
   "source": []
  },
  {
   "cell_type": "markdown",
   "metadata": {},
   "source": [
    "## 4. Listas y colecciones "
   ]
  },
  {
   "cell_type": "code",
   "execution_count": null,
   "metadata": {},
   "outputs": [],
   "source": [
    "\n",
    "  # Una colección:\n",
    "  #  lista, conjunto(set), tupla, array, string"
   ]
  },
  {
   "cell_type": "code",
   "execution_count": 17,
   "metadata": {},
   "outputs": [],
   "source": [
    "# Lista de elementos:\n",
    "\n",
    "# Las posiciones se empiezan a contar desde 0, la primera posicion es la posicion número 0\n",
    "s = \"Cadena\"\n"
   ]
  },
  {
   "cell_type": "code",
   "execution_count": 18,
   "metadata": {},
   "outputs": [
    {
     "output_type": "stream",
     "name": "stdout",
     "text": [
      "C\n"
     ]
    }
   ],
   "source": [
    "\n",
    "print(s[0])\n",
    "#primera letra, primer elemento de la lista, C es la cero de 'cadena'\n",
    " # importante usar corchetes"
   ]
  },
  {
   "cell_type": "code",
   "execution_count": 21,
   "metadata": {},
   "outputs": [
    {
     "output_type": "stream",
     "name": "stdout",
     "text": [
      "<class 'str'>\n"
     ]
    }
   ],
   "source": [
    "s = \"\"\n",
    "print(type(s))\n"
   ]
  },
  {
   "cell_type": "code",
   "execution_count": 17,
   "metadata": {},
   "outputs": [],
   "source": [
    "lista = [3, 7.2, 'hola']\n"
   ]
  },
  {
   "cell_type": "code",
   "execution_count": null,
   "metadata": {},
   "outputs": [],
   "source": []
  },
  {
   "cell_type": "code",
   "execution_count": 9,
   "metadata": {},
   "outputs": [
    {
     "output_type": "stream",
     "name": "stdout",
     "text": [
      "hola\n7.2\n7.2\n"
     ]
    }
   ],
   "source": [
    "print (lista [2]) # ultimo\n",
    "print (lista [1]) #penultimo\n",
    "print (lista [1]) #antepenultimo"
   ]
  },
  {
   "cell_type": "code",
   "execution_count": 15,
   "metadata": {},
   "outputs": [
    {
     "output_type": "error",
     "ename": "SyntaxError",
     "evalue": "invalid syntax (<ipython-input-15-59aa8d55e80b>, line 2)",
     "traceback": [
      "\u001b[1;36m  File \u001b[1;32m\"<ipython-input-15-59aa8d55e80b>\"\u001b[1;36m, line \u001b[1;32m2\u001b[0m\n\u001b[1;33m    print(lista[2]'\\n',  str(lista[1])'\\n')\u001b[0m\n\u001b[1;37m                     ^\u001b[0m\n\u001b[1;31mSyntaxError\u001b[0m\u001b[1;31m:\u001b[0m invalid syntax\n"
     ]
    }
   ],
   "source": [
    "# para hacer saltos de línea \\n  ejemplo en 7 de precurso 2\n",
    "print(lista[2]'\\n',  str(lista[1])'\\n')\n"
   ]
  },
  {
   "cell_type": "code",
   "execution_count": 3,
   "metadata": {},
   "outputs": [
    {
     "output_type": "error",
     "ename": "SyntaxError",
     "evalue": "invalid syntax (<ipython-input-3-6f0c4b602e28>, line 1)",
     "traceback": [
      "\u001b[1;36m  File \u001b[1;32m\"<ipython-input-3-6f0c4b602e28>\"\u001b[1;36m, line \u001b[1;32m1\u001b[0m\n\u001b[1;33m    print(lista[2], /n  lista[1], /n lista[0] /n)\u001b[0m\n\u001b[1;37m                    ^\u001b[0m\n\u001b[1;31mSyntaxError\u001b[0m\u001b[1;31m:\u001b[0m invalid syntax\n"
     ]
    }
   ],
   "source": []
  },
  {
   "cell_type": "code",
   "execution_count": 6,
   "metadata": {},
   "outputs": [
    {
     "output_type": "stream",
     "name": "stdout",
     "text": [
      "hola\n7.2\n3\n"
     ]
    }
   ],
   "source": [
    "print (lista[-1]) # ultimo\n",
    "print (lista [- 2]) #penultimo\n",
    "print (lista[-3]) #antepenultimo"
   ]
  },
  {
   "cell_type": "code",
   "execution_count": 21,
   "metadata": {},
   "outputs": [
    {
     "output_type": "execute_result",
     "data": {
      "text/plain": [
       "1.5"
      ]
     },
     "metadata": {},
     "execution_count": 21
    }
   ],
   "source": [
    "#Una forma de encontrar el elemento central de la lista,\n",
    "len(lista) / 2"
   ]
  },
  {
   "cell_type": "code",
   "execution_count": null,
   "metadata": {},
   "outputs": [],
   "source": []
  },
  {
   "cell_type": "code",
   "execution_count": 19,
   "metadata": {},
   "outputs": [
    {
     "output_type": "stream",
     "name": "stdout",
     "text": [
      "['hola', 2, [[7, 2, 'x']]]\n"
     ]
    }
   ],
   "source": [
    "lista2 = ['hola', 2, [[7,2, 'x']]]\n",
    "\n",
    "print (lista2)\n",
    "\n",
    "# MIRAR EN LOS APUNTES DEL PROFESOR EL PRCESO DE LISTA EN EL PRECURSO Y LUEGO LO SUBE ESPEREMOS"
   ]
  },
  {
   "cell_type": "code",
   "execution_count": null,
   "metadata": {},
   "outputs": [],
   "source": [
    "#La ultima posicion de una coleccion coincide con el numero de elementos - 1"
   ]
  },
  {
   "cell_type": "code",
   "execution_count": 31,
   "metadata": {},
   "outputs": [
    {
     "output_type": "stream",
     "name": "stdout",
     "text": [
      "aralC yos aloH\n"
     ]
    }
   ],
   "source": [
    "s = \"Hola soy Clara\"\n",
    "\n",
    "print(s[::-1])\n",
    "\n",
    "#leer de atras hacia delante"
   ]
  },
  {
   "cell_type": "code",
   "execution_count": 32,
   "metadata": {},
   "outputs": [
    {
     "output_type": "execute_result",
     "data": {
      "text/plain": [
       "'a soy Clara'"
      ]
     },
     "metadata": {},
     "execution_count": 32
    }
   ],
   "source": [
    "# Para acceder a varios elementos, se especifica con la nomenclatura \"[N:M]\". N es el primer elemento a obtener, M es el último elemento a obtener pero no incluido. Ejemplo: \n",
    "\n",
    "# Queremos mostrar desde las posiciones 3 a la 7. Debemos especificar: [3:8]\n",
    "\n",
    "# Si M no tiene ningún valor, se obtiene desde N hasta el final. \n",
    "# Si N no tiene ningún valor, es desde el principio de la colección hasta M\n",
    "s[3:len(s)]\n",
    "\n",
    "  #coge desde la posicion 3 (a de hola inclido) hasta el final de s\n"
   ]
  },
  {
   "cell_type": "code",
   "execution_count": 33,
   "metadata": {},
   "outputs": [
    {
     "output_type": "execute_result",
     "data": {
      "text/plain": [
       "'Hol'"
      ]
     },
     "metadata": {},
     "execution_count": 33
    }
   ],
   "source": [
    "s [:3] \n",
    "#coge todos los elementos hasta la ppsocion 3 (sin incluir)"
   ]
  },
  {
   "cell_type": "code",
   "execution_count": 34,
   "metadata": {},
   "outputs": [
    {
     "output_type": "stream",
     "name": "stdout",
     "text": [
      "JOLA\n"
     ]
    }
   ],
   "source": [
    "3 MAYUSCULAS\n",
    "s = 'jola'\n",
    "s = s.upper()\n",
    "print (s)"
   ]
  },
  {
   "cell_type": "code",
   "execution_count": 37,
   "metadata": {},
   "outputs": [
    {
     "output_type": "stream",
     "name": "stdout",
     "text": [
      "[3, 7.2, 'hola', 7]\n[3, 7.2, 'hola', 7, 7]\n"
     ]
    }
   ],
   "source": [
    "# Agrega un valor a la última posición de la lista\n",
    "print(lista)\n",
    "lista.append(7)\n",
    "print(lista)"
   ]
  },
  {
   "cell_type": "code",
   "execution_count": 38,
   "metadata": {},
   "outputs": [
    {
     "output_type": "stream",
     "name": "stdout",
     "text": [
      "['hola', 7]\n"
     ]
    }
   ],
   "source": [
    "# remove elimina el primer elemento que se encuentra que coincide con el valor del argumento, solo el primero, si lo elimina y vulves a ejecutar mas veces que valores tenias con ese elemento dara error porque la lista ha quitado previamente ese valor\n",
    "lista=  ['hola', 7, 7]\n",
    "lista.remove (7)\n",
    "print (lista)\n"
   ]
  },
  {
   "cell_type": "code",
   "execution_count": 39,
   "metadata": {},
   "outputs": [
    {
     "output_type": "stream",
     "name": "stdout",
     "text": [
      "[4, 7, 'y', 'y']\n"
     ]
    }
   ],
   "source": [
    "lista = [ 4, \"y\", 7, \"y\"]\n",
    "lista.append (\"y\") #Append siempre añade un elemento al final de la lista\n",
    "lista.remove (\"y\") # elimina el primer elemento que encuentra desde la izquierda\n",
    "print(lista)"
   ]
  },
  {
   "cell_type": "code",
   "execution_count": 43,
   "metadata": {},
   "outputs": [
    {
     "output_type": "stream",
     "name": "stdout",
     "text": [
      "[4, 'y', 7, ['x', [4]]]\n"
     ]
    }
   ],
   "source": [
    "# para añadir un elemento a una lista dentro de la lista debemos ir a la posición\n",
    "lista = [ 4, \"y\", 7, [\"x\"]]\n",
    "lista[-1].append([4])\n",
    "print(lista)\n",
    "\n",
    "# añádido con corchetes es lista, añadido sin ellos es elemento único"
   ]
  },
  {
   "cell_type": "code",
   "execution_count": 44,
   "metadata": {},
   "outputs": [
    {
     "output_type": "stream",
     "name": "stdout",
     "text": [
      "xs\n"
     ]
    }
   ],
   "source": [
    "# Accedemos a la posición 1 del elemento que está en la posición 2 de lista\n",
    "\n",
    "lista = ['1',9.4, [8.1,'xs']]\n",
    "print (lista[2][1])"
   ]
  },
  {
   "cell_type": "code",
   "execution_count": 50,
   "metadata": {},
   "outputs": [
    {
     "output_type": "stream",
     "name": "stdout",
     "text": [
      "['1', 9.4, [8.1, 'xs']]\n"
     ]
    }
   ],
   "source": [
    "#l.reverse() le da la vuelta a la lista\n",
    "\n",
    "lista2 = ['1',9.4, [8.1,'xs']]\n",
    "lista.reverse()\n",
    "print(lista2)\n"
   ]
  },
  {
   "cell_type": "code",
   "execution_count": 51,
   "metadata": {},
   "outputs": [
    {
     "output_type": "stream",
     "name": "stdout",
     "text": [
      "4\n"
     ]
    }
   ],
   "source": [
    "lista3 = [2, 4, 8, \"o\"]\n",
    "print(len(lista3))"
   ]
  },
  {
   "cell_type": "code",
   "execution_count": 52,
   "metadata": {},
   "outputs": [
    {
     "output_type": "stream",
     "name": "stdout",
     "text": [
      "[2, 4, 8, 'o', ['1', 9.4, [8.1, 'xs']]]\n"
     ]
    }
   ],
   "source": [
    "lista3.append(lista2)\n",
    "print(lista3)\n",
    "# se añade la lista 2 como elemento al final, de forma complleta, sin append y solo haciendo suma solo se concatenan los eementos pero no se añade una lsita entera como elemento"
   ]
  },
  {
   "cell_type": "code",
   "execution_count": null,
   "metadata": {},
   "outputs": [],
   "source": [
    "# añadir un elemento a  un elemento de una lista dentro de una lista buscamos su posicion  en plan lista3[0][5].append"
   ]
  },
  {
   "source": [
    "### Colecciones\n",
    "\n",
    "1. Listas\n",
    "2. String (colección de caracteres)\n",
    "3. Tuplas\n",
    "4. Conjuntos (Set)\n",
    "5. Diccionarios"
   ],
   "cell_type": "markdown",
   "metadata": {}
  },
  {
   "cell_type": "code",
   "execution_count": null,
   "metadata": {},
   "outputs": [],
   "source": [
    "# Listas --> Mutables\n",
    "lista = [2, 5, \"caract\", [9, \"g\", [\"j\"]]]\n",
    "print(lista[-1][-1][-1])\n",
    "lista[3][2][0]"
   ]
  },
  {
   "cell_type": "code",
   "execution_count": null,
   "metadata": {},
   "outputs": [],
   "source": [
    "# Tuplas --> Inmutables\n",
    "\n",
    "tupla = (2, 5, \"caract\", [9, \"g\", [\"j\"]])\n",
    "tupla"
   ]
  },
  {
   "cell_type": "code",
   "execution_count": null,
   "metadata": {},
   "outputs": [],
   "source": [
    "# para diferenciar una tupla del uso indiscriminado de parentesis se añade una coma al final\n",
    "# ejemplo \n",
    "  # tupla = (2,)\n",
    "# son inmutables para modificarlas tienes que pasarlas a lista, modificar y lueeego volver a tupla\n"
   ]
  },
  {
   "cell_type": "code",
   "execution_count": 55,
   "metadata": {},
   "outputs": [
    {
     "output_type": "execute_result",
     "data": {
      "text/plain": [
       "[2, 1, ['k', 'm']]"
      ]
     },
     "metadata": {},
     "execution_count": 55
    }
   ],
   "source": [
    "# Update listas, modificas la posicion del segundo elemento\n",
    "lista = [2, \"6\", [\"k\", \"m\"]]\n",
    "lista[1] = 1\n",
    "lista"
   ]
  },
  {
   "cell_type": "code",
   "execution_count": null,
   "metadata": {},
   "outputs": [],
   "source": [
    "# las tuplas son inmutables pero si posee una lista en el interior como lista sí son modificables dichas listas\n",
    "# 267\n"
   ]
  },
  {
   "cell_type": "code",
   "execution_count": 56,
   "metadata": {},
   "outputs": [
    {
     "output_type": "execute_result",
     "data": {
      "text/plain": [
       "{2, 4, 6, 'a', 'h', 'z'}"
      ]
     },
     "metadata": {},
     "execution_count": 56
    }
   ],
   "source": [
    "# Conjuntos\n",
    "    #no tiene elementos repetido y ordena los elementos, se forma con una lista entre cocrchetes y pasandola a conjunto mediante set y entonces utilizara corchetines pero no se colocan solos porque se formaria un diccionario, es decir {something, something}, pero no x= {} de primeras\n",
    "# Los conjuntos no pueden tener colecciones mutables, es decir, no puedes contener listas, pero si tuplas.\n",
    "# Tambien  te eliminan los repetidos, y te ordenan los datos\n",
    "\n",
    "conjunto = [2, 4, 6, \"a\", \"z\", \"h\", 2]\n",
    "conjunto = set(conjunto)\n",
    "conjunto"
   ]
  },
  {
   "cell_type": "code",
   "execution_count": null,
   "metadata": {},
   "outputs": [],
   "source": [
    "# Si quiero no tener datos repetidos lo paso a conjunto\n"
   ]
  },
  {
   "cell_type": "code",
   "execution_count": null,
   "metadata": {},
   "outputs": [],
   "source": [
    "conjunto = [\"a\", \"z\", \"h\", 2, 2, 4, 6, True, True, False]\n",
    "conjunto = set(conjunto)\n",
    "conjunto"
   ]
  },
  {
   "cell_type": "code",
   "execution_count": null,
   "metadata": {},
   "outputs": [],
   "source": [
    "conjunto = [\"a\", \"z\", \"h\", 2, 2, 4, 6, 2.1, 2.4, 2.3, True, True, False]\n",
    "conjunto = set(conjunto)\n",
    "conjunto"
   ]
  },
  {
   "cell_type": "code",
   "execution_count": null,
   "metadata": {},
   "outputs": [],
   "source": [
    "conjunto_tupla = (\"a\", \"z\", \"h\", 2, 2, 4, 6, 2.1, 2.4, 2.3, True, True, False)\n",
    "conjunto = set(conjunto_tupla)\n",
    "conjunto"
   ]
  },
  {
   "cell_type": "code",
   "execution_count": null,
   "metadata": {},
   "outputs": [],
   "source": [
    "conjunto = {\"a\", \"z\", \"h\", 2, 2, 4, 6, 2.1, 2.4, 2.3, True, True, False}\n",
    "conjunto"
   ]
  },
  {
   "cell_type": "code",
   "execution_count": null,
   "metadata": {},
   "outputs": [],
   "source": [
    "s = \"String\"\n",
    "lista_s = list(s)\n",
    "lista_s"
   ]
  },
  {
   "cell_type": "code",
   "execution_count": null,
   "metadata": {},
   "outputs": [],
   "source": [
    "s = \"String\"\n",
    "conj = {s}\n",
    "conj"
   ]
  },
  {
   "cell_type": "code",
   "execution_count": 22,
   "metadata": {},
   "outputs": [
    {
     "output_type": "stream",
     "name": "stdout",
     "text": [
      "(2, 6, True)\n"
     ]
    }
   ],
   "source": [
    "# Cambiar de tupla a lista, remover elemento y convertir en tupla\n",
    "tupla = (2, 6, ['x'], True)\n",
    "tupla =  list(tupla)\n",
    "tupla.remove(['x'])\n",
    "tupla = tuple(tupla)\n",
    "print(tupla)"
   ]
  },
  {
   "cell_type": "code",
   "execution_count": 26,
   "metadata": {},
   "outputs": [
    {
     "output_type": "execute_result",
     "data": {
      "text/plain": [
       "[2, 6]"
      ]
     },
     "metadata": {},
     "execution_count": 26
    }
   ],
   "source": [
    "#Eliminar por posicion en una lista\n",
    "lista = [2, 6, ['x'], True]\n",
    "lista.pop() #elimina el último elemento por defecto\n",
    "lista\n",
    "lista.pop(2)\n",
    "lista\n",
    "#.pop() muestra el elemento eliminado"
   ]
  },
  {
   "cell_type": "code",
   "execution_count": null,
   "metadata": {},
   "outputs": [],
   "source": [
    "conjunto = {2, 5, \"h\"}\n",
    "lista_con_conjunto = [conjunto]\n",
    "lista_con_conjunto[0]"
   ]
  },
  {
   "cell_type": "code",
   "execution_count": null,
   "metadata": {},
   "outputs": [],
   "source": [
    "# No podemos acceder a elementos de un conjunto\n",
    "lista_con_conjunto[0][0]"
   ]
  },
  {
   "cell_type": "markdown",
   "metadata": {},
   "source": [
    "## 5. Condiciones: if, elif, else"
   ]
  },
  {
   "cell_type": "code",
   "execution_count": 28,
   "metadata": {},
   "outputs": [
    {
     "output_type": "error",
     "ename": "IndentationError",
     "evalue": "expected an indented block (<ipython-input-28-0398b3a9cb56>, line 3)",
     "traceback": [
      "\u001b[1;36m  File \u001b[1;32m\"<ipython-input-28-0398b3a9cb56>\"\u001b[1;36m, line \u001b[1;32m3\u001b[0m\n\u001b[1;33m    print('Es mayor a 3')\u001b[0m\n\u001b[1;37m        ^\u001b[0m\n\u001b[1;31mIndentationError\u001b[0m\u001b[1;31m:\u001b[0m expected an indented block\n"
     ]
    }
   ],
   "source": [
    "x = 5\n",
    "if x > 3:\n",
    "print('Es mayor a 3')"
   ]
  },
  {
   "cell_type": "code",
   "execution_count": 29,
   "metadata": {},
   "outputs": [
    {
     "output_type": "stream",
     "name": "stdout",
     "text": [
      "Es mayor a 3\n"
     ]
    }
   ],
   "source": [
    "x = 5\n",
    "if x > 3:\n",
    "    print('Es mayor a 3') #Siempre que hay dos puntos usar Tab, hay identacion"
   ]
  },
  {
   "cell_type": "code",
   "execution_count": 30,
   "metadata": {},
   "outputs": [
    {
     "output_type": "stream",
     "name": "stdout",
     "text": [
      "Es mayor a 3\n2\n"
     ]
    }
   ],
   "source": [
    "x = 5\n",
    "if x > 3:\n",
    "    print('Es mayor a 3')\n",
    "    x = 2\n",
    "    print(x)\n"
   ]
  },
  {
   "cell_type": "code",
   "execution_count": null,
   "metadata": {},
   "outputs": [],
   "source": [
    "# if comprobacion, inicio de un bloque de condiciones\n",
    "# elif tiene que estar acompañado de un if inicial y representa otra condicion, \n",
    "# puedes añadir todos los elif que quieras en un bloque, pro solo puede haber un if y un else\n",
    "# una vez satisfecho el bloque no sigue leyendo las demas condiciones.\n",
    "# lee cada bloque\n",
    "# else solo puede ir un else\n",
    "### 45\n",
    "### 53"
   ]
  },
  {
   "source": [
    "# condiciones\n",
    "\"\"\"\n",
    "==  -> Igualdad\n",
    "!= -> Diferecia\n",
    "< -> Menor que\n",
    "> -> Mayor que\n",
    "<= -> Menor o igual\n",
    ">= -> Mayor o igual\n",
    "\"\"\"\n",
    "## Añadir los elementos de python que son false añadir ##101\n"
   ],
   "cell_type": "code",
   "metadata": {},
   "execution_count": null,
   "outputs": []
  },
  {
   "source": [
    "### Boolean"
   ],
   "cell_type": "markdown",
   "metadata": {}
  },
  {
   "cell_type": "code",
   "execution_count": null,
   "metadata": {},
   "outputs": [],
   "source": [
    "True\n",
    "False\n"
   ]
  },
  {
   "cell_type": "code",
   "execution_count": null,
   "metadata": {},
   "outputs": [],
   "source": [
    "# Operadores comparativos\n"
   ]
  },
  {
   "cell_type": "code",
   "execution_count": null,
   "metadata": {},
   "outputs": [],
   "source": [
    "# Diferente"
   ]
  },
  {
   "source": [
    "\"\"\"\n",
    "==  -> Igualdad\n",
    "!= -> Diferecia\n",
    "< -> Menor que\n",
    "> -> Mayor que\n",
    "<= -> Menor o igual\n",
    ">= -> Mayor o igual\n",
    "\"\"\"\n"
   ],
   "cell_type": "code",
   "metadata": {},
   "execution_count": null,
   "outputs": []
  },
  {
   "cell_type": "code",
   "execution_count": null,
   "metadata": {},
   "outputs": [],
   "source": [
    "# and solo devolverá True si TODOS son True\n",
    "True and False"
   ]
  },
  {
   "cell_type": "code",
   "execution_count": null,
   "metadata": {},
   "outputs": [],
   "source": [
    "# or devolverá True si UNO es True"
   ]
  },
  {
   "cell_type": "code",
   "execution_count": null,
   "metadata": {},
   "outputs": [],
   "source": [
    "## HAY UN ORDEN DE PRIORIDAD SE HACE AND Y LUEGO OR MIRAR FOTO"
   ]
  },
  {
   "cell_type": "code",
   "execution_count": null,
   "metadata": {},
   "outputs": [],
   "source": [
    "# Sinónimos de False para las condiciones:\n",
    "# None\n",
    "# False\n",
    "# 0 (int or float)\n",
    "# Cualquier colección vacía --> [], \"\", (), {}\n",
    "\n",
    "# El None no actúa como un número al compararlo con otro número\n",
    "\"\"\"\n",
    "El True lo toma como un numérico 1\n",
    "\"\"\""
   ]
  },
  {
   "source": [],
   "cell_type": "markdown",
   "metadata": {}
  },
  {
   "cell_type": "code",
   "execution_count": null,
   "metadata": {},
   "outputs": [],
   "source": []
  },
  {
   "cell_type": "markdown",
   "metadata": {},
   "source": []
  },
  {
   "cell_type": "markdown",
   "metadata": {},
   "source": [
    "# Bucles For, While"
   ]
  },
  {
   "source": [
    "# Lista alturas\n",
    "lista_alturas = [1.66,1.82,1.73,1.75,1.54,1.70,1.70,1.80,1.81,1.87, 1.86, 1.52, 1.70, 1.78, 1.73, 1.78, 1.60, 1.77,1.80, 1.64, 1.79, 1.82]\n",
    "for altura in lista_alturas:\n",
    "    if altura < 1.70:\n",
    "        print(altura)"
   ],
   "cell_type": "code",
   "metadata": {},
   "execution_count": 32,
   "outputs": [
    {
     "output_type": "stream",
     "name": "stdout",
     "text": [
      "1.66\n1.54\n1.52\n1.6\n1.64\n"
     ]
    }
   ]
  },
  {
   "cell_type": "code",
   "execution_count": null,
   "metadata": {},
   "outputs": [],
   "source": [
    "## A partir de aqui repetir la clase grabada para isinstance ###153 \n"
   ]
  },
  {
   "cell_type": "code",
   "execution_count": null,
   "metadata": {},
   "outputs": [],
   "source": []
  },
  {
   "cell_type": "code",
   "execution_count": null,
   "metadata": {},
   "outputs": [],
   "source": [
    "##  USAR PYTHONTUTOR PARA LOS PROCEDIMIENTOS DE LOS BUCLES\n"
   ]
  },
  {
   "source": [
    "## Funciones"
   ],
   "cell_type": "markdown",
   "metadata": {}
  },
  {
   "cell_type": "code",
   "execution_count": null,
   "metadata": {},
   "outputs": [],
   "source": []
  },
  {
   "cell_type": "code",
   "execution_count": null,
   "metadata": {},
   "outputs": [],
   "source": [
    "#Extras: \n",
    "# - el rango recorre posiciones\n",
    "# - cuando se trabaja con sposiciones se le llama for i porque se llama indice\n"
   ]
  }
 ],
 "metadata": {
  "language_info": {
   "name": "python",
   "codemirror_mode": {
    "name": "ipython",
    "version": 3
   },
   "version": "3.7.4"
  },
  "orig_nbformat": 2,
  "file_extension": ".py",
  "mimetype": "text/x-python",
  "name": "python",
  "npconvert_exporter": "python",
  "pygments_lexer": "ipython3",
  "version": 3,
  "kernelspec": {
   "name": "python374jvsc74a57bd0797ece2db6cd49410b212500b07c3b6429b528fb918ab6c0d0ffbc4c51c5b09e",
   "display_name": "Python 3.7.4 64-bit"
  },
  "metadata": {
   "interpreter": {
    "hash": "797ece2db6cd49410b212500b07c3b6429b528fb918ab6c0d0ffbc4c51c5b09e"
   }
  }
 },
 "nbformat": 4,
 "nbformat_minor": 2
}