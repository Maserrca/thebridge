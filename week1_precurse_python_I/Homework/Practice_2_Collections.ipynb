{
  "nbformat": 4,
  "nbformat_minor": 0,
  "metadata": {
    "kernelspec": {
      "name": "python374jvsc74a57bd0797ece2db6cd49410b212500b07c3b6429b528fb918ab6c0d0ffbc4c51c5b09e",
      "display_name": "Python 3.7.4 64-bit"
    },
    "language_info": {
      "codemirror_mode": {
        "name": "ipython",
        "version": 3
      },
      "file_extension": ".py",
      "mimetype": "text/x-python",
      "name": "python",
      "nbconvert_exporter": "python",
      "pygments_lexer": "ipython3",
      "version": "3.7.4"
    },
    "colab": {
      "name": "Practice_2_Collections.ipynb",
      "provenance": []
    },
    "metadata": {
      "interpreter": {
        "hash": "797ece2db6cd49410b212500b07c3b6429b528fb918ab6c0d0ffbc4c51c5b09e"
      }
    }
  },
  "cells": [
    {
      "cell_type": "markdown",
      "metadata": {
        "id": "z_ReiDCbz7tW"
      },
      "source": [
        "# Python | day 1 | collections"
      ]
    },
    {
      "cell_type": "markdown",
      "metadata": {
        "id": "h42lxxa4z7tt"
      },
      "source": [
        "Lists, tuples & sets"
      ]
    },
    {
      "cell_type": "markdown",
      "metadata": {
        "id": "Tn3LllBAz7tv"
      },
      "source": [
        "May help you https://www.w3schools.com/python/python_ref_list.asp"
      ]
    },
    {
      "cell_type": "markdown",
      "metadata": {
        "id": "1wdUJY5dz7tw"
      },
      "source": [
        "### Exercise 1. "
      ]
    },
    {
      "cell_type": "markdown",
      "metadata": {
        "id": "VUsHiJ-iz7tx"
      },
      "source": [
        "1. Create:\n",
        "    - a list type variable called **student_list** which contains the name of your classmates. \n",
        "\n",
        "Print the created list. "
      ]
    },
    {
      "cell_type": "code",
      "metadata": {
        "id": "TpsxDsPLz7ty"
      },
      "source": [
        "student_list = [\"Adria Gallardo\", \"Daniel Acedo\", \"Daniel Walker\", \"Gina Garrido\", \"Isabel Palomares\", \"Javier Araiz\", \"Jonathan Abbondanza\", \"Jorge García\", \"José Carlos Batista\", \"Juan Bayón\", \"Karina Inche\", \"Leonardo Frazzetto\", \"María García-Maroto\", \"Marina Serrano\", \"Mary Cruz Meza\", \"Mauro García-Oliva\", \"Nacho Astorga\", \"Pablo Díez\", \"Pablo Martínez\", \"Sonia Cobo\", \"Susana Vázquez\", \"Xinru Yang\"]\n",
        "print(student_list)"
      ],
      "execution_count": 5,
      "outputs": [
        {
          "output_type": "stream",
          "name": "stdout",
          "text": [
            "['Adria Gallardo', 'Daniel Acedo', 'Daniel Walker', 'Gina Garrido', 'Isabel Palomares', 'Javier Araiz', 'Jonathan Abbondanza', 'Jorge García', 'José Carlos Batista', 'Juan Bayón', 'Karina Inche', 'Leonardo Frazzetto', 'María García-Maroto', 'Marina Serrano', 'Mary Cruz Meza', 'Mauro García-Oliva', 'Nacho Astorga', 'Pablo Díez', 'Pablo Martínez', 'Sonia Cobo', 'Susana Vázquez', 'Xinru Yang']\n"
          ]
        }
      ]
    },
    {
      "cell_type": "markdown",
      "metadata": {
        "id": "RluZKhnPz7tz"
      },
      "source": [
        "### Exercise 2"
      ]
    },
    {
      "cell_type": "markdown",
      "metadata": {
        "id": "FcbExyt2z7t0"
      },
      "source": [
        "1. Create an empty list, call it **empty_list**"
      ]
    },
    {
      "cell_type": "code",
      "metadata": {
        "id": "C3bvpNZCz7t1"
      },
      "source": [
        "empty_list = []"
      ],
      "execution_count": 6,
      "outputs": []
    },
    {
      "cell_type": "markdown",
      "metadata": {
        "id": "njIQQvNHz7t1"
      },
      "source": [
        "2. Create a list with 5 items, call it **my_list**"
      ]
    },
    {
      "cell_type": "code",
      "metadata": {
        "id": "AWKOgrHxz7t2"
      },
      "source": [
        "my_list = [1, 2, 3, 4, 5]"
      ],
      "execution_count": 16,
      "outputs": []
    },
    {
      "cell_type": "code",
      "execution_count": null,
      "metadata": {},
      "outputs": [],
      "source": []
    },
    {
      "cell_type": "markdown",
      "metadata": {
        "id": "Z-SSc7u9z7t2"
      },
      "source": [
        "3. Find the length of **my_list**\n",
        "\n"
      ]
    },
    {
      "cell_type": "code",
      "metadata": {
        "id": "gh1Mvh-Mz7t3"
      },
      "source": [
        "len(my_list)"
      ],
      "execution_count": 8,
      "outputs": [
        {
          "output_type": "execute_result",
          "data": {
            "text/plain": [
              "5"
            ]
          },
          "metadata": {},
          "execution_count": 8
        }
      ]
    },
    {
      "cell_type": "markdown",
      "metadata": {
        "id": "cGO8ZMWhz7t4"
      },
      "source": [
        "4. Get the first item, the middle item and the last item of **my_list**\n",
        "\n"
      ]
    },
    {
      "cell_type": "code",
      "metadata": {
        "id": "Jj1Jk25hz7t4"
      },
      "source": [
        "print(my_list[0][2][4])"
      ],
      "execution_count": 25,
      "outputs": [
        {
          "output_type": "error",
          "ename": "TypeError",
          "evalue": "'int' object is not subscriptable",
          "traceback": [
            "\u001b[1;31m---------------------------------------------------------------------------\u001b[0m",
            "\u001b[1;31mTypeError\u001b[0m                                 Traceback (most recent call last)",
            "\u001b[1;32m<ipython-input-25-6eea8d9801da>\u001b[0m in \u001b[0;36m<module>\u001b[1;34m\u001b[0m\n\u001b[1;32m----> 1\u001b[1;33m \u001b[0mprint\u001b[0m\u001b[1;33m(\u001b[0m\u001b[0mmy_list\u001b[0m\u001b[1;33m[\u001b[0m\u001b[1;36m0\u001b[0m\u001b[1;33m]\u001b[0m\u001b[1;33m[\u001b[0m\u001b[1;36m2\u001b[0m\u001b[1;33m]\u001b[0m\u001b[1;33m[\u001b[0m\u001b[1;36m4\u001b[0m\u001b[1;33m]\u001b[0m\u001b[1;33m)\u001b[0m\u001b[1;33m\u001b[0m\u001b[1;33m\u001b[0m\u001b[0m\n\u001b[0m",
            "\u001b[1;31mTypeError\u001b[0m: 'int' object is not subscriptable"
          ]
        }
      ]
    },
    {
      "cell_type": "code",
      "execution_count": 42,
      "metadata": {},
      "outputs": [],
      "source": [
        "my_list2 = [\"why\", \"do\", \"not\",\"printing\", \"??\" ]"
      ]
    },
    {
      "cell_type": "code",
      "execution_count": 43,
      "metadata": {},
      "outputs": [
        {
          "output_type": "stream",
          "name": "stdout",
          "text": [
            "why\nnot\n??\n"
          ]
        }
      ],
      "source": [
        "print(my_list2[-5])\n",
        "print(my_list2[-3])\n",
        "print(my_list2[-1])"
      ]
    },
    {
      "cell_type": "code",
      "execution_count": 44,
      "metadata": {},
      "outputs": [
        {
          "output_type": "stream",
          "name": "stdout",
          "text": [
            "1\n3\n5\n"
          ]
        }
      ],
      "source": [
        "print(my_list[0])\n",
        "print(my_list[2])\n",
        "print(my_list[4])"
      ]
    },
    {
      "cell_type": "code",
      "execution_count": null,
      "metadata": {},
      "outputs": [],
      "source": []
    },
    {
      "cell_type": "markdown",
      "metadata": {
        "id": "_W_E0BVdz7t5"
      },
      "source": [
        "5. Declare:\n",
        "    - a **name** variable and assign a value to it\n",
        "    - a **age** variable and assign a value to it\n",
        "    - a **height** variable and assign a value to it\n",
        "    - a **country** variable and assign a value to it\n",
        "    - a **python_version** variable and assign a value to it\n"
      ]
    },
    {
      "cell_type": "code",
      "metadata": {
        "id": "z0vC0WFWz7t5"
      },
      "source": [
        "name = \"Marina\"\n",
        "age = 25\n",
        "height = 154\n",
        "country = \"Germany\"\n",
        "python_version = 3.7\n"
      ],
      "execution_count": 33,
      "outputs": []
    },
    {
      "cell_type": "markdown",
      "metadata": {
        "id": "pHvKWkSlz7t6"
      },
      "source": [
        "6. Create a list called **mixed_data_types** with your name, age, height, country and python_version.\n",
        "\n"
      ]
    },
    {
      "cell_type": "code",
      "metadata": {
        "id": "XA6CBjMAz7t6"
      },
      "source": [
        "mixed_data_types = [name, age, height, country, python_version]\n",
        "print(mixed_data_types)"
      ],
      "execution_count": 34,
      "outputs": [
        {
          "output_type": "stream",
          "name": "stdout",
          "text": [
            "['Marina', 25, 154, 'Germany', 3.7]\n"
          ]
        }
      ]
    },
    {
      "cell_type": "markdown",
      "metadata": {
        "id": "Yb1SWeWxz7t7"
      },
      "source": [
        "7. Declare a list variable named **it_companies** and assign initial values Facebook, Google, Microsoft, Apple, IBM, Oracle and Amazon.\n"
      ]
    },
    {
      "cell_type": "code",
      "metadata": {
        "id": "QKGjlS_zz7t7"
      },
      "source": [
        "it_companies = [\"Facebook\", \"Google\", \"Microsoft\", \"Apple\", \"IBM\", \"Oracle\", \"Amazon\"]"
      ],
      "execution_count": 35,
      "outputs": []
    },
    {
      "cell_type": "markdown",
      "metadata": {
        "id": "c62tUiBsz7t8"
      },
      "source": [
        "\n",
        "8. Print **it_companies** using print()\n",
        "\n"
      ]
    },
    {
      "cell_type": "code",
      "metadata": {
        "id": "tFw9fzPhz7t8"
      },
      "source": [
        "print(it_companies)"
      ],
      "execution_count": 36,
      "outputs": [
        {
          "output_type": "stream",
          "name": "stdout",
          "text": [
            "['Facebook', 'Google', 'Microsoft', 'Apple', 'IBM', 'Oracle', 'Amazon']\n"
          ]
        }
      ]
    },
    {
      "cell_type": "markdown",
      "metadata": {
        "id": "HwuJ6qzWz7t9"
      },
      "source": [
        "9. Print the number of companies in the list"
      ]
    },
    {
      "cell_type": "code",
      "metadata": {
        "id": "OuUGOXWSz7t9"
      },
      "source": [
        "len(it_companies)"
      ],
      "execution_count": 37,
      "outputs": [
        {
          "output_type": "execute_result",
          "data": {
            "text/plain": [
              "7"
            ]
          },
          "metadata": {},
          "execution_count": 37
        }
      ]
    },
    {
      "cell_type": "markdown",
      "metadata": {
        "id": "XG4_FxaDz7t-"
      },
      "source": [
        "11. Print *Google*"
      ]
    },
    {
      "cell_type": "code",
      "metadata": {
        "id": "gFWNOnVAz7t-"
      },
      "source": [
        "print(it_companies[1])"
      ],
      "execution_count": 38,
      "outputs": [
        {
          "output_type": "stream",
          "name": "stdout",
          "text": [
            "Google\n"
          ]
        }
      ]
    },
    {
      "cell_type": "markdown",
      "metadata": {
        "id": "BQaLW_TRz7t_"
      },
      "source": [
        "10. Print the first, middle and last company"
      ]
    },
    {
      "cell_type": "code",
      "metadata": {
        "id": "I7h70Auqz7t_"
      },
      "source": [
        "print(it_companies[0])\n",
        "print(it_companies[3])\n",
        "print(it_companies[6])"
      ],
      "execution_count": 39,
      "outputs": [
        {
          "output_type": "stream",
          "name": "stdout",
          "text": [
            "Facebook\nApple\nAmazon\n"
          ]
        }
      ]
    },
    {
      "cell_type": "markdown",
      "metadata": {
        "id": "PJgX9wfMz7t_"
      },
      "source": [
        "11. Assign a new value to the last element of the list "
      ]
    },
    {
      "cell_type": "code",
      "metadata": {
        "id": "Nd25tqx0z7uA"
      },
      "source": [
        "it_companies[6] = \"Tesla\""
      ],
      "execution_count": 40,
      "outputs": []
    },
    {
      "cell_type": "markdown",
      "metadata": {
        "id": "ullRVO7mz7uA"
      },
      "source": [
        "12. Print the list after modifying one of the companies"
      ]
    },
    {
      "cell_type": "code",
      "metadata": {
        "id": "r69O9Jzkz7uB"
      },
      "source": [
        "print(it_companies)"
      ],
      "execution_count": 41,
      "outputs": [
        {
          "output_type": "stream",
          "name": "stdout",
          "text": [
            "['Facebook', 'Google', 'Microsoft', 'Apple', 'IBM', 'Oracle', 'Tesla']\n"
          ]
        }
      ]
    },
    {
      "cell_type": "code",
      "execution_count": null,
      "metadata": {},
      "outputs": [],
      "source": [
        "# No me da tiempo a completar y entregar los Bonus track hoy pero quiero hacerlo así que lo haré junto a las tareas de mañana, si fuera posible tener acceso a su corrección para compararlo después por mi cuenta sería genial. Muchas gracias."
      ]
    },
    {
      "cell_type": "markdown",
      "metadata": {
        "id": "fp2IL3z-z7uB"
      },
      "source": [
        "## Bonus track."
      ]
    },
    {
      "cell_type": "markdown",
      "metadata": {
        "id": "SG1ELxpGz7uC"
      },
      "source": [
        "13. Add an IT company to **it_companies**\n",
        "\n"
      ]
    },
    {
      "cell_type": "code",
      "metadata": {
        "id": "EbXKogK9z7uC"
      },
      "source": [],
      "execution_count": null,
      "outputs": []
    },
    {
      "cell_type": "markdown",
      "metadata": {
        "id": "YUsJjlhYz7uC"
      },
      "source": [
        "14. Check if *Apple* exists in the **it_companies** list."
      ]
    },
    {
      "cell_type": "code",
      "metadata": {
        "id": "Fl51wTe-z7uD"
      },
      "source": [],
      "execution_count": null,
      "outputs": []
    },
    {
      "cell_type": "markdown",
      "metadata": {
        "id": "xJlsxu0Uz7uD"
      },
      "source": [
        "15. Sort the list using `sort()` method\n",
        "\n"
      ]
    },
    {
      "cell_type": "code",
      "metadata": {
        "id": "kbPPY2osz7uE"
      },
      "source": [],
      "execution_count": null,
      "outputs": []
    },
    {
      "cell_type": "markdown",
      "metadata": {
        "id": "EWp-j7xTz7uE"
      },
      "source": [
        "16. Reverse the list in descending order using `reverse()` method\n",
        "\n"
      ]
    },
    {
      "cell_type": "code",
      "metadata": {
        "id": "02TGPq-Gz7uF"
      },
      "source": [],
      "execution_count": null,
      "outputs": []
    },
    {
      "cell_type": "markdown",
      "metadata": {
        "id": "kGuzBvHkz7uF"
      },
      "source": [
        "17. Slice out the first 3 companies from the list\n",
        "\n"
      ]
    },
    {
      "cell_type": "code",
      "metadata": {
        "id": "2SDhe_-6z7uF"
      },
      "source": [],
      "execution_count": null,
      "outputs": []
    },
    {
      "cell_type": "markdown",
      "metadata": {
        "id": "YMsg1dPKz7uG"
      },
      "source": [
        "18. Remove the last IT company from the list\n"
      ]
    },
    {
      "cell_type": "code",
      "metadata": {
        "id": "zi_MzwYdz7uG"
      },
      "source": [],
      "execution_count": null,
      "outputs": []
    },
    {
      "cell_type": "markdown",
      "metadata": {
        "id": "kcT2VnROz7uG"
      },
      "source": [
        "19. Remove all IT companies from the list"
      ]
    },
    {
      "cell_type": "code",
      "metadata": {
        "id": "3M9ws7Njz7uH"
      },
      "source": [],
      "execution_count": null,
      "outputs": []
    },
    {
      "cell_type": "markdown",
      "metadata": {
        "id": "-GgeahHsz7uH"
      },
      "source": [
        "20. Join the following lists, and call the list **end**:\n",
        "\n",
        "```python\n",
        "front_end = [['HTML', 'CSS'], 'JS', 'React', 'Redux']\n",
        "back_end = ['Node','Express', 'MongoDB']\n",
        "```"
      ]
    },
    {
      "cell_type": "code",
      "metadata": {
        "id": "ryfOEYm5z7uH"
      },
      "source": [],
      "execution_count": null,
      "outputs": []
    },
    {
      "cell_type": "markdown",
      "metadata": {
        "id": "hAfT16RSz7uH"
      },
      "source": [
        "21. From the **end** list print 'HTML'"
      ]
    },
    {
      "cell_type": "code",
      "metadata": {
        "id": "E1RUZ3F8z7uI"
      },
      "source": [],
      "execution_count": null,
      "outputs": []
    },
    {
      "cell_type": "markdown",
      "metadata": {
        "id": "EMBv9O3Bz7uI"
      },
      "source": [
        "22. From the end list print the 'C' from the word 'CSS'"
      ]
    },
    {
      "cell_type": "code",
      "metadata": {
        "id": "dTLaRUkUz7uI"
      },
      "source": [],
      "execution_count": null,
      "outputs": []
    },
    {
      "cell_type": "markdown",
      "metadata": {
        "id": "grH-DX1Fz7uI"
      },
      "source": [
        "### Exercise 3. "
      ]
    },
    {
      "cell_type": "markdown",
      "metadata": {
        "id": "0V9FTuwMz7uJ"
      },
      "source": [
        "Do you know you can create tuples with only one element?\n",
        "\n",
        "1. In the cell below, define a variable **tup** with a single element \"T\".\n",
        "\n",
        "Hint: you need to add a comma (,) after the single element."
      ]
    },
    {
      "cell_type": "code",
      "metadata": {
        "id": "s-kgzGDdz7uJ"
      },
      "source": [],
      "execution_count": null,
      "outputs": []
    },
    {
      "cell_type": "markdown",
      "metadata": {
        "id": "ThpOBd6iz7uJ"
      },
      "source": [
        "2. Print the type of tup.\n",
        "Make sure its type is correct (i.e. tuple instead of str)."
      ]
    },
    {
      "cell_type": "code",
      "metadata": {
        "id": "oIxW_0Llz7uJ"
      },
      "source": [],
      "execution_count": null,
      "outputs": []
    },
    {
      "cell_type": "markdown",
      "metadata": {
        "id": "RskroqhHz7uK"
      },
      "source": [
        "3. Now try to append the following elements to **tup**.\n",
        "Are you able to do it? Explain.\n",
        "\n",
        "`\"H\", \"E\", \" \", \"B\", \"R\", \"I\", \"D\", \"G\", \"E\",`"
      ]
    },
    {
      "cell_type": "code",
      "metadata": {
        "id": "g0DdLojMz7uK"
      },
      "source": [],
      "execution_count": null,
      "outputs": []
    },
    {
      "cell_type": "markdown",
      "metadata": {
        "id": "t2VOb3p3z7uK"
      },
      "source": [
        "4. How about re-assign a new value to an existing tuple?\n",
        "\n",
        "Re-assign the following elements to **tup**. \n",
        "\n",
        "Are you able to do it? Explain.\n",
        "\n",
        "\n",
        "`\"T\", \"H\", \"E\", \" \", \"B\", \"R\", \"I\", \"D\", \"G\", \"E\",`"
      ]
    },
    {
      "cell_type": "code",
      "metadata": {
        "id": "iEpksxpyz7uL"
      },
      "source": [],
      "execution_count": null,
      "outputs": []
    },
    {
      "cell_type": "markdown",
      "metadata": {
        "id": "_ndntOesz7uL"
      },
      "source": [
        "### Exercise 4. \n",
        "\n",
        "1. Turn **lista_repes** into a *set* in order to get only the uniques values in the list, assing it to a variable called **my_set**"
      ]
    },
    {
      "cell_type": "code",
      "metadata": {
        "id": "1rarx6L9z7uL"
      },
      "source": [
        "lista_repes = [\"data\", \"data\", \"data\", \"science\", \"science\", \"python\", \"python\", \"diomedes\", \"diomedes\", \"diomedes\", \"diomedes\", \"clara\", \"gabriel\", \"gabriel\", \"gabriel\"]"
      ],
      "execution_count": null,
      "outputs": []
    },
    {
      "cell_type": "code",
      "metadata": {
        "id": "Gm0Ltyhyz7uL"
      },
      "source": [],
      "execution_count": null,
      "outputs": []
    },
    {
      "cell_type": "markdown",
      "metadata": {
        "id": "tW2de36Oz7uM"
      },
      "source": [
        "2. Try to print the first element of **my_set**\n",
        "\n",
        "You did good if you get *TypeError: 'set' object is not subscriptable*."
      ]
    },
    {
      "cell_type": "code",
      "metadata": {
        "id": "U1gD458yz7uM"
      },
      "source": [],
      "execution_count": null,
      "outputs": []
    },
    {
      "cell_type": "markdown",
      "metadata": {
        "id": "20zEUiNaz7uM"
      },
      "source": [
        "3. Turn **my_set** into a list, using the function `list()`. \n",
        "\n",
        "Can you print the first element now?"
      ]
    },
    {
      "cell_type": "code",
      "metadata": {
        "id": "F84-99yQz7uM"
      },
      "source": [],
      "execution_count": null,
      "outputs": []
    }
  ]
}