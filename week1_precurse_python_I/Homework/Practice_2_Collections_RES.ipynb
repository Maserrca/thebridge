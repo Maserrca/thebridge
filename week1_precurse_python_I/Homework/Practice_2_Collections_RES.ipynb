{
  "nbformat": 4,
  "nbformat_minor": 0,
  "metadata": {
    "kernelspec": {
      "display_name": "Python 3",
      "language": "python",
      "name": "python3"
    },
    "language_info": {
      "codemirror_mode": {
        "name": "ipython",
        "version": 3
      },
      "file_extension": ".py",
      "mimetype": "text/x-python",
      "name": "python",
      "nbconvert_exporter": "python",
      "pygments_lexer": "ipython3",
      "version": "3.8.3"
    },
    "colab": {
      "name": "Practice_2_Collections_RES.ipynb",
      "provenance": []
    }
  },
  "cells": [
    {
      "cell_type": "markdown",
      "metadata": {
        "id": "EmJmaEe7c4pj"
      },
      "source": [
        "# Python | day 1 | collections"
      ]
    },
    {
      "cell_type": "markdown",
      "metadata": {
        "id": "4ylOjH-yc4pk"
      },
      "source": [
        "Lists, tuples & sets"
      ]
    },
    {
      "cell_type": "markdown",
      "metadata": {
        "id": "EJrOnh3Ac4pl"
      },
      "source": [
        "May help you https://www.w3schools.com/python/python_ref_list.asp"
      ]
    },
    {
      "cell_type": "markdown",
      "metadata": {
        "id": "-kCE4IO6c4pl"
      },
      "source": [
        "### Exercise 1. "
      ]
    },
    {
      "cell_type": "markdown",
      "metadata": {
        "id": "ioCA3ksHc4pl"
      },
      "source": [
        "1. Create:\n",
        "    - a list type variable called **student_list** which contains the name of your classmates. \n",
        "\n",
        "Print the created list. "
      ]
    },
    {
      "cell_type": "code",
      "metadata": {
        "id": "K6LXyL_qc4pm",
        "outputId": "3d3a2b2f-aed3-4f38-976c-bde986ca269e"
      },
      "source": [
        "student_list = alumnos = [\"Xinru Yang wang\", \"Adrià Gallardo Viñas\", \"Leonardo Gastón Frazzetto\", \"Mary Cruz Meza Rivas\", \"Isabel Palomares Tornero\",\\\n",
        " \"Pablo Eduardo Martínez\", \"Miguel Barquero del Pozo\", \"Ignacio Fontal Patac\", \"Jonathan Abbondanza Yanez\", \"MAURO GARCIA-OLIVA\",\\\n",
        " \"Daniel Walker\", \"José Carlos Batista Rivero\", \"Jorgina Garrido Casas\", \"Juan Bayon Fernandez\", \"Jorge García Navarro\",\\\n",
        " \"Susana Vázquez Rodriguez\", \"Sonia Cobo Pacios\", \"Jonathan Suarez\", \"Ignacio Astorga\",\"KARINA INCHE\", \"Pablo Diez Trujillo\"\\\n",
        " \"Marina Serrano Carot\", \"Maryam Ghaderi\", \"Javier Araiz Miranda\", \"María García Maroto\"]\n",
        "\n",
        "\n",
        "student_list"
      ],
      "execution_count": null,
      "outputs": [
        {
          "output_type": "execute_result",
          "data": {
            "text/plain": [
              "['Xinru Yang wang',\n",
              " 'Adrià Gallardo Viñas',\n",
              " 'Leonardo Gastón Frazzetto',\n",
              " 'Mary Cruz Meza Rivas',\n",
              " 'Isabel Palomares Tornero',\n",
              " 'Pablo Eduardo Martínez',\n",
              " 'Miguel Barquero del Pozo',\n",
              " 'Ignacio Fontal Patac',\n",
              " 'Jonathan Abbondanza Yanez',\n",
              " 'MAURO GARCIA-OLIVA',\n",
              " 'Daniel Walker',\n",
              " 'José Carlos Batista Rivero',\n",
              " 'Jorgina Garrido Casas',\n",
              " 'Juan Bayon Fernandez',\n",
              " 'Jorge García Navarro',\n",
              " 'Susana Vázquez Rodriguez',\n",
              " 'Sonia Cobo Pacios',\n",
              " 'Jonathan Suarez',\n",
              " 'Ignacio Astorga',\n",
              " 'KARINA INCHE',\n",
              " 'Pablo Diez TrujilloMarina Serrano Carot',\n",
              " 'Maryam Ghaderi',\n",
              " 'Javier Araiz Miranda',\n",
              " 'María García Maroto']"
            ]
          },
          "metadata": {
            "tags": []
          },
          "execution_count": 1
        }
      ]
    },
    {
      "cell_type": "markdown",
      "metadata": {
        "id": "Rkji7UdMc4pm"
      },
      "source": [
        "### Exercise 2"
      ]
    },
    {
      "cell_type": "markdown",
      "metadata": {
        "id": "WlMUsEK3c4pn"
      },
      "source": [
        "1. Create an empty list, call it **empty_list**"
      ]
    },
    {
      "cell_type": "code",
      "metadata": {
        "id": "0WmDWAXFc4pn"
      },
      "source": [
        "empty_list = []"
      ],
      "execution_count": null,
      "outputs": []
    },
    {
      "cell_type": "markdown",
      "metadata": {
        "id": "olZrK76Hc4pn"
      },
      "source": [
        "2. Create a list with 5 items, call it **my_list**"
      ]
    },
    {
      "cell_type": "code",
      "metadata": {
        "id": "-P82UEuoc4po"
      },
      "source": [
        "my_list = ['M1 Abrams', 'M4 Sherman', 'M24 Chaffe', 'M3 Stuart', 'M3 Lee']"
      ],
      "execution_count": null,
      "outputs": []
    },
    {
      "cell_type": "markdown",
      "metadata": {
        "id": "Mq3-EqqCc4po"
      },
      "source": [
        "3. Find the length of **my_list**\n",
        "\n"
      ]
    },
    {
      "cell_type": "code",
      "metadata": {
        "id": "0PytnHdWc4po",
        "outputId": "7246af4c-9f90-4857-9ba5-782fa5e2f03c"
      },
      "source": [
        "len(my_list)"
      ],
      "execution_count": null,
      "outputs": [
        {
          "output_type": "execute_result",
          "data": {
            "text/plain": [
              "5"
            ]
          },
          "metadata": {
            "tags": []
          },
          "execution_count": 4
        }
      ]
    },
    {
      "cell_type": "markdown",
      "metadata": {
        "id": "gqzymwSOc4po"
      },
      "source": [
        "4. Get the first item, the middle item and the last item of **my_list**\n",
        "\n"
      ]
    },
    {
      "cell_type": "code",
      "metadata": {
        "id": "K2hVeDv8c4pp",
        "outputId": "a8a7ff7d-e54b-4c57-e17c-a429ed976b91"
      },
      "source": [
        "first = my_list[0]\n",
        "middle = my_list[int(len(my_list)/2)]\n",
        "last = my_list[-1]\n",
        "\n",
        "print (f'First: {first}\\nMiddle: {middle}\\nLast: {last}')"
      ],
      "execution_count": null,
      "outputs": [
        {
          "output_type": "stream",
          "text": [
            "First: M1 Abrams\n",
            "Middle: M24 Chaffe\n",
            "Last: M3 Lee\n"
          ],
          "name": "stdout"
        }
      ]
    },
    {
      "cell_type": "markdown",
      "metadata": {
        "id": "cTssgnARc4pp"
      },
      "source": [
        "5. Declare:\n",
        "    - a **name** variable and assign a value to it\n",
        "    - a **age** variable and assign a value to it\n",
        "    - a **height** variable and assign a value to it\n",
        "    - a **country** variable and assign a value to it\n",
        "    - a **python_version** variable and assign a value to it\n"
      ]
    },
    {
      "cell_type": "code",
      "metadata": {
        "id": "G5gBrYDcc4pp"
      },
      "source": [
        "name = 'George S.'\n",
        "age = 60\n",
        "height = 1.68\n",
        "country = 'US'\n",
        "python_version = '3.9.0 64-bit'"
      ],
      "execution_count": null,
      "outputs": []
    },
    {
      "cell_type": "markdown",
      "metadata": {
        "id": "63A7ga5Fc4pq"
      },
      "source": [
        "6. Create a list called **mixed_data_types** with your name, age, height, country and python_version.\n",
        "\n"
      ]
    },
    {
      "cell_type": "code",
      "metadata": {
        "id": "v0RzndWIc4pq"
      },
      "source": [
        "mixed_data_type = [name, age, height, country, python_version]"
      ],
      "execution_count": null,
      "outputs": []
    },
    {
      "cell_type": "markdown",
      "metadata": {
        "id": "lseGUbWtc4pq"
      },
      "source": [
        "7. Declare a list variable named **it_companies** and assign initial values Facebook, Google, Microsoft, Apple, IBM, Oracle and Amazon.\n"
      ]
    },
    {
      "cell_type": "code",
      "metadata": {
        "id": "_1LMIGD_c4pq"
      },
      "source": [
        "it_companies = ['Facebook', 'Google', 'Microsoft', 'Apple', 'IBM', 'Oracle', 'Amazon']"
      ],
      "execution_count": null,
      "outputs": []
    },
    {
      "cell_type": "markdown",
      "metadata": {
        "id": "hM9zQioIc4pq"
      },
      "source": [
        "\n",
        "8. Print **it_companies** using print()\n",
        "\n"
      ]
    },
    {
      "cell_type": "code",
      "metadata": {
        "id": "WGAwV2SVc4pr",
        "outputId": "424bd99b-0ed8-4fdd-be37-3ff459125881"
      },
      "source": [
        "print (it_companies)"
      ],
      "execution_count": null,
      "outputs": [
        {
          "output_type": "stream",
          "text": [
            "['Facebook', 'Google', 'Microsoft', 'Apple', 'IBM', 'Oracle', 'Amazon']\n"
          ],
          "name": "stdout"
        }
      ]
    },
    {
      "cell_type": "markdown",
      "metadata": {
        "id": "4PBNDUzsc4pr"
      },
      "source": [
        "9. Print the number of companies in the list"
      ]
    },
    {
      "cell_type": "code",
      "metadata": {
        "id": "QyeTvQ1cc4pr",
        "outputId": "bc13e3d4-e888-4233-86da-a80bc3b71e42"
      },
      "source": [
        "print(len(it_companies))"
      ],
      "execution_count": null,
      "outputs": [
        {
          "output_type": "stream",
          "text": [
            "7\n"
          ],
          "name": "stdout"
        }
      ]
    },
    {
      "cell_type": "markdown",
      "metadata": {
        "id": "RFzsfPVpc4pr"
      },
      "source": [
        "11. Print *Google*"
      ]
    },
    {
      "cell_type": "code",
      "metadata": {
        "id": "_v9-7OvZc4ps",
        "outputId": "be0d54fc-00f5-4307-8686-80f9517507f2"
      },
      "source": [
        "print(it_companies[1])"
      ],
      "execution_count": null,
      "outputs": [
        {
          "output_type": "stream",
          "text": [
            "Google\n"
          ],
          "name": "stdout"
        }
      ]
    },
    {
      "cell_type": "markdown",
      "metadata": {
        "id": "POn8LZCrc4ps"
      },
      "source": [
        "10. Print the first, middle and last company"
      ]
    },
    {
      "cell_type": "code",
      "metadata": {
        "id": "81RLgoWZc4ps",
        "outputId": "45053e49-529f-4bea-f784-ef0b84720460"
      },
      "source": [
        "first = it_companies[0]\n",
        "middle = it_companies[int(len(it_companies)/2)]\n",
        "last = it_companies[-1]\n",
        "\n",
        "print (f'First: {first}\\nMiddle: {middle}\\nLast: {last}')"
      ],
      "execution_count": null,
      "outputs": [
        {
          "output_type": "stream",
          "text": [
            "First: Facebook\n",
            "Middle: Apple\n",
            "Last: Amazon\n"
          ],
          "name": "stdout"
        }
      ]
    },
    {
      "cell_type": "markdown",
      "metadata": {
        "id": "DVfFPsDdc4ps"
      },
      "source": [
        "11. Assign a new value to the last element of the list "
      ]
    },
    {
      "cell_type": "code",
      "metadata": {
        "id": "jx1FU9TFc4pt",
        "outputId": "24ab1f0d-95b7-461f-83d8-eecdf0ecec57"
      },
      "source": [
        "it_companies[-1] = 'Spitting Image'\n",
        "it_companies[-1]"
      ],
      "execution_count": null,
      "outputs": [
        {
          "output_type": "execute_result",
          "data": {
            "text/plain": [
              "'Spitting Image'"
            ]
          },
          "metadata": {
            "tags": []
          },
          "execution_count": 13
        }
      ]
    },
    {
      "cell_type": "markdown",
      "metadata": {
        "id": "6p_ozQ3Gc4pt"
      },
      "source": [
        "12. Print the list after modifying one of the companies"
      ]
    },
    {
      "cell_type": "code",
      "metadata": {
        "id": "ZfSuYunzc4pt",
        "outputId": "eb621419-87af-40bb-d15e-7610196e851b"
      },
      "source": [
        "it_companies"
      ],
      "execution_count": null,
      "outputs": [
        {
          "output_type": "execute_result",
          "data": {
            "text/plain": [
              "['Facebook', 'Google', 'Microsoft', 'Apple', 'IBM', 'Oracle', 'Spitting Image']"
            ]
          },
          "metadata": {
            "tags": []
          },
          "execution_count": 14
        }
      ]
    },
    {
      "cell_type": "markdown",
      "metadata": {
        "id": "3ctLzwq4c4pt"
      },
      "source": [
        "## Bonus track."
      ]
    },
    {
      "cell_type": "markdown",
      "metadata": {
        "id": "Z9tT86nTc4pt"
      },
      "source": [
        "13. Add an IT company to **it_companies**\n",
        "\n"
      ]
    },
    {
      "cell_type": "code",
      "metadata": {
        "id": "gCeaj891c4pu"
      },
      "source": [
        "it_companies.append('Id software')"
      ],
      "execution_count": null,
      "outputs": []
    },
    {
      "cell_type": "markdown",
      "metadata": {
        "id": "OVaU7pr6c4pu"
      },
      "source": [
        "14. Check if *Apple* exists in the **it_companies** list."
      ]
    },
    {
      "cell_type": "code",
      "metadata": {
        "id": "KmForC81c4pu",
        "outputId": "7957c4ac-5a98-4cad-80ab-871e006aa635"
      },
      "source": [
        "if 'apple' in it_companies:\n",
        "    print('Yes')\n",
        "elif 'Apple' in it_companies:\n",
        "    print('The TA forgot to capitalize \"apple\" above and added this...\\nBut, yes')\n",
        "else:\n",
        "    print('No')"
      ],
      "execution_count": null,
      "outputs": [
        {
          "output_type": "stream",
          "text": [
            "The TA forgot to capitalize \"apple\" above and added this...\n",
            "But, yes\n"
          ],
          "name": "stdout"
        }
      ]
    },
    {
      "cell_type": "markdown",
      "metadata": {
        "id": "WqSaLZByc4pu"
      },
      "source": [
        "15. Sort the list using `sort()` method\n",
        "\n"
      ]
    },
    {
      "cell_type": "code",
      "metadata": {
        "id": "bm-qOcTPc4pu",
        "outputId": "02d68831-40da-4578-9f14-fb7b6f408651"
      },
      "source": [
        "print(it_companies)\n",
        "it_companies.sort()\n",
        "\n",
        "print(it_companies)"
      ],
      "execution_count": null,
      "outputs": [
        {
          "output_type": "stream",
          "text": [
            "['Facebook', 'Google', 'Microsoft', 'Apple', 'IBM', 'Oracle', 'Spitting Image', 'Id software']\n",
            "['Apple', 'Facebook', 'Google', 'IBM', 'Id software', 'Microsoft', 'Oracle', 'Spitting Image']\n"
          ],
          "name": "stdout"
        }
      ]
    },
    {
      "cell_type": "markdown",
      "metadata": {
        "id": "Uo-fXceyc4pv"
      },
      "source": [
        "16. Reverse the list in descending order using `reverse()` method\n",
        "\n"
      ]
    },
    {
      "cell_type": "code",
      "metadata": {
        "id": "pqV52CINc4pv",
        "outputId": "4dc3a58d-f23f-4463-83ac-9de18c727388"
      },
      "source": [
        "print(it_companies)\n",
        "it_companies.reverse()\n",
        "\n",
        "print(it_companies)"
      ],
      "execution_count": null,
      "outputs": [
        {
          "output_type": "stream",
          "text": [
            "['Apple', 'Facebook', 'Google', 'IBM', 'Id software', 'Microsoft', 'Oracle', 'Spitting Image']\n",
            "['Spitting Image', 'Oracle', 'Microsoft', 'Id software', 'IBM', 'Google', 'Facebook', 'Apple']\n"
          ],
          "name": "stdout"
        }
      ]
    },
    {
      "cell_type": "markdown",
      "metadata": {
        "id": "kzW3J005c4pv"
      },
      "source": [
        "17. Slice out the first 3 companies from the list\n",
        "\n"
      ]
    },
    {
      "cell_type": "code",
      "metadata": {
        "id": "wKhT8QYLc4pv",
        "outputId": "c52450b2-5031-4f7a-aae2-ddedc575bff3"
      },
      "source": [
        "it_companies_2 = it_companies[:3]\n",
        "it_companies_2"
      ],
      "execution_count": null,
      "outputs": [
        {
          "output_type": "execute_result",
          "data": {
            "text/plain": [
              "['Spitting Image', 'Oracle', 'Microsoft']"
            ]
          },
          "metadata": {
            "tags": []
          },
          "execution_count": 19
        }
      ]
    },
    {
      "cell_type": "markdown",
      "metadata": {
        "id": "BCpxqhkgc4pw"
      },
      "source": [
        "18. Remove the last IT company from the list\n"
      ]
    },
    {
      "cell_type": "code",
      "metadata": {
        "id": "SrEfxUj5c4pw",
        "outputId": "31c25613-f697-4bce-9263-1802fe587da8"
      },
      "source": [
        "print(it_companies[-1])\n",
        "it_companies.remove(it_companies[-1])\n",
        "\n",
        "print(it_companies[-1])"
      ],
      "execution_count": null,
      "outputs": [
        {
          "output_type": "stream",
          "text": [
            "Apple\n",
            "Facebook\n"
          ],
          "name": "stdout"
        }
      ]
    },
    {
      "cell_type": "markdown",
      "metadata": {
        "id": "A8cj7KnOc4pw"
      },
      "source": [
        "19. Remove all IT companies from the list"
      ]
    },
    {
      "cell_type": "code",
      "metadata": {
        "id": "qkvaoT-vc4pw",
        "outputId": "3f3653a4-9255-4c99-e413-3e152550c4c6"
      },
      "source": [
        "print(len(it_companies))\n",
        "it_companies.clear()\n",
        "\n",
        "print(len(it_companies))"
      ],
      "execution_count": null,
      "outputs": [
        {
          "output_type": "stream",
          "text": [
            "7\n",
            "0\n"
          ],
          "name": "stdout"
        }
      ]
    },
    {
      "cell_type": "markdown",
      "metadata": {
        "id": "J3QUsYtJc4px"
      },
      "source": [
        "20. Join the following lists, and call the list **end**:\n",
        "\n",
        "```python\n",
        "front_end = [['HTML', 'CSS'], 'JS', 'React', 'Redux']\n",
        "back_end = ['Node','Express', 'MongoDB']\n",
        "```"
      ]
    },
    {
      "cell_type": "code",
      "metadata": {
        "id": "1kWqg7psc4px",
        "outputId": "db036d5e-c39e-477b-ecdc-b74f8fb7c008"
      },
      "source": [
        "front_end = [['HTML', 'CSS'], 'JS', 'React', 'Redux']\n",
        "back_end = ['Node','Express', 'MongoDB']\n",
        "\n",
        "joined = front_end + back_end\n",
        "joined"
      ],
      "execution_count": null,
      "outputs": [
        {
          "output_type": "execute_result",
          "data": {
            "text/plain": [
              "[['HTML', 'CSS'], 'JS', 'React', 'Redux', 'Node', 'Express', 'MongoDB']"
            ]
          },
          "metadata": {
            "tags": []
          },
          "execution_count": 22
        }
      ]
    },
    {
      "cell_type": "markdown",
      "metadata": {
        "id": "Tz285uYec4px"
      },
      "source": [
        "21. From the **end** list print 'HTML'"
      ]
    },
    {
      "cell_type": "code",
      "metadata": {
        "id": "W1eVMfpSc4px",
        "outputId": "c91c6457-d2b8-4362-fba4-dbae24b5887d"
      },
      "source": [
        "print (joined[0][0])"
      ],
      "execution_count": null,
      "outputs": [
        {
          "output_type": "stream",
          "text": [
            "HTML\n"
          ],
          "name": "stdout"
        }
      ]
    },
    {
      "cell_type": "markdown",
      "metadata": {
        "id": "gNvUlBDnc4py"
      },
      "source": [
        "22. From the end list print the 'C' from the word 'CSS'"
      ]
    },
    {
      "cell_type": "code",
      "metadata": {
        "id": "z6czwkCEc4py",
        "outputId": "2a1f1540-0274-4214-de40-ce909c7c94a2"
      },
      "source": [
        "print (joined[0][1][0])"
      ],
      "execution_count": null,
      "outputs": [
        {
          "output_type": "stream",
          "text": [
            "C\n"
          ],
          "name": "stdout"
        }
      ]
    },
    {
      "cell_type": "markdown",
      "metadata": {
        "id": "XLmsKT8fc4py"
      },
      "source": [
        "### Exercise 3. "
      ]
    },
    {
      "cell_type": "markdown",
      "metadata": {
        "id": "FuIISxFcc4py"
      },
      "source": [
        "Do you know you can create tuples with only one element?\n",
        "\n",
        "1. In the cell below, define a variable **tup** with a single element \"T\".\n",
        "\n",
        "Hint: you need to add a comma (,) after the single element."
      ]
    },
    {
      "cell_type": "code",
      "metadata": {
        "id": "O33-Vawoc4pz",
        "outputId": "df262143-bf54-4d46-9c24-3df20c448e40"
      },
      "source": [
        "tup = ('Great',)\n",
        "print(tup)"
      ],
      "execution_count": null,
      "outputs": [
        {
          "output_type": "stream",
          "text": [
            "('Great',)\n"
          ],
          "name": "stdout"
        }
      ]
    },
    {
      "cell_type": "markdown",
      "metadata": {
        "id": "S5YcoNF2c4p0"
      },
      "source": [
        "2. Print the type of tup.\n",
        "Make sure its type is correct (i.e. tuple instead of str)."
      ]
    },
    {
      "cell_type": "code",
      "metadata": {
        "id": "JfsIQ58_c4p0",
        "outputId": "2158ddf4-d319-416b-9856-c174f7aa817c"
      },
      "source": [
        "print(type(tup))"
      ],
      "execution_count": null,
      "outputs": [
        {
          "output_type": "stream",
          "text": [
            "<class 'tuple'>\n"
          ],
          "name": "stdout"
        }
      ]
    },
    {
      "cell_type": "markdown",
      "metadata": {
        "id": "Z10Rs7ONc4p0"
      },
      "source": [
        "3. Now try to append the following elements to **tup**.\n",
        "Are you able to do it? Explain.\n",
        "\n",
        "`\"H\", \"E\", \" \", \"B\", \"R\", \"I\", \"D\", \"G\", \"E\",`"
      ]
    },
    {
      "cell_type": "code",
      "metadata": {
        "id": "xMBrWuMUc4p0",
        "outputId": "5017c9df-910f-4711-ec1a-4d33f2b7c756"
      },
      "source": [
        "tup = (\"T\", \"H\", \"E\", \" \", \"B\", \"R\", \"I\", \"D\", \"G\", \"E\")\n",
        "print(tup)"
      ],
      "execution_count": null,
      "outputs": [
        {
          "output_type": "stream",
          "text": [
            "('T', 'H', 'E', ' ', 'B', 'R', 'I', 'D', 'G', 'E')\n"
          ],
          "name": "stdout"
        }
      ]
    },
    {
      "cell_type": "markdown",
      "metadata": {
        "id": "ndvvE-2ec4p1"
      },
      "source": [
        "4. How about re-assign a new value to an existing tuple?\n",
        "\n",
        "Re-assign the following elements to **tup**. \n",
        "\n",
        "Are you able to do it? Explain.\n",
        "\n",
        "\n",
        "`\"T\", \"H\", \"E\", \" \", \"B\", \"R\", \"I\", \"D\", \"G\", \"E\",\n",
        "\n",
        "EDIT. Reassing a value of your choice to **tup**"
      ]
    },
    {
      "cell_type": "code",
      "metadata": {
        "id": "Mm3Bj_Yxc4p1",
        "outputId": "d5e98d4a-4c46-4e0b-949e-8a9494cc58fe"
      },
      "source": [
        "tup = (\"It's cold outside\", \"There's no kind of atmosphere\", \"I'm all alone\", \"... more or less\")\n",
        "tup"
      ],
      "execution_count": null,
      "outputs": [
        {
          "output_type": "execute_result",
          "data": {
            "text/plain": [
              "(\"It's cold outside\",\n",
              " \"There's no kind of atmosphere\",\n",
              " \"I'm all alone\",\n",
              " '... more or less')"
            ]
          },
          "metadata": {
            "tags": []
          },
          "execution_count": 28
        }
      ]
    },
    {
      "cell_type": "markdown",
      "metadata": {
        "id": "04ZAoFi5c4p1"
      },
      "source": [
        "### Exercise 4. \n",
        "\n",
        "1. Turn **lista_repes** into a *set* in order to get only the uniques values in the list, assing it to a variable called **my_set**"
      ]
    },
    {
      "cell_type": "code",
      "metadata": {
        "id": "wenm1nlbc4p1"
      },
      "source": [
        "lista_repes = [\"data\", \"data\", \"data\", \"science\", \"science\", \"python\", \"python\", \"borja\", \"borja\", \"borja\", \"monica\", \"monica\", \"clara\", \"gabriel\", \"gabriel\", \"gabriel\"]"
      ],
      "execution_count": null,
      "outputs": []
    },
    {
      "cell_type": "code",
      "metadata": {
        "id": "rCXUYNA8c4p2",
        "outputId": "6a326a5f-c36d-4b01-c9c7-3e0e202b1e85"
      },
      "source": [
        "my_set = set(lista_repes)\n",
        "print(my_set)"
      ],
      "execution_count": null,
      "outputs": [
        {
          "output_type": "stream",
          "text": [
            "{'borja', 'clara', 'data', 'monica', 'python', 'science', 'gabriel'}\n"
          ],
          "name": "stdout"
        }
      ]
    },
    {
      "cell_type": "markdown",
      "metadata": {
        "id": "8Lo4LHBDc4p2"
      },
      "source": [
        "2. Try to print the first element of **my_set**\n",
        "\n",
        "You did good if you get *TypeError: 'set' object is not subscriptable*."
      ]
    },
    {
      "cell_type": "code",
      "metadata": {
        "id": "u05OuH8mc4p2",
        "outputId": "c14c27f5-5017-4625-8708-fe3de9c1fc6d"
      },
      "source": [
        "print(my_set[0])"
      ],
      "execution_count": null,
      "outputs": [
        {
          "output_type": "error",
          "ename": "TypeError",
          "evalue": "'set' object is not subscriptable",
          "traceback": [
            "\u001b[1;31m---------------------------------------------------------------------------\u001b[0m",
            "\u001b[1;31mTypeError\u001b[0m                                 Traceback (most recent call last)",
            "\u001b[1;32m<ipython-input-31-502d757570ee>\u001b[0m in \u001b[0;36m<module>\u001b[1;34m\u001b[0m\n\u001b[1;32m----> 1\u001b[1;33m \u001b[0mprint\u001b[0m\u001b[1;33m(\u001b[0m\u001b[0mmy_set\u001b[0m\u001b[1;33m[\u001b[0m\u001b[1;36m0\u001b[0m\u001b[1;33m]\u001b[0m\u001b[1;33m)\u001b[0m\u001b[1;33m\u001b[0m\u001b[1;33m\u001b[0m\u001b[0m\n\u001b[0m",
            "\u001b[1;31mTypeError\u001b[0m: 'set' object is not subscriptable"
          ]
        }
      ]
    },
    {
      "cell_type": "markdown",
      "metadata": {
        "id": "1Ue8ORVEc4p2"
      },
      "source": [
        "3. Turn **my_set** into a list, using the function `list()`. \n",
        "\n",
        "Can you print the first element now?"
      ]
    },
    {
      "cell_type": "code",
      "metadata": {
        "id": "w7YhX8sTc4p2",
        "outputId": "609b3e79-ffd0-4650-aadc-a06d15ef3e6c"
      },
      "source": [
        "my_set = list(my_set)\n",
        "print(my_set[0])"
      ],
      "execution_count": null,
      "outputs": [
        {
          "output_type": "stream",
          "text": [
            "borja\n"
          ],
          "name": "stdout"
        }
      ]
    },
    {
      "cell_type": "code",
      "metadata": {
        "id": "8puJAhkZc4p3"
      },
      "source": [
        ""
      ],
      "execution_count": null,
      "outputs": []
    }
  ]
}