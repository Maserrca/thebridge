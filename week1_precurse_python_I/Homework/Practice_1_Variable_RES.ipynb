{
  "nbformat": 4,
  "nbformat_minor": 0,
  "metadata": {
    "kernelspec": {
      "display_name": "Python 3",
      "language": "python",
      "name": "python3"
    },
    "language_info": {
      "codemirror_mode": {
        "name": "ipython",
        "version": 3
      },
      "file_extension": ".py",
      "mimetype": "text/x-python",
      "name": "python",
      "nbconvert_exporter": "python",
      "pygments_lexer": "ipython3",
      "version": "3.8.3"
    },
    "colab": {
      "name": "Practice_1_Variable_RES.ipynb",
      "provenance": []
    }
  },
  "cells": [
    {
      "cell_type": "markdown",
      "metadata": {
        "id": "MPZPzcDPc4IY"
      },
      "source": [
        "# Python | day 1 | variables"
      ]
    },
    {
      "cell_type": "markdown",
      "metadata": {
        "id": "BNFPxIW0c4Ie"
      },
      "source": [
        "Variables are nothing but reserved memory locations to store values. This means that when you create a variable you reserve some space in memory.\n",
        "\n",
        "Based on the data type of a variable, the interpreter allocates memory and decides what can be stored in the reserved memory. Therefore, by assigning different data types to variables, you can store integers, decimals or characters in these variables."
      ]
    },
    {
      "cell_type": "markdown",
      "metadata": {
        "id": "UrPIC3Zvc4If"
      },
      "source": [
        "### Exercise 1.\n",
        "\n",
        "1. Write a python comment saying _'My very first python code:'_"
      ]
    },
    {
      "cell_type": "code",
      "metadata": {
        "id": "8unqhDHpc4If"
      },
      "source": [
        "# 'My very first python code:'"
      ],
      "execution_count": null,
      "outputs": []
    },
    {
      "cell_type": "markdown",
      "metadata": {
        "id": "jUpVRJa8c4Ig"
      },
      "source": [
        "2. Declare a **first name** variable and assign a value to it\n"
      ]
    },
    {
      "cell_type": "code",
      "metadata": {
        "id": "7pTUYOVIc4Ig"
      },
      "source": [
        "first_name = \"Doomguy\""
      ],
      "execution_count": null,
      "outputs": []
    },
    {
      "cell_type": "markdown",
      "metadata": {
        "id": "7JFZ_wPrc4Ig"
      },
      "source": [
        "3. Declare a **last name** variable and assign a value to it\n"
      ]
    },
    {
      "cell_type": "code",
      "metadata": {
        "id": "ohG4SEQRc4Ih"
      },
      "source": [
        "last_name = \"Doom\""
      ],
      "execution_count": null,
      "outputs": []
    },
    {
      "cell_type": "markdown",
      "metadata": {
        "id": "G4eIjLhdc4Ih"
      },
      "source": [
        "4. Declare a **full name** variable and assign a value to it\n"
      ]
    },
    {
      "cell_type": "code",
      "metadata": {
        "id": "J1m9z1s2c4Ih",
        "outputId": "54c86268-c696-43c4-fc9b-9f8275e26d07"
      },
      "source": [
        "full_name = \"DoomGuy Doom\"\n",
        "full_name_2 = first_name + \" \" + last_name\n",
        "\n",
        "print(f'{full_name}\\n{full_name_2}')"
      ],
      "execution_count": null,
      "outputs": [
        {
          "output_type": "stream",
          "text": [
            "DoomGuy Doom\n",
            "Doomguy Doom\n"
          ],
          "name": "stdout"
        }
      ]
    },
    {
      "cell_type": "markdown",
      "metadata": {
        "id": "bMHrH26Bc4Ii"
      },
      "source": [
        "5. Declare a **country** variable and assign a value to it"
      ]
    },
    {
      "cell_type": "code",
      "metadata": {
        "id": "kbwzIvUEc4Ii"
      },
      "source": [
        "country = \"USA\""
      ],
      "execution_count": null,
      "outputs": []
    },
    {
      "cell_type": "markdown",
      "metadata": {
        "id": "IzwyZNGYc4Ij"
      },
      "source": [
        "6. Declare a **city** variable and assign a value to it"
      ]
    },
    {
      "cell_type": "code",
      "metadata": {
        "id": "J2nCMKa5c4Ij"
      },
      "source": [
        "city = \"Los Angeles\""
      ],
      "execution_count": null,
      "outputs": []
    },
    {
      "cell_type": "markdown",
      "metadata": {
        "id": "oGy4UtGuc4Ij"
      },
      "source": [
        "7. Declare an **age** variable and assign a value to it"
      ]
    },
    {
      "cell_type": "code",
      "metadata": {
        "id": "th33pg_mc4Ij"
      },
      "source": [
        "age = 105"
      ],
      "execution_count": null,
      "outputs": []
    },
    {
      "cell_type": "markdown",
      "metadata": {
        "id": "rG7wNEv9c4Ik"
      },
      "source": [
        "8. Declare a **year** variable and assign a value to it"
      ]
    },
    {
      "cell_type": "code",
      "metadata": {
        "id": "7e_ASdm_c4Ik"
      },
      "source": [
        "year = 1984"
      ],
      "execution_count": null,
      "outputs": []
    },
    {
      "cell_type": "markdown",
      "metadata": {
        "id": "0rPW812Xc4Ik"
      },
      "source": [
        "9. Declare a variable **is_married** and assign a value to it"
      ]
    },
    {
      "cell_type": "code",
      "metadata": {
        "id": "-XG2dJO8c4Ik"
      },
      "source": [
        "is_married = \"married\"\n",
        "\n",
        "# With booleans\n",
        "is_married_2 = True"
      ],
      "execution_count": null,
      "outputs": []
    },
    {
      "cell_type": "markdown",
      "metadata": {
        "id": "tHIO_5Hec4Ik"
      },
      "source": [
        "10. Declare a variable **is_true** and assign a value to it"
      ]
    },
    {
      "cell_type": "code",
      "metadata": {
        "id": "uPRtGuwpc4Il"
      },
      "source": [
        "is_true = \"NO\"\n",
        "\n",
        "# With booleans\n",
        "is_true_2 = False"
      ],
      "execution_count": null,
      "outputs": []
    },
    {
      "cell_type": "markdown",
      "metadata": {
        "id": "_5JM9WB3c4Il"
      },
      "source": [
        "11. Declare a variable **is_light_on** and assign a value to it"
      ]
    },
    {
      "cell_type": "code",
      "metadata": {
        "id": "xz8EGE5tc4Il"
      },
      "source": [
        "is_light_on = \"Yes\"\n",
        "\n",
        "# With Booleans\n",
        "is_light_on_2 = True"
      ],
      "execution_count": null,
      "outputs": []
    },
    {
      "cell_type": "markdown",
      "metadata": {
        "id": "qEPpN05bc4Il"
      },
      "source": [
        "## Exercise 2. \n",
        "\n",
        "1. Check the data type of all your variables using `type()` built-in function\n"
      ]
    },
    {
      "cell_type": "code",
      "metadata": {
        "id": "aukvDZuoc4Il",
        "outputId": "172caa0b-ea1a-470b-b0c8-6e4505a1ce89"
      },
      "source": [
        "print (type(first_name), type(last_name), type(full_name))\n",
        "print (\"----\\n\")\n",
        "\n",
        "print (type(city), type(country))\n",
        "print (\"----\\n\")\n",
        "\n",
        "print (type(age))\n",
        "print (\"----\\n\")\n",
        "\n",
        "print (type(year))\n",
        "print (\"----\\n\")\n",
        "\n",
        "print (type(is_married))\n",
        "print (type(is_married_2))\n",
        "print (\"----\\n\")\n",
        "\n",
        "print (type(is_true))\n",
        "print (type(is_true_2))\n",
        "print (\"----\\n\")\n",
        "\n",
        "print (type(is_true))\n",
        "print (type(is_true_2))"
      ],
      "execution_count": null,
      "outputs": [
        {
          "output_type": "stream",
          "text": [
            "<class 'str'> <class 'str'> <class 'str'>\n",
            "----\n",
            "\n",
            "<class 'str'> <class 'str'>\n",
            "----\n",
            "\n",
            "<class 'int'>\n",
            "----\n",
            "\n",
            "<class 'int'>\n",
            "----\n",
            "\n",
            "<class 'str'>\n",
            "<class 'bool'>\n",
            "----\n",
            "\n",
            "<class 'str'>\n",
            "<class 'bool'>\n",
            "----\n",
            "\n",
            "<class 'str'>\n",
            "<class 'bool'>\n"
          ],
          "name": "stdout"
        }
      ]
    },
    {
      "cell_type": "markdown",
      "metadata": {
        "id": "bGI01Twvc4Im"
      },
      "source": [
        "Turn the variable **age**, which should be *integer*, into type *float*. This action is known as cast a variable."
      ]
    },
    {
      "cell_type": "code",
      "metadata": {
        "id": "F8UziLzMc4Im",
        "outputId": "6ec07f8d-4e89-42b4-9462-07e434803250"
      },
      "source": [
        "age_float = float(age)\n",
        "print(age_float)"
      ],
      "execution_count": null,
      "outputs": [
        {
          "output_type": "stream",
          "text": [
            "105.0\n"
          ],
          "name": "stdout"
        }
      ]
    },
    {
      "cell_type": "markdown",
      "metadata": {
        "id": "Ebnrd2Xjc4Im"
      },
      "source": [
        "2. Using the `len()` built-in function find the length of your first name\n"
      ]
    },
    {
      "cell_type": "code",
      "metadata": {
        "id": "PtLuZLY3c4In",
        "outputId": "f268f5cb-33b1-4b74-f1eb-4311b0e78de0"
      },
      "source": [
        "print(len(first_name))"
      ],
      "execution_count": null,
      "outputs": [
        {
          "output_type": "stream",
          "text": [
            "7\n"
          ],
          "name": "stdout"
        }
      ]
    },
    {
      "cell_type": "markdown",
      "metadata": {
        "id": "KCzwNoB0c4In"
      },
      "source": [
        "3. Compare the length of your first name and your last name\n"
      ]
    },
    {
      "cell_type": "code",
      "metadata": {
        "id": "pRuFfVR9c4In",
        "outputId": "7578d256-3bd5-46ea-9f89-20b058a0af8d"
      },
      "source": [
        "difference = len(first_name) - len(last_name)\n",
        "\n",
        "print (f\"Between {first_name} and {last_name} there is a difference of {difference} characters\")"
      ],
      "execution_count": null,
      "outputs": [
        {
          "output_type": "stream",
          "text": [
            "Between Doomguy and Doom there is a difference of 3 characters\n"
          ],
          "name": "stdout"
        }
      ]
    },
    {
      "cell_type": "markdown",
      "metadata": {
        "id": "sH5_WtWkc4In"
      },
      "source": [
        "4. Declare 5 as **num_one** and 4 as **num_two**\n"
      ]
    },
    {
      "cell_type": "code",
      "metadata": {
        "id": "P9VovASMc4In"
      },
      "source": [
        "num_one = 5\n",
        "num_two = 4"
      ],
      "execution_count": null,
      "outputs": []
    },
    {
      "cell_type": "markdown",
      "metadata": {
        "id": "vBBZ3EQZc4Io"
      },
      "source": [
        "5. Add **num_one** and **num_two** and assign the value to a variable **_total**\n"
      ]
    },
    {
      "cell_type": "code",
      "metadata": {
        "id": "jdg_4CV1c4Io",
        "outputId": "838884bb-b56e-48f6-e0c1-60a90c2811ba"
      },
      "source": [
        "_total = num_one + num_two\n",
        "_total"
      ],
      "execution_count": null,
      "outputs": [
        {
          "output_type": "execute_result",
          "data": {
            "text/plain": [
              "9"
            ]
          },
          "metadata": {
            "tags": []
          },
          "execution_count": 17
        }
      ]
    },
    {
      "cell_type": "markdown",
      "metadata": {
        "id": "CELMii4oc4Io"
      },
      "source": [
        "6. Subtract num_two from num_one and assign the value to a variable _diff\n"
      ]
    },
    {
      "cell_type": "code",
      "metadata": {
        "id": "t81ghfx4c4Io",
        "outputId": "9253f322-0bb9-4e94-b1a6-0d6c79e3fc78"
      },
      "source": [
        "variable_diff = num_one - num_two\n",
        "variable_diff"
      ],
      "execution_count": null,
      "outputs": [
        {
          "output_type": "execute_result",
          "data": {
            "text/plain": [
              "1"
            ]
          },
          "metadata": {
            "tags": []
          },
          "execution_count": 18
        }
      ]
    },
    {
      "cell_type": "markdown",
      "metadata": {
        "id": "r4p7D8N2c4Ip"
      },
      "source": [
        "7. Multiply **num_two** and **num_one** and assign the value to a variable **_product**\n"
      ]
    },
    {
      "cell_type": "code",
      "metadata": {
        "id": "_oBWHXKec4Ip",
        "outputId": "1153dbe0-4aa7-4f8a-ed73-d3229b490bbf"
      },
      "source": [
        "variable_product = num_one * num_two\n",
        "variable_product"
      ],
      "execution_count": null,
      "outputs": [
        {
          "output_type": "execute_result",
          "data": {
            "text/plain": [
              "20"
            ]
          },
          "metadata": {
            "tags": []
          },
          "execution_count": 19
        }
      ]
    },
    {
      "cell_type": "markdown",
      "metadata": {
        "id": "3CvyMzAbc4Ip"
      },
      "source": [
        "8. Divide **num_one** by **num_two** and assign the value to a variable **_division**\n"
      ]
    },
    {
      "cell_type": "code",
      "metadata": {
        "id": "6eH0nddzc4Ip",
        "outputId": "a390bb3a-4bd3-4f5f-cb81-fcd34ba11971"
      },
      "source": [
        "variable_division = num_one / num_two\n",
        "variable_division"
      ],
      "execution_count": null,
      "outputs": [
        {
          "output_type": "execute_result",
          "data": {
            "text/plain": [
              "1.25"
            ]
          },
          "metadata": {
            "tags": []
          },
          "execution_count": 20
        }
      ]
    },
    {
      "cell_type": "markdown",
      "metadata": {
        "id": "2qryQCXsc4Iq"
      },
      "source": [
        "9. Use modulus division to find **num_two** divided by **num_one** and assign the value to a variable **_remainder**\n"
      ]
    },
    {
      "cell_type": "code",
      "metadata": {
        "id": "MZpCjWBNc4Iq",
        "outputId": "01a4b9f2-c0bc-40ee-c16f-2b5e708de45b"
      },
      "source": [
        "_remainder = num_two % num_one\n",
        "_remainder"
      ],
      "execution_count": null,
      "outputs": [
        {
          "output_type": "execute_result",
          "data": {
            "text/plain": [
              "4"
            ]
          },
          "metadata": {
            "tags": []
          },
          "execution_count": 21
        }
      ]
    },
    {
      "cell_type": "markdown",
      "metadata": {
        "id": "Y2To46xFc4Iq"
      },
      "source": [
        "10. Calculate **num_one** to the power of **num_two** and assign the value to variable **_exp**\n"
      ]
    },
    {
      "cell_type": "code",
      "metadata": {
        "id": "kKhVt6Aac4Iq",
        "outputId": "2c1fd7c9-ccb4-4679-a748-9454dd089a8e"
      },
      "source": [
        "_exp = num_one ** num_two\n",
        "_exp"
      ],
      "execution_count": null,
      "outputs": [
        {
          "output_type": "execute_result",
          "data": {
            "text/plain": [
              "625"
            ]
          },
          "metadata": {
            "tags": []
          },
          "execution_count": 22
        }
      ]
    },
    {
      "cell_type": "markdown",
      "metadata": {
        "id": "ZrD8AuIEc4Ir"
      },
      "source": [
        "11. Find floor division of **num_one** by **num_two** and assign the value to a variable **_floor_division**\n"
      ]
    },
    {
      "cell_type": "code",
      "metadata": {
        "id": "W8h7KQAtc4Ir",
        "outputId": "a90031ae-7fe5-497a-b502-d9de0eec5904"
      },
      "source": [
        "_floor_division = num_one // num_two\n",
        "_floor_division"
      ],
      "execution_count": null,
      "outputs": [
        {
          "output_type": "execute_result",
          "data": {
            "text/plain": [
              "1"
            ]
          },
          "metadata": {
            "tags": []
          },
          "execution_count": 23
        }
      ]
    },
    {
      "cell_type": "markdown",
      "metadata": {
        "id": "Vj9mAePPc4Is"
      },
      "source": [
        "## Bonus track. "
      ]
    },
    {
      "cell_type": "markdown",
      "metadata": {
        "id": "CydtzzInc4Is"
      },
      "source": [
        "12. The radius of a circle is 30 meters. \n",
        "    Calculate the area of a circle and assign the value to a variable **area_of_circle**"
      ]
    },
    {
      "cell_type": "code",
      "metadata": {
        "id": "NrO6FJa9c4Is",
        "outputId": "4573a1a7-3c0d-4637-d611-6a436f9d13a2"
      },
      "source": [
        "pi = 3.141692\n",
        "radius = 6\n",
        "\n",
        "_area_of_circle = pi * radius ** 2\n",
        "print (_area_of_circle)"
      ],
      "execution_count": null,
      "outputs": [
        {
          "output_type": "stream",
          "text": [
            "113.100912\n"
          ],
          "name": "stdout"
        }
      ]
    },
    {
      "cell_type": "code",
      "metadata": {
        "id": "dNzICA4Ac4Is",
        "outputId": "b41829ae-9f75-462d-a440-a36159f46810"
      },
      "source": [
        "# Using the math library\n",
        "import math\n",
        "\n",
        "_area_of_circle_2 = math.pi * radius ** 2\n",
        "print (_area_of_circle_2)"
      ],
      "execution_count": null,
      "outputs": [
        {
          "output_type": "stream",
          "text": [
            "113.09733552923255\n"
          ],
          "name": "stdout"
        }
      ]
    },
    {
      "cell_type": "markdown",
      "metadata": {
        "id": "JbTirVvLc4Is"
      },
      "source": [
        "13. Calculate the circumference of a circle and assign the value to a variable **circum_of_circle**\n"
      ]
    },
    {
      "cell_type": "code",
      "metadata": {
        "id": "7z4ylVuxc4It",
        "outputId": "73bd3ce1-9fe6-4723-d360-e356c1ebfdf9"
      },
      "source": [
        "circum_of_circle = 2 * pi * radius\n",
        "circum_of_circle"
      ],
      "execution_count": null,
      "outputs": [
        {
          "output_type": "execute_result",
          "data": {
            "text/plain": [
              "37.700304"
            ]
          },
          "metadata": {
            "tags": []
          },
          "execution_count": 26
        }
      ]
    },
    {
      "cell_type": "code",
      "metadata": {
        "id": "FDkmO55Ic4It",
        "outputId": "bf9ca11f-d05a-469a-84b8-4b47e1b652ed"
      },
      "source": [
        "# Using the math library\n",
        "\n",
        "circum_of_circle_2 = 2 * math.pi * radius\n",
        "circum_of_circle_2"
      ],
      "execution_count": null,
      "outputs": [
        {
          "output_type": "execute_result",
          "data": {
            "text/plain": [
              "37.69911184307752"
            ]
          },
          "metadata": {
            "tags": []
          },
          "execution_count": 27
        }
      ]
    },
    {
      "cell_type": "markdown",
      "metadata": {
        "id": "NyFM6xmBc4It"
      },
      "source": [
        "14. Take radius as user input and calculate the area.\n"
      ]
    },
    {
      "cell_type": "code",
      "metadata": {
        "id": "m4DWS4Svc4It",
        "outputId": "6e8e03e2-b78f-4738-db6d-2181d004bc27"
      },
      "source": [
        "radius = int(input(\"Value of radius here: \"))\n",
        "\n",
        "_area_of_circle = pi * radius ** 2\n",
        "_area_of_circle"
      ],
      "execution_count": null,
      "outputs": [
        {
          "output_type": "stream",
          "text": [
            "Value of radius here: 3\n"
          ],
          "name": "stdout"
        },
        {
          "output_type": "execute_result",
          "data": {
            "text/plain": [
              "28.275228"
            ]
          },
          "metadata": {
            "tags": []
          },
          "execution_count": 28
        }
      ]
    },
    {
      "cell_type": "code",
      "metadata": {
        "id": "NyfuK4VTc4Iu",
        "outputId": "be5550c6-77e3-46c5-dd9e-ae1c9f2ce2d9"
      },
      "source": [
        "# Using the math library\n",
        "\n",
        "_area_of_circle_2 = math.pi * int(radius) ** 2\n",
        "_area_of_circle_2"
      ],
      "execution_count": null,
      "outputs": [
        {
          "output_type": "execute_result",
          "data": {
            "text/plain": [
              "28.274333882308138"
            ]
          },
          "metadata": {
            "tags": []
          },
          "execution_count": 29
        }
      ]
    },
    {
      "cell_type": "markdown",
      "metadata": {
        "id": "8EjN8eYuc4Iu"
      },
      "source": [
        "15. Use the built-in input function to get first name, last name, country and age from a user and store the value to their corresponding variable names\n"
      ]
    },
    {
      "cell_type": "code",
      "metadata": {
        "id": "9Tm6sssTc4Iv",
        "outputId": "c18daa07-7232-4e7a-eecf-b25956b3c09c"
      },
      "source": [
        "first_name = input(\"Type your first name: \")\n",
        "last_name = input(\"Type your last name: \")\n",
        "country = input(\"Type your country: \")\n",
        "age = input(\"Type your age: \")\n",
        "\n",
        "print (f\"My name is {first_name} {last_name}, I'm from {country} and I'm {age} years old\")"
      ],
      "execution_count": null,
      "outputs": [
        {
          "output_type": "stream",
          "text": [
            "Type your first name: Lisa\n",
            "Type your last name: Simpson\n",
            "Type your country: EEUU\n",
            "Type your age: 8\n",
            "My name is Lisa Simpson, I'm from EEUU and I'm 8 years old\n"
          ],
          "name": "stdout"
        }
      ]
    },
    {
      "cell_type": "markdown",
      "metadata": {
        "id": "0fBmPzJ7c4Iv"
      },
      "source": [
        "16. What is a reserved word in Python? Run `help('keywords')` to check for the reserved words. "
      ]
    },
    {
      "cell_type": "code",
      "metadata": {
        "id": "f3t6Ok5tc4Iv",
        "outputId": "ee08e115-b93b-46da-9191-bd669918ba0a"
      },
      "source": [
        "help('keywords')"
      ],
      "execution_count": null,
      "outputs": [
        {
          "output_type": "stream",
          "text": [
            "\n",
            "Here is a list of the Python keywords.  Enter any keyword to get more help.\n",
            "\n",
            "False               class               from                or\n",
            "None                continue            global              pass\n",
            "True                def                 if                  raise\n",
            "and                 del                 import              return\n",
            "as                  elif                in                  try\n",
            "assert              else                is                  while\n",
            "async               except              lambda              with\n",
            "await               finally             nonlocal            yield\n",
            "break               for                 not                 \n",
            "\n"
          ],
          "name": "stdout"
        }
      ]
    },
    {
      "cell_type": "markdown",
      "metadata": {
        "id": "363DHFjYc4Iv"
      },
      "source": [
        "**Well done!**"
      ]
    },
    {
      "cell_type": "markdown",
      "metadata": {
        "id": "oWanbLafc4Iw"
      },
      "source": [
        "![h](https://i.pinimg.com/originals/11/b4/20/11b420fbf1595be3056ad6355277933c.jpg)"
      ]
    },
    {
      "cell_type": "code",
      "metadata": {
        "id": "f_4ZXlvic4Iw"
      },
      "source": [
        ""
      ],
      "execution_count": null,
      "outputs": []
    }
  ]
}