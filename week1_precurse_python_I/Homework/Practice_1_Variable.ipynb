{
  "nbformat": 4,
  "nbformat_minor": 0,
  "metadata": {
    "kernelspec": {
      "name": "python374jvsc74a57bd0797ece2db6cd49410b212500b07c3b6429b528fb918ab6c0d0ffbc4c51c5b09e",
      "display_name": "Python 3.7.4 64-bit"
    },
    "language_info": {
      "codemirror_mode": {
        "name": "ipython",
        "version": 3
      },
      "file_extension": ".py",
      "mimetype": "text/x-python",
      "name": "python",
      "nbconvert_exporter": "python",
      "pygments_lexer": "ipython3",
      "version": "3.7.4"
    },
    "colab": {
      "name": "Practice_1_Variable.ipynb",
      "provenance": []
    },
    "metadata": {
      "interpreter": {
        "hash": "797ece2db6cd49410b212500b07c3b6429b528fb918ab6c0d0ffbc4c51c5b09e"
      }
    }
  },
  "cells": [
    {
      "cell_type": "markdown",
      "metadata": {
        "id": "zjty788yzmiP"
      },
      "source": [
        "# Python | day 1 | variables"
      ]
    },
    {
      "cell_type": "markdown",
      "metadata": {
        "id": "KuwGRA1bzmiV"
      },
      "source": [
        "Variables are nothing but reserved memory locations to store values. This means that when you create a variable you reserve some space in memory.\n",
        "\n",
        "Based on the data type of a variable, the interpreter allocates memory and decides what can be stored in the reserved memory. Therefore, by assigning different data types to variables, you can store integers, decimals or characters in these variables."
      ]
    },
    {
      "cell_type": "markdown",
      "metadata": {
        "id": "p4y-a3RpzmiW"
      },
      "source": [
        "### Exercise 1.\n",
        "\n",
        "1. Write a python comment saying _'My very first python code:'_"
      ]
    },
    {
      "source": [
        "# My very first python code:"
      ],
      "cell_type": "code",
      "metadata": {
        "id": "OQM879XXzmiX"
      },
      "execution_count": 3,
      "outputs": []
    },
    {
      "cell_type": "markdown",
      "metadata": {
        "id": "m2G-CfKWzmiX"
      },
      "source": [
        "2. Declare a **first name** variable and assign a value to it\n"
      ]
    },
    {
      "cell_type": "code",
      "metadata": {
        "id": "XzJiiqY3zmiY"
      },
      "source": [
        "firstname = \"Marina\""
      ],
      "execution_count": 2,
      "outputs": []
    },
    {
      "cell_type": "markdown",
      "metadata": {
        "id": "fqfKETEFzmiY"
      },
      "source": [
        "3. Declare a **last name** variable and assign a value to it\n"
      ]
    },
    {
      "cell_type": "code",
      "metadata": {
        "id": "kS7yaON0zmiY"
      },
      "source": [
        "lastname = \"Serrano\""
      ],
      "execution_count": 4,
      "outputs": []
    },
    {
      "cell_type": "markdown",
      "metadata": {
        "id": "gi0ahzpNzmiY"
      },
      "source": [
        "4. Declare a **full name** variable and assign a value to it\n"
      ]
    },
    {
      "cell_type": "code",
      "metadata": {
        "id": "EeHHrP3HzmiZ"
      },
      "source": [
        "fullname = \"Marina Serrano\""
      ],
      "execution_count": 5,
      "outputs": []
    },
    {
      "cell_type": "code",
      "execution_count": 16,
      "metadata": {},
      "outputs": [
        {
          "output_type": "stream",
          "name": "stdout",
          "text": [
            "Marina Serrano\n"
          ]
        }
      ],
      "source": [
        "fullname = firstname + \" \" + lastname\n",
        "print(fullname)"
      ]
    },
    {
      "cell_type": "markdown",
      "metadata": {
        "id": "S9hs8ZDhzmiZ"
      },
      "source": [
        "5. Declare a **country** variable and assign a value to it"
      ]
    },
    {
      "cell_type": "code",
      "metadata": {
        "id": "N7GhZVoHzmiZ"
      },
      "source": [
        "country = \"Russia\""
      ],
      "execution_count": 6,
      "outputs": []
    },
    {
      "cell_type": "markdown",
      "metadata": {
        "id": "gAfkl3hNzmiZ"
      },
      "source": [
        "6. Declare a **city** variable and assign a value to it"
      ]
    },
    {
      "cell_type": "code",
      "metadata": {
        "id": "J2EyMdJIzmia"
      },
      "source": [
        "city = \"Berlin\""
      ],
      "execution_count": 7,
      "outputs": []
    },
    {
      "cell_type": "markdown",
      "metadata": {
        "id": "-9vfJWsMzmia"
      },
      "source": [
        "7. Declare an **age** variable and assign a value to it"
      ]
    },
    {
      "cell_type": "code",
      "metadata": {
        "id": "VQex07RQzmia"
      },
      "source": [
        "age = 25"
      ],
      "execution_count": 8,
      "outputs": []
    },
    {
      "cell_type": "markdown",
      "metadata": {
        "id": "Afl25gcSzmia"
      },
      "source": [
        "8. Declare a **year** variable and assign a value to it"
      ]
    },
    {
      "cell_type": "code",
      "metadata": {
        "id": "_3EdiFEVzmib"
      },
      "source": [
        "year = 2021"
      ],
      "execution_count": 9,
      "outputs": []
    },
    {
      "cell_type": "markdown",
      "metadata": {
        "id": "rpO8BesMzmib"
      },
      "source": [
        "9. Declare a variable **is_married** and assign a value to it"
      ]
    },
    {
      "cell_type": "code",
      "metadata": {
        "id": "RlWQIUQBzmib"
      },
      "source": [
        "is_married = False"
      ],
      "execution_count": 10,
      "outputs": []
    },
    {
      "cell_type": "markdown",
      "metadata": {
        "id": "eF9RILsqzmib"
      },
      "source": [
        "10. Declare a variable **is_true** and assign a value to it"
      ]
    },
    {
      "cell_type": "code",
      "metadata": {
        "id": "gvveCVm_zmib"
      },
      "source": [
        "is_true = True"
      ],
      "execution_count": 11,
      "outputs": []
    },
    {
      "cell_type": "markdown",
      "metadata": {
        "id": "mhmvHkD2zmib"
      },
      "source": [
        "11. Declare a variable **is_light_on** and assign a value to it"
      ]
    },
    {
      "cell_type": "code",
      "metadata": {
        "id": "_c_Hj5jAzmic"
      },
      "source": [
        "is_light_on = True"
      ],
      "execution_count": 12,
      "outputs": []
    },
    {
      "cell_type": "markdown",
      "metadata": {
        "id": "DgXyyZiQzmic"
      },
      "source": [
        "## Exercise 2. \n",
        "\n",
        "1. Check the data type of all your variables using `type()` built-in function\n"
      ]
    },
    {
      "cell_type": "code",
      "metadata": {
        "id": "ejBVZgqPzmic"
      },
      "source": [
        "print(type(firstname))\n",
        "print(type(lastname))\n",
        "print(type(fullname))\n",
        "print(type(country))\n",
        "print(type(city))\n",
        "print(type(age))\n",
        "print(type(year))\n",
        "print(type(is_married))\n",
        "print(type(is_true))\n",
        "print(type(is_light_on))"
      ],
      "execution_count": 13,
      "outputs": [
        {
          "output_type": "stream",
          "name": "stdout",
          "text": [
            "<class 'str'>\n<class 'str'>\n<class 'str'>\n<class 'str'>\n<class 'str'>\n<class 'int'>\n<class 'int'>\n<class 'bool'>\n<class 'bool'>\n<class 'bool'>\n"
          ]
        }
      ]
    },
    {
      "cell_type": "markdown",
      "metadata": {
        "id": "wBmrplsVzmic"
      },
      "source": [
        "Turn the variable **age**, which should be *integer*, into type *float*. This action is known as cast a variable."
      ]
    },
    {
      "cell_type": "code",
      "metadata": {
        "id": "5DlAQUu_zmic"
      },
      "source": [
        "float(age)"
      ],
      "execution_count": 14,
      "outputs": [
        {
          "output_type": "execute_result",
          "data": {
            "text/plain": [
              "25.0"
            ]
          },
          "metadata": {},
          "execution_count": 14
        }
      ]
    },
    {
      "cell_type": "markdown",
      "metadata": {
        "id": "7K0sHgyBzmid"
      },
      "source": [
        "2. Using the `len()` built-in function find the length of your first name\n"
      ]
    },
    {
      "cell_type": "code",
      "metadata": {
        "id": "Sr3vOg9jzmid"
      },
      "source": [
        "len(firstname)"
      ],
      "execution_count": 15,
      "outputs": [
        {
          "output_type": "execute_result",
          "data": {
            "text/plain": [
              "6"
            ]
          },
          "metadata": {},
          "execution_count": 15
        }
      ]
    },
    {
      "cell_type": "markdown",
      "metadata": {
        "id": "Jt3jeYY-zmid"
      },
      "source": [
        "3. Compare the length of your first name and your last name\n"
      ]
    },
    {
      "cell_type": "code",
      "metadata": {
        "id": "PfvNDVifzmid"
      },
      "source": [
        "len(firstname) == len(lastname)"
      ],
      "execution_count": 17,
      "outputs": [
        {
          "output_type": "execute_result",
          "data": {
            "text/plain": [
              "False"
            ]
          },
          "metadata": {},
          "execution_count": 17
        }
      ]
    },
    {
      "cell_type": "code",
      "execution_count": 18,
      "metadata": {},
      "outputs": [
        {
          "output_type": "execute_result",
          "data": {
            "text/plain": [
              "True"
            ]
          },
          "metadata": {},
          "execution_count": 18
        }
      ],
      "source": [
        "len(firstname) < len(lastname)"
      ]
    },
    {
      "cell_type": "markdown",
      "metadata": {
        "id": "e-EfNwk1zmid"
      },
      "source": [
        "4. Declare 5 as **num_one** and 4 as **num_two**\n"
      ]
    },
    {
      "cell_type": "code",
      "metadata": {
        "id": "kBQRW96ozmie"
      },
      "source": [
        "num_one = 5\n",
        "num_two = 4"
      ],
      "execution_count": 20,
      "outputs": []
    },
    {
      "cell_type": "markdown",
      "metadata": {
        "id": "Re7DzO4tzmie"
      },
      "source": [
        "5. Add **num_one** and **num_two** and assign the value to a variable **_total**\n"
      ]
    },
    {
      "cell_type": "code",
      "metadata": {
        "id": "88C-6SjXzmie"
      },
      "source": [
        "_total = num_one + num_two\n",
        "print(_total)"
      ],
      "execution_count": 24,
      "outputs": [
        {
          "output_type": "stream",
          "name": "stdout",
          "text": [
            "9\n"
          ]
        }
      ]
    },
    {
      "cell_type": "markdown",
      "metadata": {
        "id": "8UvkC36Zzmie"
      },
      "source": [
        "6. Subtract num_two from num_one and assign the value to a variable _diff\n"
      ]
    },
    {
      "cell_type": "code",
      "metadata": {
        "id": "SaIV2dCfzmie"
      },
      "source": [
        "_diff = num_one - num_two\n",
        "print(_diff)"
      ],
      "execution_count": 25,
      "outputs": [
        {
          "output_type": "stream",
          "name": "stdout",
          "text": [
            "1\n"
          ]
        }
      ]
    },
    {
      "cell_type": "markdown",
      "metadata": {
        "id": "OdWJyP03zmie"
      },
      "source": [
        "7. Multiply **num_two** and **num_one** and assign the value to a variable **_product**\n"
      ]
    },
    {
      "cell_type": "code",
      "metadata": {
        "id": "tCHhfFzDzmif"
      },
      "source": [
        "_product = num_one * num_two"
      ],
      "execution_count": null,
      "outputs": []
    },
    {
      "cell_type": "markdown",
      "metadata": {
        "id": "NLrZebYqzmif"
      },
      "source": [
        "8. Divide **num_one** by **num_two** and assign the value to a variable **_division**\n"
      ]
    },
    {
      "cell_type": "code",
      "metadata": {
        "id": "uRmcqLaezmif"
      },
      "source": [
        "_division = num_one / num_two\n",
        "print(_division)"
      ],
      "execution_count": 26,
      "outputs": [
        {
          "output_type": "stream",
          "name": "stdout",
          "text": [
            "1.25\n"
          ]
        }
      ]
    },
    {
      "cell_type": "markdown",
      "metadata": {
        "id": "CoKPSVktzmif"
      },
      "source": [
        "9. Use modulus division to find **num_two** divided by **num_one** and assign the value to a variable **_remainder**\n"
      ]
    },
    {
      "cell_type": "code",
      "metadata": {
        "id": "gmd10d9Izmif"
      },
      "source": [
        "_remainder = num_two % num_one\n",
        "print(_remainder)"
      ],
      "execution_count": 27,
      "outputs": [
        {
          "output_type": "stream",
          "name": "stdout",
          "text": [
            "4\n"
          ]
        }
      ]
    },
    {
      "cell_type": "markdown",
      "metadata": {
        "id": "__TMg2VTzmif"
      },
      "source": [
        "10. Calculate **num_one** to the power of **num_two** and assign the value to variable **_exp**\n"
      ]
    },
    {
      "cell_type": "code",
      "metadata": {
        "id": "Q9nMUTPizmif"
      },
      "source": [
        "_exp = num_one ** num_two"
      ],
      "execution_count": 28,
      "outputs": []
    },
    {
      "cell_type": "markdown",
      "metadata": {
        "id": "lFTV0EPUzmig"
      },
      "source": [
        "11. Find floor division of **num_one** by **num_two** and assign the value to a variable **_floor_division**\n"
      ]
    },
    {
      "cell_type": "code",
      "metadata": {
        "id": "1nVg3iD8zmig"
      },
      "source": [
        "_floor_division = num_one // num_two\n",
        "print(_floor_division)"
      ],
      "execution_count": 29,
      "outputs": [
        {
          "output_type": "stream",
          "name": "stdout",
          "text": [
            "1\n"
          ]
        }
      ]
    },
    {
      "cell_type": "markdown",
      "metadata": {
        "id": "TuNe0xahzmig"
      },
      "source": [
        "## Bonus track. "
      ]
    },
    {
      "cell_type": "markdown",
      "metadata": {
        "id": "M1TVggWuzmig"
      },
      "source": [
        "12. The radius of a circle is 30 meters. \n",
        "    Calculate the area of a circle and assign the value to a variable **area_of_circle**"
      ]
    },
    {
      "cell_type": "code",
      "metadata": {
        "id": "1I95Eojzzmig"
      },
      "source": [],
      "execution_count": null,
      "outputs": []
    },
    {
      "cell_type": "markdown",
      "metadata": {
        "id": "sg55sKgXzmig"
      },
      "source": [
        "13. Calculate the circumference of a circle and assign the value to a variable **circum_of_circle**\n"
      ]
    },
    {
      "cell_type": "code",
      "metadata": {
        "id": "qlCsSq3Szmih"
      },
      "source": [],
      "execution_count": null,
      "outputs": []
    },
    {
      "cell_type": "markdown",
      "metadata": {
        "id": "wAVyv34zzmih"
      },
      "source": [
        "14. Take radius as user input and calculate the area.\n"
      ]
    },
    {
      "cell_type": "code",
      "metadata": {
        "id": "R2wyoa_Qzmih"
      },
      "source": [],
      "execution_count": null,
      "outputs": []
    },
    {
      "cell_type": "markdown",
      "metadata": {
        "id": "OUQ84iQazmih"
      },
      "source": [
        "15. Use the built-in input function to get first name, last name, country and age from a user and store the value to their corresponding variable names\n"
      ]
    },
    {
      "cell_type": "code",
      "metadata": {
        "id": "5n50BZFCzmii"
      },
      "source": [],
      "execution_count": null,
      "outputs": []
    },
    {
      "cell_type": "markdown",
      "metadata": {
        "id": "VOMj3NF7zmii"
      },
      "source": [
        "16. What is a reserved word in Python? Run `help('keywords')` to check for the reserved words. "
      ]
    },
    {
      "cell_type": "code",
      "metadata": {
        "id": "YU9wx_mRzmii"
      },
      "source": [],
      "execution_count": null,
      "outputs": []
    },
    {
      "cell_type": "markdown",
      "metadata": {
        "id": "2FdLHqE_zmii"
      },
      "source": [
        "**Well done!**"
      ]
    },
    {
      "cell_type": "markdown",
      "metadata": {
        "id": "hxn5uwBNzmii"
      },
      "source": [
        "![h](https://i.pinimg.com/originals/11/b4/20/11b420fbf1595be3056ad6355277933c.jpg)"
      ]
    },
    {
      "cell_type": "code",
      "metadata": {
        "id": "HQ2-7HOXzmij"
      },
      "source": [],
      "execution_count": null,
      "outputs": []
    }
  ]
}