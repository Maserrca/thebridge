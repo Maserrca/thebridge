{
  "nbformat": 4,
  "nbformat_minor": 0,
  "metadata": {
    "kernelspec": {
      "name": "python374jvsc74a57bd0797ece2db6cd49410b212500b07c3b6429b528fb918ab6c0d0ffbc4c51c5b09e",
      "display_name": "Python 3.7.4 64-bit"
    },
    "language_info": {
      "codemirror_mode": {
        "name": "ipython",
        "version": 3
      },
      "file_extension": ".py",
      "mimetype": "text/x-python",
      "name": "python",
      "nbconvert_exporter": "python",
      "pygments_lexer": "ipython3",
      "version": "3.7.4"
    },
    "colab": {
      "name": "Ejercicio_Biblioteca.ipynb",
      "provenance": []
    },
    "metadata": {
      "interpreter": {
        "hash": "797ece2db6cd49410b212500b07c3b6429b528fb918ab6c0d0ffbc4c51c5b09e"
      }
    }
  },
  "cells": [
    {
      "cell_type": "markdown",
      "metadata": {
        "id": "l_WmUW8VdCne"
      },
      "source": [
        "# Ejercicio La Biblioteca | Repaso Week 1\n",
        "## Precurso DSApr21 - The Bridge\n",
        "\n",
        "La versión original de esta Práctica es en español por lo que respetaremos sus orígenes y a su autora, Clara Piniella, y lo dejaremos en este idioma. Disculpen las molestias que esto pudiera ocasionarle como estudiante. "
      ]
    },
    {
      "cell_type": "markdown",
      "metadata": {
        "id": "ab8gX_AwdCnk"
      },
      "source": [
        "![biblioteca](https://static2.abc.es/media/familia/2018/11/02/AdobeStock_210538561-kJTF--620x349@abc.jpg)"
      ]
    },
    {
      "cell_type": "markdown",
      "metadata": {
        "id": "W-9IPLhDdCno"
      },
      "source": [
        "Es tu primer día de trabajo en la Biblioteca de tu barrio y ya tienes tu primera tarea. Te acaban de pasar una lista con libros y la lista de unidades disponibles."
      ]
    },
    {
      "cell_type": "code",
      "metadata": {
        "id": "MycmBxM8dCnp"
      },
      "source": [
        "libros = [\"El mal de Corcira\", \"Un mundo feliz\", \"Lolita\", \"Crimen y castigo\", \"Python from for to pro\",\\\n",
        "          \"El señor de los anillos\", \"Cien años de soledad\", \"Harry Potter\", \"Lectura Fácil\", \"Seda\",\\\n",
        "          \"La chica de nieve\", \"El día que se perdió la cordura\", \"Data Science\"]"
      ],
      "execution_count": 7,
      "outputs": []
    },
    {
      "cell_type": "code",
      "metadata": {
        "id": "j_FRrvFidCnr"
      },
      "source": [
        "biblioteca = [(\"El mal de Corcira\",4),(\"Un mundo feliz\", 2),(\"Lolita\", 5),\\\n",
        "              (\"Crimen y castigo\",2),(\"Python from for to pro\", 0),(\"El señor de los anillos\", 6),\\\n",
        "              (\"Cien años de soledad\", 5),(\"Harry Potter\", 9),(\"Lectura Fácil\", 4),(\"Seda\", 2),\\\n",
        "              (\"La chica de nieve\", 6),(\"El día que se perdió la cordura\", 3), (\"Data Science\", 0)]"
      ],
      "execution_count": 4,
      "outputs": []
    },
    {
      "cell_type": "markdown",
      "metadata": {
        "id": "Mh3eXe8TdCnt"
      },
      "source": [
        "1. ¿Cuántos títulos diferentes tienen en esta biblioteca?"
      ]
    },
    {
      "cell_type": "code",
      "metadata": {
        "id": "M9yrrAyBdCnu"
      },
      "source": [
        "#your code here\n",
        "print(\"Títulos:\", len(libros))"
      ],
      "execution_count": 105,
      "outputs": [
        {
          "output_type": "stream",
          "name": "stdout",
          "text": [
            "Títulos: 13\n"
          ]
        }
      ]
    },
    {
      "cell_type": "markdown",
      "metadata": {
        "id": "ZvLV3FgLdCnw"
      },
      "source": [
        "2. ¿Cuántas letras componen la palabra *Seda*? "
      ]
    },
    {
      "cell_type": "code",
      "metadata": {
        "id": "AhIRKYkYdCnx"
      },
      "source": [
        "#your code here\n",
        "print(\"Letras en la palabra Seda:\", len(libros[-4]))"
      ],
      "execution_count": 106,
      "outputs": [
        {
          "output_type": "stream",
          "name": "stdout",
          "text": [
            "Letras en la palabra Seda: 4\n"
          ]
        }
      ]
    },
    {
      "cell_type": "markdown",
      "metadata": {
        "id": "m7iQuIJ4dCny"
      },
      "source": [
        "3. ¿Cuántas unidades hay del libro *Seda*?"
      ]
    },
    {
      "cell_type": "code",
      "metadata": {
        "id": "TV4mdnAgdCnz"
      },
      "source": [
        "#your code here\n",
        "print(\"Unidades de Seda:\", biblioteca[-4][1])"
      ],
      "execution_count": 107,
      "outputs": [
        {
          "output_type": "stream",
          "name": "stdout",
          "text": [
            "Unidades de Seda: 2\n"
          ]
        }
      ]
    },
    {
      "cell_type": "markdown",
      "metadata": {
        "id": "ydZakvf8dCnz"
      },
      "source": [
        "4. Quien registraba los libros antes de ti dejo pendiente de añadir a la lista **libros** la variable **pendiente**, además debió confundir el famoso libro de George Orwell *1984*, con un número, asignándolo como un integer.\n",
        "¿Puedes cambiarlo y pasar a string este elemento y añadirlo a **libros**?"
      ]
    },
    {
      "cell_type": "code",
      "metadata": {
        "id": "RMqgJNDBdCn0"
      },
      "source": [
        "pendiente = 1984"
      ],
      "execution_count": 108,
      "outputs": []
    },
    {
      "cell_type": "code",
      "metadata": {
        "id": "Vo2_DnXxdCn0"
      },
      "source": [
        "#your code here\n",
        "str(pendiente)\n",
        "libros.append(pendiente)\n",
        "print(libros)"
      ],
      "execution_count": 109,
      "outputs": [
        {
          "output_type": "stream",
          "name": "stdout",
          "text": [
            "['El mal de Corcira', 'Un mundo feliz', 'Lolita', 'Crimen y castigo', 'Python from for to pro', 'El señor de los anillos', 'Cien años de soledad', 'Harry Potter', 'Lectura Fácil', 'Seda', 'La chica de nieve', 'El día que se perdió la cordura', 'Data Science', 1984]\n"
          ]
        }
      ]
    },
    {
      "cell_type": "markdown",
      "metadata": {
        "id": "3ICSFTMadCn1"
      },
      "source": [
        "5. Te piden que añadas a esta lista el nuevo libro de Los Juegos del hambre que se titula *Balada de pájaros cantores y serpientes*. Has contado las unidades y han llegado 10. \n",
        "\n",
        "    a. Crea una variable con el título del libro, que se llame **libro_1**. Añade este elemento a la lista **libros**.\n",
        "\n",
        "    b. Crea una variable con el número de unidades, que se llame **uds_1**.\n",
        "\n",
        "    c. Crea una variable que sea una lista llamada **nuevo_libro** en el que su primer elemento sea **libro_1** y el segundo **uds_1**. \n",
        "\n",
        "    d. Convierte a **nuevo_libro** a tupla.\n",
        "    (muestra qué tipo es ahora esta variable)\n",
        "\n",
        "    e. Añade **nuevo_libro** a la lista **biblioteca** "
      ]
    },
    {
      "cell_type": "code",
      "metadata": {
        "id": "aBr7W_NqdCn2"
      },
      "source": [
        "#your code here\n",
        "libro_1 = \"Balada de pájaros cantores y serpientes\"\n",
        "libros.append(libro_1)\n",
        "uds_1 = 10\n",
        "nuevo_libro = [libro_1, uds_1]\n",
        "nuevo_libro = tuple(nuevo_libro)\n",
        "biblioteca.append(nuevo_libro)\n",
        "\n",
        "\n",
        "print(libros)\n",
        "print(biblioteca)"
      ],
      "execution_count": 110,
      "outputs": [
        {
          "output_type": "stream",
          "name": "stdout",
          "text": [
            "['El mal de Corcira', 'Un mundo feliz', 'Lolita', 'Crimen y castigo', 'Python from for to pro', 'El señor de los anillos', 'Cien años de soledad', 'Harry Potter', 'Lectura Fácil', 'Seda', 'La chica de nieve', 'El día que se perdió la cordura', 'Data Science', 1984, 'Balada de pájaros cantores y serpientes']\n[('El mal de Corcira', 4), ('Un mundo feliz', 2), ('Lolita', 5), ('Crimen y castigo', 2), ('Python from for to pro', 0), ('El señor de los anillos', 6), ('Cien años de soledad', 5), ('Harry Potter', 9), ('Lectura Fácil', 4), ('Seda', 2), ('La chica de nieve', 6), ('El día que se perdió la cordura', 3), ('Data Science', 0), ('Balada de pájaros cantores y serpientes', 10)]\n"
          ]
        }
      ]
    },
    {
      "cell_type": "markdown",
      "metadata": {
        "id": "YRnDd_KidCn2"
      },
      "source": [
        "6. Acaban de traer una unidad más de *El mal de Corcira*, añade una unidad más al segundo elemento del primer elemento de la lista **biblioteca**."
      ]
    },
    {
      "cell_type": "code",
      "metadata": {
        "id": "dZeGc66sdCn2",
        "outputId": "4cf9440e-c25d-4aeb-9c18-5589b87dd716"
      },
      "source": [
        "biblioteca[0]"
      ],
      "execution_count": 111,
      "outputs": [
        {
          "output_type": "execute_result",
          "data": {
            "text/plain": [
              "('El mal de Corcira', 4)"
            ]
          },
          "metadata": {},
          "execution_count": 111
        }
      ]
    },
    {
      "cell_type": "code",
      "metadata": {
        "id": "CaMxVkASdCn3",
        "outputId": "873fe16b-0b63-446a-96ca-78bf0c23cd43"
      },
      "source": [
        "biblioteca[0][1]"
      ],
      "execution_count": 112,
      "outputs": [
        {
          "output_type": "execute_result",
          "data": {
            "text/plain": [
              "4"
            ]
          },
          "metadata": {},
          "execution_count": 112
        }
      ]
    },
    {
      "cell_type": "code",
      "metadata": {
        "id": "8vJTTgDFdCn4",
        "outputId": "df442627-724e-423e-83c3-3ea703e778a2"
      },
      "source": [
        "biblioteca[0][1] = biblioteca[0][1] - 1"
      ],
      "execution_count": 113,
      "outputs": [
        {
          "output_type": "error",
          "ename": "TypeError",
          "evalue": "'tuple' object does not support item assignment",
          "traceback": [
            "\u001b[1;31m---------------------------------------------------------------------------\u001b[0m",
            "\u001b[1;31mTypeError\u001b[0m                                 Traceback (most recent call last)",
            "\u001b[1;32m<ipython-input-113-8a7bcc0d7ddc>\u001b[0m in \u001b[0;36m<module>\u001b[1;34m\u001b[0m\n\u001b[1;32m----> 1\u001b[1;33m \u001b[0mbiblioteca\u001b[0m\u001b[1;33m[\u001b[0m\u001b[1;36m0\u001b[0m\u001b[1;33m]\u001b[0m\u001b[1;33m[\u001b[0m\u001b[1;36m1\u001b[0m\u001b[1;33m]\u001b[0m \u001b[1;33m=\u001b[0m \u001b[0mbiblioteca\u001b[0m\u001b[1;33m[\u001b[0m\u001b[1;36m0\u001b[0m\u001b[1;33m]\u001b[0m\u001b[1;33m[\u001b[0m\u001b[1;36m1\u001b[0m\u001b[1;33m]\u001b[0m \u001b[1;33m-\u001b[0m \u001b[1;36m1\u001b[0m\u001b[1;33m\u001b[0m\u001b[1;33m\u001b[0m\u001b[0m\n\u001b[0m",
            "\u001b[1;31mTypeError\u001b[0m: 'tuple' object does not support item assignment"
          ]
        }
      ]
    },
    {
      "cell_type": "markdown",
      "metadata": {
        "id": "Y3yLPO2AdCn4"
      },
      "source": [
        "¿Cómo se te ocurre que podrías alterar este dato?"
      ]
    },
    {
      "cell_type": "code",
      "metadata": {
        "id": "h2eWdoeldCn4"
      },
      "source": [
        "#your comment here\n",
        "list(biblioteca[0])\n"
      ],
      "execution_count": 25,
      "outputs": [
        {
          "output_type": "execute_result",
          "data": {
            "text/plain": [
              "['El mal de Corcira', 4]"
            ]
          },
          "metadata": {},
          "execution_count": 25
        }
      ]
    },
    {
      "cell_type": "markdown",
      "metadata": {
        "id": "iOaw0SQOdCn5"
      },
      "source": [
        "Convierte la tupla en una lista para poder modificar el segundo elemento y añadir esta unidad. Asigna la tupla convertida a lista a la variable **tup_to_list** haz los cambios, agrega la unidad y vuelve a añadir la lista ya convertida en tupla a la lista **biblioteca**."
      ]
    },
    {
      "cell_type": "code",
      "metadata": {
        "id": "jcAfA8CjdCn5"
      },
      "source": [
        "#your code here\n",
        "tup_to_list = list(biblioteca[0])\n",
        "tup_to_list[1] = 5\n",
        "tup_to_list = tuple(tup_to_list)\n",
        "biblioteca.append(tup_to_list)\n",
        "biblioteca.pop(0)\n",
        "print(biblioteca)"
      ],
      "execution_count": 43,
      "outputs": [
        {
          "output_type": "stream",
          "name": "stdout",
          "text": [
            "[('Un mundo feliz', 2), ('Lolita', 5), ('Crimen y castigo', 2), ('Python from for to pro', 0), ('El señor de los anillos', 6), ('Cien años de soledad', 5), ('Harry Potter', 9), ('Lectura Fácil', 4), ('Seda', 2), ('La chica de nieve', 6), ('El día que se perdió la cordura', 3), ('Data Science', 0), ('Balada de pájaros cantores y serpientes', 10), ('El mal de Corcira', 5)]\n"
          ]
        }
      ]
    },
    {
      "cell_type": "markdown",
      "metadata": {
        "id": "xBG96L3GdCn5"
      },
      "source": [
        "Ahora, tenemos dos tuplas con el libro *El mal de Corcira*, pero esto no es lo que queremos. Elimina el primer elemento de la lista **biblioteca**.\n",
        "\n",
        "Hint: https://www.programiz.com/python-programming/methods/list/remove"
      ]
    },
    {
      "cell_type": "code",
      "metadata": {
        "id": "1Q6WfAfldCn6"
      },
      "source": [
        "#your code here\n",
        "## oops lo hice en la anterior como parte del proceso\n"
      ],
      "execution_count": null,
      "outputs": []
    },
    {
      "cell_type": "markdown",
      "metadata": {
        "id": "0JT7eldCdCn6"
      },
      "source": [
        "7. Te han pedido que localices los títulos de los libros de los que no disponen de unidades. Es decir, su segundo elemento, es igual a 0. "
      ]
    },
    {
      "cell_type": "code",
      "metadata": {
        "id": "GpOgoqZYdCn6"
      },
      "source": [
        "#your code here\n",
        "for tupla in biblioteca:\n",
        "    for i in tupla:\n",
        "        if tupla[1] == 0:\n",
        "            print(tupla[0])\n",
        "            break"
      ],
      "execution_count": 80,
      "outputs": [
        {
          "output_type": "stream",
          "name": "stdout",
          "text": [
            "Python from for to pro\nData Science\n"
          ]
        }
      ]
    },
    {
      "cell_type": "markdown",
      "metadata": {
        "id": "dtN8gOYqdCn7"
      },
      "source": [
        "8. ¿Cómo meterías estos dos elementos en una lista llamada **missing**?"
      ]
    },
    {
      "cell_type": "code",
      "metadata": {
        "id": "IdOaE2UjdCn7"
      },
      "source": [
        "#your code here\n",
        "missing = []\n",
        "for tupla in biblioteca:\n",
        "    for i in tupla:\n",
        "        if tupla[1] == 0:\n",
        "            missing.append(tupla[0])\n",
        "            break\n",
        "\n",
        "print(missing)"
      ],
      "execution_count": 82,
      "outputs": [
        {
          "output_type": "stream",
          "name": "stdout",
          "text": [
            "['Python from for to pro', 'Data Science']\n"
          ]
        }
      ]
    },
    {
      "cell_type": "markdown",
      "metadata": {
        "id": "67UNjoaAdCn7"
      },
      "source": [
        "9. Como en cualquier jornada de trabajo, recibes miles de email, hay uno que no habías visto pero en el que tu jefa te pide hacer un pequeño programita (función) que recoja el título de un libro y la cantidad de libros, este último parámetro por defecto será 1, chequée si tenemos ese título en la lista `libros` y si lo tenemos, sume esa cantidad a su cantidad en la lista `biblioteca` y si no, añada el título a `libros` y en una tupla nueva con la cantidad correspondiente a la lista `biblioteca`. "
      ]
    },
    {
      "cell_type": "code",
      "metadata": {
        "id": "RLpRkynUdCn8"
      },
      "source": [
        "#your code here\n",
        "def nuevo(titulo, cantidad):\n",
        "    for tupla in enumerate(biblioteca):\n",
        "            if isinstance(titulo, str) != tupla[0]\n",
        "                x = tupla[0].append(titulo)\n",
        "                biblioteca_actualizada = biblioteca + x\n",
        "\n",
        "            else:\n",
        "                libros.append(titulo)\n",
        "                tupla_nueva = (titulo, cantidad)\n",
        "    return biblioteca\n",
        "\n",
        "\n",
        "##Para usar una funcion externa en una funcion debems incluirlo como parametro o dentro de la misma uncion"
      ],
      "execution_count": 33,
      "outputs": [
        {
          "output_type": "error",
          "ename": "SyntaxError",
          "evalue": "invalid syntax (<ipython-input-33-4968e6d84e91>, line 5)",
          "traceback": [
            "\u001b[1;36m  File \u001b[1;32m\"<ipython-input-33-4968e6d84e91>\"\u001b[1;36m, line \u001b[1;32m5\u001b[0m\n\u001b[1;33m    if isinstance(titulo, str) != tupla[0]\u001b[0m\n\u001b[1;37m                                          ^\u001b[0m\n\u001b[1;31mSyntaxError\u001b[0m\u001b[1;31m:\u001b[0m invalid syntax\n"
          ]
        }
      ]
    },
    {
      "source": [
        "Pruébalo añadiendo el título de \"Guía del Autopista Galáctico\", cantidad 42."
      ],
      "cell_type": "markdown",
      "metadata": {
        "id": "AQep2fmidCn8"
      }
    },
    {
      "cell_type": "code",
      "metadata": {
        "id": "wQ5GXO9wdCn8"
      },
      "source": [
        "#your code here\n",
        "nuevo(titulo=\"Guía del Autoestopista Galáctico\", cantidad=42)"
      ],
      "execution_count": 32,
      "outputs": [
        {
          "output_type": "error",
          "ename": "AttributeError",
          "evalue": "'str' object has no attribute 'append'",
          "traceback": [
            "\u001b[1;31m---------------------------------------------------------------------------\u001b[0m",
            "\u001b[1;31mAttributeError\u001b[0m                            Traceback (most recent call last)",
            "\u001b[1;32m<ipython-input-32-052fa63bf81c>\u001b[0m in \u001b[0;36m<module>\u001b[1;34m\u001b[0m\n\u001b[0;32m      1\u001b[0m \u001b[1;31m#your code here\u001b[0m\u001b[1;33m\u001b[0m\u001b[1;33m\u001b[0m\u001b[1;33m\u001b[0m\u001b[0m\n\u001b[1;32m----> 2\u001b[1;33m \u001b[0mnuevo\u001b[0m\u001b[1;33m(\u001b[0m\u001b[0mtitulo\u001b[0m\u001b[1;33m=\u001b[0m\u001b[1;34m\"Guía del Autoestopista Galáctico\"\u001b[0m\u001b[1;33m,\u001b[0m \u001b[0mcantidad\u001b[0m\u001b[1;33m=\u001b[0m\u001b[1;36m42\u001b[0m\u001b[1;33m)\u001b[0m\u001b[1;33m\u001b[0m\u001b[1;33m\u001b[0m\u001b[0m\n\u001b[0m",
            "\u001b[1;32m<ipython-input-31-5c23a4a88496>\u001b[0m in \u001b[0;36mnuevo\u001b[1;34m(titulo, cantidad)\u001b[0m\n\u001b[0;32m      3\u001b[0m     \u001b[1;32mfor\u001b[0m \u001b[0mtupla\u001b[0m \u001b[1;32min\u001b[0m \u001b[0mbiblioteca\u001b[0m\u001b[1;33m:\u001b[0m\u001b[1;33m\u001b[0m\u001b[1;33m\u001b[0m\u001b[0m\n\u001b[0;32m      4\u001b[0m             \u001b[1;32mif\u001b[0m \u001b[0misinstance\u001b[0m\u001b[1;33m(\u001b[0m\u001b[0mtitulo\u001b[0m\u001b[1;33m,\u001b[0m \u001b[0mstr\u001b[0m\u001b[1;33m)\u001b[0m \u001b[1;33m!=\u001b[0m \u001b[0mtupla\u001b[0m\u001b[1;33m[\u001b[0m\u001b[1;36m0\u001b[0m\u001b[1;33m]\u001b[0m\u001b[1;33m:\u001b[0m\u001b[1;33m\u001b[0m\u001b[1;33m\u001b[0m\u001b[0m\n\u001b[1;32m----> 5\u001b[1;33m                 \u001b[0mx\u001b[0m \u001b[1;33m=\u001b[0m \u001b[0mtupla\u001b[0m\u001b[1;33m[\u001b[0m\u001b[1;36m0\u001b[0m\u001b[1;33m]\u001b[0m\u001b[1;33m.\u001b[0m\u001b[0mappend\u001b[0m\u001b[1;33m(\u001b[0m\u001b[0mtitulo\u001b[0m\u001b[1;33m)\u001b[0m\u001b[1;33m\u001b[0m\u001b[1;33m\u001b[0m\u001b[0m\n\u001b[0m\u001b[0;32m      6\u001b[0m                 \u001b[0mbiblioteca_actualizada\u001b[0m \u001b[1;33m=\u001b[0m \u001b[0mbiblioteca\u001b[0m \u001b[1;33m+\u001b[0m \u001b[0mx\u001b[0m\u001b[1;33m\u001b[0m\u001b[1;33m\u001b[0m\u001b[0m\n\u001b[0;32m      7\u001b[0m             \u001b[1;32melse\u001b[0m\u001b[1;33m:\u001b[0m\u001b[1;33m\u001b[0m\u001b[1;33m\u001b[0m\u001b[0m\n",
            "\u001b[1;31mAttributeError\u001b[0m: 'str' object has no attribute 'append'"
          ]
        }
      ]
    },
    {
      "cell_type": "markdown",
      "metadata": {
        "id": "N021iwd6dCn8"
      },
      "source": [
        "### Bonus Track\n",
        "\n",
        "10. ¿Cuál es el libro con más unidades? ¿Cuál es la media de libros por título?"
      ]
    },
    {
      "cell_type": "code",
      "metadata": {
        "id": "UgvsbbzedCn9"
      },
      "source": [
        "#your code here\n"
      ],
      "execution_count": 63,
      "outputs": [
        {
          "output_type": "execute_result",
          "data": {
            "text/plain": [
              "('Un mundo feliz', 2)"
            ]
          },
          "metadata": {},
          "execution_count": 63
        }
      ]
    },
    {
      "cell_type": "markdown",
      "metadata": {
        "id": "KCyuCrojdCn9"
      },
      "source": [
        "11. ¿Cuál tiene el título más largo y cuál el más corto?"
      ]
    },
    {
      "cell_type": "code",
      "metadata": {
        "id": "0OGLDk3XdCn9"
      },
      "source": [
        "#your code here\n",
        "print(max(biblioteca))\n",
        "print(min(biblioteca))"
      ],
      "execution_count": 70,
      "outputs": [
        {
          "output_type": "stream",
          "name": "stdout",
          "text": [
            "('Un mundo feliz', 2)\n('Balada de pájaros cantores y serpientes', 10)\n"
          ]
        }
      ]
    },
    {
      "cell_type": "code",
      "execution_count": null,
      "metadata": {},
      "outputs": [],
      "source": []
    }
  ]
}