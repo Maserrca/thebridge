{
  "nbformat": 4,
  "nbformat_minor": 0,
  "metadata": {
    "kernelspec": {
      "name": "python374jvsc74a57bd0797ece2db6cd49410b212500b07c3b6429b528fb918ab6c0d0ffbc4c51c5b09e",
      "display_name": "Python 3.7.4 64-bit"
    },
    "language_info": {
      "codemirror_mode": {
        "name": "ipython",
        "version": 3
      },
      "file_extension": ".py",
      "mimetype": "text/x-python",
      "name": "python",
      "nbconvert_exporter": "python",
      "pygments_lexer": "ipython3",
      "version": "3.7.4"
    },
    "colab": {
      "name": "Practice_5_functions.ipynb",
      "provenance": []
    },
    "metadata": {
      "interpreter": {
        "hash": "797ece2db6cd49410b212500b07c3b6429b528fb918ab6c0d0ffbc4c51c5b09e"
      }
    }
  },
  "cells": [
    {
      "cell_type": "markdown",
      "metadata": {
        "id": "fymCT-zYdAy1"
      },
      "source": [
        "# Python | day 5 | functions"
      ]
    },
    {
      "cell_type": "markdown",
      "metadata": {
        "id": "-oRGEinpdAy3"
      },
      "source": [
        "In Python, a function is a group of related statements that performs a specific task."
      ]
    },
    {
      "cell_type": "markdown",
      "metadata": {
        "id": "iwxvV0l_dAy3"
      },
      "source": [
        "https://www.programiz.com/python-programming/function"
      ]
    },
    {
      "cell_type": "markdown",
      "metadata": {
        "id": "r9XGrP_IdAy4"
      },
      "source": [
        "#### Difference between `return` and `print`.\n",
        "\n",
        "Take some minutes to understand the difference between `return` and `print`, it seems to be the same, but they are not and it's important you understand the difference. "
      ]
    },
    {
      "cell_type": "code",
      "metadata": {
        "id": "kncxoA-udAy4"
      },
      "source": [
        "def suma(a,b):\n",
        "    print(a)\n",
        "    return a+b\n",
        "\n",
        "print(suma(suma(2,2),4))"
      ],
      "execution_count": 215,
      "outputs": [
        {
          "output_type": "stream",
          "name": "stdout",
          "text": [
            "2\n4\n8\n"
          ]
        }
      ]
    },
    {
      "cell_type": "markdown",
      "metadata": {
        "id": "gqk3BaLndAy4"
      },
      "source": [
        "#### Comments in a function."
      ]
    },
    {
      "cell_type": "code",
      "metadata": {
        "id": "E2Dssq_qdAy5"
      },
      "source": [
        "def say_hello(name):\n",
        "    \"\"\"\n",
        "    Given a name as an argument, \n",
        "    the function return a string greeting\n",
        "    the name given. \n",
        "    \"\"\"\n",
        "    return f\"hello {name}\""
      ],
      "execution_count": 216,
      "outputs": []
    },
    {
      "cell_type": "code",
      "metadata": {
        "id": "iW7dJ6K6dAy5"
      },
      "source": [
        "print(say_hello(\"Clara\"))"
      ],
      "execution_count": 217,
      "outputs": [
        {
          "output_type": "stream",
          "name": "stdout",
          "text": [
            "hello Clara\n"
          ]
        }
      ]
    },
    {
      "cell_type": "code",
      "metadata": {
        "id": "pLJoKK4PdAy5"
      },
      "source": [
        "help(say_hello)"
      ],
      "execution_count": 218,
      "outputs": [
        {
          "output_type": "stream",
          "name": "stdout",
          "text": [
            "Help on function say_hello in module __main__:\n\nsay_hello(name)\n    Given a name as an argument, \n    the function return a string greeting\n    the name given.\n\n"
          ]
        }
      ]
    },
    {
      "cell_type": "markdown",
      "metadata": {
        "id": "__H0WxYOdAy6"
      },
      "source": [
        "### Exercise 1. "
      ]
    },
    {
      "cell_type": "markdown",
      "metadata": {
        "id": "xSe2xE0vdAy6"
      },
      "source": [
        "To solve the following exercises it will be necessary to define a function for each section. You choose the name of those functions unless specified, but make sure you define a single parameter `whichever_list`, when calling the function it will correspond to the variable `info_list`.\n",
        "```python\n",
        "def funtion_bla(whichever_list):\n",
        "    return whichever_list\n",
        "\n",
        "function_bla(info_list)\n",
        "```\n",
        "\n",
        "**In the case of not being able to solve a question containing the code in a function, try to do it without defining one.**"
      ]
    },
    {
      "cell_type": "code",
      "metadata": {
        "id": "Bc5sFZGmdAy6"
      },
      "source": [
        "# you can use this list or take yours from Practice 3\n",
        "info_list = [15, 'Recoletos', True, ['Recoletos', 15],  None, '8'] "
      ],
      "execution_count": 219,
      "outputs": []
    },
    {
      "cell_type": "markdown",
      "metadata": {
        "id": "1xdKhOtydAy7"
      },
      "source": [
        "1. Display on the screen `\"I like the tranquility\"` if you like the mountains more and `\"I'd love to live in Malaga\"` if you like the beach more.\n",
        "\n",
        "\n"
      ]
    },
    {
      "source": [
        "\n"
      ],
      "cell_type": "markdown",
      "metadata": {}
    },
    {
      "cell_type": "code",
      "execution_count": 220,
      "metadata": {},
      "outputs": [
        {
          "output_type": "stream",
          "name": "stdout",
          "text": [
            "I'd love to live in Malaga\n"
          ]
        },
        {
          "output_type": "execute_result",
          "data": {
            "text/plain": [
              "[15, 'Recoletos', True, ['Recoletos', 15], None, '8']"
            ]
          },
          "metadata": {},
          "execution_count": 220
        }
      ],
      "source": [
        "#No comprendo si se solicita que la funcion interactue con la lista de forma estática basándose en las respuestas de la práctica 3 o que provenga de un input externo sin interactuar. Creo las dos opciones\n",
        "\n",
        "info_list = [15, 'Recoletos', True, ['Recoletos', 15],  None, '8'] \n",
        "def encuesta(whichever_list):\n",
        "    if whichever_list[2] == True:\n",
        "        print(\"I'd love to live in Malaga\")\n",
        "    elif whichever_list[2] == False:\n",
        "        print(\"I like the tranquility\") \n",
        "    return whichever_list\n",
        "\n",
        "\n",
        "encuesta(info_list)\n",
        "\n"
      ]
    },
    {
      "cell_type": "code",
      "execution_count": 221,
      "metadata": {},
      "outputs": [
        {
          "output_type": "stream",
          "name": "stdout",
          "text": [
            "I'd love to live in Malaga\n"
          ]
        },
        {
          "output_type": "execute_result",
          "data": {
            "text/plain": [
              "[15, 'Recoletos', True, ['Recoletos', 15], None, '8']"
            ]
          },
          "metadata": {},
          "execution_count": 221
        }
      ],
      "source": [
        "info_list = [15, 'Recoletos', True, ['Recoletos', 15],  None, '8'] \n",
        "\n",
        "def encuesta(whichever_list):\n",
        "    respuesta = input(\"¿Playa o montaña? Responde en minúsculas\")\n",
        "    if respuesta == \"playa\":\n",
        "        print(\"I'd love to live in Malaga\")\n",
        "    elif respuesta == \"montaña\":\n",
        "        print(\"I like the tranquility\") \n",
        "    return whichever_list\n",
        "\n",
        "\n",
        "encuesta(info_list)\n"
      ]
    },
    {
      "cell_type": "code",
      "metadata": {
        "id": "IxnJAjytdAy7"
      },
      "source": [
        "#define a function which takes a single parameter `whichever_list`\n",
        "\n"
      ],
      "execution_count": 222,
      "outputs": []
    },
    {
      "cell_type": "code",
      "metadata": {
        "id": "R7_QK1XKdAy7"
      },
      "source": [
        "#call the function with the variable `info_list`\n"
      ],
      "execution_count": 223,
      "outputs": []
    },
    {
      "cell_type": "markdown",
      "metadata": {
        "id": "Qs1qXl__dAy7"
      },
      "source": [
        "2. Print `\"Today I am tired\"` if you have slept less than 7 hours or `\"Today I conquer the world\"` if you have slept more than 7 hours."
      ]
    },
    {
      "cell_type": "code",
      "execution_count": 224,
      "metadata": {},
      "outputs": [
        {
          "output_type": "stream",
          "name": "stdout",
          "text": [
            "Today I conquer the world\n"
          ]
        },
        {
          "output_type": "execute_result",
          "data": {
            "text/plain": [
              "[15, 'Recoletos', True, ['Recoletos', 15], None, '8']"
            ]
          },
          "metadata": {},
          "execution_count": 224
        }
      ],
      "source": [
        "def encuesta(whichever_list):\n",
        "    x = input(\"Hours of sleep today\") \n",
        "    if x < str(7):\n",
        "        print(\"Today I am tired\")\n",
        "    elif x >= str(7):\n",
        "        print(\"Today I conquer the world\")\n",
        "    \n",
        "    return whichever_list\n",
        "\n",
        "\n",
        "encuesta(info_list)\n"
      ]
    },
    {
      "cell_type": "code",
      "execution_count": 225,
      "metadata": {},
      "outputs": [
        {
          "output_type": "stream",
          "name": "stdout",
          "text": [
            "Today I conquer the world\n"
          ]
        },
        {
          "output_type": "execute_result",
          "data": {
            "text/plain": [
              "[15, 'Recoletos', True, ['Recoletos', 15], None, '8']"
            ]
          },
          "metadata": {},
          "execution_count": 225
        }
      ],
      "source": [
        "info_list = [15, 'Recoletos', True, ['Recoletos', 15],  None, '8'] \n",
        "def encuesta(whichever_list):\n",
        "    if info_list[-1] < str(7):\n",
        "        print(\"Today I am tired\")\n",
        "    elif info_list[-1] >= str(7):\n",
        "        print(\"Today I conquer the world\")\n",
        "    \n",
        "    return whichever_list\n",
        "\n",
        "\n",
        "encuesta(info_list)"
      ]
    },
    {
      "cell_type": "code",
      "execution_count": 226,
      "metadata": {},
      "outputs": [
        {
          "output_type": "stream",
          "name": "stdout",
          "text": [
            "Today I conquer the world\n"
          ]
        },
        {
          "output_type": "execute_result",
          "data": {
            "text/plain": [
              "[15, 'Recoletos', True, ['Recoletos', 15], None, '8']"
            ]
          },
          "metadata": {},
          "execution_count": 226
        }
      ],
      "source": [
        "\n",
        "#otra opción dinamica incluyendo la lista\n",
        "\n",
        "info_list = [15, 'Recoletos', True, ['Recoletos', 15],  None, '8'] \n",
        "def encuesta(whichever_list):\n",
        "    x = input(\"Hours of sleep today\")\n",
        "    whichever_list[-1] = x\n",
        "    if info_list[-1] < str(7):\n",
        "        print(\"Today I am tired\")\n",
        "    elif info_list[-1] >= str(7):\n",
        "        print(\"Today I conquer the world\")\n",
        "    \n",
        "    return whichever_list\n",
        "\n",
        "\n",
        "encuesta(info_list)"
      ]
    },
    {
      "cell_type": "code",
      "metadata": {
        "id": "xQoiJVohdAy8"
      },
      "source": [
        "#define a function which takes a single parameter `whichever_list`\n"
      ],
      "execution_count": 227,
      "outputs": []
    },
    {
      "cell_type": "code",
      "metadata": {
        "id": "h30KUPLsdAy8"
      },
      "source": [
        "#call the function with the variable `info_list`\n"
      ],
      "execution_count": 228,
      "outputs": []
    },
    {
      "cell_type": "markdown",
      "metadata": {
        "id": "GOwmO8CfdAy8"
      },
      "source": [
        "3. Loop through `whichever_list` to print all the elements it contains. This function should return the list turned into a tuple. "
      ]
    },
    {
      "cell_type": "code",
      "metadata": {
        "id": "dJiMDGc-dAy8"
      },
      "source": [
        "#define a function which takes a single parameter `whichever_list`\n",
        "info_list = [15, 'Recoletos', True, ['Recoletos', 15],  None, '8'] \n",
        "def tuplear(whichever_list):\n",
        "    \"\"\"\n",
        "    This function should return the list turned into a tuple.\n",
        "    \"\"\"\n",
        "    for i in whichever_list: \n",
        "        return tuple(whichever_list)\n",
        "\n",
        "#Añado for porque como indica que recorra la lista no sé si se refiere a mediante un bucle o solo mediante la función, pero realmente no hace falta un loop\n"
      ],
      "execution_count": 229,
      "outputs": []
    },
    {
      "cell_type": "code",
      "metadata": {
        "id": "ScVz5okPdAy9"
      },
      "source": [
        "#call the function with the variable `info_list`\n",
        "tuplear(info_list)"
      ],
      "execution_count": 230,
      "outputs": [
        {
          "output_type": "execute_result",
          "data": {
            "text/plain": [
              "(15, 'Recoletos', True, ['Recoletos', 15], None, '8')"
            ]
          },
          "metadata": {},
          "execution_count": 230
        }
      ]
    },
    {
      "cell_type": "markdown",
      "metadata": {
        "id": "8IbWyolRdAy9"
      },
      "source": [
        "4. Loop through `whichever_list` to print all the elements it contains concatenated with the string` \"--> OK\" `. This function should return a message saying, `\"everything will be ok\"`. \n"
      ]
    },
    {
      "cell_type": "code",
      "metadata": {
        "id": "vYSJ4Pf4dAy9"
      },
      "source": [
        "#define a function which takes a single parameter `whichever_list`\n",
        "info_list = [15, 'Recoletos', True, ['Recoletos', 15],  None, '8'] \n",
        "def okey(whichever_list):\n",
        "    for i in whichever_list:\n",
        "        print(str(i) + \"--> OK\" )\n",
        "    return \"everything will be ok\""
      ],
      "execution_count": 231,
      "outputs": []
    },
    {
      "cell_type": "code",
      "metadata": {
        "id": "vjeKsauwdAy9"
      },
      "source": [
        "#call the function with the variable `info_list`\n",
        "okey(info_list)"
      ],
      "execution_count": 232,
      "outputs": [
        {
          "output_type": "stream",
          "name": "stdout",
          "text": [
            "15--> OK\nRecoletos--> OK\nTrue--> OK\n['Recoletos', 15]--> OK\nNone--> OK\n8--> OK\n"
          ]
        },
        {
          "output_type": "execute_result",
          "data": {
            "text/plain": [
              "'everything will be ok'"
            ]
          },
          "metadata": {},
          "execution_count": 232
        }
      ]
    },
    {
      "cell_type": "markdown",
      "metadata": {
        "id": "7VDgsCpndAy9"
      },
      "source": [
        "5. Loop through `whichever_list` to display all items it contains except the first one. This function should return the first element of the list. "
      ]
    },
    {
      "cell_type": "code",
      "metadata": {
        "id": "zo1Nb_jYdAy-"
      },
      "source": [
        "#define a function which takes a single parameter `whichever_list`\n",
        "info_list = [15, 'Recoletos', True, ['Recoletos', 15],  None, '8']\n",
        "def display(whichever_list):\n",
        "    \"\"\"\n",
        "    This function should return the first element of the list\n",
        "    \"\"\"\n",
        "    for i in whichever_list[1:]:\n",
        "        print(i)\n",
        "    return whichever_list[0]\n",
        "\n"
      ],
      "execution_count": 233,
      "outputs": []
    },
    {
      "cell_type": "code",
      "metadata": {
        "id": "NGHzIzCWdAy-"
      },
      "source": [
        "#call the function with the variable `info_list`\n",
        "display(info_list)"
      ],
      "execution_count": 234,
      "outputs": [
        {
          "output_type": "stream",
          "name": "stdout",
          "text": [
            "Recoletos\nTrue\n['Recoletos', 15]\nNone\n8\n"
          ]
        },
        {
          "output_type": "execute_result",
          "data": {
            "text/plain": [
              "15"
            ]
          },
          "metadata": {},
          "execution_count": 234
        }
      ]
    },
    {
      "cell_type": "markdown",
      "metadata": {
        "id": "_ovoDY_1dAy-"
      },
      "source": [
        "6. Loop through `whichever_list` to display all the items it contains except the last one. This function should return the last element of the list. "
      ]
    },
    {
      "cell_type": "code",
      "metadata": {
        "id": "Fs59TNPudAy-"
      },
      "source": [
        "#define a function which takes a single parameter `whichever_list`\n",
        "info_list = [15, 'Recoletos', True, ['Recoletos', 15],  None, '8']\n",
        "def last_one(whichever_list):\n",
        "    eliminado = whichever_list.pop()\n",
        "    print(whichever_list)\n",
        "    return eliminado"
      ],
      "execution_count": 235,
      "outputs": []
    },
    {
      "cell_type": "code",
      "metadata": {
        "id": "cq9RLkAAdAy_"
      },
      "source": [
        "#call the function with the variable `info_list`\n",
        "last_one(info_list)"
      ],
      "execution_count": 236,
      "outputs": [
        {
          "output_type": "stream",
          "name": "stdout",
          "text": [
            "[15, 'Recoletos', True, ['Recoletos', 15], None]\n"
          ]
        },
        {
          "output_type": "execute_result",
          "data": {
            "text/plain": [
              "'8'"
            ]
          },
          "metadata": {},
          "execution_count": 236
        }
      ]
    },
    {
      "cell_type": "markdown",
      "metadata": {
        "id": "XrJuow_-dAy_"
      },
      "source": [
        "7. Loop through `whichever_list` to show all the elements it contains except the street number and the hours you've slept."
      ]
    },
    {
      "cell_type": "code",
      "metadata": {
        "id": "fZHtS4EldAy_"
      },
      "source": [
        "#define a function which takes a single parameter `whichever_list`\n",
        "info_list = [15, 'Recoletos', True, ['Recoletos', 15],  None, '8']\n",
        "def numbers(whichever_list):\n",
        "    for i in whichever_list:\n",
        "        whichever_list.pop(0)\n",
        "        whichever_list.pop(-1)\n",
        "        break\n",
        "    return whichever_list\n"
      ],
      "execution_count": 237,
      "outputs": []
    },
    {
      "cell_type": "code",
      "metadata": {
        "id": "YjGNTtZgdAy_"
      },
      "source": [
        "#call the function with the variable `info_list`\n",
        "numbers(info_list)"
      ],
      "execution_count": 238,
      "outputs": [
        {
          "output_type": "execute_result",
          "data": {
            "text/plain": [
              "['Recoletos', True, ['Recoletos', 15], None]"
            ]
          },
          "metadata": {},
          "execution_count": 238
        }
      ]
    },
    {
      "cell_type": "markdown",
      "metadata": {
        "id": "FIaX8Oz8dAy_"
      },
      "source": [
        "8. Loop through `whichever_list` to print all the elements it contains except the first element of the list which is in fourth position (`'Recoletos'`). This function should return the lenght of that element. "
      ]
    },
    {
      "cell_type": "code",
      "metadata": {
        "id": "hWt2_5iUdAzA"
      },
      "source": [
        "#define a function which takes a single parameter `whichever_list`\n",
        "info_list = [15, 'Recoletos', True, ['Recoletos', 15],  None, '8']\n",
        "def fourth(whichever_list):\n",
        "    for i in whichever_list:\n",
        "        if isinstance(i, list):\n",
        "            eliminado = whichever_list[3].pop(0)\n",
        "            print(whichever_list)\n",
        "    return len(eliminado)\n",
        "\n"
      ],
      "execution_count": 239,
      "outputs": []
    },
    {
      "cell_type": "code",
      "metadata": {
        "id": "duYu7kuLdAzA"
      },
      "source": [
        "#call the function with the variable `info_list`\n",
        "fourth(info_list)"
      ],
      "execution_count": 240,
      "outputs": [
        {
          "output_type": "stream",
          "name": "stdout",
          "text": [
            "[15, 'Recoletos', True, [15], None, '8']\n"
          ]
        },
        {
          "output_type": "execute_result",
          "data": {
            "text/plain": [
              "9"
            ]
          },
          "metadata": {},
          "execution_count": 240
        }
      ]
    },
    {
      "cell_type": "markdown",
      "metadata": {
        "id": "ycIO99wgdAzA"
      },
      "source": [
        "9. Loop through `whichever_list` to show all the elements it contains except the one that contains the information about whether you like the mountains or the beach. The function should return a message saying `\"I love the beach\"` if you prefer the beach and a message saying `\"I love the mountain\"` otherwise. "
      ]
    },
    {
      "cell_type": "code",
      "metadata": {
        "id": "U0NMRZ9_dAzB"
      },
      "source": [
        "#define a function which takes a single parameter `whichever_list`\n",
        "info_list = [15, 'Recoletos', True, ['Recoletos', 15],  None, '8'] \n",
        "def encuesta(whichever_list):\n",
        "    for i in whichever_list:\n",
        "        if  i != True:\n",
        "            print(i)\n",
        "    if whichever_list[2] == True:\n",
        "        return \"I'd love to live in Malaga\"\n",
        "    elif whichever_list[2] == False:\n",
        "        return \"I like the tranquility\"\n",
        "\n"
      ],
      "execution_count": 241,
      "outputs": []
    },
    {
      "cell_type": "code",
      "metadata": {
        "id": "IWDBPt8mdAzB"
      },
      "source": [
        "#call the function with the variable `info_list`\n",
        "encuesta(info_list)"
      ],
      "execution_count": 242,
      "outputs": [
        {
          "output_type": "stream",
          "name": "stdout",
          "text": [
            "15\nRecoletos\n['Recoletos', 15]\nNone\n8\n"
          ]
        },
        {
          "output_type": "execute_result",
          "data": {
            "text/plain": [
              "\"I'd love to live in Malaga\""
            ]
          },
          "metadata": {},
          "execution_count": 242
        }
      ]
    },
    {
      "cell_type": "markdown",
      "metadata": {
        "id": "7afhyHVXdAzB"
      },
      "source": [
        "### Bonus Track\n",
        "\n",
        "In the case of not being able to solve a question containing the code in a function, try to do it without defining one. "
      ]
    },
    {
      "cell_type": "markdown",
      "metadata": {
        "id": "GD5wGu-IdAzB"
      },
      "source": [
        "1. Create a variable called `zone` and give it the value of **None**. Loop through `whichever_list` and update `zone` to **True** if and only if, you have slept more than 7 hours, you like the beach and the sum of the hours you have slept plus the number of The Bridge is less than 24. In any other case, `zone` will be **False**. This function should return the value of `zone` and will be called `zone_function`.\n"
      ]
    },
    {
      "cell_type": "code",
      "metadata": {
        "id": "zYdJSeIOdAzC"
      },
      "source": [],
      "execution_count": null,
      "outputs": []
    },
    {
      "cell_type": "markdown",
      "metadata": {
        "id": "KrdAlAT6dAzC"
      },
      "source": [
        "2. Define a function called `test_function` that receives only one parameter called `zone_value` and that returns the value of `zone_value` if it is **True**. Once you've defined `test_function` you should call it with the value returned by the `zone_function` as an argument."
      ]
    },
    {
      "cell_type": "code",
      "metadata": {
        "id": "-OCND81-dAzC"
      },
      "source": [],
      "execution_count": null,
      "outputs": []
    },
    {
      "cell_type": "markdown",
      "metadata": {
        "id": "-cEpX6VIdAzC"
      },
      "source": [
        "3. Define a function that asks the user if they like the mountain and, if not, call the `zone_function` function."
      ]
    },
    {
      "cell_type": "code",
      "metadata": {
        "id": "gSKEuPWudAzD"
      },
      "source": [],
      "execution_count": null,
      "outputs": []
    },
    {
      "cell_type": "markdown",
      "metadata": {
        "id": "u8XfCglUdAzD"
      },
      "source": [
        "### Bonus Track of the Bonus Track.\n",
        "\n",
        "**This Bonus Track could take you some days, it is very ok, sometimes coding is all about time.**\n",
        "\n",
        "Sooner than later, you'll also learn about `.py` files and you will be able to implement this program into that kind of file. Not yet, tho. "
      ]
    },
    {
      "cell_type": "markdown",
      "metadata": {
        "id": "gA7SLN7AdAzD"
      },
      "source": [
        "1. Program **a calculator** that asks for two numbers and two operators on the screen. One operation must be performed first and then another. Try to define as many functions as possible."
      ]
    },
    {
      "cell_type": "code",
      "metadata": {
        "id": "EGwBv0LfdAzD"
      },
      "source": [],
      "execution_count": null,
      "outputs": []
    },
    {
      "cell_type": "code",
      "execution_count": null,
      "metadata": {},
      "outputs": [],
      "source": [
        "#Resolución en Clase\n",
        "primer_numero = int(input(\"Escribe el primer numero:\"))\n",
        "segundo numero = int(input(\"Escribe el PRIMER número\"))\n",
        "primera_operacion = input(\"Escribe un operador(+,-, *, /)\")\n",
        "segunda primera_operacion\n",
        "if primera_opracion =="
      ]
    },
    {
      "cell_type": "markdown",
      "metadata": {
        "id": "8x8i4ZX0dAzD"
      },
      "source": [
        "!['ha'](https://i.pinimg.com/originals/c6/4e/fc/c64efc9adaedbf446f328698e8b67388.jpg)"
      ]
    },
    {
      "cell_type": "code",
      "metadata": {
        "id": "1ejA0UP1dAzE"
      },
      "source": [],
      "execution_count": null,
      "outputs": []
    }
  ]
}