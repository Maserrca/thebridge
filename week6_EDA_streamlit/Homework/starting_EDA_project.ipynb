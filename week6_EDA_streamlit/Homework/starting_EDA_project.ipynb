{
 "cells": [
  {
   "cell_type": "markdown",
   "metadata": {},
   "source": [
    "![EDA.png](img/proyecto_eda.png)"
   ]
  },
  {
   "cell_type": "markdown",
   "metadata": {},
   "source": [
    "# Primera entrega EDA: Definición del proyecto"
   ]
  },
  {
   "cell_type": "markdown",
   "metadata": {},
   "source": [
    "En este primer entregable se espera  hagas la búsqueda de datos e investigación suficiente como para definir lo que serán los primeros pasos de tu proyecto EDA y los datos que usarás incluyendo al menos un dataset principal (aunque también podrás incluir fuentes de datos alternativas).\n",
    "\n",
    "Tienes hasta el día _20/05/2021 a las 09:00_ para entregar este archivo completado. Posteriormente se os introducirá el proyecto y darán los detalles pertinentes."
   ]
  },
  {
   "source": [
    "### Tema"
   ],
   "cell_type": "markdown",
   "metadata": {}
  },
  {
   "cell_type": "code",
   "execution_count": 1,
   "metadata": {},
   "outputs": [],
   "source": [
    "# Escribir el tema en Markdown\n",
    "#La idea original e ideal es hacer un analisis de sentimiento desde de twitter PERO por si no salen los datos, hay un plan B."
   ]
  },
  {
   "source": [
    "Tema 1: observar analizando el sentimiento en twitter, el cambio que se ha dado en la popularidad y opinion positiva de los grandes portales de entretenimiento Netflix, HBO, PrimeVideo y Disney+\n"
   ],
   "cell_type": "markdown",
   "metadata": {}
  },
  {
   "source": [
    "Tema 2: crimenes en estados unidos desde 1965 a 2019 "
   ],
   "cell_type": "markdown",
   "metadata": {}
  },
  {
   "source": [
    "### Título de proyecto"
   ],
   "cell_type": "markdown",
   "metadata": {}
  },
  {
   "cell_type": "code",
   "execution_count": 2,
   "metadata": {},
   "outputs": [],
   "source": [
    "# Escribir el título de proyecto en Markdown"
   ]
  },
  {
   "source": [
    "Título 1: Analisis del sentimiento sobre los representantes del contenido multimedia pre y post pandemia\n",
    " "
   ],
   "cell_type": "markdown",
   "metadata": {}
  },
  {
   "source": [
    "Título 2: Detrás de los asesinos"
   ],
   "cell_type": "markdown",
   "metadata": {}
  },
  {
   "cell_type": "markdown",
   "metadata": {},
   "source": [
    "### Hipótesis\n",
    "Define aquí la que será la hipótesis de tu proyecto.\n",
    "Puede que tengas más de una, pero tu proyecto lo harás teniendo una principal hipótesis."
   ]
  },
  {
   "source": [
    "# hipótesis en Markdown"
   ],
   "cell_type": "code",
   "metadata": {},
   "execution_count": null,
   "outputs": []
  },
  {
   "source": [
    "Ocio H1: Los grandes portales de entretenimiento han aumentado su popularidad y vision positiva por parte de los usuarios en comparación a datos antes de la pandemia.\n",
    "Ocio H2: el nivel de presencia en twitter de las empresas asi como su contacto con los usuarios mejora positivamente la opinión general.\n",
    "Ocio H2: Netflix y Disney se ubican mejor posicionados en opinion que HBO y PrimeVideo a partir de la pandemia \n",
    "\n"
   ],
   "cell_type": "markdown",
   "metadata": {}
  },
  {
   "source": [
    "\n",
    "crímenes H1: Existe relación entre el estado donde se ha cometido el crimen y la resolución del crimen.\n",
    "(proximamente más hipotesis)"
   ],
   "cell_type": "markdown",
   "metadata": {}
  },
  {
   "cell_type": "markdown",
   "metadata": {},
   "source": [
    "### Datasets\n",
    "Incluye aquí una breve descripción del dataset o datasets de los que partirás para poder evaluar tu hipótesis. También incluye el origen de estos datos y el formato en el que están."
   ]
  },
  {
   "cell_type": "code",
   "execution_count": null,
   "metadata": {},
   "outputs": [],
   "source": [
    "# definición y enlaces de datasets en Markdown\n"
   ]
  },
  {
   "source": [
    "Para twitter: https://developer.twitter.com/en/docs"
   ],
   "cell_type": "markdown",
   "metadata": {}
  },
  {
   "source": [
    "Para crímenes todos los datos están aquí: http://www.murderdata.org/p/data-docs.html\n"
   ],
   "cell_type": "markdown",
   "metadata": {}
  },
  {
   "cell_type": "markdown",
   "metadata": {},
   "source": [
    "### Fuentes alternativas de datos\n",
    "Como podrán ser webs a las que hacer web scraping o APIs de donde obtener información."
   ]
  },
  {
   "cell_type": "code",
   "execution_count": null,
   "metadata": {},
   "outputs": [],
   "source": [
    "# fuentes alternativas de datos en Markdown"
   ]
  },
  {
   "cell_type": "markdown",
   "metadata": {},
   "source": [
    "**¿De dónde saco los datos?** Posibles fuentes:\n",
    "\n",
    "- De los enlaces que están en el canal *links_of_interests* de Discord\n",
    "- https://www.kaggle.com/datasets\n",
    "- [API de Idealista](https://www.idealista.com/labs/)\n",
    "- [API de Booking](https://developers.booking.com/api/index.html)\n",
    "- [API de Tripadvisor](http://developer-tripadvisor.com/content-api/)\n",
    "- [API de Facebook](https://developers.facebook.com/docs/apis-and-sdks?locale=es_ES)\n",
    "- [API de Twitter](https://developer.twitter.com/en/docs)\n",
    "- [API de Instagram](https://www.instagram.com/developer/)\n",
    "- [APIs de Google Maps](https://cloud.google.com/maps-platform?hl=es)\n",
    "- [Google Timeline](https://www.google.es/maps/timeline?pb). Todo tu registro de actividad de Google, como los lugares que has visitado\n",
    "- [Alexa. Tráfico de webs](https://www.alexa.com/siteinfo)\n",
    "- [Catastro](https://ovc.catastro.meh.es/ovcservweb/OVCSWLocalizacionRC/OVCCoordenadas.asmx)\n",
    "- [Airbnb](http://insideairbnb.com/index.html)\n",
    "- Web scrapping. Acceso automatizado a cualquier web.\n",
    "- Kaggle: página con competiciones de data scientists. Muchísimos datasets.\n",
    "- QPython 3L: APP para ejecutar código Python en el movil. Podrás sacar datos de tu actividad con el teléfono (horarios, geoposicionamiento)\n",
    "- Coronavirus. Se están empezando a librerar muchísimos datasets con datos del coronavirus en todo el mundo. En Kaggle hay varios.\n",
    "- [Web de datos abiertos del gobierno](https://datos.gob.es/)\n",
    "- [OpenStreetMap](https://wiki.openstreetmap.org/wiki/API). Datos de ubicaciones (como Google Maps) abiertos\n",
    "- [Obtención de datos bursátiles](https://financetrain.com/best-python-librariespackages-finance-financial-data-scientists/)\n",
    "- [ESRI Datos abiertos España](https://opendata.esri.es/)\n",
    "- [INE](https://www.ine.es/nomen2/ficheros.do)\n",
    "- [Red.es](https://www.red.es/redes/es/que-hacemos/datos-abiertos)\n",
    "- [Datos abiertos gobierno](https://www.hacienda.gob.es/es-ES/GobiernoAbierto/Datos%20Abiertos/Paginas/Catalogodedatosabiertos.aspx)\n",
    "- [Ayuntamiento de Madrid](https://datos.madrid.es/portal/site/egob/)\n",
    "- [Ayuntamiento de Barcelona](https://opendata-ajuntament.barcelona.cat/es)\n",
    "- [Metro de Madrid](https://data-crtm.opendata.arcgis.com/)\n",
    "- [Portal datos europeo I](https://data.europa.eu/euodp/es/home)\n",
    "- [Portal datos europeo II](https://www.europeandataportal.eu/data/datasets?locale=en&minScoring=0)\n",
    "- [Google Dataset Search](https://datasetsearch.research.google.com/)\n",
    "- [Indicadores macro mundiales](https://databank.worldbank.org/home)\n",
    "- [Indicadores macro mundiales 2](https://ilostat.ilo.org/data/country-profiles/)"
   ]
  },
  {
   "cell_type": "code",
   "execution_count": null,
   "metadata": {},
   "outputs": [],
   "source": []
  }
 ],
 "metadata": {
  "kernelspec": {
   "name": "python36464bitc2077ed07ea84d23aa5b518d224882ab",
   "display_name": "Python 3.6.4 64-bit"
  },
  "language_info": {
   "codemirror_mode": {
    "name": "ipython",
    "version": 3
   },
   "file_extension": ".py",
   "mimetype": "text/x-python",
   "name": "python",
   "nbconvert_exporter": "python",
   "pygments_lexer": "ipython3",
   "version": "3.6.4"
  },
  "metadata": {
   "interpreter": {
    "hash": "5c4d2f1fdcd3716c7a5eea90ad07be30193490dd4e63617705244f5fd89ea793"
   }
  }
 },
 "nbformat": 4,
 "nbformat_minor": 5
}