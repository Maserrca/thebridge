{
  "nbformat": 4,
  "nbformat_minor": 0,
  "metadata": {
    "kernelspec": {
      "name": "python374jvsc74a57bd0797ece2db6cd49410b212500b07c3b6429b528fb918ab6c0d0ffbc4c51c5b09e",
      "display_name": "Python 3.7.4 64-bit"
    },
    "language_info": {
      "codemirror_mode": {
        "name": "ipython",
        "version": 3
      },
      "file_extension": ".py",
      "mimetype": "text/x-python",
      "name": "python",
      "nbconvert_exporter": "python",
      "pygments_lexer": "ipython3",
      "version": "3.7.4"
    },
    "colab": {
      "name": "Practice_6_dictionaries.ipynb",
      "provenance": []
    },
    "metadata": {
      "interpreter": {
        "hash": "797ece2db6cd49410b212500b07c3b6429b528fb918ab6c0d0ffbc4c51c5b09e"
      }
    }
  },
  "cells": [
    {
      "cell_type": "markdown",
      "metadata": {
        "id": "affo5GZU-mVH"
      },
      "source": [
        "# Python | day 6 | dictionaries"
      ]
    },
    {
      "cell_type": "markdown",
      "metadata": {
        "id": "qZ1l6DDw-mVN"
      },
      "source": [
        "Dictionaries are used to store data values in key:value pairs.\n",
        "\n",
        "A dictionary is a collection which is unordered, changeable and does not allow duplicates.\n",
        "\n",
        "Dictionaries are written with curly brackets, and have keys and values:"
      ]
    },
    {
      "cell_type": "markdown",
      "metadata": {
        "id": "qgmIq8O7-mVN"
      },
      "source": [
        "```python\n",
        "thisdict = {\n",
        "  \"brand\": \"Ford\",\n",
        "  \"model\": \"Mustang\",\n",
        "  \"year\": 1964\n",
        "}\n",
        "```"
      ]
    },
    {
      "cell_type": "markdown",
      "metadata": {
        "id": "mex-g8eq-mVO"
      },
      "source": [
        "https://www.w3schools.com/python/python_dictionaries.asp"
      ]
    },
    {
      "cell_type": "markdown",
      "metadata": {
        "id": "esdaHrxE-mVO"
      },
      "source": [
        "### Exercise 1. \n",
        "\n",
        "1. Create a dictionary with an integer 5 as the key and \"val\" as its value."
      ]
    },
    {
      "cell_type": "code",
      "metadata": {
        "id": "PVTN6PFm-mVO"
      },
      "source": [
        "diccionario ={5:\"val\"}\n",
        "diccionario"
      ],
      "execution_count": 2,
      "outputs": [
        {
          "output_type": "execute_result",
          "data": {
            "text/plain": [
              "{5: 'val'}"
            ]
          },
          "metadata": {},
          "execution_count": 2
        }
      ]
    },
    {
      "cell_type": "markdown",
      "metadata": {
        "id": "o106YUzN-mVP"
      },
      "source": [
        "2. Create two lists: one that has 4 city names and another that has 4 landmarks in the city."
      ]
    },
    {
      "cell_type": "code",
      "metadata": {
        "id": "iEpp1GMH-mVP"
      },
      "source": [
        "ciudades = [\"Madrid\", \"Barcelona\", \"Londres\", \"Berlin\"]\n",
        "monumentos = [\"Templo de Debod\", \"Sagrada Familia\", \"Big Ben\", \"Puerta de Branderburgo\"]"
      ],
      "execution_count": 1,
      "outputs": []
    },
    {
      "cell_type": "markdown",
      "metadata": {
        "id": "8cpglxcD-mVP"
      },
      "source": [
        "3. Create a dictionary where the cities contained in the first list are the **keys** and the landmarks are the **values**.\n",
        "```python\n",
        "#example\n",
        "places = {\"Malaga\": \"Gibralfaro\", \n",
        "         \"Madrid\": \"Templo de Debod\",\n",
        "         \"Granada\": \"La Alcazaba\",\n",
        "         \"Barcelona\": \"Sagrada Familia\"}\n",
        "```"
      ]
    },
    {
      "cell_type": "code",
      "metadata": {
        "id": "rv8yrI_o-mVQ"
      },
      "source": [
        "lugares = {}\n",
        "for i in range(len(ciudades)):\n",
        "    lugares[ciudades[i]] = monumentos[i]\n",
        "\n",
        "print(lugares)"
      ],
      "execution_count": 3,
      "outputs": [
        {
          "output_type": "stream",
          "name": "stdout",
          "text": [
            "{'Madrid': 'Templo de Debod', 'Barcelona': 'Sagrada Familia', 'Londres': 'Big Ben', 'Berlin': 'Puerta de Branderburgo'}\n"
          ]
        }
      ]
    },
    {
      "cell_type": "markdown",
      "metadata": {
        "id": "bMUMCHfo-mVQ"
      },
      "source": [
        "4. Loop through the dictionary and print only the values of those keys starting with the letter **M**.\n",
        "\n",
        "https://realpython.com/iterate-through-dictionary-python/"
      ]
    },
    {
      "cell_type": "code",
      "metadata": {
        "id": "H7UNoBMA-mVQ"
      },
      "source": [
        "for key, value in lugares.items():\n",
        "    if key[0] == \"M\":\n",
        "        print(value)"
      ],
      "execution_count": 40,
      "outputs": [
        {
          "output_type": "stream",
          "name": "stdout",
          "text": [
            "Templo de Debod\n"
          ]
        }
      ]
    },
    {
      "cell_type": "markdown",
      "metadata": {
        "id": "npY7_K31-mVR"
      },
      "source": [
        "5. Create a function that receives two lists `list1` and `list2` by parameter and returns a dictionary with each element of `list1` as keys and the elements of `list2` as values. Call the function with the lists you have created before to return the same dictionary you've created in question 3. "
      ]
    },
    {
      "cell_type": "code",
      "metadata": {
        "id": "Xkum4U-l-mVR"
      },
      "source": [
        "def dic(list1, list2):\n",
        "    diccionario = {}\n",
        "    for i in range(len(list1)):\n",
        "        diccionario[list1[i]] = list2[i]\n",
        "    return diccionario"
      ],
      "execution_count": 11,
      "outputs": []
    },
    {
      "cell_type": "code",
      "execution_count": 12,
      "metadata": {},
      "outputs": [
        {
          "output_type": "execute_result",
          "data": {
            "text/plain": [
              "{'Madrid': 'Templo de Debod',\n",
              " 'Barcelona': 'Sagrada Familia',\n",
              " 'Londres': 'Big Ben',\n",
              " 'Berlin': 'Puerta de Branderburgo'}"
            ]
          },
          "metadata": {},
          "execution_count": 12
        }
      ],
      "source": [
        "dic(ciudades,monumentos)"
      ]
    },
    {
      "cell_type": "markdown",
      "metadata": {
        "id": "81ot0oOd-mVR"
      },
      "source": [
        "### Exercise 2. "
      ]
    },
    {
      "cell_type": "markdown",
      "metadata": {
        "id": "luI1SO3i-mVS"
      },
      "source": [
        "1. Create an empty dictionary called dog."
      ]
    },
    {
      "cell_type": "code",
      "metadata": {
        "id": "aKSWY4RH-mVS"
      },
      "source": [
        "dog = {}"
      ],
      "execution_count": 20,
      "outputs": []
    },
    {
      "cell_type": "markdown",
      "metadata": {
        "id": "Un8MmLWu-mVS"
      },
      "source": [
        "2. Add name, color, breed, legs, age to the dog dictionary."
      ]
    },
    {
      "cell_type": "code",
      "execution_count": 26,
      "metadata": {},
      "outputs": [],
      "source": [
        "keysdog = [\"name\", \"color\", \"breed\", \"legs\", \"age\"]\n",
        "mydog = [\"Jazz\", \"Black and White\", \"Border Collie\", 4, 7]"
      ]
    },
    {
      "cell_type": "code",
      "execution_count": 27,
      "metadata": {},
      "outputs": [
        {
          "output_type": "execute_result",
          "data": {
            "text/plain": [
              "{'name': 'Jazz',\n",
              " 'color': 'Black and White',\n",
              " 'breed': 'Border Collie',\n",
              " 'legs': 4,\n",
              " 'age': 7}"
            ]
          },
          "metadata": {},
          "execution_count": 27
        }
      ],
      "source": [
        "dog = {}\n",
        "for i in range(len(keysdog)):\n",
        "    dog[keysdog[i]] = mydog[i]\n",
        "dog"
      ]
    },
    {
      "cell_type": "markdown",
      "metadata": {
        "id": "0UA1j3uW-mVS"
      },
      "source": [
        "3. Create a student dictionary and add first_name, last_name, age, skills, country, city and address as keys for the dictionary.\n"
      ]
    },
    {
      "cell_type": "code",
      "metadata": {
        "id": "gzus92bE-mVT"
      },
      "source": [
        "student_data = [\"first_name\", \"last_name\", \"age\", \"skills\", \"country\", \"city\", \"address\"]\n",
        "student1 = [\"Marina\", \"Serrano\", 25, [\"talkative\",\"drama\"], \"Spain\", \"Madrid\", \"Calle Granada 10\"]\n",
        "student = {}\n",
        "for elem in range(len(student_data)):\n",
        "    student[student_data[elem]] = student1[elem]\n",
        "student"
      ],
      "execution_count": 78,
      "outputs": [
        {
          "output_type": "execute_result",
          "data": {
            "text/plain": [
              "{'first_name': 'Marina',\n",
              " 'last_name': 'Serrano',\n",
              " 'age': 25,\n",
              " 'skills': ['talkative', 'drama'],\n",
              " 'country': 'Spain',\n",
              " 'city': 'Madrid',\n",
              " 'address': 'Calle Granada 10'}"
            ]
          },
          "metadata": {},
          "execution_count": 78
        }
      ]
    },
    {
      "cell_type": "markdown",
      "metadata": {
        "id": "qlo3s-bH-mVT"
      },
      "source": [
        "4. Get the length of the student dictionary.\n"
      ]
    },
    {
      "cell_type": "code",
      "metadata": {
        "id": "vybVtDTE-mVT"
      },
      "source": [
        "len(student)"
      ],
      "execution_count": 34,
      "outputs": [
        {
          "output_type": "execute_result",
          "data": {
            "text/plain": [
              "7"
            ]
          },
          "metadata": {},
          "execution_count": 34
        }
      ]
    },
    {
      "cell_type": "markdown",
      "metadata": {
        "id": "hFzL-qv2-mVT"
      },
      "source": [
        "5. Get the value of skills and check the data type, it should be a list."
      ]
    },
    {
      "cell_type": "code",
      "metadata": {
        "id": "PXicwRvv-mVT"
      },
      "source": [
        "print(student[\"skills\"])\n",
        "print(type(student[\"skills\"]))"
      ],
      "execution_count": 79,
      "outputs": [
        {
          "output_type": "stream",
          "name": "stdout",
          "text": [
            "['talkative', 'drama']\n<class 'list'>\n"
          ]
        }
      ]
    },
    {
      "cell_type": "markdown",
      "metadata": {
        "id": "THXjxoYT-mVU"
      },
      "source": [
        "6. Modify the skills values by adding one or two skills."
      ]
    },
    {
      "cell_type": "code",
      "execution_count": 80,
      "metadata": {},
      "outputs": [
        {
          "output_type": "stream",
          "name": "stdout",
          "text": [
            "{'first_name': 'Marina', 'last_name': 'Serrano', 'age': 25, 'skills': ['short', 'patience'], 'country': 'Spain', 'city': 'Madrid', 'address': 'Calle Granada 10'}\n"
          ]
        }
      ],
      "source": [
        "student[\"skills\"] = [\"short\", \"patience\" ]\n",
        "print(student)"
      ]
    },
    {
      "cell_type": "code",
      "metadata": {
        "id": "FJSqGB7N-mVU"
      },
      "source": [
        "#Anadir, no modificar\n",
        "student[\"skills\"].append(\"psychological\")\n",
        "print(student)"
      ],
      "execution_count": 81,
      "outputs": [
        {
          "output_type": "stream",
          "name": "stdout",
          "text": [
            "{'first_name': 'Marina', 'last_name': 'Serrano', 'age': 25, 'skills': ['short', 'patience', 'psychological'], 'country': 'Spain', 'city': 'Madrid', 'address': 'Calle Granada 10'}\n"
          ]
        }
      ]
    },
    {
      "cell_type": "markdown",
      "metadata": {
        "id": "EwKw8fJg-mVU"
      },
      "source": [
        "7. Get the dictionary keys as a list."
      ]
    },
    {
      "cell_type": "code",
      "metadata": {
        "id": "mapEb0dP-mVU"
      },
      "source": [
        "lista_keys = student.keys()\n",
        "print(lista_keys)"
      ],
      "execution_count": 63,
      "outputs": [
        {
          "output_type": "stream",
          "name": "stdout",
          "text": [
            "dict_keys(['first_name', 'last_name', 'age', 'skills', 'country', 'city', 'address'])\n"
          ]
        }
      ]
    },
    {
      "cell_type": "markdown",
      "metadata": {
        "id": "NBoOODGK-mVU"
      },
      "source": [
        "8. Get the dictionary values as a list.\n"
      ]
    },
    {
      "cell_type": "code",
      "metadata": {
        "id": "vu4F0H65-mVU"
      },
      "source": [
        "lista_values = student.values()\n",
        "print(lista_values)"
      ],
      "execution_count": 64,
      "outputs": [
        {
          "output_type": "stream",
          "name": "stdout",
          "text": [
            "dict_values(['Marina', 'Serrano', 25, ['talkative', 'drama'], 'Spain', 'Madrid', 'Calle Granada 10'])\n"
          ]
        }
      ]
    },
    {
      "cell_type": "markdown",
      "metadata": {
        "id": "JYZf6mTZ-mVV"
      },
      "source": [
        "9. Change the dictionary to a list of tuples using `items()` method"
      ]
    },
    {
      "cell_type": "code",
      "metadata": {
        "id": "Fd9S8IVd-mVV"
      },
      "source": [
        "student_list = student.items()\n",
        "print(student_list)"
      ],
      "execution_count": 65,
      "outputs": [
        {
          "output_type": "stream",
          "name": "stdout",
          "text": [
            "dict_items([('first_name', 'Marina'), ('last_name', 'Serrano'), ('age', 25), ('skills', ['talkative', 'drama']), ('country', 'Spain'), ('city', 'Madrid'), ('address', 'Calle Granada 10')])\n"
          ]
        }
      ]
    },
    {
      "cell_type": "markdown",
      "metadata": {
        "id": "4x_qVWYM-mVV"
      },
      "source": [
        "10. Delete one of the items in the dictionary.\n"
      ]
    },
    {
      "cell_type": "code",
      "metadata": {
        "id": "thl9Relr-mVY"
      },
      "source": [
        "del student[\"address\"]\n",
        "print(student)"
      ],
      "execution_count": 68,
      "outputs": [
        {
          "output_type": "stream",
          "name": "stdout",
          "text": [
            "{'first_name': 'Marina', 'last_name': 'Serrano', 'age': 25, 'skills': ['talkative', 'drama'], 'country': 'Spain', 'city': 'Madrid'}\n"
          ]
        }
      ]
    },
    {
      "cell_type": "markdown",
      "metadata": {
        "id": "x5U_yUt--mVY"
      },
      "source": [
        "### Bonus Track"
      ]
    },
    {
      "cell_type": "markdown",
      "metadata": {
        "id": "Lr9gcRv2-mVY"
      },
      "source": [
        "**Tómate un zumito a tu salud.**"
      ]
    },
    {
      "cell_type": "markdown",
      "metadata": {
        "id": "Ef1KgRRH-mVY"
      },
      "source": [
        "!['daughter'](https://i.pinimg.com/originals/8f/35/28/8f35281e742e71be09697e7e6789b819.png)"
      ]
    },
    {
      "cell_type": "code",
      "metadata": {
        "id": "jEUIWpGl-mVY"
      },
      "source": [],
      "execution_count": null,
      "outputs": []
    }
  ]
}