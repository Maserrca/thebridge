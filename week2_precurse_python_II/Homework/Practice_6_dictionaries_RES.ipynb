{
  "nbformat": 4,
  "nbformat_minor": 0,
  "metadata": {
    "kernelspec": {
      "display_name": "Python 3",
      "language": "python",
      "name": "python3"
    },
    "language_info": {
      "codemirror_mode": {
        "name": "ipython",
        "version": 3
      },
      "file_extension": ".py",
      "mimetype": "text/x-python",
      "name": "python",
      "nbconvert_exporter": "python",
      "pygments_lexer": "ipython3",
      "version": "3.8.3"
    },
    "colab": {
      "name": "Practice_6_dictionaries_RES.ipynb",
      "provenance": []
    }
  },
  "cells": [
    {
      "cell_type": "markdown",
      "metadata": {
        "id": "N050bIGmYfq2"
      },
      "source": [
        "# Python | day 6 | dictionaries"
      ]
    },
    {
      "cell_type": "markdown",
      "metadata": {
        "id": "SO0z9eqtYfq8"
      },
      "source": [
        "Dictionaries are used to store data values in key:value pairs.\n",
        "\n",
        "A dictionary is a collection which is unordered, changeable and does not allow duplicates.\n",
        "\n",
        "Dictionaries are written with curly brackets, and have keys and values:"
      ]
    },
    {
      "cell_type": "markdown",
      "metadata": {
        "id": "cTS70i1TYfq9"
      },
      "source": [
        "```python\n",
        "thisdict = {\n",
        "  \"brand\": \"Ford\",\n",
        "  \"model\": \"Mustang\",\n",
        "  \"year\": 1964\n",
        "}\n",
        "```"
      ]
    },
    {
      "cell_type": "markdown",
      "metadata": {
        "id": "vh1e6odjYfq-"
      },
      "source": [
        "https://www.w3schools.com/python/python_dictionaries.asp"
      ]
    },
    {
      "cell_type": "markdown",
      "metadata": {
        "id": "_pRpCuVZYfq-"
      },
      "source": [
        "### Exercise 1. \n",
        "\n",
        "1. Create a dictionary with an integer 5 as the key and \"val\" as its value."
      ]
    },
    {
      "cell_type": "code",
      "metadata": {
        "id": "Q3GGPdxoYfq-"
      },
      "source": [
        "thisdict = {5: 'val'}"
      ],
      "execution_count": null,
      "outputs": []
    },
    {
      "cell_type": "markdown",
      "metadata": {
        "id": "iXFNWqwWYfq_"
      },
      "source": [
        "2. Create two lists: one that has 4 city names and another that has 4 landmarks in the city."
      ]
    },
    {
      "cell_type": "code",
      "metadata": {
        "id": "KElRM3WeYfq_"
      },
      "source": [
        "cities = ['Madrid', 'Moscú', 'Berín', 'París']\n",
        "land_marks = ['Cibeles', 'Plaza Roja', 'Reichstag', 'Campos elíseos']"
      ],
      "execution_count": null,
      "outputs": []
    },
    {
      "cell_type": "markdown",
      "metadata": {
        "id": "aNn5ZxanYfq_"
      },
      "source": [
        "3. Create a dictionary where the cities contained in the first list are the **keys** and the landmarks are the **values**.\n",
        "```python\n",
        "#example\n",
        "places = {\"Malaga\": \"Gibralfaro\", \n",
        "         \"Madrid\": \"Templo de Debod\",\n",
        "         \"Granada\": \"La Alcazaba\",\n",
        "         \"Barcelona\": \"Sagrada Familia\"}\n",
        "```"
      ]
    },
    {
      "cell_type": "code",
      "metadata": {
        "id": "ypcioZYDYfrA"
      },
      "source": [
        "places = {cities[0]: land_marks[0], cities[1]: land_marks[1], cities[2]: land_marks[2], cities[3]: land_marks[3]}\n",
        "\n",
        "print(places)"
      ],
      "execution_count": null,
      "outputs": []
    },
    {
      "cell_type": "markdown",
      "metadata": {
        "id": "r3wmSvfLYfrA"
      },
      "source": [
        "4. Loop through the dictionary and print only the values of those keys starting with the letter **M**.\n",
        "\n",
        "https://realpython.com/iterate-through-dictionary-python/"
      ]
    },
    {
      "cell_type": "code",
      "metadata": {
        "id": "GJx08dzSYfrA"
      },
      "source": [
        "for e in places:\n",
        "    if e.startswith('M'):\n",
        "        print(places[e])"
      ],
      "execution_count": null,
      "outputs": []
    },
    {
      "cell_type": "markdown",
      "metadata": {
        "id": "BhiJK7_xYfrB"
      },
      "source": [
        "5. Create a function that receives two lists `list1` and `list2` by parameter and returns a dictionary with each element of `list1` as keys and the elements of `list2` as values. Call the function with the lists you have created before to return the same dictionary you've created in question 3. "
      ]
    },
    {
      "cell_type": "code",
      "metadata": {
        "id": "ZSmpUfZCYfrB"
      },
      "source": [
        "def dict_creator (list_1, list_2):\n",
        "    \"\"\"\n",
        "    ---What it does---\n",
        "    This function creates a dictionary from two given lists.\n",
        "    ---What it needs---\n",
        "        - Two lists (list_1 and list_2)\n",
        "    ---What it returns---\n",
        "    A dictionary object.\n",
        "    \"\"\"\n",
        "    print (f'1st list: {list_1}')\n",
        "    print(f'2nd list: {list_2}')\n",
        "\n",
        "    dictionary ={}\n",
        "    \n",
        "    # To avoid issues with list's lenght!\n",
        "    if len(list_1) == len(list_2):\n",
        "        lenght = len(list_1)\n",
        "\n",
        "    elif len(list_1) > len(list_2):\n",
        "        lenght = len(list_1)\n",
        "\n",
        "    else:\n",
        "        lenght = len(list_2)\n",
        "\n",
        "    for e in range(lenght):\n",
        "        dictionary[list_1[e]] = list_2[e]\n",
        "\n",
        "    return dictionary"
      ],
      "execution_count": null,
      "outputs": []
    },
    {
      "cell_type": "code",
      "metadata": {
        "id": "kSrMjPDyYfrB"
      },
      "source": [
        "dictionary_returned = dict_creator(cities, land_marks)\n",
        "dictionary_returned"
      ],
      "execution_count": null,
      "outputs": []
    },
    {
      "cell_type": "markdown",
      "metadata": {
        "id": "fQExP46_YfrB"
      },
      "source": [
        "### Exercise 2. "
      ]
    },
    {
      "cell_type": "markdown",
      "metadata": {
        "id": "REO1y0utYfrC"
      },
      "source": [
        "1. Create an empty dictionary called dog."
      ]
    },
    {
      "cell_type": "code",
      "metadata": {
        "id": "GBfkaRvuYfrC"
      },
      "source": [
        "dog = {}"
      ],
      "execution_count": null,
      "outputs": []
    },
    {
      "cell_type": "markdown",
      "metadata": {
        "id": "XZ0tuMOdYfrC"
      },
      "source": [
        "2. Add name, color, breed, legs, age to the dog dictionary."
      ]
    },
    {
      "cell_type": "code",
      "metadata": {
        "id": "ZIiQhbzUYfrC"
      },
      "source": [
        "name= 'Colmillo'\n",
        "color = 'Black'\n",
        "breed = 'German shepherd'\n",
        "legs = 4\n",
        "age = 6"
      ],
      "execution_count": null,
      "outputs": []
    },
    {
      "cell_type": "code",
      "metadata": {
        "id": "shgIgD7BYfrD",
        "outputId": "b8dd895f-0bf2-431a-c82d-33afb2c9ed15"
      },
      "source": [
        "dog['Name'] = name\n",
        "dog['Color'] = color\n",
        "dog['Breed'] = breed\n",
        "dog['Legs'] = legs\n",
        "dog['age'] = age\n",
        "\n",
        "dog"
      ],
      "execution_count": null,
      "outputs": [
        {
          "output_type": "execute_result",
          "data": {
            "text/plain": [
              "{'Name': 'Colmillo',\n",
              " 'Color': 'Black',\n",
              " 'Breed': 'German shepherd',\n",
              " 'Legs': 4,\n",
              " 'age': 6}"
            ]
          },
          "metadata": {
            "tags": []
          },
          "execution_count": 9
        }
      ]
    },
    {
      "cell_type": "markdown",
      "metadata": {
        "id": "0FpNn15cYfrD"
      },
      "source": [
        "3. Create a student dictionary and add first_name, last_name, age, skills, country, city and address as keys for the dictionary.\n"
      ]
    },
    {
      "cell_type": "code",
      "metadata": {
        "id": "437AxeTZYfrE"
      },
      "source": [
        "student = {}\n",
        "\n",
        "key_list = ['first_name', 'last_name', 'age', 'skills', 'country', 'city', 'address']\n",
        "value_list = ['Moe', 'Szyslak', 46, ['Serving beer', 'Drunk toss-out', 'Criminal demenour'], 'US', 'Springfield', 'False Stret n123']"
      ],
      "execution_count": null,
      "outputs": []
    },
    {
      "cell_type": "code",
      "metadata": {
        "id": "qgIflUKpYfrE",
        "outputId": "2e15479c-914c-44b5-e5ce-119732dff78a"
      },
      "source": [
        "for e in range(len(key_list)):\n",
        "    student[key_list[e]] = value_list[e]\n",
        "\n",
        "student"
      ],
      "execution_count": null,
      "outputs": [
        {
          "output_type": "execute_result",
          "data": {
            "text/plain": [
              "{'first_name': 'Moe',\n",
              " 'last_name': 'Szyslak',\n",
              " 'age': 46,\n",
              " 'skills': ['Serving beer', 'Drunk toss-out', 'Criminal demenour'],\n",
              " 'country': 'US',\n",
              " 'city': 'Springfield',\n",
              " 'address': 'False Stret n123'}"
            ]
          },
          "metadata": {
            "tags": []
          },
          "execution_count": 11
        }
      ]
    },
    {
      "cell_type": "code",
      "metadata": {
        "id": "B51DkbU6YfrE",
        "outputId": "d370ea94-6a4c-4244-d6f4-2123a1aca937"
      },
      "source": [
        "student = dict_creator(key_list, value_list)\n",
        "student"
      ],
      "execution_count": null,
      "outputs": [
        {
          "output_type": "stream",
          "text": [
            "1st list: ['first_name', 'last_name', 'age', 'skills', 'country', 'city', 'address']\n",
            "2nd list: ['Moe', 'Szyslak', 46, ['Serving beer', 'Drunk toss-out', 'Criminal demenour'], 'US', 'Springfield', 'False Stret n123']\n"
          ],
          "name": "stdout"
        },
        {
          "output_type": "execute_result",
          "data": {
            "text/plain": [
              "{'first_name': 'Moe',\n",
              " 'last_name': 'Szyslak',\n",
              " 'age': 46,\n",
              " 'skills': ['Serving beer', 'Drunk toss-out', 'Criminal demenour'],\n",
              " 'country': 'US',\n",
              " 'city': 'Springfield',\n",
              " 'address': 'False Stret n123'}"
            ]
          },
          "metadata": {
            "tags": []
          },
          "execution_count": 12
        }
      ]
    },
    {
      "cell_type": "markdown",
      "metadata": {
        "id": "jnDCbwISYfrF"
      },
      "source": [
        "4. Get the length of the student dictionary.\n"
      ]
    },
    {
      "cell_type": "code",
      "metadata": {
        "id": "s2dsTuOoYfrF",
        "outputId": "8393dabf-279c-4876-c614-b5bdf41a8d61"
      },
      "source": [
        "len(student)"
      ],
      "execution_count": null,
      "outputs": [
        {
          "output_type": "execute_result",
          "data": {
            "text/plain": [
              "7"
            ]
          },
          "metadata": {
            "tags": []
          },
          "execution_count": 13
        }
      ]
    },
    {
      "cell_type": "markdown",
      "metadata": {
        "id": "0iTc_KcWYfrF"
      },
      "source": [
        "5. Get the value of skills and check the data type, it should be a list."
      ]
    },
    {
      "cell_type": "code",
      "metadata": {
        "id": "x-5kWXiYYfrF",
        "outputId": "2fc50611-00b2-4996-d63a-f7b11e5b076e"
      },
      "source": [
        "type(student['skills'])"
      ],
      "execution_count": null,
      "outputs": [
        {
          "output_type": "execute_result",
          "data": {
            "text/plain": [
              "list"
            ]
          },
          "metadata": {
            "tags": []
          },
          "execution_count": 14
        }
      ]
    },
    {
      "cell_type": "markdown",
      "metadata": {
        "id": "BjgllK6jYfrF"
      },
      "source": [
        "6. Modify the skills values by adding one or two skills."
      ]
    },
    {
      "cell_type": "code",
      "metadata": {
        "id": "bzjSsLggYfrG",
        "outputId": "b774fcaf-337e-45ed-b2b7-b7854badb4ed"
      },
      "source": [
        "student['skills'].append('Reckless driving')\n",
        "student['skills'].append('Hip-hop self defense')\n",
        "\n",
        "student['skills']"
      ],
      "execution_count": null,
      "outputs": [
        {
          "output_type": "execute_result",
          "data": {
            "text/plain": [
              "['Serving beer',\n",
              " 'Drunk toss-out',\n",
              " 'Criminal demenour',\n",
              " 'Reckless driving',\n",
              " 'Hip-hop self defense']"
            ]
          },
          "metadata": {
            "tags": []
          },
          "execution_count": 15
        }
      ]
    },
    {
      "cell_type": "markdown",
      "metadata": {
        "id": "0Lg4jfzFYfrG"
      },
      "source": [
        "7. Get the dictionary keys as a list."
      ]
    },
    {
      "cell_type": "code",
      "metadata": {
        "id": "bXo-w2DeYfrG",
        "outputId": "60922554-9a82-483b-cd66-34120a9d9d79"
      },
      "source": [
        "list(student.keys())"
      ],
      "execution_count": null,
      "outputs": [
        {
          "output_type": "execute_result",
          "data": {
            "text/plain": [
              "['first_name', 'last_name', 'age', 'skills', 'country', 'city', 'address']"
            ]
          },
          "metadata": {
            "tags": []
          },
          "execution_count": 16
        }
      ]
    },
    {
      "cell_type": "markdown",
      "metadata": {
        "id": "Gb78ZU2CYfrG"
      },
      "source": [
        "8. Get the dictionary values as a list.\n"
      ]
    },
    {
      "cell_type": "code",
      "metadata": {
        "id": "T8aAOeJbYfrH",
        "outputId": "76a7bf15-6de2-4ec2-9c67-e70556d3916f"
      },
      "source": [
        "list(student.values())"
      ],
      "execution_count": null,
      "outputs": [
        {
          "output_type": "execute_result",
          "data": {
            "text/plain": [
              "['Moe',\n",
              " 'Szyslak',\n",
              " 46,\n",
              " ['Serving beer',\n",
              "  'Drunk toss-out',\n",
              "  'Criminal demenour',\n",
              "  'Reckless driving',\n",
              "  'Hip-hop self defense'],\n",
              " 'US',\n",
              " 'Springfield',\n",
              " 'False Stret n123']"
            ]
          },
          "metadata": {
            "tags": []
          },
          "execution_count": 17
        }
      ]
    },
    {
      "cell_type": "markdown",
      "metadata": {
        "id": "I7C3StQIYfrH"
      },
      "source": [
        "9. Change the dictionary to a list of tuples using `items()` method"
      ]
    },
    {
      "cell_type": "code",
      "metadata": {
        "id": "LvkyzXB6YfrH",
        "outputId": "68b72143-038c-4501-f6e0-1f6e9feb54a6"
      },
      "source": [
        "student_items = student.items()\n",
        "student_items"
      ],
      "execution_count": null,
      "outputs": [
        {
          "output_type": "execute_result",
          "data": {
            "text/plain": [
              "dict_items([('first_name', 'Moe'), ('last_name', 'Szyslak'), ('age', 46), ('skills', ['Serving beer', 'Drunk toss-out', 'Criminal demenour', 'Reckless driving', 'Hip-hop self defense']), ('country', 'US'), ('city', 'Springfield'), ('address', 'False Stret n123')])"
            ]
          },
          "metadata": {
            "tags": []
          },
          "execution_count": 18
        }
      ]
    },
    {
      "cell_type": "markdown",
      "metadata": {
        "id": "h6xGlqM-YfrH"
      },
      "source": [
        "10. Delete one of the items in the dictionary.\n"
      ]
    },
    {
      "cell_type": "code",
      "metadata": {
        "id": "6IH1fN_4YfrH",
        "outputId": "c6ceb9a8-0903-4e20-beda-8915f522c1aa"
      },
      "source": [
        "del student['address']\n",
        "student"
      ],
      "execution_count": null,
      "outputs": [
        {
          "output_type": "execute_result",
          "data": {
            "text/plain": [
              "{'first_name': 'Moe',\n",
              " 'last_name': 'Szyslak',\n",
              " 'age': 46,\n",
              " 'skills': ['Serving beer',\n",
              "  'Drunk toss-out',\n",
              "  'Criminal demenour',\n",
              "  'Reckless driving',\n",
              "  'Hip-hop self defense'],\n",
              " 'country': 'US',\n",
              " 'city': 'Springfield'}"
            ]
          },
          "metadata": {
            "tags": []
          },
          "execution_count": 19
        }
      ]
    },
    {
      "cell_type": "markdown",
      "metadata": {
        "id": "6-MkhJB3YfrI"
      },
      "source": [
        "### Bonus Track"
      ]
    },
    {
      "cell_type": "markdown",
      "metadata": {
        "id": "x3z_yXEiYfrI"
      },
      "source": [
        "**Tómate un zumito a tu salud.**"
      ]
    },
    {
      "cell_type": "markdown",
      "metadata": {
        "id": "0Ljvp0HfYfrI"
      },
      "source": [
        "!['daughter'](https://i.pinimg.com/originals/8f/35/28/8f35281e742e71be09697e7e6789b819.png)"
      ]
    },
    {
      "cell_type": "code",
      "metadata": {
        "id": "1q8UUbhTYfrI"
      },
      "source": [
        ""
      ],
      "execution_count": null,
      "outputs": []
    }
  ]
}