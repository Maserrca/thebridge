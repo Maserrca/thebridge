{
  "nbformat": 4,
  "nbformat_minor": 0,
  "metadata": {
    "kernelspec": {
      "name": "python374jvsc74a57bd0797ece2db6cd49410b212500b07c3b6429b528fb918ab6c0d0ffbc4c51c5b09e",
      "display_name": "Python 3.7.4 64-bit"
    },
    "language_info": {
      "codemirror_mode": {
        "name": "ipython",
        "version": 3
      },
      "file_extension": ".py",
      "mimetype": "text/x-python",
      "name": "python",
      "nbconvert_exporter": "python",
      "pygments_lexer": "ipython3",
      "version": "3.7.4"
    },
    "colab": {
      "name": "Practice_7_while.ipynb",
      "provenance": []
    },
    "metadata": {
      "interpreter": {
        "hash": "797ece2db6cd49410b212500b07c3b6429b528fb918ab6c0d0ffbc4c51c5b09e"
      }
    }
  },
  "cells": [
    {
      "cell_type": "markdown",
      "metadata": {
        "id": "ZqGP5aUavwAA"
      },
      "source": [
        "# Python | day 6 | while"
      ]
    },
    {
      "cell_type": "markdown",
      "metadata": {
        "id": "01c2F7YGvwAR"
      },
      "source": [
        "With the **while** loop we can execute a set of statements as long as a condition is true."
      ]
    },
    {
      "cell_type": "markdown",
      "metadata": {
        "id": "AlYh3GYrvwAU"
      },
      "source": [
        "```python\n",
        "i = 1\n",
        "while i < 6:\n",
        "  print(i)\n",
        "  i += 1\n",
        "```"
      ]
    },
    {
      "cell_type": "markdown",
      "metadata": {
        "id": "fEN_7VpRvwAV"
      },
      "source": [
        "https://www.w3schools.com/python/python_while_loops.asp"
      ]
    },
    {
      "cell_type": "markdown",
      "metadata": {
        "id": "gCKWozy-vwAW"
      },
      "source": [
        "### Exercise 1. "
      ]
    },
    {
      "cell_type": "markdown",
      "metadata": {
        "id": "ddm5RzeZvwAW"
      },
      "source": [
        "Do as described below:\n",
        "\n",
        "- Make a variable called strength, and set its initial value to 5.\n",
        "\n",
        "- Print a message reporting the player's strength.\n",
        "\n",
        "- Set up a while loop that runs until the player's strength increases to a value such as 10.\n",
        "\n",
        "- Inside the while loop, print a message that reports the player's current strength.\n",
        "\n",
        "- Inside the while loop, write a statement that increases the player's strength.\n",
        "\n",
        "- Outside the while loop, print a message reporting that the player has grown too strong, and that they have moved up to a new level of the game.\n",
        "\n",
        "Play around with different cutoff levels for the value of strength, and play around with different ways to increase the strength value within the while loop.\n"
      ]
    },
    {
      "cell_type": "code",
      "metadata": {
        "id": "dMDgbbORvwAY"
      },
      "source": [
        "strength = 5\n",
        "print(\"The player's strength:\", strength)\n",
        "\n",
        "while strength < 10:\n",
        "    print(\"Current strength:\", strength)\n",
        "    strength += 1\n",
        "\n",
        "print(\"The player has grown too strong, and that they have moved up to a new level of the game\")\n",
        "\n"
      ],
      "execution_count": 35,
      "outputs": [
        {
          "output_type": "stream",
          "name": "stdout",
          "text": [
            "The player's strength: 5\nCurrent strength: 5\nCurrent strength: 6\nCurrent strength: 7\nCurrent strength: 8\nCurrent strength: 9\nThe player has grown too strong, and that they have moved up to a new level of the game\n"
          ]
        }
      ]
    },
    {
      "cell_type": "markdown",
      "metadata": {
        "id": "jZBz-IvjvwAZ"
      },
      "source": [
        "### Exercise 2. "
      ]
    },
    {
      "cell_type": "markdown",
      "metadata": {
        "id": "e5yLFUVhvwAa"
      },
      "source": [
        "To solve the following exercises it will be necessary to define a function for each section. You choose the name of those functions unless specified, but make sure you define a single parameter `whichever_list`, when calling the function it will correspond to the variable `info_list`."
      ]
    },
    {
      "cell_type": "code",
      "metadata": {
        "id": "gBgEzbAhvwAb"
      },
      "source": [
        "# you can use this list or take yours from Practice 3\n",
        "info_list = [15, 'Recoletos', True, ['Recoletos', 15],  None, '8'] "
      ],
      "execution_count": 36,
      "outputs": []
    },
    {
      "cell_type": "markdown",
      "metadata": {
        "id": "uiLu97SwvwAc"
      },
      "source": [
        "You have already read these questions below, but this time you are asked to solve it using `while` loop instead of `for`. \n",
        "\n",
        "   - Loop through `whichever_list` to print all the elements it contains. This function should return the list turned into a tuple. \n",
        "   - Loop through `whichever_list` to print all the elements it contains concatenated with the string` \"--> OK\" `. This function should return a message saying, `\"everything will be ok\"`. \n",
        "   - Loop through `whichever_list` to display all items it contains except the first one. This function should return the first element of the list. \n",
        "   - Loop through `whichever_list` to display all the items it contains except the last one. This function should return the last element of the list. "
      ]
    },
    {
      "cell_type": "code",
      "metadata": {
        "id": "X90zq6fdvwAd"
      },
      "source": [
        "def imprimir(whichever_list):\n",
        "    while whichever_list:\n",
        "        return(whichever_list)\n",
        "imprimir(info_list)"
      ],
      "execution_count": 37,
      "outputs": [
        {
          "output_type": "execute_result",
          "data": {
            "text/plain": [
              "[15, 'Recoletos', True, ['Recoletos', 15], None, '8']"
            ]
          },
          "metadata": {},
          "execution_count": 37
        }
      ]
    },
    {
      "cell_type": "code",
      "metadata": {
        "id": "I48biJp7vwAe",
        "tags": []
      },
      "source": [
        "def okey(whichever_list):\n",
        "    for i in whichever_list:\n",
        "        while whichever_list:\n",
        "            print(str(i) + \"--> OK\" )\n",
        "            break\n",
        "    return \"everything will be ok\"\n",
        "\n",
        "okey(info_list)"
      ],
      "execution_count": 38,
      "outputs": [
        {
          "output_type": "stream",
          "name": "stdout",
          "text": [
            "15--> OK\nRecoletos--> OK\nTrue--> OK\n['Recoletos', 15]--> OK\nNone--> OK\n8--> OK\n"
          ]
        },
        {
          "output_type": "execute_result",
          "data": {
            "text/plain": [
              "'everything will be ok'"
            ]
          },
          "metadata": {},
          "execution_count": 38
        }
      ]
    },
    {
      "cell_type": "code",
      "metadata": {
        "id": "jg0hrOv1vwAe"
      },
      "source": [
        "def display(whichever_list):\n",
        "    \"\"\"\n",
        "    This function should return the first element of the list\n",
        "    \"\"\"\n",
        "    while whichever_list:\n",
        "        for i in whichever_list[1:]:\n",
        "            print(i)\n",
        "        return whichever_list[0]\n",
        "\n",
        "display(info_list)"
      ],
      "execution_count": 39,
      "outputs": [
        {
          "output_type": "stream",
          "name": "stdout",
          "text": [
            "Recoletos\nTrue\n['Recoletos', 15]\nNone\n8\n"
          ]
        },
        {
          "output_type": "execute_result",
          "data": {
            "text/plain": [
              "15"
            ]
          },
          "metadata": {},
          "execution_count": 39
        }
      ]
    },
    {
      "cell_type": "code",
      "metadata": {
        "id": "xPDAEdW9vwAf"
      },
      "source": [
        "def last_one(whichever_list):\n",
        "    while whichever_list:\n",
        "        eliminado = whichever_list.pop()\n",
        "        print(whichever_list)\n",
        "        return eliminado\n",
        "last_one(info_list)"
      ],
      "execution_count": 40,
      "outputs": [
        {
          "output_type": "stream",
          "name": "stdout",
          "text": [
            "[15, 'Recoletos', True, ['Recoletos', 15], None]\n"
          ]
        },
        {
          "output_type": "execute_result",
          "data": {
            "text/plain": [
              "'8'"
            ]
          },
          "metadata": {},
          "execution_count": 40
        }
      ]
    },
    {
      "cell_type": "code",
      "metadata": {
        "id": "4p6rp7VuvwAg"
      },
      "source": [],
      "execution_count": null,
      "outputs": []
    },
    {
      "cell_type": "markdown",
      "metadata": {
        "id": "dJhW8AjhvwAg"
      },
      "source": [
        "### Exercise 3. "
      ]
    },
    {
      "cell_type": "markdown",
      "metadata": {
        "id": "jk3JFSM1vwAh"
      },
      "source": [
        "1. Define a function that performs the [Fibonacci series](https://quantdare.com/numeros-de-fibonacci/#:~:text=En%20matem%C3%A1ticas%2C%20la%20sucesi%C3%B3n%20o,nombre%20de%20n%C3%BAmero%20de%20Fibonacci.) with a `while`."
      ]
    },
    {
      "cell_type": "code",
      "metadata": {
        "id": "IIbc2_KBvwAi"
      },
      "source": [
        "def fibonacci(a,b):\n",
        "    a=1\n",
        "    b=1\n",
        "    print(a)\n",
        "    print(b)\n",
        "    while True:\n",
        "        a += b\n",
        "        b += a\n",
        "        if b>1000:\n",
        "            break\n",
        "        print(a)\n",
        "        print(b)\n",
        "\n",
        "fibonacci(a,b)\n",
        "\n",
        "##Muuy imposible, me he basado en ejemplos resueltos"
      ],
      "execution_count": 41,
      "outputs": [
        {
          "output_type": "stream",
          "name": "stdout",
          "text": [
            "1\n1\n2\n3\n5\n8\n13\n21\n34\n55\n89\n144\n233\n377\n610\n987\n"
          ]
        }
      ]
    },
    {
      "cell_type": "markdown",
      "metadata": {
        "id": "9E-F2w3ZvwAi"
      },
      "source": [
        "### Bonus Track."
      ]
    },
    {
      "cell_type": "markdown",
      "metadata": {
        "id": "h7jp9obcvwAj"
      },
      "source": [
        "To solve the following exercises it will be necessary to define a function for each section. You choose the name of those functions unless specified, but make sure you define a single parameter `whichever_list`, when calling the function it will correspond to the variable `info_list`."
      ]
    },
    {
      "cell_type": "code",
      "metadata": {
        "id": "gGTiN19NvwAj"
      },
      "source": [
        "# you can use this list or take yours from Practice 3\n",
        "info_list = [15, 'Recoletos', True, ['Recoletos', 15],  None, '8'] "
      ],
      "execution_count": 42,
      "outputs": []
    },
    {
      "cell_type": "markdown",
      "metadata": {
        "id": "82LACUvcvwAk"
      },
      "source": [
        "1. Define a function `f_s` that saves the value of a word (for example: \"nothing\") in a variable and print it. Also, concatenate its value with the street number of The Bridge and display it on the screen. \n",
        "\n",
        "   Also, display a boolean **True** if the length of the concatenated word is 6. If not, it will be **False**. The function must return the value **True** or **False**."
      ]
    },
    {
      "cell_type": "code",
      "metadata": {
        "id": "x3YMK9APvwAk"
      },
      "source": [
        "def f_s(word):\n",
        "    x = word\n",
        "    print(x)\n",
        "    y = x + str(info_list[0])\n",
        "    print(y)\n",
        "    if y == 6:\n",
        "        return(True)\n",
        "    else:\n",
        "        return(False)\n",
        "\n",
        "f_s(\"something\")"
      ],
      "execution_count": 43,
      "outputs": [
        {
          "output_type": "stream",
          "name": "stdout",
          "text": [
            "something\nsomething15\n"
          ]
        },
        {
          "output_type": "execute_result",
          "data": {
            "text/plain": [
              "False"
            ]
          },
          "metadata": {},
          "execution_count": 43
        }
      ]
    },
    {
      "cell_type": "markdown",
      "metadata": {
        "id": "LKrdchFXvwAl"
      },
      "source": [
        "2. Create a list `list_aux` with 7 elements, whichever you want. Next, create a function `function_use_f_s` which receives as parameters a function `some_function`, a word which is the argument of `some_funtion` and whichever list `whichever_list`. If the value of `some_function` is **True**, then delete an item from `whichever_list`. Repeat the process until `whichever_list` has no elements. The argument for `whichever_list` must be `list_aux` and for `some_function` it will be the function `f_s` from the previous point."
      ]
    },
    {
      "cell_type": "code",
      "execution_count": 4,
      "metadata": {},
      "outputs": [],
      "source": [
        "import random\n",
        "num_aleatorio = random.randint(0, 10)ç\n",
        "#Extra"
      ]
    },
    {
      "cell_type": "code",
      "execution_count": 5,
      "metadata": {},
      "outputs": [
        {
          "output_type": "stream",
          "name": "stdout",
          "text": [
            "2\n"
          ]
        }
      ],
      "source": [
        "##EXPLICACION\n",
        "\n",
        "def f1():\n",
        "    print(2)\n",
        "\n",
        "def f2_recibe_f1(una_funcion):\n",
        "    #llamar a f1 desde f2 recibe a f1\n",
        "    una_funcion()\n",
        "\n",
        "f2_recibe_f1(una_funcion=f1)"
      ]
    },
    {
      "cell_type": "code",
      "metadata": {
        "id": "DyXRMdqfvwAm"
      },
      "source": [
        "list_aux =[\"Hatters\", \"gonna\", \"hats\",\"and\",\"Haters\", \"gonna\", \"hate\"]\n",
        "def function_use_f_s(some_funtion(a_word), whichever_list):\n",
        "    while some_funtion(True):\n",
        "        whichever_list.pop()\n",
        "\n",
        "function_use_f_s(f_s(\"Something\"), list_aux)\n",
        "\n",
        "\n"
      ],
      "execution_count": 44,
      "outputs": [
        {
          "output_type": "error",
          "ename": "SyntaxError",
          "evalue": "invalid syntax (<ipython-input-44-e0f6c96b44af>, line 2)",
          "traceback": [
            "\u001b[1;36m  File \u001b[1;32m\"<ipython-input-44-e0f6c96b44af>\"\u001b[1;36m, line \u001b[1;32m2\u001b[0m\n\u001b[1;33m    def function_use_f_s(some_funtion(a_word), whichever_list):\u001b[0m\n\u001b[1;37m                                     ^\u001b[0m\n\u001b[1;31mSyntaxError\u001b[0m\u001b[1;31m:\u001b[0m invalid syntax\n"
          ]
        }
      ]
    },
    {
      "cell_type": "code",
      "execution_count": null,
      "metadata": {},
      "outputs": [],
      "source": [
        "##corrección \n",
        "list_aux =[\"Hatters\", \"gonna\", \"hats\",\"and\",\"Haters\", \"gonna\", \"hate\"]\n",
        "def function_use_f_s(some_funtion, whichever_list):\n",
        "    #Es en la llamada a la funcion cuando tienes que llamar los parámetros\n",
        "    "
      ]
    },
    {
      "cell_type": "code",
      "execution_count": null,
      "metadata": {},
      "outputs": [],
      "source": [
        "#ejemplo simple correccion\n",
        "def func(arg1): \n",
        "    pirnt(arg1)\n",
        "def h1(lista, function):\n",
        "    lista.pop()\n",
        "    function(arg1 = lista)\n",
        "\n",
        "lista =  [\"x\",\"y\"]\n",
        "h1(lista=lista, function=func)\n",
        "\n",
        "\"\"\"\n",
        "1. Primero definimos la variable lista\n",
        "2. Llamamos a la funcion h1 y le pasamos:\n",
        "    - como parámetro \"lista\" le pasamos el valor de la variable \n",
        "    - como parámetro function le pasamos la referencia a la función \"func\".\n",
        "3. Dentro de la "
      ]
    },
    {
      "cell_type": "markdown",
      "metadata": {
        "id": "5hVtEbGAvwAm"
      },
      "source": [
        "3. Define a function `even_numbers` that has an input parameter `arg1`, type integer. The function must return a list of numbers of size `arg1`, all of them being even numbers. \n",
        "\n",
        "   Don't use the function `print()` inside the function, but print what `even_numbers` returns when calling it with the argument `10`, just to check your function works.\n",
        "   \n",
        "```python\n",
        "print(even_numbers(10))\n",
        "```"
      ]
    },
    {
      "cell_type": "code",
      "metadata": {
        "id": "_KU9Ywr0vwAn"
      },
      "source": [
        "def even_numbers(int(input(arg1)):\n",
        "    list_numbers = []\n",
        "    while arg1:\n",
        "        for i in list_numbers:\n",
        "            if i //2 == 0\n",
        "            return i\n",
        "print(even_numbers(10))\n"
      ],
      "execution_count": null,
      "outputs": []
    },
    {
      "cell_type": "markdown",
      "metadata": {
        "id": "u7eE4KbPvwAn"
      },
      "source": [
        "4. Create a function that has an input variable `arg1`, which will be the list of even numbers from the previous section, and that removes elements from the list, one by one, if `arg1` has a size divisible by 2 and, if not, it adds just once, the value of the function `f_s` that should be a boolean (`True` or `False`).\n"
      ]
    },
    {
      "cell_type": "code",
      "metadata": {
        "id": "KGur4_XDvwAo"
      },
      "source": [
        "#Bonus track feels like i know nothing"
      ],
      "execution_count": null,
      "outputs": []
    },
    {
      "cell_type": "markdown",
      "metadata": {
        "id": "hTGaruoHvwAq"
      },
      "source": [
        "!['nicetry'](https://i.pinimg.com/originals/36/ab/81/36ab81cd8d63cf7c4a08f39403698c77.jpg)"
      ]
    },
    {
      "cell_type": "code",
      "execution_count": 6,
      "metadata": {},
      "outputs": [
        {
          "output_type": "stream",
          "name": "stdout",
          "text": [
            "HOLA\n"
          ]
        }
      ],
      "source": [
        "def up(text):\n",
        "    return text.upper()\n",
        "\n",
        "def f_recibe_funcion(func):\n",
        "    print(func(\"Hola\"))\n",
        "\n",
        "f_recibe_funcion(func=up)"
      ]
    },
    {
      "cell_type": "code",
      "execution_count": 7,
      "metadata": {},
      "outputs": [
        {
          "output_type": "error",
          "ename": "TypeError",
          "evalue": "dos() takes 0 positional arguments but 1 was given",
          "traceback": [
            "\u001b[1;31m---------------------------------------------------------------------------\u001b[0m",
            "\u001b[1;31mTypeError\u001b[0m                                 Traceback (most recent call last)",
            "\u001b[1;32m<ipython-input-7-780b958864b9>\u001b[0m in \u001b[0;36m<module>\u001b[1;34m\u001b[0m\n\u001b[0;32m      7\u001b[0m     \u001b[0mprint\u001b[0m\u001b[1;33m(\u001b[0m\u001b[0mfunc\u001b[0m\u001b[1;33m(\u001b[0m\u001b[1;34m\"Hola\"\u001b[0m\u001b[1;33m)\u001b[0m\u001b[1;33m)\u001b[0m\u001b[1;33m\u001b[0m\u001b[1;33m\u001b[0m\u001b[0m\n\u001b[0;32m      8\u001b[0m \u001b[1;33m\u001b[0m\u001b[0m\n\u001b[1;32m----> 9\u001b[1;33m \u001b[0mf_recibe_funcion\u001b[0m\u001b[1;33m(\u001b[0m\u001b[0mfunc\u001b[0m\u001b[1;33m=\u001b[0m\u001b[0mdos\u001b[0m\u001b[1;33m)\u001b[0m\u001b[1;33m\u001b[0m\u001b[1;33m\u001b[0m\u001b[0m\n\u001b[0m",
            "\u001b[1;32m<ipython-input-7-780b958864b9>\u001b[0m in \u001b[0;36mf_recibe_funcion\u001b[1;34m(func)\u001b[0m\n\u001b[0;32m      5\u001b[0m \u001b[1;33m\u001b[0m\u001b[0m\n\u001b[0;32m      6\u001b[0m \u001b[1;32mdef\u001b[0m \u001b[0mf_recibe_funcion\u001b[0m\u001b[1;33m(\u001b[0m\u001b[0mfunc\u001b[0m\u001b[1;33m)\u001b[0m\u001b[1;33m:\u001b[0m\u001b[1;33m\u001b[0m\u001b[1;33m\u001b[0m\u001b[0m\n\u001b[1;32m----> 7\u001b[1;33m     \u001b[0mprint\u001b[0m\u001b[1;33m(\u001b[0m\u001b[0mfunc\u001b[0m\u001b[1;33m(\u001b[0m\u001b[1;34m\"Hola\"\u001b[0m\u001b[1;33m)\u001b[0m\u001b[1;33m)\u001b[0m\u001b[1;33m\u001b[0m\u001b[1;33m\u001b[0m\u001b[0m\n\u001b[0m\u001b[0;32m      8\u001b[0m \u001b[1;33m\u001b[0m\u001b[0m\n\u001b[0;32m      9\u001b[0m \u001b[0mf_recibe_funcion\u001b[0m\u001b[1;33m(\u001b[0m\u001b[0mfunc\u001b[0m\u001b[1;33m=\u001b[0m\u001b[0mdos\u001b[0m\u001b[1;33m)\u001b[0m\u001b[1;33m\u001b[0m\u001b[1;33m\u001b[0m\u001b[0m\n",
            "\u001b[1;31mTypeError\u001b[0m: dos() takes 0 positional arguments but 1 was given"
          ]
        }
      ],
      "source": [
        "def up(text):\n",
        "    return text.upper()\n",
        "def dos():\n",
        "    return \"2\"\n",
        "\n",
        "def f_recibe_funcion(func):\n",
        "    print(func(\"Hola\"))\n",
        "\n",
        "f_recibe_funcion(func=dos)\n",
        "##Da error porque dos no puede tener argumentos en  el interior"
      ]
    },
    {
      "cell_type": "code",
      "execution_count": null,
      "metadata": {},
      "outputs": [],
      "source": []
    }
  ]
}