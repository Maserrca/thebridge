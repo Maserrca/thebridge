{
  "nbformat": 4,
  "nbformat_minor": 0,
  "metadata": {
    "kernelspec": {
      "name": "python374jvsc74a57bd0797ece2db6cd49410b212500b07c3b6429b528fb918ab6c0d0ffbc4c51c5b09e",
      "display_name": "Python 3.7.4 64-bit"
    },
    "language_info": {
      "codemirror_mode": {
        "name": "ipython",
        "version": 3
      },
      "file_extension": ".py",
      "mimetype": "text/x-python",
      "name": "python",
      "nbconvert_exporter": "python",
      "pygments_lexer": "ipython3",
      "version": "3.7.4"
    },
    "colab": {
      "name": "Repaso_rampup.ipynb",
      "provenance": []
    },
    "metadata": {
      "interpreter": {
        "hash": "797ece2db6cd49410b212500b07c3b6429b528fb918ab6c0d0ffbc4c51c5b09e"
      }
    }
  },
  "cells": [
    {
      "cell_type": "markdown",
      "metadata": {
        "id": "of2YlV8vI_FF"
      },
      "source": [
        "## 🐍 Ramp-up\n",
        "\n",
        "Note: The bold words are instructions for you to know how to solve the exercises below that word. For example, if it says **for loop** you should use at least a for loop in order to solve the exercise. "
      ]
    },
    {
      "cell_type": "markdown",
      "metadata": {
        "id": "SFYcTnlsI_Fa"
      },
      "source": [
        "#### Collections\n",
        "1. Create a tuple as follows (10,2,27,8)\n",
        "2. Get the lenght of the tuple\n",
        "3. Which type is it? And which type are the elements the tuple contains?\n",
        "4. Create a new tuple with any other 4 strings and concatenate all of them with the tuple you created before by position, creating a list called `words`.\n",
        "5. Make a list with the same elements in question 1. Find the element 27 and make it 37.\n",
        "6. Remove the number 8 from the list.\n",
        "7. Turn the list you made before into a set.\n",
        "8. Check if the element \"3\" is in that set.\n",
        "9. Sort the list you made in exercise 4 in descending order.\n",
        "10. Turn the list `words` into a dictionary. Split every string taking the number in the tuple (10,2,27,8) as the values and the rest as the keys.\n",
        "11. Sum up the values of the new dictionary.\n",
        "12. Sort the values of the dictionary in descending order and the keys in ascending order, then make a list of tuples with every couple of keys and values by position."
      ]
    },
    {
      "cell_type": "code",
      "metadata": {
        "id": "72LzAsTYI_Fd"
      },
      "source": [
        "x = 10, 2, 27, 8\n",
        "x"
      ],
      "execution_count": 85,
      "outputs": [
        {
          "output_type": "execute_result",
          "data": {
            "text/plain": [
              "(10, 2, 27, 8)"
            ]
          },
          "metadata": {},
          "execution_count": 85
        }
      ]
    },
    {
      "cell_type": "code",
      "execution_count": 86,
      "metadata": {},
      "outputs": [
        {
          "output_type": "stream",
          "name": "stdout",
          "text": [
            "4\n"
          ]
        }
      ],
      "source": [
        "print(len(x))\n"
      ]
    },
    {
      "cell_type": "code",
      "execution_count": 87,
      "metadata": {},
      "outputs": [
        {
          "output_type": "stream",
          "name": "stdout",
          "text": [
            "<class 'tuple'>\n<class 'int'>\n<class 'int'>\n<class 'int'>\n<class 'int'>\n"
          ]
        }
      ],
      "source": [
        "print(type(x))\n",
        "print(type(x[0]))\n",
        "print(type(x[1]))\n",
        "print(type(x[2]))\n",
        "print(type(x[3]))\n"
      ]
    },
    {
      "cell_type": "code",
      "execution_count": 88,
      "metadata": {},
      "outputs": [
        {
          "output_type": "stream",
          "name": "stdout",
          "text": [
            "['10cuadrado', '2circulo', '27rombo', '8triamgulo']\n"
          ]
        }
      ],
      "source": [
        "x = 10, 2, 27, 8\n",
        "new_tuple = \"cuadrado\", \"circulo\", \"rombo\", \"triamgulo\"\n",
        "words = []\n",
        "for i, elem in enumerate(x):\n",
        "    words.append(str(elem) + new_tuple[i])\n",
        "\n",
        "print(words)"
      ]
    },
    {
      "cell_type": "code",
      "execution_count": 89,
      "metadata": {},
      "outputs": [
        {
          "output_type": "stream",
          "name": "stdout",
          "text": [
            "[10, 2, 37, 8]\n"
          ]
        }
      ],
      "source": [
        "#Make a list with the same elements in question 1. Find the element 27 and make it 37.\n",
        "lista = [10, 2, 27, 8]\n",
        "lista[2] = 37\n",
        "print(lista)"
      ]
    },
    {
      "cell_type": "code",
      "execution_count": 90,
      "metadata": {},
      "outputs": [
        {
          "output_type": "stream",
          "name": "stdout",
          "text": [
            "[10, 2, 27]\n"
          ]
        }
      ],
      "source": [
        "#Remove the number 8 from the list.\n",
        "lista =[10, 2, 27, 8]\n",
        "lista.pop()\n",
        "print(lista)"
      ]
    },
    {
      "cell_type": "code",
      "execution_count": 91,
      "metadata": {},
      "outputs": [
        {
          "output_type": "stream",
          "name": "stdout",
          "text": [
            "{27, 10, 2}\n"
          ]
        }
      ],
      "source": [
        "#Turn the list you made before into a set.\n",
        "set_lista = set(lista)\n",
        "print(set_lista)"
      ]
    },
    {
      "cell_type": "code",
      "execution_count": 92,
      "metadata": {},
      "outputs": [
        {
          "output_type": "stream",
          "name": "stdout",
          "text": [
            "Nop\nNop\nNop\n"
          ]
        }
      ],
      "source": [
        "#Check if the element \"3\" is in that set.\n",
        "for i in set_lista:\n",
        "    if i == \"3\":\n",
        "        print(True)\n",
        "    else:\n",
        "        print(\"Nop\")"
      ]
    },
    {
      "cell_type": "code",
      "execution_count": 93,
      "metadata": {},
      "outputs": [
        {
          "output_type": "stream",
          "name": "stdout",
          "text": [
            "['10cuadrado', '2circulo', '27rombo', '8triamgulo']\n"
          ]
        }
      ],
      "source": [
        "#Sort the list you made in exercise 4 in descending order.\n",
        "\n",
        "words.reverse\n",
        "print(words)"
      ]
    },
    {
      "cell_type": "code",
      "execution_count": 94,
      "metadata": {},
      "outputs": [
        {
          "output_type": "stream",
          "name": "stdout",
          "text": [
            "{'cuadrado': 10, 'circulo': 2, 'rombo': 27, 'triangulo': 8}\n"
          ]
        }
      ],
      "source": [
        "#Turn the list words into a dictionary. Split every string taking the number in the tuple (10,2,27,8) as the values and the rest as the keys.\n",
        "numeros = [10, 2, 27, 8]\n",
        "palabras = [\"cuadrado\", \"circulo\", \"rombo\", \"triangulo\"]\n",
        "dicc ={}\n",
        "for i in range(len(palabras)):\n",
        "    dicc[palabras[i]] = numeros[i]\n",
        "print(dicc)"
      ]
    },
    {
      "cell_type": "code",
      "execution_count": 95,
      "metadata": {},
      "outputs": [
        {
          "output_type": "stream",
          "name": "stdout",
          "text": [
            "['10', '2', '27', '8']\n['cuadrado', 'circulo', 'rombo', 'triangulo']\n"
          ]
        }
      ],
      "source": [
        "words = ['10cuadrado', '2circulo', '27rombo', '8triangulo']\n",
        "lista_num = []\n",
        "lista_letra = []\n",
        "for i, elem in enumerate(words): #10cuadrado\n",
        "    numero = \"\"\n",
        "    palabra = \"\"\n",
        "    for letra in elem: #1\n",
        "        if letra.isdigit():\n",
        "            numero += letra\n",
        "        else:\n",
        "            palabra += letra\n",
        "    lista_num.append(numero)\n",
        "    lista_letra.append(palabra)\n",
        "   \n",
        "print(lista_num)\n",
        "print(lista_letra)"
      ]
    },
    {
      "cell_type": "code",
      "execution_count": 96,
      "metadata": {},
      "outputs": [
        {
          "output_type": "execute_result",
          "data": {
            "text/plain": [
              "{'10': 'cuadrado', '2': 'circulo', '27': 'rombo', '8': 'triangulo'}"
            ]
          },
          "metadata": {},
          "execution_count": 96
        }
      ],
      "source": [
        "zip(lista_num, lista_letra)\n",
        "dict(zip(lista_num, lista_letra))"
      ]
    },
    {
      "cell_type": "code",
      "execution_count": 97,
      "metadata": {},
      "outputs": [
        {
          "output_type": "stream",
          "name": "stdout",
          "text": [
            "47\n"
          ]
        }
      ],
      "source": [
        "#Sum up the values of the new dictionary.\n",
        "dicc = {'cuadrado': 10, 'circulo': 2, 'rombo': 27, 'triangulo': 8}\n",
        "primero = dicc[\"cuadrado\"]\n",
        "segundo = dicc[\"circulo\"]\n",
        "tercero = dicc[\"rombo\"]\n",
        "cuarto = dicc[\"triangulo\"]\n",
        "suma = primero + segundo + tercero + cuarto \n",
        "print(suma)"
      ]
    },
    {
      "cell_type": "code",
      "execution_count": 98,
      "metadata": {},
      "outputs": [
        {
          "output_type": "execute_result",
          "data": {
            "text/plain": [
              "47"
            ]
          },
          "metadata": {},
          "execution_count": 98
        }
      ],
      "source": [
        "#Usando la funcion\n",
        "sum(dicc.values())"
      ]
    },
    {
      "cell_type": "code",
      "execution_count": 99,
      "metadata": {},
      "outputs": [
        {
          "output_type": "stream",
          "name": "stdout",
          "text": [
            "{27, 8, 10, 2}\n{'circulo', 'cuadrado', 'triangulo', 'rombo'}\n"
          ]
        }
      ],
      "source": [
        "#Sort the values of the dictionary in descending order and the keys in ascending order, then make a list of tuples with every couple of keys and values by position.\n",
        "values_order = set((dicc.values()))\n",
        "print(values_order)\n",
        "\n",
        "keys_order =set(dicc.keys())\n",
        "print(keys_order) "
      ]
    },
    {
      "cell_type": "code",
      "execution_count": 100,
      "metadata": {},
      "outputs": [
        {
          "output_type": "execute_result",
          "data": {
            "text/plain": [
              "[('circulo', 2), ('cuadrado', 10), ('rombo', 27), ('triangulo', 8)]"
            ]
          },
          "metadata": {},
          "execution_count": 100
        }
      ],
      "source": [
        "dicc = {'cuadrado': 10, 'circulo': 2, 'rombo': 27, 'triangulo': 8}\n",
        "sorted_items = sorted(dicc.items())\n",
        "sorted_items"
      ]
    },
    {
      "cell_type": "markdown",
      "metadata": {
        "id": "5Fj-CH30I_Fe"
      },
      "source": [
        "#### Dictionaries\n",
        "\n",
        "1. Make a dictionary containing three major rivers and the country each river runs through. One key-value pair might be 'nile': 'egypt'.\n",
        "\n",
        "    - Use a loop to print a sentence about each river, such as The Nile runs through Egypt.\n",
        "    - Use a loop to print the name of each river included in the dictionary.\n",
        "    - Use a loop to print the name of each country included in the dictionary."
      ]
    },
    {
      "cell_type": "code",
      "metadata": {
        "id": "vEiyzvMBI_Fg"
      },
      "source": [
        "rivers = {\"Nilo\":\"Egipto\", \"Amazonas\": \"Brasil\", \"Yangtze\":\"China\"}\n",
        "for key, value in rivers.items():\n",
        "    print(\"The {} runs through {}\".format(key,value))"
      ],
      "execution_count": 101,
      "outputs": [
        {
          "output_type": "stream",
          "name": "stdout",
          "text": [
            "The Nilo runs through Egipto\nThe Amazonas runs through Brasil\nThe Yangtze runs through China\n"
          ]
        }
      ]
    },
    {
      "cell_type": "code",
      "execution_count": 102,
      "metadata": {},
      "outputs": [
        {
          "output_type": "stream",
          "name": "stdout",
          "text": [
            "Nilo\nAmazonas\nYangtze\n"
          ]
        }
      ],
      "source": [
        "for key in rivers.keys():\n",
        "    print(key)"
      ]
    },
    {
      "cell_type": "code",
      "execution_count": 103,
      "metadata": {},
      "outputs": [
        {
          "output_type": "stream",
          "name": "stdout",
          "text": [
            "Egipto\nBrasil\nChina\n"
          ]
        }
      ],
      "source": [
        "for value in rivers.values():\n",
        "    print(value)"
      ]
    },
    {
      "cell_type": "markdown",
      "metadata": {
        "id": "TIxA-hWoI_Fh"
      },
      "source": [
        "2. Use the provided dictionary that shows some coders and their favoites languages.\n",
        "```Python\n",
        "favorite_languages = {\n",
        "    'jen': 'python',\n",
        "    'sarah': 'c',\n",
        "    'edward': 'ruby',\n",
        "    'phil': 'python',\n",
        "    }\n",
        "```\n",
        "\n",
        "    - Make a list of people who should take the favorite languages poll. Include some names that are already in the dictionary and some that are not.\n",
        "    - Loop through the list of people who should take the poll. If they have already taken the poll, print a message thanking them for responding. If they have not yet taken the poll, print a message inviting them to take the poll."
      ]
    },
    {
      "cell_type": "code",
      "metadata": {
        "id": "TAuMw8UWI_Fi"
      },
      "source": [
        "favorite_languages = {'jen': 'python','sarah': 'c','edward': 'ruby','phil': 'python',}\n",
        "people = [\"jen\", \"sarah\", \"phil\", \"marina\", \"ester\", \"pablo\"]\n",
        "for i, elem in enumerate(people):\n",
        "    if elem in favorite_languages:\n",
        "        print(\"Thank you for complete the survey, {}\".format(elem))\n",
        "    else:\n",
        "        print(\"Please complete the survey, {}\".format(elem))\n"
      ],
      "execution_count": 104,
      "outputs": [
        {
          "output_type": "stream",
          "name": "stdout",
          "text": [
            "Thank you for complete the survey, jen\nThank you for complete the survey, sarah\nThank you for complete the survey, phil\nPlease complete the survey, marina\nPlease complete the survey, ester\nPlease complete the survey, pablo\n"
          ]
        }
      ]
    },
    {
      "cell_type": "markdown",
      "metadata": {
        "id": "U2IJGj0kI_Fi"
      },
      "source": [
        "3. Make a dictionary called cities. Use the names of three cities as keys in your dictionary. Create a dictionary of information about each city and include the country that the city is in, its approximate population, and one fact about that city. The keys for each city’s dictionary should be something like country, population, and fact. Print the name of each city and all of the information you have stored about it.\n",
        "\n",
        "```python\n",
        "cities = {\"city1\":{\"country\": \"bla\"}}\n",
        "```\n",
        "\n",
        "\n"
      ]
    },
    {
      "cell_type": "code",
      "metadata": {
        "id": "eYayUHg9I_Fk"
      },
      "source": [
        "cities = {\"Madrid\":{\"country\":\"España\", \"population\": \"5000000\" , \"fact\": \"pubs everywhere\"}, \"Barcelona\":{\"country\":\"España\", \"population\": \"4000000\" , \"fact\": \"artistic\"}, \"Berlín\":{\"country\":\"España\", \"population\": \"7000000\" , \"fact\": \"historic\"}}\n",
        "\n",
        "for keys, values in cities.items():\n",
        "    print(keys)\n",
        "    print(values)"
      ],
      "execution_count": 105,
      "outputs": [
        {
          "output_type": "stream",
          "name": "stdout",
          "text": [
            "Madrid\n{'country': 'España', 'population': '5000000', 'fact': 'pubs everywhere'}\nBarcelona\n{'country': 'España', 'population': '4000000', 'fact': 'artistic'}\nBerlín\n{'country': 'España', 'population': '7000000', 'fact': 'historic'}\n"
          ]
        }
      ]
    },
    {
      "cell_type": "markdown",
      "metadata": {
        "id": "zYwzJ7yjI_Fk"
      },
      "source": [
        "**for loop**\n",
        "1. This is a fruit list, ['banana', 'orange', 'mango', 'lemon'] reverse the order using a for loop.\n"
      ]
    },
    {
      "cell_type": "code",
      "metadata": {
        "id": "1MqY_d7yI_Fl"
      },
      "source": [
        "fruits = ['banana', 'orange', 'mango', 'lemon']\n",
        "pos_reverse = 0\n",
        "for i, elem in enumerate(fruits):\n",
        "  pos_reverse = pos_reverse - 1\n",
        "  print(fruits[pos_reverse])"
      ],
      "execution_count": 38,
      "outputs": [
        {
          "output_type": "stream",
          "name": "stdout",
          "text": [
            "lemon\nmango\norange\nbanana\n"
          ]
        }
      ]
    },
    {
      "cell_type": "code",
      "execution_count": 41,
      "metadata": {},
      "outputs": [
        {
          "output_type": "execute_result",
          "data": {
            "text/plain": [
              "[-4, -3, -2, -1]"
            ]
          },
          "metadata": {},
          "execution_count": 41
        }
      ],
      "source": [
        "list(range(-4,0))"
      ]
    },
    {
      "cell_type": "code",
      "execution_count": 43,
      "metadata": {},
      "outputs": [
        {
          "output_type": "stream",
          "name": "stdout",
          "text": [
            "-4\n-3\n-2\n-1\n"
          ]
        }
      ],
      "source": [
        "for i in [-4, -3, -2, -1]:\n",
        "    print(i)"
      ]
    },
    {
      "cell_type": "markdown",
      "metadata": {
        "id": "WfTOD2NDI_Fm"
      },
      "source": [
        "2. Write a Python program to create the multiplication table (from 1 to 10) of a number.\n",
        "```python\n",
        "Input a number: 5                                                                                             \n",
        "5 x 1 = 5                                                                                                     \n",
        "5 x 2 = 10                                                                                                    \n",
        "5 x 3 = 15                                                                                                    \n",
        "5 x 4 = 20                                                                                                    \n",
        "5 x 5 = 25                                                                                                    \n",
        "5 x 6 = 30                                                                                                    \n",
        "5 x 7 = 35                                                                                                    \n",
        "5 x 8 = 40                                                                                                    \n",
        "5 x 9 = 45                                                                                                    \n",
        "5 x 10 = 50\n",
        "```"
      ]
    },
    {
      "cell_type": "code",
      "metadata": {
        "id": "8PGPowGxI_Fn"
      },
      "source": [
        "x = input(\"La tabla del:\")\n",
        "x = int(x)\n",
        "print(\"Tabla de multiplicar del {}\".format(x))\n",
        "\n",
        "for i in range(1, 11):\n",
        "    print(\"{} x {} = {}\".format(x, i, x * i))"
      ],
      "execution_count": 107,
      "outputs": [
        {
          "output_type": "stream",
          "name": "stdout",
          "text": [
            "Tabla de multiplicar del 5\n5 x 1 = 5\n5 x 2 = 10\n5 x 3 = 15\n5 x 4 = 20\n5 x 5 = 25\n5 x 6 = 30\n5 x 7 = 35\n5 x 8 = 40\n5 x 9 = 45\n5 x 10 = 50\n"
          ]
        }
      ]
    },
    {
      "cell_type": "markdown",
      "metadata": {
        "id": "DZd09l4UI_Fn"
      },
      "source": [
        "3. Write a Python program which iterates the integers from 1 to 50. For multiples of three print \"Fizz\" instead of the number and for the multiples of five print \"Buzz\". For numbers which are multiples of both three and five print \"FizzBuzz\".\n",
        "```python\n",
        "Sample Output :\n",
        "fizzbuzz\n",
        "1\n",
        "2\n",
        "fizz\n",
        "4\n",
        "buzz\n",
        "```"
      ]
    },
    {
      "cell_type": "code",
      "metadata": {
        "id": "ZD7YyJuJI_Fo"
      },
      "source": [
        "for i in range(1,51):\n",
        "    if i % 3 == 0 and i % 5 == 0:\n",
        "        print(\"Fizzbuzz\")\n",
        "    elif i % 3 == False:\n",
        "        print(\"Fizz\")\n",
        "    elif i % 5 == False:\n",
        "        print(\"Buzz\")\n",
        "    else:\n",
        "        print(i)\n",
        "    "
      ],
      "execution_count": 108,
      "outputs": [
        {
          "output_type": "stream",
          "name": "stdout",
          "text": [
            "1\n2\nFizz\n4\nBuzz\nFizz\n7\n8\nFizz\nBuzz\n11\nFizz\n13\n14\nFizzbuzz\n16\n17\nFizz\n19\nBuzz\nFizz\n22\n23\nFizz\nBuzz\n26\nFizz\n28\n29\nFizzbuzz\n31\n32\nFizz\n34\nBuzz\nFizz\n37\n38\nFizz\nBuzz\n41\nFizz\n43\n44\nFizzbuzz\n46\n47\nFizz\n49\nBuzz\n"
          ]
        }
      ]
    },
    {
      "cell_type": "markdown",
      "metadata": {
        "id": "WmvtdX1MI_Fp"
      },
      "source": [
        "**functions**\n",
        "\n",
        "1. Write a Python function to check whether a string is a pangram or not. \n",
        "\n",
        "Note : Pangrams are words or sentences containing every letter of the alphabet at least once.\n",
        "    \n",
        "For example : `\"The quick brown fox jumps over the lazy dog\"`"
      ]
    },
    {
      "cell_type": "code",
      "execution_count": 109,
      "metadata": {},
      "outputs": [
        {
          "output_type": "execute_result",
          "data": {
            "text/plain": [
              "True"
            ]
          },
          "metadata": {},
          "execution_count": 109
        }
      ],
      "source": [
        "def pangram(word):\n",
        "    abc = \"abcdefghijklmnopqrstuvwxyz\"\n",
        "    for i in abc:\n",
        "        if i not in word.lower():\n",
        "            return False\n",
        "    return True\n",
        "        \n",
        "\n",
        "pangram(\"The quick brown fox jumps over the lazy dog\")"
      ]
    },
    {
      "cell_type": "markdown",
      "metadata": {
        "id": "K9IvpFYfI_Fr"
      },
      "source": [
        "2. Write a Python program to count the number of even and odd numbers from a series of numbers. \n",
        "\n",
        "```python\n",
        "Sample numbers: numbers = (1, 2, 3, 4, 5, 6, 7, 8, 9) \n",
        "    \n",
        "Expected Output:\n",
        "Number of even numbers: 5\n",
        "Number of odd numbers: 4\n",
        "```"
      ]
    },
    {
      "cell_type": "code",
      "metadata": {
        "id": "rNtFKFDGI_Fr"
      },
      "source": [
        "even = []\n",
        "odd = []\n",
        "\n",
        "numbers = (1, 2, 3, 4, 5, 6, 7, 8, 9)\n",
        "for i in numbers: \n",
        "    if i % 2 == 0:\n",
        "        odd.append(i)\n",
        "    else:\n",
        "        even.append(i)\n",
        "\n",
        "print(\"Number of even numbers:\", len(even))\n",
        "print(\"Number of odd numbers:\", len(odd))\n",
        "\n"
      ],
      "execution_count": 110,
      "outputs": [
        {
          "output_type": "stream",
          "name": "stdout",
          "text": [
            "Number of even numbers: 5\nNumber of odd numbers: 4\n"
          ]
        }
      ]
    },
    {
      "cell_type": "markdown",
      "metadata": {
        "id": "pMn-EF7sI_Fs"
      },
      "source": [
        "#### functions & while loop\n",
        "1. Write a program which keeps asking for numbers till the user writes 9999. In that case, the program returns the concatenation of every number as a string.\n"
      ]
    },
    {
      "cell_type": "code",
      "metadata": {
        "id": "ZumsOVJEI_Fs"
      },
      "source": [
        "x = int(input(\"Número aleatorio\"))\n",
        "y = \"\"\n",
        "while x < 9999:\n",
        "    z = str(y) + str(x)\n",
        "    x = int(input(\"Otro número aleatorio\"))\n",
        "    if int(x) == 9999:\n",
        "        print(z)\n",
        "        \n",
        "\n",
        "."
      ],
      "execution_count": 25,
      "outputs": [
        {
          "output_type": "error",
          "ename": "ValueError",
          "evalue": "invalid literal for int() with base 10: ''",
          "traceback": [
            "\u001b[1;31m---------------------------------------------------------------------------\u001b[0m",
            "\u001b[1;31mValueError\u001b[0m                                Traceback (most recent call last)",
            "\u001b[1;32m<ipython-input-25-74bee26e66bd>\u001b[0m in \u001b[0;36m<module>\u001b[1;34m\u001b[0m\n\u001b[0;32m      1\u001b[0m \u001b[1;32mwhile\u001b[0m \u001b[1;32mTrue\u001b[0m\u001b[1;33m:\u001b[0m\u001b[1;33m\u001b[0m\u001b[1;33m\u001b[0m\u001b[0m\n\u001b[1;32m----> 2\u001b[1;33m     \u001b[0mx\u001b[0m \u001b[1;33m=\u001b[0m \u001b[0mint\u001b[0m\u001b[1;33m(\u001b[0m\u001b[0minput\u001b[0m\u001b[1;33m(\u001b[0m\u001b[1;34m\"Número aleatorio\"\u001b[0m\u001b[1;33m)\u001b[0m\u001b[1;33m)\u001b[0m\u001b[1;33m\u001b[0m\u001b[1;33m\u001b[0m\u001b[0m\n\u001b[0m\u001b[0;32m      3\u001b[0m     \u001b[0my\u001b[0m \u001b[1;33m=\u001b[0m \u001b[1;34m\"\"\u001b[0m\u001b[1;33m\u001b[0m\u001b[1;33m\u001b[0m\u001b[0m\n\u001b[0;32m      4\u001b[0m     \u001b[1;32mwhile\u001b[0m \u001b[0mx\u001b[0m \u001b[1;33m<\u001b[0m \u001b[1;36m9999\u001b[0m\u001b[1;33m:\u001b[0m\u001b[1;33m\u001b[0m\u001b[1;33m\u001b[0m\u001b[0m\n\u001b[0;32m      5\u001b[0m         \u001b[0mz\u001b[0m \u001b[1;33m=\u001b[0m \u001b[0mstr\u001b[0m\u001b[1;33m(\u001b[0m\u001b[0my\u001b[0m\u001b[1;33m)\u001b[0m \u001b[1;33m+\u001b[0m \u001b[0mstr\u001b[0m\u001b[1;33m(\u001b[0m\u001b[0mx\u001b[0m\u001b[1;33m)\u001b[0m\u001b[1;33m\u001b[0m\u001b[1;33m\u001b[0m\u001b[0m\n",
            "\u001b[1;31mValueError\u001b[0m: invalid literal for int() with base 10: ''"
          ]
        }
      ]
    },
    {
      "cell_type": "code",
      "execution_count": 35,
      "metadata": {
        "tags": []
      },
      "outputs": [
        {
          "output_type": "stream",
          "name": "stdout",
          "text": [
            "69\n"
          ]
        }
      ],
      "source": [
        "goal = \"9999\"\n",
        "y = \"\"\n",
        "x = input(\"Número aleatorio\")\n",
        "while True:\n",
        "    if x == \"9999\":\n",
        "        print(y)\n",
        "        break\n",
        "    elif x != \"9999\":\n",
        "        y = y + x\n",
        "        x = input(\"Otro número aleatorio\")"
      ]
    },
    {
      "cell_type": "markdown",
      "metadata": {
        "id": "kKoaVrjkI_Ft"
      },
      "source": [
        "2. Writes a function that asks a user for a pin code till they get it right... If they give a wrong answer three times the function returns \"Your bank account has been blocked\", otherwise, returns: \"You got it right! You get full access to your money\".\n"
      ]
    },
    {
      "cell_type": "code",
      "metadata": {
        "id": "2YVmwLINI_Ft"
      },
      "source": [
        "def pin():\n",
        "    pin_code = \"5789\"\n",
        "    answer = 0\n",
        "    while answer <= 3:\n",
        "        x = input(\"Escribe tu código pin\")\n",
        "        if x != \"5789\":\n",
        "            answer += 1\n",
        "        if x == pin_code:\n",
        "            return \"You got it right! You get full access to your money\"\n",
        "        if answer == 3:\n",
        "            return \"Your bank account has been blocked\"\n",
        "        \n",
        "pin()"
      ],
      "execution_count": 49,
      "outputs": [
        {
          "output_type": "execute_result",
          "data": {
            "text/plain": [
              "'You got it right! You get full access to your money'"
            ]
          },
          "metadata": {},
          "execution_count": 49
        }
      ]
    },
    {
      "cell_type": "markdown",
      "metadata": {
        "id": "WoVH2aHaI_Fu"
      },
      "source": [
        "#### functions & for loop\n",
        "\n",
        "1. Write a function that takes in a person's name, and prints out a greeting.\n",
        "    - The greeting must be at least three lines, and the person's name must be in each line.\n",
        "    - Use your function to greet at least three different people.\n",
        "    - Store your three people in a list, and call your function from a for loop."
      ]
    },
    {
      "cell_type": "code",
      "metadata": {
        "id": "DyC8TP3bI_Fu"
      },
      "source": [
        "def greet(name):\n",
        "    return f\"Hello {name}, \\nthere a beautiful day outside {name}, \\nhow are you {name}?\"\n",
        "\n",
        "print(greet(\"Oscar\"))\n",
        "print(greet(\"Joe\"))\n",
        "print(greet(\"Carol\"))\n",
        "\n",
        "people = [\"Oscar\", \"Joe\", \"Carol\"]\n",
        "for i in people:\n",
        "    print(greet(i))"
      ],
      "execution_count": 67,
      "outputs": [
        {
          "output_type": "stream",
          "name": "stdout",
          "text": [
            "Hello Oscar, \nthere a beautiful day outside Oscar, \nhow are you Oscar?\nHello Joe, \nthere a beautiful day outside Joe, \nhow are you Joe?\nHello Carol, \nthere a beautiful day outside Carol, \nhow are you Carol?\nHello Oscar, \nthere a beautiful day outside Oscar, \nhow are you Oscar?\nHello Joe, \nthere a beautiful day outside Joe, \nhow are you Joe?\nHello Carol, \nthere a beautiful day outside Carol, \nhow are you Carol?\n"
          ]
        }
      ]
    },
    {
      "cell_type": "markdown",
      "metadata": {
        "id": "OCCYk3yvI_Fv"
      },
      "source": [
        "2. Make a list that includes 3 or 4 games that you like to play and print a statement that tells the user what games you like.\n",
        "    - Write a function that asks the user to tell you a game they like, and store the game in a variable such as `new_game`. \n",
        "    - If the user mentions one game you like to play, send a message asking to play together.\n",
        "    - Otherwise ask for another game name. If the user tries your program 3 times and doesn't give a game name you like, then ask them to find another friend."
      ]
    },
    {
      "cell_type": "code",
      "metadata": {
        "id": "dppiYtzJI_Fv"
      },
      "source": [
        "games = [\"catan\", \"virus\",\"tetris\"]\n",
        "print(\"I like\", games)\n",
        "new = input(\"What games do you like?\")\n",
        "new_game = None\n",
        "contador = 0\n",
        "for i, elem in enumerate(games):\n",
        "    if new == elem:\n",
        "        print(\"Let's play together!\")\n",
        "    elif new != elem:\n",
        "        contador += 1\n",
        "        new = input(\"Other game\")\n",
        "    if contador > 2:\n",
        "        print(\"Find yourself another friend\")\n",
        "\n"
      ],
      "execution_count": 90,
      "outputs": [
        {
          "output_type": "stream",
          "name": "stdout",
          "text": [
            "I like ['catan', 'virus', 'tetris']\n"
          ]
        },
        {
          "output_type": "error",
          "ename": "KeyboardInterrupt",
          "evalue": "Interrupted by user",
          "traceback": [
            "\u001b[1;31m---------------------------------------------------------------------------\u001b[0m",
            "\u001b[1;31mKeyboardInterrupt\u001b[0m                         Traceback (most recent call last)",
            "\u001b[1;32m<ipython-input-90-f9f250c2ea5d>\u001b[0m in \u001b[0;36m<module>\u001b[1;34m\u001b[0m\n\u001b[0;32m      9\u001b[0m     \u001b[1;32melif\u001b[0m \u001b[0mnew\u001b[0m \u001b[1;33m!=\u001b[0m \u001b[0melem\u001b[0m\u001b[1;33m:\u001b[0m\u001b[1;33m\u001b[0m\u001b[1;33m\u001b[0m\u001b[0m\n\u001b[0;32m     10\u001b[0m         \u001b[0mcontador\u001b[0m \u001b[1;33m+=\u001b[0m \u001b[1;36m1\u001b[0m\u001b[1;33m\u001b[0m\u001b[1;33m\u001b[0m\u001b[0m\n\u001b[1;32m---> 11\u001b[1;33m         \u001b[0mnew\u001b[0m \u001b[1;33m=\u001b[0m \u001b[0minput\u001b[0m\u001b[1;33m(\u001b[0m\u001b[1;34m\"Other game\"\u001b[0m\u001b[1;33m)\u001b[0m\u001b[1;33m\u001b[0m\u001b[1;33m\u001b[0m\u001b[0m\n\u001b[0m\u001b[0;32m     12\u001b[0m     \u001b[1;32mif\u001b[0m \u001b[0mcontador\u001b[0m \u001b[1;33m>\u001b[0m \u001b[1;36m2\u001b[0m\u001b[1;33m:\u001b[0m\u001b[1;33m\u001b[0m\u001b[1;33m\u001b[0m\u001b[0m\n\u001b[0;32m     13\u001b[0m         \u001b[0mprint\u001b[0m\u001b[1;33m(\u001b[0m\u001b[1;34m\"Find yourself another friend\"\u001b[0m\u001b[1;33m)\u001b[0m\u001b[1;33m\u001b[0m\u001b[1;33m\u001b[0m\u001b[0m\n",
            "\u001b[1;32m~\\AppData\\Roaming\\Python\\Python37\\site-packages\\ipykernel\\kernelbase.py\u001b[0m in \u001b[0;36mraw_input\u001b[1;34m(self, prompt)\u001b[0m\n\u001b[0;32m    849\u001b[0m             \u001b[0mself\u001b[0m\u001b[1;33m.\u001b[0m\u001b[0m_parent_ident\u001b[0m\u001b[1;33m,\u001b[0m\u001b[1;33m\u001b[0m\u001b[1;33m\u001b[0m\u001b[0m\n\u001b[0;32m    850\u001b[0m             \u001b[0mself\u001b[0m\u001b[1;33m.\u001b[0m\u001b[0m_parent_header\u001b[0m\u001b[1;33m,\u001b[0m\u001b[1;33m\u001b[0m\u001b[1;33m\u001b[0m\u001b[0m\n\u001b[1;32m--> 851\u001b[1;33m             \u001b[0mpassword\u001b[0m\u001b[1;33m=\u001b[0m\u001b[1;32mFalse\u001b[0m\u001b[1;33m,\u001b[0m\u001b[1;33m\u001b[0m\u001b[1;33m\u001b[0m\u001b[0m\n\u001b[0m\u001b[0;32m    852\u001b[0m         )\n\u001b[0;32m    853\u001b[0m \u001b[1;33m\u001b[0m\u001b[0m\n",
            "\u001b[1;32m~\\AppData\\Roaming\\Python\\Python37\\site-packages\\ipykernel\\kernelbase.py\u001b[0m in \u001b[0;36m_input_request\u001b[1;34m(self, prompt, ident, parent, password)\u001b[0m\n\u001b[0;32m    890\u001b[0m             \u001b[1;32mexcept\u001b[0m \u001b[0mKeyboardInterrupt\u001b[0m\u001b[1;33m:\u001b[0m\u001b[1;33m\u001b[0m\u001b[1;33m\u001b[0m\u001b[0m\n\u001b[0;32m    891\u001b[0m                 \u001b[1;31m# re-raise KeyboardInterrupt, to truncate traceback\u001b[0m\u001b[1;33m\u001b[0m\u001b[1;33m\u001b[0m\u001b[1;33m\u001b[0m\u001b[0m\n\u001b[1;32m--> 892\u001b[1;33m                 \u001b[1;32mraise\u001b[0m \u001b[0mKeyboardInterrupt\u001b[0m\u001b[1;33m(\u001b[0m\u001b[1;34m\"Interrupted by user\"\u001b[0m\u001b[1;33m)\u001b[0m \u001b[1;32mfrom\u001b[0m \u001b[1;32mNone\u001b[0m\u001b[1;33m\u001b[0m\u001b[1;33m\u001b[0m\u001b[0m\n\u001b[0m\u001b[0;32m    893\u001b[0m             \u001b[1;32mexcept\u001b[0m \u001b[0mException\u001b[0m \u001b[1;32mas\u001b[0m \u001b[0me\u001b[0m\u001b[1;33m:\u001b[0m\u001b[1;33m\u001b[0m\u001b[1;33m\u001b[0m\u001b[0m\n\u001b[0;32m    894\u001b[0m                 \u001b[0mself\u001b[0m\u001b[1;33m.\u001b[0m\u001b[0mlog\u001b[0m\u001b[1;33m.\u001b[0m\u001b[0mwarning\u001b[0m\u001b[1;33m(\u001b[0m\u001b[1;34m\"Invalid Message:\"\u001b[0m\u001b[1;33m,\u001b[0m \u001b[0mexc_info\u001b[0m\u001b[1;33m=\u001b[0m\u001b[1;32mTrue\u001b[0m\u001b[1;33m)\u001b[0m\u001b[1;33m\u001b[0m\u001b[1;33m\u001b[0m\u001b[0m\n",
            "\u001b[1;31mKeyboardInterrupt\u001b[0m: Interrupted by user"
          ]
        }
      ]
    },
    {
      "cell_type": "code",
      "execution_count": 91,
      "metadata": {},
      "outputs": [
        {
          "output_type": "stream",
          "name": "stdout",
          "text": [
            "I like ['catan', 'virus', 'tetris']\n"
          ]
        }
      ],
      "source": [
        "games = [\"catan\", \"virus\",\"tetris\"]\n",
        "print(\"I like\", games)\n",
        "new = input(\"What games do you like?\")\n",
        "new_game = None\n",
        "contador = 0\n",
        "while contador < 3:\n",
        "    if new in games:\n",
        "        print(\"Let's play together!\")\n",
        "    elif new not in games:\n",
        "        contador +=1\n",
        "        new = input(\"Other game\")\n",
        "    elif contador > 2:\n",
        "        print(\"Find yourself another friend\")\n"
      ]
    },
    {
      "cell_type": "markdown",
      "metadata": {
        "id": "nXQahuB1I_Fw"
      },
      "source": [
        "#### write a mini-program\n",
        "**Three is a Crowd**\n",
        "- Make a list of names that includes at least four people.\n",
        "- Write an if test that prints a message about the room being crowded, if there are more than three people in your list.\n",
        "- Modify your list so that there are only two people in it. Use one of the methods for removing people from the list, don't just redefine the list.\n",
        "- Run your if test again. There should be no output this time, because there are less than three people in the list.\n",
        "- Store your if test in a function called something like `crowd_test`.\n",
        "\n"
      ]
    },
    {
      "cell_type": "code",
      "metadata": {
        "id": "NeJRqMccI_Fw"
      },
      "source": [],
      "execution_count": null,
      "outputs": []
    },
    {
      "cell_type": "markdown",
      "metadata": {
        "id": "8NzH5zR-I_Fx"
      },
      "source": [
        "**Three is a Crowd - Part 2**\n",
        "- Save your program from *Three is a Crowd* under a new name.\n",
        "- Add an `else` statement to your if tests. If the `else` statement is run, have it print a message that the room is not very crowded.\n"
      ]
    },
    {
      "cell_type": "code",
      "metadata": {
        "id": "CHHMeT3II_Fx"
      },
      "source": [],
      "execution_count": null,
      "outputs": []
    },
    {
      "cell_type": "markdown",
      "metadata": {
        "id": "bBuN4WRaI_Fy"
      },
      "source": [
        "\n",
        "**Six is a Mob**\n",
        "- Save your program from *Three is a Crowd - Part 2* under a new name.\n",
        "- Add some names to your list, so that there are at least six people in the list.\n",
        "- Modify your tests so that\n",
        "    - If there are more than 5 people, a message is printed about there being a mob in the room.\n",
        "    - If there are 3-5 people, a message is printed about the room being crowded.\n",
        "    - If there are 1 or 2 people, a message is printed about the room not being crowded.\n",
        "    - If there are no people in the room, a message is printed abou the room being empty."
      ]
    },
    {
      "cell_type": "code",
      "metadata": {
        "id": "7_lQvhpyI_Fy"
      },
      "source": [],
      "execution_count": null,
      "outputs": []
    }
  ]
}