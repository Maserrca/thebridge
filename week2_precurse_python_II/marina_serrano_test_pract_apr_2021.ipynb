{
 "metadata": {
  "language_info": {
   "codemirror_mode": {
    "name": "ipython",
    "version": 3
   },
   "file_extension": ".py",
   "mimetype": "text/x-python",
   "name": "python",
   "nbconvert_exporter": "python",
   "pygments_lexer": "ipython3",
   "version": "3.7.4"
  },
  "orig_nbformat": 2,
  "kernelspec": {
   "name": "python374jvsc74a57bd0797ece2db6cd49410b212500b07c3b6429b528fb918ab6c0d0ffbc4c51c5b09e",
   "display_name": "Python 3.7.4 64-bit"
  },
  "metadata": {
   "interpreter": {
    "hash": "797ece2db6cd49410b212500b07c3b6429b528fb918ab6c0d0ffbc4c51c5b09e"
   }
  }
 },
 "nbformat": 4,
 "nbformat_minor": 2,
 "cells": [
  {
   "source": [
    "# Test DS-FT April 2021\n",
    "\n"
   ],
   "cell_type": "markdown",
   "metadata": {}
  },
  {
   "source": [
    "## Primera parte (tipo test):\n",
    "\n",
    "https://forms.gle/24Eu5xuFGn6jNKpx9"
   ],
   "cell_type": "markdown",
   "metadata": {}
  },
  {
   "source": [
    "-----------------"
   ],
   "cell_type": "markdown",
   "metadata": {}
  },
  {
   "source": [
    "## Segunda parte, ejercicios prácticos:\n",
    "\n",
    "* El test práctico consta de 5 ejercicios puntuables. \n",
    "* Cada uno se puntúa sobre 2,5. \n",
    "* La máxima nota es 10.\n"
   ],
   "cell_type": "markdown",
   "metadata": {}
  },
  {
   "source": [
    "Antes de comenzar, cambia el nombre del archivo notebook poniéndole delante tu nombre y primer apellido:\n",
    "\n",
    "* nombre_apellido_test_pract_apr_2021.ipynb"
   ],
   "cell_type": "markdown",
   "metadata": {}
  },
  {
   "cell_type": "code",
   "execution_count": 1,
   "metadata": {},
   "outputs": [],
   "source": [
    "# Escribe tu nombre en la variable:\n",
    "nombre_y_apellidos = \"Marina Serrano\" "
   ]
  },
  {
   "source": [
    "#### Notas y pruebas de apoyo para contestar las preguntas tipo test\n",
    "Esto no es necesario usarlo aunque verlo aquí te puede dar la respuesta a alguna de las preguntas tipo test.\n",
    "\n",
    "Cualquier código aunque no esté correcto nos dirá más de ti que no escribir nada. "
   ],
   "cell_type": "markdown",
   "metadata": {}
  },
  {
   "cell_type": "code",
   "execution_count": null,
   "metadata": {},
   "outputs": [],
   "source": [
    "# Ejemplo de como queremos ver el código para más de un intento:\n",
    "\n",
    "# intento 1\n",
    "your code\n",
    "# intento 2\n",
    "your code"
   ]
  },
  {
   "cell_type": "code",
   "execution_count": 10,
   "metadata": {},
   "outputs": [],
   "source": [
    "# crea todas las celdas que necesites"
   ]
  },
  {
   "source": [
    "## Ejercicios prácticos"
   ],
   "cell_type": "markdown",
   "metadata": {}
  },
  {
   "source": [
    "#### Ejercicio 1.\n",
    "En este ejercicio se va a crear una lista con los siguientes elementos. Primero, crearemos las variables que luego añadiremos a la lista. Las variables son las siguientes:\n",
    "\n",
    "1. Crea una variable llamada `num_dni` de tipo Integer que represente el primer número de tu DNI. \n",
    "2. Crea una variable llamada `let_dni` de tipo String y que represente la letra de vuestro DNI.\n",
    "3. Crea una variable llamada `tip_ord` de tipo Boolean True si usas Windows y False si usas Mac.\n",
    "4. Crea una variable llamada `nada` de tipo None cuyo valor sea None.\n",
    "5. Crea una variable llamada `lista_deseo` de tipo List que contenga los cuatro objetos que te llevarías a una isla desierta. Cada elemento ha de ser de tipo String y el tamaño de la lista ha de ser 4.\n",
    "6. Crea una variable llamada `tupla_ropa` de tipo Tuple con la marca de la prenda superior, inferior y calzado que llevas puesto.\n",
    "7. Crea una variable llamada `dict_info` con dos keys y dos values. Una key es 'nombre', teniendo como value vuestro nombre. Otra key es 'edad', teniendo como value vuestra edad.\n",
    "8. Crea una variable llamada `flo_hor` con la hora actual separada por punto en vez de dos puntos. Ejemplo: si son las 10:06, el valor de la variable sería 10.06.\n",
    "\n",
    "Añade todos estos elementos en una lista llamada `lista_examen` en el orden de aparición."
   ],
   "cell_type": "markdown",
   "metadata": {}
  },
  {
   "cell_type": "code",
   "execution_count": 4,
   "metadata": {},
   "outputs": [
    {
     "output_type": "stream",
     "name": "stdout",
     "text": [
      "[53994161, 'M', True, None, ['crema', 'herramientas', 'tienda', 'saco'], ('Zara', 'Calcedonia', 'Aliexpress'), {'nombre': 'Marina', 'edad': 25}, 10.16]\n"
     ]
    }
   ],
   "source": [
    " # tu respuesta aquí\n",
    "num_dni = 53994161\n",
    "let_dni = \"M\"\n",
    "tip_ord = True\n",
    "nada = None\n",
    "lista_deseo = [\"crema\", \"herramientas\", \"tienda\", \"saco\"]\n",
    "tupla_ropa = (\"Zara\", \"Calcedonia\", \"Aliexpress\")\n",
    "dict_info = {\"nombre\": \"Marina\", \"edad\":25}\n",
    "flo_hor = 10.16\n",
    "\n",
    "lista_examen = [num_dni, let_dni, tip_ord, nada, lista_deseo, tupla_ropa, dict_info, flo_hor]\n",
    "print(lista_examen)"
   ]
  },
  {
   "source": [
    "#### Ejercicio 2. \n",
    "\n",
    "Para resolver este ejercicio necesitarás la lista del ejercicio anterior (`lista_examen`). Se recomeinda leer cada punto hasta el final antes de resolver el ejercicio.\n",
    "\n",
    "Se repite para que quede aún más claro: **SOLO USAR LA VARIABLE** `lista_examen`. Usar las demás variables se calificará como error.  \n",
    "\n",
    "1. Mostrar por pantalla, sin uso de funciones ni bucles: \n",
    "    - El segundo elemento de `lista_deseo` desde `lista_examen`.\n",
    "    - El calzado que llevas puesto.\n",
    "    - Vuestro nombre.\n",
    "    - La hora almacenada concatenada con vuestra edad y el número de vuestro de DNI. No debe haber espacios entre la concatenación.\n",
    "    - Si tenéis más de 20 años, el primer número de vuestro DNI es mayor a 7 y usas Mac, mostrar la posición 5 de `lista_examen`.\n",
    "    "
   ],
   "cell_type": "markdown",
   "metadata": {}
  },
  {
   "cell_type": "code",
   "execution_count": 134,
   "metadata": {},
   "outputs": [
    {
     "output_type": "stream",
     "name": "stdout",
     "text": [
      "herramientas\nAliexpress\nMarina\n10.162553994161\n"
     ]
    }
   ],
   "source": [
    "# tu respuesta aquí\n",
    "print(lista_examen[4][1])\n",
    "print(lista_examen[5][2])\n",
    "print(lista_examen[6][\"nombre\"])\n",
    "print(str(lista_examen[7]) + str(lista_examen[6][\"edad\"]) + str(lista_examen[0]))\n",
    "if lista_examen[6][\"edad\"] > 20 and lista_examen[0] > 70000000 and lista_examen[2] == False:\n",
    "    print(lista_examen[5])"
   ]
  },
  {
   "cell_type": "code",
   "execution_count": 133,
   "metadata": {},
   "outputs": [
    {
     "output_type": "stream",
     "name": "stdout",
     "text": [
      "At least it works\n"
     ]
    }
   ],
   "source": [
    "#otro intento para hacer mas limpio el primer numero de dni mayor que 7\n",
    "x = str(lista_examen[0])\n",
    "int(x[0]) >7\n",
    "#Entonces sería\n",
    "if lista_examen[6][\"edad\"] > 20 and int(x[0]) > 7 and lista_examen[2] == False:\n",
    "    print(lista_examen[5])\n",
    "else:\n",
    "    print(\"At least it works\")\n"
   ]
  },
  {
   "source": [
    "2. Mostrar por pantalla, con uso de un bucle `for`:\n",
    "    - Todos los elementos de `lista_examen`.\n",
    "    - Todos los elementos de `lista_deseo` desde `lista_examen`.\n",
    "    - Todos los elementos que ocupen una posición menor a 4 en `lista_examen`.\n"
   ],
   "cell_type": "markdown",
   "metadata": {}
  },
  {
   "cell_type": "code",
   "execution_count": 29,
   "metadata": {},
   "outputs": [
    {
     "output_type": "stream",
     "name": "stdout",
     "text": [
      "53994161\nM\nTrue\nNone\n['crema', 'herramientas', 'tienda', 'saco']\n('Zara', 'Calcedonia', 'Aliexpress')\n{'nombre': 'Marina', 'edad': 25}\n10.16\n"
     ]
    }
   ],
   "source": [
    "# tu respuesta aquí\n",
    "for i in lista_examen:\n",
    "    print(i)"
   ]
  },
  {
   "cell_type": "code",
   "execution_count": 31,
   "metadata": {},
   "outputs": [
    {
     "output_type": "stream",
     "name": "stdout",
     "text": [
      "crema\nherramientas\ntienda\nsaco\n"
     ]
    }
   ],
   "source": [
    "for i in lista_examen[4]:\n",
    "        print(i)\n",
    "    \n",
    "    "
   ]
  },
  {
   "cell_type": "code",
   "execution_count": 32,
   "metadata": {},
   "outputs": [
    {
     "output_type": "stream",
     "name": "stdout",
     "text": [
      "53994161\nM\nTrue\nNone\n"
     ]
    }
   ],
   "source": [
    "contador = 0\n",
    "for i, elem in enumerate(lista_examen):\n",
    "    if i < 4:\n",
    "        print(elem)"
   ]
  },
  {
   "source": [
    "3. Mostrar por pantalla, con uso de un bucle while: \n",
    "    - Todos los elementos de `tupla_ropa` seguido de la cadena `\"-->\"` y la `posición` (int) que ocupa en la tupla accediendo desde `lista_examen`. Se aconseja utilizar *`enumerate`*.\n",
    "    - Cada key de `dict_info` seguido de la cadena \":\" seguido de su value desde `lista_examen`."
   ],
   "cell_type": "markdown",
   "metadata": {}
  },
  {
   "cell_type": "code",
   "execution_count": 43,
   "metadata": {},
   "outputs": [
    {
     "output_type": "stream",
     "name": "stdout",
     "text": [
      "Zara-->0\nCalcedonia-->1\nAliexpress-->2\n"
     ]
    }
   ],
   "source": [
    "# tu respuesta aquí\n",
    "contador = 0\n",
    "while contador < len(lista_examen[5]):\n",
    "    print(str(lista_examen[5][contador]) +'-->'+ str(contador))\n",
    "    contador += 1\n",
    " "
   ]
  },
  {
   "cell_type": "code",
   "execution_count": 59,
   "metadata": {},
   "outputs": [
    {
     "output_type": "stream",
     "name": "stdout",
     "text": [
      "dict_items([('nombre', 'Marina'), ('edad', 25)])\ndict_items([('nombre', 'Marina'), ('edad', 25)])\n"
     ]
    }
   ],
   "source": [
    "#intento 1\n",
    "contador = 0\n",
    "while contador < len(lista_examen[6]):\n",
    "    enumerate(lista_examen[6].items())\n",
    "    print(lista_examen[6] + \n",
    "    contador += 1"
   ]
  },
  {
   "cell_type": "code",
   "execution_count": 60,
   "metadata": {},
   "outputs": [
    {
     "output_type": "stream",
     "name": "stdout",
     "text": [
      "Marina\n25\n"
     ]
    }
   ],
   "source": [
    "print(lista_examen[6][\"nombre\"])\n",
    "print(lista_examen[6][\"edad\"])"
   ]
  },
  {
   "cell_type": "code",
   "execution_count": 74,
   "metadata": {},
   "outputs": [
    {
     "output_type": "stream",
     "name": "stdout",
     "text": [
      "nombre : Marina\nedad : 25\n"
     ]
    }
   ],
   "source": [
    "#intento 2 , \n",
    "contador = 0\n",
    "while contador < len(lista_examen[6]): \n",
    "    for key in lista_examen[6]:\n",
    "        contador += 1\n",
    "        print(key, \":\", lista_examen[6][key])\n",
    "        "
   ]
  },
  {
   "cell_type": "code",
   "execution_count": null,
   "metadata": {},
   "outputs": [],
   "source": [
    "##CORRECCION\n",
    "pos = 0\n",
    "while pos < len(lista_examen[6]):\n",
    "    clave = list(lista_examen[6])[pos]\n",
    "    valor = lista_examen[6][clave]\n",
    "    print(clave, \":\", str(valor))\n",
    "    pos += 1"
   ]
  },
  {
   "cell_type": "code",
   "execution_count": 42,
   "metadata": {},
   "outputs": [
    {
     "output_type": "execute_result",
     "data": {
      "text/plain": [
       "[53994161,\n",
       " 'M',\n",
       " True,\n",
       " None,\n",
       " ['crema', 'herramientas', 'tienda', 'saco'],\n",
       " ('Zara', 'Calcedonia', 'Aliexpress'),\n",
       " {'nombre': 'Marina', 'edad': 25},\n",
       " 10.16]"
      ]
     },
     "metadata": {},
     "execution_count": 42
    }
   ],
   "source": [
    "lista_examen #Para acordarme"
   ]
  },
  {
   "source": [
    "#### Ejercicio 3. \n",
    "\n",
    "Crea una función `ejercicio_3` que reciba un parámetro `arg1`. Este argumento se utilizará como la lista de tuplas con nombres de los alumnos y alturas de clase. La función ha de retornar la misma lista de tuplas pero sin la tupla que contiene tu nombre. La tupla que contiene tu nombre ha de encontrarse a través del **valor del String** con tu nombre. Es decir, la función borrará la tupla con tu nombre tanto si está en la primera posición, como en la posición N o la última. La función mostrará por pantalla la tupla modificada.\n",
    "\n",
    "**Notas:** \n",
    "\n",
    "*- La lista de nombres y alturas está al final del notebook*\n",
    "\n",
    "*- Añade la tupla con tu nombre y altura si no apareces en la lista* \n",
    "\n",
    "Ejemplos de llamada a la función y lo que devuelve la función en el caso en el que me llamo 'Manuel Alfonso' y con esta 'lista_nombres_alturas':"
   ],
   "cell_type": "markdown",
   "metadata": {}
  },
  {
   "cell_type": "code",
   "execution_count": 7,
   "metadata": {},
   "outputs": [
    {
     "output_type": "stream",
     "name": "stdout",
     "text": [
      "[('Jonathan Abbondanza', 1.7), ('Nacho Fontal', 1.82)]\n"
     ]
    }
   ],
   "source": [
    "# NO EJECUTAR ESTA CELDA\n",
    "lista_nombres_alturas = [(\"Manuel Alfonso\", 1.75),(\"Jonathan Abbondanza\",  1.70),(\"Nacho Fontal\", 1.82)]\n",
    "ejercicio_3(arg1=lista_nombres_alturas)"
   ]
  },
  {
   "cell_type": "code",
   "execution_count": 9,
   "metadata": {},
   "outputs": [
    {
     "output_type": "stream",
     "name": "stdout",
     "text": [
      "[('Jonathan Abbondanza', 1.7), ('Nacho Fontal', 1.82)]\n"
     ]
    }
   ],
   "source": [
    "# NO EJECUTAR ESTA CELDA\n",
    "lista_nombres_alturas = [(\"Jonathan Abbondanza\",  1.70),(\"Manuel Alfonso\", 1.75),(\"Nacho Fontal\", 1.82)]\n",
    "ejercicio_3(arg1=lista_nombres_alturas)"
   ]
  },
  {
   "cell_type": "code",
   "execution_count": 2,
   "metadata": {},
   "outputs": [],
   "source": [
    "# tu respuesta aquí\n",
    "lista_nombres_alturas = [(\"Gabriel Vázquez\", 1.75),(\"Jonathan Abbondanza\",  1.70),(\"Nacho Fontal\", 1.82),(\"Javier Araiz\", 1.80),('Jonathan Suarez', 1.86),('Sonia Cobo', 1.73), ('Jorge García', 1.79), (\"Mary Meza\", 1.52), ('Leonardo Frazzetto', 1.75), (\"Nacho Astorga\",1.78),(\"José Carlos Batista\",1.70), (\"Isabel Palomares\", 1.78),(\"Marina Serrano\", 1.54), (\"Clara Piniella\", 1.66), (\"Gina Garrido\", 1.63), (\"Adrià Gallardo\", 1.70), (\"María García-Maroto\", 1.64), (\"Susana Vázquez\",1.80), (\"Mauro Garcia-Oliva\", 1.77), (\"Juan Bayon\", 1.64), (\"Miguel Barquero\", 1.85), (\"Borja Puig\", 1.82), (\"Pablo Martínez\", 1.81), (\"Xinru Yang\", 1.60),(\"Pablo Díez\", 1.84),(\"Karina Inche\",1.61)]"
   ]
  },
  {
   "source": [
    "-------------------------------------"
   ],
   "cell_type": "markdown",
   "metadata": {}
  },
  {
   "cell_type": "code",
   "execution_count": 86,
   "metadata": {},
   "outputs": [
    {
     "output_type": "execute_result",
     "data": {
      "text/plain": [
       "[('Gabriel Vázquez', 1.75),\n",
       " ('Jonathan Abbondanza', 1.7),\n",
       " ('Nacho Fontal', 1.82),\n",
       " ('Javier Araiz', 1.8),\n",
       " ('Jonathan Suarez', 1.86),\n",
       " ('Sonia Cobo', 1.73),\n",
       " ('Jorge García', 1.79),\n",
       " ('Mary Meza', 1.52),\n",
       " ('Leonardo Frazzetto', 1.75),\n",
       " ('Nacho Astorga', 1.78),\n",
       " ('José Carlos Batista', 1.7),\n",
       " ('Isabel Palomares', 1.78),\n",
       " ('Daniel Walker', 1.87),\n",
       " ('Clara Piniella', 1.66),\n",
       " ('Gina Garrido', 1.63),\n",
       " ('Adrià Gallardo', 1.7),\n",
       " ('María García-Maroto', 1.64),\n",
       " ('Susana Vázquez', 1.8),\n",
       " ('Mauro Garcia-Oliva', 1.77),\n",
       " ('Juan Bayon', 1.64),\n",
       " ('Miguel Barquero', 1.85),\n",
       " ('Borja Puig', 1.82),\n",
       " ('Pablo Martínez', 1.81),\n",
       " ('Xinru Yang', 1.6),\n",
       " ('Pablo Díez', 1.84),\n",
       " ('Karina Inche', 1.61)]"
      ]
     },
     "metadata": {},
     "execution_count": 86
    }
   ],
   "source": [
    "def ejercicio_3(arg1):\n",
    "    for i, tupla in enumerate(arg1): #Tuplas\n",
    "        for elem in tupla: \n",
    "            if elem == \"Marina Serrano\":\n",
    "                arg1.remove(tupla)\n",
    "    return arg1\n",
    "\n",
    "ejercicio_3(lista_nombres_alturas)\n",
    "\n"
   ]
  },
  {
   "cell_type": "code",
   "execution_count": 121,
   "metadata": {},
   "outputs": [
    {
     "output_type": "execute_result",
     "data": {
      "text/plain": [
       "[('Jonathan Abbondanza', 1.7),\n",
       " ('Nacho Fontal', 1.82),\n",
       " ('Javier Araiz', 1.8),\n",
       " ('Jonathan Suarez', 1.86),\n",
       " ('Sonia Cobo', 1.73),\n",
       " ('Jorge García', 1.79),\n",
       " ('Mary Meza', 1.52),\n",
       " ('Leonardo Frazzetto', 1.75),\n",
       " ('Nacho Astorga', 1.78),\n",
       " ('José Carlos Batista', 1.7),\n",
       " ('Isabel Palomares', 1.78),\n",
       " ('Daniel Walker', 1.87),\n",
       " ('Clara Piniella', 1.66),\n",
       " ('Gina Garrido', 1.63),\n",
       " ('Adrià Gallardo', 1.7),\n",
       " ('María García-Maroto', 1.64),\n",
       " ('Susana Vázquez', 1.8),\n",
       " ('Mauro Garcia-Oliva', 1.77),\n",
       " ('Juan Bayon', 1.64),\n",
       " ('Miguel Barquero', 1.85),\n",
       " ('Borja Puig', 1.82),\n",
       " ('Pablo Martínez', 1.81),\n",
       " ('Xinru Yang', 1.6),\n",
       " ('Pablo Díez', 1.84),\n",
       " ('Karina Inche', 1.61)]"
      ]
     },
     "metadata": {},
     "execution_count": 121
    }
   ],
   "source": [
    "#método con input para guiarme en ejercicio 5\n",
    "def ejercicio_3(arg1):\n",
    "    x = input(\"¿Qué nombre quieres borrar?\")\n",
    "    for i, tupla in enumerate(arg1): #Tuplas\n",
    "        for elem in tupla: \n",
    "            if elem == x.title():\n",
    "                arg1.remove(tupla)\n",
    "    return arg1\n",
    "\n",
    "ejercicio_3(lista_nombres_alturas)"
   ]
  },
  {
   "source": [
    "#### Ejercicio 4. \n",
    "\n",
    "Escribe una función `reverse_number` que reciba dos parámetros. Los parámetros son `cadena` y `n`. `cadena` será un string y `n` un entero. La función debe retornar un string que sea el string `cadena` al revés y que tenga concatenado el número `n` por cada caracter de `cadena`.  \n",
    "\n",
    "\n",
    "**No se permite:**\n",
    "- Usar la función built-in `reverse`\n",
    "- Pasar el string `cadena` a otro tipo de variable (como list)* \n",
    "- Usar el `string slicing` [[::-1]]\n",
    "\n",
    "Ejemplos de llamada a la función y lo que devuelve la función:\n",
    "\n",
    "--------\n",
    "\n",
    ">> print(reverse_number(cadena=\"aloh\", n=3))\n",
    "\n",
    ">>> h3o3l3a3\n",
    "\n",
    "--------\n",
    "\n",
    ">> print(reverse_number(cadena=\"otipep\", n=85))\n",
    "\n",
    ">>> p85e85p85i85t85o85\n",
    "\n",
    "\n",
    "\n"
   ],
   "cell_type": "markdown",
   "metadata": {}
  },
  {
   "cell_type": "code",
   "execution_count": 95,
   "metadata": {},
   "outputs": [
    {
     "output_type": "stream",
     "name": "stdout",
     "text": [
      "h3\no3\nl3\na3\n"
     ]
    }
   ],
   "source": [
    "#Primer intento\n",
    "cadena=\"aloh\"\n",
    "n=3\n",
    "\n",
    "def reverse_number(candena, n):\n",
    "    contador = 0\n",
    "    for i, elem in enumerate(cadena):\n",
    "        contador = contador - 1\n",
    "        print(cadena[contador] + str(n))\n",
    "\n",
    "reverse_number(\"aloh\",3)\n"
   ]
  },
  {
   "cell_type": "code",
   "execution_count": 118,
   "metadata": {},
   "outputs": [
    {
     "output_type": "stream",
     "name": "stdout",
     "text": [
      "h3o3l3a3\nh85o85l85a85\n"
     ]
    }
   ],
   "source": [
    "#Segundo intento\n",
    "cadena=\"aloh\"          \n",
    "n=3\n",
    "\n",
    "def reverse_number(candena, n):\n",
    "    contador = 0\n",
    "    espacio= \"\"\n",
    "    for i in enumerate(cadena):\n",
    "        contador = contador - 1\n",
    "        espacio = espacio + cadena[contador] + str(n)\n",
    "    return espacio\n",
    "\n",
    "print(reverse_number(\"aloh\",3))\n",
    "print(reverse_number(\"otipep\",85))"
   ]
  },
  {
   "source": [
    "#### Ejercicio 5:\n",
    " Crea una función `ejercicio_5` que reciba dos parámetros `arg1` y `arg2`. `arg1` es la misma lista de tuplas con los nombres y alturas que la del ejercicio 3 y `arg2` representa un nombre. \n",
    "Crea un programa que pida al usuario *indefinidamente* un nombre y, cada vez que lo introduzca, intente borrar de `arg1` la tupla con el nombre introducido usando la función `ejercicio_5`:\n",
    "\n",
    "1. Si existe el nombre `arg2` dentro de la `arg1` la función mostrará por pantalla la tupla modificada\n",
    "\n",
    "2. Si el nombre `arg2` no está en la lista `arg1` la función mostrará por pantalla el string \"Ese \n",
    "nombre no está dentro de la lista\"\n",
    "\n",
    "3. Solo en el caso en el que el usuario escriba la palabra *'STOP'* se parará el programa.\n",
    "\n",
    "**Notas:** \n",
    "\n",
    "*- La lista de nombres y alturas está al final del notebook*\n",
    "\n",
    "*- Añade la tupla con tu nombre y altura si no apareces en la lista*  "
   ],
   "cell_type": "markdown",
   "metadata": {}
  },
  {
   "cell_type": "code",
   "execution_count": null,
   "metadata": {},
   "outputs": [],
   "source": [
    "#Para acordarme\n",
    "def ejercicio_3(arg1):\n",
    "    x = input(\"¿Qué nombre quieres borrar?\")\n",
    "    for i, tupla in enumerate(arg1): #Tuplas\n",
    "        for elem in tupla: \n",
    "            if elem == x.title():\n",
    "                arg1.remove(tupla)\n",
    "    return arg1"
   ]
  },
  {
   "cell_type": "code",
   "execution_count": 123,
   "metadata": {},
   "outputs": [
    {
     "output_type": "error",
     "ename": "TypeError",
     "evalue": "ejercicio_5() missing 1 required positional argument: 'arg2'",
     "traceback": [
      "\u001b[1;31m---------------------------------------------------------------------------\u001b[0m",
      "\u001b[1;31mTypeError\u001b[0m                                 Traceback (most recent call last)",
      "\u001b[1;32m<ipython-input-123-2578d21fa015>\u001b[0m in \u001b[0;36m<module>\u001b[1;34m\u001b[0m\n\u001b[0;32m     12\u001b[0m                     \u001b[1;32mbreak\u001b[0m\u001b[1;33m\u001b[0m\u001b[1;33m\u001b[0m\u001b[0m\n\u001b[0;32m     13\u001b[0m \u001b[1;33m\u001b[0m\u001b[0m\n\u001b[1;32m---> 14\u001b[1;33m \u001b[0mejercicio_5\u001b[0m\u001b[1;33m(\u001b[0m\u001b[0mlista_nombres_alturas\u001b[0m\u001b[1;33m)\u001b[0m\u001b[1;33m\u001b[0m\u001b[1;33m\u001b[0m\u001b[0m\n\u001b[0m",
      "\u001b[1;31mTypeError\u001b[0m: ejercicio_5() missing 1 required positional argument: 'arg2'"
     ]
    }
   ],
   "source": [
    "# intento 1\n",
    "def ejercicio_5(arg1, arg2):\n",
    "        for i, tupla in enumerate(arg1): #Tuplas\n",
    "            for elem in tupla: #nombres\n",
    "                if elem == arg2.title():\n",
    "                    arg1.remove(tupla)\n",
    "                    return arg1\n",
    "                elif elem != arg2.title():\n",
    "                    return \"Ese nombre no está dentro de la lista\"\n",
    "                elif arg2 == \"STOP\":\n",
    "                    print(\"Has detenido el programa\")\n",
    "                    break\n",
    "\n",
    "ejercicio_5(lista_nombres_alturas,)"
   ]
  },
  {
   "cell_type": "code",
   "execution_count": 149,
   "metadata": {},
   "outputs": [
    {
     "output_type": "execute_result",
     "data": {
      "text/plain": [
       "'Ese nombre no está dentro de la lista'"
      ]
     },
     "metadata": {},
     "execution_count": 149
    }
   ],
   "source": [
    "#Intento 2 , me confundió la peticion de nombre al usuario y el que haya un nombre como parámetro y porque habia entendido que ehl while debia ir en la funcion pero nup, es mas valido el 3 donde lo uno todo\n",
    "def ejercicio_5(arg1, arg2):\n",
    "    while True:\n",
    "        nombre = input(\"¿Qué nombre quieres borrar?\")\n",
    "        for i, tupla in enumerate(arg1): #Tuplas\n",
    "            for elem in tupla: #nombres\n",
    "                if elem == arg2.title():\n",
    "                    arg1.remove(tupla)\n",
    "                    print(arg1)\n",
    "                    break\n",
    "                if elem == nombre.title():\n",
    "                    arg1.remove(tupla)\n",
    "                    return arg1\n",
    "                elif elem != nombre:\n",
    "                    return \"Ese nombre no está dentro de la lista\"\n",
    "                elif nombre == \"STOP\":\n",
    "                    return \"Has detenido el programa\"\n",
    "\n",
    "ejercicio_5(lista_nombres_alturas,\"nombre\")"
   ]
  },
  {
   "cell_type": "code",
   "execution_count": 153,
   "metadata": {},
   "outputs": [],
   "source": [
    "# intento 3 ya a ultima hora\n",
    "def ejercicio_5(arg1, arg2):\n",
    "        for i, tupla in enumerate(arg1): #Tuplas\n",
    "            for elem in tupla: #nombres\n",
    "                if elem == arg2.title():\n",
    "                    arg1.remove(tupla)\n",
    "                    return arg1\n",
    "                elif elem != arg2.title():\n",
    "                    return \"Ese nombre no está dentro de la lista\"\n",
    "                elif arg2 == \"STOP\":\n",
    "                    print(\"Has detenido el programa\")\n",
    "                    break\n"
   ]
  },
  {
   "cell_type": "code",
   "execution_count": null,
   "metadata": {},
   "outputs": [],
   "source": [
    "while True:\n",
    "    arg2 = (input(\"¿Qué nombre quieres borrar?\"))\n",
    "    ejercicio_5(lista_nombres_alturas, arg2)\n",
    "\n"
   ]
  },
  {
   "cell_type": "code",
   "execution_count": null,
   "metadata": {},
   "outputs": [],
   "source": [
    "#CORRECCION\n",
    "\n",
    "def ejercicio_5(arg1, arg2):\n",
    "            for etupla in arg1:\n",
    "                if tupla[0] == arg2:\n",
    "                    arg1.remove(tupla)ç\n",
    "                    se_ha_borrado = True\n",
    "                    return tupla\n",
    "while True:\n",
    "    nombre = input(\"Dame un nombre\")\n",
    "    if nombre == \"STOP\":\n",
    "        break\n",
    "    ejercicio_5(arg1=lista_nombres_alturas, arg2 = nombre)"
   ]
  },
  {
   "cell_type": "code",
   "execution_count": 150,
   "metadata": {},
   "outputs": [
    {
     "output_type": "execute_result",
     "data": {
      "text/plain": [
       "[('Gabriel Vázquez', 1.75),\n",
       " ('Jonathan Abbondanza', 1.7),\n",
       " ('Nacho Fontal', 1.82),\n",
       " ('Javier Araiz', 1.8),\n",
       " ('Jonathan Suarez', 1.86),\n",
       " ('Sonia Cobo', 1.73),\n",
       " ('Jorge García', 1.79),\n",
       " ('Mary Meza', 1.52),\n",
       " ('Leonardo Frazzetto', 1.75),\n",
       " ('Nacho Astorga', 1.78),\n",
       " ('José Carlos Batista', 1.7),\n",
       " ('Isabel Palomares', 1.78),\n",
       " ('Marina Serrano', 1.54),\n",
       " ('Daniel Walker', 1.87),\n",
       " ('Clara Piniella', 1.66),\n",
       " ('Gina Garrido', 1.63),\n",
       " ('Adrià Gallardo', 1.7),\n",
       " ('María García-Maroto', 1.64),\n",
       " ('Susana Vázquez', 1.8),\n",
       " ('Mauro Garcia-Oliva', 1.77),\n",
       " ('Juan Bayon', 1.64),\n",
       " ('Miguel Barquero', 1.85),\n",
       " ('Borja Puig', 1.82),\n",
       " ('Pablo Martínez', 1.81),\n",
       " ('Xinru Yang', 1.6),\n",
       " ('Pablo Díez', 1.84),\n",
       " ('Karina Inche', 1.61)]"
      ]
     },
     "metadata": {},
     "execution_count": 150
    }
   ],
   "source": [
    "# La lista a usar del ejercicio 3 y 5. Recuerda añadir la tupla con tu información si no está. \n",
    "\n",
    "lista_nombres_alturas = [(\"Gabriel Vázquez\", 1.75),(\"Jonathan Abbondanza\",  1.70),(\"Nacho Fontal\", 1.82),(\"Javier Araiz\", 1.80),('Jonathan Suarez', 1.86),('Sonia Cobo', 1.73), ('Jorge García', 1.79), (\"Mary Meza\", 1.52), ('Leonardo Frazzetto', 1.75), (\"Nacho Astorga\",1.78),(\"José Carlos Batista\",1.70), (\"Isabel Palomares\", 1.78),(\"Marina Serrano\", 1.54), (\"Daniel Walker\", 1.87), (\"Clara Piniella\", 1.66), (\"Gina Garrido\", 1.63), (\"Adrià Gallardo\", 1.70), (\"María García-Maroto\", 1.64), (\"Susana Vázquez\",1.80), (\"Mauro Garcia-Oliva\", 1.77), (\"Juan Bayon\", 1.64), (\"Miguel Barquero\", 1.85), (\"Borja Puig\", 1.82), (\"Pablo Martínez\", 1.81), (\"Xinru Yang\", 1.60),(\"Pablo Díez\", 1.84),(\"Karina Inche\",1.61)]\n",
    "\n",
    "lista_nombres_alturas"
   ]
  },
  {
   "cell_type": "code",
   "execution_count": null,
   "metadata": {},
   "outputs": [],
   "source": []
  }
 ]
}