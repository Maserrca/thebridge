{
  "nbformat": 4,
  "nbformat_minor": 0,
  "metadata": {
    "kernelspec": {
      "name": "python374jvsc74a57bd0797ece2db6cd49410b212500b07c3b6429b528fb918ab6c0d0ffbc4c51c5b09e",
      "display_name": "Python 3.7.4 64-bit"
    },
    "language_info": {
      "codemirror_mode": {
        "name": "ipython",
        "version": 3
      },
      "file_extension": ".py",
      "mimetype": "text/x-python",
      "name": "python",
      "nbconvert_exporter": "python",
      "pygments_lexer": "ipython3",
      "version": "3.7.4"
    },
    "colab": {
      "name": "Repaso_rampup_RES.ipynb",
      "provenance": []
    },
    "metadata": {
      "interpreter": {
        "hash": "797ece2db6cd49410b212500b07c3b6429b528fb918ab6c0d0ffbc4c51c5b09e"
      }
    }
  },
  "cells": [
    {
      "cell_type": "markdown",
      "metadata": {
        "id": "sh5QJ2ffDLER"
      },
      "source": [
        "## 🐍 Ramp-up"
      ]
    },
    {
      "cell_type": "markdown",
      "metadata": {
        "id": "k1MNcUedDLEZ"
      },
      "source": [
        "#### Collections\n",
        "1. Create a tuple as follows (10,2,27,8)\n",
        "2. Get the lenght of the tuple\n",
        "3. Which type is it? And which type are the elements the tuple contains?\n",
        "4. Create a new tuple with any other 4 strings and concatenate all of them with the tuple you created before by position, creating a list called `words`.\n",
        "5. Make a list with the same elements in question 1. Find the element 27 and make it 37.\n",
        "6. Remove the number 8 from the list.\n",
        "7. Turn the list you made before into a set.\n",
        "8. Check if the element \"3\" is in that set.\n",
        "9. Sort the list you made in exercise 4 in descending order.\n",
        "10. Turn the list `words` into a dictionary. Split every string taking the number in the tuple (10,2,27,8) as the values and the rest as the keys.\n",
        "11. Sum up the values of the new dictionary.\n",
        "12. Sort the values of the dictionary in descending order and the keys in ascending order, then make a list of tuples with every couple of keys and values by position."
      ]
    },
    {
      "cell_type": "code",
      "metadata": {
        "id": "rVldw6qTDLEb"
      },
      "source": [
        "# 1\n",
        "tupli = (10,2,27,8)"
      ],
      "execution_count": null,
      "outputs": []
    },
    {
      "cell_type": "code",
      "metadata": {
        "id": "V4RTj8ZfDLEb",
        "outputId": "41f9b6dc-1afa-4e79-80e3-660732ffc8a7"
      },
      "source": [
        "# 2\n",
        "len(tupli)"
      ],
      "execution_count": null,
      "outputs": [
        {
          "output_type": "execute_result",
          "data": {
            "text/plain": [
              "4"
            ]
          },
          "metadata": {
            "tags": []
          },
          "execution_count": 2
        }
      ]
    },
    {
      "cell_type": "code",
      "metadata": {
        "id": "rxzP861ZDLEd",
        "outputId": "eea27833-cd81-40b3-9c56-212a8ca40665"
      },
      "source": [
        "# 3\n",
        "print(type(tupli))\n",
        "print()\n",
        "\n",
        "for elem in tupli:\n",
        "    print(f\"{elem} es de tipo {type(elem)}\")"
      ],
      "execution_count": null,
      "outputs": [
        {
          "output_type": "stream",
          "text": [
            "<class 'tuple'>\n",
            "\n",
            "10 es de tipo <class 'int'>\n",
            "2 es de tipo <class 'int'>\n",
            "27 es de tipo <class 'int'>\n",
            "8 es de tipo <class 'int'>\n"
          ],
          "name": "stdout"
        }
      ]
    },
    {
      "cell_type": "code",
      "metadata": {
        "id": "_tCeEZNnDLEd",
        "outputId": "5a8e6772-6069-4842-dc85-104339949ab5"
      },
      "source": [
        "# 4\n",
        "words = []\n",
        "tup = (\"a\", \"b\", \"c\", \"d\")\n",
        "\n",
        "for i, elem in enumerate(tupli):\n",
        "    words.append(tup[i] + str(elem))\n",
        "    \n",
        "words"
      ],
      "execution_count": null,
      "outputs": [
        {
          "output_type": "execute_result",
          "data": {
            "text/plain": [
              "['a10', 'b2', 'c27', 'd8']"
            ]
          },
          "metadata": {
            "tags": []
          },
          "execution_count": 8
        }
      ]
    },
    {
      "cell_type": "code",
      "metadata": {
        "id": "e0vDjA6dDLEe",
        "outputId": "2bc99b5e-0f29-4428-9638-dca192c9ab5e"
      },
      "source": [
        "# 5 \n",
        "lista = list(tupli)\n",
        "\n",
        "print(\"antes: \", lista)\n",
        "for i, e in enumerate(lista):\n",
        "    if e == 27:\n",
        "        lista[i] = 37\n",
        "\n",
        "print(\"despues: \", lista)"
      ],
      "execution_count": null,
      "outputs": [
        {
          "output_type": "stream",
          "text": [
            "antes:  [10, 2, 27, 8]\n",
            "despues:  [10, 2, 37, 8]\n"
          ],
          "name": "stdout"
        }
      ]
    },
    {
      "cell_type": "code",
      "metadata": {
        "id": "1deCE8N9DLEe"
      },
      "source": [
        "# 6\n",
        "\n",
        "lista.remove(8)"
      ],
      "execution_count": null,
      "outputs": []
    },
    {
      "cell_type": "code",
      "metadata": {
        "id": "9lQ-VjxkDLEf",
        "outputId": "2116407a-5acb-49ae-af9b-c5ad5f24cbcd"
      },
      "source": [
        "# 7\n",
        "seti = set(lista)\n",
        "seti"
      ],
      "execution_count": null,
      "outputs": [
        {
          "output_type": "execute_result",
          "data": {
            "text/plain": [
              "{2, 10, 37}"
            ]
          },
          "metadata": {
            "tags": []
          },
          "execution_count": 17
        }
      ]
    },
    {
      "cell_type": "code",
      "metadata": {
        "id": "RX_KRqvFDLEf",
        "outputId": "3d42b869-84ba-42e8-ce18-4892d2188772"
      },
      "source": [
        "# 8\n",
        "\"3\" in seti"
      ],
      "execution_count": null,
      "outputs": [
        {
          "output_type": "execute_result",
          "data": {
            "text/plain": [
              "False"
            ]
          },
          "metadata": {
            "tags": []
          },
          "execution_count": 18
        }
      ]
    },
    {
      "cell_type": "code",
      "metadata": {
        "id": "Bb3SQMKwDLEg",
        "outputId": "cde7caff-aa09-4d36-e7f0-e2330f4f72fe"
      },
      "source": [
        "# 9\n",
        "words.sort(reverse = True)\n",
        "words"
      ],
      "execution_count": null,
      "outputs": [
        {
          "output_type": "execute_result",
          "data": {
            "text/plain": [
              "['d8', 'c27', 'b2', 'a10']"
            ]
          },
          "metadata": {
            "tags": []
          },
          "execution_count": 22
        }
      ]
    },
    {
      "cell_type": "code",
      "metadata": {
        "id": "KOeEYg3eDLEg",
        "outputId": "58f4888a-647b-441e-d4fe-fdaab057028b"
      },
      "source": [
        "# 10\n",
        "dictionary = {}\n",
        "\n",
        "for e in words:\n",
        "    dic_key = \"\"\n",
        "    dic_val = \"\"\n",
        "    for letra in e:\n",
        "        if letra.isnumeric():\n",
        "            dic_val += letra\n",
        "        else:\n",
        "            dic_key += letra\n",
        "    dictionary[dic_key] = int(dic_val)\n",
        "\n",
        "dictionary"
      ],
      "execution_count": null,
      "outputs": [
        {
          "output_type": "execute_result",
          "data": {
            "text/plain": [
              "{'d': 8, 'c': 27, 'b': 2, 'a': 10}"
            ]
          },
          "metadata": {
            "tags": []
          },
          "execution_count": 26
        }
      ]
    },
    {
      "cell_type": "code",
      "metadata": {
        "id": "haCN_w0hDLEh",
        "outputId": "1ec76eeb-4903-4507-fa68-7f369f27709a"
      },
      "source": [
        "# 11\n",
        "cont = 0\n",
        "for e in dictionary.values():\n",
        "    cont += e\n",
        "    \n",
        "cont"
      ],
      "execution_count": null,
      "outputs": [
        {
          "output_type": "execute_result",
          "data": {
            "text/plain": [
              "47"
            ]
          },
          "metadata": {
            "tags": []
          },
          "execution_count": 27
        }
      ]
    },
    {
      "cell_type": "code",
      "metadata": {
        "id": "0qZH5V7LDLEh",
        "outputId": "1834563e-ba7c-4b44-edb4-7c345b8b495f"
      },
      "source": [
        "# 12\n",
        "lista1 = []\n",
        "lista2 = []\n",
        "for k,v in dictionary.items():\n",
        "    lista1.append(k)\n",
        "    lista2.append(v)\n",
        "lista1.sort()\n",
        "lista2.sort(reverse = True)\n",
        "\n",
        "tuplas = []\n",
        "for i,e in enumerate(lista1):\n",
        "    tuplas.append((e, lista2[i]))\n",
        "    \n",
        "tuplas"
      ],
      "execution_count": null,
      "outputs": [
        {
          "output_type": "execute_result",
          "data": {
            "text/plain": [
              "[('a', 27), ('b', 10), ('c', 8), ('d', 2)]"
            ]
          },
          "metadata": {
            "tags": []
          },
          "execution_count": 34
        }
      ]
    },
    {
      "cell_type": "markdown",
      "metadata": {
        "id": "x_3FYZ_sDLEh"
      },
      "source": [
        "#### Dictionaries\n",
        "\n",
        "1. Make a dictionary containing three major rivers and the country each river runs through. One key-value pair might be 'nile': 'egypt'.\n",
        "\n",
        "    - Use a loop to print a sentence about each river, such as The Nile runs through Egypt.\n",
        "    - Use a loop to print the name of each river included in the dictionary.\n",
        "    - Use a loop to print the name of each country included in the dictionary."
      ]
    },
    {
      "cell_type": "code",
      "metadata": {
        "id": "koyj75LXDLEi",
        "outputId": "41dbb242-cad8-46ca-8cf5-a63e1f73fc27"
      },
      "source": [
        "rivers = {\n",
        "    'nile': 'egypt',\n",
        "    'mississippi': 'united states',\n",
        "    'fraser': 'canada',\n",
        "    'kuskokwim': 'alaska',\n",
        "    'yangtze': 'china',\n",
        "    }\n",
        "\n",
        "for river, country in rivers.items():\n",
        "    print(f\"The {river.title()} flows through {country.title()}.\")\n",
        "\n",
        "print(\"\\nThe following rivers are included in this data set:\")\n",
        "for river in rivers.keys():\n",
        "    print(f\"- {river.title()}\")\n",
        "\n",
        "print(\"\\nThe following countries are included in this data set:\")\n",
        "for country in rivers.values():\n",
        "    print(f\"- {country.title()}\")"
      ],
      "execution_count": null,
      "outputs": [
        {
          "output_type": "stream",
          "text": [
            "The Nile flows through Egypt.\n",
            "The Mississippi flows through United States.\n",
            "The Fraser flows through Canada.\n",
            "The Kuskokwim flows through Alaska.\n",
            "The Yangtze flows through China.\n",
            "\n",
            "The following rivers are included in this data set:\n",
            "- Nile\n",
            "- Mississippi\n",
            "- Fraser\n",
            "- Kuskokwim\n",
            "- Yangtze\n",
            "\n",
            "The following countries are included in this data set:\n",
            "- Egypt\n",
            "- United States\n",
            "- Canada\n",
            "- Alaska\n",
            "- China\n"
          ],
          "name": "stdout"
        }
      ]
    },
    {
      "cell_type": "markdown",
      "metadata": {
        "id": "lWL2RdQ5DLEi"
      },
      "source": [
        "2. Use the provided dictionary that shows some coders and their favoites languages.\n",
        "```Python\n",
        "favorite_languages = {\n",
        "    'jen': 'python',\n",
        "    'sarah': 'c',\n",
        "    'edward': 'ruby',\n",
        "    'phil': 'python',\n",
        "    }\n",
        "```\n",
        "\n",
        "    - Make a list of people who should take the favorite languages poll. Include some names that are already in the dictionary and some that are not.\n",
        "    - Loop through the list of people who should take the poll. If they have already taken the poll, print a message thanking them for responding. If they have not yet taken the poll, print a message inviting them to take the poll."
      ]
    },
    {
      "cell_type": "code",
      "metadata": {
        "id": "4WeWjSPXDLEj"
      },
      "source": [
        "favorite_languages = {\n",
        "    'jen': 'python',\n",
        "    'sarah': 'c',\n",
        "    'edward': 'ruby',\n",
        "    'phil': 'python',\n",
        "    }\n",
        "\n",
        "# your code here\n",
        "\n",
        "for name, language in favorite_languages.items():\n",
        "    print(name.title() + \"'s favorite language is \" +\n",
        "        language.title() + \".\")\n",
        "\n",
        "print(\"\\n\")\n",
        "\n",
        "coders = ['phil', 'josh', 'david', 'becca', 'sarah', 'matt', 'danielle']\n",
        "for coder in coders:\n",
        "    if coder in favorite_languages.keys():\n",
        "        print(\"Thank you for taking the poll, \" + coder.title() + \"!\")\n",
        "    else:\n",
        "        print(coder.title() + \", what's your favorite programming language?\")"
      ],
      "execution_count": 1,
      "outputs": [
        {
          "output_type": "stream",
          "name": "stdout",
          "text": [
            "Jen's favorite language is Python.\nSarah's favorite language is C.\nEdward's favorite language is Ruby.\nPhil's favorite language is Python.\n\n\nThank you for taking the poll, Phil!\nJosh, what's your favorite programming language?\nDavid, what's your favorite programming language?\nBecca, what's your favorite programming language?\nThank you for taking the poll, Sarah!\nMatt, what's your favorite programming language?\nDanielle, what's your favorite programming language?\n"
          ]
        }
      ]
    },
    {
      "cell_type": "markdown",
      "metadata": {
        "id": "da9xTnpzDLEj"
      },
      "source": [
        "3. Make a dictionary called cities. Use the names of three cities as keys in your dictionary. Create a dictionary of information about each city and include the country that the city is in, its approximate population, and one fact about that city. The keys for each city’s dictionary should be something like country, population, and fact. Print the name of each city and all of the information you have stored about it."
      ]
    },
    {
      "cell_type": "code",
      "metadata": {
        "id": "wWbWYyWwDLEk",
        "outputId": "7eda3c42-cf67-4e5b-9ff1-cf3c46b8242d"
      },
      "source": [
        "cities = {\n",
        "    'santiago': {\n",
        "        'country': 'chile',\n",
        "        'population': 6_310_000,\n",
        "        'nearby mountains': 'andes',\n",
        "        },\n",
        "    'talkeetna': {\n",
        "        'country': 'united states',\n",
        "        'population': 876,\n",
        "        'nearby mountains': 'alaska range',\n",
        "        },\n",
        "    'kathmandu': {\n",
        "        'country': 'nepal',\n",
        "        'population': 975_453,\n",
        "        'nearby mountains': 'himilaya',\n",
        "        }\n",
        "    }\n",
        "\n",
        "for city, city_info in cities.items():\n",
        "    country = city_info['country'].title()\n",
        "    population = city_info['population']\n",
        "    mountains = city_info['nearby mountains'].title()\n",
        "\n",
        "    print(f\"\\n{city.title()} is in {country}.\")\n",
        "    print(f\"  It has a population of about {population}.\")\n",
        "    print(f\"  The {mountains} mounats are nearby.\")\n"
      ],
      "execution_count": null,
      "outputs": [
        {
          "output_type": "stream",
          "text": [
            "\n",
            "Santiago is in Chile.\n",
            "  It has a population of about 6310000.\n",
            "  The Andes mounats are nearby.\n",
            "\n",
            "Talkeetna is in United States.\n",
            "  It has a population of about 876.\n",
            "  The Alaska Range mounats are nearby.\n",
            "\n",
            "Kathmandu is in Nepal.\n",
            "  It has a population of about 975453.\n",
            "  The Himilaya mounats are nearby.\n"
          ],
          "name": "stdout"
        }
      ]
    },
    {
      "cell_type": "markdown",
      "metadata": {
        "id": "Bl_sfZwjDLEl"
      },
      "source": [
        "**for loop**\n",
        "1. This is a fruit list, ['banana', 'orange', 'mango', 'lemon'] reverse the order using a for loop.\n"
      ]
    },
    {
      "cell_type": "code",
      "metadata": {
        "id": "11FzRaaIDLEl",
        "outputId": "76fe6a48-ab8f-4071-cbe1-7eda3af4b33b"
      },
      "source": [
        "frutas = ['banana', 'orange', 'mango', 'lemon']\n",
        "\n",
        "for i in range(len(frutas)-1, -1, -1): #start, stop, step\n",
        "    frutas.append(frutas[i])\n",
        "    frutas.remove(frutas[i])\n",
        "    \n",
        "frutas"
      ],
      "execution_count": null,
      "outputs": [
        {
          "output_type": "execute_result",
          "data": {
            "text/plain": [
              "['lemon', 'mango', 'orange', 'banana']"
            ]
          },
          "metadata": {
            "tags": []
          },
          "execution_count": 21
        }
      ]
    },
    {
      "cell_type": "markdown",
      "metadata": {
        "id": "HP9nbteHDLEl"
      },
      "source": [
        "2. Write a Python program to create the multiplication table (from 1 to 10) of a number.\n",
        "```python\n",
        "Input a number: 5                                                                                             \n",
        "5 x 1 = 5                                                                                                     \n",
        "5 x 2 = 10                                                                                                    \n",
        "5 x 3 = 15                                                                                                    \n",
        "5 x 4 = 20                                                                                                    \n",
        "5 x 5 = 25                                                                                                    \n",
        "5 x 6 = 30                                                                                                    \n",
        "5 x 7 = 35                                                                                                    \n",
        "5 x 8 = 40                                                                                                    \n",
        "5 x 9 = 45                                                                                                    \n",
        "5 x 10 = 50\n",
        "```"
      ]
    },
    {
      "cell_type": "code",
      "metadata": {
        "id": "PE6oWS1-DLEm",
        "outputId": "20b69546-3d3d-451d-aa57-dc4f7cac12b3"
      },
      "source": [
        "n = int(input(\"Input a number: \"))\n",
        "\n",
        "for i in range(1,11):\n",
        "    print(n,'x',i,'=',n*i)"
      ],
      "execution_count": null,
      "outputs": [
        {
          "output_type": "stream",
          "text": [
            "Input a number: 5\n",
            "5 x 1 = 5\n",
            "5 x 2 = 10\n",
            "5 x 3 = 15\n",
            "5 x 4 = 20\n",
            "5 x 5 = 25\n",
            "5 x 6 = 30\n",
            "5 x 7 = 35\n",
            "5 x 8 = 40\n",
            "5 x 9 = 45\n",
            "5 x 10 = 50\n"
          ],
          "name": "stdout"
        }
      ]
    },
    {
      "cell_type": "markdown",
      "metadata": {
        "id": "JNALVdHLDLEm"
      },
      "source": [
        "3. Write a Python program which iterates the integers from 1 to 50. For multiples of three print \"Fizz\" instead of the number and for the multiples of five print \"Buzz\". For numbers which are multiples of both three and five print \"FizzBuzz\".\n",
        "```python\n",
        "Sample Output :\n",
        "fizzbuzz\n",
        "1\n",
        "2\n",
        "fizz\n",
        "4\n",
        "buzz\n",
        "```"
      ]
    },
    {
      "cell_type": "code",
      "metadata": {
        "id": "M8VZEY8yDLEm",
        "outputId": "75ccebae-63bc-45a1-8b16-4b3b1b63f27a"
      },
      "source": [
        "for fizzbuzz in range(51):\n",
        "    if fizzbuzz % 3 == 0 and fizzbuzz % 5 == 0:\n",
        "        print(\"fizzbuzz\")\n",
        "        continue\n",
        "    elif fizzbuzz % 3 == 0:\n",
        "        print(\"fizz\")\n",
        "        continue\n",
        "    elif fizzbuzz % 5 == 0:\n",
        "        print(\"buzz\")\n",
        "        continue\n",
        "    print(fizzbuzz)"
      ],
      "execution_count": null,
      "outputs": [
        {
          "output_type": "stream",
          "text": [
            "fizzbuzz\n",
            "1\n",
            "2\n",
            "fizz\n",
            "4\n",
            "buzz\n",
            "fizz\n",
            "7\n",
            "8\n",
            "fizz\n",
            "buzz\n",
            "11\n",
            "fizz\n",
            "13\n",
            "14\n",
            "fizzbuzz\n",
            "16\n",
            "17\n",
            "fizz\n",
            "19\n",
            "buzz\n",
            "fizz\n",
            "22\n",
            "23\n",
            "fizz\n",
            "buzz\n",
            "26\n",
            "fizz\n",
            "28\n",
            "29\n",
            "fizzbuzz\n",
            "31\n",
            "32\n",
            "fizz\n",
            "34\n",
            "buzz\n",
            "fizz\n",
            "37\n",
            "38\n",
            "fizz\n",
            "buzz\n",
            "41\n",
            "fizz\n",
            "43\n",
            "44\n",
            "fizzbuzz\n",
            "46\n",
            "47\n",
            "fizz\n",
            "49\n",
            "buzz\n"
          ],
          "name": "stdout"
        }
      ]
    },
    {
      "cell_type": "markdown",
      "metadata": {
        "id": "pRp2nNOwDLEn"
      },
      "source": [
        "**functions**\n",
        "\n",
        "1. Write a Python function to check whether a string is a pangram or not. \n",
        "\n",
        "Note : Pangrams are words or sentences containing every letter of the alphabet at least once.\n",
        "    \n",
        "For example : `\"The quick brown fox jumps over the lazy dog\"`"
      ]
    },
    {
      "cell_type": "code",
      "metadata": {
        "id": "zMtvUWfMDLEn",
        "outputId": "03d52e63-a787-42fa-9047-82e99cf6d842"
      },
      "source": [
        "def ispangram(str1, alphabet= 'abcdefghijklmnopqrstuvwxyz'):\n",
        "    alphaset = set(alphabet)\n",
        "    return alphaset <= set(str1.lower())\n",
        " \n",
        "print(ispangram('The quick brown fox jumps over the lazy dog')) "
      ],
      "execution_count": null,
      "outputs": [
        {
          "output_type": "stream",
          "text": [
            "True\n"
          ],
          "name": "stdout"
        }
      ]
    },
    {
      "cell_type": "markdown",
      "metadata": {
        "id": "dXY3US3ZDLEn"
      },
      "source": [
        "2. Write a Python program to count the number of even and odd numbers from a series of numbers. \n",
        "\n",
        "```python\n",
        "Sample numbers: numbers = (1, 2, 3, 4, 5, 6, 7, 8, 9) \n",
        "    \n",
        "Expected Output:\n",
        "Number of even numbers: 5\n",
        "Number of odd numbers: 4\n",
        "```"
      ]
    },
    {
      "cell_type": "code",
      "metadata": {
        "id": "LGUBJ1M6DLEn"
      },
      "source": [
        "def count_even(numbers):\n",
        "    even, odd = 0, 0\n",
        "    for num in numbers:\n",
        "        if num%2!=0:\n",
        "            even += 1\n",
        "        else:\n",
        "            odd += 1\n",
        "    return even, odd\n",
        "\n",
        "even, odd = count_even((1, 2, 3, 4, 5, 6, 7, 8, 9))"
      ],
      "execution_count": null,
      "outputs": []
    },
    {
      "cell_type": "code",
      "metadata": {
        "id": "bU5blwo-DLEo",
        "outputId": "1841c7a2-2e7a-4f7d-83db-c6db5805801f"
      },
      "source": [
        "print(f\"Number of even numbers: {even}\\nNumber of odd numbers: {odd}\")"
      ],
      "execution_count": null,
      "outputs": [
        {
          "output_type": "stream",
          "text": [
            "Number of even numbers: 5\n",
            "Number of odd numbers: 4\n"
          ],
          "name": "stdout"
        }
      ]
    },
    {
      "cell_type": "markdown",
      "metadata": {
        "id": "Fiu7Ldk7DLEo"
      },
      "source": [
        "#### functions & while loop\n",
        "1. Write a program which keeps asking for numbers till the user writes 9999. In that case, the program returns the concatenation of every number as a string.\n"
      ]
    },
    {
      "cell_type": "code",
      "metadata": {
        "id": "XQ4FqKeMDLEo",
        "outputId": "5237b298-ea23-4382-ce45-bab0ff60e8a3"
      },
      "source": [
        "num = None\n",
        "suma = ''\n",
        "\n",
        "while num != '9999':\n",
        "    num = input(\"Intruce un numero --> \")\n",
        "    if num != '9999':\n",
        "        suma += num\n",
        "        \n",
        "print(\"El concatenado ha sido\", suma)"
      ],
      "execution_count": null,
      "outputs": [
        {
          "output_type": "stream",
          "text": [
            "Intruce un numero --> 1\n",
            "Intruce un numero --> 2\n",
            "Intruce un numero --> 3\n",
            "Intruce un numero --> 4\n",
            "Intruce un numero --> 67\n",
            "Intruce un numero --> 9999\n",
            "El concatenado ha sido 123467\n"
          ],
          "name": "stdout"
        }
      ]
    },
    {
      "cell_type": "markdown",
      "metadata": {
        "id": "88p_Xe8PDLEp"
      },
      "source": [
        "2. Writes a function that asks a user for a pin code till they get it right... If they give a wrong answer three times the function returns \"Your bank account has been blocked\", otherwise, returns: \"You got it right! You get full access to your money\".\n"
      ]
    },
    {
      "cell_type": "code",
      "metadata": {
        "id": "S-r7QVzKDLEp",
        "outputId": "74f2306e-5308-4c9e-b33e-de221615b9aa"
      },
      "source": [
        "def codigo_pin():\n",
        "    pin = 1234\n",
        "    intentos = 0\n",
        "    while intentos < 3:\n",
        "        codigo = int(input(\"Introduzca el codigo pin: \"))\n",
        "        if codigo == pin:\n",
        "            return \"You got it right! You get full access to your money!\"\n",
        "        else:\n",
        "            intentos += 1\n",
        "    return \"Your bank account has been blocked\"\n",
        "\n",
        "codigo_pin() "
      ],
      "execution_count": null,
      "outputs": [
        {
          "output_type": "stream",
          "text": [
            "Introduzca el codigo pin: 1235\n",
            "Introduzca el codigo pin: 2222\n",
            "Introduzca el codigo pin: 1236\n"
          ],
          "name": "stdout"
        },
        {
          "output_type": "execute_result",
          "data": {
            "text/plain": [
              "'Your bank account has been blocked'"
            ]
          },
          "metadata": {
            "tags": []
          },
          "execution_count": 35
        }
      ]
    },
    {
      "cell_type": "markdown",
      "metadata": {
        "id": "2h6LIn6lDLEp"
      },
      "source": [
        "#### functions & for loop\n",
        "\n",
        "1. Write a function that takes in a person's name, and prints out a greeting.\n",
        "    - The greeting must be at least three lines, and the person's name must be in each line.\n",
        "    - Use your function to greet at least three different people.\n",
        "    - Store your three people in a list, and call your function from a for loop."
      ]
    },
    {
      "cell_type": "code",
      "metadata": {
        "id": "xMIqkIUvDLEp",
        "outputId": "12616213-42cc-4db7-8fcb-a5993f3bdac2"
      },
      "source": [
        "def say_hi(name):\n",
        "    print(f\"Hola {name}\\n¿qué tal estás {name}?\\nyo feliz de verte, {name}.\")\n",
        "\n",
        "nombres = [\"Pepe\", \"Juan\", \"Elena\"]\n",
        "\n",
        "for e in nombres:\n",
        "    say_hi(e)\n",
        "    print()"
      ],
      "execution_count": null,
      "outputs": [
        {
          "output_type": "stream",
          "text": [
            "Hola Pepe\n",
            "¿qué tal estás Pepe?\n",
            "yo feliz de verte, Pepe.\n",
            "\n",
            "Hola Juan\n",
            "¿qué tal estás Juan?\n",
            "yo feliz de verte, Juan.\n",
            "\n",
            "Hola Elena\n",
            "¿qué tal estás Elena?\n",
            "yo feliz de verte, Elena.\n",
            "\n"
          ],
          "name": "stdout"
        }
      ]
    },
    {
      "cell_type": "markdown",
      "metadata": {
        "id": "EcJD1PvPDLEq"
      },
      "source": [
        "2. Make a list that includes 3 or 4 games that you like to play and print a statement that tells the user what games you like.\n",
        "    - Write a function that asks the user to tell you a game they like, and store the game in a variable such as `new_game`. \n",
        "    - If the user mentions one game you like to play, send a message asking to play together.\n",
        "    - Otherwise ask for another game name. If the user tries your program 3 times and doesn't give a game name you like, then ask them to find another friend."
      ]
    },
    {
      "cell_type": "code",
      "metadata": {
        "id": "2hwf8jeyDLEq",
        "outputId": "49b11ab9-7402-4621-ca5d-61aac31924fc"
      },
      "source": [
        "games = [\"sushi go\", \"dobble\", \"dixit\"]\n",
        "\n",
        "def are_we_friends(games_list):\n",
        "    tries = 3\n",
        "    for tri in range(3):\n",
        "        if tries == 0:\n",
        "            break\n",
        "        new_game = input(\"¿A qué juego te gusta jugar? \").lower()\n",
        "        if new_game in games_list:\n",
        "            return f\"Podemos ser amigos y jugar a {new_game} juntos\"\n",
        "        tries -=1\n",
        "    return f\"Buscate otro amigo\"\n",
        "\n",
        "are_we_friends(games)"
      ],
      "execution_count": null,
      "outputs": [
        {
          "output_type": "stream",
          "text": [
            "¿A qué juego te gusta jugar? risk\n",
            "¿A qué juego te gusta jugar? doooble\n",
            "¿A qué juego te gusta jugar? sushigo\n"
          ],
          "name": "stdout"
        },
        {
          "output_type": "execute_result",
          "data": {
            "text/plain": [
              "'Buscate otro amigo'"
            ]
          },
          "metadata": {
            "tags": []
          },
          "execution_count": 43
        }
      ]
    },
    {
      "cell_type": "code",
      "metadata": {
        "id": "LqsgOjm0DLEq",
        "outputId": "52ff9432-d62f-48aa-b518-b99f620d6287"
      },
      "source": [
        "are_we_friends(games)"
      ],
      "execution_count": null,
      "outputs": [
        {
          "output_type": "stream",
          "text": [
            "¿A qué juego te gusta jugar? risk\n",
            "¿A qué juego te gusta jugar? sushi go\n"
          ],
          "name": "stdout"
        },
        {
          "output_type": "execute_result",
          "data": {
            "text/plain": [
              "'Podemos ser amigos y jugar a sushi go juntos'"
            ]
          },
          "metadata": {
            "tags": []
          },
          "execution_count": 44
        }
      ]
    },
    {
      "cell_type": "markdown",
      "metadata": {
        "id": "q6F5oA0mDLEq"
      },
      "source": [
        "#### write a mini-program\n",
        "**Three is a Crowd**\n",
        "- Make a list of names that includes at least four people.\n",
        "- Write an if test that prints a message about the room being crowded, if there are more than three people in your list.\n",
        "- Modify your list so that there are only two people in it. Use one of the methods for removing people from the list, don't just redefine the list.\n",
        "- Run your if test again. There should be no output this time, because there are less than three people in the list.\n",
        "- Store your if test in a function called something like `crowd_test`.\n",
        "\n"
      ]
    },
    {
      "cell_type": "code",
      "metadata": {
        "id": "F0GlF_f6DLEr",
        "outputId": "b1dd047d-b459-4cd8-835c-f709e8ba9c69"
      },
      "source": [
        "nombres = [\"Pepe\", \"Juan\", \"Elena\", \"Antonia\"]\n",
        "\n",
        "if len(nombres) >= 3:\n",
        "    print('The room is too crowded.')"
      ],
      "execution_count": null,
      "outputs": [
        {
          "output_type": "stream",
          "text": [
            "The room is too crowded.\n"
          ],
          "name": "stdout"
        }
      ]
    },
    {
      "cell_type": "code",
      "metadata": {
        "id": "luaux4zLDLEr"
      },
      "source": [
        "fuera = [\"Pepe\", \"Juan\"]\n",
        "\n",
        "for fu in fuera:\n",
        "    nombres.remove(fu)\n",
        "    \n",
        "if len(nombres) >= 3:\n",
        "    print('The room is too crowded.')"
      ],
      "execution_count": null,
      "outputs": []
    },
    {
      "cell_type": "code",
      "metadata": {
        "id": "fSRU5fRODLEr"
      },
      "source": [
        "def crowd_test(lista):\n",
        "    if len(lista) >= 3:\n",
        "        print('The room is too crowded.')"
      ],
      "execution_count": null,
      "outputs": []
    },
    {
      "cell_type": "markdown",
      "metadata": {
        "id": "04HhzOnPDLEr"
      },
      "source": [
        "**Three is a Crowd - Part 2**\n",
        "- Save your program from *Three is a Crowd* under a new name.\n",
        "- Add an `else` statement to your if tests. If the `else` statement is run, have it print a message that the room is not very crowded.\n"
      ]
    },
    {
      "cell_type": "code",
      "metadata": {
        "id": "B5PkE9fDDLEr"
      },
      "source": [
        "def crowd_test_2(lista):\n",
        "    if len(lista) >= 3:\n",
        "        print('The room is too crowded.')\n",
        "    else:\n",
        "        print('The room is not very crowded.')"
      ],
      "execution_count": null,
      "outputs": []
    },
    {
      "cell_type": "code",
      "metadata": {
        "id": "0BydP_WPDLEs",
        "outputId": "2836242e-730e-4056-fa6d-18874e26787e"
      },
      "source": [
        "crowd_test_2(nombres)"
      ],
      "execution_count": null,
      "outputs": [
        {
          "output_type": "stream",
          "text": [
            "The room is too crowded.\n"
          ],
          "name": "stdout"
        }
      ]
    },
    {
      "cell_type": "markdown",
      "metadata": {
        "id": "pbcIVcAyDLEs"
      },
      "source": [
        "\n",
        "**Six is a Mob**\n",
        "- Save your program from *Three is a Crowd - Part 2* under a new name.\n",
        "- Add some names to your list, so that there are at least six people in the list.\n",
        "- Modify your tests so that\n",
        "    - If there are more than 5 people, a message is printed about there being a mob in the room.\n",
        "    - If there are 3-5 people, a message is printed about the room being crowded.\n",
        "    - If there are 1 or 2 people, a message is printed about the room not being crowded.\n",
        "    - If there are no people in the room, a message is printed abou the room being empty."
      ]
    },
    {
      "cell_type": "code",
      "metadata": {
        "id": "_5S3eMzdDLEs",
        "outputId": "1692c712-cb63-4584-dce2-cbfb471fcecd"
      },
      "source": [
        "new_friends = [\"Maria\", \"Carlota\"]\n",
        "\n",
        "for friend in new_friends:\n",
        "    nombres.append(friend)\n",
        "\n",
        "nombres"
      ],
      "execution_count": null,
      "outputs": [
        {
          "output_type": "execute_result",
          "data": {
            "text/plain": [
              "['Pepe', 'Juan', 'Elena', 'Antonia', 'Maria', 'Carlota']"
            ]
          },
          "metadata": {
            "tags": []
          },
          "execution_count": 62
        }
      ]
    },
    {
      "cell_type": "code",
      "metadata": {
        "id": "ik23qcJ-DLEs",
        "outputId": "721197bb-a761-4a7c-d34c-7abbbd6e6240"
      },
      "source": [
        "def crowd_test_3(lista):\n",
        "    if len(lista) > 5:\n",
        "        return 'There is a mob in the room.'\n",
        "    elif len(lista) >= 3:\n",
        "        print('The room is too crowded.')\n",
        "    elif len(lista) > 0:\n",
        "        print('The room is not very crowded.')\n",
        "    else:\n",
        "        return 'The room is empty'\n",
        "        \n",
        "crowd_test_3(nombres)"
      ],
      "execution_count": null,
      "outputs": [
        {
          "output_type": "execute_result",
          "data": {
            "text/plain": [
              "'There is a mob in the room.'"
            ]
          },
          "metadata": {
            "tags": []
          },
          "execution_count": 63
        }
      ]
    }
  ]
}