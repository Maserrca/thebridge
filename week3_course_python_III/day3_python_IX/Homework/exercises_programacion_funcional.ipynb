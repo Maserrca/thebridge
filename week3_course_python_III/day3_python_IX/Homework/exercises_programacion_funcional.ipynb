{
  "nbformat": 4,
  "nbformat_minor": 0,
  "metadata": {
    "kernelspec": {
      "name": "python374jvsc74a57bd0797ece2db6cd49410b212500b07c3b6429b528fb918ab6c0d0ffbc4c51c5b09e",
      "display_name": "Python 3.7.4 64-bit"
    },
    "language_info": {
      "codemirror_mode": {
        "name": "ipython",
        "version": 3
      },
      "file_extension": ".py",
      "mimetype": "text/x-python",
      "name": "python",
      "nbconvert_exporter": "python",
      "pygments_lexer": "ipython3",
      "version": "3.7.4"
    },
    "colab": {
      "name": "exercises_programacion_funcional.ipynb",
      "provenance": []
    },
    "metadata": {
      "interpreter": {
        "hash": "797ece2db6cd49410b212500b07c3b6429b528fb918ab6c0d0ffbc4c51c5b09e"
      }
    }
  },
  "cells": [
    {
      "cell_type": "markdown",
      "metadata": {
        "id": "cVDQ1QtgxUSe"
      },
      "source": [
        "# Python | Programación funcional\n",
        "\n",
        "### Ejercicio 1.\n",
        "\n",
        "1. Utiliza `reduce` para concatenar estas palabras en una frase\n",
        "```Python\n",
        "ejer_1 = (\"to\", \"be\", \"or\", \"not\", \"to\", \"be\", \"that\", \"is\", \"the\", \"question\")\n",
        "```"
      ]
    },
    {
      "cell_type": "code",
      "metadata": {
        "id": "d9UuA7fWxUSk"
      },
      "source": [
        "from functools import reduce\n",
        "ejer_1 = (\"to\", \"be\", \"or\", \"not\", \"to\", \"be\", \"that\", \"is\", \"the\", \"question\")\n",
        "reduce(lambda x,y: x + \" \" + y , ejer_1)"
      ],
      "execution_count": 18,
      "outputs": [
        {
          "output_type": "execute_result",
          "data": {
            "text/plain": [
              "'to be or not to be that is the question'"
            ]
          },
          "metadata": {},
          "execution_count": 18
        }
      ]
    },
    {
      "cell_type": "markdown",
      "metadata": {
        "id": "MMWoeFRGxUSl"
      },
      "source": [
        "2. Obtén una nueva tupla con el cuadrado de cada elemento de la siguiente tupla\n",
        "\n",
        "```Python\n",
        "ejer_2 = (1,2,3,4,5)\n",
        "```"
      ]
    },
    {
      "cell_type": "code",
      "metadata": {
        "id": "HGz6KBMLxUSm"
      },
      "source": [
        "ejer_2 = (1,2,3,4,5)\n",
        "import math\n",
        "squares = tuple(map(lambda x: x**2 , ejer_2))\n",
        "squares"
      ],
      "execution_count": 19,
      "outputs": [
        {
          "output_type": "execute_result",
          "data": {
            "text/plain": [
              "(1, 4, 9, 16, 25)"
            ]
          },
          "metadata": {},
          "execution_count": 19
        }
      ]
    },
    {
      "cell_type": "markdown",
      "metadata": {
        "id": "VAzyoeOBxUSm"
      },
      "source": [
        "3. Filtra aquellos elementos que sean multiplos de 3 o de 5\n",
        "```Python\n",
        "ejer_3 = (1,2,3,4,5,15,21,22,33,34,35)\n",
        "```"
      ]
    },
    {
      "cell_type": "code",
      "metadata": {
        "id": "ICrS5iEXxUSm"
      },
      "source": [
        "ejer_3 = (1,2,3,4,5,15,21,22,33,34,35)\n",
        "list(filter(lambda x: x % 3 == 0 or x % 5 == 0, ejer_3))"
      ],
      "execution_count": 20,
      "outputs": [
        {
          "output_type": "execute_result",
          "data": {
            "text/plain": [
              "[3, 5, 15, 21, 33, 35]"
            ]
          },
          "metadata": {},
          "execution_count": 20
        }
      ]
    },
    {
      "cell_type": "markdown",
      "metadata": {
        "id": "60BEKsm7xUSo"
      },
      "source": [
        "4. Convierte la siguiente tupla de pesetas a euros\n",
        "```Python\n",
        "ejer_4 = (1000, 8000, 20000000, 40000000)\n",
        "```"
      ]
    },
    {
      "cell_type": "code",
      "metadata": {
        "id": "hKkfHzWLxUSp"
      },
      "source": [
        "0.006\n",
        "ejer_4 = (1000, 8000, 20000000, 40000000)\n",
        "euros = tuple(map(lambda peseta: str(round(peseta * 0.006)) + \"€\", ejer_4))\n",
        "euros"
      ],
      "execution_count": 21,
      "outputs": [
        {
          "output_type": "execute_result",
          "data": {
            "text/plain": [
              "('6€', '48€', '120000€', '240000€')"
            ]
          },
          "metadata": {},
          "execution_count": 21
        }
      ]
    },
    {
      "cell_type": "markdown",
      "metadata": {
        "id": "CMshWQ3-xUSp"
      },
      "source": [
        "5. Convierte la siguiente lista de desconocidos a mayusculas\n",
        "```Python\n",
        "ejer_5 = (\"Arya\", \"John\", \"Robb\", \"Bran\", \"Sansa\", \"Rickon\")\n",
        "```"
      ]
    },
    {
      "cell_type": "code",
      "metadata": {
        "id": "qKuNJmTRxUSp"
      },
      "source": [
        "ejer_5 = (\"Arya\", \"John\", \"Robb\", \"Bran\", \"Sansa\", \"Rickon\")\n",
        "mayus = list(map(lambda x: x.upper(), ejer_5))\n",
        "mayus"
      ],
      "execution_count": 22,
      "outputs": [
        {
          "output_type": "execute_result",
          "data": {
            "text/plain": [
              "['ARYA', 'JOHN', 'ROBB', 'BRAN', 'SANSA', 'RICKON']"
            ]
          },
          "metadata": {},
          "execution_count": 22
        }
      ]
    },
    {
      "cell_type": "markdown",
      "metadata": {
        "id": "ENK00C2qxUSp"
      },
      "source": [
        "6. Realiza un conversor de dias de la semana en texto a numerico (1-7), usando `map`.\n",
        "```Python\n",
        "ejer_6 = (\"Lunes\", \"Martes\", \"Miércoles\", \"Jueves\", \"Viernes\", \"Sábado\", \"Domingo\")\n",
        "```"
      ]
    },
    {
      "cell_type": "code",
      "metadata": {
        "id": "75OaVDlYxUSq"
      },
      "source": [
        "ejer_6 = (\"Lunes\", \"Martes\", \"Miércoles\", \"Jueves\", \"Viernes\", \"Sábado\", \"Domingo\")\n",
        "conversor = list(map(lambda x: ejer_6.index(x)+1, ejer_6))\n",
        "conversor"
      ],
      "execution_count": 23,
      "outputs": [
        {
          "output_type": "execute_result",
          "data": {
            "text/plain": [
              "[1, 2, 3, 4, 5, 6, 7]"
            ]
          },
          "metadata": {},
          "execution_count": 23
        }
      ]
    },
    {
      "cell_type": "code",
      "execution_count": 24,
      "metadata": {},
      "outputs": [
        {
          "output_type": "execute_result",
          "data": {
            "text/plain": [
              "[1, 2, 3, 4, 5, 6, 7]"
            ]
          },
          "metadata": {},
          "execution_count": 24
        }
      ],
      "source": [
        "ejer_6 = (\"Lunes\", \"Martes\", \"Miércoles\", \"Jueves\", \"Viernes\", \"Sábado\", \"Domingo\")\n",
        "lista = list(range(1,8))\n",
        "completo =dict(zip(ejer_6, lista))\n",
        "completo\n",
        "lista1 = list(map(lambda value: value, completo.values()))\n",
        "lista1"
      ]
    },
    {
      "cell_type": "markdown",
      "metadata": {
        "id": "5v6LeVj_xUSq"
      },
      "source": [
        "7. Utiliza `map` para multiplicar elemento a elemento estas dos tuplas\n",
        "```Python\n",
        "ejer_7_1 = (2, 5, 8)\n",
        "ejer_7_2 = (6, 3, 2)\n",
        "```"
      ]
    },
    {
      "cell_type": "code",
      "metadata": {
        "id": "i7snv5fkxUSq"
      },
      "source": [
        "ejer_7_1 = (2, 5, 8)\n",
        "ejer_7_2 = (6, 3, 2)\n",
        "multiplicacion = tuple(map(lambda x, y: x * y, ejer_7_1, ejer_7_2))\n",
        "multiplicacion"
      ],
      "execution_count": 25,
      "outputs": [
        {
          "output_type": "execute_result",
          "data": {
            "text/plain": [
              "(12, 15, 16)"
            ]
          },
          "metadata": {},
          "execution_count": 25
        }
      ]
    },
    {
      "cell_type": "markdown",
      "metadata": {
        "id": "y1RHMZrPxUSq"
      },
      "source": [
        "8. Crea una tupla nueva con todos los coches que no sean VW :)\n",
        "\n",
        "```Python\n",
        "ejer_8 = (\"VW\", \"Audi\", \"Renault\", \"VW\", \"BMW\")\n",
        "```"
      ]
    },
    {
      "cell_type": "code",
      "metadata": {
        "id": "MNQmN1rsxUSr"
      },
      "source": [
        "ejer_8 = (\"VW\", \"Audi\", \"Renault\", \"VW\", \"BMW\")\n",
        "tuple(filter(lambda x: x != \"VW\", ejer_8))"
      ],
      "execution_count": 26,
      "outputs": [
        {
          "output_type": "execute_result",
          "data": {
            "text/plain": [
              "('Audi', 'Renault', 'BMW')"
            ]
          },
          "metadata": {},
          "execution_count": 26
        }
      ]
    },
    {
      "cell_type": "markdown",
      "metadata": {
        "id": "b3iw_zOGxUSr"
      },
      "source": [
        "9. Dadas las siguientes fechas en formato string, quedate con aquellas del año 2020\n",
        "\n",
        "```Python\n",
        "ejer_9 = (\"2019-04-08\", \"2020-10-10\", \"2020-01-22\", \"2019-07-13\", \"2019-02-01\")\n",
        "```"
      ]
    },
    {
      "cell_type": "code",
      "metadata": {
        "id": "4JQvGUIwxUSr"
      },
      "source": [
        "ejer_9 = (\"2019-04-08\", \"2020-10-10\", \"2020-01-22\", \"2019-07-13\", \"2019-02-01\")\n",
        "tuple(filter(lambda x: \"2020\" in x , ejer_9))"
      ],
      "execution_count": 27,
      "outputs": [
        {
          "output_type": "execute_result",
          "data": {
            "text/plain": [
              "('2020-10-10', '2020-01-22')"
            ]
          },
          "metadata": {},
          "execution_count": 27
        }
      ]
    },
    {
      "cell_type": "markdown",
      "metadata": {
        "id": "VxPWahiKxUSr"
      },
      "source": [
        "10. Filtra aquellos strings que sean [palíndromos](https://es.wikipedia.org/wiki/Pal%C3%ADndromo)\n",
        "```Python\n",
        "ejer_10 = (\"php\", \"w3r\", \"Python\", \"abcd\", \"Java\", \"aaa\")\n",
        "```"
      ]
    },
    {
      "cell_type": "code",
      "metadata": {
        "id": "5SdwPWGfxUSs"
      },
      "source": [
        "ejer_10 = (\"php\", \"w3r\", \"Python\", \"abcd\", \"Java\", \"aaa\")"
      ],
      "execution_count": 28,
      "outputs": []
    },
    {
      "cell_type": "code",
      "execution_count": 29,
      "metadata": {},
      "outputs": [
        {
          "output_type": "execute_result",
          "data": {
            "text/plain": [
              "('php', 'aaa')"
            ]
          },
          "metadata": {},
          "execution_count": 29
        }
      ],
      "source": [
        "tuple(filter(lambda x: x[0] == x[2] , ejer_10))"
      ]
    },
    {
      "cell_type": "markdown",
      "metadata": {
        "id": "8tE0JdNexUSs"
      },
      "source": [
        "### Bonus Track.\n",
        "\n",
        "- Resuelve esta kata usando `map`\n",
        "https://www.codewars.com/kata/554b4ac871d6813a03000035\n",
        "\n",
        "Nota: si es demasiado difícil intenta resolverla sin usar `map` y si lo consigues, vuelve a resolverla usando `map`."
      ]
    },
    {
      "source": [
        "You are given a string of space separated numbers, and have to return the highest and lowest number."
      ],
      "cell_type": "markdown",
      "metadata": {
        "id": "edSVg5ztxUSs"
      }
    },
    {
      "cell_type": "code",
      "execution_count": 30,
      "metadata": {},
      "outputs": [
        {
          "output_type": "execute_result",
          "data": {
            "text/plain": [
              "('5', '1')"
            ]
          },
          "metadata": {},
          "execution_count": 30
        }
      ],
      "source": [
        "string = \"1 2 3 4 5\"\n",
        "#Usar split()\n",
        "def high_low(numbers: str):\n",
        "    return max(numbers.split(' ')), min(numbers.split(' '))\n",
        "\n",
        "high_low(string)"
      ]
    },
    {
      "cell_type": "code",
      "execution_count": 31,
      "metadata": {},
      "outputs": [
        {
          "output_type": "stream",
          "name": "stdout",
          "text": [
            "['5', '5', '5', '5', '5', '5', '5', '5', '5']\n"
          ]
        }
      ],
      "source": [
        "string = \"1 2 3 4 5\"\n",
        "todo = list(map(lambda x: max(string.split(' ')), string))\n",
        "print(todo)"
      ]
    },
    {
      "cell_type": "code",
      "execution_count": 49,
      "metadata": {},
      "outputs": [
        {
          "output_type": "error",
          "ename": "SyntaxError",
          "evalue": "invalid syntax (<ipython-input-49-376b21796f20>, line 4)",
          "traceback": [
            "\u001b[1;36m  File \u001b[1;32m\"<ipython-input-49-376b21796f20>\"\u001b[1;36m, line \u001b[1;32m4\u001b[0m\n\u001b[1;33m    funciona_plis = list(map(lambda x, y: max(string.split(\" \")), min(string.split(\" \")), string))\u001b[0m\n\u001b[1;37m                ^\u001b[0m\n\u001b[1;31mSyntaxError\u001b[0m\u001b[1;31m:\u001b[0m invalid syntax\n"
          ]
        }
      ],
      "source": [
        "string = \"1 2 3 4 5\"\n",
        "lambda x, y: max(string.split(\" \")), min(string.split(\" \")\n",
        "\n",
        "funciona_plis = list(map(lambda x, y: max(string.split(\" \")), min(string.split(\" \")), string))\n",
        "print(todo)"
      ]
    },
    {
      "cell_type": "code",
      "execution_count": 40,
      "metadata": {},
      "outputs": [],
      "source": [
        "string = \"1 2 3 4 5\"\n",
        "high_low = lambda x: print(max(string.split(\" \")), min(string.split(\" \")))"
      ]
    },
    {
      "cell_type": "code",
      "execution_count": 41,
      "metadata": {},
      "outputs": [
        {
          "output_type": "stream",
          "name": "stdout",
          "text": [
            "5 1\n5 1\n5 1\n5 1\n5 1\n5 1\n5 1\n5 1\n5 1\n"
          ]
        },
        {
          "output_type": "execute_result",
          "data": {
            "text/plain": [
              "(None, None, None, None, None, None, None, None, None)"
            ]
          },
          "metadata": {},
          "execution_count": 41
        }
      ],
      "source": [
        "string = \"1 2 3 4 5\"\n",
        "funciona_plis = tuple(map(high_low, string))\n",
        "funciona_plis"
      ]
    },
    {
      "cell_type": "code",
      "execution_count": null,
      "metadata": {},
      "outputs": [],
      "source": [
        "#Pues si pero no"
      ]
    }
  ]
}