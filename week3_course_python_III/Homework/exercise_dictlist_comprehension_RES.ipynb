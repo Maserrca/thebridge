{
  "nbformat": 4,
  "nbformat_minor": 0,
  "metadata": {
    "kernelspec": {
      "display_name": "Python 3",
      "language": "python",
      "name": "python3"
    },
    "language_info": {
      "codemirror_mode": {
        "name": "ipython",
        "version": 3
      },
      "file_extension": ".py",
      "mimetype": "text/x-python",
      "name": "python",
      "nbconvert_exporter": "python",
      "pygments_lexer": "ipython3",
      "version": "3.8.3"
    },
    "colab": {
      "name": "exercise_dictlist_comprehension_RES.ipynb",
      "provenance": []
    }
  },
  "cells": [
    {
      "cell_type": "markdown",
      "metadata": {
        "id": "nakquL10Kr7O"
      },
      "source": [
        "# Python | list/dict comprehension"
      ]
    },
    {
      "cell_type": "markdown",
      "metadata": {
        "id": "dpj2N3WKKr7o"
      },
      "source": [
        "List comprehension in Python is a compact way of creating a list from a sequence. It is a short way to create a new list. List comprehension is considerably faster than processing a list using the for loop."
      ]
    },
    {
      "cell_type": "markdown",
      "metadata": {
        "id": "CiZaAdWEKr7r"
      },
      "source": [
        "```python\n",
        "# syntax\n",
        "[i for i in iterable if expression]\n",
        "```"
      ]
    },
    {
      "cell_type": "markdown",
      "metadata": {
        "id": "DXH7QSqsKr7t"
      },
      "source": [
        "Dictionary comprehension is the same as list comprehension but with dictionaries. I know, you didn't see that coming. "
      ]
    },
    {
      "cell_type": "markdown",
      "metadata": {
        "id": "0-39UcjGKr7v"
      },
      "source": [
        "```python\n",
        "# syntax\n",
        "\n",
        "{key: value for i in iterable}\n",
        "```\n"
      ]
    },
    {
      "cell_type": "markdown",
      "metadata": {
        "id": "eUW_g8E1Kr7w"
      },
      "source": [
        "- https://www.programiz.com/python-programming/list-comprehension\n",
        "- https://www.programiz.com/python-programming/dictionary-comprehension"
      ]
    },
    {
      "cell_type": "markdown",
      "metadata": {
        "id": "YxdJkYbWKr7x"
      },
      "source": [
        "### Exercise 1.\n",
        "\n",
        "Use list comprehension and print the result to solve these problems: "
      ]
    },
    {
      "cell_type": "markdown",
      "metadata": {
        "id": "FZWpYmn2Kr7y"
      },
      "source": [
        "1. Make a list with the square number of numbers from 0 to 20. "
      ]
    },
    {
      "cell_type": "code",
      "metadata": {
        "id": "ONODnKoeKr70",
        "outputId": "de395878-5ce8-4996-a276-27f0c7366543"
      },
      "source": [
        "the_list = [a ** 2 for a in range(20)]\n",
        "print(the_list)"
      ],
      "execution_count": null,
      "outputs": [
        {
          "output_type": "stream",
          "text": [
            "[0, 1, 4, 9, 16, 25, 36, 49, 64, 81, 100, 121, 144, 169, 196, 225, 256, 289, 324, 361]\n"
          ],
          "name": "stdout"
        }
      ]
    },
    {
      "cell_type": "markdown",
      "metadata": {
        "id": "Q9AZoIVMKr75"
      },
      "source": [
        "2. Make a list with the first 50 power of two. "
      ]
    },
    {
      "cell_type": "code",
      "metadata": {
        "id": "-M0AsKJqKr76",
        "outputId": "aac8a0b6-9709-4edc-92ae-541f7167f42e"
      },
      "source": [
        "num_list = [2 ** y for y in [a + 1 for a in range(50)]]\n",
        "print(num_list)"
      ],
      "execution_count": null,
      "outputs": [
        {
          "output_type": "stream",
          "text": [
            "[2, 4, 8, 16, 32, 64, 128, 256, 512, 1024, 2048, 4096, 8192, 16384, 32768, 65536, 131072, 262144, 524288, 1048576, 2097152, 4194304, 8388608, 16777216, 33554432, 67108864, 134217728, 268435456, 536870912, 1073741824, 2147483648, 4294967296, 8589934592, 17179869184, 34359738368, 68719476736, 137438953472, 274877906944, 549755813888, 1099511627776, 2199023255552, 4398046511104, 8796093022208, 17592186044416, 35184372088832, 70368744177664, 140737488355328, 281474976710656, 562949953421312, 1125899906842624]\n"
          ],
          "name": "stdout"
        }
      ]
    },
    {
      "cell_type": "markdown",
      "metadata": {
        "id": "sHm9LFZxKr77"
      },
      "source": [
        "3. Calculate the square root of the first 100 numbers. \n",
        "\n",
        "**You will probably need to install math library with pip and import it in this file.** \n",
        "\n",
        "\n",
        "\n"
      ]
    },
    {
      "cell_type": "code",
      "metadata": {
        "id": "mKqiq3KkKr78"
      },
      "source": [
        "import math"
      ],
      "execution_count": null,
      "outputs": []
    },
    {
      "cell_type": "code",
      "metadata": {
        "id": "MpwunP0CKr79",
        "outputId": "a203ec5d-7cc5-4723-cbd2-bc8e0944b041"
      },
      "source": [
        "# Output has been rounded up to 3 decimals for demonstration pourposes\n",
        "sqrt_list = [round(math.sqrt(n), 3) for n in range(100)]\n",
        "print(sqrt_list, len(sqrt_list))"
      ],
      "execution_count": null,
      "outputs": [
        {
          "output_type": "stream",
          "text": [
            "[0.0, 1.0, 1.414, 1.732, 2.0, 2.236, 2.449, 2.646, 2.828, 3.0, 3.162, 3.317, 3.464, 3.606, 3.742, 3.873, 4.0, 4.123, 4.243, 4.359, 4.472, 4.583, 4.69, 4.796, 4.899, 5.0, 5.099, 5.196, 5.292, 5.385, 5.477, 5.568, 5.657, 5.745, 5.831, 5.916, 6.0, 6.083, 6.164, 6.245, 6.325, 6.403, 6.481, 6.557, 6.633, 6.708, 6.782, 6.856, 6.928, 7.0, 7.071, 7.141, 7.211, 7.28, 7.348, 7.416, 7.483, 7.55, 7.616, 7.681, 7.746, 7.81, 7.874, 7.937, 8.0, 8.062, 8.124, 8.185, 8.246, 8.307, 8.367, 8.426, 8.485, 8.544, 8.602, 8.66, 8.718, 8.775, 8.832, 8.888, 8.944, 9.0, 9.055, 9.11, 9.165, 9.22, 9.274, 9.327, 9.381, 9.434, 9.487, 9.539, 9.592, 9.644, 9.695, 9.747, 9.798, 9.849, 9.899, 9.95] 100\n"
          ],
          "name": "stdout"
        }
      ]
    },
    {
      "cell_type": "markdown",
      "metadata": {
        "id": "QVThoiJxKr7_"
      },
      "source": [
        "4. Create this list `[-10,-9,-8,-7,-6,-5,-4,-3,-2,-1,0]`. "
      ]
    },
    {
      "cell_type": "code",
      "metadata": {
        "id": "S1IsAz8JKr8A"
      },
      "source": [
        "this_list = [-10, -9, -8, -7, -6, -5, -4, -3, -2, -1, 0]"
      ],
      "execution_count": null,
      "outputs": []
    },
    {
      "cell_type": "markdown",
      "metadata": {
        "id": "bcZIhNAIKr8B"
      },
      "source": [
        "5. Filter only negative and zero in the list `numbers`."
      ]
    },
    {
      "cell_type": "code",
      "metadata": {
        "id": "brOer4seKr8C"
      },
      "source": [
        "numbers = [-4, -3, -2, -1, 0, 2, 4, 6]"
      ],
      "execution_count": null,
      "outputs": []
    },
    {
      "cell_type": "code",
      "metadata": {
        "id": "1QaT-9UgKr8D"
      },
      "source": [
        "filtering = [n for n in numbers if n in this_list]"
      ],
      "execution_count": null,
      "outputs": []
    },
    {
      "cell_type": "code",
      "metadata": {
        "id": "ySlP0uMhKr8E",
        "outputId": "b2256159-a9ad-4428-c4c4-e7060ed79f8c"
      },
      "source": [
        "filtering1 = [n for n in numbers if n > 0 ]\n",
        "print(filtering1)"
      ],
      "execution_count": null,
      "outputs": [
        {
          "output_type": "stream",
          "text": [
            "[2, 4, 6]\n"
          ],
          "name": "stdout"
        }
      ]
    },
    {
      "cell_type": "markdown",
      "metadata": {
        "id": "HB8T9ltjKr8G"
      },
      "source": [
        "6. Find the odd numbers from 1-100 and put them on a list. \n",
        "\n",
        "\n"
      ]
    },
    {
      "cell_type": "code",
      "metadata": {
        "id": "Yw1pIYmCKr8H",
        "outputId": "bb73ad6b-152f-40ab-91ee-f996815df04c"
      },
      "source": [
        "odd_ones = [n for n in [a + 1 for a in range(100)] if n % 2 != 0]\n",
        "print(odd_ones)"
      ],
      "execution_count": null,
      "outputs": [
        {
          "output_type": "stream",
          "text": [
            "[1, 3, 5, 7, 9, 11, 13, 15, 17, 19, 21, 23, 25, 27, 29, 31, 33, 35, 37, 39, 41, 43, 45, 47, 49, 51, 53, 55, 57, 59, 61, 63, 65, 67, 69, 71, 73, 75, 77, 79, 81, 83, 85, 87, 89, 91, 93, 95, 97, 99]\n"
          ],
          "name": "stdout"
        }
      ]
    },
    {
      "cell_type": "markdown",
      "metadata": {
        "id": "Ma8D7hB6Kr8I"
      },
      "source": [
        "7. Find all of the numbers from 1-1000 that are divisible by 7.\n",
        "\n"
      ]
    },
    {
      "cell_type": "code",
      "metadata": {
        "id": "ouqE5blNKr8I",
        "outputId": "4bf23d90-bb5b-44f3-e415-3cb4c1564001"
      },
      "source": [
        "seven_ones = [n for n in [a + 1 for a in range(1000)] if n % 7 == 0]\n",
        "print(seven_ones)"
      ],
      "execution_count": null,
      "outputs": [
        {
          "output_type": "stream",
          "text": [
            "[7, 14, 21, 28, 35, 42, 49, 56, 63, 70, 77, 84, 91, 98, 105, 112, 119, 126, 133, 140, 147, 154, 161, 168, 175, 182, 189, 196, 203, 210, 217, 224, 231, 238, 245, 252, 259, 266, 273, 280, 287, 294, 301, 308, 315, 322, 329, 336, 343, 350, 357, 364, 371, 378, 385, 392, 399, 406, 413, 420, 427, 434, 441, 448, 455, 462, 469, 476, 483, 490, 497, 504, 511, 518, 525, 532, 539, 546, 553, 560, 567, 574, 581, 588, 595, 602, 609, 616, 623, 630, 637, 644, 651, 658, 665, 672, 679, 686, 693, 700, 707, 714, 721, 728, 735, 742, 749, 756, 763, 770, 777, 784, 791, 798, 805, 812, 819, 826, 833, 840, 847, 854, 861, 868, 875, 882, 889, 896, 903, 910, 917, 924, 931, 938, 945, 952, 959, 966, 973, 980, 987, 994]\n"
          ],
          "name": "stdout"
        }
      ]
    },
    {
      "cell_type": "code",
      "metadata": {
        "id": "BTEvrLedKr8K",
        "outputId": "eda3b7bf-fb61-4842-de88-2a18264669a5"
      },
      "source": [
        "seven_ones = [n for n in [a + 1 for a in range(1000)] if n % 7 == 0]\n",
        "print(seven_ones)"
      ],
      "execution_count": null,
      "outputs": [
        {
          "output_type": "stream",
          "text": [
            "[7, 14, 21, 28, 35, 42, 49, 56, 63, 70, 77, 84, 91, 98, 105, 112, 119, 126, 133, 140, 147, 154, 161, 168, 175, 182, 189, 196, 203, 210, 217, 224, 231, 238, 245, 252, 259, 266, 273, 280, 287, 294, 301, 308, 315, 322, 329, 336, 343, 350, 357, 364, 371, 378, 385, 392, 399, 406, 413, 420, 427, 434, 441, 448, 455, 462, 469, 476, 483, 490, 497, 504, 511, 518, 525, 532, 539, 546, 553, 560, 567, 574, 581, 588, 595, 602, 609, 616, 623, 630, 637, 644, 651, 658, 665, 672, 679, 686, 693, 700, 707, 714, 721, 728, 735, 742, 749, 756, 763, 770, 777, 784, 791, 798, 805, 812, 819, 826, 833, 840, 847, 854, 861, 868, 875, 882, 889, 896, 903, 910, 917, 924, 931, 938, 945, 952, 959, 966, 973, 980, 987, 994]\n"
          ],
          "name": "stdout"
        }
      ]
    },
    {
      "cell_type": "markdown",
      "metadata": {
        "id": "yrI3ECPDKr8L"
      },
      "source": [
        "8. Remove all of the vowels in a string. \n",
        "\n",
        "   Hint: make a list of the non-vowels. \n",
        "\n",
        "\n",
        "\n",
        "\n"
      ]
    },
    {
      "cell_type": "code",
      "metadata": {
        "id": "-fFbfm3_Kr8M"
      },
      "source": [
        "teststring = \"When you reach the end of your rope, tie a knot in it and hang on.\""
      ],
      "execution_count": null,
      "outputs": []
    },
    {
      "cell_type": "code",
      "metadata": {
        "id": "rfM16itfKr8N"
      },
      "source": [
        "import string"
      ],
      "execution_count": null,
      "outputs": []
    },
    {
      "cell_type": "code",
      "metadata": {
        "id": "qtl0mUo6Kr8N",
        "outputId": "6058f3ad-c8f5-476f-91e0-f19d09f0a56f"
      },
      "source": [
        "string.ascii_lowercase "
      ],
      "execution_count": null,
      "outputs": [
        {
          "output_type": "execute_result",
          "data": {
            "text/plain": [
              "'abcdefghijklmnopqrstuvwxyz'"
            ]
          },
          "metadata": {
            "tags": []
          },
          "execution_count": 14
        }
      ]
    },
    {
      "cell_type": "code",
      "metadata": {
        "id": "9242QzsOKr8P",
        "outputId": "e6127570-63ce-493b-a26b-b6f8bf0468d8"
      },
      "source": [
        "vowels = ['a', 'e', 'i', 'o', 'u']\n",
        "\n",
        "non_vowels = [n for n in string.ascii_lowercase if n not in vowels]\n",
        "print(non_vowels)"
      ],
      "execution_count": null,
      "outputs": [
        {
          "output_type": "stream",
          "text": [
            "['b', 'c', 'd', 'f', 'g', 'h', 'j', 'k', 'l', 'm', 'n', 'p', 'q', 'r', 's', 't', 'v', 'w', 'x', 'y', 'z']\n"
          ],
          "name": "stdout"
        }
      ]
    },
    {
      "cell_type": "markdown",
      "metadata": {
        "id": "IyeLO66JKr8Q"
      },
      "source": [
        "9. Find the capital letters (and not white space) in the sentence `\"The Way To Get Started Is To Quit Talking And Begin Doing.\"`. \n"
      ]
    },
    {
      "cell_type": "code",
      "metadata": {
        "id": "MbfSMsYAKr8V",
        "outputId": "5843c566-19a0-424f-ab43-c7974adadf04"
      },
      "source": [
        "string = \"The Way To Get Started Is To Quit Talking And Begin Doing.\"\n",
        "\n",
        "the_list = [s for s in string if s.isupper()]\n",
        "print(the_list)"
      ],
      "execution_count": null,
      "outputs": [
        {
          "output_type": "stream",
          "text": [
            "['T', 'W', 'T', 'G', 'S', 'I', 'T', 'Q', 'T', 'A', 'B', 'D']\n"
          ],
          "name": "stdout"
        }
      ]
    },
    {
      "cell_type": "markdown",
      "metadata": {
        "id": "kpxY-5seKr8X"
      },
      "source": [
        "10. Find all the consonants in the sentence `\"Tell me and I forget. Teach me and I remember. Involve me and I learn.\"`.\n"
      ]
    },
    {
      "cell_type": "code",
      "metadata": {
        "id": "ZYNwqOZ4Kr8Z"
      },
      "source": [
        "string_searched = \"Tell me and I forget. Teach me and I remember. Involve me and I learn.\""
      ],
      "execution_count": null,
      "outputs": []
    },
    {
      "cell_type": "code",
      "metadata": {
        "id": "cDDj0NMIKr8a",
        "outputId": "e938c758-e781-458c-ea4d-2636413741cb"
      },
      "source": [
        "consonants = [n.lower() for n in string_searched if n not in vowels and (n != \" \" and n != \".\")]\n",
        "set(consonants)"
      ],
      "execution_count": null,
      "outputs": [
        {
          "output_type": "execute_result",
          "data": {
            "text/plain": [
              "{'b', 'c', 'd', 'f', 'g', 'h', 'i', 'l', 'm', 'n', 'r', 't', 'v'}"
            ]
          },
          "metadata": {
            "tags": []
          },
          "execution_count": 18
        }
      ]
    },
    {
      "cell_type": "markdown",
      "metadata": {
        "id": "yC7IauWnKr8c"
      },
      "source": [
        "11. Create 4 lists of 10 random numbers between 0 and 100 each. \n",
        "\n",
        "**You will probably need to import random module.**\n",
        "\n"
      ]
    },
    {
      "cell_type": "code",
      "metadata": {
        "id": "EwNE5wpAKr8e",
        "outputId": "c41bac23-9d19-47dd-e4e4-937f35dd5c53"
      },
      "source": [
        "import random\n",
        "\n",
        "[[random.randint(0, 100) for e in range(10)] for i in range(4)]"
      ],
      "execution_count": null,
      "outputs": [
        {
          "output_type": "execute_result",
          "data": {
            "text/plain": [
              "[[9, 56, 57, 28, 53, 0, 25, 65, 47, 67],\n",
              " [77, 65, 13, 62, 4, 38, 47, 23, 2, 7],\n",
              " [59, 37, 17, 21, 3, 97, 2, 91, 74, 88],\n",
              " [33, 12, 43, 68, 91, 78, 43, 38, 55, 20]]"
            ]
          },
          "metadata": {
            "tags": []
          },
          "execution_count": 19
        }
      ]
    },
    {
      "cell_type": "markdown",
      "metadata": {
        "id": "cV9oOF_qKr8f"
      },
      "source": [
        "### Exercise 2. "
      ]
    },
    {
      "cell_type": "markdown",
      "metadata": {
        "id": "v4Ia7XWDKr8g"
      },
      "source": [
        "1. Flatten the following list of lists of lists to a one dimensional list :\n",
        "```python\n",
        "expected output:\n",
        "[1, 2, 3, 4, 5, 6, 7, 8, 9]\n",
        "```"
      ]
    },
    {
      "cell_type": "code",
      "metadata": {
        "id": "D4W5O58FKr8h"
      },
      "source": [
        "list_of_lists =[[1, 2, 3], [4, 5, 6], [7, 8, 9]]"
      ],
      "execution_count": null,
      "outputs": []
    },
    {
      "cell_type": "code",
      "metadata": {
        "id": "tIHH34fGKr8i",
        "outputId": "4e15e9f7-895b-4322-e984-3f1aa4ac84e7"
      },
      "source": [
        "flatten_list = [item for subl in list_of_lists for item in subl]\n",
        "flatten_list"
      ],
      "execution_count": null,
      "outputs": [
        {
          "output_type": "execute_result",
          "data": {
            "text/plain": [
              "[1, 2, 3, 4, 5, 6, 7, 8, 9]"
            ]
          },
          "metadata": {
            "tags": []
          },
          "execution_count": 21
        }
      ]
    },
    {
      "cell_type": "markdown",
      "metadata": {
        "id": "gPmtdynBKr8j"
      },
      "source": [
        "2. Flatten the following list to a new list, and capitalize the elements of the new list:\n",
        "```python\n",
        "expected output:\n",
        "['SPAIN', 'MADRID', 'FRANCE', 'PARIS', 'PORTUGAL', 'LISBON']\n",
        "```"
      ]
    },
    {
      "cell_type": "code",
      "metadata": {
        "id": "Xd9ltN37Kr8k"
      },
      "source": [
        "countries = [[('Spain', 'Madrid')], [('France', 'Paris')], [('Portugal', 'Lisbon')]]"
      ],
      "execution_count": null,
      "outputs": []
    },
    {
      "cell_type": "code",
      "metadata": {
        "id": "0xvLyyMUKr8l",
        "outputId": "cf8e465c-48cb-41d7-b553-7e47771fda08"
      },
      "source": [
        "[elem.upper() for listas in countries for tuplas in listas for elem in tuplas]"
      ],
      "execution_count": null,
      "outputs": [
        {
          "output_type": "execute_result",
          "data": {
            "text/plain": [
              "['SPAIN', 'MADRID', 'FRANCE', 'PARIS', 'PORTUGAL', 'LISBON']"
            ]
          },
          "metadata": {
            "tags": []
          },
          "execution_count": 23
        }
      ]
    },
    {
      "cell_type": "markdown",
      "metadata": {
        "id": "eYrNL49YKr8m"
      },
      "source": [
        "3. Change the `countries` list to a list of dictionaries:\n",
        "```python\n",
        "expected output:\n",
        "[{'country': 'SPAIN', 'city': 'MADRID'},\n",
        "{'country': 'FRANCE', 'city': 'PARIS'},\n",
        "{'country': 'PORTUGAL', 'city': 'LISBON'}]\n",
        "```"
      ]
    },
    {
      "cell_type": "code",
      "metadata": {
        "id": "gAQp5cQfKr8n",
        "outputId": "a9ff1abd-153a-40c5-f1c4-12ab4068c2ef"
      },
      "source": [
        "dict_list = [{'Country': item[0].upper(), 'City': item[1].upper()} for subl in countries for item in subl]\n",
        "dict_list"
      ],
      "execution_count": null,
      "outputs": [
        {
          "output_type": "execute_result",
          "data": {
            "text/plain": [
              "[{'Country': 'SPAIN', 'City': 'MADRID'},\n",
              " {'Country': 'FRANCE', 'City': 'PARIS'},\n",
              " {'Country': 'PORTUGAL', 'City': 'LISBON'}]"
            ]
          },
          "metadata": {
            "tags": []
          },
          "execution_count": 24
        }
      ]
    },
    {
      "cell_type": "markdown",
      "metadata": {
        "id": "2ze4e-9OKr8o"
      },
      "source": [
        "4. Change the following list of lists to a list of concatenated strings:\n",
        "```python\n",
        "expected output:\n",
        "['Gabriel Vazquez', 'Clara Piniella', 'Borja Puig', 'Mónica Villasuso']\n",
        "```"
      ]
    },
    {
      "cell_type": "code",
      "metadata": {
        "id": "OLFJYZHnKr8p"
      },
      "source": [
        "names = [[('Gabriel', 'Vazquez')], [('Clara', 'Piniella')], [('Borja', 'Puig')], [('Mónica', 'Villasuso')]]"
      ],
      "execution_count": null,
      "outputs": []
    },
    {
      "cell_type": "code",
      "metadata": {
        "id": "ziXRv8D0Kr8q",
        "outputId": "fe012d76-6404-4d79-83d0-ac15647973e7"
      },
      "source": [
        "names_2 = [' '.join(item) for subl in names for item in subl]\n",
        "print(names_2)"
      ],
      "execution_count": null,
      "outputs": [
        {
          "output_type": "stream",
          "text": [
            "['Gabriel Vazquez', 'Clara Piniella', 'Borja Puig', 'Mónica Villasuso']\n"
          ],
          "name": "stdout"
        }
      ]
    },
    {
      "cell_type": "markdown",
      "metadata": {
        "id": "uyQ7Yi2KKr8t"
      },
      "source": [
        "5. Convert the numbers of the following nested list to floats. Use **floats_list** as the name of the list. "
      ]
    },
    {
      "cell_type": "code",
      "metadata": {
        "id": "i507zQ2SKr8u"
      },
      "source": [
        "big_list_of_lists = [['40', '20', '10', '30'], ['20', '20', '20', '20', '20', '30', '20'], \\\n",
        "['30', '20', '30', '50', '10', '30', '20', '20', '20'], ['100', '100'], ['100', '100', '100', '100', '100'], \\\n",
        "['100', '100', '100', '100']]"
      ],
      "execution_count": null,
      "outputs": []
    },
    {
      "cell_type": "code",
      "metadata": {
        "id": "uKl-PKt0Kr8v",
        "outputId": "c5f69d60-3192-427e-b832-f51b3ad88283"
      },
      "source": [
        "floats_list = [float(item) for subl in big_list_of_lists for item in subl]\n",
        "print(floats_list)"
      ],
      "execution_count": null,
      "outputs": [
        {
          "output_type": "stream",
          "text": [
            "[40.0, 20.0, 10.0, 30.0, 20.0, 20.0, 20.0, 20.0, 20.0, 30.0, 20.0, 30.0, 20.0, 30.0, 50.0, 10.0, 30.0, 20.0, 20.0, 20.0, 100.0, 100.0, 100.0, 100.0, 100.0, 100.0, 100.0, 100.0, 100.0, 100.0, 100.0]\n"
          ],
          "name": "stdout"
        }
      ]
    },
    {
      "cell_type": "markdown",
      "metadata": {
        "id": "aQZRf5I0Kr8w"
      },
      "source": [
        "6. Using list comprehension create the following list of tuples:\n",
        "```python\n",
        "expected output: \n",
        "[(0, 1, 0, 0, 0, 0, 0),\n",
        "(1, 1, 1, 1, 1, 1, 1),\n",
        "(2, 1, 2, 4, 8, 16, 32),\n",
        "(3, 1, 3, 9, 27, 81, 243),\n",
        "(4, 1, 4, 16, 64, 256, 1024),\n",
        "(5, 1, 5, 25, 125, 625, 3125),\n",
        "(6, 1, 6, 36, 216, 1296, 7776),\n",
        "(7, 1, 7, 49, 343, 2401, 16807),\n",
        "(8, 1, 8, 64, 512, 4096, 32768),\n",
        "(9, 1, 9, 81, 729, 6561, 59049),\n",
        "(10, 1, 10, 100, 1000, 10000, 100000)]\n",
        "```\n",
        "\n",
        "\n"
      ]
    },
    {
      "cell_type": "code",
      "metadata": {
        "id": "9xhnwpyhKr8x",
        "outputId": "1a5c0090-672a-41bf-8c5e-2ddaddc4a612"
      },
      "source": [
        "[tuple([e] + [e**power for power in range(6)]) for e in range(11)]"
      ],
      "execution_count": null,
      "outputs": [
        {
          "output_type": "execute_result",
          "data": {
            "text/plain": [
              "[(0, 1, 0, 0, 0, 0, 0),\n",
              " (1, 1, 1, 1, 1, 1, 1),\n",
              " (2, 1, 2, 4, 8, 16, 32),\n",
              " (3, 1, 3, 9, 27, 81, 243),\n",
              " (4, 1, 4, 16, 64, 256, 1024),\n",
              " (5, 1, 5, 25, 125, 625, 3125),\n",
              " (6, 1, 6, 36, 216, 1296, 7776),\n",
              " (7, 1, 7, 49, 343, 2401, 16807),\n",
              " (8, 1, 8, 64, 512, 4096, 32768),\n",
              " (9, 1, 9, 81, 729, 6561, 59049),\n",
              " (10, 1, 10, 100, 1000, 10000, 100000)]"
            ]
          },
          "metadata": {
            "tags": []
          },
          "execution_count": 29
        }
      ]
    },
    {
      "cell_type": "markdown",
      "metadata": {
        "id": "FtPAKRGHKr8y"
      },
      "source": [
        "### Exercise 3. "
      ]
    },
    {
      "cell_type": "markdown",
      "metadata": {
        "id": "rIYzQRO-Kr8z"
      },
      "source": [
        "1. First, create a range from 100 to 160 with steps of 10.\n",
        "   Second, using **dict comprehension**, create a dictionary where each number in the range is the key and each item divided by 100 is the value."
      ]
    },
    {
      "cell_type": "code",
      "metadata": {
        "id": "MXJIK6uhKr8z",
        "outputId": "b8390d5e-02d7-4bc2-fab2-04fe63b12b2a"
      },
      "source": [
        "# Take one\n",
        "\n",
        "range_finder = range(100, 160, 10)\n",
        "dict_of_ranges = {i:i/100 for i in range_finder}\n",
        "\n",
        "print(f'Range: {range_finder}')\n",
        "print(f'\\n\\nDictionary: {dict_of_ranges}')"
      ],
      "execution_count": null,
      "outputs": [
        {
          "output_type": "stream",
          "text": [
            "Range: range(100, 160, 10)\n",
            "\n",
            "\n",
            "Dictionary: {100: 1.0, 110: 1.1, 120: 1.2, 130: 1.3, 140: 1.4, 150: 1.5}\n"
          ],
          "name": "stdout"
        }
      ]
    },
    {
      "cell_type": "code",
      "metadata": {
        "id": "ibiMXYfvKr80"
      },
      "source": [
        "# Take 2\n",
        "# Using the numpy library to create the range interval.\n",
        "\n",
        "import numpy as np\n",
        "\n",
        "range_finder = np.arange(100, 160, 10).tolist()\n",
        "value_finder = [n/10 for n in range_finder]"
      ],
      "execution_count": null,
      "outputs": []
    },
    {
      "cell_type": "code",
      "metadata": {
        "id": "ub1IOv6iKr80",
        "outputId": "f0aa3691-b3cb-4bd9-ef89-ef091cc9abfb"
      },
      "source": [
        "dict_of_ranges = {key: value for key, value in zip(range_finder, value_finder)}\n",
        "\n",
        "print(f'Lists: {range_finder}, {value_finder}')\n",
        "print(f'\\n\\nDictionary: {dict_of_ranges}')"
      ],
      "execution_count": null,
      "outputs": [
        {
          "output_type": "stream",
          "text": [
            "Lists: [100, 110, 120, 130, 140, 150], [10.0, 11.0, 12.0, 13.0, 14.0, 15.0]\n",
            "\n",
            "\n",
            "Dictionary: {100: 10.0, 110: 11.0, 120: 12.0, 130: 13.0, 140: 14.0, 150: 15.0}\n"
          ],
          "name": "stdout"
        }
      ]
    },
    {
      "cell_type": "markdown",
      "metadata": {
        "id": "RVOBOQ6jKr81"
      },
      "source": [
        "2. Using **dict comprehension** and a conditional argument create a dictionary from `curr_dict` where only the key:value pairs with value above 2000 are taken to the new dictionary.\n",
        "    "
      ]
    },
    {
      "cell_type": "code",
      "metadata": {
        "id": "mUMRPPNdKr82"
      },
      "source": [
        "curr_dict = {\"Netflix\":4950,\"HBO\":2400,\"Amazon\":1800, \"Movistar\":1700}"
      ],
      "execution_count": null,
      "outputs": []
    },
    {
      "cell_type": "code",
      "metadata": {
        "id": "ayz0nIotKr82",
        "outputId": "32f424f2-2cea-4bdd-f246-2dd622d89280"
      },
      "source": [
        "updated_dict = {key: value for (key,value) in curr_dict.items() if value > 2000}\n",
        "updated_dict"
      ],
      "execution_count": null,
      "outputs": [
        {
          "output_type": "execute_result",
          "data": {
            "text/plain": [
              "{'Netflix': 4950, 'HBO': 2400}"
            ]
          },
          "metadata": {
            "tags": []
          },
          "execution_count": 34
        }
      ]
    },
    {
      "cell_type": "markdown",
      "metadata": {
        "id": "xmT0raXSKr83"
      },
      "source": [
        "3. Create a function that receives two lists `list1` and `list2` by parameter and returns a dictionary with each element of `list1` as keys and the elements of `list2` as values. This time use **dict comprehension** to do so.  "
      ]
    },
    {
      "cell_type": "code",
      "metadata": {
        "id": "rwPqo1Z5Kr84"
      },
      "source": [
        "def dict_comprehension_creator (list_1, list_2):\n",
        "    \"\"\"\n",
        "    This function creates a dictionary using list comprehension from two (2) lists: list_1 and list_2. Being list_1 the keys and list_2 the values\n",
        "    \"\"\"\n",
        "\n",
        "    to_return = {key: value for (key,value) in zip(list_1, list_2)}\n",
        "    \n",
        "    return to_return"
      ],
      "execution_count": null,
      "outputs": []
    },
    {
      "cell_type": "code",
      "metadata": {
        "id": "KBE44E3JKr85",
        "outputId": "ce203ff3-8368-46cd-fc17-da3c77a33450"
      },
      "source": [
        "# I'm going to use the range_finder and value_finder lists... you go make your own!\n",
        "\n",
        "my_dict = dict_comprehension_creator(list_1= range_finder, list_2= value_finder)\n",
        "my_dict"
      ],
      "execution_count": null,
      "outputs": [
        {
          "output_type": "execute_result",
          "data": {
            "text/plain": [
              "{100: 10.0, 110: 11.0, 120: 12.0, 130: 13.0, 140: 14.0, 150: 15.0}"
            ]
          },
          "metadata": {
            "tags": []
          },
          "execution_count": 36
        }
      ]
    },
    {
      "cell_type": "markdown",
      "metadata": {
        "id": "WE6cwm03Kr85"
      },
      "source": [
        "### Bonus Track. "
      ]
    },
    {
      "cell_type": "markdown",
      "metadata": {
        "id": "wlfrw_QBKr86"
      },
      "source": [
        "1. Make a Python program that, from the strings `\" | \"` and `\" _ \"`, shows an 8x8 **chessboard** on the screen.\n",
        "\n",
        "   Develop the program in a `.py` file that will be run through the terminal. \n",
        " \n",
        "   From the folder that contains the corresponding `.py`, it will be executed with the following command:` python3 program_name.py`"
      ]
    },
    {
      "cell_type": "code",
      "metadata": {
        "id": "sLNLLWViKr86",
        "outputId": "104b05d2-ff18-409d-c5ff-91f7f27f99eb"
      },
      "source": [
        "\"_|\" * 8"
      ],
      "execution_count": null,
      "outputs": [
        {
          "output_type": "execute_result",
          "data": {
            "text/plain": [
              "'_|_|_|_|_|_|_|_|'"
            ]
          },
          "metadata": {
            "tags": []
          },
          "execution_count": 37
        }
      ]
    },
    {
      "cell_type": "code",
      "metadata": {
        "id": "PG4paBh0Kr87",
        "outputId": "cbb97926-ffb5-40dc-c4aa-81f3b624c9c4"
      },
      "source": [
        "# This program creates a chessboard\n",
        "\n",
        "def chessboard (dimensions):\n",
        "    \"\"\"\n",
        "                        ---What it does---\n",
        "    This function creates a chessboard and prints it\n",
        "    \n",
        "    ---What it needs---\n",
        "        - The dimensions of the board (dimensions)\n",
        "    \n",
        "    ---What it returns---\n",
        "        A chessboard\n",
        "    \"\"\"\n",
        "\n",
        "    space = '|_|'\n",
        "    spaces = [space for n in range(dimensions)]\n",
        "    board = [spaces * dimensions]\n",
        "    print(f'{spaces}\\n'*8)\n",
        "\n",
        "    coords_x = 'A\\tB\\tC'\n",
        "    \n",
        "\n",
        "\n",
        "    uno = [f'^{number +1}_' for number in range(dimensions)]\n",
        "    print(uno)\n",
        "\n",
        "chessboard(8)"
      ],
      "execution_count": null,
      "outputs": [
        {
          "output_type": "stream",
          "text": [
            "['|_|', '|_|', '|_|', '|_|', '|_|', '|_|', '|_|', '|_|']\n",
            "['|_|', '|_|', '|_|', '|_|', '|_|', '|_|', '|_|', '|_|']\n",
            "['|_|', '|_|', '|_|', '|_|', '|_|', '|_|', '|_|', '|_|']\n",
            "['|_|', '|_|', '|_|', '|_|', '|_|', '|_|', '|_|', '|_|']\n",
            "['|_|', '|_|', '|_|', '|_|', '|_|', '|_|', '|_|', '|_|']\n",
            "['|_|', '|_|', '|_|', '|_|', '|_|', '|_|', '|_|', '|_|']\n",
            "['|_|', '|_|', '|_|', '|_|', '|_|', '|_|', '|_|', '|_|']\n",
            "['|_|', '|_|', '|_|', '|_|', '|_|', '|_|', '|_|', '|_|']\n",
            "\n",
            "['^1_', '^2_', '^3_', '^4_', '^5_', '^6_', '^7_', '^8_']\n"
          ],
          "name": "stdout"
        }
      ]
    },
    {
      "cell_type": "markdown",
      "metadata": {
        "id": "FOcLf8cEKr88"
      },
      "source": [
        "!['togood'](https://i.pinimg.com/originals/de/f5/2f/def52fe41d695d8feebd2cdc194da929.png)"
      ]
    },
    {
      "cell_type": "code",
      "metadata": {
        "id": "Jk8v70wKKr88"
      },
      "source": [
        ""
      ],
      "execution_count": null,
      "outputs": []
    }
  ]
}