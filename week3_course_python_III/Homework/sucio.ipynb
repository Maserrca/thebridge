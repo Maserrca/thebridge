{
 "metadata": {
  "language_info": {
   "codemirror_mode": {
    "name": "ipython",
    "version": 3
   },
   "file_extension": ".py",
   "mimetype": "text/x-python",
   "name": "python",
   "nbconvert_exporter": "python",
   "pygments_lexer": "ipython3",
   "version": "3.7.4"
  },
  "orig_nbformat": 2,
  "kernelspec": {
   "name": "python374jvsc74a57bd0797ece2db6cd49410b212500b07c3b6429b528fb918ab6c0d0ffbc4c51c5b09e",
   "display_name": "Python 3.7.4 64-bit"
  },
  "metadata": {
   "interpreter": {
    "hash": "797ece2db6cd49410b212500b07c3b6429b528fb918ab6c0d0ffbc4c51c5b09e"
   }
  }
 },
 "nbformat": 4,
 "nbformat_minor": 2,
 "cells": [
  {
   "cell_type": "code",
   "execution_count": 42,
   "metadata": {},
   "outputs": [],
   "source": [
    "class User:\n",
    "    pass\n",
    "    def __init__(self, name, balance,checking_acount: bool):\n",
    "        self.name = name\n",
    "        self.balance = balance\n",
    "        self.checking_acount = checking_acount\n",
    "\n",
    "    def withdraw(self, money):\n",
    "        self.balance -= int(money)\n",
    "        if self.balance <= 0:\n",
    "            raise ValueError(\"There isn't enough money to withdraw.\")\n",
    "        print(f\"{self.name} has {self.balance} in their account.\")\n",
    "        return f\"{self.name} has {self.balance} in their account.\"\n",
    "\n",
    "    def check(self, other_user, money):\n",
    "        if other_user.balance < int(money):\n",
    "            raise ValueError(\"The other user hasn't enough money.\")\n",
    "        elif self.checking_acount == False:\n",
    "            raise f\"{other_user.name} has {self.balance} in their account\"\n",
    "        else:\n",
    "            self.balance += int(money)\n",
    "            return f\"{self.name} has {self.balance} and {other_user.name} has {other_user.balance}.\"\n",
    "            \n",
    "    def add_cash(self, money):\n",
    "        self.balance += int(money)\n",
    "        return f\"{self.name} has {self.balance}.\"\n",
    "\n"
   ]
  },
  {
   "cell_type": "code",
   "execution_count": 43,
   "metadata": {},
   "outputs": [],
   "source": [
    "Buzz = User(\"Buzz\", 100, True)\n",
    "Woody = User(\"Woody\", 50, False)"
   ]
  },
  {
   "cell_type": "code",
   "execution_count": 44,
   "metadata": {},
   "outputs": [
    {
     "output_type": "stream",
     "name": "stdout",
     "text": [
      "Buzz has 95 in their account.\n"
     ]
    },
    {
     "output_type": "execute_result",
     "data": {
      "text/plain": [
       "'Woody has 100.'"
      ]
     },
     "metadata": {},
     "execution_count": 44
    }
   ],
   "source": [
    "Buzz.withdraw(5)\n"
   ]
  },
  {
   "cell_type": "code",
   "execution_count": null,
   "metadata": {},
   "outputs": [],
   "source": [
    "Buzz.check(Woody, 2)\n"
   ]
  },
  {
   "cell_type": "code",
   "execution_count": null,
   "metadata": {},
   "outputs": [],
   "source": []
  },
  {
   "cell_type": "code",
   "execution_count": null,
   "metadata": {},
   "outputs": [],
   "source": [
    "Woody.checking_acount  = True\n",
    "Woody.check(Buzz, 30)\n",
    "\n",
    "Woody.add_cash(20)\n",
    "Woody.check(Buzz, 90)"
   ]
  }
 ]
}