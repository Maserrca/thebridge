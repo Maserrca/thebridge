{
  "nbformat": 4,
  "nbformat_minor": 0,
  "metadata": {
    "kernelspec": {
      "name": "python374jvsc74a57bd0797ece2db6cd49410b212500b07c3b6429b528fb918ab6c0d0ffbc4c51c5b09e",
      "display_name": "Python 3.7.4 64-bit"
    },
    "language_info": {
      "codemirror_mode": {
        "name": "ipython",
        "version": 3
      },
      "file_extension": ".py",
      "mimetype": "text/x-python",
      "name": "python",
      "nbconvert_exporter": "python",
      "pygments_lexer": "ipython3",
      "version": "3.7.4"
    },
    "colab": {
      "name": "exercise_try_except.ipynb",
      "provenance": []
    },
    "metadata": {
      "interpreter": {
        "hash": "797ece2db6cd49410b212500b07c3b6429b528fb918ab6c0d0ffbc4c51c5b09e"
      }
    }
  },
  "cells": [
    {
      "cell_type": "markdown",
      "metadata": {
        "id": "NEUg8H9RogQW"
      },
      "source": [
        "# Python | try&except"
      ]
    },
    {
      "cell_type": "markdown",
      "metadata": {
        "id": "-ZJXttThogQc"
      },
      "source": [
        "Python uses try and except to handle errors gracefully. A graceful exit (or graceful handling) of errors is a simple programming idiom - a program detects a serious error condition and \"exits gracefully\", in a controlled manner as a result. Often the program prints a descriptive error message to a terminal or log as part of the graceful exit, this makes our application more robust. The cause of an exception is often external to the program itself. An example of exceptions could be an incorrect input, wrong file name, unable to find a file, a malfunctioning IO device. Graceful handling of errors prevents our applications from crashing."
      ]
    },
    {
      "cell_type": "markdown",
      "metadata": {
        "id": "AJBlilzxogQd"
      },
      "source": [
        "```python\n",
        "try:\n",
        "    code in this block if things go well\n",
        "except:\n",
        "    code in this block run if things go wrong\n",
        "```"
      ]
    },
    {
      "cell_type": "markdown",
      "metadata": {
        "id": "scUXAocVogQd"
      },
      "source": [
        "### Exercise 1. \n"
      ]
    },
    {
      "cell_type": "markdown",
      "metadata": {
        "id": "yex5V14XogQd"
      },
      "source": [
        "1. In the 4 cells below, modify the code to catch the error and print a meaningful message that will alert the user what went wrong. You may catch the error using a general except or a specific except for the error caused by the code."
      ]
    },
    {
      "cell_type": "code",
      "metadata": {
        "id": "iOG9BoYxogQe",
        "outputId": "ed78a842-b4f5-4244-edf0-8c8aadaaebdf"
      },
      "source": [
        "# Modify the code below:\n",
        "try:\n",
        "    print(some_string)\n",
        "except Exception as error:\n",
        "        print(\"Ha dado error\")\n",
        "        print(\"Error:\", error)"
      ],
      "execution_count": 4,
      "outputs": [
        {
          "output_type": "stream",
          "name": "stdout",
          "text": [
            "Ha dado error\nError: name 'some_string' is not defined\n"
          ]
        }
      ]
    },
    {
      "cell_type": "code",
      "metadata": {
        "id": "Uqk23fUcogQf",
        "outputId": "c98eeb24-7d7f-4e4d-ab33-cc286d77aac7"
      },
      "source": [
        "# Modify the code below:\n",
        "try:\n",
        "    for i in ['a','b','c']:\n",
        "        print (i**2)\n",
        "except Exception as error:\n",
        "        print(\"Ha dado error\")\n",
        "        print(\"Error:\", error)"
      ],
      "execution_count": 9,
      "outputs": [
        {
          "output_type": "stream",
          "name": "stdout",
          "text": [
            "Ha dado error\nError: unsupported operand type(s) for ** or pow(): 'str' and 'int'\n"
          ]
        }
      ]
    },
    {
      "cell_type": "code",
      "metadata": {
        "id": "RWqZYHSxogQf",
        "outputId": "a624e495-95c9-4a76-9fec-d5e2370babbc"
      },
      "source": [
        "# Modify the code below:\n",
        "\n",
        "x = 5\n",
        "y = 0\n",
        "try:\n",
        "    z = x/y\n",
        "except Exception as error:\n",
        "        print(\"Ha dado error\")\n",
        "        print(\"Error:\", error)"
      ],
      "execution_count": 10,
      "outputs": [
        {
          "output_type": "stream",
          "name": "stdout",
          "text": [
            "Ha dado error\nError: division by zero\n"
          ]
        }
      ]
    },
    {
      "cell_type": "code",
      "metadata": {
        "id": "GpB4Ta58ogQg",
        "outputId": "407c8393-03eb-46f7-fb39-e471ae5c7e2e"
      },
      "source": [
        "# Modify the code below:\n",
        "try:\n",
        "    abc=[10,20,20]\n",
        "    print(abc[3])\n",
        "except Exception as error:\n",
        "        print(\"Ha dado error\")\n",
        "        print(\"Error:\", error)"
      ],
      "execution_count": 11,
      "outputs": [
        {
          "output_type": "stream",
          "name": "stdout",
          "text": [
            "Ha dado error\nError: list index out of range\n"
          ]
        }
      ]
    },
    {
      "cell_type": "markdown",
      "metadata": {
        "id": "n7AEjilDogQg"
      },
      "source": [
        "### Exercise 2. "
      ]
    },
    {
      "cell_type": "markdown",
      "metadata": {
        "id": "akRiBEbSogQg"
      },
      "source": [
        "In the 3 cells below, add an if statment that will handle both types of input allowed in the functions."
      ]
    },
    {
      "cell_type": "code",
      "metadata": {
        "id": "sjFNOY3UogQg",
        "outputId": "22f08db7-5e1a-49b2-b041-d1c2d1e3d89d"
      },
      "source": [
        "import math # import a library called math with functions, like sqrt() \n",
        "# Modify the code below to handle positive and negative numbers by adding an if statement and performing a transformation:\n",
        "\n",
        "def sqrt_for_all(x):\n",
        "    if x > 0:\n",
        "    # This function will take any real number and return the square root of its magnitude\n",
        "    # Input: real number\n",
        "    # Output: real number\n",
        "    \n",
        "    # Sample Input: -4\n",
        "    # Sample Output: 2.0\n",
        "        return math.sqrt(x)\n",
        "\n",
        "sqrt_for_all(-1)\n"
      ],
      "execution_count": 18,
      "outputs": [
        {
          "output_type": "execute_result",
          "data": {
            "text/plain": [
              "1.0"
            ]
          },
          "metadata": {},
          "execution_count": 18
        }
      ]
    },
    {
      "cell_type": "code",
      "metadata": {
        "id": "AW4Ye1CiogQh",
        "outputId": "a87bf669-ed90-4c2c-aef6-873ccdc74048"
      },
      "source": [
        "# Modify the code below to handle zero as well. In the case of zero, return zero\n",
        "\n",
        "def divide(x, y):\n",
        "    if x != 0 and y != 0:\n",
        "    # This function will take any two real numbers and return their quotient. If the denominator is zero, we return zero\n",
        "    # Input: real number\n",
        "    # Output: real number\n",
        "    \n",
        "    # Sample Input: 5, 1\n",
        "    # Sample Output: 5.0\n",
        "        return x / y\n",
        "    else:\n",
        "        return 0\n",
        "\n",
        "divide(5, 0)"
      ],
      "execution_count": 20,
      "outputs": [
        {
          "output_type": "execute_result",
          "data": {
            "text/plain": [
              "0"
            ]
          },
          "metadata": {},
          "execution_count": 20
        }
      ]
    },
    {
      "cell_type": "code",
      "metadata": {
        "id": "ASSa3Ko8ogQh",
        "outputId": "24bbe8ba-cfec-41cc-a502-72b778870ac5"
      },
      "source": [
        "# Modify the function below that it will take either an number and a list or two numbers. \n",
        "# If we take two numbers, add them together and return a list of length 1. \n",
        "# Otherwise, add the number to every element of the list and return the resulting list\n",
        "\n",
        "def add_elements(a, l):\n",
        "    if isinstance((a and l), int):\n",
        "       l = str(l)\n",
        "\n",
        "\n",
        "    # This function takes either two numbers or a list and a number and adds the number to all elements of the list\n",
        "    # If the function only takes two numbers, it returns a list of length one that is the sum of the numbers\n",
        "    \n",
        "    # Input: number and list or two numbers\n",
        "    # Output: list\n",
        "    \n",
        "    # Sample Input: 5, 6\n",
        "    # Sample Output: [11]\n",
        "    return [a + int(element) for element in l]\n",
        "        \n",
        "add_elements(5, 6)"
      ],
      "execution_count": 26,
      "outputs": [
        {
          "output_type": "execute_result",
          "data": {
            "text/plain": [
              "[11]"
            ]
          },
          "metadata": {},
          "execution_count": 26
        }
      ]
    },
    {
      "cell_type": "markdown",
      "metadata": {
        "id": "IMDeZ2G-ogQi"
      },
      "source": [
        "### Exercise 3. \n",
        "\n",
        "Write a function that asks for an integer and prints the square of it. Keep checking while the function gets an integer.\n",
        "\n",
        "Use a `while` loop with a `try/except` block to account for incorrect inputs."
      ]
    },
    {
      "cell_type": "code",
      "execution_count": 41,
      "metadata": {},
      "outputs": [
        {
          "output_type": "stream",
          "name": "stdout",
          "text": [
            "Ha dado error:\n"
          ]
        },
        {
          "output_type": "execute_result",
          "data": {
            "text/plain": [
              "('Error:', ValueError(\"invalid literal for int() with base 10: 'f'\"))"
            ]
          },
          "metadata": {},
          "execution_count": 41
        }
      ],
      "source": [
        "def square():\n",
        "    while True:\n",
        "        try:\n",
        "            a = int(input(\"Raíz cuadrada de:\"))\n",
        "            return math.sqrt(a)\n",
        "        except Exception as error:\n",
        "            print(\"Ha dado error:\")\n",
        "            print(\"Error:\", error)\n",
        "square()"
      ]
    },
    {
      "cell_type": "markdown",
      "metadata": {
        "id": "8DDY_iCPogQi"
      },
      "source": [
        "### Bonus track.\n",
        "\n",
        "1. Solve this kata in **codewars**.\n",
        "\n",
        "https://www.codewars.com/kata/560fbc2d636966b21e00009e"
      ]
    },
    {
      "cell_type": "code",
      "metadata": {
        "id": "L2v7lw-HogQi"
      },
      "source": [
        "try"
      ],
      "execution_count": null,
      "outputs": []
    },
    {
      "cell_type": "markdown",
      "metadata": {
        "id": "DPO-uqU-ogQj"
      },
      "source": [
        "2. Make a program using `while` that generates a **deck of cards** of 4 different suits. The deck must have 40 cards.\n",
        "\n",
        "   Develop the program in a `.py` file that will be run through the terminal. \n",
        "   \n",
        "   Then, import the module to this notebook and show the deck you've generated below."
      ]
    },
    {
      "cell_type": "code",
      "metadata": {
        "id": "a7zakV0LogQj"
      },
      "source": [],
      "execution_count": null,
      "outputs": []
    },
    {
      "cell_type": "markdown",
      "metadata": {
        "id": "z4d7ECHIogQj"
      },
      "source": [
        "![\"lol\"](https://i.pinimg.com/originals/34/b2/ad/34b2ad1c370539fba5ed9422711cad7b.png)"
      ]
    }
  ]
}