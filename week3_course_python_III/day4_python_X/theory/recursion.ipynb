{
 "metadata": {
  "language_info": {
   "codemirror_mode": {
    "name": "ipython",
    "version": 3
   },
   "file_extension": ".py",
   "mimetype": "text/x-python",
   "name": "python",
   "nbconvert_exporter": "python",
   "pygments_lexer": "ipython3",
   "version": "3.7.4"
  },
  "orig_nbformat": 2,
  "kernelspec": {
   "name": "python374jvsc74a57bd0797ece2db6cd49410b212500b07c3b6429b528fb918ab6c0d0ffbc4c51c5b09e",
   "display_name": "Python 3.7.4 64-bit"
  },
  "metadata": {
   "interpreter": {
    "hash": "797ece2db6cd49410b212500b07c3b6429b528fb918ab6c0d0ffbc4c51c5b09e"
   }
  }
 },
 "nbformat": 4,
 "nbformat_minor": 2,
 "cells": [
  {
   "cell_type": "code",
   "execution_count": null,
   "metadata": {},
   "outputs": [],
   "source": [
    "def f1():\n",
    "    print(1)\n",
    "    f1()\n",
    "\n",
    "##Esto seria un bucle infinito pero no podemos romperlo con  break debemos usar un contador y un return"
   ]
  },
  {
   "cell_type": "code",
   "execution_count": null,
   "metadata": {},
   "outputs": [],
   "source": [
    "def f1(cont=0:\n",
    "    if cont == 3: #caso base\n",
    "        return cont\n",
    "        print(1)\n",
    "        return f1(cont = cont +1)\n",
    "##Llama a la funcion dentro del return lo que hace que vuelva arriba crea un bucle while por asi decir hasta que entra en la condicion que retorna otra cosa"
   ]
  },
  {
   "cell_type": "code",
   "execution_count": 4,
   "metadata": {},
   "outputs": [
    {
     "output_type": "execute_result",
     "data": {
      "text/plain": [
       "120"
      ]
     },
     "metadata": {},
     "execution_count": 4
    }
   ],
   "source": [
    "\n",
    "import math\n",
    "math.factorial(5)\n"
   ]
  },
  {
   "cell_type": "code",
   "execution_count": null,
   "metadata": {},
   "outputs": [],
   "source": [
    "##Factorial ejemplo 5!\n",
    "5*4*3*2*1\n",
    "def factorial(n):\n",
    "    if n == 1:\n",
    "        return n \n",
    "    return factorial(n= n*(n-1))\n",
    "    ##Otro bucle infinito porque n aumenta, creamios una forma de mantenerlo a ralla, un contador\n"
   ]
  },
  {
   "cell_type": "code",
   "execution_count": 14,
   "metadata": {},
   "outputs": [
    {
     "output_type": "execute_result",
     "data": {
      "text/plain": [
       "120"
      ]
     },
     "metadata": {},
     "execution_count": 14
    }
   ],
   "source": [
    "## Con contador\n",
    "def factorial(n, cont=1):\n",
    "    if n == 1:\n",
    "        return cont\n",
    "    cont = cont *(n)\n",
    "    return factorial(n= n-1 ,cont=cont)\n",
    "\n",
    "factorial(5)"
   ]
  },
  {
   "cell_type": "code",
   "execution_count": 8,
   "metadata": {},
   "outputs": [
    {
     "output_type": "execute_result",
     "data": {
      "text/plain": [
       "120"
      ]
     },
     "metadata": {},
     "execution_count": 8
    }
   ],
   "source": [
    "##Sin contador\n",
    "def factorial_sin_cont(n):\n",
    "    if n == 1:\n",
    "        return n\n",
    "    return n*factorial_sin_cont(n=n-1)\n",
    "\n",
    "factorial_sin_cont(5)"
   ]
  },
  {
   "cell_type": "code",
   "execution_count": null,
   "metadata": {},
   "outputs": [],
   "source": []
  }
 ]
}