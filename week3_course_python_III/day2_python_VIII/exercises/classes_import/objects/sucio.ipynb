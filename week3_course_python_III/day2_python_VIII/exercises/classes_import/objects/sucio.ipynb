{
 "metadata": {
  "language_info": {
   "codemirror_mode": {
    "name": "ipython",
    "version": 3
   },
   "file_extension": ".py",
   "mimetype": "text/x-python",
   "name": "python",
   "nbconvert_exporter": "python",
   "pygments_lexer": "ipython3",
   "version": "3.7.4"
  },
  "orig_nbformat": 2,
  "kernelspec": {
   "name": "python374jvsc74a57bd0797ece2db6cd49410b212500b07c3b6429b528fb918ab6c0d0ffbc4c51c5b09e",
   "display_name": "Python 3.7.4 64-bit"
  },
  "metadata": {
   "interpreter": {
    "hash": "797ece2db6cd49410b212500b07c3b6429b528fb918ab6c0d0ffbc4c51c5b09e"
   }
  }
 },
 "nbformat": 4,
 "nbformat_minor": 2,
 "cells": [
  {
   "cell_type": "code",
   "execution_count": null,
   "metadata": {},
   "outputs": [],
   "source": [
    "    def mostrar(self):\n",
    "        f\"El nombre del humano es: {self.nombre}\""
   ]
  },
  {
   "cell_type": "code",
   "execution_count": 2,
   "metadata": {},
   "outputs": [
    {
     "output_type": "error",
     "ename": "SyntaxError",
     "evalue": "invalid syntax (<ipython-input-2-b586e2a3a0b8>, line 15)",
     "traceback": [
      "\u001b[1;36m  File \u001b[1;32m\"<ipython-input-2-b586e2a3a0b8>\"\u001b[1;36m, line \u001b[1;32m15\u001b[0m\n\u001b[1;33m    if humano.salud =< 0:\u001b[0m\n\u001b[1;37m                    ^\u001b[0m\n\u001b[1;31mSyntaxError\u001b[0m\u001b[1;31m:\u001b[0m invalid syntax\n"
     ]
    }
   ],
   "source": [
    "\n",
    "class Humano:\n",
    "    def __init__(self, nombre, armadura, nivel, ataque, ojos=2,piernas=2, dientes=32, salud=100):\n",
    "        self.ojos = 2\n",
    "        self.piernas = 2\n",
    "        self.dientes = 32\n",
    "        self.nombre = nombre\n",
    "        self.armadura = armadura\n",
    "        self.ataque = ataque\n",
    "        self.nivel = nivel\n",
    "        self.salud = 100\n",
    "    def atacar(self, orco):\n",
    "        orco.salud = orco.salud - (humano.ataque - orco.armadura)\n",
    "        print(orco.salud)\n",
    "    def no_vivo(self, humano):\n",
    "        if humano.salud =< 0:\n",
    "            return True\n",
    "        else:\n",
    "            return False\n",
    "    def mostrar(self):\n",
    "        print(\"Nombre\", self.nombre, \"|\", \"Armadura:\", self.armadura ,\"|\", \"Nivel:\", self.nivel ,\"|\", \"Ataque:\", self.ataque,\"|\", \"Ojos:\", self.ojos,\"|\", \"Piernas:\", self.piernas, \"|\", \"Dientes:\", self.dientes, \"|\",\"Salud:\", self.salud)\n"
   ]
  },
  {
   "cell_type": "code",
   "execution_count": null,
   "metadata": {},
   "outputs": [],
   "source": []
  }
 ]
}