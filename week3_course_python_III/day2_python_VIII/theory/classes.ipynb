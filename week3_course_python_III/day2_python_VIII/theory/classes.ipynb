{
 "metadata": {
  "language_info": {
   "codemirror_mode": {
    "name": "ipython",
    "version": 3
   },
   "file_extension": ".py",
   "mimetype": "text/x-python",
   "name": "python",
   "nbconvert_exporter": "python",
   "pygments_lexer": "ipython3",
   "version": "3.7.4"
  },
  "orig_nbformat": 2,
  "kernelspec": {
   "name": "python374jvsc74a57bd0797ece2db6cd49410b212500b07c3b6429b528fb918ab6c0d0ffbc4c51c5b09e",
   "display_name": "Python 3.7.4 64-bit"
  },
  "metadata": {
   "interpreter": {
    "hash": "797ece2db6cd49410b212500b07c3b6429b528fb918ab6c0d0ffbc4c51c5b09e"
   }
  }
 },
 "nbformat": 4,
 "nbformat_minor": 2,
 "cells": [
  {
   "source": [
    "# OPP --> PROGRAMACIÓN ORIENTADA A OBJETOS/CLASE\n"
   ],
   "cell_type": "markdown",
   "metadata": {}
  },
  {
   "cell_type": "code",
   "execution_count": null,
   "metadata": {},
   "outputs": [],
   "source": [
    "#Mala praxis para representar una clase\n",
    "ojos = 2\n",
    "piernas = 2\n",
    "\n",
    "#La idea de clase  viene de un \n",
    "#Clase\n",
    "#Constructor, \n",
    "\n",
    "#instancia\n"
   ]
  },
  {
   "cell_type": "code",
   "execution_count": null,
   "metadata": {},
   "outputs": [],
   "source": [
    "class Humano:\n",
    "    #Constructor, una funcion que se crea \n",
    "    def __init__(self, nombre, ojos=2, edad, sexo, altura, color_pelo, especie = \"Homo Sapiens\"):\n",
    "        #para crear un atributo de una clase tienes que utilizar self.\n",
    "        self.nombre = nombre\n"
   ]
  },
  {
   "cell_type": "code",
   "execution_count": 5,
   "metadata": {},
   "outputs": [
    {
     "output_type": "stream",
     "name": "stdout",
     "text": [
      "Ataulfo\n25\n"
     ]
    }
   ],
   "source": [
    "class Humano:\n",
    "    #Constructor, una funcion que se crea \n",
    "    def __init__(self, n, edad, sexo, altura, color_pelo,ojos=2, especie = \"Homo Sapiens\"):\n",
    "        #para crear un atributo de una clase tienes que utilizar self.\n",
    "        self.nombre = n ##La izquierda es el nombre del atributo de la clase humana  y a la derecha esta el valor recogido en parametro.\n",
    "        self.edad = edad ## hasta que yo no hago self.algo ese parametro no existe, si le pongo un nuevo valor aleatorio aqui ese será el que tomará\n",
    "#Crear la instancia de humano, todos somos seres humanos pero cada uno somos una instancia diferente\n",
    "ataulfo = Humano(n=\"Ataulfo\", edad = 25,  sexo=\"H\", altura = 2.20, ojos =3, color_pelo = \"PELIRROJO\")\n",
    "#llamo al valor de nombre sobre el self previamente, tienes que asignarle self previamente en el constructor\n",
    "print(ataulfo.nombre)\n",
    "print(ataulfo.edad)\n",
    "\n",
    "def mostrar "
   ]
  },
  {
   "cell_type": "code",
   "execution_count": null,
   "metadata": {},
   "outputs": [],
   "source": []
  }
 ]
}