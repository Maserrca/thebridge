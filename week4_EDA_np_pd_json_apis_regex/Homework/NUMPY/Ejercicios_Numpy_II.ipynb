{
  "nbformat": 4,
  "nbformat_minor": 0,
  "metadata": {
    "kernelspec": {
      "name": "python374jvsc74a57bd0797ece2db6cd49410b212500b07c3b6429b528fb918ab6c0d0ffbc4c51c5b09e",
      "display_name": "Python 3.7.4 64-bit"
    },
    "language_info": {
      "codemirror_mode": {
        "name": "ipython",
        "version": 3
      },
      "file_extension": ".py",
      "mimetype": "text/x-python",
      "name": "python",
      "nbconvert_exporter": "python",
      "pygments_lexer": "ipython3",
      "version": "3.7.4"
    },
    "colab": {
      "name": "Ejercicios Numpy II.ipynb",
      "provenance": []
    },
    "metadata": {
      "interpreter": {
        "hash": "797ece2db6cd49410b212500b07c3b6429b528fb918ab6c0d0ffbc4c51c5b09e"
      }
    }
  },
  "cells": [
    {
      "cell_type": "markdown",
      "metadata": {
        "id": "jTUeNzVxmvHZ"
      },
      "source": [
        "# Ejercicios Numpy II"
      ]
    },
    {
      "cell_type": "markdown",
      "metadata": {
        "id": "o29SMRlfmvHn"
      },
      "source": [
        "## Ejercicio 1\n",
        "1. Crea un array que vaya del 0 al 9 y que se llame `my_array`\n",
        "2. Imprime por pantalla los elementos [9 7 5 3 1] en ese orden."
      ]
    },
    {
      "cell_type": "code",
      "execution_count": 25,
      "metadata": {},
      "outputs": [],
      "source": [
        "import numpy as np"
      ]
    },
    {
      "cell_type": "code",
      "execution_count": 26,
      "metadata": {},
      "outputs": [
        {
          "output_type": "stream",
          "name": "stdout",
          "text": [
            "[0 1 2 3 4 5 6 7 8 9]\n[9 7 5 3 1]\n"
          ]
        }
      ],
      "source": [
        "my_array = np.arange(10)\n",
        "print(my_array)\n",
        "print(my_array[-1::-2])"
      ]
    },
    {
      "cell_type": "markdown",
      "metadata": {
        "id": "SWhKFG-MmvHs"
      },
      "source": [
        "## Ejercicio 2\n",
        "Imprime por pantalla la secuencia [[8 7]] del array `my_array`"
      ]
    },
    {
      "cell_type": "code",
      "metadata": {
        "id": "f4uGzgAWmvHt"
      },
      "source": [
        "print(my_array[-2:-4:-1])"
      ],
      "execution_count": 27,
      "outputs": [
        {
          "output_type": "stream",
          "name": "stdout",
          "text": [
            "[8 7]\n"
          ]
        }
      ]
    },
    {
      "cell_type": "markdown",
      "metadata": {
        "id": "ArtEZSD4mvHu"
      },
      "source": [
        "## Ejercicio 3\n",
        "Imprime por pantalla la secuencia [[2 1 0]] de `my_array`"
      ]
    },
    {
      "cell_type": "code",
      "metadata": {
        "id": "sVGBuB5OmvHv"
      },
      "source": [
        "print(my_array[2::-1])"
      ],
      "execution_count": 28,
      "outputs": [
        {
          "output_type": "stream",
          "name": "stdout",
          "text": [
            "[2 1 0]\n"
          ]
        }
      ]
    },
    {
      "cell_type": "markdown",
      "metadata": {
        "id": "Vrca9CffmvHw"
      },
      "source": [
        "## Ejercicio 4\n",
        "1. Crea una matriz de 4x5, con una secuencia del 1 al 20\n",
        "2. Invierte totalmente la matriz. Tanto las filas, como las columnas"
      ]
    },
    {
      "cell_type": "code",
      "execution_count": 79,
      "metadata": {},
      "outputs": [
        {
          "output_type": "stream",
          "name": "stdout",
          "text": [
            "[[ 1  2  3  4  5]\n [ 6  7  8  9 10]\n [11 12 13 14 15]\n [16 17 18 19 20]]\n"
          ]
        },
        {
          "output_type": "execute_result",
          "data": {
            "text/plain": [
              "array([[20, 19, 18, 17, 16],\n",
              "       [15, 14, 13, 12, 11],\n",
              "       [10,  9,  8,  7,  6],\n",
              "       [ 5,  4,  3,  2,  1]])"
            ]
          },
          "metadata": {},
          "execution_count": 79
        }
      ],
      "source": [
        "my_matrix = np.arange(1,21)\n",
        "my_matrix = my_matrix.reshape((4,5))\n",
        "print(my_matrix)\n",
        "np.flip(my_matrix)"
      ]
    },
    {
      "cell_type": "code",
      "execution_count": null,
      "metadata": {},
      "outputs": [],
      "source": []
    },
    {
      "cell_type": "markdown",
      "metadata": {
        "id": "co38-BfjmvHy"
      },
      "source": [
        "## Ejercicio 5\n",
        "\n",
        "Obtén el siguiente array, partiendo de la matriz del ejercicio 4\n",
        "```Python\n",
        "array([[1, 2],\n",
        "       [6, 7]])\n",
        "```"
      ]
    },
    {
      "cell_type": "code",
      "metadata": {
        "id": "zuwXnnJNmvHz"
      },
      "source": [
        "my_matrix[0:2,0:2]"
      ],
      "execution_count": 80,
      "outputs": [
        {
          "output_type": "execute_result",
          "data": {
            "text/plain": [
              "array([[1, 2],\n",
              "       [6, 7]])"
            ]
          },
          "metadata": {},
          "execution_count": 80
        }
      ]
    },
    {
      "cell_type": "markdown",
      "metadata": {
        "id": "R_80cI1fmvH0"
      },
      "source": [
        "## Ejercicio 6\n",
        "Obtén el siguiente array, partiendo de la matriz del ejercicio 4\n",
        "```Python\n",
        "array([[ 1,  3,  5],\n",
        "       [11, 13, 15]])\n",
        "```"
      ]
    },
    {
      "cell_type": "code",
      "execution_count": 85,
      "metadata": {},
      "outputs": [
        {
          "output_type": "stream",
          "name": "stdout",
          "text": [
            "[[ 1  2  3  4  5]\n [ 6  7  8  9 10]\n [11 12 13 14 15]\n [16 17 18 19 20]]\n"
          ]
        }
      ],
      "source": [
        "my_matrix = np.arange(1,21)\n",
        "my_matrix = my_matrix.reshape((4,5))\n",
        "print(my_matrix)"
      ]
    },
    {
      "cell_type": "code",
      "metadata": {
        "id": "pnALPJjjmvH1"
      },
      "source": [
        "my_matrix[0:4:2, 0::2]"
      ],
      "execution_count": 165,
      "outputs": [
        {
          "output_type": "execute_result",
          "data": {
            "text/plain": [
              "array([[ 1,  3,  5],\n",
              "       [11, 13, 15]])"
            ]
          },
          "metadata": {},
          "execution_count": 165
        }
      ]
    },
    {
      "cell_type": "markdown",
      "metadata": {
        "id": "EeOk02MimvH1"
      },
      "source": [
        "## Ejercicio 7\n",
        "Obtén el siguiente array, partiendo de la matriz del ejercicio 4\n",
        "```Python\n",
        "array([[ 5,  4,  3,  2,  1],\n",
        "       [10,  9,  8,  7,  6],\n",
        "       [15, 14, 13, 12, 11]])\n",
        "```"
      ]
    },
    {
      "cell_type": "code",
      "metadata": {
        "id": "q2qxku3bmvH3"
      },
      "source": [
        "my_matrix[0:3, ::-1]"
      ],
      "execution_count": 170,
      "outputs": [
        {
          "output_type": "execute_result",
          "data": {
            "text/plain": [
              "array([[ 5,  4,  3,  2,  1],\n",
              "       [10,  9,  8,  7,  6],\n",
              "       [15, 14, 13, 12, 11]])"
            ]
          },
          "metadata": {},
          "execution_count": 170
        }
      ]
    },
    {
      "cell_type": "markdown",
      "metadata": {
        "id": "KtujeSodmvH3"
      },
      "source": [
        "## Ejercicio 8\n",
        "Dado el siguiente array:\n",
        "\n",
        "```Python\n",
        "x = np.array([\"Loro\", \"Perro\", \"Gato\", \"Loro\", \"Perro\"])\n",
        "```\n",
        "\n",
        "Filtra el array para quedarte únicamente con los loros.\n",
        "\n",
        "Resuélvelo de dos maneras diferentes"
      ]
    },
    {
      "cell_type": "code",
      "metadata": {
        "id": "n6t4bbUgmvH4"
      },
      "source": [
        "x = np.array([\"Loro\", \"Perro\", \"Gato\", \"Loro\", \"Perro\"])\n",
        "n = []\n",
        "for i in x:\n",
        "    if i == \"Loro\":\n",
        "        n.append(i)\n",
        "        y = np.array(n)\n",
        "\n",
        "print(y)"
      ],
      "execution_count": 164,
      "outputs": [
        {
          "output_type": "stream",
          "name": "stdout",
          "text": [
            "['Loro' 'Loro']\n"
          ]
        }
      ]
    },
    {
      "cell_type": "code",
      "execution_count": 160,
      "metadata": {},
      "outputs": [
        {
          "output_type": "stream",
          "name": "stdout",
          "text": [
            "<generator object <genexpr> at 0x0000024654FC2DC8>\n"
          ]
        }
      ],
      "source": [
        "new = np.array(z for z in list(x) if z == \"Loro\")\n",
        "print(new)"
      ]
    },
    {
      "cell_type": "code",
      "execution_count": 93,
      "metadata": {},
      "outputs": [
        {
          "output_type": "execute_result",
          "data": {
            "text/plain": [
              "array(['Loro', 'Loro'], dtype='<U5')"
            ]
          },
          "metadata": {},
          "execution_count": 93
        }
      ],
      "source": [
        "filtered = x[x == \"Loro\"]\n",
        "filtered"
      ]
    },
    {
      "cell_type": "code",
      "execution_count": null,
      "metadata": {},
      "outputs": [],
      "source": [
        "m = [row for row in l if 'a' == \"Loro\"]"
      ]
    },
    {
      "cell_type": "code",
      "execution_count": null,
      "metadata": {},
      "outputs": [],
      "source": []
    },
    {
      "cell_type": "code",
      "metadata": {
        "id": "TCeavGTwmvH5"
      },
      "source": [
        "filter(lambda i: i == \"Loro\" i )"
      ],
      "execution_count": 94,
      "outputs": [
        {
          "output_type": "error",
          "ename": "SyntaxError",
          "evalue": "invalid syntax (<ipython-input-94-d1582446a5a1>, line 1)",
          "traceback": [
            "\u001b[1;36m  File \u001b[1;32m\"<ipython-input-94-d1582446a5a1>\"\u001b[1;36m, line \u001b[1;32m1\u001b[0m\n\u001b[1;33m    filter(lambda i: i == \"Loro\" i )\u001b[0m\n\u001b[1;37m                                 ^\u001b[0m\n\u001b[1;31mSyntaxError\u001b[0m\u001b[1;31m:\u001b[0m invalid syntax\n"
          ]
        }
      ]
    },
    {
      "cell_type": "markdown",
      "metadata": {
        "id": "1E3PJ2QDmvH5"
      },
      "source": [
        "## Ejercicio 9\n",
        "Crea una secuencia de 20 elementos y transformala en un array compuesto por 2 matrices de 5x2"
      ]
    },
    {
      "cell_type": "code",
      "metadata": {
        "id": "9b5vOMbLmvH6"
      },
      "source": [
        "my_matrix9 = np.arange(1,21)\n",
        "my_matrix9 = my_matrix9.reshape((2,5,2))\n",
        "print(my_matrix9)"
      ],
      "execution_count": 49,
      "outputs": [
        {
          "output_type": "stream",
          "name": "stdout",
          "text": [
            "[[[ 1  2]\n  [ 3  4]\n  [ 5  6]\n  [ 7  8]\n  [ 9 10]]\n\n [[11 12]\n  [13 14]\n  [15 16]\n  [17 18]\n  [19 20]]]\n"
          ]
        }
      ]
    },
    {
      "cell_type": "markdown",
      "metadata": {
        "id": "2cEmWkvDmvH6"
      },
      "source": [
        "## Ejercicio 10\n",
        "Obtén el siguiente array, partiendo de la matriz del **ejercicio 4**\n",
        "```Python\n",
        "array([[20, 19, 18, 17, 16],\n",
        "       [15, 14, 13, 12, 11],\n",
        "       [10,  9,  8,  7,  6],\n",
        "       [ 5,  4,  3,  2,  1]])\n",
        "```"
      ]
    },
    {
      "cell_type": "code",
      "metadata": {
        "id": "v05-2MzTmvH7"
      },
      "source": [
        "my_matrix = np.arange(1,21)\n",
        "my_matrix = my_matrix.reshape((4,5))\n",
        "matrix10 = np.flip(my_matrix)\n",
        "print(matrix10)"
      ],
      "execution_count": 52,
      "outputs": [
        {
          "output_type": "stream",
          "name": "stdout",
          "text": [
            "[[20 19 18 17 16]\n [15 14 13 12 11]\n [10  9  8  7  6]\n [ 5  4  3  2  1]]\n"
          ]
        }
      ]
    },
    {
      "cell_type": "markdown",
      "metadata": {
        "id": "DaxAlHv4mvH7"
      },
      "source": [
        "## Ejercicio 11\n",
        "Crea un array de 10 0s. ¿Cuánto ocupa en memoria?\n",
        "\n",
        "Sustituye el 4to elemento por 1, e imprime el array por pantalla"
      ]
    },
    {
      "cell_type": "code",
      "execution_count": 61,
      "metadata": {},
      "outputs": [
        {
          "output_type": "stream",
          "name": "stdout",
          "text": [
            "184\n"
          ]
        }
      ],
      "source": [
        "import sys\n",
        "ceros = np.zeros(10)\n",
        "print(sys.getsizeof(ceros))"
      ]
    },
    {
      "cell_type": "code",
      "execution_count": 62,
      "metadata": {},
      "outputs": [
        {
          "output_type": "stream",
          "name": "stdout",
          "text": [
            "  C_CONTIGUOUS : True\n  F_CONTIGUOUS : True\n  OWNDATA : True\n  WRITEABLE : True\n  ALIGNED : True\n  WRITEBACKIFCOPY : False\n  UPDATEIFCOPY : False\n\n"
          ]
        }
      ],
      "source": [
        "print(ceros.flags)"
      ]
    },
    {
      "cell_type": "code",
      "metadata": {
        "id": "6t4Tzcc8mvH8"
      },
      "source": [
        "\n",
        "ceros[3] = 1\n",
        "print(ceros)"
      ],
      "execution_count": 57,
      "outputs": [
        {
          "output_type": "stream",
          "name": "stdout",
          "text": [
            "[0. 0. 0. 0. 0. 0. 0. 0. 0. 0.]\n[0. 0. 0. 1. 0. 0. 0. 0. 0. 0.]\n"
          ]
        }
      ]
    },
    {
      "cell_type": "code",
      "execution_count": null,
      "metadata": {},
      "outputs": [],
      "source": []
    },
    {
      "cell_type": "markdown",
      "metadata": {
        "id": "HmrwD4CJmvH8"
      },
      "source": [
        "## Ejercicio 12\n",
        "Crea un vector que vaya del 10 al 49\n",
        "\n",
        "Inviértelo"
      ]
    },
    {
      "cell_type": "code",
      "metadata": {
        "id": "vcnQU8McmvH8"
      },
      "source": [
        "vector = np.arange(10,50)\n",
        "print(vector)\n",
        "np.flip(vector)"
      ],
      "execution_count": 65,
      "outputs": [
        {
          "output_type": "stream",
          "name": "stdout",
          "text": [
            "[10 11 12 13 14 15 16 17 18 19 20 21 22 23 24 25 26 27 28 29 30 31 32 33\n 34 35 36 37 38 39 40 41 42 43 44 45 46 47 48 49]\n"
          ]
        },
        {
          "output_type": "execute_result",
          "data": {
            "text/plain": [
              "array([49, 48, 47, 46, 45, 44, 43, 42, 41, 40, 39, 38, 37, 36, 35, 34, 33,\n",
              "       32, 31, 30, 29, 28, 27, 26, 25, 24, 23, 22, 21, 20, 19, 18, 17, 16,\n",
              "       15, 14, 13, 12, 11, 10])"
            ]
          },
          "metadata": {},
          "execution_count": 65
        }
      ]
    },
    {
      "cell_type": "markdown",
      "metadata": {
        "id": "tTaEx-FZmvH9"
      },
      "source": [
        "## Ejericio 13\n",
        "Encuentra los indices de los valores que no sean 0 del siguiente vector [[1,2,0,0,4,0]]. El output sería [[0, 1, 4]]. [Encuentra el método apropiado en la documentación.](https://numpy.org/doc/)"
      ]
    },
    {
      "cell_type": "code",
      "metadata": {
        "id": "9K_8qKecmvH9"
      },
      "source": [
        "l = [1,2,0,0,4,0]\n",
        "x = []\n",
        "np.array(l)\n",
        "np.array(x)\n",
        "for i, elem in enumerate(l):\n",
        "    if elem != 0:\n",
        "        x.append(i)\n",
        "\n",
        "print(x)"
      ],
      "execution_count": 72,
      "outputs": [
        {
          "output_type": "stream",
          "name": "stdout",
          "text": [
            "[0, 1, 4]\n"
          ]
        }
      ]
    },
    {
      "cell_type": "code",
      "execution_count": 75,
      "metadata": {},
      "outputs": [
        {
          "output_type": "stream",
          "name": "stdout",
          "text": [
            "(array([0, 1, 4], dtype=int64),)\n"
          ]
        }
      ],
      "source": [
        "nocero = np.nonzero(l)\n",
        "print(nocero)"
      ]
    },
    {
      "cell_type": "markdown",
      "metadata": {
        "id": "AHGTRuBCmvH-"
      },
      "source": [
        "## Ejercicio 14\n",
        "Crea una matriz de numeros aleatorios 10x10. Encuentra los valores mínimo y máximo."
      ]
    },
    {
      "cell_type": "code",
      "metadata": {
        "id": "50m5GVz5mvH-"
      },
      "source": [
        "x =np.random.randint( 100, size = (10,10))\n",
        "print(x)\n",
        "print(np.min(x))\n",
        "print(np.max(x))"
      ],
      "execution_count": 77,
      "outputs": [
        {
          "output_type": "stream",
          "name": "stdout",
          "text": [
            "[[52 12 95  0 75  8 22 62 20 18]\n [42  1 73 43 36 26 45 78 67  7]\n [19 60 62 10 19 98 25  2 85 38]\n [64 54 53 23 26 99 44 50 50 84]\n [15 33 11 92 50 24 45 83 10 70]\n [17 58 11 91 84 39 29 29 64 55]\n [97 57 44 56 89 94 54 46 48 89]\n [12 44 17 83 61 65 47 43 31 10]\n [61 43 25 72 53 17 47 70 91 70]\n [34  9  1 23 97 22 16 31  7 79]]\n0\n99\n"
          ]
        }
      ]
    },
    {
      "cell_type": "markdown",
      "metadata": {
        "id": "2rYy914NmvH-"
      },
      "source": [
        "## Ejercicio 15\n",
        "Crea un vector aleatorio de tamaño 30 y calcula su media"
      ]
    },
    {
      "cell_type": "code",
      "metadata": {
        "id": "W0k7_HvDmvH_"
      },
      "source": [
        "treinta = np.arange(30)\n",
        "treinta.mean()"
      ],
      "execution_count": 78,
      "outputs": [
        {
          "output_type": "execute_result",
          "data": {
            "text/plain": [
              "14.5"
            ]
          },
          "metadata": {},
          "execution_count": 78
        }
      ]
    },
    {
      "cell_type": "markdown",
      "metadata": {
        "id": "RIp6yaX6mvH_"
      },
      "source": [
        "## Ejercicio 16\n",
        "Crea un array cuadrado de 2D, con las dimensiones que quieras, pero que todo el borde esté compuesto por 1s, y el interior por 0s"
      ]
    },
    {
      "cell_type": "code",
      "metadata": {
        "id": "XEtQys4ImvIA"
      },
      "source": [
        "ones = np.ones(9).reshape((3,3))\n",
        "ones[1,1] = 0\n",
        "ones"
      ],
      "execution_count": 99,
      "outputs": [
        {
          "output_type": "execute_result",
          "data": {
            "text/plain": [
              "array([[1., 1., 1.],\n",
              "       [1., 0., 1.],\n",
              "       [1., 1., 1.]])"
            ]
          },
          "metadata": {},
          "execution_count": 99
        }
      ]
    },
    {
      "cell_type": "markdown",
      "metadata": {
        "id": "3r3JjlUlmvIA"
      },
      "source": [
        "## Ejercicio 17\n",
        "Crea una matriz de 8x8, y rellénala con 0s y 1s. Tienes que replicar:\n",
        "```Python\n",
        "[[0 1 0 1 0 1 0 1]\n",
        " [1 0 1 0 1 0 1 0]\n",
        " [0 1 0 1 0 1 0 1]\n",
        " [1 0 1 0 1 0 1 0]\n",
        " [0 1 0 1 0 1 0 1]\n",
        " [1 0 1 0 1 0 1 0]\n",
        " [0 1 0 1 0 1 0 1]\n",
        " [1 0 1 0 1 0 1 0]]\n",
        "```"
      ]
    },
    {
      "cell_type": "code",
      "metadata": {
        "id": "4zZ_1q0bmvIB"
      },
      "source": [
        "ceros = np.zeros((8,8), dtype=int)\n",
        "ceros[1::2,::2] = 1\n",
        "ceros[::2,1::2] = 1\n",
        "print(ceros)"
      ],
      "execution_count": 146,
      "outputs": [
        {
          "output_type": "stream",
          "name": "stdout",
          "text": [
            "[[0 1 0 1 0 1 0 1]\n [1 0 1 0 1 0 1 0]\n [0 1 0 1 0 1 0 1]\n [1 0 1 0 1 0 1 0]\n [0 1 0 1 0 1 0 1]\n [1 0 1 0 1 0 1 0]\n [0 1 0 1 0 1 0 1]\n [1 0 1 0 1 0 1 0]]\n"
          ]
        }
      ]
    },
    {
      "cell_type": "markdown",
      "metadata": {
        "id": "JWLIFrq3mvIB"
      },
      "source": [
        "## Ejercicio 18\n",
        "Replica la matriz del apartado anterior, pero en este caso usando [la función `tile`](https://numpy.org/doc/stable/reference/generated/numpy.tile.html)"
      ]
    },
    {
      "cell_type": "code",
      "metadata": {
        "id": "QVFoV77SmvIB"
      },
      "source": [
        "a = np.array([[0, 1],[1,0]])\n",
        "print(np.tile(a, (4,4)))"
      ],
      "execution_count": 154,
      "outputs": [
        {
          "output_type": "stream",
          "name": "stdout",
          "text": [
            "[[0 1 0 1 0 1 0 1]\n [1 0 1 0 1 0 1 0]\n [0 1 0 1 0 1 0 1]\n [1 0 1 0 1 0 1 0]\n [0 1 0 1 0 1 0 1]\n [1 0 1 0 1 0 1 0]\n [0 1 0 1 0 1 0 1]\n [1 0 1 0 1 0 1 0]]\n"
          ]
        }
      ]
    },
    {
      "cell_type": "code",
      "execution_count": 153,
      "metadata": {},
      "outputs": [
        {
          "output_type": "execute_result",
          "data": {
            "text/plain": [
              "array([[0, 1],\n",
              "       [1, 0]])"
            ]
          },
          "metadata": {},
          "execution_count": 153
        }
      ],
      "source": [
        "a\n"
      ]
    },
    {
      "cell_type": "markdown",
      "metadata": {
        "id": "E0E9dAnamvIC"
      },
      "source": [
        "## Ejercicio 19\n",
        "Crea una matriz aleatoria de 5x5 y normaliza sus valores. Para normalizar tienes que restar sus valores por la media(`np.mean`) y dividir el resultado por la desviación estándar(`np.std`)."
      ]
    },
    {
      "cell_type": "code",
      "metadata": {
        "id": "uwVJClXZmvIC"
      },
      "source": [
        "x =np.random.randint(20, size = (5,5))\n",
        "y = (x - np.mean(x))/np.std(x)\n",
        "y"
      ],
      "execution_count": 111,
      "outputs": [
        {
          "output_type": "execute_result",
          "data": {
            "text/plain": [
              "array([[ 1.62641795, -0.06776741, -0.27954059, -1.55017961, -1.12663327],\n",
              "       [-0.70308693,  0.99109844,  0.5675521 ,  0.5675521 ,  0.77932527],\n",
              "       [ 0.77932527, -1.55017961,  1.62641795,  0.14400576,  0.5675521 ],\n",
              "       [ 0.5675521 , -0.70308693,  1.41464478, -1.12663327,  0.35577893],\n",
              "       [-0.49131376, -1.97372595,  0.35577893, -1.12663327,  0.35577893]])"
            ]
          },
          "metadata": {},
          "execution_count": 111
        }
      ]
    },
    {
      "cell_type": "markdown",
      "metadata": {
        "id": "UCekm9d0mvID"
      },
      "source": [
        "## Ejercicio 20\n",
        "1. Crea una secuencia de números que vayan del 0 al 10.\n",
        "2. Crea un nuevo array, que parta del anterior, pero sustituya todos los elementos entre el 3 y el 8, por el valor -1\n",
        "3. Crea un nuevo array que niegue todos los elementos entre el 3 y el 8"
      ]
    },
    {
      "cell_type": "code",
      "metadata": {
        "id": "gsFzrFi9mvID"
      },
      "source": [
        "arr = np.arange(11)\n",
        "print(arr)\n",
        "arr2 = arr\n",
        "arr2[3:9] = -1\n",
        "print(arr2)\n",
        "arr3 = np.where(arr2 < 0, None , arr2)\n",
        "print(arr3)"
      ],
      "execution_count": 124,
      "outputs": [
        {
          "output_type": "stream",
          "name": "stdout",
          "text": [
            "[ 0  1  2  3  4  5  6  7  8  9 10]\n[ 0  1  2 -1 -1 -1 -1 -1 -1  9 10]\n[0 1 2 None None None None None None 9 10]\n"
          ]
        }
      ]
    },
    {
      "cell_type": "code",
      "execution_count": 125,
      "metadata": {},
      "outputs": [
        {
          "output_type": "execute_result",
          "data": {
            "text/plain": [
              "array([ 0,  1,  2, -3, -4, -5, -6, -7, -8,  9, 10])"
            ]
          },
          "metadata": {},
          "execution_count": 125
        }
      ],
      "source": [
        "arr = np.arange(11)\n",
        "arr3 = arr\n",
        "arr3[3:9] = -arr3[3:9]\n",
        "arr3"
      ]
    },
    {
      "cell_type": "code",
      "execution_count": 131,
      "metadata": {},
      "outputs": [
        {
          "output_type": "execute_result",
          "data": {
            "text/plain": [
              "array([ 0,  1,  2, -3, -4, -5, -6, -7, -8,  9, 10])"
            ]
          },
          "metadata": {},
          "execution_count": 131
        }
      ],
      "source": [
        "\n",
        "arr = np.arange(11)\n",
        "arr[3:9] =  -arr[3:9]\n",
        "arr"
      ]
    },
    {
      "cell_type": "markdown",
      "metadata": {
        "id": "qUrF5y_jmvIE"
      },
      "source": [
        "## Ejercicio 21 \n",
        "#### Bonus track. Mini hundir la flota para ir practicando.\n",
        "##### Te ayudará a entender la lógica de la tarea Hundir la Flota.\n",
        "1. Crea un tablero de 10x10 relleno del carácter espacio ( ).\n",
        "2. Posiciona un par de barcos en [(0,1), (1,1)] y [(1,3), (1,4), (1,5), (1,6)]. Los barcos serán Os mayúsculas. Como ves, un barco de dos posiciones de eslora y otro de cuatro.\n",
        "3. Recibe un disparo en uno de los barcos, sustituyendo la O por una X\n",
        "4. Recibe un disparo en agua, sustituyendo uno de los espacios por un guión: -\n",
        "5. Ignorando los disparos recibidos, ahora prueba a posicionar otro barco de 4 posiciones dentro del tablero, pero **de manera ALEATORIA.**\n",
        "\n",
        "**TIP apartado 5**: El barco tendrá una posición inicial aleatoria dentro del tablero, y una orientación también aleatoria (N,S,E,O).\n",
        "\n",
        "Por ejemplo, si tu posicion inicial fuese (5,0) y la orientación O, no podrias ponerlo porque se sale del tablero. Ahora bien, si fuese orientación este, si podrías, y ocuparía las posiciones [(5,0), (5,1), (5,2), (5,3)]. Por tanto tendrás que iterar con un bucle si es posible encajar el barco en el tablero, y el bucle terminará cuando lo consigas encajar. **Ojo con las posiciones donde ya hay barco!!!**\n",
        "\n",
        "Usa `import random` para elegir las coordenadas aleatorias."
      ]
    },
    {
      "cell_type": "code",
      "metadata": {
        "id": "kSXFK8MsmvIF"
      },
      "source": [],
      "execution_count": null,
      "outputs": []
    }
  ]
}