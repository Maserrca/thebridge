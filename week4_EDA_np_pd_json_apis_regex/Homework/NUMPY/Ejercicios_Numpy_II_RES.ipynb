{
  "nbformat": 4,
  "nbformat_minor": 0,
  "metadata": {
    "kernelspec": {
      "display_name": "Python 3",
      "language": "python",
      "name": "python3"
    },
    "language_info": {
      "codemirror_mode": {
        "name": "ipython",
        "version": 3
      },
      "file_extension": ".py",
      "mimetype": "text/x-python",
      "name": "python",
      "nbconvert_exporter": "python",
      "pygments_lexer": "ipython3",
      "version": "3.8.3"
    },
    "colab": {
      "name": "Ejercicios Numpy II_RES.ipynb",
      "provenance": []
    }
  },
  "cells": [
    {
      "cell_type": "markdown",
      "metadata": {
        "id": "3mc-L0KkbtM5"
      },
      "source": [
        "# Ejercicios Numpy II"
      ]
    },
    {
      "cell_type": "markdown",
      "metadata": {
        "id": "k-TEXvG_btNA"
      },
      "source": [
        "## Ejercicio 1\n",
        "1. Crea un array que vaya del 0 al 9 y que se llame `my_array`\n",
        "2. Imprime por pantalla los elementos [9 7 5 3 1] en ese orden."
      ]
    },
    {
      "cell_type": "code",
      "metadata": {
        "id": "4kdtTglWbtNB",
        "outputId": "77d9da38-b511-45d4-f125-48a6147f5c88"
      },
      "source": [
        "import numpy as np\n",
        "\n",
        "# 1.\n",
        "my_array = np.arange(10)\n",
        "print(my_array)\n",
        "\n",
        "# 2.\n",
        "print(my_array[::-2])"
      ],
      "execution_count": null,
      "outputs": [
        {
          "output_type": "stream",
          "text": [
            "[0 1 2 3 4 5 6 7 8 9]\n",
            "[9 7 5 3 1]\n"
          ],
          "name": "stdout"
        }
      ]
    },
    {
      "cell_type": "markdown",
      "metadata": {
        "id": "HJVempNFbtNC"
      },
      "source": [
        "## Ejercicio 2\n",
        "Imprime por pantalla la secuencia [8 7] del array `my_array`"
      ]
    },
    {
      "cell_type": "code",
      "metadata": {
        "id": "fiWh8RmMbtND",
        "outputId": "6d341621-3dbe-47e3-99c2-2b0ff3fdb438"
      },
      "source": [
        "print(my_array)\n",
        "print(my_array[-2:-4:-1])"
      ],
      "execution_count": null,
      "outputs": [
        {
          "output_type": "stream",
          "text": [
            "[0 1 2 3 4 5 6 7 8 9]\n",
            "[8 7]\n"
          ],
          "name": "stdout"
        }
      ]
    },
    {
      "cell_type": "code",
      "metadata": {
        "id": "9SULoMs9btND",
        "outputId": "94face6d-bcbf-47f3-deb8-dd4cdb679ad5"
      },
      "source": [
        "print(my_array[8:6:-1])"
      ],
      "execution_count": null,
      "outputs": [
        {
          "output_type": "stream",
          "text": [
            "[8 7]\n"
          ],
          "name": "stdout"
        }
      ]
    },
    {
      "cell_type": "markdown",
      "metadata": {
        "id": "xolnMtazbtND"
      },
      "source": [
        "## Ejercicio 3\n",
        "Imprime por pantalla la secuencia [2 1 0] de `my_array`"
      ]
    },
    {
      "cell_type": "code",
      "metadata": {
        "id": "jgP0qjbrbtNE",
        "outputId": "630fb6ef-3238-41fc-c174-a46b551fe46e"
      },
      "source": [
        "print(my_array)\n",
        "print(my_array[-8::-1])"
      ],
      "execution_count": null,
      "outputs": [
        {
          "output_type": "stream",
          "text": [
            "[0 1 2 3 4 5 6 7 8 9]\n",
            "[2 1 0]\n"
          ],
          "name": "stdout"
        }
      ]
    },
    {
      "cell_type": "code",
      "metadata": {
        "id": "U3pE049RbtNE",
        "outputId": "557112d6-5bb8-45cd-945f-fd67d6b00358"
      },
      "source": [
        "# Otra solución, en dos pasos\n",
        "my_array[0:3][::-1]\n",
        "\n",
        "array1 = my_array[0:3]\n",
        "array2 = array1[::-1]\n",
        "print(array1)\n",
        "print(array2)"
      ],
      "execution_count": null,
      "outputs": [
        {
          "output_type": "stream",
          "text": [
            "[0 1 2]\n",
            "[2 1 0]\n"
          ],
          "name": "stdout"
        }
      ]
    },
    {
      "cell_type": "code",
      "metadata": {
        "id": "qYhah8t8btNE",
        "outputId": "9f47311f-16b8-4b57-db89-999de5aa0da4"
      },
      "source": [
        "print(my_array[2::-1])"
      ],
      "execution_count": null,
      "outputs": [
        {
          "output_type": "stream",
          "text": [
            "[2 1 0]\n"
          ],
          "name": "stdout"
        }
      ]
    },
    {
      "cell_type": "markdown",
      "metadata": {
        "id": "5GQ6OzETbtNF"
      },
      "source": [
        "## Ejercicio 4\n",
        "1. Crea una matriz de 4x5, con una secuencia del 1 al 20\n",
        "2. Invierte totalmente la matriz. Tanto las filas, como las columnas"
      ]
    },
    {
      "cell_type": "code",
      "metadata": {
        "id": "X_SyZw46btNF",
        "outputId": "5c7de53e-ebec-41b9-ca45-82bf0ac3141a"
      },
      "source": [
        "my_matrix = np.arange(1, 21).reshape((4,5))\n",
        "print(my_matrix)"
      ],
      "execution_count": null,
      "outputs": [
        {
          "output_type": "stream",
          "text": [
            "[[ 1  2  3  4  5]\n",
            " [ 6  7  8  9 10]\n",
            " [11 12 13 14 15]\n",
            " [16 17 18 19 20]]\n"
          ],
          "name": "stdout"
        }
      ]
    },
    {
      "cell_type": "code",
      "metadata": {
        "id": "rNU380R-btNF",
        "outputId": "dd6ae0bd-6f66-4de6-e686-1c7c1743cfeb"
      },
      "source": [
        "print(my_matrix[::-1, ::-1])"
      ],
      "execution_count": null,
      "outputs": [
        {
          "output_type": "stream",
          "text": [
            "[[20 19 18 17 16]\n",
            " [15 14 13 12 11]\n",
            " [10  9  8  7  6]\n",
            " [ 5  4  3  2  1]]\n"
          ],
          "name": "stdout"
        }
      ]
    },
    {
      "cell_type": "markdown",
      "metadata": {
        "id": "QnyGuSw6btNG"
      },
      "source": [
        "## Ejercicio 5\n",
        "\n",
        "Obtén el siguiente array, partiendo de la matriz del ejercicio 4\n",
        "```Python\n",
        "array([[1, 2],\n",
        "       [6, 7]])\n",
        "```"
      ]
    },
    {
      "cell_type": "code",
      "metadata": {
        "id": "PmvD013IbtNG",
        "outputId": "fc333c57-0c89-487b-f734-32bc8025714c"
      },
      "source": [
        "my_matrix = np.arange(1, 21).reshape((4,5))\n",
        "print(my_matrix)"
      ],
      "execution_count": null,
      "outputs": [
        {
          "output_type": "stream",
          "text": [
            "[[ 1  2  3  4  5]\n",
            " [ 6  7  8  9 10]\n",
            " [11 12 13 14 15]\n",
            " [16 17 18 19 20]]\n"
          ],
          "name": "stdout"
        }
      ]
    },
    {
      "cell_type": "code",
      "metadata": {
        "id": "T9rGq79fbtNG",
        "outputId": "888afe69-ca67-4828-a088-b5a0b5ddf647"
      },
      "source": [
        "my_matrix[:2:, :2:]"
      ],
      "execution_count": null,
      "outputs": [
        {
          "output_type": "execute_result",
          "data": {
            "text/plain": [
              "array([[1, 2],\n",
              "       [6, 7]])"
            ]
          },
          "metadata": {
            "tags": []
          },
          "execution_count": 11
        }
      ]
    },
    {
      "cell_type": "code",
      "metadata": {
        "id": "lhDKHxiObtNH",
        "outputId": "68d67c40-daf4-4fd5-f3ba-d61cd43d32d1"
      },
      "source": [
        "my_matrix[:2, :2]"
      ],
      "execution_count": null,
      "outputs": [
        {
          "output_type": "execute_result",
          "data": {
            "text/plain": [
              "array([[1, 2],\n",
              "       [6, 7]])"
            ]
          },
          "metadata": {
            "tags": []
          },
          "execution_count": 12
        }
      ]
    },
    {
      "cell_type": "markdown",
      "metadata": {
        "id": "pcIm99JTbtNH"
      },
      "source": [
        "## Ejercicio 6\n",
        "Obtén el siguiente array, partiendo de la matriz del ejercicio 4\n",
        "```Python\n",
        "array([[ 1,  3,  5],\n",
        "       [11, 13, 15]])\n",
        "```"
      ]
    },
    {
      "cell_type": "code",
      "metadata": {
        "id": "c1IiTSp2btNI",
        "outputId": "269b22b7-240f-4588-f39a-aac411af1ac2"
      },
      "source": [
        "my_matrix = np.arange(1, 21).reshape((4,5))\n",
        "print(my_matrix)"
      ],
      "execution_count": null,
      "outputs": [
        {
          "output_type": "stream",
          "text": [
            "[[ 1  2  3  4  5]\n",
            " [ 6  7  8  9 10]\n",
            " [11 12 13 14 15]\n",
            " [16 17 18 19 20]]\n"
          ],
          "name": "stdout"
        }
      ]
    },
    {
      "cell_type": "code",
      "metadata": {
        "id": "U7T1X0_ZbtNI",
        "outputId": "9af2d21e-54b0-4ca8-cbea-fe89e4cf69b0"
      },
      "source": [
        "my_matrix[::2, ::2]"
      ],
      "execution_count": null,
      "outputs": [
        {
          "output_type": "execute_result",
          "data": {
            "text/plain": [
              "array([[ 1,  3,  5],\n",
              "       [11, 13, 15]])"
            ]
          },
          "metadata": {
            "tags": []
          },
          "execution_count": 14
        }
      ]
    },
    {
      "cell_type": "markdown",
      "metadata": {
        "id": "_kONXR37btNI"
      },
      "source": [
        "## Ejercicio 7\n",
        "Obtén el siguiente array, partiendo de la matriz del ejercicio 4\n",
        "```Python\n",
        "array([[ 5,  4,  3,  2,  1],\n",
        "       [10,  9,  8,  7,  6],\n",
        "       [15, 14, 13, 12, 11]])\n",
        "```"
      ]
    },
    {
      "cell_type": "code",
      "metadata": {
        "id": "zXcfa8y5btNI",
        "outputId": "42aa7cf2-0ca2-4709-fa5d-ebe92dd58a59"
      },
      "source": [
        "my_matrix = np.arange(1, 21).reshape((4,5))\n",
        "print(my_matrix)"
      ],
      "execution_count": null,
      "outputs": [
        {
          "output_type": "stream",
          "text": [
            "[[ 1  2  3  4  5]\n",
            " [ 6  7  8  9 10]\n",
            " [11 12 13 14 15]\n",
            " [16 17 18 19 20]]\n"
          ],
          "name": "stdout"
        }
      ]
    },
    {
      "cell_type": "code",
      "metadata": {
        "id": "oGOOF9FhbtNJ",
        "outputId": "c78f0112-63d7-4b8c-d0b5-9db84fd5aa04"
      },
      "source": [
        "print(my_matrix[::, ::-1])\n",
        "print(my_matrix[:-1:, ::-1])"
      ],
      "execution_count": null,
      "outputs": [
        {
          "output_type": "stream",
          "text": [
            "[[ 5  4  3  2  1]\n",
            " [10  9  8  7  6]\n",
            " [15 14 13 12 11]\n",
            " [20 19 18 17 16]]\n",
            "[[ 5  4  3  2  1]\n",
            " [10  9  8  7  6]\n",
            " [15 14 13 12 11]]\n"
          ],
          "name": "stdout"
        }
      ]
    },
    {
      "cell_type": "markdown",
      "metadata": {
        "id": "ucvc2hlnbtNJ"
      },
      "source": [
        "## Ejercicio 8\n",
        "Dado el siguiente array:\n",
        "\n",
        "```Python\n",
        "x = np.array([\"Loro\", \"Perro\", \"Gato\", \"Loro\", \"Perro\"])\n",
        "```\n",
        "\n",
        "Filtra el array para quedarte únicamente con los loros.\n",
        "\n",
        "Resuélvelo de dos maneras diferentes"
      ]
    },
    {
      "cell_type": "code",
      "metadata": {
        "id": "cGufeiICbtNJ",
        "outputId": "34ce0a4a-8bc1-4b81-afbb-f768069f97ce"
      },
      "source": [
        "x = np.array([\"Loro\", \"Perro\", \"Gato\", \"Loro\", \"Perro\"])\n",
        "\n",
        "# Metodo 1\n",
        "mask = np.array([True, False, False, True, False])\n",
        "\n",
        "x[mask]"
      ],
      "execution_count": null,
      "outputs": [
        {
          "output_type": "execute_result",
          "data": {
            "text/plain": [
              "array(['Loro', 'Loro'], dtype='<U5')"
            ]
          },
          "metadata": {
            "tags": []
          },
          "execution_count": 17
        }
      ]
    },
    {
      "cell_type": "code",
      "metadata": {
        "id": "5BtjajG9btNJ",
        "outputId": "b4c85678-d826-49b4-aca0-bf56cc2cb3dd"
      },
      "source": [
        "# Metodo 2\n",
        "mask = x == \"Loro\"\n",
        "print(mask)\n",
        "x[mask]"
      ],
      "execution_count": null,
      "outputs": [
        {
          "output_type": "stream",
          "text": [
            "[ True False False  True False]\n"
          ],
          "name": "stdout"
        },
        {
          "output_type": "execute_result",
          "data": {
            "text/plain": [
              "array(['Loro', 'Loro'], dtype='<U5')"
            ]
          },
          "metadata": {
            "tags": []
          },
          "execution_count": 18
        }
      ]
    },
    {
      "cell_type": "code",
      "metadata": {
        "id": "0Y5WZCHZbtNK",
        "outputId": "afa8d873-ee99-4ee2-fd9a-2db7ccffbd14"
      },
      "source": [
        "# Metodo 3. Devuelve posiciones que luego aplico al array\n",
        "mask = np.where(x == \"Loro\")\n",
        "print(mask)\n",
        "x[mask]"
      ],
      "execution_count": null,
      "outputs": [
        {
          "output_type": "stream",
          "text": [
            "(array([0, 3], dtype=int64),)\n"
          ],
          "name": "stdout"
        },
        {
          "output_type": "execute_result",
          "data": {
            "text/plain": [
              "array(['Loro', 'Loro'], dtype='<U5')"
            ]
          },
          "metadata": {
            "tags": []
          },
          "execution_count": 19
        }
      ]
    },
    {
      "cell_type": "markdown",
      "metadata": {
        "id": "SiBWP6l9btNK"
      },
      "source": [
        "## Ejercicio 9\n",
        "Crea una secuencia de 20 elementos y transformala en un array compuesto por 2 matrices de 5x2"
      ]
    },
    {
      "cell_type": "code",
      "metadata": {
        "id": "u5InJlFebtNK",
        "outputId": "7de6f926-69e4-42eb-aa93-c22577e40450"
      },
      "source": [
        "x = np.arange(20).reshape((2,5,2))\n",
        "print(x)"
      ],
      "execution_count": null,
      "outputs": [
        {
          "output_type": "stream",
          "text": [
            "[[[ 0  1]\n",
            "  [ 2  3]\n",
            "  [ 4  5]\n",
            "  [ 6  7]\n",
            "  [ 8  9]]\n",
            "\n",
            " [[10 11]\n",
            "  [12 13]\n",
            "  [14 15]\n",
            "  [16 17]\n",
            "  [18 19]]]\n"
          ],
          "name": "stdout"
        }
      ]
    },
    {
      "cell_type": "markdown",
      "metadata": {
        "id": "giTsemDQbtNK"
      },
      "source": [
        "## Ejercicio 10\n",
        "\n",
        "Obtén el siguiente array, partiendo de la matriz del **ejercicio 4**\n",
        "```Python\n",
        "array([[20, 19, 18, 17, 16],\n",
        "       [15, 14, 13, 12, 11],\n",
        "       [10,  9,  8,  7,  6],\n",
        "       [ 5,  4,  3,  2,  1]])\n",
        "```"
      ]
    },
    {
      "cell_type": "code",
      "metadata": {
        "id": "sXaEcPLrbtNL",
        "outputId": "101bb368-6835-4c25-bcfb-e0339782cd3f"
      },
      "source": [
        "my_matrix = np.arange(1, 21).reshape((4,5))\n",
        "print(my_matrix)"
      ],
      "execution_count": null,
      "outputs": [
        {
          "output_type": "stream",
          "text": [
            "[[ 1  2  3  4  5]\n",
            " [ 6  7  8  9 10]\n",
            " [11 12 13 14 15]\n",
            " [16 17 18 19 20]]\n"
          ],
          "name": "stdout"
        }
      ]
    },
    {
      "cell_type": "code",
      "metadata": {
        "id": "PuCDK1lHbtNL",
        "outputId": "0e043c6b-bf26-49f0-c6b4-95c09172b62c"
      },
      "source": [
        "my_matrix[::-1, ::-1]"
      ],
      "execution_count": null,
      "outputs": [
        {
          "output_type": "execute_result",
          "data": {
            "text/plain": [
              "array([[20, 19, 18, 17, 16],\n",
              "       [15, 14, 13, 12, 11],\n",
              "       [10,  9,  8,  7,  6],\n",
              "       [ 5,  4,  3,  2,  1]])"
            ]
          },
          "metadata": {
            "tags": []
          },
          "execution_count": 22
        }
      ]
    },
    {
      "cell_type": "markdown",
      "metadata": {
        "id": "S4SaYDanbtNL"
      },
      "source": [
        "## Ejercicio 11\n",
        "Crea un array de 10 0s. ¿Cuánto ocupa en memoria?\n",
        "\n",
        "Sustituye el 4to elemento por 1, e imprime el array por pantalla"
      ]
    },
    {
      "cell_type": "code",
      "metadata": {
        "id": "XCeWccKNbtNL",
        "outputId": "3757d1ac-7da7-4812-bc36-7ec5db5ef502"
      },
      "source": [
        "import numpy as np\n",
        "\n",
        "x = np.zeros(10)\n",
        "print(x)\n",
        "\n",
        "print(x.itemsize) # Cada elemento\n",
        "print(x.nbytes) # El array entero\n",
        "\n",
        "x[3] = 1\n",
        "print(x)"
      ],
      "execution_count": null,
      "outputs": [
        {
          "output_type": "stream",
          "text": [
            "[0. 0. 0. 0. 0. 0. 0. 0. 0. 0.]\n",
            "8\n",
            "80\n",
            "[0. 0. 0. 1. 0. 0. 0. 0. 0. 0.]\n"
          ],
          "name": "stdout"
        }
      ]
    },
    {
      "cell_type": "markdown",
      "metadata": {
        "id": "DFfHVgWZbtNM"
      },
      "source": [
        "## Ejercicio 12\n",
        "Crea un vector que vaya del 10 al 49\n",
        "\n",
        "Inviértelo"
      ]
    },
    {
      "cell_type": "code",
      "metadata": {
        "id": "GyKYSZ3hbtNM",
        "outputId": "5131b4a3-ff10-4740-cc87-f73bf0fa2857"
      },
      "source": [
        "x = np.arange(10, 50)\n",
        "print(x)\n",
        "print(x[::-1])"
      ],
      "execution_count": null,
      "outputs": [
        {
          "output_type": "stream",
          "text": [
            "[10 11 12 13 14 15 16 17 18 19 20 21 22 23 24 25 26 27 28 29 30 31 32 33\n",
            " 34 35 36 37 38 39 40 41 42 43 44 45 46 47 48 49]\n",
            "[49 48 47 46 45 44 43 42 41 40 39 38 37 36 35 34 33 32 31 30 29 28 27 26\n",
            " 25 24 23 22 21 20 19 18 17 16 15 14 13 12 11 10]\n"
          ],
          "name": "stdout"
        }
      ]
    },
    {
      "cell_type": "markdown",
      "metadata": {
        "id": "KAOpNhqmbtNM"
      },
      "source": [
        "## Ejericio 13\n",
        "Encuentra los indices de los valores que no sean 0 del siguiente vector [1,2,0,0,4,0]. El output sería [0, 1, 4]. [Encuentra el método apropiado en la documentación.](https://numpy.org/doc/)"
      ]
    },
    {
      "cell_type": "code",
      "metadata": {
        "id": "a7wdPlBkbtNM",
        "outputId": "f31d8079-7543-48af-d86a-7d09809439c9"
      },
      "source": [
        "np.nonzero([1,2,0,0,4,0])"
      ],
      "execution_count": null,
      "outputs": [
        {
          "output_type": "execute_result",
          "data": {
            "text/plain": [
              "(array([0, 1, 4], dtype=int64),)"
            ]
          },
          "metadata": {
            "tags": []
          },
          "execution_count": 25
        }
      ]
    },
    {
      "cell_type": "markdown",
      "metadata": {
        "id": "yQB-WYthbtNN"
      },
      "source": [
        "## Ejercicio 14\n",
        "Crea una matriz de numeros aleatorios 10x10. Encuentra los valores mínimo y máximo."
      ]
    },
    {
      "cell_type": "code",
      "metadata": {
        "id": "hvZtkTJnbtNN",
        "outputId": "c82a97ef-4ce5-4737-f874-9c007e1faf7a"
      },
      "source": [
        "#x = np.random.random((10,10))\n",
        "x = np.random.randint(1, 100, size = (10,10))\n",
        "print(x)\n",
        "\n",
        "print(\"\\nel mínimo es: \",x.min())\n",
        "print(\"\\nel máximo es: \",x.max())"
      ],
      "execution_count": null,
      "outputs": [
        {
          "output_type": "stream",
          "text": [
            "[[64 13 25 37 17 65 58 10 89 38]\n",
            " [60 22  4 46 63  8 52 78 20 58]\n",
            " [34 80 47 26 12 30 84 38 61 15]\n",
            " [27 87 81 87 93 47  8 80 28 11]\n",
            " [14 87 30 67 46 88 57 98 62 33]\n",
            " [42 66 17 25 16 73 24 47 10 28]\n",
            " [ 2  1 29 56 52 50 76 32 49 75]\n",
            " [22 47 95  9 82 54 51 83 75 15]\n",
            " [73 83 45 62 36 36 22 67 62 79]\n",
            " [47 46 59 27 80  9 12 26 45 18]]\n",
            "\n",
            "el mínimo es:  1\n",
            "\n",
            "el máximo es:  98\n"
          ],
          "name": "stdout"
        }
      ]
    },
    {
      "cell_type": "markdown",
      "metadata": {
        "id": "cilPk07qbtNN"
      },
      "source": [
        "## Ejercicio 15\n",
        "Crea un vector aleatorio de tamaño 30 y calcula su media"
      ]
    },
    {
      "cell_type": "code",
      "metadata": {
        "id": "bnGejM5PbtNN",
        "outputId": "80829cd5-966e-4991-e62e-c82d26f986f6"
      },
      "source": [
        "x = np.random.random(30)\n",
        "m = x.mean()\n",
        "print(\"La media de x es: \", round(m, 2))"
      ],
      "execution_count": null,
      "outputs": [
        {
          "output_type": "stream",
          "text": [
            "La media de x es:  0.51\n"
          ],
          "name": "stdout"
        }
      ]
    },
    {
      "cell_type": "markdown",
      "metadata": {
        "id": "_Cb8ddGmbtNO"
      },
      "source": [
        "## Ejercicio 16\n",
        "Crea un array cuadrado de 2D, con las dimensiones que quieras, pero que todo el borde esté compuesto por 1s, y el interior por 0s"
      ]
    },
    {
      "cell_type": "code",
      "metadata": {
        "id": "bjEkzUhEbtNO",
        "outputId": "879ad39f-7d3b-4b13-aea2-f6d2a1e46659"
      },
      "source": [
        "x = np.ones((10,10))\n",
        "x[1:-1:, 1:-1:] = 0\n",
        "print(x)"
      ],
      "execution_count": null,
      "outputs": [
        {
          "output_type": "stream",
          "text": [
            "[[1. 1. 1. 1. 1. 1. 1. 1. 1. 1.]\n",
            " [1. 0. 0. 0. 0. 0. 0. 0. 0. 1.]\n",
            " [1. 0. 0. 0. 0. 0. 0. 0. 0. 1.]\n",
            " [1. 0. 0. 0. 0. 0. 0. 0. 0. 1.]\n",
            " [1. 0. 0. 0. 0. 0. 0. 0. 0. 1.]\n",
            " [1. 0. 0. 0. 0. 0. 0. 0. 0. 1.]\n",
            " [1. 0. 0. 0. 0. 0. 0. 0. 0. 1.]\n",
            " [1. 0. 0. 0. 0. 0. 0. 0. 0. 1.]\n",
            " [1. 0. 0. 0. 0. 0. 0. 0. 0. 1.]\n",
            " [1. 1. 1. 1. 1. 1. 1. 1. 1. 1.]]\n"
          ],
          "name": "stdout"
        }
      ]
    },
    {
      "cell_type": "markdown",
      "metadata": {
        "id": "KvozEEL0btNO"
      },
      "source": [
        "## Ejercicio 17\n",
        "Crea una matriz de 8x8, y rellénala con 0s y 1s. Tienes que replicar:\n",
        "```Python\n",
        "[[0 1 0 1 0 1 0 1]\n",
        " [1 0 1 0 1 0 1 0]\n",
        " [0 1 0 1 0 1 0 1]\n",
        " [1 0 1 0 1 0 1 0]\n",
        " [0 1 0 1 0 1 0 1]\n",
        " [1 0 1 0 1 0 1 0]\n",
        " [0 1 0 1 0 1 0 1]\n",
        " [1 0 1 0 1 0 1 0]]\n",
        "```"
      ]
    },
    {
      "cell_type": "code",
      "metadata": {
        "id": "Dq7_HVXUbtNO",
        "outputId": "4335770e-4c58-4668-d802-367bd3e92689"
      },
      "source": [
        "x = np.zeros((8,8), dtype = int)\n",
        "x[1::2, ::2] = 1\n",
        "x[::2, 1::2] = 1\n",
        "print(x)"
      ],
      "execution_count": null,
      "outputs": [
        {
          "output_type": "stream",
          "text": [
            "[[0 1 0 1 0 1 0 1]\n",
            " [1 0 1 0 1 0 1 0]\n",
            " [0 1 0 1 0 1 0 1]\n",
            " [1 0 1 0 1 0 1 0]\n",
            " [0 1 0 1 0 1 0 1]\n",
            " [1 0 1 0 1 0 1 0]\n",
            " [0 1 0 1 0 1 0 1]\n",
            " [1 0 1 0 1 0 1 0]]\n"
          ],
          "name": "stdout"
        }
      ]
    },
    {
      "cell_type": "markdown",
      "metadata": {
        "id": "n4vBm08ObtNP"
      },
      "source": [
        "## Ejercicio 18\n",
        "Replica la matriz del apartado anterior, pero en este caso usando [la función `tile`](https://numpy.org/doc/stable/reference/generated/numpy.tile.html)"
      ]
    },
    {
      "cell_type": "code",
      "metadata": {
        "id": "lGp2gASobtNP",
        "outputId": "f8dc84e8-6a07-483b-f53d-938fcfe6714e"
      },
      "source": [
        "x = np.tile(np.array([[0,1], [1,0]]), (4,4))\n",
        "print(x)"
      ],
      "execution_count": null,
      "outputs": [
        {
          "output_type": "stream",
          "text": [
            "[[0 1 0 1 0 1 0 1]\n",
            " [1 0 1 0 1 0 1 0]\n",
            " [0 1 0 1 0 1 0 1]\n",
            " [1 0 1 0 1 0 1 0]\n",
            " [0 1 0 1 0 1 0 1]\n",
            " [1 0 1 0 1 0 1 0]\n",
            " [0 1 0 1 0 1 0 1]\n",
            " [1 0 1 0 1 0 1 0]]\n"
          ],
          "name": "stdout"
        }
      ]
    },
    {
      "cell_type": "markdown",
      "metadata": {
        "id": "om6PJMnebtNP"
      },
      "source": [
        "## Ejercicio 19\n",
        "Crea una matriz aleatoria de 5x5 y normaliza sus valores. Para normalizar tienes que restar sus valores por la media(`np.mean`) y dividir el resultado por la desviación estándar(`np.std`)."
      ]
    },
    {
      "cell_type": "code",
      "metadata": {
        "id": "t7q2lGgAbtNQ",
        "outputId": "d71d5ba5-2c46-4a5d-dd7f-1d4ed16f4535"
      },
      "source": [
        "x = np.random.randint(1, 20, (5,5))\n",
        "\n",
        "x = (x - np.mean(x))/np.std(x)\n",
        "\n",
        "print(x)"
      ],
      "execution_count": null,
      "outputs": [
        {
          "output_type": "stream",
          "text": [
            "[[ 1.87401721  1.87401721 -0.54928091  0.25848513 -1.55898845]\n",
            " [-0.75122241 -0.95316392 -1.35704694 -0.54928091 -0.3473394 ]\n",
            " [-1.15510543 -1.35704694 -1.15510543  0.66236815  0.86430966]\n",
            " [ 0.46042664  1.06625117  0.46042664 -0.14539789  1.47013419]\n",
            " [ 1.06625117  0.66236815  0.05654362 -0.3473394  -0.54928091]]\n"
          ],
          "name": "stdout"
        }
      ]
    },
    {
      "cell_type": "markdown",
      "metadata": {
        "id": "Dj8J8jrtbtNQ"
      },
      "source": [
        "## Ejercicio 20\n",
        "1. Crea una secuencia de números que vayan del 0 al 10.\n",
        "2. Crea un nuevo array, que parta del anterior, pero sustituya todos los elementos entre el 3 y el 8, por el valor -1\n",
        "3. Crea un nuevo array que niegue todos los elementos entre el 3 y el 8"
      ]
    },
    {
      "cell_type": "code",
      "metadata": {
        "id": "u2zJh5EkbtNQ",
        "outputId": "1cc37cee-77c3-46ea-dde6-de5913a8cf79"
      },
      "source": [
        "x = np.arange(11)\n",
        "print(x)\n",
        "\n",
        "y = x.copy()\n",
        "y[(y > 3) & (y <= 8)] = -1\n",
        "print(y)"
      ],
      "execution_count": null,
      "outputs": [
        {
          "output_type": "stream",
          "text": [
            "[ 0  1  2  3  4  5  6  7  8  9 10]\n",
            "[ 0  1  2  3 -1 -1 -1 -1 -1  9 10]\n"
          ],
          "name": "stdout"
        }
      ]
    },
    {
      "cell_type": "code",
      "metadata": {
        "id": "ne_jx2QobtNQ",
        "outputId": "f752d11a-cc6b-426e-e6f0-9bf08825f92a"
      },
      "source": [
        "y = x.copy()\n",
        "y[(y > 3) & (y <= 8)] *= -1\n",
        "print(y)"
      ],
      "execution_count": null,
      "outputs": [
        {
          "output_type": "stream",
          "text": [
            "[ 0  1  2  3 -4 -5 -6 -7 -8  9 10]\n"
          ],
          "name": "stdout"
        }
      ]
    },
    {
      "cell_type": "code",
      "metadata": {
        "id": "2HotbYypbtNR"
      },
      "source": [
        "# Equivalente\n",
        "y[(y > 3) & (y <= 8)] = y[(y > 3) & (y <= 8)] * -1"
      ],
      "execution_count": null,
      "outputs": []
    },
    {
      "cell_type": "code",
      "metadata": {
        "id": "aq_IGiS9btNR"
      },
      "source": [
        "x *= -1\n",
        "x = x * (-1)"
      ],
      "execution_count": null,
      "outputs": []
    },
    {
      "cell_type": "markdown",
      "metadata": {
        "id": "OFZukvLAbtNR"
      },
      "source": [
        "## Ejercicio 21\n",
        "#### Bonus track. Mini hundir la flota para ir practicando.\n",
        "##### Te ayudará a entender la lógica de la tarea Hundir la Flota.\n",
        "\n",
        "1. Crea un tablero de 10x10 relleno del carácter espacio ( ).\n",
        "2. Posiciona un par de barcos en [(0,1), (1,1)] y [(1,3), (1,4), (1,5), (1,6)]. Los barcos serán Os mayúsculas. Como ves, un barco de dos posiciones de eslora y otro de cuatro.\n",
        "3. Recibe un disparo en uno de los barcos, sustituyendo la O por una X\n",
        "4. Recibe un disparo en agua, sustituyendo uno de los espacios por un guión: -\n",
        "5. Ignorando los disparos recibidos, ahora prueba a posicionar otro barco de 4 posiciones dentro del tablero, pero **de manera ALEATORIA.**\n",
        "\n",
        "**TIP apartado 5**: El barco tendrá una posición inicial aleatoria dentro del tablero, y una orientación también aleatoria (N,S,E,O).\n",
        "\n",
        "Por ejemplo, si tu posicion inicial fuese (5,0) y la orientación O, no podrias ponerlo porque se sale del tablero. Ahora bien, si fuese orientación este, si podrías, y ocuparía las posiciones [(5,0), (5,1), (5,2), (5,3)]. Por tanto tendrás que iterar con un bucle si es posible encajar el barco en el tablero, y el bucle terminará cuando lo consigas encajar. **Ojo con las posiciones donde ya hay barco!!!**\n",
        "\n",
        "Usa `import random` para elegir las coordenadas aleatorias."
      ]
    },
    {
      "cell_type": "markdown",
      "metadata": {
        "id": "qmB4oe6obtNR"
      },
      "source": [
        "**Te damos la solución porque somos más buenos que el pan, no lo copies, al menos, no todo, pero ojalá te sirva para desatascarte si es que lo estuvieras.**"
      ]
    },
    {
      "cell_type": "code",
      "metadata": {
        "id": "VmpRMippbtNS",
        "outputId": "6b033d31-3cc5-4210-e7fd-b8c4f14c44d4"
      },
      "source": [
        "tablero = np.full(fill_value = ' ', shape = (10, 10))\n",
        "tablero[0:2, 1] = 'O'\n",
        "tablero[1, 3:7] = 'O'\n",
        "tablero[0, 1] = 'X'\n",
        "tablero[0, 0] = '-'\n",
        "tablero"
      ],
      "execution_count": null,
      "outputs": [
        {
          "output_type": "execute_result",
          "data": {
            "text/plain": [
              "array([['-', 'X', ' ', ' ', ' ', ' ', ' ', ' ', ' ', ' '],\n",
              "       [' ', 'O', ' ', 'O', 'O', 'O', 'O', ' ', ' ', ' '],\n",
              "       [' ', ' ', ' ', ' ', ' ', ' ', ' ', ' ', ' ', ' '],\n",
              "       [' ', ' ', ' ', ' ', ' ', ' ', ' ', ' ', ' ', ' '],\n",
              "       [' ', ' ', ' ', ' ', ' ', ' ', ' ', ' ', ' ', ' '],\n",
              "       [' ', ' ', ' ', ' ', ' ', ' ', ' ', ' ', ' ', ' '],\n",
              "       [' ', ' ', ' ', ' ', ' ', ' ', ' ', ' ', ' ', ' '],\n",
              "       [' ', ' ', ' ', ' ', ' ', ' ', ' ', ' ', ' ', ' '],\n",
              "       [' ', ' ', ' ', ' ', ' ', ' ', ' ', ' ', ' ', ' '],\n",
              "       [' ', ' ', ' ', ' ', ' ', ' ', ' ', ' ', ' ', ' ']], dtype='<U1')"
            ]
          },
          "metadata": {
            "tags": []
          },
          "execution_count": 40
        }
      ]
    },
    {
      "cell_type": "code",
      "metadata": {
        "id": "tPnbVy8-btNS",
        "outputId": "dffe1a77-d7e3-48f8-9377-7612a0fa58f7"
      },
      "source": [
        "eslora = 4\n",
        "import random\n",
        "import numpy as np\n",
        "tablero = np.full(fill_value = ' ', shape = (10, 10))\n",
        "\n",
        "while True:\n",
        "    # 'N' - 'S' - 'E' - 'O'\n",
        "    orient = random.choice(['N', 'S', 'E', 'O'])\n",
        "\n",
        "    # Posicion inicial del barco\n",
        "    current_pos = np.random.randint(10, size = 2)\n",
        "    \n",
        "    fila = current_pos[0]\n",
        "    col = current_pos[1]\n",
        "    \n",
        "    # Recogemos las 4 posiciones colindantes a current_pos\n",
        "    coors_posiN = tablero[fila:fila - eslora:-1, col]\n",
        "    coors_posiE = tablero[fila, col: col + eslora]\n",
        "    coors_posiS = tablero[fila:fila + eslora, col]\n",
        "    coors_posiO = tablero[fila, col: col - eslora:-1]\n",
        "    \n",
        "    # Comprobamos si esas posiciones son validas\n",
        "    # Orientacion Norte\n",
        "    if (orient == 'N') and len(coors_posiN) == eslora and ('O' not in coors_posiN):\n",
        "        tablero[fila:fila - eslora:-1, col] = 'O'\n",
        "        break\n",
        "\n",
        "    # Orientacion Este\n",
        "    elif (orient == 'E') and len(coors_posiE) == eslora and ('O' not in coors_posiE):\n",
        "        tablero[fila, col: col + eslora] = 'O'\n",
        "        break\n",
        "\n",
        "    # Orientacion Sur\n",
        "    elif (orient == 'S') and len(coors_posiS) == eslora and ('O' not in coors_posiS):\n",
        "        tablero[fila:fila + eslora, col] = 'O'\n",
        "        break\n",
        "\n",
        "    # Orientacion Oeste\n",
        "    elif (orient == 'O') and len(coors_posiO) == eslora and ('O' not in coors_posiO):\n",
        "        tablero[fila, col: col - eslora:-1] = 'O'\n",
        "        break\n",
        "\n",
        "    else:\n",
        "        continue\n",
        "tablero"
      ],
      "execution_count": null,
      "outputs": [
        {
          "output_type": "execute_result",
          "data": {
            "text/plain": [
              "array([[' ', ' ', ' ', ' ', ' ', ' ', ' ', ' ', ' ', ' '],\n",
              "       [' ', ' ', ' ', ' ', ' ', ' ', ' ', ' ', ' ', ' '],\n",
              "       [' ', ' ', ' ', ' ', ' ', ' ', ' ', ' ', 'O', ' '],\n",
              "       [' ', ' ', ' ', ' ', ' ', ' ', ' ', ' ', 'O', ' '],\n",
              "       [' ', ' ', ' ', ' ', ' ', ' ', ' ', ' ', 'O', ' '],\n",
              "       [' ', ' ', ' ', ' ', ' ', ' ', ' ', ' ', 'O', ' '],\n",
              "       [' ', ' ', ' ', ' ', ' ', ' ', ' ', ' ', ' ', ' '],\n",
              "       [' ', ' ', ' ', ' ', ' ', ' ', ' ', ' ', ' ', ' '],\n",
              "       [' ', ' ', ' ', ' ', ' ', ' ', ' ', ' ', ' ', ' '],\n",
              "       [' ', ' ', ' ', ' ', ' ', ' ', ' ', ' ', ' ', ' ']], dtype='<U1')"
            ]
          },
          "metadata": {
            "tags": []
          },
          "execution_count": 14
        }
      ]
    }
  ]
}