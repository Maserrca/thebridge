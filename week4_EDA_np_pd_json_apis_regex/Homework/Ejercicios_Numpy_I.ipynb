{
  "nbformat": 4,
  "nbformat_minor": 0,
  "metadata": {
    "kernelspec": {
      "name": "python374jvsc74a57bd0797ece2db6cd49410b212500b07c3b6429b528fb918ab6c0d0ffbc4c51c5b09e",
      "display_name": "Python 3.7.4 64-bit"
    },
    "language_info": {
      "codemirror_mode": {
        "name": "ipython",
        "version": 3
      },
      "file_extension": ".py",
      "mimetype": "text/x-python",
      "name": "python",
      "nbconvert_exporter": "python",
      "pygments_lexer": "ipython3",
      "version": "3.7.4"
    },
    "metadata": {
      "interpreter": {
        "hash": "797ece2db6cd49410b212500b07c3b6429b528fb918ab6c0d0ffbc4c51c5b09e"
      }
    },
    "colab": {
      "name": "Ejercicios Numpy I.ipynb",
      "provenance": []
    }
  },
  "cells": [
    {
      "cell_type": "markdown",
      "metadata": {
        "id": "UVGfGYpemvHZ"
      },
      "source": [
        "# Ejercicios Numpy I"
      ]
    },
    {
      "cell_type": "markdown",
      "metadata": {
        "id": "qE8XzfrFmvHn"
      },
      "source": [
        "Sirvan estos ejercicios para que fortalezcáis aquellos conceptos más importantes."
      ]
    },
    {
      "cell_type": "markdown",
      "metadata": {
        "id": "Xy-8qdEFmvHp"
      },
      "source": [
        "## Ejercicio 1\n",
        "Importa el módulo de `numpy` y obtén su versión."
      ]
    },
    {
      "cell_type": "code",
      "metadata": {
        "id": "jvEQNkJBmvHq"
      },
      "source": [
        "import numpy as np\n",
        "np.version.version"
      ],
      "execution_count": 3,
      "outputs": [
        {
          "output_type": "execute_result",
          "data": {
            "text/plain": [
              "'1.20.2'"
            ]
          },
          "metadata": {},
          "execution_count": 3
        }
      ]
    },
    {
      "cell_type": "markdown",
      "metadata": {
        "id": "ilMOk3BbmvHs"
      },
      "source": [
        "## Ejercicio 2\n",
        "Crea un array de una dimensión que vaya de 0 a 9. Llamalo `my_array`"
      ]
    },
    {
      "cell_type": "code",
      "metadata": {
        "id": "5-nYsJbdmvHt"
      },
      "source": [
        "my_array = np.array(range(10))\n",
        "my_array"
      ],
      "execution_count": 11,
      "outputs": [
        {
          "output_type": "execute_result",
          "data": {
            "text/plain": [
              "array([0, 1, 2, 3, 4, 5, 6, 7, 8, 9])"
            ]
          },
          "metadata": {},
          "execution_count": 11
        }
      ]
    },
    {
      "cell_type": "markdown",
      "metadata": {
        "id": "ApS9HrKCmvHu"
      },
      "source": [
        "## Ejercicio 3\n",
        "Crea un array 3x3, que sea todo a True"
      ]
    },
    {
      "cell_type": "code",
      "metadata": {
        "id": "xUc5uTu0mvHv"
      },
      "source": [
        "truth = [[True, True, True],[True, True, True],[True, True, True]]\n",
        "truth_array = np.array(truth)\n",
        "truth_array"
      ],
      "execution_count": 17,
      "outputs": [
        {
          "output_type": "execute_result",
          "data": {
            "text/plain": [
              "array([[ True,  True,  True],\n",
              "       [ True,  True,  True],\n",
              "       [ True,  True,  True]])"
            ]
          },
          "metadata": {},
          "execution_count": 17
        }
      ]
    },
    {
      "cell_type": "code",
      "execution_count": 25,
      "metadata": {},
      "outputs": [
        {
          "output_type": "execute_result",
          "data": {
            "text/plain": [
              "array([[ True,  True,  True],\n",
              "       [ True,  True,  True],\n",
              "       [ True,  True,  True]])"
            ]
          },
          "metadata": {},
          "execution_count": 25
        }
      ],
      "source": [
        "cierto = np.ones((3,3), dtype=bool)\n",
        "np.array(cierto)"
      ]
    },
    {
      "cell_type": "code",
      "execution_count": null,
      "metadata": {},
      "outputs": [],
      "source": [
        "np.ones((3,3), dtype=bool)"
      ]
    },
    {
      "cell_type": "markdown",
      "metadata": {
        "id": "H4er8KY-mvHw"
      },
      "source": [
        "## Ejercicio 4\n",
        "Extrae todos los impares de `my_array`"
      ]
    },
    {
      "cell_type": "code",
      "metadata": {
        "id": "fSlEAV5CmvHx"
      },
      "source": [
        "for x in my_array:\n",
        "    if x % 2 != 0:\n",
        "        print(x)"
      ],
      "execution_count": 36,
      "outputs": [
        {
          "output_type": "stream",
          "name": "stdout",
          "text": [
            "1\n3\n5\n7\n9\n"
          ]
        }
      ]
    },
    {
      "cell_type": "code",
      "execution_count": 31,
      "metadata": {},
      "outputs": [
        {
          "output_type": "execute_result",
          "data": {
            "text/plain": [
              "[1, 3, 5, 7, 9]"
            ]
          },
          "metadata": {},
          "execution_count": 31
        }
      ],
      "source": [
        "list(filter(lambda x: x % 2 !=0,list(my_array)))"
      ]
    },
    {
      "cell_type": "markdown",
      "metadata": {
        "id": "tWXnC8l1mvHy"
      },
      "source": [
        "## Ejercicio 5\n",
        "En un nuevo array, sustituye todos los impares de `my_array` por -1"
      ]
    },
    {
      "cell_type": "code",
      "metadata": {
        "id": "5DQ2oKghmvHz"
      },
      "source": [
        "for x in my_array:\n",
        "    if x % 2 != 0:\n",
        "        "
      ],
      "execution_count": null,
      "outputs": []
    },
    {
      "cell_type": "markdown",
      "metadata": {
        "id": "Pirdlv0ymvHz"
      },
      "source": [
        "## Ejercicio 6\n",
        "En un nuevo array, sustituye todos los impares de `my_array` por -1. Esta vez usa `where`"
      ]
    },
    {
      "cell_type": "code",
      "metadata": {
        "id": "SEmX4DBZmvH0"
      },
      "source": [
        "np.where(x % 2 != 0, x, -1)"
      ],
      "execution_count": 37,
      "outputs": [
        {
          "output_type": "execute_result",
          "data": {
            "text/plain": [
              "array(9)"
            ]
          },
          "metadata": {},
          "execution_count": 37
        }
      ]
    },
    {
      "cell_type": "markdown",
      "metadata": {
        "id": "ZjMw9PWemvH1"
      },
      "source": [
        "## Ejercicio 7\n",
        "Convierte `my_array` en un nuevo array de dos dimensiones mediante `reshape`."
      ]
    },
    {
      "cell_type": "code",
      "metadata": {
        "id": "hsojF1g0mvH2"
      },
      "source": [],
      "execution_count": null,
      "outputs": []
    },
    {
      "cell_type": "markdown",
      "metadata": {
        "id": "jDgvg0uZmvH3"
      },
      "source": [
        "## Ejercicio 8\n",
        "Concatena los siguientes arrays verticamente\n",
        "\n",
        "```Python\n",
        "a = np.arange(10).reshape(2,-1)\n",
        "b = np.repeat(1, 10).reshape(2,-1)\n",
        "```"
      ]
    },
    {
      "cell_type": "code",
      "metadata": {
        "id": "flMb5V-4mvH4"
      },
      "source": [],
      "execution_count": null,
      "outputs": []
    },
    {
      "cell_type": "markdown",
      "metadata": {
        "id": "0YU-PQQTmvH5"
      },
      "source": [
        "## Ejercicio 9\n",
        "Concatena los siguientes arrays horizontamente\n",
        "\n",
        "```Python\n",
        "a = np.arange(10).reshape(2,-1)\n",
        "b = np.repeat(1, 10).reshape(2,-1)\n",
        "```"
      ]
    },
    {
      "cell_type": "code",
      "metadata": {
        "id": "Q-t1LcCSmvH6"
      },
      "source": [],
      "execution_count": null,
      "outputs": []
    },
    {
      "cell_type": "markdown",
      "metadata": {
        "id": "0JeTgrBQmvH6"
      },
      "source": [
        "## Ejercicio 10\n",
        "Encuentra todos los elementos en común entre ambos arrays. [Para ello usa el método `intersect1d`](https://numpy.org/doc/stable/reference/generated/numpy.intersect1d.html)\n",
        "\n",
        "```Python\n",
        "a = np.array([1,2,3,2,3,4,3,4,5,6])\n",
        "b = np.array([7,2,10,2,7,4,9,4,9,8])\n",
        "```"
      ]
    },
    {
      "cell_type": "code",
      "metadata": {
        "id": "NC4Uq4QtmvH7"
      },
      "source": [],
      "execution_count": null,
      "outputs": []
    },
    {
      "cell_type": "markdown",
      "metadata": {
        "id": "-xsQtMBJmvH8"
      },
      "source": [
        "## Ejercicio 11\n",
        "Obtén la documentación acerca de la función `concatenate`"
      ]
    },
    {
      "cell_type": "code",
      "metadata": {
        "id": "JQlO7C4RmvH8"
      },
      "source": [],
      "execution_count": null,
      "outputs": []
    },
    {
      "cell_type": "markdown",
      "metadata": {
        "id": "PdPM8UUTmvH8"
      },
      "source": [
        "## Ejercicio 12\n",
        "Crea un array unidimensional que vaya del 0 al 9. Llámalo `my_array`. \n",
        "1. Multiplica cada uno de los elementos de `my_array` por 10, en un nuevo array\n",
        "2. Accede al primer elemento del array\n",
        "3. Accede al último elemento del array\n",
        "4. Imprime por pantalla los numeros del 1 al 7"
      ]
    },
    {
      "cell_type": "code",
      "metadata": {
        "id": "tgebt-aLmvH9"
      },
      "source": [],
      "execution_count": null,
      "outputs": []
    },
    {
      "cell_type": "markdown",
      "metadata": {
        "id": "76dzIJYJmvH9"
      },
      "source": [
        "## Ejercicio 13\n",
        "Crea un array manualmente de tres filas por tres columnas. Llámalo `my_matrix`"
      ]
    },
    {
      "cell_type": "code",
      "metadata": {
        "id": "nxo9UVIemvH-"
      },
      "source": [],
      "execution_count": null,
      "outputs": []
    },
    {
      "cell_type": "markdown",
      "metadata": {
        "id": "DXK2Qd30mvH-"
      },
      "source": [
        "## Ejercicio 14\n",
        "Obtén la siguiente secuencia:\n",
        "\n",
        "```Python\n",
        "[ 1,  4,  7, 10, 13, 16, 19, 22, 25, 28, 31, 34, 37, 40, 43, 46, 49]\n",
        "```"
      ]
    },
    {
      "cell_type": "code",
      "metadata": {
        "id": "Ma10Ojq2mvH_"
      },
      "source": [],
      "execution_count": null,
      "outputs": []
    },
    {
      "cell_type": "markdown",
      "metadata": {
        "id": "nMRAlhBwmvH_"
      },
      "source": [
        "## Ejercicio 15\n",
        "Obtén la siguiente secuencia\n",
        "\n",
        "```Python\n",
        "[4., 3.75, 3.5 , 3.25, 3.  , 2.75, 2.5 , 2.25, 2., 1.75, 1.5 ,1.25]\n",
        "```"
      ]
    },
    {
      "cell_type": "code",
      "metadata": {
        "id": "oByE3CJNmvH_"
      },
      "source": [],
      "execution_count": null,
      "outputs": []
    },
    {
      "cell_type": "markdown",
      "metadata": {
        "id": "1qeEoxnUmvIA"
      },
      "source": [
        "## Ejercicio 16\n",
        "Lee la imagen `numpy.png` que encontrarás en la carpeta **img**"
      ]
    },
    {
      "cell_type": "code",
      "metadata": {
        "id": "YXUK6818mvIA"
      },
      "source": [],
      "execution_count": null,
      "outputs": []
    },
    {
      "cell_type": "markdown",
      "metadata": {
        "id": "X5i5K63JmvIB"
      },
      "source": [
        "## Ejercicio 17\n",
        "Crea un array de 4x1. A continuación convierte el array a un 2x2"
      ]
    },
    {
      "cell_type": "code",
      "metadata": {
        "id": "9ptrQiEdmvIB"
      },
      "source": [],
      "execution_count": null,
      "outputs": []
    },
    {
      "cell_type": "markdown",
      "metadata": {
        "id": "eil4CNSemvIB"
      },
      "source": [
        "## Ejercicio 18\n",
        "Crea una secuencia aleatoria. La secuencia se tiene que componer de 4 matrices de 5x3. Serían 3 dimensiones diferentes."
      ]
    },
    {
      "cell_type": "code",
      "metadata": {
        "id": "RS7qqd_bmvIC"
      },
      "source": [],
      "execution_count": null,
      "outputs": []
    },
    {
      "cell_type": "markdown",
      "metadata": {
        "id": "BcA3pEOjmvIC"
      },
      "source": [
        "## Ejercicio 19\n",
        "Crea una matriz de 10x1, toda ella compuesta por `False`. Después transformalo en un 2x5"
      ]
    },
    {
      "cell_type": "code",
      "metadata": {
        "id": "boSngcSCmvIC"
      },
      "source": [],
      "execution_count": null,
      "outputs": []
    },
    {
      "cell_type": "markdown",
      "metadata": {
        "id": "h0osGYP8mvID"
      },
      "source": [
        "## Ejercicio 20\n",
        "Dado el siguiente array\n",
        "\n",
        "```Python\n",
        "x =np.random.randint(10, 20, size = (5,2,6))\n",
        "```\n",
        "\n",
        "1. ¿Cuántos elementos tiene el array?\n",
        "2. ¿Cuántas dimensiones?\n",
        "3. ¿Cuántos elementos tiene cada dimensión?"
      ]
    },
    {
      "cell_type": "code",
      "metadata": {
        "id": "-pJnjaAWmvIE"
      },
      "source": [],
      "execution_count": null,
      "outputs": []
    }
  ]
}