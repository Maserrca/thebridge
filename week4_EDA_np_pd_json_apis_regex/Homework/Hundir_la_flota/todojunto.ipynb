{
 "metadata": {
  "language_info": {
   "codemirror_mode": {
    "name": "ipython",
    "version": 3
   },
   "file_extension": ".py",
   "mimetype": "text/x-python",
   "name": "python",
   "nbconvert_exporter": "python",
   "pygments_lexer": "ipython3",
   "version": "3.7.4"
  },
  "orig_nbformat": 2,
  "kernelspec": {
   "name": "python374jvsc74a57bd0797ece2db6cd49410b212500b07c3b6429b528fb918ab6c0d0ffbc4c51c5b09e",
   "display_name": "Python 3.7.4 64-bit"
  },
  "metadata": {
   "interpreter": {
    "hash": "797ece2db6cd49410b212500b07c3b6429b528fb918ab6c0d0ffbc4c51c5b09e"
   }
  }
 },
 "nbformat": 4,
 "nbformat_minor": 2,
 "cells": [
  {
   "cell_type": "code",
   "execution_count": 84,
   "metadata": {},
   "outputs": [],
   "source": [
    "import pandas as pd \n",
    "import random"
   ]
  },
  {
   "cell_type": "code",
   "execution_count": 85,
   "metadata": {},
   "outputs": [
    {
     "output_type": "stream",
     "name": "stdout",
     "text": [
      "1º número: 6\n2º número 5\n"
     ]
    },
    {
     "output_type": "execute_result",
     "data": {
      "text/plain": [
       "'marina'"
      ]
     },
     "metadata": {},
     "execution_count": 85
    }
   ],
   "source": [
    "\n",
    "def func_random(jugador1,jugador2):\n",
    "    x = random.randint(0,6)\n",
    "    y = random.randint(0,6)\n",
    "    print(\"1º número:\", x)\n",
    "    print(\"2º número\", y)\n",
    "    if x > y:\n",
    "        return jugador1\n",
    "    else:\n",
    "        return jugador2\n",
    "\n",
    "func_random(input(\"Nombre 1\"),input(\"Nombre 2\"))"
   ]
  },
  {
   "cell_type": "code",
   "execution_count": 86,
   "metadata": {},
   "outputs": [
    {
     "output_type": "execute_result",
     "data": {
      "text/plain": [
       "   1  2  3  4  5  6  7  8  9  10\n",
       "1   ~  ~  ~  ~  ~  ~  ~  ~  ~  ~\n",
       "2   ~  ~  ~  ~  ~  ~  ~  ~  ~  ~\n",
       "3   ~  ~  ~  ~  ~  ~  ~  ~  ~  ~\n",
       "4   ~  ~  ~  ~  ~  ~  ~  ~  ~  ~\n",
       "5   ~  ~  ~  ~  ~  ~  ~  ~  ~  ~\n",
       "6   ~  ~  ~  ~  ~  ~  ~  ~  ~  ~\n",
       "7   ~  ~  ~  ~  ~  ~  ~  ~  ~  ~\n",
       "8   ~  ~  ~  ~  ~  ~  ~  ~  ~  ~\n",
       "9   ~  ~  ~  ~  ~  ~  ~  ~  ~  ~\n",
       "10  ~  ~  ~  ~  ~  ~  ~  ~  ~  ~"
      ],
      "text/html": "<div>\n<style scoped>\n    .dataframe tbody tr th:only-of-type {\n        vertical-align: middle;\n    }\n\n    .dataframe tbody tr th {\n        vertical-align: top;\n    }\n\n    .dataframe thead th {\n        text-align: right;\n    }\n</style>\n<table border=\"1\" class=\"dataframe\">\n  <thead>\n    <tr style=\"text-align: right;\">\n      <th></th>\n      <th>1</th>\n      <th>2</th>\n      <th>3</th>\n      <th>4</th>\n      <th>5</th>\n      <th>6</th>\n      <th>7</th>\n      <th>8</th>\n      <th>9</th>\n      <th>10</th>\n    </tr>\n  </thead>\n  <tbody>\n    <tr>\n      <th>1</th>\n      <td>~</td>\n      <td>~</td>\n      <td>~</td>\n      <td>~</td>\n      <td>~</td>\n      <td>~</td>\n      <td>~</td>\n      <td>~</td>\n      <td>~</td>\n      <td>~</td>\n    </tr>\n    <tr>\n      <th>2</th>\n      <td>~</td>\n      <td>~</td>\n      <td>~</td>\n      <td>~</td>\n      <td>~</td>\n      <td>~</td>\n      <td>~</td>\n      <td>~</td>\n      <td>~</td>\n      <td>~</td>\n    </tr>\n    <tr>\n      <th>3</th>\n      <td>~</td>\n      <td>~</td>\n      <td>~</td>\n      <td>~</td>\n      <td>~</td>\n      <td>~</td>\n      <td>~</td>\n      <td>~</td>\n      <td>~</td>\n      <td>~</td>\n    </tr>\n    <tr>\n      <th>4</th>\n      <td>~</td>\n      <td>~</td>\n      <td>~</td>\n      <td>~</td>\n      <td>~</td>\n      <td>~</td>\n      <td>~</td>\n      <td>~</td>\n      <td>~</td>\n      <td>~</td>\n    </tr>\n    <tr>\n      <th>5</th>\n      <td>~</td>\n      <td>~</td>\n      <td>~</td>\n      <td>~</td>\n      <td>~</td>\n      <td>~</td>\n      <td>~</td>\n      <td>~</td>\n      <td>~</td>\n      <td>~</td>\n    </tr>\n    <tr>\n      <th>6</th>\n      <td>~</td>\n      <td>~</td>\n      <td>~</td>\n      <td>~</td>\n      <td>~</td>\n      <td>~</td>\n      <td>~</td>\n      <td>~</td>\n      <td>~</td>\n      <td>~</td>\n    </tr>\n    <tr>\n      <th>7</th>\n      <td>~</td>\n      <td>~</td>\n      <td>~</td>\n      <td>~</td>\n      <td>~</td>\n      <td>~</td>\n      <td>~</td>\n      <td>~</td>\n      <td>~</td>\n      <td>~</td>\n    </tr>\n    <tr>\n      <th>8</th>\n      <td>~</td>\n      <td>~</td>\n      <td>~</td>\n      <td>~</td>\n      <td>~</td>\n      <td>~</td>\n      <td>~</td>\n      <td>~</td>\n      <td>~</td>\n      <td>~</td>\n    </tr>\n    <tr>\n      <th>9</th>\n      <td>~</td>\n      <td>~</td>\n      <td>~</td>\n      <td>~</td>\n      <td>~</td>\n      <td>~</td>\n      <td>~</td>\n      <td>~</td>\n      <td>~</td>\n      <td>~</td>\n    </tr>\n    <tr>\n      <th>10</th>\n      <td>~</td>\n      <td>~</td>\n      <td>~</td>\n      <td>~</td>\n      <td>~</td>\n      <td>~</td>\n      <td>~</td>\n      <td>~</td>\n      <td>~</td>\n      <td>~</td>\n    </tr>\n  </tbody>\n</table>\n</div>"
     },
     "metadata": {},
     "execution_count": 86
    }
   ],
   "source": [
    "tablero1 = pd.DataFrame({1: \"~\", 2: \"~\",3: \"~\",4: \"~\",5: \"~\",6: \"~\",7: \"~\",8: \"~\",9: \"~\",10: \"~\"},index=[1, 2,3,4,5,6,7,8,9,10])\n",
    "tablero1"
   ]
  },
  {
   "cell_type": "code",
   "execution_count": 87,
   "metadata": {},
   "outputs": [
    {
     "output_type": "execute_result",
     "data": {
      "text/plain": [
       "   1  2  3  4  5  6  7  8  9  10\n",
       "1   ~  ~  ~  ~  ~  ~  ~  ~  ~  ~\n",
       "2   ~  ~  ~  ~  ~  ~  ~  ~  ~  ~\n",
       "3   ~  ~  ~  ~  ~  ~  ~  ~  ~  ~\n",
       "4   ~  ~  ~  ~  ~  ~  ~  ~  ~  ~\n",
       "5   ~  ~  ~  ~  ~  ~  ~  ~  ~  ~\n",
       "6   ~  ~  ~  ~  ~  ~  ~  ~  ~  ~\n",
       "7   ~  ~  ~  ~  ~  ~  ~  ~  ~  ~\n",
       "8   ~  ~  ~  ~  ~  ~  ~  ~  ~  ~\n",
       "9   ~  ~  ~  ~  ~  ~  ~  ~  ~  ~\n",
       "10  ~  ~  ~  ~  ~  ~  ~  ~  ~  ~"
      ],
      "text/html": "<div>\n<style scoped>\n    .dataframe tbody tr th:only-of-type {\n        vertical-align: middle;\n    }\n\n    .dataframe tbody tr th {\n        vertical-align: top;\n    }\n\n    .dataframe thead th {\n        text-align: right;\n    }\n</style>\n<table border=\"1\" class=\"dataframe\">\n  <thead>\n    <tr style=\"text-align: right;\">\n      <th></th>\n      <th>1</th>\n      <th>2</th>\n      <th>3</th>\n      <th>4</th>\n      <th>5</th>\n      <th>6</th>\n      <th>7</th>\n      <th>8</th>\n      <th>9</th>\n      <th>10</th>\n    </tr>\n  </thead>\n  <tbody>\n    <tr>\n      <th>1</th>\n      <td>~</td>\n      <td>~</td>\n      <td>~</td>\n      <td>~</td>\n      <td>~</td>\n      <td>~</td>\n      <td>~</td>\n      <td>~</td>\n      <td>~</td>\n      <td>~</td>\n    </tr>\n    <tr>\n      <th>2</th>\n      <td>~</td>\n      <td>~</td>\n      <td>~</td>\n      <td>~</td>\n      <td>~</td>\n      <td>~</td>\n      <td>~</td>\n      <td>~</td>\n      <td>~</td>\n      <td>~</td>\n    </tr>\n    <tr>\n      <th>3</th>\n      <td>~</td>\n      <td>~</td>\n      <td>~</td>\n      <td>~</td>\n      <td>~</td>\n      <td>~</td>\n      <td>~</td>\n      <td>~</td>\n      <td>~</td>\n      <td>~</td>\n    </tr>\n    <tr>\n      <th>4</th>\n      <td>~</td>\n      <td>~</td>\n      <td>~</td>\n      <td>~</td>\n      <td>~</td>\n      <td>~</td>\n      <td>~</td>\n      <td>~</td>\n      <td>~</td>\n      <td>~</td>\n    </tr>\n    <tr>\n      <th>5</th>\n      <td>~</td>\n      <td>~</td>\n      <td>~</td>\n      <td>~</td>\n      <td>~</td>\n      <td>~</td>\n      <td>~</td>\n      <td>~</td>\n      <td>~</td>\n      <td>~</td>\n    </tr>\n    <tr>\n      <th>6</th>\n      <td>~</td>\n      <td>~</td>\n      <td>~</td>\n      <td>~</td>\n      <td>~</td>\n      <td>~</td>\n      <td>~</td>\n      <td>~</td>\n      <td>~</td>\n      <td>~</td>\n    </tr>\n    <tr>\n      <th>7</th>\n      <td>~</td>\n      <td>~</td>\n      <td>~</td>\n      <td>~</td>\n      <td>~</td>\n      <td>~</td>\n      <td>~</td>\n      <td>~</td>\n      <td>~</td>\n      <td>~</td>\n    </tr>\n    <tr>\n      <th>8</th>\n      <td>~</td>\n      <td>~</td>\n      <td>~</td>\n      <td>~</td>\n      <td>~</td>\n      <td>~</td>\n      <td>~</td>\n      <td>~</td>\n      <td>~</td>\n      <td>~</td>\n    </tr>\n    <tr>\n      <th>9</th>\n      <td>~</td>\n      <td>~</td>\n      <td>~</td>\n      <td>~</td>\n      <td>~</td>\n      <td>~</td>\n      <td>~</td>\n      <td>~</td>\n      <td>~</td>\n      <td>~</td>\n    </tr>\n    <tr>\n      <th>10</th>\n      <td>~</td>\n      <td>~</td>\n      <td>~</td>\n      <td>~</td>\n      <td>~</td>\n      <td>~</td>\n      <td>~</td>\n      <td>~</td>\n      <td>~</td>\n      <td>~</td>\n    </tr>\n  </tbody>\n</table>\n</div>"
     },
     "metadata": {},
     "execution_count": 87
    }
   ],
   "source": [
    "tablero2 = pd.DataFrame({1: \"~\", 2: \"~\",3: \"~\",4: \"~\",5: \"~\",6: \"~\",7: \"~\",8: \"~\",9: \"~\",10: \"~\"},index=[1, 2,3,4,5,6,7,8,9,10])\n",
    "tablero2"
   ]
  },
  {
   "cell_type": "code",
   "execution_count": 88,
   "metadata": {},
   "outputs": [],
   "source": [
    "tablerovacio1 = pd.DataFrame({1: \"~\", 2: \"~\",3: \"~\",4: \"~\",5: \"~\",6: \"~\",7: \"~\",8: \"~\",9: \"~\",10: \"~\"},index=[1, 2,3,4,5,6,7,8,9,10])\n",
    "tablerovacio2 = pd.DataFrame({1: \"~\", 2: \"~\",3: \"~\",4: \"~\",5: \"~\",6: \"~\",7: \"~\",8: \"~\",9: \"~\",10: \"~\"},index=[1, 2,3,4,5,6,7,8,9,10])"
   ]
  },
  {
   "cell_type": "code",
   "execution_count": 89,
   "metadata": {},
   "outputs": [],
   "source": [
    "\"\"\" Definimos la Clase Barco con la función colocar barco, la cual coloca los barcos en el tablero:\n",
    "\n",
    "df = tablero1\n",
    "size = dimensiones del barco ( pequeño: 2, mediano: 3, grande: 4, gigante: 5)\n",
    "fil = fila\n",
    "col = columna\"\"\"\n",
    "\n",
    "class Barco: \n",
    "    def __init__(self, df): \n",
    "        self.df = df\n",
    "\n",
    "    def colocar_barco(self, size, df): # Introducimos el DataFrame (tablero que escogemos) y el size\n",
    "        self.size = size\n",
    "\n",
    "        fil = int(input(\"Introduce la coordenada fila\")) \n",
    "        col = int(input(\"Introduce la coordenada columna\"))\n",
    "\n",
    "# Si tenemos ya barco en la coordenada introducida:\n",
    "        if df.loc[fil,col] == \"#\" : \n",
    "            print(\"Ops! There´s already a boat,try again!\")\n",
    "\n",
    "\n",
    "        else:\n",
    "\n",
    "# Pedimos cómo queremos colocar el barco a partir de la coordenada inicial:\n",
    "            h_v = input(\"escribe 'h' si quieres horizontal o 'v' si quieres vertical\")\n",
    "\n",
    "# Ponemos las condiciones para que el barco no se sobreponga o no se sobresalga del tablero para el caso horizontal: \n",
    "            if h_v == \"h\":\n",
    "\n",
    "                if col == 10:\n",
    "                    print(\"You´re out of range\")\n",
    "\n",
    "                elif size == 5 and (col == 7 or col == 8 or col == 9):\n",
    "                    print(\"You´re out of range\")\n",
    "                \n",
    "                elif size == 4 and (col == 9 or col == 8):\n",
    "                    print(\"You´re out of range\")\n",
    "                \n",
    "                elif size == 3 and (col == 9):\n",
    "                    print(\"You´re out of range\")\n",
    "\n",
    "                elif size == 2 and df.loc[fil,col + 1 ] == \"#\": \n",
    "                    print(\"You´re crushing with another boat. Try again!\")\n",
    "                \n",
    "                elif size == 3 and (df.loc[fil,col + 1 ] == \"#\" or df.loc[fil,col + 2] == \"#\"):\n",
    "                    print(\"You´re crushing with another boat. Try again!\")\n",
    "                \n",
    "                elif size == 4 and (df.loc[fil,col + 1 ] == \"#\" or df.loc[fil,col + 2] == \"#\" or df.loc[fil,col + 3] == \"#\"):\n",
    "                    print(\"You´re crushing with another boat. Try again!\")\n",
    "\n",
    "                elif size == 5 and (df.loc[fil,col + 1 ] == \"#\" or df.loc[fil,col + 2] == \"#\" or df.loc[fil,col + 3] == \"#\" or df.loc[fil,col + 4] == \"#\"):\n",
    "                    print(\"You´re crushing with another boat. Try again!\")\n",
    "\n",
    "# Si todo está bien, entonces rellena el tablero con el barco indicado:\n",
    "                else:\n",
    "                    fil = fil \n",
    "                    col_f = col + size - 1\n",
    "            \n",
    "                    df.loc[fil,col:col_f] = \"#\"\n",
    "                    print(tablero1)\n",
    "                    return df\n",
    "        \n",
    "\n",
    "# Ponemos las condiciones para que el barco no se sobreponga o no se sobresalga del tablero para el caso horizontal: \n",
    "            if h_v == \"v\":\n",
    "\n",
    "                if fil == 10:\n",
    "                    print(\"You´re out of range\")\n",
    "                \n",
    "                elif size == 5 and (fil == 7 or fil == 8 or fil == 9):\n",
    "                    print(\"You´re out of range\")\n",
    "                \n",
    "                elif size == 4 and (fil == 9 or fil == 8):\n",
    "                    print(\"You´re out of range\")\n",
    "                \n",
    "                elif size == 3 and (fil == 9):\n",
    "                    print(\"You´re out of range\")\n",
    "\n",
    "                elif size == 2 and (df.loc[fil + 1, col] == \"#\"): \n",
    "                    print(\"You´re crushing with another boat. Try again!\")\n",
    "                \n",
    "                elif size == 3 and (df.loc[fil + 1, col] == \"#\" or df.loc[fil + 2, col] == \"#\"):\n",
    "                    print(\"You´re crushing with another boat. Try again!\")\n",
    "                \n",
    "                elif size == 4 and (df.loc[fil + 1, col] == \"#\" or df.loc[fil + 2, col] == \"#\" or df.loc[fil + 3, col] == \"#\"):\n",
    "                        print(\"You´re crushing with another boat. Try again!\")\n",
    "\n",
    "                elif size == 5 and (df.loc[fil + 1, col] == \"#\" or df.loc[fil + 2, col] == \"#\" or df.loc[fil + 3, col] == \"#\" or df.loc[fil + 4 , col] == \"#\"):\n",
    "                        print(\"You´re crushing with another boat. Try again!\")\n",
    "\n",
    "# Si todo está bien, entonces rellena el tablero con el barco indicado:\n",
    "                else: \n",
    "                    fil_f = fil + size -1\n",
    "                    col = col\n",
    "                    df.loc[fil:fil_f,col] = \"#\"\n",
    "                    print(tablero1)\n",
    "                    return df"
   ]
  },
  {
   "cell_type": "code",
   "execution_count": 90,
   "metadata": {},
   "outputs": [],
   "source": [
    "barco_pequeño = Barco(tablero1)\n",
    "barco_mediano = Barco(tablero1)\n",
    "barco_grande = Barco(tablero1)\n",
    "barco_gigante = Barco(tablero1)"
   ]
  },
  {
   "cell_type": "code",
   "execution_count": 7,
   "metadata": {},
   "outputs": [],
   "source": []
  },
  {
   "cell_type": "code",
   "execution_count": 91,
   "metadata": {},
   "outputs": [
    {
     "output_type": "error",
     "ename": "SyntaxError",
     "evalue": "EOF while scanning triple-quoted string literal (<ipython-input-91-82eaf33293be>, line 11)",
     "traceback": [
      "\u001b[1;36m  File \u001b[1;32m\"<ipython-input-91-82eaf33293be>\"\u001b[1;36m, line \u001b[1;32m11\u001b[0m\n\u001b[1;33m    return tablero\u001b[0m\n\u001b[1;37m                  \n^\u001b[0m\n\u001b[1;31mSyntaxError\u001b[0m\u001b[1;31m:\u001b[0m EOF while scanning triple-quoted string literal\n"
     ]
    }
   ],
   "source": [
    "'''Definimos una función para que te vaya pidiendo los barcos que hay que colocar:\n",
    "n_barcos = número de barcos que hay que introducir\n",
    "tamaño: pequeño, mediano, grande o gigante\n",
    "n: la dimensión del barco (2, 3, 4, 5)\n",
    "tablero: el tablero sobre el que colocamos\n",
    "        if type(barco.colocar_barco(n,tablero1)) != pd.core.frame.DataFrame:\n",
    "            print(\"Try Again!\") \n",
    "            contador -= 1\n",
    "        contador += 1\n",
    "\n",
    "    return tablero"
   ]
  },
  {
   "cell_type": "code",
   "execution_count": 66,
   "metadata": {},
   "outputs": [],
   "source": []
  },
  {
   "cell_type": "code",
   "execution_count": 68,
   "metadata": {},
   "outputs": [
    {
     "output_type": "stream",
     "name": "stdout",
     "text": [
      "contador1: 1\n",
      "Coloca el barco1 de tamaño gigante en el tablero\n",
      "   1  2  3  4  5  6  7  8  9  10\n",
      "1   #  ~  ~  ~  ~  ~  ~  ~  ~  ~\n",
      "2   #  ~  #  #  #  #  #  ~  ~  ~\n",
      "3   #  ~  ~  ~  #  #  #  #  ~  ~\n",
      "4   #  ~  ~  ~  #  ~  ~  ~  ~  ~\n",
      "5   #  ~  ~  ~  #  ~  ~  ~  ~  ~\n",
      "6   ~  ~  ~  ~  #  ~  ~  ~  ~  ~\n",
      "7   ~  ~  ~  ~  #  ~  ~  ~  ~  ~\n",
      "8   ~  ~  ~  ~  ~  ~  ~  ~  ~  ~\n",
      "9   ~  ~  ~  ~  ~  ~  ~  ~  ~  ~\n",
      "10  ~  ~  ~  ~  ~  ~  ~  ~  ~  ~\n",
      "contador1: 1\n",
      "Coloca el barco1 de tamaño grande en el tablero\n"
     ]
    },
    {
     "output_type": "error",
     "ename": "ValueError",
     "evalue": "invalid literal for int() with base 10: ''",
     "traceback": [
      "\u001b[1;31m---------------------------------------------------------------------------\u001b[0m",
      "\u001b[1;31mValueError\u001b[0m                                Traceback (most recent call last)",
      "\u001b[1;32m<ipython-input-68-32ea0320e038>\u001b[0m in \u001b[0;36m<module>\u001b[1;34m\u001b[0m\n\u001b[1;32m----> 1\u001b[1;33m \u001b[0mcoloca_jugador1\u001b[0m\u001b[1;33m(\u001b[0m\u001b[1;33m)\u001b[0m\u001b[1;33m\u001b[0m\u001b[1;33m\u001b[0m\u001b[0m\n\u001b[0m\u001b[0;32m      2\u001b[0m \u001b[1;31m##necesario meter except para repetir el proceso(?)\u001b[0m\u001b[1;33m\u001b[0m\u001b[1;33m\u001b[0m\u001b[1;33m\u001b[0m\u001b[0m\n",
      "\u001b[1;32m<ipython-input-66-e1553a45dfde>\u001b[0m in \u001b[0;36mcoloca_jugador1\u001b[1;34m()\u001b[0m\n\u001b[0;32m      1\u001b[0m \u001b[1;32mdef\u001b[0m \u001b[0mcoloca_jugador1\u001b[0m\u001b[1;33m(\u001b[0m\u001b[1;33m)\u001b[0m\u001b[1;33m:\u001b[0m\u001b[1;33m\u001b[0m\u001b[1;33m\u001b[0m\u001b[0m\n\u001b[0;32m      2\u001b[0m     \u001b[0mcoloca_tus_barcos\u001b[0m\u001b[1;33m(\u001b[0m\u001b[1;36m2\u001b[0m\u001b[1;33m,\u001b[0m \u001b[0mbarco_gigante\u001b[0m\u001b[1;33m,\u001b[0m \u001b[1;34m\"gigante\"\u001b[0m\u001b[1;33m,\u001b[0m \u001b[1;36m5\u001b[0m\u001b[1;33m,\u001b[0m \u001b[0mtablero1\u001b[0m\u001b[1;33m)\u001b[0m\u001b[1;33m\u001b[0m\u001b[1;33m\u001b[0m\u001b[0m\n\u001b[1;32m----> 3\u001b[1;33m     \u001b[0mcoloca_tus_barcos\u001b[0m\u001b[1;33m(\u001b[0m\u001b[1;36m3\u001b[0m\u001b[1;33m,\u001b[0m \u001b[0mbarco_grande\u001b[0m\u001b[1;33m,\u001b[0m \u001b[1;34m\"grande\"\u001b[0m\u001b[1;33m,\u001b[0m \u001b[1;36m4\u001b[0m\u001b[1;33m,\u001b[0m \u001b[0mtablero1\u001b[0m\u001b[1;33m)\u001b[0m\u001b[1;33m\u001b[0m\u001b[1;33m\u001b[0m\u001b[0m\n\u001b[0m\u001b[0;32m      4\u001b[0m     \u001b[0mcoloca_tus_barcos\u001b[0m\u001b[1;33m(\u001b[0m\u001b[1;36m4\u001b[0m\u001b[1;33m,\u001b[0m \u001b[0mbarco_mediano\u001b[0m\u001b[1;33m,\u001b[0m \u001b[1;34m\"mediano\"\u001b[0m\u001b[1;33m,\u001b[0m \u001b[1;36m3\u001b[0m\u001b[1;33m,\u001b[0m \u001b[0mtablero1\u001b[0m\u001b[1;33m)\u001b[0m\u001b[1;33m\u001b[0m\u001b[1;33m\u001b[0m\u001b[0m\n\u001b[0;32m      5\u001b[0m     \u001b[0mcoloca_tus_barcos\u001b[0m\u001b[1;33m(\u001b[0m\u001b[1;36m5\u001b[0m\u001b[1;33m,\u001b[0m \u001b[0mbarco_pequeño\u001b[0m\u001b[1;33m,\u001b[0m \u001b[1;34m\"pequeño\"\u001b[0m\u001b[1;33m,\u001b[0m \u001b[1;36m2\u001b[0m\u001b[1;33m,\u001b[0m \u001b[0mtablero1\u001b[0m\u001b[1;33m)\u001b[0m\u001b[1;33m\u001b[0m\u001b[1;33m\u001b[0m\u001b[0m\n",
      "\u001b[1;32m<ipython-input-65-0d0decce8ee9>\u001b[0m in \u001b[0;36mcoloca_tus_barcos\u001b[1;34m(n_barcos, barco, tamaño, n, tablero)\u001b[0m\n\u001b[0;32m     11\u001b[0m         \u001b[0mprint\u001b[0m\u001b[1;33m(\u001b[0m\u001b[1;34mf'Coloca el barco{contador} de tamaño {tamaño} en el tablero'\u001b[0m\u001b[1;33m)\u001b[0m\u001b[1;33m\u001b[0m\u001b[1;33m\u001b[0m\u001b[0m\n\u001b[0;32m     12\u001b[0m \u001b[1;33m\u001b[0m\u001b[0m\n\u001b[1;32m---> 13\u001b[1;33m         \u001b[1;32mif\u001b[0m \u001b[0mtype\u001b[0m\u001b[1;33m(\u001b[0m\u001b[0mbarco\u001b[0m\u001b[1;33m.\u001b[0m\u001b[0mcolocar_barco\u001b[0m\u001b[1;33m(\u001b[0m\u001b[0mn\u001b[0m\u001b[1;33m,\u001b[0m\u001b[0mtablero1\u001b[0m\u001b[1;33m)\u001b[0m\u001b[1;33m)\u001b[0m \u001b[1;33m!=\u001b[0m \u001b[0mpd\u001b[0m\u001b[1;33m.\u001b[0m\u001b[0mcore\u001b[0m\u001b[1;33m.\u001b[0m\u001b[0mframe\u001b[0m\u001b[1;33m.\u001b[0m\u001b[0mDataFrame\u001b[0m\u001b[1;33m:\u001b[0m\u001b[1;33m\u001b[0m\u001b[1;33m\u001b[0m\u001b[0m\n\u001b[0m\u001b[0;32m     14\u001b[0m             \u001b[0mprint\u001b[0m\u001b[1;33m(\u001b[0m\u001b[1;34m\"Try Again!\"\u001b[0m\u001b[1;33m)\u001b[0m\u001b[1;33m\u001b[0m\u001b[1;33m\u001b[0m\u001b[0m\n\u001b[0;32m     15\u001b[0m             \u001b[0mcontador\u001b[0m \u001b[1;33m-=\u001b[0m \u001b[1;36m1\u001b[0m\u001b[1;33m\u001b[0m\u001b[1;33m\u001b[0m\u001b[0m\n",
      "\u001b[1;32m<ipython-input-63-81a5573467e2>\u001b[0m in \u001b[0;36mcolocar_barco\u001b[1;34m(self, size, df)\u001b[0m\n\u001b[0;32m     13\u001b[0m         \u001b[0mself\u001b[0m\u001b[1;33m.\u001b[0m\u001b[0msize\u001b[0m \u001b[1;33m=\u001b[0m \u001b[0msize\u001b[0m\u001b[1;33m\u001b[0m\u001b[1;33m\u001b[0m\u001b[0m\n\u001b[0;32m     14\u001b[0m \u001b[1;33m\u001b[0m\u001b[0m\n\u001b[1;32m---> 15\u001b[1;33m         \u001b[0mfil\u001b[0m \u001b[1;33m=\u001b[0m \u001b[0mint\u001b[0m\u001b[1;33m(\u001b[0m\u001b[0minput\u001b[0m\u001b[1;33m(\u001b[0m\u001b[1;34m\"Introduce la coordenada fila\"\u001b[0m\u001b[1;33m)\u001b[0m\u001b[1;33m)\u001b[0m\u001b[1;33m\u001b[0m\u001b[1;33m\u001b[0m\u001b[0m\n\u001b[0m\u001b[0;32m     16\u001b[0m         \u001b[0mcol\u001b[0m \u001b[1;33m=\u001b[0m \u001b[0mint\u001b[0m\u001b[1;33m(\u001b[0m\u001b[0minput\u001b[0m\u001b[1;33m(\u001b[0m\u001b[1;34m\"Introduce la coordenada columna\"\u001b[0m\u001b[1;33m)\u001b[0m\u001b[1;33m)\u001b[0m\u001b[1;33m\u001b[0m\u001b[1;33m\u001b[0m\u001b[0m\n\u001b[0;32m     17\u001b[0m \u001b[1;33m\u001b[0m\u001b[0m\n",
      "\u001b[1;31mValueError\u001b[0m: invalid literal for int() with base 10: ''"
     ]
    }
   ],
   "source": [
    "coloca_jugador1()\n",
    "##necesario meter except para repetir el proceso(?)"
   ]
  },
  {
   "cell_type": "code",
   "execution_count": 70,
   "metadata": {},
   "outputs": [],
   "source": [
    "\n",
    "\n",
    "coloca_jugador2()"
   ]
  },
  {
   "cell_type": "code",
   "execution_count": 53,
   "metadata": {},
   "outputs": [],
   "source": [
    "class jugador1:\n",
    "    def __init__(self, nombre,tablero1,tablerovacio1):\n",
    "        self.nombre = nombre\n",
    "        self.tablero1 = tablero1\n",
    "        self.tablerovacio1 = tablerovacio1\n",
    "    def coloca_jugador1(self):\n",
    "        coloca_tus_barcos(2, barco_gigante, \"gigante\", 15, tablero1)\n",
    "        coloca_tus_barcos(3, barco_grande, \"grande\", 4, tablero1)\n",
    "        coloca_tus_barcos(4, barco_mediano, \"mediano\", 3, tablero1)\n",
    "        coloca_tus_barcos(5, barco_pequeño, \"pequeño\", 2, tablero1)\n",
    "    def atacar(self, jugador2):\n",
    "        fil=int(input(\"Introduce la fila\"))\n",
    "        col=int(input(\"Introduce la columna\"))\n",
    "        if jugador2.tablero2.loc[fil,col]== \"#\":\n",
    "            jugador2.tablero2.loc[fil,col]=\"X\"\n",
    "            self.tablerovacio1.loc[fil,col] = \"X\"\n",
    "            print(\"Has atacado en:\",\"\\n\", self.tablerovacio1)\n",
    "            print(\"Tus barcos son:\",\"\\n\", self.tablero1)\n",
    "            return self.tablerovacio1, self.tablero1\n",
    "        elif jugador2.tablero2.loc[fil,col]== \"~\":\n",
    "            self.tablerovacio1.loc[fil,col]=\"O\"\n",
    "            jugador2.tablero2.loc[fil,col]=\"O\"\n",
    "            print(\"Has atacado en:\",\"\\n\", self.tablerovacio1)\n",
    "            print(\"Tus barcos son:\",\"\\n\", self.tablero1)\n",
    "            return self.tablerovacio1, self.tablero1\n",
    "        elif jugador2.tablero2.loc[fil,col]==\"X\" or jugador2.tablero2.loc[fil,col]==\"O\":\n",
    "            print(\"you have already attacked there\")\n",
    "            self.atacar(jugador2)\n",
    "\t\n"
   ]
  },
  {
   "cell_type": "code",
   "execution_count": 54,
   "metadata": {},
   "outputs": [],
   "source": [
    "class jugador2:\n",
    "    def __init__(self, nombre,tablero2,tablerovacio2):\n",
    "        self.nombre = nombre\n",
    "        self.tablero2 = tablero2\n",
    "        self.tablerovacio2 = tablerovacio2\n",
    "    def coloca_jugador2(self):\n",
    "        coloca_tus_barcos(2, barco_gigante, \"gigante\", 5, tablero2)\n",
    "        coloca_tus_barcos(3, barco_grande, \"grande\", 4, tablero2)\n",
    "        coloca_tus_barcos(4, barco_mediano, \"mediano\", 3, tablero2)\n",
    "        coloca_tus_barcos(5, barco_pequeño, \"pequeño\", 2, tablero2)\n",
    "    def atacar(self, jugador):\n",
    "        fil=int(input(\"Introduce la fila\"))\n",
    "        col=int(input(\"Introduce la columna\"))\n",
    "        if jugador1.tablero1.loc[fil,col]== \"#\":\n",
    "            jugador1.tablero1.loc[fil,col]=\"X\"\n",
    "            self.tablerovacio2.loc[fil,col] = \"X\"\n",
    "            print(\"Has atacado en:\",\"\\n\", self.tablerovacio2)\n",
    "            print(\"Tus barcos son:\",\"\\n\", self.tablero2)\n",
    "            return self.tablerovacio2, self.tablero2\n",
    "        elif jugador1.tablero1.loc[fil,col]== \"~\":\n",
    "            self.tablerovacio2.loc[fil,col]=\"O\"\n",
    "            jugador1.tablero1.loc[fil,col]=\"O\"\n",
    "            print(\"Has atacado en:\",\"\\n\", self.tablerovacio2)\n",
    "            print(\"Tus barcos son:\", \"\\n\",self.tablero2)\n",
    "            return self.tablerovacio2, self.tablero2\n",
    "        elif jugador1.tablero1.loc[fil,col]==\"X\" or jugador1.tablero1.loc[fil,col]==\"O\":\n",
    "            print(\"you have already attacked there\")\n",
    "            self.atacar(jugador1)"
   ]
  },
  {
   "cell_type": "code",
   "execution_count": 55,
   "metadata": {},
   "outputs": [],
   "source": [
    "jugador1 = jugador1(nombre='Marina',tablero1 =tablero1, tablerovacio1= tablerovacio1)\n",
    "jugador2 = jugador2(nombre='Isabel',tablero2 =tablero2, tablerovacio2= tablerovacio2)"
   ]
  },
  {
   "cell_type": "code",
   "execution_count": 56,
   "metadata": {},
   "outputs": [
    {
     "output_type": "stream",
     "name": "stdout",
     "text": [
      "Turno: 1\n",
      "Ataca Marina\n",
      "you have already attacked there\n",
      "Has atacado en: \n",
      "    1  2  3  4  5  6  7  8  9  10\n",
      "1   ~  ~  ~  ~  ~  ~  ~  ~  ~  ~\n",
      "2   ~  ~  ~  ~  ~  ~  ~  ~  ~  ~\n",
      "3   ~  ~  ~  ~  ~  ~  ~  ~  ~  ~\n",
      "4   ~  ~  ~  ~  O  ~  ~  ~  ~  ~\n",
      "5   ~  ~  ~  ~  ~  ~  ~  ~  ~  ~\n",
      "6   ~  ~  ~  ~  ~  ~  O  ~  ~  ~\n",
      "7   ~  ~  ~  ~  ~  ~  ~  ~  ~  ~\n",
      "8   ~  ~  ~  ~  ~  ~  ~  ~  ~  ~\n",
      "9   ~  ~  ~  ~  ~  ~  ~  ~  ~  ~\n",
      "10  ~  ~  ~  ~  ~  ~  ~  ~  ~  ~\n",
      "Tus barcos son: \n",
      "    1  2  3  4  5  6  7  8  9  10\n",
      "1   #  #  #  #  #  #  ~  ~  ~  ~\n",
      "2   #  ~  ~  ~  ~  ~  #  #  #  #\n",
      "3   #  #  ~  #  ~  ~  ~  ~  ~  ~\n",
      "4   ~  #  ~  #  ~  ~  ~  ~  ~  #\n",
      "5   ~  ~  ~  #  ~  ~  ~  ~  ~  #\n",
      "6   #  ~  ~  #  ~  ~  #  ~  #  ~\n",
      "7   #  ~  ~  ~  ~  ~  #  ~  #  ~\n",
      "8   #  ~  ~  ~  ~  ~  #  ~  ~  #\n",
      "9   ~  ~  ~  ~  ~  ~  ~  ~  ~  #\n",
      "10  ~  ~  ~  ~  ~  ~  ~  ~  ~  ~\n",
      "Ataca isabel\n"
     ]
    },
    {
     "output_type": "error",
     "ename": "AttributeError",
     "evalue": "type object 'jugador1' has no attribute 'tablero1'",
     "traceback": [
      "\u001b[1;31m---------------------------------------------------------------------------\u001b[0m",
      "\u001b[1;31mAttributeError\u001b[0m                            Traceback (most recent call last)",
      "\u001b[1;32m<ipython-input-56-c0c90cd8dd3d>\u001b[0m in \u001b[0;36m<module>\u001b[1;34m\u001b[0m\n\u001b[0;32m      7\u001b[0m     \u001b[0mMarina\u001b[0m\u001b[1;33m.\u001b[0m\u001b[0matacar\u001b[0m\u001b[1;33m(\u001b[0m\u001b[0mIsabel\u001b[0m\u001b[1;33m)\u001b[0m\u001b[1;33m\u001b[0m\u001b[1;33m\u001b[0m\u001b[0m\n\u001b[0;32m      8\u001b[0m     \u001b[0mprint\u001b[0m\u001b[1;33m(\u001b[0m\u001b[1;34m\"Ataca isabel\"\u001b[0m\u001b[1;33m)\u001b[0m\u001b[1;33m\u001b[0m\u001b[1;33m\u001b[0m\u001b[0m\n\u001b[1;32m----> 9\u001b[1;33m     \u001b[0mIsabel\u001b[0m\u001b[1;33m.\u001b[0m\u001b[0matacar\u001b[0m\u001b[1;33m(\u001b[0m\u001b[0mMarina\u001b[0m\u001b[1;33m)\u001b[0m\u001b[1;33m\u001b[0m\u001b[1;33m\u001b[0m\u001b[0m\n\u001b[0m\u001b[0;32m     10\u001b[0m     \u001b[0mturno\u001b[0m \u001b[1;33m=\u001b[0m \u001b[0mturno\u001b[0m \u001b[1;33m+\u001b[0m \u001b[1;36m1\u001b[0m\u001b[1;33m\u001b[0m\u001b[1;33m\u001b[0m\u001b[0m\n\u001b[0;32m     11\u001b[0m     \u001b[0mprint\u001b[0m\u001b[1;33m(\u001b[0m\u001b[1;34m\"---------\"\u001b[0m\u001b[1;33m)\u001b[0m\u001b[1;33m\u001b[0m\u001b[1;33m\u001b[0m\u001b[0m\n",
      "\u001b[1;32m<ipython-input-54-6aacf3873771>\u001b[0m in \u001b[0;36matacar\u001b[1;34m(self, jugador)\u001b[0m\n\u001b[0;32m      7\u001b[0m         \u001b[0mfil\u001b[0m\u001b[1;33m=\u001b[0m\u001b[0mint\u001b[0m\u001b[1;33m(\u001b[0m\u001b[0minput\u001b[0m\u001b[1;33m(\u001b[0m\u001b[1;34m\"Introduce la fila\"\u001b[0m\u001b[1;33m)\u001b[0m\u001b[1;33m)\u001b[0m\u001b[1;33m\u001b[0m\u001b[1;33m\u001b[0m\u001b[0m\n\u001b[0;32m      8\u001b[0m         \u001b[0mcol\u001b[0m\u001b[1;33m=\u001b[0m\u001b[0mint\u001b[0m\u001b[1;33m(\u001b[0m\u001b[0minput\u001b[0m\u001b[1;33m(\u001b[0m\u001b[1;34m\"Introduce la columna\"\u001b[0m\u001b[1;33m)\u001b[0m\u001b[1;33m)\u001b[0m\u001b[1;33m\u001b[0m\u001b[1;33m\u001b[0m\u001b[0m\n\u001b[1;32m----> 9\u001b[1;33m         \u001b[1;32mif\u001b[0m \u001b[0mjugador1\u001b[0m\u001b[1;33m.\u001b[0m\u001b[0mtablero1\u001b[0m\u001b[1;33m.\u001b[0m\u001b[0mloc\u001b[0m\u001b[1;33m[\u001b[0m\u001b[0mfil\u001b[0m\u001b[1;33m,\u001b[0m\u001b[0mcol\u001b[0m\u001b[1;33m]\u001b[0m\u001b[1;33m==\u001b[0m \u001b[1;34m\"#\"\u001b[0m\u001b[1;33m:\u001b[0m\u001b[1;33m\u001b[0m\u001b[1;33m\u001b[0m\u001b[0m\n\u001b[0m\u001b[0;32m     10\u001b[0m             \u001b[0mjugador1\u001b[0m\u001b[1;33m.\u001b[0m\u001b[0mtablero1\u001b[0m\u001b[1;33m.\u001b[0m\u001b[0mloc\u001b[0m\u001b[1;33m[\u001b[0m\u001b[0mfil\u001b[0m\u001b[1;33m,\u001b[0m\u001b[0mcol\u001b[0m\u001b[1;33m]\u001b[0m\u001b[1;33m=\u001b[0m\u001b[1;34m\"X\"\u001b[0m\u001b[1;33m\u001b[0m\u001b[1;33m\u001b[0m\u001b[0m\n\u001b[0;32m     11\u001b[0m             \u001b[0mself\u001b[0m\u001b[1;33m.\u001b[0m\u001b[0mtablerovacio2\u001b[0m\u001b[1;33m.\u001b[0m\u001b[0mloc\u001b[0m\u001b[1;33m[\u001b[0m\u001b[0mfil\u001b[0m\u001b[1;33m,\u001b[0m\u001b[0mcol\u001b[0m\u001b[1;33m]\u001b[0m \u001b[1;33m=\u001b[0m \u001b[1;34m\"X\"\u001b[0m\u001b[1;33m\u001b[0m\u001b[1;33m\u001b[0m\u001b[0m\n",
      "\u001b[1;31mAttributeError\u001b[0m: type object 'jugador1' has no attribute 'tablero1'"
     ]
    }
   ],
   "source": [
    "import time\n",
    "turno = 1\n",
    "tablero1 = pd.DataFrame({1: \"~\", 2: \"~\",3: \"~\",4: \"~\",5: \"~\",6: \"~\",7: \"~\",8: \"~\",9: \"~\",10: \"~\"},index=[1, 2,3,4,5,6,7,8,9,10])\n",
    "tablero2 = pd.DataFrame({1: \"~\", 2: \"~\",3: \"~\",4: \"~\",5: \"~\",6: \"~\",7: \"~\",8: \"~\",9: \"~\",10: \"~\"},index=[1, 2,3,4,5,6,7,8,9,10])\n",
    "tablerovacio1 = pd.DataFrame({1: \"~\", 2: \"~\",3: \"~\",4: \"~\",5: \"~\",6: \"~\",7: \"~\",8: \"~\",9: \"~\",10: \"~\"},index=[1, 2,3,4,5,6,7,8,9,10])\n",
    "tablerovacio2 = pd.DataFrame({1: \"~\", 2: \"~\",3: \"~\",4: \"~\",5: \"~\",6: \"~\",7: \"~\",8: \"~\",9: \"~\",10: \"~\"},index=[1, 2,3,4,5,6,7,8,9,10])\n",
    "def func_random(jugador1,jugador2):\n",
    "    x = random.randint(0,6)\n",
    "    y = random.randint(0,6)\n",
    "    print(\"1º número:\", x)\n",
    "    print(\"2º número\", y)\n",
    "    if x > y:\n",
    "        return jugador1\n",
    "    else:\n",
    "        return jugador2\n",
    "\n",
    "func_random(input(\"Nombre 1\"),input(\"Nombre 2\"))\n",
    "\n",
    "jugador1.coloca_jugador1()\n",
    "jugador2.coloca_jugador2()\n",
    "\n",
    "while True:\n",
    "\n",
    "    print(\"Turno:\", turno)\n",
    "    time.sleep(1)\n",
    "    print(\"Ataca Marina\")\n",
    "    jugador1.atacar(jugador2)\n",
    "    print(\"Ataca isabel\")\n",
    "    jugador2.atacar(jugador1)\n",
    "    turno = turno + 1\n",
    "    print(\"---------\")"
   ]
  },
  {
   "cell_type": "code",
   "execution_count": 57,
   "metadata": {},
   "outputs": [
    {
     "output_type": "stream",
     "name": "stdout",
     "text": [
      "   1  2  3  4  5  6  7  8  9  10\n1   ~  ~  ~  ~  ~  ~  ~  ~  ~  ~\n2   ~  ~  ~  ~  ~  ~  ~  ~  ~  ~\n3   ~  ~  ~  ~  ~  ~  ~  ~  ~  ~\n4   ~  ~  ~  ~  O  ~  ~  ~  ~  ~\n5   ~  ~  ~  ~  ~  ~  ~  ~  ~  ~\n6   ~  ~  ~  ~  ~  ~  O  ~  ~  ~\n7   ~  ~  ~  ~  ~  ~  ~  ~  ~  ~\n8   ~  ~  ~  ~  ~  ~  ~  ~  ~  ~\n9   ~  ~  ~  ~  ~  ~  ~  ~  ~  ~\n10  ~  ~  ~  ~  ~  ~  ~  ~  ~  ~\n"
     ]
    }
   ],
   "source": [
    "print(tablero2)"
   ]
  },
  {
   "cell_type": "code",
   "execution_count": null,
   "metadata": {},
   "outputs": [],
   "source": []
  }
 ]
}