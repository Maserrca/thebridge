{
 "metadata": {
  "language_info": {
   "codemirror_mode": {
    "name": "ipython",
    "version": 3
   },
   "file_extension": ".py",
   "mimetype": "text/x-python",
   "name": "python",
   "nbconvert_exporter": "python",
   "pygments_lexer": "ipython3",
   "version": "3.7.4"
  },
  "orig_nbformat": 2,
  "kernelspec": {
   "name": "python374jvsc74a57bd0797ece2db6cd49410b212500b07c3b6429b528fb918ab6c0d0ffbc4c51c5b09e",
   "display_name": "Python 3.7.4 64-bit"
  },
  "metadata": {
   "interpreter": {
    "hash": "797ece2db6cd49410b212500b07c3b6429b528fb918ab6c0d0ffbc4c51c5b09e"
   }
  }
 },
 "nbformat": 4,
 "nbformat_minor": 2,
 "cells": [
  {
   "cell_type": "code",
   "execution_count": 1,
   "metadata": {},
   "outputs": [],
   "source": [
    "import pandas as pd\n",
    "import numpy as np"
   ]
  },
  {
   "cell_type": "code",
   "execution_count": null,
   "metadata": {},
   "outputs": [],
   "source": [
    "df_empty = pd.DataFrame({'A' : []})\n",
    "df_empty\n",
    "Empty DataFrame\n",
    "Columns: [A]\n",
    "Index: []\n",
    "df_empty.empty"
   ]
  },
  {
   "cell_type": "code",
   "execution_count": 7,
   "metadata": {},
   "outputs": [
    {
     "output_type": "execute_result",
     "data": {
      "text/plain": [
       "  1  2  3  4  5  6  7  8  9  10\n",
       "a  ~  ~  ~  ~  ~  ~  ~  ~  ~  ~\n",
       "b  ~  ~  ~  ~  ~  ~  ~  ~  ~  ~\n",
       "c  ~  ~  ~  ~  ~  ~  ~  ~  ~  ~\n",
       "d  ~  ~  ~  ~  ~  ~  ~  ~  ~  ~\n",
       "e  ~  ~  ~  ~  ~  ~  ~  ~  ~  ~\n",
       "f  ~  ~  ~  ~  ~  ~  ~  ~  ~  ~\n",
       "g  ~  ~  ~  ~  ~  ~  ~  ~  ~  ~\n",
       "h  ~  ~  ~  ~  ~  ~  ~  ~  ~  ~\n",
       "i  ~  ~  ~  ~  ~  ~  ~  ~  ~  ~\n",
       "j  ~  ~  ~  ~  ~  ~  ~  ~  ~  ~"
      ],
      "text/html": "<div>\n<style scoped>\n    .dataframe tbody tr th:only-of-type {\n        vertical-align: middle;\n    }\n\n    .dataframe tbody tr th {\n        vertical-align: top;\n    }\n\n    .dataframe thead th {\n        text-align: right;\n    }\n</style>\n<table border=\"1\" class=\"dataframe\">\n  <thead>\n    <tr style=\"text-align: right;\">\n      <th></th>\n      <th>1</th>\n      <th>2</th>\n      <th>3</th>\n      <th>4</th>\n      <th>5</th>\n      <th>6</th>\n      <th>7</th>\n      <th>8</th>\n      <th>9</th>\n      <th>10</th>\n    </tr>\n  </thead>\n  <tbody>\n    <tr>\n      <th>a</th>\n      <td>~</td>\n      <td>~</td>\n      <td>~</td>\n      <td>~</td>\n      <td>~</td>\n      <td>~</td>\n      <td>~</td>\n      <td>~</td>\n      <td>~</td>\n      <td>~</td>\n    </tr>\n    <tr>\n      <th>b</th>\n      <td>~</td>\n      <td>~</td>\n      <td>~</td>\n      <td>~</td>\n      <td>~</td>\n      <td>~</td>\n      <td>~</td>\n      <td>~</td>\n      <td>~</td>\n      <td>~</td>\n    </tr>\n    <tr>\n      <th>c</th>\n      <td>~</td>\n      <td>~</td>\n      <td>~</td>\n      <td>~</td>\n      <td>~</td>\n      <td>~</td>\n      <td>~</td>\n      <td>~</td>\n      <td>~</td>\n      <td>~</td>\n    </tr>\n    <tr>\n      <th>d</th>\n      <td>~</td>\n      <td>~</td>\n      <td>~</td>\n      <td>~</td>\n      <td>~</td>\n      <td>~</td>\n      <td>~</td>\n      <td>~</td>\n      <td>~</td>\n      <td>~</td>\n    </tr>\n    <tr>\n      <th>e</th>\n      <td>~</td>\n      <td>~</td>\n      <td>~</td>\n      <td>~</td>\n      <td>~</td>\n      <td>~</td>\n      <td>~</td>\n      <td>~</td>\n      <td>~</td>\n      <td>~</td>\n    </tr>\n    <tr>\n      <th>f</th>\n      <td>~</td>\n      <td>~</td>\n      <td>~</td>\n      <td>~</td>\n      <td>~</td>\n      <td>~</td>\n      <td>~</td>\n      <td>~</td>\n      <td>~</td>\n      <td>~</td>\n    </tr>\n    <tr>\n      <th>g</th>\n      <td>~</td>\n      <td>~</td>\n      <td>~</td>\n      <td>~</td>\n      <td>~</td>\n      <td>~</td>\n      <td>~</td>\n      <td>~</td>\n      <td>~</td>\n      <td>~</td>\n    </tr>\n    <tr>\n      <th>h</th>\n      <td>~</td>\n      <td>~</td>\n      <td>~</td>\n      <td>~</td>\n      <td>~</td>\n      <td>~</td>\n      <td>~</td>\n      <td>~</td>\n      <td>~</td>\n      <td>~</td>\n    </tr>\n    <tr>\n      <th>i</th>\n      <td>~</td>\n      <td>~</td>\n      <td>~</td>\n      <td>~</td>\n      <td>~</td>\n      <td>~</td>\n      <td>~</td>\n      <td>~</td>\n      <td>~</td>\n      <td>~</td>\n    </tr>\n    <tr>\n      <th>j</th>\n      <td>~</td>\n      <td>~</td>\n      <td>~</td>\n      <td>~</td>\n      <td>~</td>\n      <td>~</td>\n      <td>~</td>\n      <td>~</td>\n      <td>~</td>\n      <td>~</td>\n    </tr>\n  </tbody>\n</table>\n</div>"
     },
     "metadata": {},
     "execution_count": 7
    }
   ],
   "source": [
    "df = pd.DataFrame({1: \"~\", 2: \"~\",3: \"~\",4: \"~\",5: \"~\",6: \"~\",7: \"~\",8: \"~\",9: \"~\",10: \"~\"},index=['a', 'b','c','d','e','f','g','h','i','j'])\n",
    "df "
   ]
  },
  {
   "cell_type": "code",
   "execution_count": null,
   "metadata": {},
   "outputs": [],
   "source": []
  }
 ]
}