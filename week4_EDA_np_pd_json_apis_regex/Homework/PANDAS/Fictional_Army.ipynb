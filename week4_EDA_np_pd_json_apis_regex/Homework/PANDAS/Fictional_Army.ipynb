{
  "nbformat": 4,
  "nbformat_minor": 0,
  "metadata": {
    "kernelspec": {
      "display_name": "Python 3",
      "language": "python",
      "name": "python3"
    },
    "language_info": {
      "codemirror_mode": {
        "name": "ipython",
        "version": 3
      },
      "file_extension": ".py",
      "mimetype": "text/x-python",
      "name": "python",
      "nbconvert_exporter": "python",
      "pygments_lexer": "ipython3",
      "version": "3.8.3"
    },
    "colab": {
      "name": "Fictional Army.ipynb",
      "provenance": []
    }
  },
  "cells": [
    {
      "cell_type": "markdown",
      "metadata": {
        "id": "53wnbdgbVfu4"
      },
      "source": [
        "# 02 - Filtering and Sorting Data"
      ]
    },
    {
      "cell_type": "markdown",
      "metadata": {
        "id": "zR_ZUb1aVfvQ"
      },
      "source": [
        "### Step 1. Import the necessary libraries"
      ]
    },
    {
      "cell_type": "code",
      "metadata": {
        "id": "utyCjDwIVfvc"
      },
      "source": [
        "import pandas as pd"
      ],
      "execution_count": null,
      "outputs": []
    },
    {
      "cell_type": "markdown",
      "metadata": {
        "id": "UQp45hVKVfvf"
      },
      "source": [
        "### Step 2. This is the data given as a dictionary"
      ]
    },
    {
      "cell_type": "code",
      "metadata": {
        "id": "vlMoMk-tVfvh"
      },
      "source": [
        "# Create an example dataframe about a fictional army\n",
        "raw_data = {'regiment': ['Nighthawks', 'Nighthawks', 'Nighthawks', 'Nighthawks', 'Dragoons', 'Dragoons', 'Dragoons', 'Dragoons', 'Scouts', 'Scouts', 'Scouts', 'Scouts'],\n",
        "            'company': ['1st', '1st', '2nd', '2nd', '1st', '1st', '2nd', '2nd','1st', '1st', '2nd', '2nd'],\n",
        "            'deaths': [523, 52, 25, 616, 43, 234, 523, 62, 62, 73, 37, 35],\n",
        "            'battles': [5, 42, 2, 2, 4, 7, 8, 3, 4, 7, 8, 9],\n",
        "            'size': [1045, 957, 1099, 1400, 1592, 1006, 987, 849, 973, 1005, 1099, 1523],\n",
        "            'veterans': [1, 5, 62, 26, 73, 37, 949, 48, 48, 435, 63, 345],\n",
        "            'readiness': [1, 2, 3, 3, 2, 1, 2, 3, 2, 1, 2, 3],\n",
        "            'armored': [1, 0, 1, 1, 0, 1, 0, 1, 0, 0, 1, 1],\n",
        "            'deserters': [4, 24, 31, 2, 3, 4, 24, 31, 2, 3, 2, 3],\n",
        "            'origin': ['Arizona', 'California', 'Texas', 'Florida', 'Maine', 'Iowa', 'Alaska', 'Washington', 'Oregon', 'Wyoming', 'Louisana', 'Georgia']}"
      ],
      "execution_count": null,
      "outputs": []
    },
    {
      "cell_type": "markdown",
      "metadata": {
        "id": "I8A2OjX-Vfvk"
      },
      "source": [
        "### Step 3. Create a dataframe and assign it to a variable called army. \n",
        "\n",
        "_**Don't forget to include the columns names in the order presented in the dictionary ('regiment', 'company', 'deaths'...) so that the column index order is consistent with the solutions. If omitted, pandas will order the columns alphabetically.**_"
      ]
    },
    {
      "cell_type": "code",
      "metadata": {
        "id": "RJD55a_qVfvn"
      },
      "source": [
        ""
      ],
      "execution_count": null,
      "outputs": []
    },
    {
      "cell_type": "markdown",
      "metadata": {
        "id": "KlIKDjXNVfvo"
      },
      "source": [
        "### Step 4. Set the 'origin' colum as the index of the dataframe"
      ]
    },
    {
      "cell_type": "code",
      "metadata": {
        "id": "LIWeM-f8Vfvp"
      },
      "source": [
        ""
      ],
      "execution_count": null,
      "outputs": []
    },
    {
      "cell_type": "markdown",
      "metadata": {
        "id": "Kgj-HnzFVfvq"
      },
      "source": [
        "### Step 5. Print only the column veterans"
      ]
    },
    {
      "cell_type": "code",
      "metadata": {
        "id": "mlIWe8DmVfvs"
      },
      "source": [
        ""
      ],
      "execution_count": null,
      "outputs": []
    },
    {
      "cell_type": "markdown",
      "metadata": {
        "id": "T7gtNTIXVfvs"
      },
      "source": [
        "### Step 6. Print the columns 'veterans' and 'deaths'"
      ]
    },
    {
      "cell_type": "code",
      "metadata": {
        "id": "2RGO1fXgVfvt"
      },
      "source": [
        ""
      ],
      "execution_count": null,
      "outputs": []
    },
    {
      "cell_type": "markdown",
      "metadata": {
        "id": "DZXJe4-lVfvt"
      },
      "source": [
        "### Step 7. Print the name of all the columns"
      ]
    },
    {
      "cell_type": "code",
      "metadata": {
        "id": "rI1WVFWNVfvu"
      },
      "source": [
        ""
      ],
      "execution_count": null,
      "outputs": []
    },
    {
      "cell_type": "markdown",
      "metadata": {
        "id": "oC27hgi5Vfvu"
      },
      "source": [
        "### Step 8. Select the 'deaths', 'size' and 'deserters' columns from Maine and Alaska"
      ]
    },
    {
      "cell_type": "code",
      "metadata": {
        "id": "vzzJamlkVfvv"
      },
      "source": [
        ""
      ],
      "execution_count": null,
      "outputs": []
    },
    {
      "cell_type": "markdown",
      "metadata": {
        "id": "-N8KR_F5Vfvw"
      },
      "source": [
        "### Step 9. Select the rows 3 to 7 and the columns 3 to 6"
      ]
    },
    {
      "cell_type": "code",
      "metadata": {
        "id": "mOLXQ5DGVfvx"
      },
      "source": [
        ""
      ],
      "execution_count": null,
      "outputs": []
    },
    {
      "cell_type": "markdown",
      "metadata": {
        "id": "3d8NJHssVfvx"
      },
      "source": [
        "### Step 10. Select every row after the fourth row and all columns"
      ]
    },
    {
      "cell_type": "code",
      "metadata": {
        "id": "BQumU33sVfvy"
      },
      "source": [
        ""
      ],
      "execution_count": null,
      "outputs": []
    },
    {
      "cell_type": "markdown",
      "metadata": {
        "id": "LaFjLikpVfvy"
      },
      "source": [
        "### Step 11. Select every row up to the 4th row and all columns"
      ]
    },
    {
      "cell_type": "code",
      "metadata": {
        "id": "MqnrtN0AVfvz"
      },
      "source": [
        ""
      ],
      "execution_count": null,
      "outputs": []
    },
    {
      "cell_type": "markdown",
      "metadata": {
        "id": "8tBI43KsVfvz"
      },
      "source": [
        "### Step 12. Select the 3rd column up to the 7th column"
      ]
    },
    {
      "cell_type": "code",
      "metadata": {
        "id": "D49ds_JBVfvz"
      },
      "source": [
        ""
      ],
      "execution_count": null,
      "outputs": []
    },
    {
      "cell_type": "markdown",
      "metadata": {
        "id": "YCY4NHlhVfv0"
      },
      "source": [
        "### Step 13. Select rows where df.deaths is greater than 50"
      ]
    },
    {
      "cell_type": "code",
      "metadata": {
        "id": "Krph9PciVfv0"
      },
      "source": [
        ""
      ],
      "execution_count": null,
      "outputs": []
    },
    {
      "cell_type": "markdown",
      "metadata": {
        "id": "AXAGOSwSVfv1"
      },
      "source": [
        "### Step 14. Select rows where df.deaths is greater than 500 or less than 50"
      ]
    },
    {
      "cell_type": "code",
      "metadata": {
        "id": "iJUKRsn3Vfv1"
      },
      "source": [
        ""
      ],
      "execution_count": null,
      "outputs": []
    },
    {
      "cell_type": "markdown",
      "metadata": {
        "id": "Bu6oVOMgVfv2"
      },
      "source": [
        "### Step 15. Select all the regiments not named \"Dragoons\""
      ]
    },
    {
      "cell_type": "code",
      "metadata": {
        "id": "Gg33l5uUVfv5"
      },
      "source": [
        ""
      ],
      "execution_count": null,
      "outputs": []
    },
    {
      "cell_type": "markdown",
      "metadata": {
        "id": "eipD6BpEVfv5"
      },
      "source": [
        "### Step 16. Select the rows called Texas and Arizona"
      ]
    },
    {
      "cell_type": "code",
      "metadata": {
        "id": "LgzHu4CEVfv6"
      },
      "source": [
        ""
      ],
      "execution_count": null,
      "outputs": []
    },
    {
      "cell_type": "markdown",
      "metadata": {
        "id": "2tqgZxj1Vfv6"
      },
      "source": [
        "### Step 17. Select the third cell in the row named Arizona"
      ]
    },
    {
      "cell_type": "code",
      "metadata": {
        "id": "PC1pQvP4Vfv7"
      },
      "source": [
        ""
      ],
      "execution_count": null,
      "outputs": []
    },
    {
      "cell_type": "markdown",
      "metadata": {
        "id": "RVPwO0LrVfv8"
      },
      "source": [
        "### Step 18. Select the third cell down in the column named deaths"
      ]
    },
    {
      "cell_type": "code",
      "metadata": {
        "id": "zkV3KIwBVfv8"
      },
      "source": [
        ""
      ],
      "execution_count": null,
      "outputs": []
    }
  ]
}