{
  "nbformat": 4,
  "nbformat_minor": 0,
  "metadata": {
    "anaconda-cloud": {},
    "kernelspec": {
      "name": "python374jvsc74a57bd0797ece2db6cd49410b212500b07c3b6429b528fb918ab6c0d0ffbc4c51c5b09e",
      "display_name": "Python 3.7.4 64-bit"
    },
    "language_info": {
      "codemirror_mode": {
        "name": "ipython",
        "version": 3
      },
      "file_extension": ".py",
      "mimetype": "text/x-python",
      "name": "python",
      "nbconvert_exporter": "python",
      "pygments_lexer": "ipython3",
      "version": "3.7.4"
    },
    "colab": {
      "name": "AutoMPG.ipynb",
      "provenance": []
    },
    "metadata": {
      "interpreter": {
        "hash": "797ece2db6cd49410b212500b07c3b6429b528fb918ab6c0d0ffbc4c51c5b09e"
      }
    }
  },
  "cells": [
    {
      "cell_type": "markdown",
      "metadata": {
        "id": "fczx0nTzC61Z"
      },
      "source": [
        "# 06 - Combining datasets\n",
        "\n",
        "### Step 1. Import the necessary libraries"
      ]
    },
    {
      "cell_type": "code",
      "metadata": {
        "id": "rO2LCh96C61l"
      },
      "source": [
        "import pandas as pd \n",
        "import numpy as np"
      ],
      "execution_count": 57,
      "outputs": []
    },
    {
      "cell_type": "markdown",
      "metadata": {
        "id": "zJ44jrazC61m"
      },
      "source": [
        "### Step 2. Import the datasets you'll find in the folder `data` and assign each to a variable called cars1 and cars2"
      ]
    },
    {
      "cell_type": "markdown",
      "metadata": {
        "id": "giipvyV4C61n"
      },
      "source": [
        "The following exercise uses data from [UC Irvine Machine Learning Repository](https://archive.ics.uci.edu/ml/datasets/Auto+MPG)"
      ]
    },
    {
      "cell_type": "code",
      "metadata": {
        "id": "YSj4KPg9C61o"
      },
      "source": [
        "cars1 = pd.read_csv(\"cars1.csv\")\n",
        "cars2 = pd.read_csv(\"cars2.csv\")"
      ],
      "execution_count": 58,
      "outputs": []
    },
    {
      "cell_type": "markdown",
      "metadata": {
        "id": "k5DkRuE4C61o"
      },
      "source": [
        "### Step 3. Have a look at the columns of the dataset."
      ]
    },
    {
      "cell_type": "code",
      "execution_count": 59,
      "metadata": {},
      "outputs": [
        {
          "output_type": "execute_result",
          "data": {
            "text/plain": [
              "      mpg  cylinders  displacement horsepower  weight  acceleration  model  \\\n",
              "0    18.0          8           307        130    3504          12.0     70   \n",
              "1    15.0          8           350        165    3693          11.5     70   \n",
              "2    18.0          8           318        150    3436          11.0     70   \n",
              "3    16.0          8           304        150    3433          12.0     70   \n",
              "4    17.0          8           302        140    3449          10.5     70   \n",
              "..    ...        ...           ...        ...     ...           ...    ...   \n",
              "193  24.0          6           200         81    3012          17.6     76   \n",
              "194  22.5          6           232         90    3085          17.6     76   \n",
              "195  29.0          4            85         52    2035          22.2     76   \n",
              "196  24.5          4            98         60    2164          22.1     76   \n",
              "197  29.0          4            90         70    1937          14.2     76   \n",
              "\n",
              "     origin                        car  Unnamed: 9  Unnamed: 10  Unnamed: 11  \\\n",
              "0         1  chevrolet chevelle malibu         NaN          NaN          NaN   \n",
              "1         1          buick skylark 320         NaN          NaN          NaN   \n",
              "2         1         plymouth satellite         NaN          NaN          NaN   \n",
              "3         1              amc rebel sst         NaN          NaN          NaN   \n",
              "4         1                ford torino         NaN          NaN          NaN   \n",
              "..      ...                        ...         ...          ...          ...   \n",
              "193       1              ford maverick         NaN          NaN          NaN   \n",
              "194       1                 amc hornet         NaN          NaN          NaN   \n",
              "195       1         chevrolet chevette         NaN          NaN          NaN   \n",
              "196       1            chevrolet woody         NaN          NaN          NaN   \n",
              "197       2                  vw rabbit         NaN          NaN          NaN   \n",
              "\n",
              "     Unnamed: 12  Unnamed: 13  \n",
              "0            NaN          NaN  \n",
              "1            NaN          NaN  \n",
              "2            NaN          NaN  \n",
              "3            NaN          NaN  \n",
              "4            NaN          NaN  \n",
              "..           ...          ...  \n",
              "193          NaN          NaN  \n",
              "194          NaN          NaN  \n",
              "195          NaN          NaN  \n",
              "196          NaN          NaN  \n",
              "197          NaN          NaN  \n",
              "\n",
              "[198 rows x 14 columns]"
            ],
            "text/html": "<div>\n<style scoped>\n    .dataframe tbody tr th:only-of-type {\n        vertical-align: middle;\n    }\n\n    .dataframe tbody tr th {\n        vertical-align: top;\n    }\n\n    .dataframe thead th {\n        text-align: right;\n    }\n</style>\n<table border=\"1\" class=\"dataframe\">\n  <thead>\n    <tr style=\"text-align: right;\">\n      <th></th>\n      <th>mpg</th>\n      <th>cylinders</th>\n      <th>displacement</th>\n      <th>horsepower</th>\n      <th>weight</th>\n      <th>acceleration</th>\n      <th>model</th>\n      <th>origin</th>\n      <th>car</th>\n      <th>Unnamed: 9</th>\n      <th>Unnamed: 10</th>\n      <th>Unnamed: 11</th>\n      <th>Unnamed: 12</th>\n      <th>Unnamed: 13</th>\n    </tr>\n  </thead>\n  <tbody>\n    <tr>\n      <th>0</th>\n      <td>18.0</td>\n      <td>8</td>\n      <td>307</td>\n      <td>130</td>\n      <td>3504</td>\n      <td>12.0</td>\n      <td>70</td>\n      <td>1</td>\n      <td>chevrolet chevelle malibu</td>\n      <td>NaN</td>\n      <td>NaN</td>\n      <td>NaN</td>\n      <td>NaN</td>\n      <td>NaN</td>\n    </tr>\n    <tr>\n      <th>1</th>\n      <td>15.0</td>\n      <td>8</td>\n      <td>350</td>\n      <td>165</td>\n      <td>3693</td>\n      <td>11.5</td>\n      <td>70</td>\n      <td>1</td>\n      <td>buick skylark 320</td>\n      <td>NaN</td>\n      <td>NaN</td>\n      <td>NaN</td>\n      <td>NaN</td>\n      <td>NaN</td>\n    </tr>\n    <tr>\n      <th>2</th>\n      <td>18.0</td>\n      <td>8</td>\n      <td>318</td>\n      <td>150</td>\n      <td>3436</td>\n      <td>11.0</td>\n      <td>70</td>\n      <td>1</td>\n      <td>plymouth satellite</td>\n      <td>NaN</td>\n      <td>NaN</td>\n      <td>NaN</td>\n      <td>NaN</td>\n      <td>NaN</td>\n    </tr>\n    <tr>\n      <th>3</th>\n      <td>16.0</td>\n      <td>8</td>\n      <td>304</td>\n      <td>150</td>\n      <td>3433</td>\n      <td>12.0</td>\n      <td>70</td>\n      <td>1</td>\n      <td>amc rebel sst</td>\n      <td>NaN</td>\n      <td>NaN</td>\n      <td>NaN</td>\n      <td>NaN</td>\n      <td>NaN</td>\n    </tr>\n    <tr>\n      <th>4</th>\n      <td>17.0</td>\n      <td>8</td>\n      <td>302</td>\n      <td>140</td>\n      <td>3449</td>\n      <td>10.5</td>\n      <td>70</td>\n      <td>1</td>\n      <td>ford torino</td>\n      <td>NaN</td>\n      <td>NaN</td>\n      <td>NaN</td>\n      <td>NaN</td>\n      <td>NaN</td>\n    </tr>\n    <tr>\n      <th>...</th>\n      <td>...</td>\n      <td>...</td>\n      <td>...</td>\n      <td>...</td>\n      <td>...</td>\n      <td>...</td>\n      <td>...</td>\n      <td>...</td>\n      <td>...</td>\n      <td>...</td>\n      <td>...</td>\n      <td>...</td>\n      <td>...</td>\n      <td>...</td>\n    </tr>\n    <tr>\n      <th>193</th>\n      <td>24.0</td>\n      <td>6</td>\n      <td>200</td>\n      <td>81</td>\n      <td>3012</td>\n      <td>17.6</td>\n      <td>76</td>\n      <td>1</td>\n      <td>ford maverick</td>\n      <td>NaN</td>\n      <td>NaN</td>\n      <td>NaN</td>\n      <td>NaN</td>\n      <td>NaN</td>\n    </tr>\n    <tr>\n      <th>194</th>\n      <td>22.5</td>\n      <td>6</td>\n      <td>232</td>\n      <td>90</td>\n      <td>3085</td>\n      <td>17.6</td>\n      <td>76</td>\n      <td>1</td>\n      <td>amc hornet</td>\n      <td>NaN</td>\n      <td>NaN</td>\n      <td>NaN</td>\n      <td>NaN</td>\n      <td>NaN</td>\n    </tr>\n    <tr>\n      <th>195</th>\n      <td>29.0</td>\n      <td>4</td>\n      <td>85</td>\n      <td>52</td>\n      <td>2035</td>\n      <td>22.2</td>\n      <td>76</td>\n      <td>1</td>\n      <td>chevrolet chevette</td>\n      <td>NaN</td>\n      <td>NaN</td>\n      <td>NaN</td>\n      <td>NaN</td>\n      <td>NaN</td>\n    </tr>\n    <tr>\n      <th>196</th>\n      <td>24.5</td>\n      <td>4</td>\n      <td>98</td>\n      <td>60</td>\n      <td>2164</td>\n      <td>22.1</td>\n      <td>76</td>\n      <td>1</td>\n      <td>chevrolet woody</td>\n      <td>NaN</td>\n      <td>NaN</td>\n      <td>NaN</td>\n      <td>NaN</td>\n      <td>NaN</td>\n    </tr>\n    <tr>\n      <th>197</th>\n      <td>29.0</td>\n      <td>4</td>\n      <td>90</td>\n      <td>70</td>\n      <td>1937</td>\n      <td>14.2</td>\n      <td>76</td>\n      <td>2</td>\n      <td>vw rabbit</td>\n      <td>NaN</td>\n      <td>NaN</td>\n      <td>NaN</td>\n      <td>NaN</td>\n      <td>NaN</td>\n    </tr>\n  </tbody>\n</table>\n<p>198 rows × 14 columns</p>\n</div>"
          },
          "metadata": {},
          "execution_count": 59
        }
      ],
      "source": [
        "cars1"
      ]
    },
    {
      "cell_type": "markdown",
      "metadata": {
        "id": "uyJxVcsjC61p"
      },
      "source": []
    },
    {
      "cell_type": "code",
      "execution_count": 60,
      "metadata": {},
      "outputs": [
        {
          "output_type": "execute_result",
          "data": {
            "text/plain": [
              "      mpg  cylinders  displacement horsepower  weight  acceleration  model  \\\n",
              "0    33.0          4            91         53    1795          17.4     76   \n",
              "1    20.0          6           225        100    3651          17.7     76   \n",
              "2    18.0          6           250         78    3574          21.0     76   \n",
              "3    18.5          6           250        110    3645          16.2     76   \n",
              "4    17.5          6           258         95    3193          17.8     76   \n",
              "..    ...        ...           ...        ...     ...           ...    ...   \n",
              "195  27.0          4           140         86    2790          15.6     82   \n",
              "196  44.0          4            97         52    2130          24.6     82   \n",
              "197  32.0          4           135         84    2295          11.6     82   \n",
              "198  28.0          4           120         79    2625          18.6     82   \n",
              "199  31.0          4           119         82    2720          19.4     82   \n",
              "\n",
              "     origin                 car  \n",
              "0         3         honda civic  \n",
              "1         1      dodge aspen se  \n",
              "2         1   ford granada ghia  \n",
              "3         1  pontiac ventura sj  \n",
              "4         1       amc pacer d/l  \n",
              "..      ...                 ...  \n",
              "195       1     ford mustang gl  \n",
              "196       2           vw pickup  \n",
              "197       1       dodge rampage  \n",
              "198       1         ford ranger  \n",
              "199       1          chevy s-10  \n",
              "\n",
              "[200 rows x 9 columns]"
            ],
            "text/html": "<div>\n<style scoped>\n    .dataframe tbody tr th:only-of-type {\n        vertical-align: middle;\n    }\n\n    .dataframe tbody tr th {\n        vertical-align: top;\n    }\n\n    .dataframe thead th {\n        text-align: right;\n    }\n</style>\n<table border=\"1\" class=\"dataframe\">\n  <thead>\n    <tr style=\"text-align: right;\">\n      <th></th>\n      <th>mpg</th>\n      <th>cylinders</th>\n      <th>displacement</th>\n      <th>horsepower</th>\n      <th>weight</th>\n      <th>acceleration</th>\n      <th>model</th>\n      <th>origin</th>\n      <th>car</th>\n    </tr>\n  </thead>\n  <tbody>\n    <tr>\n      <th>0</th>\n      <td>33.0</td>\n      <td>4</td>\n      <td>91</td>\n      <td>53</td>\n      <td>1795</td>\n      <td>17.4</td>\n      <td>76</td>\n      <td>3</td>\n      <td>honda civic</td>\n    </tr>\n    <tr>\n      <th>1</th>\n      <td>20.0</td>\n      <td>6</td>\n      <td>225</td>\n      <td>100</td>\n      <td>3651</td>\n      <td>17.7</td>\n      <td>76</td>\n      <td>1</td>\n      <td>dodge aspen se</td>\n    </tr>\n    <tr>\n      <th>2</th>\n      <td>18.0</td>\n      <td>6</td>\n      <td>250</td>\n      <td>78</td>\n      <td>3574</td>\n      <td>21.0</td>\n      <td>76</td>\n      <td>1</td>\n      <td>ford granada ghia</td>\n    </tr>\n    <tr>\n      <th>3</th>\n      <td>18.5</td>\n      <td>6</td>\n      <td>250</td>\n      <td>110</td>\n      <td>3645</td>\n      <td>16.2</td>\n      <td>76</td>\n      <td>1</td>\n      <td>pontiac ventura sj</td>\n    </tr>\n    <tr>\n      <th>4</th>\n      <td>17.5</td>\n      <td>6</td>\n      <td>258</td>\n      <td>95</td>\n      <td>3193</td>\n      <td>17.8</td>\n      <td>76</td>\n      <td>1</td>\n      <td>amc pacer d/l</td>\n    </tr>\n    <tr>\n      <th>...</th>\n      <td>...</td>\n      <td>...</td>\n      <td>...</td>\n      <td>...</td>\n      <td>...</td>\n      <td>...</td>\n      <td>...</td>\n      <td>...</td>\n      <td>...</td>\n    </tr>\n    <tr>\n      <th>195</th>\n      <td>27.0</td>\n      <td>4</td>\n      <td>140</td>\n      <td>86</td>\n      <td>2790</td>\n      <td>15.6</td>\n      <td>82</td>\n      <td>1</td>\n      <td>ford mustang gl</td>\n    </tr>\n    <tr>\n      <th>196</th>\n      <td>44.0</td>\n      <td>4</td>\n      <td>97</td>\n      <td>52</td>\n      <td>2130</td>\n      <td>24.6</td>\n      <td>82</td>\n      <td>2</td>\n      <td>vw pickup</td>\n    </tr>\n    <tr>\n      <th>197</th>\n      <td>32.0</td>\n      <td>4</td>\n      <td>135</td>\n      <td>84</td>\n      <td>2295</td>\n      <td>11.6</td>\n      <td>82</td>\n      <td>1</td>\n      <td>dodge rampage</td>\n    </tr>\n    <tr>\n      <th>198</th>\n      <td>28.0</td>\n      <td>4</td>\n      <td>120</td>\n      <td>79</td>\n      <td>2625</td>\n      <td>18.6</td>\n      <td>82</td>\n      <td>1</td>\n      <td>ford ranger</td>\n    </tr>\n    <tr>\n      <th>199</th>\n      <td>31.0</td>\n      <td>4</td>\n      <td>119</td>\n      <td>82</td>\n      <td>2720</td>\n      <td>19.4</td>\n      <td>82</td>\n      <td>1</td>\n      <td>chevy s-10</td>\n    </tr>\n  </tbody>\n</table>\n<p>200 rows × 9 columns</p>\n</div>"
          },
          "metadata": {},
          "execution_count": 60
        }
      ],
      "source": [
        "cars2"
      ]
    },
    {
      "cell_type": "markdown",
      "metadata": {
        "id": "NaksTi4uC61q"
      },
      "source": [
        "### Step 4. Oops, it seems our first dataset has some unnamed blank columns, fix cars1"
      ]
    },
    {
      "cell_type": "code",
      "execution_count": 61,
      "metadata": {},
      "outputs": [
        {
          "output_type": "execute_result",
          "data": {
            "text/plain": [
              "      mpg  cylinders  displacement horsepower  weight  acceleration  model  \\\n",
              "0    18.0          8           307        130    3504          12.0     70   \n",
              "1    15.0          8           350        165    3693          11.5     70   \n",
              "2    18.0          8           318        150    3436          11.0     70   \n",
              "3    16.0          8           304        150    3433          12.0     70   \n",
              "4    17.0          8           302        140    3449          10.5     70   \n",
              "..    ...        ...           ...        ...     ...           ...    ...   \n",
              "193  24.0          6           200         81    3012          17.6     76   \n",
              "194  22.5          6           232         90    3085          17.6     76   \n",
              "195  29.0          4            85         52    2035          22.2     76   \n",
              "196  24.5          4            98         60    2164          22.1     76   \n",
              "197  29.0          4            90         70    1937          14.2     76   \n",
              "\n",
              "     origin                        car  Unnamed: 10  Unnamed: 11  Unnamed: 12  \\\n",
              "0         1  chevrolet chevelle malibu          NaN          NaN          NaN   \n",
              "1         1          buick skylark 320          NaN          NaN          NaN   \n",
              "2         1         plymouth satellite          NaN          NaN          NaN   \n",
              "3         1              amc rebel sst          NaN          NaN          NaN   \n",
              "4         1                ford torino          NaN          NaN          NaN   \n",
              "..      ...                        ...          ...          ...          ...   \n",
              "193       1              ford maverick          NaN          NaN          NaN   \n",
              "194       1                 amc hornet          NaN          NaN          NaN   \n",
              "195       1         chevrolet chevette          NaN          NaN          NaN   \n",
              "196       1            chevrolet woody          NaN          NaN          NaN   \n",
              "197       2                  vw rabbit          NaN          NaN          NaN   \n",
              "\n",
              "     Unnamed: 13  \n",
              "0            NaN  \n",
              "1            NaN  \n",
              "2            NaN  \n",
              "3            NaN  \n",
              "4            NaN  \n",
              "..           ...  \n",
              "193          NaN  \n",
              "194          NaN  \n",
              "195          NaN  \n",
              "196          NaN  \n",
              "197          NaN  \n",
              "\n",
              "[198 rows x 13 columns]"
            ],
            "text/html": "<div>\n<style scoped>\n    .dataframe tbody tr th:only-of-type {\n        vertical-align: middle;\n    }\n\n    .dataframe tbody tr th {\n        vertical-align: top;\n    }\n\n    .dataframe thead th {\n        text-align: right;\n    }\n</style>\n<table border=\"1\" class=\"dataframe\">\n  <thead>\n    <tr style=\"text-align: right;\">\n      <th></th>\n      <th>mpg</th>\n      <th>cylinders</th>\n      <th>displacement</th>\n      <th>horsepower</th>\n      <th>weight</th>\n      <th>acceleration</th>\n      <th>model</th>\n      <th>origin</th>\n      <th>car</th>\n      <th>Unnamed: 10</th>\n      <th>Unnamed: 11</th>\n      <th>Unnamed: 12</th>\n      <th>Unnamed: 13</th>\n    </tr>\n  </thead>\n  <tbody>\n    <tr>\n      <th>0</th>\n      <td>18.0</td>\n      <td>8</td>\n      <td>307</td>\n      <td>130</td>\n      <td>3504</td>\n      <td>12.0</td>\n      <td>70</td>\n      <td>1</td>\n      <td>chevrolet chevelle malibu</td>\n      <td>NaN</td>\n      <td>NaN</td>\n      <td>NaN</td>\n      <td>NaN</td>\n    </tr>\n    <tr>\n      <th>1</th>\n      <td>15.0</td>\n      <td>8</td>\n      <td>350</td>\n      <td>165</td>\n      <td>3693</td>\n      <td>11.5</td>\n      <td>70</td>\n      <td>1</td>\n      <td>buick skylark 320</td>\n      <td>NaN</td>\n      <td>NaN</td>\n      <td>NaN</td>\n      <td>NaN</td>\n    </tr>\n    <tr>\n      <th>2</th>\n      <td>18.0</td>\n      <td>8</td>\n      <td>318</td>\n      <td>150</td>\n      <td>3436</td>\n      <td>11.0</td>\n      <td>70</td>\n      <td>1</td>\n      <td>plymouth satellite</td>\n      <td>NaN</td>\n      <td>NaN</td>\n      <td>NaN</td>\n      <td>NaN</td>\n    </tr>\n    <tr>\n      <th>3</th>\n      <td>16.0</td>\n      <td>8</td>\n      <td>304</td>\n      <td>150</td>\n      <td>3433</td>\n      <td>12.0</td>\n      <td>70</td>\n      <td>1</td>\n      <td>amc rebel sst</td>\n      <td>NaN</td>\n      <td>NaN</td>\n      <td>NaN</td>\n      <td>NaN</td>\n    </tr>\n    <tr>\n      <th>4</th>\n      <td>17.0</td>\n      <td>8</td>\n      <td>302</td>\n      <td>140</td>\n      <td>3449</td>\n      <td>10.5</td>\n      <td>70</td>\n      <td>1</td>\n      <td>ford torino</td>\n      <td>NaN</td>\n      <td>NaN</td>\n      <td>NaN</td>\n      <td>NaN</td>\n    </tr>\n    <tr>\n      <th>...</th>\n      <td>...</td>\n      <td>...</td>\n      <td>...</td>\n      <td>...</td>\n      <td>...</td>\n      <td>...</td>\n      <td>...</td>\n      <td>...</td>\n      <td>...</td>\n      <td>...</td>\n      <td>...</td>\n      <td>...</td>\n      <td>...</td>\n    </tr>\n    <tr>\n      <th>193</th>\n      <td>24.0</td>\n      <td>6</td>\n      <td>200</td>\n      <td>81</td>\n      <td>3012</td>\n      <td>17.6</td>\n      <td>76</td>\n      <td>1</td>\n      <td>ford maverick</td>\n      <td>NaN</td>\n      <td>NaN</td>\n      <td>NaN</td>\n      <td>NaN</td>\n    </tr>\n    <tr>\n      <th>194</th>\n      <td>22.5</td>\n      <td>6</td>\n      <td>232</td>\n      <td>90</td>\n      <td>3085</td>\n      <td>17.6</td>\n      <td>76</td>\n      <td>1</td>\n      <td>amc hornet</td>\n      <td>NaN</td>\n      <td>NaN</td>\n      <td>NaN</td>\n      <td>NaN</td>\n    </tr>\n    <tr>\n      <th>195</th>\n      <td>29.0</td>\n      <td>4</td>\n      <td>85</td>\n      <td>52</td>\n      <td>2035</td>\n      <td>22.2</td>\n      <td>76</td>\n      <td>1</td>\n      <td>chevrolet chevette</td>\n      <td>NaN</td>\n      <td>NaN</td>\n      <td>NaN</td>\n      <td>NaN</td>\n    </tr>\n    <tr>\n      <th>196</th>\n      <td>24.5</td>\n      <td>4</td>\n      <td>98</td>\n      <td>60</td>\n      <td>2164</td>\n      <td>22.1</td>\n      <td>76</td>\n      <td>1</td>\n      <td>chevrolet woody</td>\n      <td>NaN</td>\n      <td>NaN</td>\n      <td>NaN</td>\n      <td>NaN</td>\n    </tr>\n    <tr>\n      <th>197</th>\n      <td>29.0</td>\n      <td>4</td>\n      <td>90</td>\n      <td>70</td>\n      <td>1937</td>\n      <td>14.2</td>\n      <td>76</td>\n      <td>2</td>\n      <td>vw rabbit</td>\n      <td>NaN</td>\n      <td>NaN</td>\n      <td>NaN</td>\n      <td>NaN</td>\n    </tr>\n  </tbody>\n</table>\n<p>198 rows × 13 columns</p>\n</div>"
          },
          "metadata": {},
          "execution_count": 61
        }
      ],
      "source": [
        "cars1.drop(\"Unnamed: 9\", axis = 1)"
      ]
    },
    {
      "cell_type": "code",
      "execution_count": 62,
      "metadata": {},
      "outputs": [
        {
          "output_type": "execute_result",
          "data": {
            "text/plain": [
              "      mpg  cylinders  displacement horsepower  weight  acceleration  model  \\\n",
              "0    18.0          8           307        130    3504          12.0     70   \n",
              "1    15.0          8           350        165    3693          11.5     70   \n",
              "2    18.0          8           318        150    3436          11.0     70   \n",
              "3    16.0          8           304        150    3433          12.0     70   \n",
              "4    17.0          8           302        140    3449          10.5     70   \n",
              "..    ...        ...           ...        ...     ...           ...    ...   \n",
              "193  24.0          6           200         81    3012          17.6     76   \n",
              "194  22.5          6           232         90    3085          17.6     76   \n",
              "195  29.0          4            85         52    2035          22.2     76   \n",
              "196  24.5          4            98         60    2164          22.1     76   \n",
              "197  29.0          4            90         70    1937          14.2     76   \n",
              "\n",
              "     origin                        car  \n",
              "0         1  chevrolet chevelle malibu  \n",
              "1         1          buick skylark 320  \n",
              "2         1         plymouth satellite  \n",
              "3         1              amc rebel sst  \n",
              "4         1                ford torino  \n",
              "..      ...                        ...  \n",
              "193       1              ford maverick  \n",
              "194       1                 amc hornet  \n",
              "195       1         chevrolet chevette  \n",
              "196       1            chevrolet woody  \n",
              "197       2                  vw rabbit  \n",
              "\n",
              "[198 rows x 9 columns]"
            ],
            "text/html": "<div>\n<style scoped>\n    .dataframe tbody tr th:only-of-type {\n        vertical-align: middle;\n    }\n\n    .dataframe tbody tr th {\n        vertical-align: top;\n    }\n\n    .dataframe thead th {\n        text-align: right;\n    }\n</style>\n<table border=\"1\" class=\"dataframe\">\n  <thead>\n    <tr style=\"text-align: right;\">\n      <th></th>\n      <th>mpg</th>\n      <th>cylinders</th>\n      <th>displacement</th>\n      <th>horsepower</th>\n      <th>weight</th>\n      <th>acceleration</th>\n      <th>model</th>\n      <th>origin</th>\n      <th>car</th>\n    </tr>\n  </thead>\n  <tbody>\n    <tr>\n      <th>0</th>\n      <td>18.0</td>\n      <td>8</td>\n      <td>307</td>\n      <td>130</td>\n      <td>3504</td>\n      <td>12.0</td>\n      <td>70</td>\n      <td>1</td>\n      <td>chevrolet chevelle malibu</td>\n    </tr>\n    <tr>\n      <th>1</th>\n      <td>15.0</td>\n      <td>8</td>\n      <td>350</td>\n      <td>165</td>\n      <td>3693</td>\n      <td>11.5</td>\n      <td>70</td>\n      <td>1</td>\n      <td>buick skylark 320</td>\n    </tr>\n    <tr>\n      <th>2</th>\n      <td>18.0</td>\n      <td>8</td>\n      <td>318</td>\n      <td>150</td>\n      <td>3436</td>\n      <td>11.0</td>\n      <td>70</td>\n      <td>1</td>\n      <td>plymouth satellite</td>\n    </tr>\n    <tr>\n      <th>3</th>\n      <td>16.0</td>\n      <td>8</td>\n      <td>304</td>\n      <td>150</td>\n      <td>3433</td>\n      <td>12.0</td>\n      <td>70</td>\n      <td>1</td>\n      <td>amc rebel sst</td>\n    </tr>\n    <tr>\n      <th>4</th>\n      <td>17.0</td>\n      <td>8</td>\n      <td>302</td>\n      <td>140</td>\n      <td>3449</td>\n      <td>10.5</td>\n      <td>70</td>\n      <td>1</td>\n      <td>ford torino</td>\n    </tr>\n    <tr>\n      <th>...</th>\n      <td>...</td>\n      <td>...</td>\n      <td>...</td>\n      <td>...</td>\n      <td>...</td>\n      <td>...</td>\n      <td>...</td>\n      <td>...</td>\n      <td>...</td>\n    </tr>\n    <tr>\n      <th>193</th>\n      <td>24.0</td>\n      <td>6</td>\n      <td>200</td>\n      <td>81</td>\n      <td>3012</td>\n      <td>17.6</td>\n      <td>76</td>\n      <td>1</td>\n      <td>ford maverick</td>\n    </tr>\n    <tr>\n      <th>194</th>\n      <td>22.5</td>\n      <td>6</td>\n      <td>232</td>\n      <td>90</td>\n      <td>3085</td>\n      <td>17.6</td>\n      <td>76</td>\n      <td>1</td>\n      <td>amc hornet</td>\n    </tr>\n    <tr>\n      <th>195</th>\n      <td>29.0</td>\n      <td>4</td>\n      <td>85</td>\n      <td>52</td>\n      <td>2035</td>\n      <td>22.2</td>\n      <td>76</td>\n      <td>1</td>\n      <td>chevrolet chevette</td>\n    </tr>\n    <tr>\n      <th>196</th>\n      <td>24.5</td>\n      <td>4</td>\n      <td>98</td>\n      <td>60</td>\n      <td>2164</td>\n      <td>22.1</td>\n      <td>76</td>\n      <td>1</td>\n      <td>chevrolet woody</td>\n    </tr>\n    <tr>\n      <th>197</th>\n      <td>29.0</td>\n      <td>4</td>\n      <td>90</td>\n      <td>70</td>\n      <td>1937</td>\n      <td>14.2</td>\n      <td>76</td>\n      <td>2</td>\n      <td>vw rabbit</td>\n    </tr>\n  </tbody>\n</table>\n<p>198 rows × 9 columns</p>\n</div>"
          },
          "metadata": {},
          "execution_count": 62
        }
      ],
      "source": [
        "cars1.dropna(axis =1,inplace =True)\n",
        "cars1"
      ]
    },
    {
      "cell_type": "markdown",
      "metadata": {
        "id": "wm5IbCZQC61r"
      },
      "source": [
        "### Step 5. What is the number of observations in each dataset?"
      ]
    },
    {
      "cell_type": "code",
      "metadata": {
        "jupyter": {
          "outputs_hidden": false
        },
        "id": "8qr-fJLVC61r"
      },
      "source": [
        "print(\"Number of observations cars1:\", cars1.size)\n",
        "print(\"Number of observations cars1:\",cars2.size)"
      ],
      "execution_count": 63,
      "outputs": [
        {
          "output_type": "stream",
          "name": "stdout",
          "text": [
            "Number of observations cars1: 1782\nNumber of observations cars1: 1800\n"
          ]
        }
      ]
    },
    {
      "cell_type": "markdown",
      "metadata": {
        "id": "NE0jY8KvC61s"
      },
      "source": [
        "### Step 6. Join cars1 and cars2 into a single DataFrame called cars"
      ]
    },
    {
      "cell_type": "code",
      "metadata": {
        "id": "QcfkrlIhC61s"
      },
      "source": [
        "cars = cars1.append(cars2)\n",
        "cars"
      ],
      "execution_count": 67,
      "outputs": [
        {
          "output_type": "execute_result",
          "data": {
            "text/plain": [
              "      mpg  cylinders  displacement horsepower  weight  acceleration  model  \\\n",
              "0    18.0          8           307        130    3504          12.0     70   \n",
              "1    15.0          8           350        165    3693          11.5     70   \n",
              "2    18.0          8           318        150    3436          11.0     70   \n",
              "3    16.0          8           304        150    3433          12.0     70   \n",
              "4    17.0          8           302        140    3449          10.5     70   \n",
              "..    ...        ...           ...        ...     ...           ...    ...   \n",
              "195  27.0          4           140         86    2790          15.6     82   \n",
              "196  44.0          4            97         52    2130          24.6     82   \n",
              "197  32.0          4           135         84    2295          11.6     82   \n",
              "198  28.0          4           120         79    2625          18.6     82   \n",
              "199  31.0          4           119         82    2720          19.4     82   \n",
              "\n",
              "     origin                        car  \n",
              "0         1  chevrolet chevelle malibu  \n",
              "1         1          buick skylark 320  \n",
              "2         1         plymouth satellite  \n",
              "3         1              amc rebel sst  \n",
              "4         1                ford torino  \n",
              "..      ...                        ...  \n",
              "195       1            ford mustang gl  \n",
              "196       2                  vw pickup  \n",
              "197       1              dodge rampage  \n",
              "198       1                ford ranger  \n",
              "199       1                 chevy s-10  \n",
              "\n",
              "[398 rows x 9 columns]"
            ],
            "text/html": "<div>\n<style scoped>\n    .dataframe tbody tr th:only-of-type {\n        vertical-align: middle;\n    }\n\n    .dataframe tbody tr th {\n        vertical-align: top;\n    }\n\n    .dataframe thead th {\n        text-align: right;\n    }\n</style>\n<table border=\"1\" class=\"dataframe\">\n  <thead>\n    <tr style=\"text-align: right;\">\n      <th></th>\n      <th>mpg</th>\n      <th>cylinders</th>\n      <th>displacement</th>\n      <th>horsepower</th>\n      <th>weight</th>\n      <th>acceleration</th>\n      <th>model</th>\n      <th>origin</th>\n      <th>car</th>\n    </tr>\n  </thead>\n  <tbody>\n    <tr>\n      <th>0</th>\n      <td>18.0</td>\n      <td>8</td>\n      <td>307</td>\n      <td>130</td>\n      <td>3504</td>\n      <td>12.0</td>\n      <td>70</td>\n      <td>1</td>\n      <td>chevrolet chevelle malibu</td>\n    </tr>\n    <tr>\n      <th>1</th>\n      <td>15.0</td>\n      <td>8</td>\n      <td>350</td>\n      <td>165</td>\n      <td>3693</td>\n      <td>11.5</td>\n      <td>70</td>\n      <td>1</td>\n      <td>buick skylark 320</td>\n    </tr>\n    <tr>\n      <th>2</th>\n      <td>18.0</td>\n      <td>8</td>\n      <td>318</td>\n      <td>150</td>\n      <td>3436</td>\n      <td>11.0</td>\n      <td>70</td>\n      <td>1</td>\n      <td>plymouth satellite</td>\n    </tr>\n    <tr>\n      <th>3</th>\n      <td>16.0</td>\n      <td>8</td>\n      <td>304</td>\n      <td>150</td>\n      <td>3433</td>\n      <td>12.0</td>\n      <td>70</td>\n      <td>1</td>\n      <td>amc rebel sst</td>\n    </tr>\n    <tr>\n      <th>4</th>\n      <td>17.0</td>\n      <td>8</td>\n      <td>302</td>\n      <td>140</td>\n      <td>3449</td>\n      <td>10.5</td>\n      <td>70</td>\n      <td>1</td>\n      <td>ford torino</td>\n    </tr>\n    <tr>\n      <th>...</th>\n      <td>...</td>\n      <td>...</td>\n      <td>...</td>\n      <td>...</td>\n      <td>...</td>\n      <td>...</td>\n      <td>...</td>\n      <td>...</td>\n      <td>...</td>\n    </tr>\n    <tr>\n      <th>195</th>\n      <td>27.0</td>\n      <td>4</td>\n      <td>140</td>\n      <td>86</td>\n      <td>2790</td>\n      <td>15.6</td>\n      <td>82</td>\n      <td>1</td>\n      <td>ford mustang gl</td>\n    </tr>\n    <tr>\n      <th>196</th>\n      <td>44.0</td>\n      <td>4</td>\n      <td>97</td>\n      <td>52</td>\n      <td>2130</td>\n      <td>24.6</td>\n      <td>82</td>\n      <td>2</td>\n      <td>vw pickup</td>\n    </tr>\n    <tr>\n      <th>197</th>\n      <td>32.0</td>\n      <td>4</td>\n      <td>135</td>\n      <td>84</td>\n      <td>2295</td>\n      <td>11.6</td>\n      <td>82</td>\n      <td>1</td>\n      <td>dodge rampage</td>\n    </tr>\n    <tr>\n      <th>198</th>\n      <td>28.0</td>\n      <td>4</td>\n      <td>120</td>\n      <td>79</td>\n      <td>2625</td>\n      <td>18.6</td>\n      <td>82</td>\n      <td>1</td>\n      <td>ford ranger</td>\n    </tr>\n    <tr>\n      <th>199</th>\n      <td>31.0</td>\n      <td>4</td>\n      <td>119</td>\n      <td>82</td>\n      <td>2720</td>\n      <td>19.4</td>\n      <td>82</td>\n      <td>1</td>\n      <td>chevy s-10</td>\n    </tr>\n  </tbody>\n</table>\n<p>398 rows × 9 columns</p>\n</div>"
          },
          "metadata": {},
          "execution_count": 67
        }
      ]
    },
    {
      "cell_type": "markdown",
      "metadata": {
        "id": "66Axb-qgC61t"
      },
      "source": [
        "### Step 7. Oops, there is a column missing, called owners. Create a random number Series from 15,000 to 73,000."
      ]
    },
    {
      "cell_type": "code",
      "metadata": {
        "id": "rJE_mfCoC61t"
      },
      "source": [
        " serie = np.random.randint(15000,73000, 398)\n",
        " serie"
      ],
      "execution_count": 68,
      "outputs": [
        {
          "output_type": "execute_result",
          "data": {
            "text/plain": [
              "array([30530, 50781, 55185, 21811, 35338, 43979, 63558, 50773, 16248,\n",
              "       18747, 68702, 33051, 71569, 63823, 35140, 50814, 54592, 30760,\n",
              "       69197, 60346, 62261, 41020, 18569, 67616, 32480, 41572, 62664,\n",
              "       43473, 29314, 42380, 68022, 30636, 42067, 52303, 60688, 32153,\n",
              "       36835, 16663, 45855, 37469, 65182, 50953, 67587, 67122, 36591,\n",
              "       53199, 57057, 72633, 55931, 45045, 45804, 50809, 56561, 59035,\n",
              "       15013, 53304, 37447, 18934, 36758, 60886, 19785, 38706, 35938,\n",
              "       62958, 26955, 54679, 35582, 64584, 18393, 19044, 35252, 38595,\n",
              "       36584, 38592, 26022, 59752, 20842, 19574, 45641, 19635, 72315,\n",
              "       16262, 28001, 18327, 58049, 53223, 57413, 55501, 18739, 45823,\n",
              "       21062, 65668, 32774, 25296, 18619, 55840, 42941, 65803, 36353,\n",
              "       70724, 21490, 30518, 67334, 54077, 43700, 22552, 42791, 59612,\n",
              "       24269, 72368, 24406, 48087, 67323, 39669, 58509, 49946, 39300,\n",
              "       71814, 52762, 41658, 20177, 72942, 22804, 24393, 34693, 70394,\n",
              "       72931, 58472, 19519, 52765, 62459, 27299, 55178, 17693, 23296,\n",
              "       21353, 24965, 29252, 46636, 40256, 48870, 22148, 64300, 38308,\n",
              "       63291, 31904, 31363, 71915, 21434, 70444, 43545, 38023, 25145,\n",
              "       24173, 57069, 58047, 53185, 22914, 25648, 25173, 37147, 42511,\n",
              "       32902, 58121, 66168, 36281, 67715, 55839, 61179, 52547, 66762,\n",
              "       20944, 54804, 46469, 20145, 16314, 33135, 40756, 42497, 35604,\n",
              "       26116, 18814, 61995, 18609, 60108, 72018, 20937, 33625, 72607,\n",
              "       21913, 45820, 72884, 19635, 43601, 30998, 20213, 23140, 44498,\n",
              "       24977, 64844, 34964, 32075, 68412, 53082, 23561, 72448, 25669,\n",
              "       51812, 16924, 51335, 36277, 63758, 26962, 30982, 17220, 59082,\n",
              "       33536, 29659, 61049, 62283, 42736, 20294, 64417, 49841, 50581,\n",
              "       27128, 39114, 46915, 44377, 42555, 30660, 67135, 42995, 23005,\n",
              "       65152, 65571, 54166, 42086, 28731, 54576, 23322, 55571, 64599,\n",
              "       58378, 38181, 64771, 48848, 64801, 27360, 69633, 19036, 45299,\n",
              "       30456, 64653, 48476, 37810, 22538, 31741, 52098, 61446, 41299,\n",
              "       51432, 57960, 69207, 30019, 23876, 67834, 17686, 20403, 52543,\n",
              "       54201, 16565, 38368, 43903, 34369, 45686, 28809, 39242, 69729,\n",
              "       35258, 62452, 48500, 69300, 17874, 53705, 30230, 23890, 59341,\n",
              "       41625, 60670, 40464, 43319, 18041, 60445, 51955, 47133, 45600,\n",
              "       47583, 35322, 49968, 71274, 31381, 69231, 67662, 51760, 37786,\n",
              "       71871, 26016, 52447, 17477, 17834, 47379, 20815, 21027, 17287,\n",
              "       57737, 26373, 35078, 56110, 17561, 19973, 47370, 70561, 65279,\n",
              "       49448, 60338, 65977, 42837, 38573, 63290, 48624, 45553, 46361,\n",
              "       67506, 32858, 22884, 60897, 54200, 22435, 45711, 37416, 60310,\n",
              "       38911, 61947, 20631, 54224, 66190, 24204, 34742, 70092, 47477,\n",
              "       70750, 23234, 54547, 36561, 49589, 48606, 67782, 20565, 48593,\n",
              "       19663, 53723, 48954, 66018, 31791, 61332, 50202, 18425, 30002,\n",
              "       64008, 44443, 63935, 27770, 38077, 20390, 26057, 70708, 23162,\n",
              "       27409, 39396, 16462, 52439, 65829, 15800, 50683, 48502, 69792,\n",
              "       25348, 29759, 16983, 50884, 63149, 43024, 16750, 36333, 31964,\n",
              "       72540, 40618])"
            ]
          },
          "metadata": {},
          "execution_count": 68
        }
      ]
    },
    {
      "cell_type": "markdown",
      "metadata": {
        "id": "IAPqXI_oC61t"
      },
      "source": [
        "### Step 8. Add the column owners to cars"
      ]
    },
    {
      "cell_type": "code",
      "metadata": {
        "id": "fNg3Ot2sC61u"
      },
      "source": [
        "cars[\"owners\"] = serie\n",
        "cars"
      ],
      "execution_count": 69,
      "outputs": [
        {
          "output_type": "execute_result",
          "data": {
            "text/plain": [
              "      mpg  cylinders  displacement horsepower  weight  acceleration  model  \\\n",
              "0    18.0          8           307        130    3504          12.0     70   \n",
              "1    15.0          8           350        165    3693          11.5     70   \n",
              "2    18.0          8           318        150    3436          11.0     70   \n",
              "3    16.0          8           304        150    3433          12.0     70   \n",
              "4    17.0          8           302        140    3449          10.5     70   \n",
              "..    ...        ...           ...        ...     ...           ...    ...   \n",
              "195  27.0          4           140         86    2790          15.6     82   \n",
              "196  44.0          4            97         52    2130          24.6     82   \n",
              "197  32.0          4           135         84    2295          11.6     82   \n",
              "198  28.0          4           120         79    2625          18.6     82   \n",
              "199  31.0          4           119         82    2720          19.4     82   \n",
              "\n",
              "     origin                        car  owners  \n",
              "0         1  chevrolet chevelle malibu   30530  \n",
              "1         1          buick skylark 320   50781  \n",
              "2         1         plymouth satellite   55185  \n",
              "3         1              amc rebel sst   21811  \n",
              "4         1                ford torino   35338  \n",
              "..      ...                        ...     ...  \n",
              "195       1            ford mustang gl   16750  \n",
              "196       2                  vw pickup   36333  \n",
              "197       1              dodge rampage   31964  \n",
              "198       1                ford ranger   72540  \n",
              "199       1                 chevy s-10   40618  \n",
              "\n",
              "[398 rows x 10 columns]"
            ],
            "text/html": "<div>\n<style scoped>\n    .dataframe tbody tr th:only-of-type {\n        vertical-align: middle;\n    }\n\n    .dataframe tbody tr th {\n        vertical-align: top;\n    }\n\n    .dataframe thead th {\n        text-align: right;\n    }\n</style>\n<table border=\"1\" class=\"dataframe\">\n  <thead>\n    <tr style=\"text-align: right;\">\n      <th></th>\n      <th>mpg</th>\n      <th>cylinders</th>\n      <th>displacement</th>\n      <th>horsepower</th>\n      <th>weight</th>\n      <th>acceleration</th>\n      <th>model</th>\n      <th>origin</th>\n      <th>car</th>\n      <th>owners</th>\n    </tr>\n  </thead>\n  <tbody>\n    <tr>\n      <th>0</th>\n      <td>18.0</td>\n      <td>8</td>\n      <td>307</td>\n      <td>130</td>\n      <td>3504</td>\n      <td>12.0</td>\n      <td>70</td>\n      <td>1</td>\n      <td>chevrolet chevelle malibu</td>\n      <td>30530</td>\n    </tr>\n    <tr>\n      <th>1</th>\n      <td>15.0</td>\n      <td>8</td>\n      <td>350</td>\n      <td>165</td>\n      <td>3693</td>\n      <td>11.5</td>\n      <td>70</td>\n      <td>1</td>\n      <td>buick skylark 320</td>\n      <td>50781</td>\n    </tr>\n    <tr>\n      <th>2</th>\n      <td>18.0</td>\n      <td>8</td>\n      <td>318</td>\n      <td>150</td>\n      <td>3436</td>\n      <td>11.0</td>\n      <td>70</td>\n      <td>1</td>\n      <td>plymouth satellite</td>\n      <td>55185</td>\n    </tr>\n    <tr>\n      <th>3</th>\n      <td>16.0</td>\n      <td>8</td>\n      <td>304</td>\n      <td>150</td>\n      <td>3433</td>\n      <td>12.0</td>\n      <td>70</td>\n      <td>1</td>\n      <td>amc rebel sst</td>\n      <td>21811</td>\n    </tr>\n    <tr>\n      <th>4</th>\n      <td>17.0</td>\n      <td>8</td>\n      <td>302</td>\n      <td>140</td>\n      <td>3449</td>\n      <td>10.5</td>\n      <td>70</td>\n      <td>1</td>\n      <td>ford torino</td>\n      <td>35338</td>\n    </tr>\n    <tr>\n      <th>...</th>\n      <td>...</td>\n      <td>...</td>\n      <td>...</td>\n      <td>...</td>\n      <td>...</td>\n      <td>...</td>\n      <td>...</td>\n      <td>...</td>\n      <td>...</td>\n      <td>...</td>\n    </tr>\n    <tr>\n      <th>195</th>\n      <td>27.0</td>\n      <td>4</td>\n      <td>140</td>\n      <td>86</td>\n      <td>2790</td>\n      <td>15.6</td>\n      <td>82</td>\n      <td>1</td>\n      <td>ford mustang gl</td>\n      <td>16750</td>\n    </tr>\n    <tr>\n      <th>196</th>\n      <td>44.0</td>\n      <td>4</td>\n      <td>97</td>\n      <td>52</td>\n      <td>2130</td>\n      <td>24.6</td>\n      <td>82</td>\n      <td>2</td>\n      <td>vw pickup</td>\n      <td>36333</td>\n    </tr>\n    <tr>\n      <th>197</th>\n      <td>32.0</td>\n      <td>4</td>\n      <td>135</td>\n      <td>84</td>\n      <td>2295</td>\n      <td>11.6</td>\n      <td>82</td>\n      <td>1</td>\n      <td>dodge rampage</td>\n      <td>31964</td>\n    </tr>\n    <tr>\n      <th>198</th>\n      <td>28.0</td>\n      <td>4</td>\n      <td>120</td>\n      <td>79</td>\n      <td>2625</td>\n      <td>18.6</td>\n      <td>82</td>\n      <td>1</td>\n      <td>ford ranger</td>\n      <td>72540</td>\n    </tr>\n    <tr>\n      <th>199</th>\n      <td>31.0</td>\n      <td>4</td>\n      <td>119</td>\n      <td>82</td>\n      <td>2720</td>\n      <td>19.4</td>\n      <td>82</td>\n      <td>1</td>\n      <td>chevy s-10</td>\n      <td>40618</td>\n    </tr>\n  </tbody>\n</table>\n<p>398 rows × 10 columns</p>\n</div>"
          },
          "metadata": {},
          "execution_count": 69
        }
      ]
    },
    {
      "cell_type": "code",
      "execution_count": null,
      "metadata": {},
      "outputs": [],
      "source": []
    }
  ]
}