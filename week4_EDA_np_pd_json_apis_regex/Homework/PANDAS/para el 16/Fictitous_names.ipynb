{
  "nbformat": 4,
  "nbformat_minor": 0,
  "metadata": {
    "kernelspec": {
      "display_name": "Python 3",
      "language": "python",
      "name": "python3"
    },
    "language_info": {
      "codemirror_mode": {
        "name": "ipython",
        "version": 3
      },
      "file_extension": ".py",
      "mimetype": "text/x-python",
      "name": "python",
      "nbconvert_exporter": "python",
      "pygments_lexer": "ipython3",
      "version": "3.8.6"
    },
    "colab": {
      "name": "Fictitous names.ipynb",
      "provenance": []
    }
  },
  "cells": [
    {
      "cell_type": "markdown",
      "metadata": {
        "id": "kvhjy7GYC9nq"
      },
      "source": [
        "# 06 - Combining datasets"
      ]
    },
    {
      "cell_type": "markdown",
      "metadata": {
        "id": "vaom5ojAC9nw"
      },
      "source": [
        "### Step 1. Import the necessary libraries"
      ]
    },
    {
      "cell_type": "code",
      "metadata": {
        "id": "s5i1ZnmzC9nx"
      },
      "source": [
        ""
      ],
      "execution_count": null,
      "outputs": []
    },
    {
      "cell_type": "markdown",
      "metadata": {
        "id": "5fa4UfFnC9nx"
      },
      "source": [
        "### Step 2. Create the 3 DataFrames based on the following raw data"
      ]
    },
    {
      "cell_type": "code",
      "metadata": {
        "id": "-T2HQ2PvC9nx"
      },
      "source": [
        "raw_data_1 = {\n",
        "        'subject_id': ['1', '2', '3', '4', '5'],\n",
        "        'first_name': ['Alex', 'Amy', 'Allen', 'Alice', 'Ayoung'], \n",
        "        'last_name': ['Anderson', 'Ackerman', 'Ali', 'Aoni', 'Atiches']}\n",
        "\n",
        "raw_data_2 = {\n",
        "        'subject_id': ['4', '5', '6', '7', '8'],\n",
        "        'first_name': ['Billy', 'Brian', 'Bran', 'Bryce', 'Betty'], \n",
        "        'last_name': ['Bonder', 'Black', 'Balwner', 'Brice', 'Btisan']}\n",
        "\n",
        "raw_data_3 = {\n",
        "        'subject_id': ['1', '2', '3', '4', '5', '7', '8', '9', '10', '11'],\n",
        "        'test_id': [51, 15, 15, 61, 16, 14, 15, 1, 61, 16]}"
      ],
      "execution_count": null,
      "outputs": []
    },
    {
      "cell_type": "markdown",
      "metadata": {
        "id": "h_UcXJ-FC9ny"
      },
      "source": [
        "### Step 3. Assign each to a variable called data1, data2, data3"
      ]
    },
    {
      "cell_type": "code",
      "metadata": {
        "id": "poSA50_kC9ny"
      },
      "source": [
        ""
      ],
      "execution_count": null,
      "outputs": []
    },
    {
      "cell_type": "markdown",
      "metadata": {
        "id": "mTYKSFUiC9nz"
      },
      "source": [
        "### Step 4. Join the two dataframes along rows and assign all_data"
      ]
    },
    {
      "cell_type": "code",
      "metadata": {
        "id": "uWD0kVJYC9nz"
      },
      "source": [
        ""
      ],
      "execution_count": null,
      "outputs": []
    },
    {
      "cell_type": "markdown",
      "metadata": {
        "id": "6rC1psn8C9nz"
      },
      "source": [
        "### Step 5. Join the two dataframes along columns and assing to all_data_col"
      ]
    },
    {
      "cell_type": "code",
      "metadata": {
        "id": "YV3oRrASC9nz"
      },
      "source": [
        ""
      ],
      "execution_count": null,
      "outputs": []
    },
    {
      "cell_type": "markdown",
      "metadata": {
        "id": "-VBiaEr3C9n0"
      },
      "source": [
        "### Step 6. Print data3"
      ]
    },
    {
      "cell_type": "code",
      "metadata": {
        "jupyter": {
          "outputs_hidden": false
        },
        "id": "GLLsS_GqC9n0"
      },
      "source": [
        ""
      ],
      "execution_count": null,
      "outputs": []
    },
    {
      "cell_type": "markdown",
      "metadata": {
        "id": "fwk90fniC9n0"
      },
      "source": [
        "### Step 7. Merge all_data and data3 along the subject_id value"
      ]
    },
    {
      "cell_type": "code",
      "metadata": {
        "id": "HlVQP9nRC9n0"
      },
      "source": [
        ""
      ],
      "execution_count": null,
      "outputs": []
    },
    {
      "cell_type": "markdown",
      "metadata": {
        "id": "OY6aeq3cC9n0"
      },
      "source": [
        "### Step 8. Merge only the data that has the same 'subject_id' on both data1 and data2"
      ]
    },
    {
      "cell_type": "code",
      "metadata": {
        "jupyter": {
          "outputs_hidden": false
        },
        "id": "Lm3KLuRaC9n1"
      },
      "source": [
        ""
      ],
      "execution_count": null,
      "outputs": []
    },
    {
      "cell_type": "markdown",
      "metadata": {
        "id": "EhhadtBvC9n1"
      },
      "source": [
        "### Step 9. Merge all values in data1 and data2, with matching records from both sides where available."
      ]
    },
    {
      "cell_type": "code",
      "metadata": {
        "id": "u5MN4yjOC9n1"
      },
      "source": [
        ""
      ],
      "execution_count": null,
      "outputs": []
    }
  ]
}