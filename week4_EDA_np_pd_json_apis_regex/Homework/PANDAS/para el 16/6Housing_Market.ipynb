{
  "nbformat": 4,
  "nbformat_minor": 0,
  "metadata": {
    "kernelspec": {
      "name": "python374jvsc74a57bd0797ece2db6cd49410b212500b07c3b6429b528fb918ab6c0d0ffbc4c51c5b09e",
      "display_name": "Python 3.7.4 64-bit"
    },
    "language_info": {
      "codemirror_mode": {
        "name": "ipython",
        "version": 3
      },
      "file_extension": ".py",
      "mimetype": "text/x-python",
      "name": "python",
      "nbconvert_exporter": "python",
      "pygments_lexer": "ipython3",
      "version": "3.7.4"
    },
    "colab": {
      "name": "Housing Market.ipynb",
      "provenance": []
    },
    "metadata": {
      "interpreter": {
        "hash": "797ece2db6cd49410b212500b07c3b6429b528fb918ab6c0d0ffbc4c51c5b09e"
      }
    }
  },
  "cells": [
    {
      "cell_type": "markdown",
      "metadata": {
        "id": "JKpxhEHoC94i"
      },
      "source": [
        "# 06 - Combining datasets"
      ]
    },
    {
      "cell_type": "markdown",
      "metadata": {
        "id": "Xv1uuZz9C94q"
      },
      "source": [
        "### Introduction:\n",
        "\n",
        "This time we will create our own dataset with fictional numbers to describe a house market. As we are going to create random data don't try to reason of the numbers.\n",
        "\n",
        "### Step 1. Import the necessary libraries"
      ]
    },
    {
      "cell_type": "code",
      "metadata": {
        "id": "jCZtrS6xC94s"
      },
      "source": [
        "import numpy as np\n",
        "import pandas as pd \n"
      ],
      "execution_count": 2,
      "outputs": []
    },
    {
      "cell_type": "markdown",
      "metadata": {
        "id": "5gFWH0yKC94t"
      },
      "source": [
        "### Step 2. Create 3 differents Series, each of length 100, as follows: \n",
        "1. The first a random number from 1 to 4 \n",
        "2. The second a random number from 1 to 3\n",
        "3. The third a random number from 10,000 to 30,000"
      ]
    },
    {
      "cell_type": "code",
      "metadata": {
        "tags": [],
        "id": "SY8i0QsAC94t"
      },
      "source": [
        "serie1 = pd.Series(np.random.randint(1,5,100))\n",
        "serie2 = pd.Series(np.random.randint(1,4,100))\n",
        "serie3 = pd.Series(np.random.randint(10000,30000,100))"
      ],
      "execution_count": 35,
      "outputs": []
    },
    {
      "cell_type": "code",
      "execution_count": 36,
      "metadata": {},
      "outputs": [
        {
          "output_type": "stream",
          "name": "stdout",
          "text": [
            "0     4\n1     1\n2     2\n3     4\n4     3\n     ..\n95    3\n96    1\n97    1\n98    2\n99    4\nLength: 100, dtype: int32\n0     3\n1     1\n2     2\n3     1\n4     2\n     ..\n95    1\n96    2\n97    3\n98    2\n99    1\nLength: 100, dtype: int32\n0     12026\n1     15738\n2     25336\n3     24902\n4     15208\n      ...  \n95    18866\n96    14858\n97    28252\n98    25492\n99    23954\nLength: 100, dtype: int32\n"
          ]
        }
      ],
      "source": [
        "print(serie1)\n",
        "print(serie2)\n",
        "print(serie3)"
      ]
    },
    {
      "cell_type": "markdown",
      "metadata": {
        "id": "ReOCI-G6C94t"
      },
      "source": [
        "### Step 3. Let's create a DataFrame by joinning the Series by column"
      ]
    },
    {
      "cell_type": "code",
      "execution_count": 37,
      "metadata": {},
      "outputs": [],
      "source": [
        "df = pd.DataFrame({'serie1': serie1, 'serie2': serie2, \"serie3\":serie3}, columns=['serie1', 'serie2','serie3'])"
      ]
    },
    {
      "cell_type": "code",
      "execution_count": 38,
      "metadata": {},
      "outputs": [
        {
          "output_type": "execute_result",
          "data": {
            "text/plain": [
              "    serie1  serie2  serie3\n",
              "0        4       3   12026\n",
              "1        1       1   15738\n",
              "2        2       2   25336\n",
              "3        4       1   24902\n",
              "4        3       2   15208\n",
              "..     ...     ...     ...\n",
              "95       3       1   18866\n",
              "96       1       2   14858\n",
              "97       1       3   28252\n",
              "98       2       2   25492\n",
              "99       4       1   23954\n",
              "\n",
              "[100 rows x 3 columns]"
            ],
            "text/html": "<div>\n<style scoped>\n    .dataframe tbody tr th:only-of-type {\n        vertical-align: middle;\n    }\n\n    .dataframe tbody tr th {\n        vertical-align: top;\n    }\n\n    .dataframe thead th {\n        text-align: right;\n    }\n</style>\n<table border=\"1\" class=\"dataframe\">\n  <thead>\n    <tr style=\"text-align: right;\">\n      <th></th>\n      <th>serie1</th>\n      <th>serie2</th>\n      <th>serie3</th>\n    </tr>\n  </thead>\n  <tbody>\n    <tr>\n      <th>0</th>\n      <td>4</td>\n      <td>3</td>\n      <td>12026</td>\n    </tr>\n    <tr>\n      <th>1</th>\n      <td>1</td>\n      <td>1</td>\n      <td>15738</td>\n    </tr>\n    <tr>\n      <th>2</th>\n      <td>2</td>\n      <td>2</td>\n      <td>25336</td>\n    </tr>\n    <tr>\n      <th>3</th>\n      <td>4</td>\n      <td>1</td>\n      <td>24902</td>\n    </tr>\n    <tr>\n      <th>4</th>\n      <td>3</td>\n      <td>2</td>\n      <td>15208</td>\n    </tr>\n    <tr>\n      <th>...</th>\n      <td>...</td>\n      <td>...</td>\n      <td>...</td>\n    </tr>\n    <tr>\n      <th>95</th>\n      <td>3</td>\n      <td>1</td>\n      <td>18866</td>\n    </tr>\n    <tr>\n      <th>96</th>\n      <td>1</td>\n      <td>2</td>\n      <td>14858</td>\n    </tr>\n    <tr>\n      <th>97</th>\n      <td>1</td>\n      <td>3</td>\n      <td>28252</td>\n    </tr>\n    <tr>\n      <th>98</th>\n      <td>2</td>\n      <td>2</td>\n      <td>25492</td>\n    </tr>\n    <tr>\n      <th>99</th>\n      <td>4</td>\n      <td>1</td>\n      <td>23954</td>\n    </tr>\n  </tbody>\n</table>\n<p>100 rows × 3 columns</p>\n</div>"
          },
          "metadata": {},
          "execution_count": 38
        }
      ],
      "source": [
        "df"
      ]
    },
    {
      "cell_type": "markdown",
      "metadata": {
        "id": "lcVXie4cC94u"
      },
      "source": [
        "### Step 4. Change the name of the columns to bedrs, bathrs, price_sqr_meter"
      ]
    },
    {
      "cell_type": "code",
      "metadata": {
        "id": "EGGdtBhEC94u"
      },
      "source": [
        "df.columns = ['bedrs', 'bathrs', 'price_sqr_meter']\n",
        "df"
      ],
      "execution_count": 39,
      "outputs": [
        {
          "output_type": "execute_result",
          "data": {
            "text/plain": [
              "    bedrs  bathrs  price_sqr_meter\n",
              "0       4       3            12026\n",
              "1       1       1            15738\n",
              "2       2       2            25336\n",
              "3       4       1            24902\n",
              "4       3       2            15208\n",
              "..    ...     ...              ...\n",
              "95      3       1            18866\n",
              "96      1       2            14858\n",
              "97      1       3            28252\n",
              "98      2       2            25492\n",
              "99      4       1            23954\n",
              "\n",
              "[100 rows x 3 columns]"
            ],
            "text/html": "<div>\n<style scoped>\n    .dataframe tbody tr th:only-of-type {\n        vertical-align: middle;\n    }\n\n    .dataframe tbody tr th {\n        vertical-align: top;\n    }\n\n    .dataframe thead th {\n        text-align: right;\n    }\n</style>\n<table border=\"1\" class=\"dataframe\">\n  <thead>\n    <tr style=\"text-align: right;\">\n      <th></th>\n      <th>bedrs</th>\n      <th>bathrs</th>\n      <th>price_sqr_meter</th>\n    </tr>\n  </thead>\n  <tbody>\n    <tr>\n      <th>0</th>\n      <td>4</td>\n      <td>3</td>\n      <td>12026</td>\n    </tr>\n    <tr>\n      <th>1</th>\n      <td>1</td>\n      <td>1</td>\n      <td>15738</td>\n    </tr>\n    <tr>\n      <th>2</th>\n      <td>2</td>\n      <td>2</td>\n      <td>25336</td>\n    </tr>\n    <tr>\n      <th>3</th>\n      <td>4</td>\n      <td>1</td>\n      <td>24902</td>\n    </tr>\n    <tr>\n      <th>4</th>\n      <td>3</td>\n      <td>2</td>\n      <td>15208</td>\n    </tr>\n    <tr>\n      <th>...</th>\n      <td>...</td>\n      <td>...</td>\n      <td>...</td>\n    </tr>\n    <tr>\n      <th>95</th>\n      <td>3</td>\n      <td>1</td>\n      <td>18866</td>\n    </tr>\n    <tr>\n      <th>96</th>\n      <td>1</td>\n      <td>2</td>\n      <td>14858</td>\n    </tr>\n    <tr>\n      <th>97</th>\n      <td>1</td>\n      <td>3</td>\n      <td>28252</td>\n    </tr>\n    <tr>\n      <th>98</th>\n      <td>2</td>\n      <td>2</td>\n      <td>25492</td>\n    </tr>\n    <tr>\n      <th>99</th>\n      <td>4</td>\n      <td>1</td>\n      <td>23954</td>\n    </tr>\n  </tbody>\n</table>\n<p>100 rows × 3 columns</p>\n</div>"
          },
          "metadata": {},
          "execution_count": 39
        }
      ]
    },
    {
      "cell_type": "markdown",
      "metadata": {
        "id": "F2PuqS0gC94v"
      },
      "source": [
        "### Step 5. Create a column DataFrame with the values of the 3 Series and assign it to 'bigcolumn'"
      ]
    },
    {
      "cell_type": "code",
      "execution_count": 48,
      "metadata": {},
      "outputs": [
        {
          "output_type": "execute_result",
          "data": {
            "text/plain": [
              "        0\n",
              "0       4\n",
              "1       1\n",
              "2       2\n",
              "3       4\n",
              "4       3\n",
              "..    ...\n",
              "95  18866\n",
              "96  14858\n",
              "97  28252\n",
              "98  25492\n",
              "99  23954\n",
              "\n",
              "[300 rows x 1 columns]"
            ],
            "text/html": "<div>\n<style scoped>\n    .dataframe tbody tr th:only-of-type {\n        vertical-align: middle;\n    }\n\n    .dataframe tbody tr th {\n        vertical-align: top;\n    }\n\n    .dataframe thead th {\n        text-align: right;\n    }\n</style>\n<table border=\"1\" class=\"dataframe\">\n  <thead>\n    <tr style=\"text-align: right;\">\n      <th></th>\n      <th>0</th>\n    </tr>\n  </thead>\n  <tbody>\n    <tr>\n      <th>0</th>\n      <td>4</td>\n    </tr>\n    <tr>\n      <th>1</th>\n      <td>1</td>\n    </tr>\n    <tr>\n      <th>2</th>\n      <td>2</td>\n    </tr>\n    <tr>\n      <th>3</th>\n      <td>4</td>\n    </tr>\n    <tr>\n      <th>4</th>\n      <td>3</td>\n    </tr>\n    <tr>\n      <th>...</th>\n      <td>...</td>\n    </tr>\n    <tr>\n      <th>95</th>\n      <td>18866</td>\n    </tr>\n    <tr>\n      <th>96</th>\n      <td>14858</td>\n    </tr>\n    <tr>\n      <th>97</th>\n      <td>28252</td>\n    </tr>\n    <tr>\n      <th>98</th>\n      <td>25492</td>\n    </tr>\n    <tr>\n      <th>99</th>\n      <td>23954</td>\n    </tr>\n  </tbody>\n</table>\n<p>300 rows × 1 columns</p>\n</div>"
          },
          "metadata": {},
          "execution_count": 48
        }
      ],
      "source": [
        "bigcolumn = pd.DataFrame(serie1.append((serie2,serie3)))\n",
        "bigcolumn"
      ]
    },
    {
      "cell_type": "markdown",
      "metadata": {
        "id": "y1cKSBZxC94v"
      },
      "source": [
        "### Step 6. Oops, it seems it is going only until index 99. Is it true?"
      ]
    },
    {
      "cell_type": "code",
      "metadata": {
        "id": "ci7YzPiXC94v"
      },
      "source": [
        "bigcolumn.index[-1] == 99"
      ],
      "execution_count": 59,
      "outputs": [
        {
          "output_type": "execute_result",
          "data": {
            "text/plain": [
              "True"
            ]
          },
          "metadata": {},
          "execution_count": 59
        }
      ]
    },
    {
      "cell_type": "markdown",
      "metadata": {
        "id": "8NDcfpGfC94v"
      },
      "source": [
        "### Step 7. Reindex the DataFrame so it goes from 0 to 299"
      ]
    },
    {
      "cell_type": "code",
      "execution_count": 73,
      "metadata": {},
      "outputs": [],
      "source": [
        "bigcolumn.reset_index(inplace=True, drop=True)"
      ]
    },
    {
      "cell_type": "code",
      "execution_count": 74,
      "metadata": {},
      "outputs": [
        {
          "output_type": "execute_result",
          "data": {
            "text/plain": [
              "         0\n",
              "0        4\n",
              "1        1\n",
              "2        2\n",
              "3        4\n",
              "4        3\n",
              "..     ...\n",
              "295  18866\n",
              "296  14858\n",
              "297  28252\n",
              "298  25492\n",
              "299  23954\n",
              "\n",
              "[300 rows x 1 columns]"
            ],
            "text/html": "<div>\n<style scoped>\n    .dataframe tbody tr th:only-of-type {\n        vertical-align: middle;\n    }\n\n    .dataframe tbody tr th {\n        vertical-align: top;\n    }\n\n    .dataframe thead th {\n        text-align: right;\n    }\n</style>\n<table border=\"1\" class=\"dataframe\">\n  <thead>\n    <tr style=\"text-align: right;\">\n      <th></th>\n      <th>0</th>\n    </tr>\n  </thead>\n  <tbody>\n    <tr>\n      <th>0</th>\n      <td>4</td>\n    </tr>\n    <tr>\n      <th>1</th>\n      <td>1</td>\n    </tr>\n    <tr>\n      <th>2</th>\n      <td>2</td>\n    </tr>\n    <tr>\n      <th>3</th>\n      <td>4</td>\n    </tr>\n    <tr>\n      <th>4</th>\n      <td>3</td>\n    </tr>\n    <tr>\n      <th>...</th>\n      <td>...</td>\n    </tr>\n    <tr>\n      <th>295</th>\n      <td>18866</td>\n    </tr>\n    <tr>\n      <th>296</th>\n      <td>14858</td>\n    </tr>\n    <tr>\n      <th>297</th>\n      <td>28252</td>\n    </tr>\n    <tr>\n      <th>298</th>\n      <td>25492</td>\n    </tr>\n    <tr>\n      <th>299</th>\n      <td>23954</td>\n    </tr>\n  </tbody>\n</table>\n<p>300 rows × 1 columns</p>\n</div>"
          },
          "metadata": {},
          "execution_count": 74
        }
      ],
      "source": [
        "bigcolumn"
      ]
    }
  ]
}