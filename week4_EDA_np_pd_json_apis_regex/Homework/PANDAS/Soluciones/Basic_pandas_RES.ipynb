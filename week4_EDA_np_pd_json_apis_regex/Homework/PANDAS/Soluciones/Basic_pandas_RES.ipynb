{
  "nbformat": 4,
  "nbformat_minor": 0,
  "metadata": {
    "kernelspec": {
      "display_name": "Python 3",
      "language": "python",
      "name": "python3"
    },
    "language_info": {
      "codemirror_mode": {
        "name": "ipython",
        "version": 3
      },
      "file_extension": ".py",
      "mimetype": "text/x-python",
      "name": "python",
      "nbconvert_exporter": "python",
      "pygments_lexer": "ipython3",
      "version": "3.8.6"
    },
    "colab": {
      "name": "Basic_pandas_RES.ipynb",
      "provenance": []
    }
  },
  "cells": [
    {
      "cell_type": "markdown",
      "metadata": {
        "id": "ooERCgmFUhc_"
      },
      "source": [
        "## Ejercicio 1\n",
        "Importa la libreria de `pandas` y `numpy`. ¿Qué versión de la librería `pandas` tienes?"
      ]
    },
    {
      "cell_type": "code",
      "metadata": {
        "id": "AZQhGua1UhdN"
      },
      "source": [
        "import pandas as pd\n",
        "import numpy as np"
      ],
      "execution_count": null,
      "outputs": []
    },
    {
      "cell_type": "markdown",
      "metadata": {
        "id": "zyamExU2UhdP"
      },
      "source": [
        "## Ejercicio 2\n",
        "Lee el archivo CSV de la liga. Guarda el DataFrame en una variable llamada `df`. [Usa el método `read_csv` de `pandas`](https://pandas.pydata.org/pandas-docs/stable/reference/api/pandas.read_csv.html)."
      ]
    },
    {
      "cell_type": "code",
      "metadata": {
        "id": "mFndEhd_UhdQ"
      },
      "source": [
        "liga = pd.read_csv(\"laliga.csv\")"
      ],
      "execution_count": null,
      "outputs": []
    },
    {
      "cell_type": "markdown",
      "metadata": {
        "id": "hObS3HfZUhdS"
      },
      "source": [
        "## Ejercicio 3\n",
        "Obtén por pantalla los 4 primero registros"
      ]
    },
    {
      "cell_type": "code",
      "metadata": {
        "id": "pHUVBfkJUhdT",
        "outputId": "8a77ed5d-29c3-4a34-9833-3024f17428ed"
      },
      "source": [
        "# way 1\n",
        "liga.head(4)"
      ],
      "execution_count": null,
      "outputs": [
        {
          "output_type": "execute_result",
          "data": {
            "text/html": [
              "<div>\n",
              "<style scoped>\n",
              "    .dataframe tbody tr th:only-of-type {\n",
              "        vertical-align: middle;\n",
              "    }\n",
              "\n",
              "    .dataframe tbody tr th {\n",
              "        vertical-align: top;\n",
              "    }\n",
              "\n",
              "    .dataframe thead th {\n",
              "        text-align: right;\n",
              "    }\n",
              "</style>\n",
              "<table border=\"1\" class=\"dataframe\">\n",
              "  <thead>\n",
              "    <tr style=\"text-align: right;\">\n",
              "      <th></th>\n",
              "      <th>Unnamed: 0</th>\n",
              "      <th>season</th>\n",
              "      <th>division</th>\n",
              "      <th>round</th>\n",
              "      <th>localTeam</th>\n",
              "      <th>visitorTeam</th>\n",
              "      <th>localGoals</th>\n",
              "      <th>visitorGoals</th>\n",
              "      <th>date</th>\n",
              "      <th>timestamp</th>\n",
              "    </tr>\n",
              "  </thead>\n",
              "  <tbody>\n",
              "    <tr>\n",
              "      <th>0</th>\n",
              "      <td>26201</td>\n",
              "      <td>2005-06</td>\n",
              "      <td>1</td>\n",
              "      <td>1</td>\n",
              "      <td>Atletico de Bilbao</td>\n",
              "      <td>Real Sociedad</td>\n",
              "      <td>3</td>\n",
              "      <td>0</td>\n",
              "      <td>27/08/2005</td>\n",
              "      <td>1125093600</td>\n",
              "    </tr>\n",
              "    <tr>\n",
              "      <th>1</th>\n",
              "      <td>26202</td>\n",
              "      <td>2005-06</td>\n",
              "      <td>1</td>\n",
              "      <td>1</td>\n",
              "      <td>Alaves</td>\n",
              "      <td>Barcelona</td>\n",
              "      <td>0</td>\n",
              "      <td>0</td>\n",
              "      <td>27/08/2005</td>\n",
              "      <td>1125093600</td>\n",
              "    </tr>\n",
              "    <tr>\n",
              "      <th>2</th>\n",
              "      <td>26203</td>\n",
              "      <td>2005-06</td>\n",
              "      <td>1</td>\n",
              "      <td>1</td>\n",
              "      <td>Valencia</td>\n",
              "      <td>Betis</td>\n",
              "      <td>1</td>\n",
              "      <td>0</td>\n",
              "      <td>27/08/2005</td>\n",
              "      <td>1125093600</td>\n",
              "    </tr>\n",
              "    <tr>\n",
              "      <th>3</th>\n",
              "      <td>26204</td>\n",
              "      <td>2005-06</td>\n",
              "      <td>1</td>\n",
              "      <td>1</td>\n",
              "      <td>Atletico de Madrid</td>\n",
              "      <td>Zaragoza</td>\n",
              "      <td>0</td>\n",
              "      <td>0</td>\n",
              "      <td>28/08/2005</td>\n",
              "      <td>1125180000</td>\n",
              "    </tr>\n",
              "  </tbody>\n",
              "</table>\n",
              "</div>"
            ],
            "text/plain": [
              "   Unnamed: 0   season  division  round           localTeam    visitorTeam  \\\n",
              "0       26201  2005-06         1      1  Atletico de Bilbao  Real Sociedad   \n",
              "1       26202  2005-06         1      1              Alaves      Barcelona   \n",
              "2       26203  2005-06         1      1            Valencia          Betis   \n",
              "3       26204  2005-06         1      1  Atletico de Madrid       Zaragoza   \n",
              "\n",
              "   localGoals  visitorGoals        date   timestamp  \n",
              "0           3             0  27/08/2005  1125093600  \n",
              "1           0             0  27/08/2005  1125093600  \n",
              "2           1             0  27/08/2005  1125093600  \n",
              "3           0             0  28/08/2005  1125180000  "
            ]
          },
          "metadata": {
            "tags": []
          },
          "execution_count": 3
        }
      ]
    },
    {
      "cell_type": "code",
      "metadata": {
        "id": "b0oqpHkLUhdY",
        "outputId": "78141ca9-85f4-429f-b190-895ab625460a"
      },
      "source": [
        "# way 2\n",
        "liga[:4]"
      ],
      "execution_count": null,
      "outputs": [
        {
          "output_type": "execute_result",
          "data": {
            "text/html": [
              "<div>\n",
              "<style scoped>\n",
              "    .dataframe tbody tr th:only-of-type {\n",
              "        vertical-align: middle;\n",
              "    }\n",
              "\n",
              "    .dataframe tbody tr th {\n",
              "        vertical-align: top;\n",
              "    }\n",
              "\n",
              "    .dataframe thead th {\n",
              "        text-align: right;\n",
              "    }\n",
              "</style>\n",
              "<table border=\"1\" class=\"dataframe\">\n",
              "  <thead>\n",
              "    <tr style=\"text-align: right;\">\n",
              "      <th></th>\n",
              "      <th>Unnamed: 0</th>\n",
              "      <th>season</th>\n",
              "      <th>division</th>\n",
              "      <th>round</th>\n",
              "      <th>localTeam</th>\n",
              "      <th>visitorTeam</th>\n",
              "      <th>localGoals</th>\n",
              "      <th>visitorGoals</th>\n",
              "      <th>date</th>\n",
              "      <th>timestamp</th>\n",
              "    </tr>\n",
              "  </thead>\n",
              "  <tbody>\n",
              "    <tr>\n",
              "      <th>0</th>\n",
              "      <td>26201</td>\n",
              "      <td>2005-06</td>\n",
              "      <td>1</td>\n",
              "      <td>1</td>\n",
              "      <td>Atletico de Bilbao</td>\n",
              "      <td>Real Sociedad</td>\n",
              "      <td>3</td>\n",
              "      <td>0</td>\n",
              "      <td>27/08/2005</td>\n",
              "      <td>1125093600</td>\n",
              "    </tr>\n",
              "    <tr>\n",
              "      <th>1</th>\n",
              "      <td>26202</td>\n",
              "      <td>2005-06</td>\n",
              "      <td>1</td>\n",
              "      <td>1</td>\n",
              "      <td>Alaves</td>\n",
              "      <td>Barcelona</td>\n",
              "      <td>0</td>\n",
              "      <td>0</td>\n",
              "      <td>27/08/2005</td>\n",
              "      <td>1125093600</td>\n",
              "    </tr>\n",
              "    <tr>\n",
              "      <th>2</th>\n",
              "      <td>26203</td>\n",
              "      <td>2005-06</td>\n",
              "      <td>1</td>\n",
              "      <td>1</td>\n",
              "      <td>Valencia</td>\n",
              "      <td>Betis</td>\n",
              "      <td>1</td>\n",
              "      <td>0</td>\n",
              "      <td>27/08/2005</td>\n",
              "      <td>1125093600</td>\n",
              "    </tr>\n",
              "    <tr>\n",
              "      <th>3</th>\n",
              "      <td>26204</td>\n",
              "      <td>2005-06</td>\n",
              "      <td>1</td>\n",
              "      <td>1</td>\n",
              "      <td>Atletico de Madrid</td>\n",
              "      <td>Zaragoza</td>\n",
              "      <td>0</td>\n",
              "      <td>0</td>\n",
              "      <td>28/08/2005</td>\n",
              "      <td>1125180000</td>\n",
              "    </tr>\n",
              "  </tbody>\n",
              "</table>\n",
              "</div>"
            ],
            "text/plain": [
              "   Unnamed: 0   season  division  round           localTeam    visitorTeam  \\\n",
              "0       26201  2005-06         1      1  Atletico de Bilbao  Real Sociedad   \n",
              "1       26202  2005-06         1      1              Alaves      Barcelona   \n",
              "2       26203  2005-06         1      1            Valencia          Betis   \n",
              "3       26204  2005-06         1      1  Atletico de Madrid       Zaragoza   \n",
              "\n",
              "   localGoals  visitorGoals        date   timestamp  \n",
              "0           3             0  27/08/2005  1125093600  \n",
              "1           0             0  27/08/2005  1125093600  \n",
              "2           1             0  27/08/2005  1125093600  \n",
              "3           0             0  28/08/2005  1125180000  "
            ]
          },
          "metadata": {
            "tags": []
          },
          "execution_count": 4
        }
      ]
    },
    {
      "cell_type": "markdown",
      "metadata": {
        "id": "lqwXi1oNUhdZ"
      },
      "source": [
        "## Ejercicio 4\n",
        "Obtén en un array de `numpy` todos los valores del DataFrame"
      ]
    },
    {
      "cell_type": "code",
      "metadata": {
        "id": "6gn9vk7AUhda",
        "outputId": "d0be3164-f3dc-4d9a-edb5-7a3ff2cf7f45"
      },
      "source": [
        "liga.values"
      ],
      "execution_count": null,
      "outputs": [
        {
          "output_type": "execute_result",
          "data": {
            "text/plain": [
              "array([[26201, '2005-06', 1, ..., 0, '27/08/2005', 1125093600],\n",
              "       [26202, '2005-06', 1, ..., 0, '27/08/2005', 1125093600],\n",
              "       [26203, '2005-06', 1, ..., 0, '27/08/2005', 1125093600],\n",
              "       ...,\n",
              "       [36682, '2017-18', 1, ..., 0, '20/05/2018', 1526767200],\n",
              "       [36683, '2017-18', 1, ..., 1, '20/05/2018', 1526767200],\n",
              "       [36684, '2017-18', 1, ..., 2, '20/05/2018', 1526767200]],\n",
              "      dtype=object)"
            ]
          },
          "metadata": {
            "tags": []
          },
          "execution_count": 5
        }
      ]
    },
    {
      "cell_type": "code",
      "metadata": {
        "id": "BA98oUWdUhdb",
        "outputId": "c673f8c9-054f-47af-dbf9-bc798470081e"
      },
      "source": [
        "for col in liga.columns:\n",
        "    print(f\"Array de la columna {col} ->\", liga[col].values)"
      ],
      "execution_count": null,
      "outputs": [
        {
          "output_type": "stream",
          "text": [
            "Array de la columna Unnamed: 0 -> [26201 26202 26203 ... 36682 36683 36684]\n",
            "Array de la columna season -> ['2005-06' '2005-06' '2005-06' ... '2017-18' '2017-18' '2017-18']\n",
            "Array de la columna division -> [1 1 1 ... 1 1 1]\n",
            "Array de la columna round -> [ 1  1  1 ... 38 38 38]\n",
            "Array de la columna localTeam -> ['Atletico de Bilbao' 'Alaves' 'Valencia' ... 'Barcelona' 'Valencia'\n",
            " 'Atletico de Madrid']\n",
            "Array de la columna visitorTeam -> ['Real Sociedad' 'Barcelona' 'Betis' ... 'Real Sociedad' 'Deportivo'\n",
            " 'Eibar']\n",
            "Array de la columna localGoals -> [3 0 1 ... 1 2 2]\n",
            "Array de la columna visitorGoals -> [0 0 0 ... 0 1 2]\n",
            "Array de la columna date -> ['27/08/2005' '27/08/2005' '27/08/2005' ... '20/05/2018' '20/05/2018'\n",
            " '20/05/2018']\n",
            "Array de la columna timestamp -> [1125093600 1125093600 1125093600 ... 1526767200 1526767200 1526767200]\n"
          ],
          "name": "stdout"
        }
      ]
    },
    {
      "cell_type": "markdown",
      "metadata": {
        "id": "JdslET6dUhdd"
      },
      "source": [
        "## Ejercicio 5\n",
        "¿Cuáles son las columnas de `df`?"
      ]
    },
    {
      "cell_type": "code",
      "metadata": {
        "id": "CnJBgO_wUhde",
        "outputId": "c4485477-0caf-4e0b-8f08-e685f49c9d85"
      },
      "source": [
        "liga.columns"
      ],
      "execution_count": null,
      "outputs": [
        {
          "output_type": "execute_result",
          "data": {
            "text/plain": [
              "Index(['Unnamed: 0', 'season', 'division', 'round', 'localTeam', 'visitorTeam',\n",
              "       'localGoals', 'visitorGoals', 'date', 'timestamp'],\n",
              "      dtype='object')"
            ]
          },
          "metadata": {
            "tags": []
          },
          "execution_count": 7
        }
      ]
    },
    {
      "cell_type": "markdown",
      "metadata": {
        "id": "HhM0VGiGUhdf"
      },
      "source": [
        "## Ejercicio 6\n",
        "Crea un `Series` con la [población de Madrid, Galicia, Murcia y Andalucía](https://es.wikipedia.org/wiki/Anexo:Comunidades_y_ciudades_aut%C3%B3nomas_de_Espa%C3%B1a). Llamalo `poblacion`.\n",
        "\n",
        "- Madrid: 6685471\n",
        "- Galicia: 2698764\n",
        "- Murcia: 1494442\n",
        "- Andalucía: 8446561\n"
      ]
    },
    {
      "cell_type": "code",
      "metadata": {
        "id": "33m3qbhdUhdg",
        "outputId": "144024e2-eca6-4383-fbe9-644c5a713b9a"
      },
      "source": [
        "poblacion = pd.Series([6685471, 2698764, 1494442, 8446561], index = [\"Madrid\", \"Galicia\", \"Murcia\", \"Andalucia\"])\n",
        "poblacion"
      ],
      "execution_count": null,
      "outputs": [
        {
          "output_type": "execute_result",
          "data": {
            "text/plain": [
              "Madrid       6685471\n",
              "Galicia      2698764\n",
              "Murcia       1494442\n",
              "Andalucia    8446561\n",
              "dtype: int64"
            ]
          },
          "metadata": {
            "tags": []
          },
          "execution_count": 8
        }
      ]
    },
    {
      "cell_type": "markdown",
      "metadata": {
        "id": "Vpm9VyiaUhdh"
      },
      "source": [
        "## Ejercicio 7\n",
        "Obtén un array de `numpy` con los valores del `Series`.\n",
        "\n",
        "Saca también sus índices, y los valores de sus índices."
      ]
    },
    {
      "cell_type": "code",
      "metadata": {
        "id": "imdXjQkdUhdi",
        "outputId": "1a8495e9-64ca-4a07-d094-bb3412583cac"
      },
      "source": [
        "poblacion.values"
      ],
      "execution_count": null,
      "outputs": [
        {
          "output_type": "execute_result",
          "data": {
            "text/plain": [
              "array([6685471, 2698764, 1494442, 8446561], dtype=int64)"
            ]
          },
          "metadata": {
            "tags": []
          },
          "execution_count": 9
        }
      ]
    },
    {
      "cell_type": "code",
      "metadata": {
        "id": "ukqxCP7QUhdj",
        "outputId": "a4c96cfb-5dc7-4f1e-aec9-7b7b867bf34e"
      },
      "source": [
        "poblacion.index"
      ],
      "execution_count": null,
      "outputs": [
        {
          "output_type": "execute_result",
          "data": {
            "text/plain": [
              "Index(['Madrid', 'Galicia', 'Murcia', 'Andalucia'], dtype='object')"
            ]
          },
          "metadata": {
            "tags": []
          },
          "execution_count": 10
        }
      ]
    },
    {
      "cell_type": "code",
      "metadata": {
        "id": "rwbNmRDUUhdk",
        "outputId": "81f8b304-cfaa-4fa0-9230-669c5c8abb70"
      },
      "source": [
        "# poblacion.index nos devuelve un objeto Index, del cual podemos obtener también sus valores\n",
        "poblacion.index.values"
      ],
      "execution_count": null,
      "outputs": [
        {
          "output_type": "execute_result",
          "data": {
            "text/plain": [
              "array(['Madrid', 'Galicia', 'Murcia', 'Andalucia'], dtype=object)"
            ]
          },
          "metadata": {
            "tags": []
          },
          "execution_count": 11
        }
      ]
    },
    {
      "cell_type": "markdown",
      "metadata": {
        "id": "7x0dPgW2Uhdl"
      },
      "source": [
        "## Ejercicio 8\n",
        "1. ¿Qué población hay en el primer elemento del `Series`?\n",
        "2. ¿Qué población hay en Galicia?\n",
        "3. Imprime por pantalla las poblaciones de Galicia, Andalucía y las comunidades autónomas que se encuentren entre ambas, dentro del `Series`.\n",
        "4. Comprueba con un output booleano que `Galicia` se encuentra entre los índices del `Index`.\n",
        "5. Realiza los apartados 1,2,3 pero esta vez de una manera diferente."
      ]
    },
    {
      "cell_type": "code",
      "metadata": {
        "id": "Eja3S0sTUhdm",
        "outputId": "584da82b-e775-43b8-c96e-520f581ead1a"
      },
      "source": [
        "#1\n",
        "poblacion[0]"
      ],
      "execution_count": null,
      "outputs": [
        {
          "output_type": "execute_result",
          "data": {
            "text/plain": [
              "6685471"
            ]
          },
          "metadata": {
            "tags": []
          },
          "execution_count": 12
        }
      ]
    },
    {
      "cell_type": "code",
      "metadata": {
        "id": "hZ580LqzUhdn",
        "outputId": "c956d58c-09f6-492d-c847-e45919900b28"
      },
      "source": [
        "#2\n",
        "poblacion[\"Galicia\"]"
      ],
      "execution_count": null,
      "outputs": [
        {
          "output_type": "execute_result",
          "data": {
            "text/plain": [
              "2698764"
            ]
          },
          "metadata": {
            "tags": []
          },
          "execution_count": 13
        }
      ]
    },
    {
      "cell_type": "code",
      "metadata": {
        "id": "UUvjMdgmUhdo",
        "outputId": "d4ba82d6-69f4-48c6-fa37-210c60513ec4"
      },
      "source": [
        "#3\n",
        "poblacion[\"Galicia\":\"Andalucia\"]\n",
        "# cuando hacemos slicing por nombre, se incluye el último"
      ],
      "execution_count": null,
      "outputs": [
        {
          "output_type": "execute_result",
          "data": {
            "text/plain": [
              "Galicia      2698764\n",
              "Murcia       1494442\n",
              "Andalucia    8446561\n",
              "dtype: int64"
            ]
          },
          "metadata": {
            "tags": []
          },
          "execution_count": 14
        }
      ]
    },
    {
      "cell_type": "code",
      "metadata": {
        "id": "la4NPHe9Uhdp",
        "outputId": "c146ad78-8afb-487a-809b-bfd9ed3b2c68"
      },
      "source": [
        "#4\n",
        "\"Galicia\" in poblacion.index"
      ],
      "execution_count": null,
      "outputs": [
        {
          "output_type": "execute_result",
          "data": {
            "text/plain": [
              "True"
            ]
          },
          "metadata": {
            "tags": []
          },
          "execution_count": 15
        }
      ]
    },
    {
      "cell_type": "code",
      "metadata": {
        "id": "3YCjpyIuUhdr",
        "outputId": "0cca13cc-87f0-4cc9-b3e1-7ece0530d172"
      },
      "source": [
        "#5\n",
        "print(poblacion[\"Madrid\"]) #1\n",
        "print()\n",
        "print(poblacion[1]) #2\n",
        "print()\n",
        "print(poblacion[1:]) #3"
      ],
      "execution_count": null,
      "outputs": [
        {
          "output_type": "stream",
          "text": [
            "6685471\n",
            "\n",
            "2698764\n",
            "\n",
            "Galicia      2698764\n",
            "Murcia       1494442\n",
            "Andalucia    8446561\n",
            "dtype: int64\n"
          ],
          "name": "stdout"
        }
      ]
    },
    {
      "cell_type": "markdown",
      "metadata": {
        "id": "dQkBcuc9Uhds"
      },
      "source": [
        "## Ejercicio 9\n",
        "A partir de las comunidades autónomas anteriores, crea un `Series` con [la tasa de paro](https://es.statista.com/estadisticas/941646/prevision-de-la-tasa-de-paro-por-comunidad-autonoma-espana/) en dichas comunidades autónomas.\n",
        "\n",
        "Con la tasa de paro y las poblaciones, crea un DataFrame de pandas. Llámalo `data`.\n",
        "\n",
        "- Madrid: 9.99\n",
        "- Galicia: 11.74\n",
        "- Murcia: 16.08\n",
        "- Andalucía: 20.8"
      ]
    },
    {
      "cell_type": "code",
      "metadata": {
        "id": "bSstB-aGUhdt"
      },
      "source": [
        "paro = pd.Series([9.99, 11.74, 16.08, 20.8], index = [\"Madrid\", \"Galicia\", \"Murcia\", \"Andalucia\"])"
      ],
      "execution_count": null,
      "outputs": []
    },
    {
      "cell_type": "code",
      "metadata": {
        "id": "YH2AFsX9Uhdt"
      },
      "source": [
        "data = pd.DataFrame({\"Paro\": paro, \"Poblacion\": poblacion})"
      ],
      "execution_count": null,
      "outputs": []
    },
    {
      "cell_type": "markdown",
      "metadata": {
        "id": "E0SjKWbcUhdu"
      },
      "source": [
        "## Ejercicio 10\n",
        "Imprime por pantalla la población, y la tasa de paro. Por separado"
      ]
    },
    {
      "cell_type": "code",
      "metadata": {
        "id": "QCrMiOOPUhdv",
        "outputId": "dad4a377-af98-4867-bfd2-fe582e543e61"
      },
      "source": [
        "data[\"Paro\"]"
      ],
      "execution_count": null,
      "outputs": [
        {
          "output_type": "execute_result",
          "data": {
            "text/plain": [
              "Madrid        9.99\n",
              "Galicia      11.74\n",
              "Murcia       16.08\n",
              "Andalucia    20.80\n",
              "Name: Paro, dtype: float64"
            ]
          },
          "metadata": {
            "tags": []
          },
          "execution_count": 19
        }
      ]
    },
    {
      "cell_type": "code",
      "metadata": {
        "id": "ryXNqAkuUhdv",
        "outputId": "3f93b0f6-1b02-4f0a-f8a6-e307cb520d45"
      },
      "source": [
        "data[\"Poblacion\"]"
      ],
      "execution_count": null,
      "outputs": [
        {
          "output_type": "execute_result",
          "data": {
            "text/plain": [
              "Madrid       6685471\n",
              "Galicia      2698764\n",
              "Murcia       1494442\n",
              "Andalucia    8446561\n",
              "Name: Poblacion, dtype: int64"
            ]
          },
          "metadata": {
            "tags": []
          },
          "execution_count": 20
        }
      ]
    },
    {
      "cell_type": "markdown",
      "metadata": {
        "id": "SA4RAIzHUhdw"
      },
      "source": [
        "## Ejercicio 11\n",
        "Crea un nuevo Data Frame (`data2`), que sea igual que `data`, pero con una nueva columna, que lleve [la superficie de las Comunidades Autónomas](https://es.wikipedia.org/wiki/Anexo:Comunidades_y_ciudades_aut%C3%B3nomas_de_Espa%C3%B1a).\n",
        "\n",
        "- Madrid: 8028\n",
        "- Galicia: 29575\n",
        "- Murcia: 11314\n",
        "- Andalucía: 87599"
      ]
    },
    {
      "cell_type": "code",
      "metadata": {
        "id": "QEih9bB5Uhdx",
        "outputId": "0cc8c284-f841-4b4d-8349-9e316086fa32"
      },
      "source": [
        "superficie = pd.Series({\"Madrid\":8028, \"Galicia\":29575, \"Murcia\":11314, \"Andalucia\":87599})\n",
        "print(superficie)"
      ],
      "execution_count": null,
      "outputs": [
        {
          "output_type": "stream",
          "text": [
            "Madrid        8028\n",
            "Galicia      29575\n",
            "Murcia       11314\n",
            "Andalucia    87599\n",
            "dtype: int64\n"
          ],
          "name": "stdout"
        }
      ]
    },
    {
      "cell_type": "code",
      "metadata": {
        "id": "hPUPJp5QUhdy"
      },
      "source": [
        "data2 = data.copy()"
      ],
      "execution_count": null,
      "outputs": []
    },
    {
      "cell_type": "code",
      "metadata": {
        "id": "soST21VKUhdz"
      },
      "source": [
        "data2[\"Superficie\"] = superficie"
      ],
      "execution_count": null,
      "outputs": []
    },
    {
      "cell_type": "code",
      "metadata": {
        "id": "K3wuKBc5Uhdz",
        "outputId": "f59c6b4b-29f4-43a9-8548-57c124da7b7b"
      },
      "source": [
        "# way 2\n",
        "data2 = pd.DataFrame({\"Paro\": paro, \"Poblacion\": poblacion, \"Superficie\": superficie})\n",
        "data2"
      ],
      "execution_count": null,
      "outputs": [
        {
          "output_type": "execute_result",
          "data": {
            "text/html": [
              "<div>\n",
              "<style scoped>\n",
              "    .dataframe tbody tr th:only-of-type {\n",
              "        vertical-align: middle;\n",
              "    }\n",
              "\n",
              "    .dataframe tbody tr th {\n",
              "        vertical-align: top;\n",
              "    }\n",
              "\n",
              "    .dataframe thead th {\n",
              "        text-align: right;\n",
              "    }\n",
              "</style>\n",
              "<table border=\"1\" class=\"dataframe\">\n",
              "  <thead>\n",
              "    <tr style=\"text-align: right;\">\n",
              "      <th></th>\n",
              "      <th>Paro</th>\n",
              "      <th>Poblacion</th>\n",
              "      <th>Superficie</th>\n",
              "    </tr>\n",
              "  </thead>\n",
              "  <tbody>\n",
              "    <tr>\n",
              "      <th>Madrid</th>\n",
              "      <td>9.99</td>\n",
              "      <td>6685471</td>\n",
              "      <td>8028</td>\n",
              "    </tr>\n",
              "    <tr>\n",
              "      <th>Galicia</th>\n",
              "      <td>11.74</td>\n",
              "      <td>2698764</td>\n",
              "      <td>29575</td>\n",
              "    </tr>\n",
              "    <tr>\n",
              "      <th>Murcia</th>\n",
              "      <td>16.08</td>\n",
              "      <td>1494442</td>\n",
              "      <td>11314</td>\n",
              "    </tr>\n",
              "    <tr>\n",
              "      <th>Andalucia</th>\n",
              "      <td>20.80</td>\n",
              "      <td>8446561</td>\n",
              "      <td>87599</td>\n",
              "    </tr>\n",
              "  </tbody>\n",
              "</table>\n",
              "</div>"
            ],
            "text/plain": [
              "            Paro  Poblacion  Superficie\n",
              "Madrid      9.99    6685471        8028\n",
              "Galicia    11.74    2698764       29575\n",
              "Murcia     16.08    1494442       11314\n",
              "Andalucia  20.80    8446561       87599"
            ]
          },
          "metadata": {
            "tags": []
          },
          "execution_count": 24
        }
      ]
    },
    {
      "cell_type": "markdown",
      "metadata": {
        "id": "To0hV5sMUhd0"
      },
      "source": [
        "## Ejercicio 12\n",
        "Calcula la densidad de población (hab/km^2) en una nueva columna del dataframe `data2` que se llame `Densidad`."
      ]
    },
    {
      "cell_type": "code",
      "metadata": {
        "id": "oYRmxrKWUhd1",
        "outputId": "5947af43-7da1-4b33-fab1-3168d3ef4c7b"
      },
      "source": [
        "data2[\"Densidad poblacion\"] = data2[\"Poblacion\"] / data2[\"Superficie\"]\n",
        "data2"
      ],
      "execution_count": null,
      "outputs": [
        {
          "output_type": "execute_result",
          "data": {
            "text/html": [
              "<div>\n",
              "<style scoped>\n",
              "    .dataframe tbody tr th:only-of-type {\n",
              "        vertical-align: middle;\n",
              "    }\n",
              "\n",
              "    .dataframe tbody tr th {\n",
              "        vertical-align: top;\n",
              "    }\n",
              "\n",
              "    .dataframe thead th {\n",
              "        text-align: right;\n",
              "    }\n",
              "</style>\n",
              "<table border=\"1\" class=\"dataframe\">\n",
              "  <thead>\n",
              "    <tr style=\"text-align: right;\">\n",
              "      <th></th>\n",
              "      <th>Paro</th>\n",
              "      <th>Poblacion</th>\n",
              "      <th>Superficie</th>\n",
              "      <th>Densidad poblacion</th>\n",
              "    </tr>\n",
              "  </thead>\n",
              "  <tbody>\n",
              "    <tr>\n",
              "      <th>Madrid</th>\n",
              "      <td>9.99</td>\n",
              "      <td>6685471</td>\n",
              "      <td>8028</td>\n",
              "      <td>832.769183</td>\n",
              "    </tr>\n",
              "    <tr>\n",
              "      <th>Galicia</th>\n",
              "      <td>11.74</td>\n",
              "      <td>2698764</td>\n",
              "      <td>29575</td>\n",
              "      <td>91.251530</td>\n",
              "    </tr>\n",
              "    <tr>\n",
              "      <th>Murcia</th>\n",
              "      <td>16.08</td>\n",
              "      <td>1494442</td>\n",
              "      <td>11314</td>\n",
              "      <td>132.087856</td>\n",
              "    </tr>\n",
              "    <tr>\n",
              "      <th>Andalucia</th>\n",
              "      <td>20.80</td>\n",
              "      <td>8446561</td>\n",
              "      <td>87599</td>\n",
              "      <td>96.423030</td>\n",
              "    </tr>\n",
              "  </tbody>\n",
              "</table>\n",
              "</div>"
            ],
            "text/plain": [
              "            Paro  Poblacion  Superficie  Densidad poblacion\n",
              "Madrid      9.99    6685471        8028          832.769183\n",
              "Galicia    11.74    2698764       29575           91.251530\n",
              "Murcia     16.08    1494442       11314          132.087856\n",
              "Andalucia  20.80    8446561       87599           96.423030"
            ]
          },
          "metadata": {
            "tags": []
          },
          "execution_count": 25
        }
      ]
    }
  ]
}