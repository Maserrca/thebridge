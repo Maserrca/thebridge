{
  "nbformat": 4,
  "nbformat_minor": 0,
  "metadata": {
    "kernelspec": {
      "display_name": "Python 3",
      "language": "python",
      "name": "python3"
    },
    "language_info": {
      "codemirror_mode": {
        "name": "ipython",
        "version": 3
      },
      "file_extension": ".py",
      "mimetype": "text/x-python",
      "name": "python",
      "nbconvert_exporter": "python",
      "pygments_lexer": "ipython3",
      "version": "3.8.6"
    },
    "colab": {
      "name": "Fictional Army_RES.ipynb",
      "provenance": []
    }
  },
  "cells": [
    {
      "cell_type": "markdown",
      "metadata": {
        "id": "M-gUXKf3UiKj"
      },
      "source": [
        "# 02 - Filtering and Sorting Data"
      ]
    },
    {
      "cell_type": "markdown",
      "metadata": {
        "id": "kyPO47pZUiKu"
      },
      "source": [
        "### Step 1. Import the necessary libraries"
      ]
    },
    {
      "cell_type": "code",
      "metadata": {
        "id": "XeQ_yMLZUiKv"
      },
      "source": [
        "import pandas as pd"
      ],
      "execution_count": null,
      "outputs": []
    },
    {
      "cell_type": "markdown",
      "metadata": {
        "id": "5PqFGjNQUiKw"
      },
      "source": [
        "### Step 2. This is the data given as a dictionary"
      ]
    },
    {
      "cell_type": "code",
      "metadata": {
        "id": "pB8xHn63UiKw"
      },
      "source": [
        "# Create an example dataframe about a fictional army\n",
        "raw_data = {'regiment': ['Nighthawks', 'Nighthawks', 'Nighthawks', 'Nighthawks', 'Dragoons', 'Dragoons', 'Dragoons', 'Dragoons', 'Scouts', 'Scouts', 'Scouts', 'Scouts'],\n",
        "            'company': ['1st', '1st', '2nd', '2nd', '1st', '1st', '2nd', '2nd','1st', '1st', '2nd', '2nd'],\n",
        "            'deaths': [523, 52, 25, 616, 43, 234, 523, 62, 62, 73, 37, 35],\n",
        "            'battles': [5, 42, 2, 2, 4, 7, 8, 3, 4, 7, 8, 9],\n",
        "            'size': [1045, 957, 1099, 1400, 1592, 1006, 987, 849, 973, 1005, 1099, 1523],\n",
        "            'veterans': [1, 5, 62, 26, 73, 37, 949, 48, 48, 435, 63, 345],\n",
        "            'readiness': [1, 2, 3, 3, 2, 1, 2, 3, 2, 1, 2, 3],\n",
        "            'armored': [1, 0, 1, 1, 0, 1, 0, 1, 0, 0, 1, 1],\n",
        "            'deserters': [4, 24, 31, 2, 3, 4, 24, 31, 2, 3, 2, 3],\n",
        "            'origin': ['Arizona', 'California', 'Texas', 'Florida', 'Maine', 'Iowa', 'Alaska', 'Washington', 'Oregon', 'Wyoming', 'Louisana', 'Georgia']}"
      ],
      "execution_count": null,
      "outputs": []
    },
    {
      "cell_type": "markdown",
      "metadata": {
        "id": "Y15DDJ67UiKx"
      },
      "source": [
        "### Step 3. Create a dataframe and assign it to a variable called army. \n",
        "\n",
        "_**Don't forget to include the columns names in the order presented in the dictionary ('regiment', 'company', 'deaths'...) so that the column index order is consistent with the solutions. If omitted, pandas will order the columns alphabetically.**_"
      ]
    },
    {
      "cell_type": "code",
      "metadata": {
        "id": "uTm2WrFpUiKy"
      },
      "source": [
        "army = pd.DataFrame(raw_data)"
      ],
      "execution_count": null,
      "outputs": []
    },
    {
      "cell_type": "code",
      "metadata": {
        "id": "tIrz2H6kUiKy",
        "outputId": "af1d711c-c316-4e7e-d128-b68a1a57ba93"
      },
      "source": [
        "army.head()"
      ],
      "execution_count": null,
      "outputs": [
        {
          "output_type": "execute_result",
          "data": {
            "text/html": [
              "<div>\n",
              "<style scoped>\n",
              "    .dataframe tbody tr th:only-of-type {\n",
              "        vertical-align: middle;\n",
              "    }\n",
              "\n",
              "    .dataframe tbody tr th {\n",
              "        vertical-align: top;\n",
              "    }\n",
              "\n",
              "    .dataframe thead th {\n",
              "        text-align: right;\n",
              "    }\n",
              "</style>\n",
              "<table border=\"1\" class=\"dataframe\">\n",
              "  <thead>\n",
              "    <tr style=\"text-align: right;\">\n",
              "      <th></th>\n",
              "      <th>regiment</th>\n",
              "      <th>company</th>\n",
              "      <th>deaths</th>\n",
              "      <th>battles</th>\n",
              "      <th>size</th>\n",
              "      <th>veterans</th>\n",
              "      <th>readiness</th>\n",
              "      <th>armored</th>\n",
              "      <th>deserters</th>\n",
              "      <th>origin</th>\n",
              "    </tr>\n",
              "  </thead>\n",
              "  <tbody>\n",
              "    <tr>\n",
              "      <th>0</th>\n",
              "      <td>Nighthawks</td>\n",
              "      <td>1st</td>\n",
              "      <td>523</td>\n",
              "      <td>5</td>\n",
              "      <td>1045</td>\n",
              "      <td>1</td>\n",
              "      <td>1</td>\n",
              "      <td>1</td>\n",
              "      <td>4</td>\n",
              "      <td>Arizona</td>\n",
              "    </tr>\n",
              "    <tr>\n",
              "      <th>1</th>\n",
              "      <td>Nighthawks</td>\n",
              "      <td>1st</td>\n",
              "      <td>52</td>\n",
              "      <td>42</td>\n",
              "      <td>957</td>\n",
              "      <td>5</td>\n",
              "      <td>2</td>\n",
              "      <td>0</td>\n",
              "      <td>24</td>\n",
              "      <td>California</td>\n",
              "    </tr>\n",
              "    <tr>\n",
              "      <th>2</th>\n",
              "      <td>Nighthawks</td>\n",
              "      <td>2nd</td>\n",
              "      <td>25</td>\n",
              "      <td>2</td>\n",
              "      <td>1099</td>\n",
              "      <td>62</td>\n",
              "      <td>3</td>\n",
              "      <td>1</td>\n",
              "      <td>31</td>\n",
              "      <td>Texas</td>\n",
              "    </tr>\n",
              "    <tr>\n",
              "      <th>3</th>\n",
              "      <td>Nighthawks</td>\n",
              "      <td>2nd</td>\n",
              "      <td>616</td>\n",
              "      <td>2</td>\n",
              "      <td>1400</td>\n",
              "      <td>26</td>\n",
              "      <td>3</td>\n",
              "      <td>1</td>\n",
              "      <td>2</td>\n",
              "      <td>Florida</td>\n",
              "    </tr>\n",
              "    <tr>\n",
              "      <th>4</th>\n",
              "      <td>Dragoons</td>\n",
              "      <td>1st</td>\n",
              "      <td>43</td>\n",
              "      <td>4</td>\n",
              "      <td>1592</td>\n",
              "      <td>73</td>\n",
              "      <td>2</td>\n",
              "      <td>0</td>\n",
              "      <td>3</td>\n",
              "      <td>Maine</td>\n",
              "    </tr>\n",
              "  </tbody>\n",
              "</table>\n",
              "</div>"
            ],
            "text/plain": [
              "     regiment company  deaths  battles  size  veterans  readiness  armored  \\\n",
              "0  Nighthawks     1st     523        5  1045         1          1        1   \n",
              "1  Nighthawks     1st      52       42   957         5          2        0   \n",
              "2  Nighthawks     2nd      25        2  1099        62          3        1   \n",
              "3  Nighthawks     2nd     616        2  1400        26          3        1   \n",
              "4    Dragoons     1st      43        4  1592        73          2        0   \n",
              "\n",
              "   deserters      origin  \n",
              "0          4     Arizona  \n",
              "1         24  California  \n",
              "2         31       Texas  \n",
              "3          2     Florida  \n",
              "4          3       Maine  "
            ]
          },
          "metadata": {
            "tags": []
          },
          "execution_count": 4
        }
      ]
    },
    {
      "cell_type": "markdown",
      "metadata": {
        "id": "cmoCdnRwUiK0"
      },
      "source": [
        "### Step 4. Set the 'origin' colum as the index of the dataframe"
      ]
    },
    {
      "cell_type": "code",
      "metadata": {
        "id": "NlAEcFN3UiK1"
      },
      "source": [
        "army.set_index(\"origin\", inplace = True)"
      ],
      "execution_count": null,
      "outputs": []
    },
    {
      "cell_type": "markdown",
      "metadata": {
        "id": "UbMDw-YFUiK1"
      },
      "source": [
        "### Step 5. Print only the column veterans"
      ]
    },
    {
      "cell_type": "code",
      "metadata": {
        "id": "IaDqfnaUUiK2",
        "outputId": "d3142c96-4401-45f4-d2e2-63bddb9fbb06"
      },
      "source": [
        "army['veterans']"
      ],
      "execution_count": null,
      "outputs": [
        {
          "output_type": "execute_result",
          "data": {
            "text/plain": [
              "origin\n",
              "Arizona         1\n",
              "California      5\n",
              "Texas          62\n",
              "Florida        26\n",
              "Maine          73\n",
              "Iowa           37\n",
              "Alaska        949\n",
              "Washington     48\n",
              "Oregon         48\n",
              "Wyoming       435\n",
              "Louisana       63\n",
              "Georgia       345\n",
              "Name: veterans, dtype: int64"
            ]
          },
          "metadata": {
            "tags": []
          },
          "execution_count": 6
        }
      ]
    },
    {
      "cell_type": "code",
      "metadata": {
        "id": "C9awskN3UiK3",
        "outputId": "7c323020-32cc-4b8c-f39e-50ddb1da18c4"
      },
      "source": [
        "army.veterans"
      ],
      "execution_count": null,
      "outputs": [
        {
          "output_type": "execute_result",
          "data": {
            "text/plain": [
              "origin\n",
              "Arizona         1\n",
              "California      5\n",
              "Texas          62\n",
              "Florida        26\n",
              "Maine          73\n",
              "Iowa           37\n",
              "Alaska        949\n",
              "Washington     48\n",
              "Oregon         48\n",
              "Wyoming       435\n",
              "Louisana       63\n",
              "Georgia       345\n",
              "Name: veterans, dtype: int64"
            ]
          },
          "metadata": {
            "tags": []
          },
          "execution_count": 7
        }
      ]
    },
    {
      "cell_type": "code",
      "metadata": {
        "id": "6ei0b06PUiK3",
        "outputId": "730ba0ed-813a-4b86-f922-9e0861aab066"
      },
      "source": [
        "army.iloc[:,5]"
      ],
      "execution_count": null,
      "outputs": [
        {
          "output_type": "execute_result",
          "data": {
            "text/plain": [
              "origin\n",
              "Arizona         1\n",
              "California      5\n",
              "Texas          62\n",
              "Florida        26\n",
              "Maine          73\n",
              "Iowa           37\n",
              "Alaska        949\n",
              "Washington     48\n",
              "Oregon         48\n",
              "Wyoming       435\n",
              "Louisana       63\n",
              "Georgia       345\n",
              "Name: veterans, dtype: int64"
            ]
          },
          "metadata": {
            "tags": []
          },
          "execution_count": 8
        }
      ]
    },
    {
      "cell_type": "markdown",
      "metadata": {
        "id": "PrqifhI3UiK4"
      },
      "source": [
        "### Step 6. Print the columns 'veterans' and 'deaths'"
      ]
    },
    {
      "cell_type": "code",
      "metadata": {
        "id": "waVWwl5nUiK5",
        "outputId": "3646a912-37df-4660-c515-face9ca38775"
      },
      "source": [
        "army[[\"veterans\", \"deaths\"]]"
      ],
      "execution_count": null,
      "outputs": [
        {
          "output_type": "execute_result",
          "data": {
            "text/html": [
              "<div>\n",
              "<style scoped>\n",
              "    .dataframe tbody tr th:only-of-type {\n",
              "        vertical-align: middle;\n",
              "    }\n",
              "\n",
              "    .dataframe tbody tr th {\n",
              "        vertical-align: top;\n",
              "    }\n",
              "\n",
              "    .dataframe thead th {\n",
              "        text-align: right;\n",
              "    }\n",
              "</style>\n",
              "<table border=\"1\" class=\"dataframe\">\n",
              "  <thead>\n",
              "    <tr style=\"text-align: right;\">\n",
              "      <th></th>\n",
              "      <th>veterans</th>\n",
              "      <th>deaths</th>\n",
              "    </tr>\n",
              "    <tr>\n",
              "      <th>origin</th>\n",
              "      <th></th>\n",
              "      <th></th>\n",
              "    </tr>\n",
              "  </thead>\n",
              "  <tbody>\n",
              "    <tr>\n",
              "      <th>Arizona</th>\n",
              "      <td>1</td>\n",
              "      <td>523</td>\n",
              "    </tr>\n",
              "    <tr>\n",
              "      <th>California</th>\n",
              "      <td>5</td>\n",
              "      <td>52</td>\n",
              "    </tr>\n",
              "    <tr>\n",
              "      <th>Texas</th>\n",
              "      <td>62</td>\n",
              "      <td>25</td>\n",
              "    </tr>\n",
              "    <tr>\n",
              "      <th>Florida</th>\n",
              "      <td>26</td>\n",
              "      <td>616</td>\n",
              "    </tr>\n",
              "    <tr>\n",
              "      <th>Maine</th>\n",
              "      <td>73</td>\n",
              "      <td>43</td>\n",
              "    </tr>\n",
              "    <tr>\n",
              "      <th>Iowa</th>\n",
              "      <td>37</td>\n",
              "      <td>234</td>\n",
              "    </tr>\n",
              "    <tr>\n",
              "      <th>Alaska</th>\n",
              "      <td>949</td>\n",
              "      <td>523</td>\n",
              "    </tr>\n",
              "    <tr>\n",
              "      <th>Washington</th>\n",
              "      <td>48</td>\n",
              "      <td>62</td>\n",
              "    </tr>\n",
              "    <tr>\n",
              "      <th>Oregon</th>\n",
              "      <td>48</td>\n",
              "      <td>62</td>\n",
              "    </tr>\n",
              "    <tr>\n",
              "      <th>Wyoming</th>\n",
              "      <td>435</td>\n",
              "      <td>73</td>\n",
              "    </tr>\n",
              "    <tr>\n",
              "      <th>Louisana</th>\n",
              "      <td>63</td>\n",
              "      <td>37</td>\n",
              "    </tr>\n",
              "    <tr>\n",
              "      <th>Georgia</th>\n",
              "      <td>345</td>\n",
              "      <td>35</td>\n",
              "    </tr>\n",
              "  </tbody>\n",
              "</table>\n",
              "</div>"
            ],
            "text/plain": [
              "            veterans  deaths\n",
              "origin                      \n",
              "Arizona            1     523\n",
              "California         5      52\n",
              "Texas             62      25\n",
              "Florida           26     616\n",
              "Maine             73      43\n",
              "Iowa              37     234\n",
              "Alaska           949     523\n",
              "Washington        48      62\n",
              "Oregon            48      62\n",
              "Wyoming          435      73\n",
              "Louisana          63      37\n",
              "Georgia          345      35"
            ]
          },
          "metadata": {
            "tags": []
          },
          "execution_count": 9
        }
      ]
    },
    {
      "cell_type": "markdown",
      "metadata": {
        "id": "x26CLGJ8UiK6"
      },
      "source": [
        "### Step 7. Print the name of all the columns"
      ]
    },
    {
      "cell_type": "code",
      "metadata": {
        "id": "zeJZfUdEUiK7",
        "outputId": "c21e1795-dfa1-40c8-e3d9-639de9fab844"
      },
      "source": [
        "army.columns"
      ],
      "execution_count": null,
      "outputs": [
        {
          "output_type": "execute_result",
          "data": {
            "text/plain": [
              "Index(['regiment', 'company', 'deaths', 'battles', 'size', 'veterans',\n",
              "       'readiness', 'armored', 'deserters'],\n",
              "      dtype='object')"
            ]
          },
          "metadata": {
            "tags": []
          },
          "execution_count": 10
        }
      ]
    },
    {
      "cell_type": "markdown",
      "metadata": {
        "id": "R30gvIzoUiK7"
      },
      "source": [
        "### Step 8. Select the 'deaths', 'size' and 'deserters' columns from Maine and Alaska"
      ]
    },
    {
      "cell_type": "code",
      "metadata": {
        "id": "7RQW44f-UiK8",
        "outputId": "5f5778ce-43b0-479d-80f9-0bdd69c02f13"
      },
      "source": [
        "army.loc[[\"Maine\", \"Alaska\"], [\"deaths\", \"size\", \"deserters\"]]"
      ],
      "execution_count": null,
      "outputs": [
        {
          "output_type": "execute_result",
          "data": {
            "text/html": [
              "<div>\n",
              "<style scoped>\n",
              "    .dataframe tbody tr th:only-of-type {\n",
              "        vertical-align: middle;\n",
              "    }\n",
              "\n",
              "    .dataframe tbody tr th {\n",
              "        vertical-align: top;\n",
              "    }\n",
              "\n",
              "    .dataframe thead th {\n",
              "        text-align: right;\n",
              "    }\n",
              "</style>\n",
              "<table border=\"1\" class=\"dataframe\">\n",
              "  <thead>\n",
              "    <tr style=\"text-align: right;\">\n",
              "      <th></th>\n",
              "      <th>deaths</th>\n",
              "      <th>size</th>\n",
              "      <th>deserters</th>\n",
              "    </tr>\n",
              "    <tr>\n",
              "      <th>origin</th>\n",
              "      <th></th>\n",
              "      <th></th>\n",
              "      <th></th>\n",
              "    </tr>\n",
              "  </thead>\n",
              "  <tbody>\n",
              "    <tr>\n",
              "      <th>Maine</th>\n",
              "      <td>43</td>\n",
              "      <td>1592</td>\n",
              "      <td>3</td>\n",
              "    </tr>\n",
              "    <tr>\n",
              "      <th>Alaska</th>\n",
              "      <td>523</td>\n",
              "      <td>987</td>\n",
              "      <td>24</td>\n",
              "    </tr>\n",
              "  </tbody>\n",
              "</table>\n",
              "</div>"
            ],
            "text/plain": [
              "        deaths  size  deserters\n",
              "origin                         \n",
              "Maine       43  1592          3\n",
              "Alaska     523   987         24"
            ]
          },
          "metadata": {
            "tags": []
          },
          "execution_count": 11
        }
      ]
    },
    {
      "cell_type": "markdown",
      "metadata": {
        "id": "CM6vNgEgUiK8"
      },
      "source": [
        "### Step 9. Select the rows 3 to 7 and the columns 3 to 6"
      ]
    },
    {
      "cell_type": "code",
      "metadata": {
        "id": "QK3LGchVUiK9",
        "outputId": "f905628b-5fbc-4775-d910-22eaf18ffe8c"
      },
      "source": [
        "army.iloc[3:8, 3:7]"
      ],
      "execution_count": null,
      "outputs": [
        {
          "output_type": "execute_result",
          "data": {
            "text/html": [
              "<div>\n",
              "<style scoped>\n",
              "    .dataframe tbody tr th:only-of-type {\n",
              "        vertical-align: middle;\n",
              "    }\n",
              "\n",
              "    .dataframe tbody tr th {\n",
              "        vertical-align: top;\n",
              "    }\n",
              "\n",
              "    .dataframe thead th {\n",
              "        text-align: right;\n",
              "    }\n",
              "</style>\n",
              "<table border=\"1\" class=\"dataframe\">\n",
              "  <thead>\n",
              "    <tr style=\"text-align: right;\">\n",
              "      <th></th>\n",
              "      <th>battles</th>\n",
              "      <th>size</th>\n",
              "      <th>veterans</th>\n",
              "      <th>readiness</th>\n",
              "    </tr>\n",
              "    <tr>\n",
              "      <th>origin</th>\n",
              "      <th></th>\n",
              "      <th></th>\n",
              "      <th></th>\n",
              "      <th></th>\n",
              "    </tr>\n",
              "  </thead>\n",
              "  <tbody>\n",
              "    <tr>\n",
              "      <th>Florida</th>\n",
              "      <td>2</td>\n",
              "      <td>1400</td>\n",
              "      <td>26</td>\n",
              "      <td>3</td>\n",
              "    </tr>\n",
              "    <tr>\n",
              "      <th>Maine</th>\n",
              "      <td>4</td>\n",
              "      <td>1592</td>\n",
              "      <td>73</td>\n",
              "      <td>2</td>\n",
              "    </tr>\n",
              "    <tr>\n",
              "      <th>Iowa</th>\n",
              "      <td>7</td>\n",
              "      <td>1006</td>\n",
              "      <td>37</td>\n",
              "      <td>1</td>\n",
              "    </tr>\n",
              "    <tr>\n",
              "      <th>Alaska</th>\n",
              "      <td>8</td>\n",
              "      <td>987</td>\n",
              "      <td>949</td>\n",
              "      <td>2</td>\n",
              "    </tr>\n",
              "    <tr>\n",
              "      <th>Washington</th>\n",
              "      <td>3</td>\n",
              "      <td>849</td>\n",
              "      <td>48</td>\n",
              "      <td>3</td>\n",
              "    </tr>\n",
              "  </tbody>\n",
              "</table>\n",
              "</div>"
            ],
            "text/plain": [
              "            battles  size  veterans  readiness\n",
              "origin                                        \n",
              "Florida           2  1400        26          3\n",
              "Maine             4  1592        73          2\n",
              "Iowa              7  1006        37          1\n",
              "Alaska            8   987       949          2\n",
              "Washington        3   849        48          3"
            ]
          },
          "metadata": {
            "tags": []
          },
          "execution_count": 14
        }
      ]
    },
    {
      "cell_type": "markdown",
      "metadata": {
        "id": "mlJrfWG6UiK9"
      },
      "source": [
        "### Step 10. Select every row after the fourth row and all columns"
      ]
    },
    {
      "cell_type": "code",
      "metadata": {
        "id": "QSnEcFzFUiK-",
        "outputId": "c53cc959-9984-4da9-f437-fe6af9e4948c"
      },
      "source": [
        "army.iloc[4:]"
      ],
      "execution_count": null,
      "outputs": [
        {
          "output_type": "execute_result",
          "data": {
            "text/html": [
              "<div>\n",
              "<style scoped>\n",
              "    .dataframe tbody tr th:only-of-type {\n",
              "        vertical-align: middle;\n",
              "    }\n",
              "\n",
              "    .dataframe tbody tr th {\n",
              "        vertical-align: top;\n",
              "    }\n",
              "\n",
              "    .dataframe thead th {\n",
              "        text-align: right;\n",
              "    }\n",
              "</style>\n",
              "<table border=\"1\" class=\"dataframe\">\n",
              "  <thead>\n",
              "    <tr style=\"text-align: right;\">\n",
              "      <th></th>\n",
              "      <th>regiment</th>\n",
              "      <th>company</th>\n",
              "      <th>deaths</th>\n",
              "      <th>battles</th>\n",
              "      <th>size</th>\n",
              "      <th>veterans</th>\n",
              "      <th>readiness</th>\n",
              "      <th>armored</th>\n",
              "      <th>deserters</th>\n",
              "    </tr>\n",
              "    <tr>\n",
              "      <th>origin</th>\n",
              "      <th></th>\n",
              "      <th></th>\n",
              "      <th></th>\n",
              "      <th></th>\n",
              "      <th></th>\n",
              "      <th></th>\n",
              "      <th></th>\n",
              "      <th></th>\n",
              "      <th></th>\n",
              "    </tr>\n",
              "  </thead>\n",
              "  <tbody>\n",
              "    <tr>\n",
              "      <th>Maine</th>\n",
              "      <td>Dragoons</td>\n",
              "      <td>1st</td>\n",
              "      <td>43</td>\n",
              "      <td>4</td>\n",
              "      <td>1592</td>\n",
              "      <td>73</td>\n",
              "      <td>2</td>\n",
              "      <td>0</td>\n",
              "      <td>3</td>\n",
              "    </tr>\n",
              "    <tr>\n",
              "      <th>Iowa</th>\n",
              "      <td>Dragoons</td>\n",
              "      <td>1st</td>\n",
              "      <td>234</td>\n",
              "      <td>7</td>\n",
              "      <td>1006</td>\n",
              "      <td>37</td>\n",
              "      <td>1</td>\n",
              "      <td>1</td>\n",
              "      <td>4</td>\n",
              "    </tr>\n",
              "    <tr>\n",
              "      <th>Alaska</th>\n",
              "      <td>Dragoons</td>\n",
              "      <td>2nd</td>\n",
              "      <td>523</td>\n",
              "      <td>8</td>\n",
              "      <td>987</td>\n",
              "      <td>949</td>\n",
              "      <td>2</td>\n",
              "      <td>0</td>\n",
              "      <td>24</td>\n",
              "    </tr>\n",
              "    <tr>\n",
              "      <th>Washington</th>\n",
              "      <td>Dragoons</td>\n",
              "      <td>2nd</td>\n",
              "      <td>62</td>\n",
              "      <td>3</td>\n",
              "      <td>849</td>\n",
              "      <td>48</td>\n",
              "      <td>3</td>\n",
              "      <td>1</td>\n",
              "      <td>31</td>\n",
              "    </tr>\n",
              "    <tr>\n",
              "      <th>Oregon</th>\n",
              "      <td>Scouts</td>\n",
              "      <td>1st</td>\n",
              "      <td>62</td>\n",
              "      <td>4</td>\n",
              "      <td>973</td>\n",
              "      <td>48</td>\n",
              "      <td>2</td>\n",
              "      <td>0</td>\n",
              "      <td>2</td>\n",
              "    </tr>\n",
              "    <tr>\n",
              "      <th>Wyoming</th>\n",
              "      <td>Scouts</td>\n",
              "      <td>1st</td>\n",
              "      <td>73</td>\n",
              "      <td>7</td>\n",
              "      <td>1005</td>\n",
              "      <td>435</td>\n",
              "      <td>1</td>\n",
              "      <td>0</td>\n",
              "      <td>3</td>\n",
              "    </tr>\n",
              "    <tr>\n",
              "      <th>Louisana</th>\n",
              "      <td>Scouts</td>\n",
              "      <td>2nd</td>\n",
              "      <td>37</td>\n",
              "      <td>8</td>\n",
              "      <td>1099</td>\n",
              "      <td>63</td>\n",
              "      <td>2</td>\n",
              "      <td>1</td>\n",
              "      <td>2</td>\n",
              "    </tr>\n",
              "    <tr>\n",
              "      <th>Georgia</th>\n",
              "      <td>Scouts</td>\n",
              "      <td>2nd</td>\n",
              "      <td>35</td>\n",
              "      <td>9</td>\n",
              "      <td>1523</td>\n",
              "      <td>345</td>\n",
              "      <td>3</td>\n",
              "      <td>1</td>\n",
              "      <td>3</td>\n",
              "    </tr>\n",
              "  </tbody>\n",
              "</table>\n",
              "</div>"
            ],
            "text/plain": [
              "            regiment company  deaths  battles  size  veterans  readiness  \\\n",
              "origin                                                                     \n",
              "Maine       Dragoons     1st      43        4  1592        73          2   \n",
              "Iowa        Dragoons     1st     234        7  1006        37          1   \n",
              "Alaska      Dragoons     2nd     523        8   987       949          2   \n",
              "Washington  Dragoons     2nd      62        3   849        48          3   \n",
              "Oregon        Scouts     1st      62        4   973        48          2   \n",
              "Wyoming       Scouts     1st      73        7  1005       435          1   \n",
              "Louisana      Scouts     2nd      37        8  1099        63          2   \n",
              "Georgia       Scouts     2nd      35        9  1523       345          3   \n",
              "\n",
              "            armored  deserters  \n",
              "origin                          \n",
              "Maine             0          3  \n",
              "Iowa              1          4  \n",
              "Alaska            0         24  \n",
              "Washington        1         31  \n",
              "Oregon            0          2  \n",
              "Wyoming           0          3  \n",
              "Louisana          1          2  \n",
              "Georgia           1          3  "
            ]
          },
          "metadata": {
            "tags": []
          },
          "execution_count": 18
        }
      ]
    },
    {
      "cell_type": "markdown",
      "metadata": {
        "id": "Ve9KyRx1UiK-"
      },
      "source": [
        "### Step 11. Select every row up to the 4th row and all columns"
      ]
    },
    {
      "cell_type": "code",
      "metadata": {
        "id": "fRaua9llUiK_",
        "outputId": "572302e3-3d37-491a-b53d-d5d1afdef362"
      },
      "source": [
        "army.iloc[:4]"
      ],
      "execution_count": null,
      "outputs": [
        {
          "output_type": "execute_result",
          "data": {
            "text/html": [
              "<div>\n",
              "<style scoped>\n",
              "    .dataframe tbody tr th:only-of-type {\n",
              "        vertical-align: middle;\n",
              "    }\n",
              "\n",
              "    .dataframe tbody tr th {\n",
              "        vertical-align: top;\n",
              "    }\n",
              "\n",
              "    .dataframe thead th {\n",
              "        text-align: right;\n",
              "    }\n",
              "</style>\n",
              "<table border=\"1\" class=\"dataframe\">\n",
              "  <thead>\n",
              "    <tr style=\"text-align: right;\">\n",
              "      <th></th>\n",
              "      <th>regiment</th>\n",
              "      <th>company</th>\n",
              "      <th>deaths</th>\n",
              "      <th>battles</th>\n",
              "      <th>size</th>\n",
              "      <th>veterans</th>\n",
              "      <th>readiness</th>\n",
              "      <th>armored</th>\n",
              "      <th>deserters</th>\n",
              "    </tr>\n",
              "    <tr>\n",
              "      <th>origin</th>\n",
              "      <th></th>\n",
              "      <th></th>\n",
              "      <th></th>\n",
              "      <th></th>\n",
              "      <th></th>\n",
              "      <th></th>\n",
              "      <th></th>\n",
              "      <th></th>\n",
              "      <th></th>\n",
              "    </tr>\n",
              "  </thead>\n",
              "  <tbody>\n",
              "    <tr>\n",
              "      <th>Arizona</th>\n",
              "      <td>Nighthawks</td>\n",
              "      <td>1st</td>\n",
              "      <td>523</td>\n",
              "      <td>5</td>\n",
              "      <td>1045</td>\n",
              "      <td>1</td>\n",
              "      <td>1</td>\n",
              "      <td>1</td>\n",
              "      <td>4</td>\n",
              "    </tr>\n",
              "    <tr>\n",
              "      <th>California</th>\n",
              "      <td>Nighthawks</td>\n",
              "      <td>1st</td>\n",
              "      <td>52</td>\n",
              "      <td>42</td>\n",
              "      <td>957</td>\n",
              "      <td>5</td>\n",
              "      <td>2</td>\n",
              "      <td>0</td>\n",
              "      <td>24</td>\n",
              "    </tr>\n",
              "    <tr>\n",
              "      <th>Texas</th>\n",
              "      <td>Nighthawks</td>\n",
              "      <td>2nd</td>\n",
              "      <td>25</td>\n",
              "      <td>2</td>\n",
              "      <td>1099</td>\n",
              "      <td>62</td>\n",
              "      <td>3</td>\n",
              "      <td>1</td>\n",
              "      <td>31</td>\n",
              "    </tr>\n",
              "    <tr>\n",
              "      <th>Florida</th>\n",
              "      <td>Nighthawks</td>\n",
              "      <td>2nd</td>\n",
              "      <td>616</td>\n",
              "      <td>2</td>\n",
              "      <td>1400</td>\n",
              "      <td>26</td>\n",
              "      <td>3</td>\n",
              "      <td>1</td>\n",
              "      <td>2</td>\n",
              "    </tr>\n",
              "  </tbody>\n",
              "</table>\n",
              "</div>"
            ],
            "text/plain": [
              "              regiment company  deaths  battles  size  veterans  readiness  \\\n",
              "origin                                                                       \n",
              "Arizona     Nighthawks     1st     523        5  1045         1          1   \n",
              "California  Nighthawks     1st      52       42   957         5          2   \n",
              "Texas       Nighthawks     2nd      25        2  1099        62          3   \n",
              "Florida     Nighthawks     2nd     616        2  1400        26          3   \n",
              "\n",
              "            armored  deserters  \n",
              "origin                          \n",
              "Arizona           1          4  \n",
              "California        0         24  \n",
              "Texas             1         31  \n",
              "Florida           1          2  "
            ]
          },
          "metadata": {
            "tags": []
          },
          "execution_count": 17
        }
      ]
    },
    {
      "cell_type": "markdown",
      "metadata": {
        "id": "MG-WhYITUiK_"
      },
      "source": [
        "### Step 12. Select the 3rd column up to the 7th column"
      ]
    },
    {
      "cell_type": "code",
      "metadata": {
        "id": "wNkupFumUiLA",
        "outputId": "10cc4ce8-eb59-43cb-d5d0-0637bb1410ce"
      },
      "source": [
        "army.iloc[:, 2:8]"
      ],
      "execution_count": null,
      "outputs": [
        {
          "output_type": "execute_result",
          "data": {
            "text/html": [
              "<div>\n",
              "<style scoped>\n",
              "    .dataframe tbody tr th:only-of-type {\n",
              "        vertical-align: middle;\n",
              "    }\n",
              "\n",
              "    .dataframe tbody tr th {\n",
              "        vertical-align: top;\n",
              "    }\n",
              "\n",
              "    .dataframe thead th {\n",
              "        text-align: right;\n",
              "    }\n",
              "</style>\n",
              "<table border=\"1\" class=\"dataframe\">\n",
              "  <thead>\n",
              "    <tr style=\"text-align: right;\">\n",
              "      <th></th>\n",
              "      <th>deaths</th>\n",
              "      <th>battles</th>\n",
              "      <th>size</th>\n",
              "      <th>veterans</th>\n",
              "      <th>readiness</th>\n",
              "      <th>armored</th>\n",
              "    </tr>\n",
              "    <tr>\n",
              "      <th>origin</th>\n",
              "      <th></th>\n",
              "      <th></th>\n",
              "      <th></th>\n",
              "      <th></th>\n",
              "      <th></th>\n",
              "      <th></th>\n",
              "    </tr>\n",
              "  </thead>\n",
              "  <tbody>\n",
              "    <tr>\n",
              "      <th>Arizona</th>\n",
              "      <td>523</td>\n",
              "      <td>5</td>\n",
              "      <td>1045</td>\n",
              "      <td>1</td>\n",
              "      <td>1</td>\n",
              "      <td>1</td>\n",
              "    </tr>\n",
              "    <tr>\n",
              "      <th>California</th>\n",
              "      <td>52</td>\n",
              "      <td>42</td>\n",
              "      <td>957</td>\n",
              "      <td>5</td>\n",
              "      <td>2</td>\n",
              "      <td>0</td>\n",
              "    </tr>\n",
              "    <tr>\n",
              "      <th>Texas</th>\n",
              "      <td>25</td>\n",
              "      <td>2</td>\n",
              "      <td>1099</td>\n",
              "      <td>62</td>\n",
              "      <td>3</td>\n",
              "      <td>1</td>\n",
              "    </tr>\n",
              "    <tr>\n",
              "      <th>Florida</th>\n",
              "      <td>616</td>\n",
              "      <td>2</td>\n",
              "      <td>1400</td>\n",
              "      <td>26</td>\n",
              "      <td>3</td>\n",
              "      <td>1</td>\n",
              "    </tr>\n",
              "    <tr>\n",
              "      <th>Maine</th>\n",
              "      <td>43</td>\n",
              "      <td>4</td>\n",
              "      <td>1592</td>\n",
              "      <td>73</td>\n",
              "      <td>2</td>\n",
              "      <td>0</td>\n",
              "    </tr>\n",
              "    <tr>\n",
              "      <th>Iowa</th>\n",
              "      <td>234</td>\n",
              "      <td>7</td>\n",
              "      <td>1006</td>\n",
              "      <td>37</td>\n",
              "      <td>1</td>\n",
              "      <td>1</td>\n",
              "    </tr>\n",
              "    <tr>\n",
              "      <th>Alaska</th>\n",
              "      <td>523</td>\n",
              "      <td>8</td>\n",
              "      <td>987</td>\n",
              "      <td>949</td>\n",
              "      <td>2</td>\n",
              "      <td>0</td>\n",
              "    </tr>\n",
              "    <tr>\n",
              "      <th>Washington</th>\n",
              "      <td>62</td>\n",
              "      <td>3</td>\n",
              "      <td>849</td>\n",
              "      <td>48</td>\n",
              "      <td>3</td>\n",
              "      <td>1</td>\n",
              "    </tr>\n",
              "    <tr>\n",
              "      <th>Oregon</th>\n",
              "      <td>62</td>\n",
              "      <td>4</td>\n",
              "      <td>973</td>\n",
              "      <td>48</td>\n",
              "      <td>2</td>\n",
              "      <td>0</td>\n",
              "    </tr>\n",
              "    <tr>\n",
              "      <th>Wyoming</th>\n",
              "      <td>73</td>\n",
              "      <td>7</td>\n",
              "      <td>1005</td>\n",
              "      <td>435</td>\n",
              "      <td>1</td>\n",
              "      <td>0</td>\n",
              "    </tr>\n",
              "    <tr>\n",
              "      <th>Louisana</th>\n",
              "      <td>37</td>\n",
              "      <td>8</td>\n",
              "      <td>1099</td>\n",
              "      <td>63</td>\n",
              "      <td>2</td>\n",
              "      <td>1</td>\n",
              "    </tr>\n",
              "    <tr>\n",
              "      <th>Georgia</th>\n",
              "      <td>35</td>\n",
              "      <td>9</td>\n",
              "      <td>1523</td>\n",
              "      <td>345</td>\n",
              "      <td>3</td>\n",
              "      <td>1</td>\n",
              "    </tr>\n",
              "  </tbody>\n",
              "</table>\n",
              "</div>"
            ],
            "text/plain": [
              "            deaths  battles  size  veterans  readiness  armored\n",
              "origin                                                         \n",
              "Arizona        523        5  1045         1          1        1\n",
              "California      52       42   957         5          2        0\n",
              "Texas           25        2  1099        62          3        1\n",
              "Florida        616        2  1400        26          3        1\n",
              "Maine           43        4  1592        73          2        0\n",
              "Iowa           234        7  1006        37          1        1\n",
              "Alaska         523        8   987       949          2        0\n",
              "Washington      62        3   849        48          3        1\n",
              "Oregon          62        4   973        48          2        0\n",
              "Wyoming         73        7  1005       435          1        0\n",
              "Louisana        37        8  1099        63          2        1\n",
              "Georgia         35        9  1523       345          3        1"
            ]
          },
          "metadata": {
            "tags": []
          },
          "execution_count": 19
        }
      ]
    },
    {
      "cell_type": "markdown",
      "metadata": {
        "id": "DGJjWQeQUiLA"
      },
      "source": [
        "### Step 13. Select rows where df.deaths is greater than 50"
      ]
    },
    {
      "cell_type": "code",
      "metadata": {
        "id": "4CG-_nQMUiLB",
        "outputId": "c15901a5-ef07-47b2-908c-5289d7e47624"
      },
      "source": [
        "army.loc[(army.deaths > 50)]"
      ],
      "execution_count": null,
      "outputs": [
        {
          "output_type": "execute_result",
          "data": {
            "text/html": [
              "<div>\n",
              "<style scoped>\n",
              "    .dataframe tbody tr th:only-of-type {\n",
              "        vertical-align: middle;\n",
              "    }\n",
              "\n",
              "    .dataframe tbody tr th {\n",
              "        vertical-align: top;\n",
              "    }\n",
              "\n",
              "    .dataframe thead th {\n",
              "        text-align: right;\n",
              "    }\n",
              "</style>\n",
              "<table border=\"1\" class=\"dataframe\">\n",
              "  <thead>\n",
              "    <tr style=\"text-align: right;\">\n",
              "      <th></th>\n",
              "      <th>regiment</th>\n",
              "      <th>company</th>\n",
              "      <th>deaths</th>\n",
              "      <th>battles</th>\n",
              "      <th>size</th>\n",
              "      <th>veterans</th>\n",
              "      <th>readiness</th>\n",
              "      <th>armored</th>\n",
              "      <th>deserters</th>\n",
              "    </tr>\n",
              "    <tr>\n",
              "      <th>origin</th>\n",
              "      <th></th>\n",
              "      <th></th>\n",
              "      <th></th>\n",
              "      <th></th>\n",
              "      <th></th>\n",
              "      <th></th>\n",
              "      <th></th>\n",
              "      <th></th>\n",
              "      <th></th>\n",
              "    </tr>\n",
              "  </thead>\n",
              "  <tbody>\n",
              "    <tr>\n",
              "      <th>Arizona</th>\n",
              "      <td>Nighthawks</td>\n",
              "      <td>1st</td>\n",
              "      <td>523</td>\n",
              "      <td>5</td>\n",
              "      <td>1045</td>\n",
              "      <td>1</td>\n",
              "      <td>1</td>\n",
              "      <td>1</td>\n",
              "      <td>4</td>\n",
              "    </tr>\n",
              "    <tr>\n",
              "      <th>California</th>\n",
              "      <td>Nighthawks</td>\n",
              "      <td>1st</td>\n",
              "      <td>52</td>\n",
              "      <td>42</td>\n",
              "      <td>957</td>\n",
              "      <td>5</td>\n",
              "      <td>2</td>\n",
              "      <td>0</td>\n",
              "      <td>24</td>\n",
              "    </tr>\n",
              "    <tr>\n",
              "      <th>Florida</th>\n",
              "      <td>Nighthawks</td>\n",
              "      <td>2nd</td>\n",
              "      <td>616</td>\n",
              "      <td>2</td>\n",
              "      <td>1400</td>\n",
              "      <td>26</td>\n",
              "      <td>3</td>\n",
              "      <td>1</td>\n",
              "      <td>2</td>\n",
              "    </tr>\n",
              "    <tr>\n",
              "      <th>Iowa</th>\n",
              "      <td>Dragoons</td>\n",
              "      <td>1st</td>\n",
              "      <td>234</td>\n",
              "      <td>7</td>\n",
              "      <td>1006</td>\n",
              "      <td>37</td>\n",
              "      <td>1</td>\n",
              "      <td>1</td>\n",
              "      <td>4</td>\n",
              "    </tr>\n",
              "    <tr>\n",
              "      <th>Alaska</th>\n",
              "      <td>Dragoons</td>\n",
              "      <td>2nd</td>\n",
              "      <td>523</td>\n",
              "      <td>8</td>\n",
              "      <td>987</td>\n",
              "      <td>949</td>\n",
              "      <td>2</td>\n",
              "      <td>0</td>\n",
              "      <td>24</td>\n",
              "    </tr>\n",
              "    <tr>\n",
              "      <th>Washington</th>\n",
              "      <td>Dragoons</td>\n",
              "      <td>2nd</td>\n",
              "      <td>62</td>\n",
              "      <td>3</td>\n",
              "      <td>849</td>\n",
              "      <td>48</td>\n",
              "      <td>3</td>\n",
              "      <td>1</td>\n",
              "      <td>31</td>\n",
              "    </tr>\n",
              "    <tr>\n",
              "      <th>Oregon</th>\n",
              "      <td>Scouts</td>\n",
              "      <td>1st</td>\n",
              "      <td>62</td>\n",
              "      <td>4</td>\n",
              "      <td>973</td>\n",
              "      <td>48</td>\n",
              "      <td>2</td>\n",
              "      <td>0</td>\n",
              "      <td>2</td>\n",
              "    </tr>\n",
              "    <tr>\n",
              "      <th>Wyoming</th>\n",
              "      <td>Scouts</td>\n",
              "      <td>1st</td>\n",
              "      <td>73</td>\n",
              "      <td>7</td>\n",
              "      <td>1005</td>\n",
              "      <td>435</td>\n",
              "      <td>1</td>\n",
              "      <td>0</td>\n",
              "      <td>3</td>\n",
              "    </tr>\n",
              "  </tbody>\n",
              "</table>\n",
              "</div>"
            ],
            "text/plain": [
              "              regiment company  deaths  battles  size  veterans  readiness  \\\n",
              "origin                                                                       \n",
              "Arizona     Nighthawks     1st     523        5  1045         1          1   \n",
              "California  Nighthawks     1st      52       42   957         5          2   \n",
              "Florida     Nighthawks     2nd     616        2  1400        26          3   \n",
              "Iowa          Dragoons     1st     234        7  1006        37          1   \n",
              "Alaska        Dragoons     2nd     523        8   987       949          2   \n",
              "Washington    Dragoons     2nd      62        3   849        48          3   \n",
              "Oregon          Scouts     1st      62        4   973        48          2   \n",
              "Wyoming         Scouts     1st      73        7  1005       435          1   \n",
              "\n",
              "            armored  deserters  \n",
              "origin                          \n",
              "Arizona           1          4  \n",
              "California        0         24  \n",
              "Florida           1          2  \n",
              "Iowa              1          4  \n",
              "Alaska            0         24  \n",
              "Washington        1         31  \n",
              "Oregon            0          2  \n",
              "Wyoming           0          3  "
            ]
          },
          "metadata": {
            "tags": []
          },
          "execution_count": 20
        }
      ]
    },
    {
      "cell_type": "markdown",
      "metadata": {
        "id": "PGeBfFOcUiLB"
      },
      "source": [
        "### Step 14. Select rows where df.deaths is greater than 500 or less than 50"
      ]
    },
    {
      "cell_type": "code",
      "metadata": {
        "id": "UiLfmqVZUiLC",
        "outputId": "896bb9d5-9782-41f9-f6f1-607c379e9e77"
      },
      "source": [
        "army.loc[(army.deaths < 50) | (army.deaths > 500)]"
      ],
      "execution_count": null,
      "outputs": [
        {
          "output_type": "execute_result",
          "data": {
            "text/html": [
              "<div>\n",
              "<style scoped>\n",
              "    .dataframe tbody tr th:only-of-type {\n",
              "        vertical-align: middle;\n",
              "    }\n",
              "\n",
              "    .dataframe tbody tr th {\n",
              "        vertical-align: top;\n",
              "    }\n",
              "\n",
              "    .dataframe thead th {\n",
              "        text-align: right;\n",
              "    }\n",
              "</style>\n",
              "<table border=\"1\" class=\"dataframe\">\n",
              "  <thead>\n",
              "    <tr style=\"text-align: right;\">\n",
              "      <th></th>\n",
              "      <th>regiment</th>\n",
              "      <th>company</th>\n",
              "      <th>deaths</th>\n",
              "      <th>battles</th>\n",
              "      <th>size</th>\n",
              "      <th>veterans</th>\n",
              "      <th>readiness</th>\n",
              "      <th>armored</th>\n",
              "      <th>deserters</th>\n",
              "    </tr>\n",
              "    <tr>\n",
              "      <th>origin</th>\n",
              "      <th></th>\n",
              "      <th></th>\n",
              "      <th></th>\n",
              "      <th></th>\n",
              "      <th></th>\n",
              "      <th></th>\n",
              "      <th></th>\n",
              "      <th></th>\n",
              "      <th></th>\n",
              "    </tr>\n",
              "  </thead>\n",
              "  <tbody>\n",
              "    <tr>\n",
              "      <th>Arizona</th>\n",
              "      <td>Nighthawks</td>\n",
              "      <td>1st</td>\n",
              "      <td>523</td>\n",
              "      <td>5</td>\n",
              "      <td>1045</td>\n",
              "      <td>1</td>\n",
              "      <td>1</td>\n",
              "      <td>1</td>\n",
              "      <td>4</td>\n",
              "    </tr>\n",
              "    <tr>\n",
              "      <th>Texas</th>\n",
              "      <td>Nighthawks</td>\n",
              "      <td>2nd</td>\n",
              "      <td>25</td>\n",
              "      <td>2</td>\n",
              "      <td>1099</td>\n",
              "      <td>62</td>\n",
              "      <td>3</td>\n",
              "      <td>1</td>\n",
              "      <td>31</td>\n",
              "    </tr>\n",
              "    <tr>\n",
              "      <th>Florida</th>\n",
              "      <td>Nighthawks</td>\n",
              "      <td>2nd</td>\n",
              "      <td>616</td>\n",
              "      <td>2</td>\n",
              "      <td>1400</td>\n",
              "      <td>26</td>\n",
              "      <td>3</td>\n",
              "      <td>1</td>\n",
              "      <td>2</td>\n",
              "    </tr>\n",
              "    <tr>\n",
              "      <th>Maine</th>\n",
              "      <td>Dragoons</td>\n",
              "      <td>1st</td>\n",
              "      <td>43</td>\n",
              "      <td>4</td>\n",
              "      <td>1592</td>\n",
              "      <td>73</td>\n",
              "      <td>2</td>\n",
              "      <td>0</td>\n",
              "      <td>3</td>\n",
              "    </tr>\n",
              "    <tr>\n",
              "      <th>Alaska</th>\n",
              "      <td>Dragoons</td>\n",
              "      <td>2nd</td>\n",
              "      <td>523</td>\n",
              "      <td>8</td>\n",
              "      <td>987</td>\n",
              "      <td>949</td>\n",
              "      <td>2</td>\n",
              "      <td>0</td>\n",
              "      <td>24</td>\n",
              "    </tr>\n",
              "    <tr>\n",
              "      <th>Louisana</th>\n",
              "      <td>Scouts</td>\n",
              "      <td>2nd</td>\n",
              "      <td>37</td>\n",
              "      <td>8</td>\n",
              "      <td>1099</td>\n",
              "      <td>63</td>\n",
              "      <td>2</td>\n",
              "      <td>1</td>\n",
              "      <td>2</td>\n",
              "    </tr>\n",
              "    <tr>\n",
              "      <th>Georgia</th>\n",
              "      <td>Scouts</td>\n",
              "      <td>2nd</td>\n",
              "      <td>35</td>\n",
              "      <td>9</td>\n",
              "      <td>1523</td>\n",
              "      <td>345</td>\n",
              "      <td>3</td>\n",
              "      <td>1</td>\n",
              "      <td>3</td>\n",
              "    </tr>\n",
              "  </tbody>\n",
              "</table>\n",
              "</div>"
            ],
            "text/plain": [
              "            regiment company  deaths  battles  size  veterans  readiness  \\\n",
              "origin                                                                     \n",
              "Arizona   Nighthawks     1st     523        5  1045         1          1   \n",
              "Texas     Nighthawks     2nd      25        2  1099        62          3   \n",
              "Florida   Nighthawks     2nd     616        2  1400        26          3   \n",
              "Maine       Dragoons     1st      43        4  1592        73          2   \n",
              "Alaska      Dragoons     2nd     523        8   987       949          2   \n",
              "Louisana      Scouts     2nd      37        8  1099        63          2   \n",
              "Georgia       Scouts     2nd      35        9  1523       345          3   \n",
              "\n",
              "          armored  deserters  \n",
              "origin                        \n",
              "Arizona         1          4  \n",
              "Texas           1         31  \n",
              "Florida         1          2  \n",
              "Maine           0          3  \n",
              "Alaska          0         24  \n",
              "Louisana        1          2  \n",
              "Georgia         1          3  "
            ]
          },
          "metadata": {
            "tags": []
          },
          "execution_count": 21
        }
      ]
    },
    {
      "cell_type": "markdown",
      "metadata": {
        "id": "8KQx4L4ZUiLC"
      },
      "source": [
        "### Step 15. Select all the regiments not named \"Dragoons\""
      ]
    },
    {
      "cell_type": "code",
      "metadata": {
        "id": "sqzzgo9zUiLC",
        "outputId": "a6c83455-62a4-45cb-faa5-8d8c49e5a65a"
      },
      "source": [
        "#1\n",
        "army[~(army[\"regiment\"] == \"Dragoons\")]"
      ],
      "execution_count": null,
      "outputs": [
        {
          "output_type": "execute_result",
          "data": {
            "text/html": [
              "<div>\n",
              "<style scoped>\n",
              "    .dataframe tbody tr th:only-of-type {\n",
              "        vertical-align: middle;\n",
              "    }\n",
              "\n",
              "    .dataframe tbody tr th {\n",
              "        vertical-align: top;\n",
              "    }\n",
              "\n",
              "    .dataframe thead th {\n",
              "        text-align: right;\n",
              "    }\n",
              "</style>\n",
              "<table border=\"1\" class=\"dataframe\">\n",
              "  <thead>\n",
              "    <tr style=\"text-align: right;\">\n",
              "      <th></th>\n",
              "      <th>regiment</th>\n",
              "      <th>company</th>\n",
              "      <th>deaths</th>\n",
              "      <th>battles</th>\n",
              "      <th>size</th>\n",
              "      <th>veterans</th>\n",
              "      <th>readiness</th>\n",
              "      <th>armored</th>\n",
              "      <th>deserters</th>\n",
              "    </tr>\n",
              "    <tr>\n",
              "      <th>origin</th>\n",
              "      <th></th>\n",
              "      <th></th>\n",
              "      <th></th>\n",
              "      <th></th>\n",
              "      <th></th>\n",
              "      <th></th>\n",
              "      <th></th>\n",
              "      <th></th>\n",
              "      <th></th>\n",
              "    </tr>\n",
              "  </thead>\n",
              "  <tbody>\n",
              "    <tr>\n",
              "      <th>Arizona</th>\n",
              "      <td>Nighthawks</td>\n",
              "      <td>1st</td>\n",
              "      <td>523</td>\n",
              "      <td>5</td>\n",
              "      <td>1045</td>\n",
              "      <td>1</td>\n",
              "      <td>1</td>\n",
              "      <td>1</td>\n",
              "      <td>4</td>\n",
              "    </tr>\n",
              "    <tr>\n",
              "      <th>California</th>\n",
              "      <td>Nighthawks</td>\n",
              "      <td>1st</td>\n",
              "      <td>52</td>\n",
              "      <td>42</td>\n",
              "      <td>957</td>\n",
              "      <td>5</td>\n",
              "      <td>2</td>\n",
              "      <td>0</td>\n",
              "      <td>24</td>\n",
              "    </tr>\n",
              "    <tr>\n",
              "      <th>Texas</th>\n",
              "      <td>Nighthawks</td>\n",
              "      <td>2nd</td>\n",
              "      <td>25</td>\n",
              "      <td>2</td>\n",
              "      <td>1099</td>\n",
              "      <td>62</td>\n",
              "      <td>3</td>\n",
              "      <td>1</td>\n",
              "      <td>31</td>\n",
              "    </tr>\n",
              "    <tr>\n",
              "      <th>Florida</th>\n",
              "      <td>Nighthawks</td>\n",
              "      <td>2nd</td>\n",
              "      <td>616</td>\n",
              "      <td>2</td>\n",
              "      <td>1400</td>\n",
              "      <td>26</td>\n",
              "      <td>3</td>\n",
              "      <td>1</td>\n",
              "      <td>2</td>\n",
              "    </tr>\n",
              "    <tr>\n",
              "      <th>Oregon</th>\n",
              "      <td>Scouts</td>\n",
              "      <td>1st</td>\n",
              "      <td>62</td>\n",
              "      <td>4</td>\n",
              "      <td>973</td>\n",
              "      <td>48</td>\n",
              "      <td>2</td>\n",
              "      <td>0</td>\n",
              "      <td>2</td>\n",
              "    </tr>\n",
              "    <tr>\n",
              "      <th>Wyoming</th>\n",
              "      <td>Scouts</td>\n",
              "      <td>1st</td>\n",
              "      <td>73</td>\n",
              "      <td>7</td>\n",
              "      <td>1005</td>\n",
              "      <td>435</td>\n",
              "      <td>1</td>\n",
              "      <td>0</td>\n",
              "      <td>3</td>\n",
              "    </tr>\n",
              "    <tr>\n",
              "      <th>Louisana</th>\n",
              "      <td>Scouts</td>\n",
              "      <td>2nd</td>\n",
              "      <td>37</td>\n",
              "      <td>8</td>\n",
              "      <td>1099</td>\n",
              "      <td>63</td>\n",
              "      <td>2</td>\n",
              "      <td>1</td>\n",
              "      <td>2</td>\n",
              "    </tr>\n",
              "    <tr>\n",
              "      <th>Georgia</th>\n",
              "      <td>Scouts</td>\n",
              "      <td>2nd</td>\n",
              "      <td>35</td>\n",
              "      <td>9</td>\n",
              "      <td>1523</td>\n",
              "      <td>345</td>\n",
              "      <td>3</td>\n",
              "      <td>1</td>\n",
              "      <td>3</td>\n",
              "    </tr>\n",
              "  </tbody>\n",
              "</table>\n",
              "</div>"
            ],
            "text/plain": [
              "              regiment company  deaths  battles  size  veterans  readiness  \\\n",
              "origin                                                                       \n",
              "Arizona     Nighthawks     1st     523        5  1045         1          1   \n",
              "California  Nighthawks     1st      52       42   957         5          2   \n",
              "Texas       Nighthawks     2nd      25        2  1099        62          3   \n",
              "Florida     Nighthawks     2nd     616        2  1400        26          3   \n",
              "Oregon          Scouts     1st      62        4   973        48          2   \n",
              "Wyoming         Scouts     1st      73        7  1005       435          1   \n",
              "Louisana        Scouts     2nd      37        8  1099        63          2   \n",
              "Georgia         Scouts     2nd      35        9  1523       345          3   \n",
              "\n",
              "            armored  deserters  \n",
              "origin                          \n",
              "Arizona           1          4  \n",
              "California        0         24  \n",
              "Texas             1         31  \n",
              "Florida           1          2  \n",
              "Oregon            0          2  \n",
              "Wyoming           0          3  \n",
              "Louisana          1          2  \n",
              "Georgia           1          3  "
            ]
          },
          "metadata": {
            "tags": []
          },
          "execution_count": 29
        }
      ]
    },
    {
      "cell_type": "code",
      "metadata": {
        "id": "k4TGoXpmUiLD",
        "outputId": "cc3099ab-61f4-460a-b6dd-a39743ae52b4"
      },
      "source": [
        "#2\n",
        "army[army[\"regiment\"] != \"Dragoons\"]"
      ],
      "execution_count": null,
      "outputs": [
        {
          "output_type": "execute_result",
          "data": {
            "text/html": [
              "<div>\n",
              "<style scoped>\n",
              "    .dataframe tbody tr th:only-of-type {\n",
              "        vertical-align: middle;\n",
              "    }\n",
              "\n",
              "    .dataframe tbody tr th {\n",
              "        vertical-align: top;\n",
              "    }\n",
              "\n",
              "    .dataframe thead th {\n",
              "        text-align: right;\n",
              "    }\n",
              "</style>\n",
              "<table border=\"1\" class=\"dataframe\">\n",
              "  <thead>\n",
              "    <tr style=\"text-align: right;\">\n",
              "      <th></th>\n",
              "      <th>regiment</th>\n",
              "      <th>company</th>\n",
              "      <th>deaths</th>\n",
              "      <th>battles</th>\n",
              "      <th>size</th>\n",
              "      <th>veterans</th>\n",
              "      <th>readiness</th>\n",
              "      <th>armored</th>\n",
              "      <th>deserters</th>\n",
              "    </tr>\n",
              "    <tr>\n",
              "      <th>origin</th>\n",
              "      <th></th>\n",
              "      <th></th>\n",
              "      <th></th>\n",
              "      <th></th>\n",
              "      <th></th>\n",
              "      <th></th>\n",
              "      <th></th>\n",
              "      <th></th>\n",
              "      <th></th>\n",
              "    </tr>\n",
              "  </thead>\n",
              "  <tbody>\n",
              "    <tr>\n",
              "      <th>Arizona</th>\n",
              "      <td>Nighthawks</td>\n",
              "      <td>1st</td>\n",
              "      <td>523</td>\n",
              "      <td>5</td>\n",
              "      <td>1045</td>\n",
              "      <td>1</td>\n",
              "      <td>1</td>\n",
              "      <td>1</td>\n",
              "      <td>4</td>\n",
              "    </tr>\n",
              "    <tr>\n",
              "      <th>California</th>\n",
              "      <td>Nighthawks</td>\n",
              "      <td>1st</td>\n",
              "      <td>52</td>\n",
              "      <td>42</td>\n",
              "      <td>957</td>\n",
              "      <td>5</td>\n",
              "      <td>2</td>\n",
              "      <td>0</td>\n",
              "      <td>24</td>\n",
              "    </tr>\n",
              "    <tr>\n",
              "      <th>Texas</th>\n",
              "      <td>Nighthawks</td>\n",
              "      <td>2nd</td>\n",
              "      <td>25</td>\n",
              "      <td>2</td>\n",
              "      <td>1099</td>\n",
              "      <td>62</td>\n",
              "      <td>3</td>\n",
              "      <td>1</td>\n",
              "      <td>31</td>\n",
              "    </tr>\n",
              "    <tr>\n",
              "      <th>Florida</th>\n",
              "      <td>Nighthawks</td>\n",
              "      <td>2nd</td>\n",
              "      <td>616</td>\n",
              "      <td>2</td>\n",
              "      <td>1400</td>\n",
              "      <td>26</td>\n",
              "      <td>3</td>\n",
              "      <td>1</td>\n",
              "      <td>2</td>\n",
              "    </tr>\n",
              "    <tr>\n",
              "      <th>Oregon</th>\n",
              "      <td>Scouts</td>\n",
              "      <td>1st</td>\n",
              "      <td>62</td>\n",
              "      <td>4</td>\n",
              "      <td>973</td>\n",
              "      <td>48</td>\n",
              "      <td>2</td>\n",
              "      <td>0</td>\n",
              "      <td>2</td>\n",
              "    </tr>\n",
              "    <tr>\n",
              "      <th>Wyoming</th>\n",
              "      <td>Scouts</td>\n",
              "      <td>1st</td>\n",
              "      <td>73</td>\n",
              "      <td>7</td>\n",
              "      <td>1005</td>\n",
              "      <td>435</td>\n",
              "      <td>1</td>\n",
              "      <td>0</td>\n",
              "      <td>3</td>\n",
              "    </tr>\n",
              "    <tr>\n",
              "      <th>Louisana</th>\n",
              "      <td>Scouts</td>\n",
              "      <td>2nd</td>\n",
              "      <td>37</td>\n",
              "      <td>8</td>\n",
              "      <td>1099</td>\n",
              "      <td>63</td>\n",
              "      <td>2</td>\n",
              "      <td>1</td>\n",
              "      <td>2</td>\n",
              "    </tr>\n",
              "    <tr>\n",
              "      <th>Georgia</th>\n",
              "      <td>Scouts</td>\n",
              "      <td>2nd</td>\n",
              "      <td>35</td>\n",
              "      <td>9</td>\n",
              "      <td>1523</td>\n",
              "      <td>345</td>\n",
              "      <td>3</td>\n",
              "      <td>1</td>\n",
              "      <td>3</td>\n",
              "    </tr>\n",
              "  </tbody>\n",
              "</table>\n",
              "</div>"
            ],
            "text/plain": [
              "              regiment company  deaths  battles  size  veterans  readiness  \\\n",
              "origin                                                                       \n",
              "Arizona     Nighthawks     1st     523        5  1045         1          1   \n",
              "California  Nighthawks     1st      52       42   957         5          2   \n",
              "Texas       Nighthawks     2nd      25        2  1099        62          3   \n",
              "Florida     Nighthawks     2nd     616        2  1400        26          3   \n",
              "Oregon          Scouts     1st      62        4   973        48          2   \n",
              "Wyoming         Scouts     1st      73        7  1005       435          1   \n",
              "Louisana        Scouts     2nd      37        8  1099        63          2   \n",
              "Georgia         Scouts     2nd      35        9  1523       345          3   \n",
              "\n",
              "            armored  deserters  \n",
              "origin                          \n",
              "Arizona           1          4  \n",
              "California        0         24  \n",
              "Texas             1         31  \n",
              "Florida           1          2  \n",
              "Oregon            0          2  \n",
              "Wyoming           0          3  \n",
              "Louisana          1          2  \n",
              "Georgia           1          3  "
            ]
          },
          "metadata": {
            "tags": []
          },
          "execution_count": 31
        }
      ]
    },
    {
      "cell_type": "code",
      "metadata": {
        "id": "S6AMQJdTUiLE",
        "outputId": "42b10a4d-d8a3-423c-b4b9-edca1e7686a8"
      },
      "source": [
        "#3\n",
        "army.loc[~(army[\"regiment\"] == \"Dragoons\")]"
      ],
      "execution_count": null,
      "outputs": [
        {
          "output_type": "execute_result",
          "data": {
            "text/html": [
              "<div>\n",
              "<style scoped>\n",
              "    .dataframe tbody tr th:only-of-type {\n",
              "        vertical-align: middle;\n",
              "    }\n",
              "\n",
              "    .dataframe tbody tr th {\n",
              "        vertical-align: top;\n",
              "    }\n",
              "\n",
              "    .dataframe thead th {\n",
              "        text-align: right;\n",
              "    }\n",
              "</style>\n",
              "<table border=\"1\" class=\"dataframe\">\n",
              "  <thead>\n",
              "    <tr style=\"text-align: right;\">\n",
              "      <th></th>\n",
              "      <th>regiment</th>\n",
              "      <th>company</th>\n",
              "      <th>deaths</th>\n",
              "      <th>battles</th>\n",
              "      <th>size</th>\n",
              "      <th>veterans</th>\n",
              "      <th>readiness</th>\n",
              "      <th>armored</th>\n",
              "      <th>deserters</th>\n",
              "    </tr>\n",
              "    <tr>\n",
              "      <th>origin</th>\n",
              "      <th></th>\n",
              "      <th></th>\n",
              "      <th></th>\n",
              "      <th></th>\n",
              "      <th></th>\n",
              "      <th></th>\n",
              "      <th></th>\n",
              "      <th></th>\n",
              "      <th></th>\n",
              "    </tr>\n",
              "  </thead>\n",
              "  <tbody>\n",
              "    <tr>\n",
              "      <th>Arizona</th>\n",
              "      <td>Nighthawks</td>\n",
              "      <td>1st</td>\n",
              "      <td>523</td>\n",
              "      <td>5</td>\n",
              "      <td>1045</td>\n",
              "      <td>1</td>\n",
              "      <td>1</td>\n",
              "      <td>1</td>\n",
              "      <td>4</td>\n",
              "    </tr>\n",
              "    <tr>\n",
              "      <th>California</th>\n",
              "      <td>Nighthawks</td>\n",
              "      <td>1st</td>\n",
              "      <td>52</td>\n",
              "      <td>42</td>\n",
              "      <td>957</td>\n",
              "      <td>5</td>\n",
              "      <td>2</td>\n",
              "      <td>0</td>\n",
              "      <td>24</td>\n",
              "    </tr>\n",
              "    <tr>\n",
              "      <th>Texas</th>\n",
              "      <td>Nighthawks</td>\n",
              "      <td>2nd</td>\n",
              "      <td>25</td>\n",
              "      <td>2</td>\n",
              "      <td>1099</td>\n",
              "      <td>62</td>\n",
              "      <td>3</td>\n",
              "      <td>1</td>\n",
              "      <td>31</td>\n",
              "    </tr>\n",
              "    <tr>\n",
              "      <th>Florida</th>\n",
              "      <td>Nighthawks</td>\n",
              "      <td>2nd</td>\n",
              "      <td>616</td>\n",
              "      <td>2</td>\n",
              "      <td>1400</td>\n",
              "      <td>26</td>\n",
              "      <td>3</td>\n",
              "      <td>1</td>\n",
              "      <td>2</td>\n",
              "    </tr>\n",
              "    <tr>\n",
              "      <th>Oregon</th>\n",
              "      <td>Scouts</td>\n",
              "      <td>1st</td>\n",
              "      <td>62</td>\n",
              "      <td>4</td>\n",
              "      <td>973</td>\n",
              "      <td>48</td>\n",
              "      <td>2</td>\n",
              "      <td>0</td>\n",
              "      <td>2</td>\n",
              "    </tr>\n",
              "    <tr>\n",
              "      <th>Wyoming</th>\n",
              "      <td>Scouts</td>\n",
              "      <td>1st</td>\n",
              "      <td>73</td>\n",
              "      <td>7</td>\n",
              "      <td>1005</td>\n",
              "      <td>435</td>\n",
              "      <td>1</td>\n",
              "      <td>0</td>\n",
              "      <td>3</td>\n",
              "    </tr>\n",
              "    <tr>\n",
              "      <th>Louisana</th>\n",
              "      <td>Scouts</td>\n",
              "      <td>2nd</td>\n",
              "      <td>37</td>\n",
              "      <td>8</td>\n",
              "      <td>1099</td>\n",
              "      <td>63</td>\n",
              "      <td>2</td>\n",
              "      <td>1</td>\n",
              "      <td>2</td>\n",
              "    </tr>\n",
              "    <tr>\n",
              "      <th>Georgia</th>\n",
              "      <td>Scouts</td>\n",
              "      <td>2nd</td>\n",
              "      <td>35</td>\n",
              "      <td>9</td>\n",
              "      <td>1523</td>\n",
              "      <td>345</td>\n",
              "      <td>3</td>\n",
              "      <td>1</td>\n",
              "      <td>3</td>\n",
              "    </tr>\n",
              "  </tbody>\n",
              "</table>\n",
              "</div>"
            ],
            "text/plain": [
              "              regiment company  deaths  battles  size  veterans  readiness  \\\n",
              "origin                                                                       \n",
              "Arizona     Nighthawks     1st     523        5  1045         1          1   \n",
              "California  Nighthawks     1st      52       42   957         5          2   \n",
              "Texas       Nighthawks     2nd      25        2  1099        62          3   \n",
              "Florida     Nighthawks     2nd     616        2  1400        26          3   \n",
              "Oregon          Scouts     1st      62        4   973        48          2   \n",
              "Wyoming         Scouts     1st      73        7  1005       435          1   \n",
              "Louisana        Scouts     2nd      37        8  1099        63          2   \n",
              "Georgia         Scouts     2nd      35        9  1523       345          3   \n",
              "\n",
              "            armored  deserters  \n",
              "origin                          \n",
              "Arizona           1          4  \n",
              "California        0         24  \n",
              "Texas             1         31  \n",
              "Florida           1          2  \n",
              "Oregon            0          2  \n",
              "Wyoming           0          3  \n",
              "Louisana          1          2  \n",
              "Georgia           1          3  "
            ]
          },
          "metadata": {
            "tags": []
          },
          "execution_count": 30
        }
      ]
    },
    {
      "cell_type": "markdown",
      "metadata": {
        "id": "lo46rdwkUiLE"
      },
      "source": [
        "### Step 16. Select the rows called Texas and Arizona"
      ]
    },
    {
      "cell_type": "code",
      "metadata": {
        "id": "w7pkqrUgUiLE",
        "outputId": "b42119b5-425e-4b78-fe59-9119d65029a2"
      },
      "source": [
        "army.loc[[\"Texas\", \"Arizona\"]]"
      ],
      "execution_count": null,
      "outputs": [
        {
          "output_type": "execute_result",
          "data": {
            "text/html": [
              "<div>\n",
              "<style scoped>\n",
              "    .dataframe tbody tr th:only-of-type {\n",
              "        vertical-align: middle;\n",
              "    }\n",
              "\n",
              "    .dataframe tbody tr th {\n",
              "        vertical-align: top;\n",
              "    }\n",
              "\n",
              "    .dataframe thead th {\n",
              "        text-align: right;\n",
              "    }\n",
              "</style>\n",
              "<table border=\"1\" class=\"dataframe\">\n",
              "  <thead>\n",
              "    <tr style=\"text-align: right;\">\n",
              "      <th></th>\n",
              "      <th>regiment</th>\n",
              "      <th>company</th>\n",
              "      <th>deaths</th>\n",
              "      <th>battles</th>\n",
              "      <th>size</th>\n",
              "      <th>veterans</th>\n",
              "      <th>readiness</th>\n",
              "      <th>armored</th>\n",
              "      <th>deserters</th>\n",
              "    </tr>\n",
              "    <tr>\n",
              "      <th>origin</th>\n",
              "      <th></th>\n",
              "      <th></th>\n",
              "      <th></th>\n",
              "      <th></th>\n",
              "      <th></th>\n",
              "      <th></th>\n",
              "      <th></th>\n",
              "      <th></th>\n",
              "      <th></th>\n",
              "    </tr>\n",
              "  </thead>\n",
              "  <tbody>\n",
              "    <tr>\n",
              "      <th>Texas</th>\n",
              "      <td>Nighthawks</td>\n",
              "      <td>2nd</td>\n",
              "      <td>25</td>\n",
              "      <td>2</td>\n",
              "      <td>1099</td>\n",
              "      <td>62</td>\n",
              "      <td>3</td>\n",
              "      <td>1</td>\n",
              "      <td>31</td>\n",
              "    </tr>\n",
              "    <tr>\n",
              "      <th>Arizona</th>\n",
              "      <td>Nighthawks</td>\n",
              "      <td>1st</td>\n",
              "      <td>523</td>\n",
              "      <td>5</td>\n",
              "      <td>1045</td>\n",
              "      <td>1</td>\n",
              "      <td>1</td>\n",
              "      <td>1</td>\n",
              "      <td>4</td>\n",
              "    </tr>\n",
              "  </tbody>\n",
              "</table>\n",
              "</div>"
            ],
            "text/plain": [
              "           regiment company  deaths  battles  size  veterans  readiness  \\\n",
              "origin                                                                    \n",
              "Texas    Nighthawks     2nd      25        2  1099        62          3   \n",
              "Arizona  Nighthawks     1st     523        5  1045         1          1   \n",
              "\n",
              "         armored  deserters  \n",
              "origin                       \n",
              "Texas          1         31  \n",
              "Arizona        1          4  "
            ]
          },
          "metadata": {
            "tags": []
          },
          "execution_count": 32
        }
      ]
    },
    {
      "cell_type": "markdown",
      "metadata": {
        "id": "DcPdtaHZUiLF"
      },
      "source": [
        "### Step 17. Select the third cell in the row named Arizona"
      ]
    },
    {
      "cell_type": "code",
      "metadata": {
        "id": "0YHQ8z3qUiLF",
        "outputId": "e1e71b24-3267-443e-e9d2-5c7280b60cbb"
      },
      "source": [
        "#1 \n",
        "army.loc[\"Arizona\", \"deaths\"]"
      ],
      "execution_count": null,
      "outputs": [
        {
          "output_type": "execute_result",
          "data": {
            "text/plain": [
              "523"
            ]
          },
          "metadata": {
            "tags": []
          },
          "execution_count": 34
        }
      ]
    },
    {
      "cell_type": "code",
      "metadata": {
        "id": "1WgPym5VUiLG",
        "outputId": "8102f1e0-6e12-4ff3-8d88-c04a3e02f492"
      },
      "source": [
        "#2\n",
        "for col in army.columns:\n",
        "    if army.columns.get_loc(col) == 2:\n",
        "        print(army.loc['Arizona', col])"
      ],
      "execution_count": null,
      "outputs": [
        {
          "output_type": "stream",
          "text": [
            "523\n"
          ],
          "name": "stdout"
        }
      ]
    },
    {
      "cell_type": "markdown",
      "metadata": {
        "id": "6lU1jSgvUiLG"
      },
      "source": [
        "### Step 18. Select the third cell down in the column named deaths"
      ]
    },
    {
      "cell_type": "code",
      "metadata": {
        "id": "crGoscIZUiLH",
        "outputId": "ac3e94ad-2380-4626-c76d-44997d7ed5b4"
      },
      "source": [
        "army['deaths'][-3]"
      ],
      "execution_count": null,
      "outputs": [
        {
          "output_type": "execute_result",
          "data": {
            "text/plain": [
              "73"
            ]
          },
          "metadata": {
            "tags": []
          },
          "execution_count": 43
        }
      ]
    }
  ]
}