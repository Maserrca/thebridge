{
  "nbformat": 4,
  "nbformat_minor": 0,
  "metadata": {
    "kernelspec": {
      "name": "python374jvsc74a57bd0797ece2db6cd49410b212500b07c3b6429b528fb918ab6c0d0ffbc4c51c5b09e",
      "display_name": "Python 3.7.4 64-bit"
    },
    "language_info": {
      "codemirror_mode": {
        "name": "ipython",
        "version": 3
      },
      "file_extension": ".py",
      "mimetype": "text/x-python",
      "name": "python",
      "nbconvert_exporter": "python",
      "pygments_lexer": "ipython3",
      "version": "3.7.4"
    },
    "colab": {
      "name": "Basic_pandas.ipynb",
      "provenance": []
    },
    "metadata": {
      "interpreter": {
        "hash": "797ece2db6cd49410b212500b07c3b6429b528fb918ab6c0d0ffbc4c51c5b09e"
      }
    }
  },
  "cells": [
    {
      "cell_type": "markdown",
      "metadata": {
        "id": "r4GXewLKVe5t"
      },
      "source": [
        "## Ejercicio 1\n",
        "Importa la libreria de `pandas` y `numpy`. ¿Qué versión de la librería `pandas` tienes?"
      ]
    },
    {
      "cell_type": "code",
      "metadata": {
        "id": "pJq3Xws-Ve6C"
      },
      "source": [
        "import pandas as pd\n",
        "pd.__version__"
      ],
      "execution_count": 20,
      "outputs": [
        {
          "output_type": "execute_result",
          "data": {
            "text/plain": [
              "'1.2.4'"
            ]
          },
          "metadata": {},
          "execution_count": 20
        }
      ]
    },
    {
      "cell_type": "markdown",
      "metadata": {
        "id": "wWKPy4N0Ve6D"
      },
      "source": [
        "## Ejercicio 2\n",
        "Lee el archivo CSV de la liga. Guarda el DataFrame en una variable llamada `df`. [Usa el método `read_csv` de `pandas`](https://pandas.pydata.org/pandas-docs/stable/reference/api/pandas.read_csv.html)."
      ]
    },
    {
      "cell_type": "code",
      "metadata": {
        "id": "NYGaY8_qVe6F"
      },
      "source": [
        "import pandas as pd\n",
        "df = pd.read_csv(\"laliga.csv\")\n"
      ],
      "execution_count": 21,
      "outputs": []
    },
    {
      "cell_type": "markdown",
      "metadata": {
        "id": "J2VWPg9fVe6G"
      },
      "source": [
        "## Ejercicio 3\n",
        "Obtén por pantalla los 4 primero registros"
      ]
    },
    {
      "cell_type": "code",
      "metadata": {
        "id": "skgpl16YVe6G"
      },
      "source": [
        "df.head(4)"
      ],
      "execution_count": 22,
      "outputs": [
        {
          "output_type": "execute_result",
          "data": {
            "text/plain": [
              "   Unnamed: 0   season  division  round           localTeam    visitorTeam  \\\n",
              "0       26201  2005-06         1      1  Atletico de Bilbao  Real Sociedad   \n",
              "1       26202  2005-06         1      1              Alaves      Barcelona   \n",
              "2       26203  2005-06         1      1            Valencia          Betis   \n",
              "3       26204  2005-06         1      1  Atletico de Madrid       Zaragoza   \n",
              "\n",
              "   localGoals  visitorGoals        date   timestamp  \n",
              "0           3             0  27/08/2005  1125093600  \n",
              "1           0             0  27/08/2005  1125093600  \n",
              "2           1             0  27/08/2005  1125093600  \n",
              "3           0             0  28/08/2005  1125180000  "
            ],
            "text/html": "<div>\n<style scoped>\n    .dataframe tbody tr th:only-of-type {\n        vertical-align: middle;\n    }\n\n    .dataframe tbody tr th {\n        vertical-align: top;\n    }\n\n    .dataframe thead th {\n        text-align: right;\n    }\n</style>\n<table border=\"1\" class=\"dataframe\">\n  <thead>\n    <tr style=\"text-align: right;\">\n      <th></th>\n      <th>Unnamed: 0</th>\n      <th>season</th>\n      <th>division</th>\n      <th>round</th>\n      <th>localTeam</th>\n      <th>visitorTeam</th>\n      <th>localGoals</th>\n      <th>visitorGoals</th>\n      <th>date</th>\n      <th>timestamp</th>\n    </tr>\n  </thead>\n  <tbody>\n    <tr>\n      <th>0</th>\n      <td>26201</td>\n      <td>2005-06</td>\n      <td>1</td>\n      <td>1</td>\n      <td>Atletico de Bilbao</td>\n      <td>Real Sociedad</td>\n      <td>3</td>\n      <td>0</td>\n      <td>27/08/2005</td>\n      <td>1125093600</td>\n    </tr>\n    <tr>\n      <th>1</th>\n      <td>26202</td>\n      <td>2005-06</td>\n      <td>1</td>\n      <td>1</td>\n      <td>Alaves</td>\n      <td>Barcelona</td>\n      <td>0</td>\n      <td>0</td>\n      <td>27/08/2005</td>\n      <td>1125093600</td>\n    </tr>\n    <tr>\n      <th>2</th>\n      <td>26203</td>\n      <td>2005-06</td>\n      <td>1</td>\n      <td>1</td>\n      <td>Valencia</td>\n      <td>Betis</td>\n      <td>1</td>\n      <td>0</td>\n      <td>27/08/2005</td>\n      <td>1125093600</td>\n    </tr>\n    <tr>\n      <th>3</th>\n      <td>26204</td>\n      <td>2005-06</td>\n      <td>1</td>\n      <td>1</td>\n      <td>Atletico de Madrid</td>\n      <td>Zaragoza</td>\n      <td>0</td>\n      <td>0</td>\n      <td>28/08/2005</td>\n      <td>1125180000</td>\n    </tr>\n  </tbody>\n</table>\n</div>"
          },
          "metadata": {},
          "execution_count": 22
        }
      ]
    },
    {
      "cell_type": "markdown",
      "metadata": {
        "id": "lt6m81nuVe6H"
      },
      "source": [
        "## Ejercicio 4\n",
        "Obtén en un array de `numpy` todos los valores del DataFrame"
      ]
    },
    {
      "cell_type": "code",
      "metadata": {
        "id": "-m395OU5Ve6I"
      },
      "source": [
        "import numpy as np\n",
        "np.array(df)"
      ],
      "execution_count": 23,
      "outputs": [
        {
          "output_type": "execute_result",
          "data": {
            "text/plain": [
              "array([[26201, '2005-06', 1, ..., 0, '27/08/2005', 1125093600],\n",
              "       [26202, '2005-06', 1, ..., 0, '27/08/2005', 1125093600],\n",
              "       [26203, '2005-06', 1, ..., 0, '27/08/2005', 1125093600],\n",
              "       ...,\n",
              "       [36682, '2017-18', 1, ..., 0, '20/05/2018', 1526767200],\n",
              "       [36683, '2017-18', 1, ..., 1, '20/05/2018', 1526767200],\n",
              "       [36684, '2017-18', 1, ..., 2, '20/05/2018', 1526767200]],\n",
              "      dtype=object)"
            ]
          },
          "metadata": {},
          "execution_count": 23
        }
      ]
    },
    {
      "cell_type": "markdown",
      "metadata": {
        "id": "9IAw6vpkVe6J"
      },
      "source": [
        "## Ejercicio 5\n",
        "¿Cuáles son las columnas de `df`?"
      ]
    },
    {
      "cell_type": "code",
      "metadata": {
        "id": "-RVQDZbHVe6K"
      },
      "source": [
        "df.columns"
      ],
      "execution_count": 26,
      "outputs": [
        {
          "output_type": "execute_result",
          "data": {
            "text/plain": [
              "Index(['Unnamed: 0', 'season', 'division', 'round', 'localTeam', 'visitorTeam',\n",
              "       'localGoals', 'visitorGoals', 'date', 'timestamp'],\n",
              "      dtype='object')"
            ]
          },
          "metadata": {},
          "execution_count": 26
        }
      ]
    },
    {
      "cell_type": "markdown",
      "metadata": {
        "id": "nf-rMyrzVe6L"
      },
      "source": [
        "## Ejercicio 6\n",
        "Crea un `Series` con la [población de Madrid, Galicia, Murcia y Andalucía](https://es.wikipedia.org/wiki/Anexo:Comunidades_y_ciudades_aut%C3%B3nomas_de_Espa%C3%B1a). Llamalo `poblacion`.\n",
        "\n",
        "- Madrid: 6685471\n",
        "- Galicia: 2698764\n",
        "- Murcia: 1494442\n",
        "- Andalucía: 8446561\n"
      ]
    },
    {
      "cell_type": "code",
      "metadata": {
        "id": "2YV6YGV5Ve6M"
      },
      "source": [
        "c = {\"Madrid\": 6685471, \"Galicia\": 2698764, \"Murcia\": 1494442,\"Andalucía\": 8446561}\n",
        "poblacion = pd.Series(c)\n",
        "poblacion"
      ],
      "execution_count": 28,
      "outputs": [
        {
          "output_type": "execute_result",
          "data": {
            "text/plain": [
              "Madrid       6685471\n",
              "Galicia      2698764\n",
              "Murcia       1494442\n",
              "Andalucía    8446561\n",
              "dtype: int64"
            ]
          },
          "metadata": {},
          "execution_count": 28
        }
      ]
    },
    {
      "cell_type": "markdown",
      "metadata": {
        "id": "dnEadzefVe6M"
      },
      "source": [
        "## Ejercicio 7\n",
        "Obtén un array de `numpy` con los valores del `Series`.\n",
        "\n",
        "Saca también sus índices, y los valores de sus índices."
      ]
    },
    {
      "cell_type": "code",
      "metadata": {
        "id": "JILyVjsCVe6N"
      },
      "source": [
        "a = np.array(poblacion)\n",
        "a"
      ],
      "execution_count": 29,
      "outputs": [
        {
          "output_type": "execute_result",
          "data": {
            "text/plain": [
              "array([6685471, 2698764, 1494442, 8446561], dtype=int64)"
            ]
          },
          "metadata": {},
          "execution_count": 29
        }
      ]
    },
    {
      "cell_type": "code",
      "execution_count": 32,
      "metadata": {},
      "outputs": [
        {
          "output_type": "execute_result",
          "data": {
            "text/plain": [
              "array(['Madrid', 'Galicia', 'Murcia', 'Andalucía'], dtype=object)"
            ]
          },
          "metadata": {},
          "execution_count": 32
        }
      ],
      "source": [
        "new = np.array(poblacion.index.values)\n",
        "new"
      ]
    },
    {
      "cell_type": "markdown",
      "metadata": {
        "id": "D81QY-wUVe6O"
      },
      "source": [
        "## Ejercicio 8\n",
        "1. ¿Qué población hay en el primer elemento del `Series`?\n",
        "2. ¿Qué población hay en Galicia?\n",
        "3. Imprime por pantalla las poblaciones de Galicia, Andalucía y las comunidades autónomas que se encuentren entre ambas, dentro del `Series`.\n",
        "4. Comprueba con un output booleano que `Galicia` se encuentra entre los índices del `Index`.\n",
        "5. Realiza los apartados 1,2,3 pero esta vez de una manera diferente."
      ]
    },
    {
      "cell_type": "code",
      "execution_count": 39,
      "metadata": {},
      "outputs": [
        {
          "output_type": "stream",
          "name": "stdout",
          "text": [
            "[False  True False False]\n"
          ]
        },
        {
          "output_type": "execute_result",
          "data": {
            "text/plain": [
              "True"
            ]
          },
          "metadata": {},
          "execution_count": 39
        }
      ],
      "source": [
        "print(poblacion.index.str.contains(\"Galicia\"))\n",
        "\"Galicia\" in poblacion\n"
      ]
    },
    {
      "cell_type": "code",
      "execution_count": 33,
      "metadata": {},
      "outputs": [
        {
          "output_type": "execute_result",
          "data": {
            "text/plain": [
              "Madrid       6685471\n",
              "Galicia      2698764\n",
              "Murcia       1494442\n",
              "Andalucía    8446561\n",
              "dtype: int64"
            ]
          },
          "metadata": {},
          "execution_count": 33
        }
      ],
      "source": [
        "c = {\"Madrid\": 6685471, \"Galicia\": 2698764, \"Murcia\": 1494442,\"Andalucía\": 8446561}\n",
        "poblacion = pd.Series(c)\n",
        "poblacion"
      ]
    },
    {
      "cell_type": "code",
      "execution_count": 34,
      "metadata": {},
      "outputs": [
        {
          "output_type": "execute_result",
          "data": {
            "text/plain": [
              "6685471"
            ]
          },
          "metadata": {},
          "execution_count": 34
        }
      ],
      "source": [
        "#1\n",
        "poblacion[0]"
      ]
    },
    {
      "cell_type": "code",
      "execution_count": 35,
      "metadata": {},
      "outputs": [
        {
          "output_type": "execute_result",
          "data": {
            "text/plain": [
              "2698764"
            ]
          },
          "metadata": {},
          "execution_count": 35
        }
      ],
      "source": [
        "#2\n",
        "poblacion[1]"
      ]
    },
    {
      "cell_type": "code",
      "execution_count": 36,
      "metadata": {},
      "outputs": [
        {
          "output_type": "execute_result",
          "data": {
            "text/plain": [
              "Galicia      2698764\n",
              "Murcia       1494442\n",
              "Andalucía    8446561\n",
              "dtype: int64"
            ]
          },
          "metadata": {},
          "execution_count": 36
        }
      ],
      "source": [
        "#3 \n",
        "poblacion[1::]"
      ]
    },
    {
      "cell_type": "markdown",
      "metadata": {
        "id": "IgRzyIlyVe6Q"
      },
      "source": [
        "## Ejercicio 9\n",
        "A partir de las comunidades autónomas anteriores, crea un `Series` con [la tasa de paro](https://es.statista.com/estadisticas/941646/prevision-de-la-tasa-de-paro-por-comunidad-autonoma-espana/) en dichas comunidades autónomas.\n",
        "\n",
        "Con la tasa de paro y las poblaciones, crea un DataFrame de pandas. Llámalo `data`.\n",
        "\n",
        "- Madrid: 9.99\n",
        "- Galicia: 11.74\n",
        "- Murcia: 16.08\n",
        "- Andalucía: 20.8"
      ]
    },
    {
      "cell_type": "code",
      "metadata": {
        "id": "mFVha-qXVe6R"
      },
      "source": [],
      "execution_count": null,
      "outputs": []
    },
    {
      "cell_type": "markdown",
      "metadata": {
        "id": "MljMmVOeVe6R"
      },
      "source": [
        "## Ejercicio 10\n",
        "Imprime por pantalla la población, y la tasa de paro. Por separado"
      ]
    },
    {
      "cell_type": "code",
      "metadata": {
        "id": "yTqX1pAVVe6S"
      },
      "source": [],
      "execution_count": null,
      "outputs": []
    },
    {
      "cell_type": "markdown",
      "metadata": {
        "id": "9scmj87nVe6S"
      },
      "source": [
        "## Ejercicio 11\n",
        "Crea un nuevo Data Frame (`data2`), que sea igual que `data`, pero con una nueva columna, que lleve [la superficie de las Comunidades Autónomas](https://es.wikipedia.org/wiki/Anexo:Comunidades_y_ciudades_aut%C3%B3nomas_de_Espa%C3%B1a).\n",
        "\n",
        "- Madrid: 8028\n",
        "- Galicia: 29575\n",
        "- Murcia: 11314\n",
        "- Andalucía: 87599"
      ]
    },
    {
      "cell_type": "code",
      "metadata": {
        "id": "Ifsk1HnyVe6T"
      },
      "source": [],
      "execution_count": null,
      "outputs": []
    },
    {
      "cell_type": "markdown",
      "metadata": {
        "id": "YSnexa8aVe6U"
      },
      "source": [
        "## Ejercicio 12\n",
        "Calcula la densidad de población (hab/km^2) en una nueva columna del dataframe `data2` que se llame `Densidad`."
      ]
    },
    {
      "cell_type": "code",
      "metadata": {
        "id": "-B9A00DjVe6V"
      },
      "source": [],
      "execution_count": null,
      "outputs": []
    }
  ]
}