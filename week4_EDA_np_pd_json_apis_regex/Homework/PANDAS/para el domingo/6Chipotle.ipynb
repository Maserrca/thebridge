{
  "nbformat": 4,
  "nbformat_minor": 0,
  "metadata": {
    "anaconda-cloud": {},
    "kernelspec": {
      "name": "python374jvsc74a57bd0797ece2db6cd49410b212500b07c3b6429b528fb918ab6c0d0ffbc4c51c5b09e",
      "display_name": "Python 3.7.4 64-bit"
    },
    "language_info": {
      "codemirror_mode": {
        "name": "ipython",
        "version": 3
      },
      "file_extension": ".py",
      "mimetype": "text/x-python",
      "name": "python",
      "nbconvert_exporter": "python",
      "pygments_lexer": "ipython3",
      "version": "3.7.4"
    },
    "colab": {
      "name": "Chipotle.ipynb",
      "provenance": []
    },
    "metadata": {
      "interpreter": {
        "hash": "797ece2db6cd49410b212500b07c3b6429b528fb918ab6c0d0ffbc4c51c5b09e"
      }
    }
  },
  "cells": [
    {
      "cell_type": "markdown",
      "metadata": {
        "id": "Bdn1OAZDVg9n"
      },
      "source": [
        "# 02 - Filtering and Sorting Data"
      ]
    },
    {
      "cell_type": "markdown",
      "metadata": {
        "id": "eSelK8YPVg93"
      },
      "source": [
        "\n",
        "\n",
        "### Step 1. Import the necessary libraries"
      ]
    },
    {
      "cell_type": "code",
      "metadata": {
        "id": "QqQ2h04hVg96"
      },
      "source": [
        "import pandas as pd\n",
        "import numpy as np"
      ],
      "execution_count": 2,
      "outputs": []
    },
    {
      "cell_type": "markdown",
      "metadata": {
        "id": "vs9GuhoGVg97"
      },
      "source": [
        "### Step 2. Import the dataset from this [address](https://raw.githubusercontent.com/justmarkham/DAT8/master/data/chipotle.tsv). Assign it to a variable called chipo.\n",
        "\n",
        "This time we are going to pull data directly from the internet."
      ]
    },
    {
      "cell_type": "code",
      "metadata": {
        "id": "rVWUNeoMVg99"
      },
      "source": [
        "address = \"https://raw.githubusercontent.com/justmarkham/DAT8/master/data/chipotle.tsv\""
      ],
      "execution_count": 3,
      "outputs": []
    },
    {
      "cell_type": "code",
      "execution_count": 4,
      "metadata": {},
      "outputs": [
        {
          "output_type": "execute_result",
          "data": {
            "text/plain": [
              "      order_id  quantity                              item_name  \\\n",
              "0            1         1           Chips and Fresh Tomato Salsa   \n",
              "1            1         1                                   Izze   \n",
              "2            1         1                       Nantucket Nectar   \n",
              "3            1         1  Chips and Tomatillo-Green Chili Salsa   \n",
              "4            2         2                           Chicken Bowl   \n",
              "...        ...       ...                                    ...   \n",
              "4617      1833         1                          Steak Burrito   \n",
              "4618      1833         1                          Steak Burrito   \n",
              "4619      1834         1                     Chicken Salad Bowl   \n",
              "4620      1834         1                     Chicken Salad Bowl   \n",
              "4621      1834         1                     Chicken Salad Bowl   \n",
              "\n",
              "                                     choice_description item_price  \n",
              "0                                                   NaN     $2.39   \n",
              "1                                          [Clementine]     $3.39   \n",
              "2                                               [Apple]     $3.39   \n",
              "3                                                   NaN     $2.39   \n",
              "4     [Tomatillo-Red Chili Salsa (Hot), [Black Beans...    $16.98   \n",
              "...                                                 ...        ...  \n",
              "4617  [Fresh Tomato Salsa, [Rice, Black Beans, Sour ...    $11.75   \n",
              "4618  [Fresh Tomato Salsa, [Rice, Sour Cream, Cheese...    $11.75   \n",
              "4619  [Fresh Tomato Salsa, [Fajita Vegetables, Pinto...    $11.25   \n",
              "4620  [Fresh Tomato Salsa, [Fajita Vegetables, Lettu...     $8.75   \n",
              "4621  [Fresh Tomato Salsa, [Fajita Vegetables, Pinto...     $8.75   \n",
              "\n",
              "[4622 rows x 5 columns]"
            ],
            "text/html": "<div>\n<style scoped>\n    .dataframe tbody tr th:only-of-type {\n        vertical-align: middle;\n    }\n\n    .dataframe tbody tr th {\n        vertical-align: top;\n    }\n\n    .dataframe thead th {\n        text-align: right;\n    }\n</style>\n<table border=\"1\" class=\"dataframe\">\n  <thead>\n    <tr style=\"text-align: right;\">\n      <th></th>\n      <th>order_id</th>\n      <th>quantity</th>\n      <th>item_name</th>\n      <th>choice_description</th>\n      <th>item_price</th>\n    </tr>\n  </thead>\n  <tbody>\n    <tr>\n      <th>0</th>\n      <td>1</td>\n      <td>1</td>\n      <td>Chips and Fresh Tomato Salsa</td>\n      <td>NaN</td>\n      <td>$2.39</td>\n    </tr>\n    <tr>\n      <th>1</th>\n      <td>1</td>\n      <td>1</td>\n      <td>Izze</td>\n      <td>[Clementine]</td>\n      <td>$3.39</td>\n    </tr>\n    <tr>\n      <th>2</th>\n      <td>1</td>\n      <td>1</td>\n      <td>Nantucket Nectar</td>\n      <td>[Apple]</td>\n      <td>$3.39</td>\n    </tr>\n    <tr>\n      <th>3</th>\n      <td>1</td>\n      <td>1</td>\n      <td>Chips and Tomatillo-Green Chili Salsa</td>\n      <td>NaN</td>\n      <td>$2.39</td>\n    </tr>\n    <tr>\n      <th>4</th>\n      <td>2</td>\n      <td>2</td>\n      <td>Chicken Bowl</td>\n      <td>[Tomatillo-Red Chili Salsa (Hot), [Black Beans...</td>\n      <td>$16.98</td>\n    </tr>\n    <tr>\n      <th>...</th>\n      <td>...</td>\n      <td>...</td>\n      <td>...</td>\n      <td>...</td>\n      <td>...</td>\n    </tr>\n    <tr>\n      <th>4617</th>\n      <td>1833</td>\n      <td>1</td>\n      <td>Steak Burrito</td>\n      <td>[Fresh Tomato Salsa, [Rice, Black Beans, Sour ...</td>\n      <td>$11.75</td>\n    </tr>\n    <tr>\n      <th>4618</th>\n      <td>1833</td>\n      <td>1</td>\n      <td>Steak Burrito</td>\n      <td>[Fresh Tomato Salsa, [Rice, Sour Cream, Cheese...</td>\n      <td>$11.75</td>\n    </tr>\n    <tr>\n      <th>4619</th>\n      <td>1834</td>\n      <td>1</td>\n      <td>Chicken Salad Bowl</td>\n      <td>[Fresh Tomato Salsa, [Fajita Vegetables, Pinto...</td>\n      <td>$11.25</td>\n    </tr>\n    <tr>\n      <th>4620</th>\n      <td>1834</td>\n      <td>1</td>\n      <td>Chicken Salad Bowl</td>\n      <td>[Fresh Tomato Salsa, [Fajita Vegetables, Lettu...</td>\n      <td>$8.75</td>\n    </tr>\n    <tr>\n      <th>4621</th>\n      <td>1834</td>\n      <td>1</td>\n      <td>Chicken Salad Bowl</td>\n      <td>[Fresh Tomato Salsa, [Fajita Vegetables, Pinto...</td>\n      <td>$8.75</td>\n    </tr>\n  </tbody>\n</table>\n<p>4622 rows × 5 columns</p>\n</div>"
          },
          "metadata": {},
          "execution_count": 4
        }
      ],
      "source": [
        "chipo = pd.read_csv(address,sep='\\t')\n",
        "chipo"
      ]
    },
    {
      "cell_type": "markdown",
      "metadata": {
        "id": "b3yBEMWRVg9-"
      },
      "source": [
        "### Step 3. Name of the most expensive products (item_name)\n",
        "\n",
        "¿Recuerdas el `map`? En **pandas** tienes el método [`apply`](https://pandas.pydata.org/pandas-docs/stable/reference/api/pandas.DataFrame.apply.html) y en para resolver este ejercicio te puede ser muy útil. \n",
        "\n",
        "Pero no acaba ahí https://stackoverflow.com/questions/19798153/difference-between-map-applymap-and-apply-methods-in-pandas"
      ]
    },
    {
      "cell_type": "code",
      "execution_count": 5,
      "metadata": {},
      "outputs": [],
      "source": [
        "simple = lambda x: x.replace(\"$\",\"\")\n",
        "chipo['item_price'] = chipo['item_price'].map(simple)\n",
        "chipo['item_price'] = chipo['item_price'].map(lambda x: float(x))"
      ]
    },
    {
      "cell_type": "code",
      "execution_count": 8,
      "metadata": {},
      "outputs": [
        {
          "output_type": "execute_result",
          "data": {
            "text/plain": [
              "      order_id  quantity                              item_name  \\\n",
              "0            1         1           Chips and Fresh Tomato Salsa   \n",
              "1            1         1                                   Izze   \n",
              "2            1         1                       Nantucket Nectar   \n",
              "3            1         1  Chips and Tomatillo-Green Chili Salsa   \n",
              "4            2         2                           Chicken Bowl   \n",
              "...        ...       ...                                    ...   \n",
              "4617      1833         1                          Steak Burrito   \n",
              "4618      1833         1                          Steak Burrito   \n",
              "4619      1834         1                     Chicken Salad Bowl   \n",
              "4620      1834         1                     Chicken Salad Bowl   \n",
              "4621      1834         1                     Chicken Salad Bowl   \n",
              "\n",
              "                                     choice_description  item_price  \n",
              "0                                                   NaN        2.39  \n",
              "1                                          [Clementine]        3.39  \n",
              "2                                               [Apple]        3.39  \n",
              "3                                                   NaN        2.39  \n",
              "4     [Tomatillo-Red Chili Salsa (Hot), [Black Beans...       16.98  \n",
              "...                                                 ...         ...  \n",
              "4617  [Fresh Tomato Salsa, [Rice, Black Beans, Sour ...       11.75  \n",
              "4618  [Fresh Tomato Salsa, [Rice, Sour Cream, Cheese...       11.75  \n",
              "4619  [Fresh Tomato Salsa, [Fajita Vegetables, Pinto...       11.25  \n",
              "4620  [Fresh Tomato Salsa, [Fajita Vegetables, Lettu...        8.75  \n",
              "4621  [Fresh Tomato Salsa, [Fajita Vegetables, Pinto...        8.75  \n",
              "\n",
              "[4622 rows x 5 columns]"
            ],
            "text/html": "<div>\n<style scoped>\n    .dataframe tbody tr th:only-of-type {\n        vertical-align: middle;\n    }\n\n    .dataframe tbody tr th {\n        vertical-align: top;\n    }\n\n    .dataframe thead th {\n        text-align: right;\n    }\n</style>\n<table border=\"1\" class=\"dataframe\">\n  <thead>\n    <tr style=\"text-align: right;\">\n      <th></th>\n      <th>order_id</th>\n      <th>quantity</th>\n      <th>item_name</th>\n      <th>choice_description</th>\n      <th>item_price</th>\n    </tr>\n  </thead>\n  <tbody>\n    <tr>\n      <th>0</th>\n      <td>1</td>\n      <td>1</td>\n      <td>Chips and Fresh Tomato Salsa</td>\n      <td>NaN</td>\n      <td>2.39</td>\n    </tr>\n    <tr>\n      <th>1</th>\n      <td>1</td>\n      <td>1</td>\n      <td>Izze</td>\n      <td>[Clementine]</td>\n      <td>3.39</td>\n    </tr>\n    <tr>\n      <th>2</th>\n      <td>1</td>\n      <td>1</td>\n      <td>Nantucket Nectar</td>\n      <td>[Apple]</td>\n      <td>3.39</td>\n    </tr>\n    <tr>\n      <th>3</th>\n      <td>1</td>\n      <td>1</td>\n      <td>Chips and Tomatillo-Green Chili Salsa</td>\n      <td>NaN</td>\n      <td>2.39</td>\n    </tr>\n    <tr>\n      <th>4</th>\n      <td>2</td>\n      <td>2</td>\n      <td>Chicken Bowl</td>\n      <td>[Tomatillo-Red Chili Salsa (Hot), [Black Beans...</td>\n      <td>16.98</td>\n    </tr>\n    <tr>\n      <th>...</th>\n      <td>...</td>\n      <td>...</td>\n      <td>...</td>\n      <td>...</td>\n      <td>...</td>\n    </tr>\n    <tr>\n      <th>4617</th>\n      <td>1833</td>\n      <td>1</td>\n      <td>Steak Burrito</td>\n      <td>[Fresh Tomato Salsa, [Rice, Black Beans, Sour ...</td>\n      <td>11.75</td>\n    </tr>\n    <tr>\n      <th>4618</th>\n      <td>1833</td>\n      <td>1</td>\n      <td>Steak Burrito</td>\n      <td>[Fresh Tomato Salsa, [Rice, Sour Cream, Cheese...</td>\n      <td>11.75</td>\n    </tr>\n    <tr>\n      <th>4619</th>\n      <td>1834</td>\n      <td>1</td>\n      <td>Chicken Salad Bowl</td>\n      <td>[Fresh Tomato Salsa, [Fajita Vegetables, Pinto...</td>\n      <td>11.25</td>\n    </tr>\n    <tr>\n      <th>4620</th>\n      <td>1834</td>\n      <td>1</td>\n      <td>Chicken Salad Bowl</td>\n      <td>[Fresh Tomato Salsa, [Fajita Vegetables, Lettu...</td>\n      <td>8.75</td>\n    </tr>\n    <tr>\n      <th>4621</th>\n      <td>1834</td>\n      <td>1</td>\n      <td>Chicken Salad Bowl</td>\n      <td>[Fresh Tomato Salsa, [Fajita Vegetables, Pinto...</td>\n      <td>8.75</td>\n    </tr>\n  </tbody>\n</table>\n<p>4622 rows × 5 columns</p>\n</div>"
          },
          "metadata": {},
          "execution_count": 8
        }
      ],
      "source": [
        "'''\n",
        "chipo['item_price']= chipo.map(lambda x: float(x))\n",
        "'''\n",
        "chipo"
      ]
    },
    {
      "cell_type": "code",
      "execution_count": 7,
      "metadata": {},
      "outputs": [
        {
          "output_type": "error",
          "ename": "AttributeError",
          "evalue": "Can only use .str accessor with string values!",
          "traceback": [
            "\u001b[1;31m---------------------------------------------------------------------------\u001b[0m",
            "\u001b[1;31mAttributeError\u001b[0m                            Traceback (most recent call last)",
            "\u001b[1;32m<ipython-input-7-57acda495272>\u001b[0m in \u001b[0;36m<module>\u001b[1;34m\u001b[0m\n\u001b[1;32m----> 1\u001b[1;33m \u001b[0mchipo\u001b[0m\u001b[1;33m[\u001b[0m\u001b[1;34m'item_price'\u001b[0m\u001b[1;33m]\u001b[0m\u001b[1;33m.\u001b[0m\u001b[0mstr\u001b[0m\u001b[1;33m[\u001b[0m\u001b[1;36m1\u001b[0m\u001b[1;33m:\u001b[0m\u001b[1;33m]\u001b[0m\u001b[1;33m.\u001b[0m\u001b[0mastype\u001b[0m\u001b[1;33m(\u001b[0m\u001b[0mfloat\u001b[0m\u001b[1;33m)\u001b[0m\u001b[1;33m\u001b[0m\u001b[1;33m\u001b[0m\u001b[0m\n\u001b[0m",
            "\u001b[1;32m~\\AppData\\Local\\Programs\\Python\\Python37\\lib\\site-packages\\pandas\\core\\generic.py\u001b[0m in \u001b[0;36m__getattr__\u001b[1;34m(self, name)\u001b[0m\n\u001b[0;32m   5459\u001b[0m             \u001b[1;32mor\u001b[0m \u001b[0mname\u001b[0m \u001b[1;32min\u001b[0m \u001b[0mself\u001b[0m\u001b[1;33m.\u001b[0m\u001b[0m_accessors\u001b[0m\u001b[1;33m\u001b[0m\u001b[1;33m\u001b[0m\u001b[0m\n\u001b[0;32m   5460\u001b[0m         ):\n\u001b[1;32m-> 5461\u001b[1;33m             \u001b[1;32mreturn\u001b[0m \u001b[0mobject\u001b[0m\u001b[1;33m.\u001b[0m\u001b[0m__getattribute__\u001b[0m\u001b[1;33m(\u001b[0m\u001b[0mself\u001b[0m\u001b[1;33m,\u001b[0m \u001b[0mname\u001b[0m\u001b[1;33m)\u001b[0m\u001b[1;33m\u001b[0m\u001b[1;33m\u001b[0m\u001b[0m\n\u001b[0m\u001b[0;32m   5462\u001b[0m         \u001b[1;32melse\u001b[0m\u001b[1;33m:\u001b[0m\u001b[1;33m\u001b[0m\u001b[1;33m\u001b[0m\u001b[0m\n\u001b[0;32m   5463\u001b[0m             \u001b[1;32mif\u001b[0m \u001b[0mself\u001b[0m\u001b[1;33m.\u001b[0m\u001b[0m_info_axis\u001b[0m\u001b[1;33m.\u001b[0m\u001b[0m_can_hold_identifiers_and_holds_name\u001b[0m\u001b[1;33m(\u001b[0m\u001b[0mname\u001b[0m\u001b[1;33m)\u001b[0m\u001b[1;33m:\u001b[0m\u001b[1;33m\u001b[0m\u001b[1;33m\u001b[0m\u001b[0m\n",
            "\u001b[1;32m~\\AppData\\Local\\Programs\\Python\\Python37\\lib\\site-packages\\pandas\\core\\accessor.py\u001b[0m in \u001b[0;36m__get__\u001b[1;34m(self, obj, cls)\u001b[0m\n\u001b[0;32m    178\u001b[0m             \u001b[1;31m# we're accessing the attribute of the class, i.e., Dataset.geo\u001b[0m\u001b[1;33m\u001b[0m\u001b[1;33m\u001b[0m\u001b[1;33m\u001b[0m\u001b[0m\n\u001b[0;32m    179\u001b[0m             \u001b[1;32mreturn\u001b[0m \u001b[0mself\u001b[0m\u001b[1;33m.\u001b[0m\u001b[0m_accessor\u001b[0m\u001b[1;33m\u001b[0m\u001b[1;33m\u001b[0m\u001b[0m\n\u001b[1;32m--> 180\u001b[1;33m         \u001b[0maccessor_obj\u001b[0m \u001b[1;33m=\u001b[0m \u001b[0mself\u001b[0m\u001b[1;33m.\u001b[0m\u001b[0m_accessor\u001b[0m\u001b[1;33m(\u001b[0m\u001b[0mobj\u001b[0m\u001b[1;33m)\u001b[0m\u001b[1;33m\u001b[0m\u001b[1;33m\u001b[0m\u001b[0m\n\u001b[0m\u001b[0;32m    181\u001b[0m         \u001b[1;31m# Replace the property with the accessor object. Inspired by:\u001b[0m\u001b[1;33m\u001b[0m\u001b[1;33m\u001b[0m\u001b[1;33m\u001b[0m\u001b[0m\n\u001b[0;32m    182\u001b[0m         \u001b[1;31m# https://www.pydanny.com/cached-property.html\u001b[0m\u001b[1;33m\u001b[0m\u001b[1;33m\u001b[0m\u001b[1;33m\u001b[0m\u001b[0m\n",
            "\u001b[1;32m~\\AppData\\Local\\Programs\\Python\\Python37\\lib\\site-packages\\pandas\\core\\strings\\accessor.py\u001b[0m in \u001b[0;36m__init__\u001b[1;34m(self, data)\u001b[0m\n\u001b[0;32m    152\u001b[0m         \u001b[1;32mfrom\u001b[0m \u001b[0mpandas\u001b[0m\u001b[1;33m.\u001b[0m\u001b[0mcore\u001b[0m\u001b[1;33m.\u001b[0m\u001b[0marrays\u001b[0m\u001b[1;33m.\u001b[0m\u001b[0mstring_\u001b[0m \u001b[1;32mimport\u001b[0m \u001b[0mStringDtype\u001b[0m\u001b[1;33m\u001b[0m\u001b[1;33m\u001b[0m\u001b[0m\n\u001b[0;32m    153\u001b[0m \u001b[1;33m\u001b[0m\u001b[0m\n\u001b[1;32m--> 154\u001b[1;33m         \u001b[0mself\u001b[0m\u001b[1;33m.\u001b[0m\u001b[0m_inferred_dtype\u001b[0m \u001b[1;33m=\u001b[0m \u001b[0mself\u001b[0m\u001b[1;33m.\u001b[0m\u001b[0m_validate\u001b[0m\u001b[1;33m(\u001b[0m\u001b[0mdata\u001b[0m\u001b[1;33m)\u001b[0m\u001b[1;33m\u001b[0m\u001b[1;33m\u001b[0m\u001b[0m\n\u001b[0m\u001b[0;32m    155\u001b[0m         \u001b[0mself\u001b[0m\u001b[1;33m.\u001b[0m\u001b[0m_is_categorical\u001b[0m \u001b[1;33m=\u001b[0m \u001b[0mis_categorical_dtype\u001b[0m\u001b[1;33m(\u001b[0m\u001b[0mdata\u001b[0m\u001b[1;33m.\u001b[0m\u001b[0mdtype\u001b[0m\u001b[1;33m)\u001b[0m\u001b[1;33m\u001b[0m\u001b[1;33m\u001b[0m\u001b[0m\n\u001b[0;32m    156\u001b[0m         \u001b[0mself\u001b[0m\u001b[1;33m.\u001b[0m\u001b[0m_is_string\u001b[0m \u001b[1;33m=\u001b[0m \u001b[0misinstance\u001b[0m\u001b[1;33m(\u001b[0m\u001b[0mdata\u001b[0m\u001b[1;33m.\u001b[0m\u001b[0mdtype\u001b[0m\u001b[1;33m,\u001b[0m \u001b[0mStringDtype\u001b[0m\u001b[1;33m)\u001b[0m\u001b[1;33m\u001b[0m\u001b[1;33m\u001b[0m\u001b[0m\n",
            "\u001b[1;32m~\\AppData\\Local\\Programs\\Python\\Python37\\lib\\site-packages\\pandas\\core\\strings\\accessor.py\u001b[0m in \u001b[0;36m_validate\u001b[1;34m(data)\u001b[0m\n\u001b[0;32m    215\u001b[0m \u001b[1;33m\u001b[0m\u001b[0m\n\u001b[0;32m    216\u001b[0m         \u001b[1;32mif\u001b[0m \u001b[0minferred_dtype\u001b[0m \u001b[1;32mnot\u001b[0m \u001b[1;32min\u001b[0m \u001b[0mallowed_types\u001b[0m\u001b[1;33m:\u001b[0m\u001b[1;33m\u001b[0m\u001b[1;33m\u001b[0m\u001b[0m\n\u001b[1;32m--> 217\u001b[1;33m             \u001b[1;32mraise\u001b[0m \u001b[0mAttributeError\u001b[0m\u001b[1;33m(\u001b[0m\u001b[1;34m\"Can only use .str accessor with string values!\"\u001b[0m\u001b[1;33m)\u001b[0m\u001b[1;33m\u001b[0m\u001b[1;33m\u001b[0m\u001b[0m\n\u001b[0m\u001b[0;32m    218\u001b[0m         \u001b[1;32mreturn\u001b[0m \u001b[0minferred_dtype\u001b[0m\u001b[1;33m\u001b[0m\u001b[1;33m\u001b[0m\u001b[0m\n\u001b[0;32m    219\u001b[0m \u001b[1;33m\u001b[0m\u001b[0m\n",
            "\u001b[1;31mAttributeError\u001b[0m: Can only use .str accessor with string values!"
          ]
        }
      ],
      "source": [
        "chipo['item_price'].str[1:].astype(float)"
      ]
    },
    {
      "cell_type": "code",
      "execution_count": 162,
      "metadata": {},
      "outputs": [
        {
          "output_type": "execute_result",
          "data": {
            "text/plain": [
              "0        2.39\n",
              "1        3.39\n",
              "2        3.39\n",
              "3        2.39\n",
              "4       16.98\n",
              "        ...  \n",
              "4617    11.75\n",
              "4618    11.75\n",
              "4619    11.25\n",
              "4620     8.75\n",
              "4621     8.75\n",
              "Name: item_price, Length: 4622, dtype: float64"
            ]
          },
          "metadata": {},
          "execution_count": 162
        }
      ],
      "source": [
        "chipo.item_price.apply(lambda x: float(x[1:]))"
      ]
    },
    {
      "cell_type": "code",
      "execution_count": 168,
      "metadata": {},
      "outputs": [],
      "source": [
        "chipo = chipo.item_price.apply(lambda x: float(x[1:]))"
      ]
    },
    {
      "cell_type": "code",
      "execution_count": 170,
      "metadata": {},
      "outputs": [
        {
          "output_type": "error",
          "ename": "AttributeError",
          "evalue": "'Series' object has no attribute 'item_price'",
          "traceback": [
            "\u001b[1;31m---------------------------------------------------------------------------\u001b[0m",
            "\u001b[1;31mAttributeError\u001b[0m                            Traceback (most recent call last)",
            "\u001b[1;32m<ipython-input-170-affc4919a8fb>\u001b[0m in \u001b[0;36m<module>\u001b[1;34m\u001b[0m\n\u001b[1;32m----> 1\u001b[1;33m \u001b[0mchipo\u001b[0m\u001b[1;33m[\u001b[0m\u001b[1;34m\"item_price\"\u001b[0m\u001b[1;33m]\u001b[0m \u001b[1;33m=\u001b[0m \u001b[0mchipo\u001b[0m\u001b[1;33m.\u001b[0m\u001b[0mitem_price\u001b[0m\u001b[1;33m.\u001b[0m\u001b[0mapply\u001b[0m\u001b[1;33m(\u001b[0m\u001b[1;32mlambda\u001b[0m \u001b[0mx\u001b[0m\u001b[1;33m:\u001b[0m \u001b[0mfloat\u001b[0m\u001b[1;33m(\u001b[0m\u001b[0mx\u001b[0m\u001b[1;33m[\u001b[0m\u001b[1;36m1\u001b[0m\u001b[1;33m:\u001b[0m\u001b[1;33m]\u001b[0m\u001b[1;33m)\u001b[0m\u001b[1;33m)\u001b[0m\u001b[1;33m\u001b[0m\u001b[1;33m\u001b[0m\u001b[0m\n\u001b[0m",
            "\u001b[1;32m~\\AppData\\Local\\Programs\\Python\\Python37\\lib\\site-packages\\pandas\\core\\generic.py\u001b[0m in \u001b[0;36m__getattr__\u001b[1;34m(self, name)\u001b[0m\n\u001b[0;32m   5463\u001b[0m             \u001b[1;32mif\u001b[0m \u001b[0mself\u001b[0m\u001b[1;33m.\u001b[0m\u001b[0m_info_axis\u001b[0m\u001b[1;33m.\u001b[0m\u001b[0m_can_hold_identifiers_and_holds_name\u001b[0m\u001b[1;33m(\u001b[0m\u001b[0mname\u001b[0m\u001b[1;33m)\u001b[0m\u001b[1;33m:\u001b[0m\u001b[1;33m\u001b[0m\u001b[1;33m\u001b[0m\u001b[0m\n\u001b[0;32m   5464\u001b[0m                 \u001b[1;32mreturn\u001b[0m \u001b[0mself\u001b[0m\u001b[1;33m[\u001b[0m\u001b[0mname\u001b[0m\u001b[1;33m]\u001b[0m\u001b[1;33m\u001b[0m\u001b[1;33m\u001b[0m\u001b[0m\n\u001b[1;32m-> 5465\u001b[1;33m             \u001b[1;32mreturn\u001b[0m \u001b[0mobject\u001b[0m\u001b[1;33m.\u001b[0m\u001b[0m__getattribute__\u001b[0m\u001b[1;33m(\u001b[0m\u001b[0mself\u001b[0m\u001b[1;33m,\u001b[0m \u001b[0mname\u001b[0m\u001b[1;33m)\u001b[0m\u001b[1;33m\u001b[0m\u001b[1;33m\u001b[0m\u001b[0m\n\u001b[0m\u001b[0;32m   5466\u001b[0m \u001b[1;33m\u001b[0m\u001b[0m\n\u001b[0;32m   5467\u001b[0m     \u001b[1;32mdef\u001b[0m \u001b[0m__setattr__\u001b[0m\u001b[1;33m(\u001b[0m\u001b[0mself\u001b[0m\u001b[1;33m,\u001b[0m \u001b[0mname\u001b[0m\u001b[1;33m:\u001b[0m \u001b[0mstr\u001b[0m\u001b[1;33m,\u001b[0m \u001b[0mvalue\u001b[0m\u001b[1;33m)\u001b[0m \u001b[1;33m->\u001b[0m \u001b[1;32mNone\u001b[0m\u001b[1;33m:\u001b[0m\u001b[1;33m\u001b[0m\u001b[1;33m\u001b[0m\u001b[0m\n",
            "\u001b[1;31mAttributeError\u001b[0m: 'Series' object has no attribute 'item_price'"
          ]
        }
      ],
      "source": [
        "chipo[\"item_price\"] = chipo.item_price.apply(lambda x: float(x[1:]))"
      ]
    },
    {
      "cell_type": "code",
      "execution_count": 169,
      "metadata": {},
      "outputs": [
        {
          "output_type": "error",
          "ename": "ValueError",
          "evalue": "No axis named item_price for object type Series",
          "traceback": [
            "\u001b[1;31m---------------------------------------------------------------------------\u001b[0m",
            "\u001b[1;31mKeyError\u001b[0m                                  Traceback (most recent call last)",
            "\u001b[1;32m~\\AppData\\Local\\Programs\\Python\\Python37\\lib\\site-packages\\pandas\\core\\generic.py\u001b[0m in \u001b[0;36m_get_axis_number\u001b[1;34m(cls, axis)\u001b[0m\n\u001b[0;32m    459\u001b[0m         \u001b[1;32mtry\u001b[0m\u001b[1;33m:\u001b[0m\u001b[1;33m\u001b[0m\u001b[1;33m\u001b[0m\u001b[0m\n\u001b[1;32m--> 460\u001b[1;33m             \u001b[1;32mreturn\u001b[0m \u001b[0mcls\u001b[0m\u001b[1;33m.\u001b[0m\u001b[0m_AXIS_TO_AXIS_NUMBER\u001b[0m\u001b[1;33m[\u001b[0m\u001b[0maxis\u001b[0m\u001b[1;33m]\u001b[0m\u001b[1;33m\u001b[0m\u001b[1;33m\u001b[0m\u001b[0m\n\u001b[0m\u001b[0;32m    461\u001b[0m         \u001b[1;32mexcept\u001b[0m \u001b[0mKeyError\u001b[0m\u001b[1;33m:\u001b[0m\u001b[1;33m\u001b[0m\u001b[1;33m\u001b[0m\u001b[0m\n",
            "\u001b[1;31mKeyError\u001b[0m: 'item_price'",
            "\nDuring handling of the above exception, another exception occurred:\n",
            "\u001b[1;31mValueError\u001b[0m                                Traceback (most recent call last)",
            "\u001b[1;32m<ipython-input-169-9860e7342699>\u001b[0m in \u001b[0;36m<module>\u001b[1;34m\u001b[0m\n\u001b[1;32m----> 1\u001b[1;33m \u001b[0mchipo\u001b[0m\u001b[1;33m.\u001b[0m\u001b[0msort_values\u001b[0m\u001b[1;33m(\u001b[0m\u001b[1;34m\"item_price\"\u001b[0m\u001b[1;33m,\u001b[0m \u001b[0mascending\u001b[0m\u001b[1;33m=\u001b[0m\u001b[1;32mFalse\u001b[0m\u001b[1;33m)\u001b[0m\u001b[1;33m\u001b[0m\u001b[1;33m\u001b[0m\u001b[0m\n\u001b[0m",
            "\u001b[1;32m~\\AppData\\Local\\Programs\\Python\\Python37\\lib\\site-packages\\pandas\\core\\series.py\u001b[0m in \u001b[0;36msort_values\u001b[1;34m(self, axis, ascending, inplace, kind, na_position, ignore_index, key)\u001b[0m\n\u001b[0;32m   3236\u001b[0m         \u001b[0minplace\u001b[0m \u001b[1;33m=\u001b[0m \u001b[0mvalidate_bool_kwarg\u001b[0m\u001b[1;33m(\u001b[0m\u001b[0minplace\u001b[0m\u001b[1;33m,\u001b[0m \u001b[1;34m\"inplace\"\u001b[0m\u001b[1;33m)\u001b[0m\u001b[1;33m\u001b[0m\u001b[1;33m\u001b[0m\u001b[0m\n\u001b[0;32m   3237\u001b[0m         \u001b[1;31m# Validate the axis parameter\u001b[0m\u001b[1;33m\u001b[0m\u001b[1;33m\u001b[0m\u001b[1;33m\u001b[0m\u001b[0m\n\u001b[1;32m-> 3238\u001b[1;33m         \u001b[0mself\u001b[0m\u001b[1;33m.\u001b[0m\u001b[0m_get_axis_number\u001b[0m\u001b[1;33m(\u001b[0m\u001b[0maxis\u001b[0m\u001b[1;33m)\u001b[0m\u001b[1;33m\u001b[0m\u001b[1;33m\u001b[0m\u001b[0m\n\u001b[0m\u001b[0;32m   3239\u001b[0m \u001b[1;33m\u001b[0m\u001b[0m\n\u001b[0;32m   3240\u001b[0m         \u001b[1;31m# GH 5856/5853\u001b[0m\u001b[1;33m\u001b[0m\u001b[1;33m\u001b[0m\u001b[1;33m\u001b[0m\u001b[0m\n",
            "\u001b[1;32m~\\AppData\\Local\\Programs\\Python\\Python37\\lib\\site-packages\\pandas\\core\\generic.py\u001b[0m in \u001b[0;36m_get_axis_number\u001b[1;34m(cls, axis)\u001b[0m\n\u001b[0;32m    460\u001b[0m             \u001b[1;32mreturn\u001b[0m \u001b[0mcls\u001b[0m\u001b[1;33m.\u001b[0m\u001b[0m_AXIS_TO_AXIS_NUMBER\u001b[0m\u001b[1;33m[\u001b[0m\u001b[0maxis\u001b[0m\u001b[1;33m]\u001b[0m\u001b[1;33m\u001b[0m\u001b[1;33m\u001b[0m\u001b[0m\n\u001b[0;32m    461\u001b[0m         \u001b[1;32mexcept\u001b[0m \u001b[0mKeyError\u001b[0m\u001b[1;33m:\u001b[0m\u001b[1;33m\u001b[0m\u001b[1;33m\u001b[0m\u001b[0m\n\u001b[1;32m--> 462\u001b[1;33m             \u001b[1;32mraise\u001b[0m \u001b[0mValueError\u001b[0m\u001b[1;33m(\u001b[0m\u001b[1;34mf\"No axis named {axis} for object type {cls.__name__}\"\u001b[0m\u001b[1;33m)\u001b[0m\u001b[1;33m\u001b[0m\u001b[1;33m\u001b[0m\u001b[0m\n\u001b[0m\u001b[0;32m    463\u001b[0m \u001b[1;33m\u001b[0m\u001b[0m\n\u001b[0;32m    464\u001b[0m     \u001b[1;33m@\u001b[0m\u001b[0mfinal\u001b[0m\u001b[1;33m\u001b[0m\u001b[1;33m\u001b[0m\u001b[0m\n",
            "\u001b[1;31mValueError\u001b[0m: No axis named item_price for object type Series"
          ]
        }
      ],
      "source": [
        "chipo.sort_values(\"item_price\", ascending=False)"
      ]
    },
    {
      "cell_type": "markdown",
      "metadata": {
        "id": "twUnG9lhVg9_"
      },
      "source": [
        "### Step 4. How many products cost more than $10.00?"
      ]
    },
    {
      "cell_type": "code",
      "execution_count": 9,
      "metadata": {},
      "outputs": [
        {
          "output_type": "execute_result",
          "data": {
            "text/plain": [
              "      order_id  quantity           item_name  \\\n",
              "4            2         2        Chicken Bowl   \n",
              "5            3         1        Chicken Bowl   \n",
              "7            4         1       Steak Burrito   \n",
              "13           7         1        Chicken Bowl   \n",
              "23          12         1     Chicken Burrito   \n",
              "...        ...       ...                 ...   \n",
              "4610      1830         1       Steak Burrito   \n",
              "4611      1830         1      Veggie Burrito   \n",
              "4617      1833         1       Steak Burrito   \n",
              "4618      1833         1       Steak Burrito   \n",
              "4619      1834         1  Chicken Salad Bowl   \n",
              "\n",
              "                                     choice_description  item_price  \n",
              "4     [Tomatillo-Red Chili Salsa (Hot), [Black Beans...       16.98  \n",
              "5     [Fresh Tomato Salsa (Mild), [Rice, Cheese, Sou...       10.98  \n",
              "7     [Tomatillo Red Chili Salsa, [Fajita Vegetables...       11.75  \n",
              "13    [Fresh Tomato Salsa, [Fajita Vegetables, Rice,...       11.25  \n",
              "23    [[Tomatillo-Green Chili Salsa (Medium), Tomati...       10.98  \n",
              "...                                                 ...         ...  \n",
              "4610  [Fresh Tomato Salsa, [Rice, Sour Cream, Cheese...       11.75  \n",
              "4611  [Tomatillo Green Chili Salsa, [Rice, Fajita Ve...       11.25  \n",
              "4617  [Fresh Tomato Salsa, [Rice, Black Beans, Sour ...       11.75  \n",
              "4618  [Fresh Tomato Salsa, [Rice, Sour Cream, Cheese...       11.75  \n",
              "4619  [Fresh Tomato Salsa, [Fajita Vegetables, Pinto...       11.25  \n",
              "\n",
              "[1130 rows x 5 columns]"
            ],
            "text/html": "<div>\n<style scoped>\n    .dataframe tbody tr th:only-of-type {\n        vertical-align: middle;\n    }\n\n    .dataframe tbody tr th {\n        vertical-align: top;\n    }\n\n    .dataframe thead th {\n        text-align: right;\n    }\n</style>\n<table border=\"1\" class=\"dataframe\">\n  <thead>\n    <tr style=\"text-align: right;\">\n      <th></th>\n      <th>order_id</th>\n      <th>quantity</th>\n      <th>item_name</th>\n      <th>choice_description</th>\n      <th>item_price</th>\n    </tr>\n  </thead>\n  <tbody>\n    <tr>\n      <th>4</th>\n      <td>2</td>\n      <td>2</td>\n      <td>Chicken Bowl</td>\n      <td>[Tomatillo-Red Chili Salsa (Hot), [Black Beans...</td>\n      <td>16.98</td>\n    </tr>\n    <tr>\n      <th>5</th>\n      <td>3</td>\n      <td>1</td>\n      <td>Chicken Bowl</td>\n      <td>[Fresh Tomato Salsa (Mild), [Rice, Cheese, Sou...</td>\n      <td>10.98</td>\n    </tr>\n    <tr>\n      <th>7</th>\n      <td>4</td>\n      <td>1</td>\n      <td>Steak Burrito</td>\n      <td>[Tomatillo Red Chili Salsa, [Fajita Vegetables...</td>\n      <td>11.75</td>\n    </tr>\n    <tr>\n      <th>13</th>\n      <td>7</td>\n      <td>1</td>\n      <td>Chicken Bowl</td>\n      <td>[Fresh Tomato Salsa, [Fajita Vegetables, Rice,...</td>\n      <td>11.25</td>\n    </tr>\n    <tr>\n      <th>23</th>\n      <td>12</td>\n      <td>1</td>\n      <td>Chicken Burrito</td>\n      <td>[[Tomatillo-Green Chili Salsa (Medium), Tomati...</td>\n      <td>10.98</td>\n    </tr>\n    <tr>\n      <th>...</th>\n      <td>...</td>\n      <td>...</td>\n      <td>...</td>\n      <td>...</td>\n      <td>...</td>\n    </tr>\n    <tr>\n      <th>4610</th>\n      <td>1830</td>\n      <td>1</td>\n      <td>Steak Burrito</td>\n      <td>[Fresh Tomato Salsa, [Rice, Sour Cream, Cheese...</td>\n      <td>11.75</td>\n    </tr>\n    <tr>\n      <th>4611</th>\n      <td>1830</td>\n      <td>1</td>\n      <td>Veggie Burrito</td>\n      <td>[Tomatillo Green Chili Salsa, [Rice, Fajita Ve...</td>\n      <td>11.25</td>\n    </tr>\n    <tr>\n      <th>4617</th>\n      <td>1833</td>\n      <td>1</td>\n      <td>Steak Burrito</td>\n      <td>[Fresh Tomato Salsa, [Rice, Black Beans, Sour ...</td>\n      <td>11.75</td>\n    </tr>\n    <tr>\n      <th>4618</th>\n      <td>1833</td>\n      <td>1</td>\n      <td>Steak Burrito</td>\n      <td>[Fresh Tomato Salsa, [Rice, Sour Cream, Cheese...</td>\n      <td>11.75</td>\n    </tr>\n    <tr>\n      <th>4619</th>\n      <td>1834</td>\n      <td>1</td>\n      <td>Chicken Salad Bowl</td>\n      <td>[Fresh Tomato Salsa, [Fajita Vegetables, Pinto...</td>\n      <td>11.25</td>\n    </tr>\n  </tbody>\n</table>\n<p>1130 rows × 5 columns</p>\n</div>"
          },
          "metadata": {},
          "execution_count": 9
        }
      ],
      "source": [
        "chipo[chipo['item_price'] > 10.00]"
      ]
    },
    {
      "cell_type": "code",
      "execution_count": null,
      "metadata": {},
      "outputs": [],
      "source": [
        "##Llegados a este punto es que ya no se qué hacer"
      ]
    },
    {
      "cell_type": "markdown",
      "metadata": {
        "id": "mscEJwXLVg-B"
      },
      "source": [
        "### Step 5. What is the price of each item? \n",
        "###### print a data frame with only two columns item_name and item_price"
      ]
    },
    {
      "cell_type": "code",
      "metadata": {
        "id": "rImT_i-lVg-C"
      },
      "source": [
        "prices = chipo[[\"item_name\",\"item_price\"]]\n",
        "prices"
      ],
      "execution_count": 30,
      "outputs": [
        {
          "output_type": "execute_result",
          "data": {
            "text/plain": [
              "                                  item_name item_price\n",
              "0              Chips and Fresh Tomato Salsa     $2.39 \n",
              "1                                      Izze     $3.39 \n",
              "2                          Nantucket Nectar     $3.39 \n",
              "3     Chips and Tomatillo-Green Chili Salsa     $2.39 \n",
              "4                              Chicken Bowl    $16.98 \n",
              "...                                     ...        ...\n",
              "4617                          Steak Burrito    $11.75 \n",
              "4618                          Steak Burrito    $11.75 \n",
              "4619                     Chicken Salad Bowl    $11.25 \n",
              "4620                     Chicken Salad Bowl     $8.75 \n",
              "4621                     Chicken Salad Bowl     $8.75 \n",
              "\n",
              "[4622 rows x 2 columns]"
            ],
            "text/html": "<div>\n<style scoped>\n    .dataframe tbody tr th:only-of-type {\n        vertical-align: middle;\n    }\n\n    .dataframe tbody tr th {\n        vertical-align: top;\n    }\n\n    .dataframe thead th {\n        text-align: right;\n    }\n</style>\n<table border=\"1\" class=\"dataframe\">\n  <thead>\n    <tr style=\"text-align: right;\">\n      <th></th>\n      <th>item_name</th>\n      <th>item_price</th>\n    </tr>\n  </thead>\n  <tbody>\n    <tr>\n      <th>0</th>\n      <td>Chips and Fresh Tomato Salsa</td>\n      <td>$2.39</td>\n    </tr>\n    <tr>\n      <th>1</th>\n      <td>Izze</td>\n      <td>$3.39</td>\n    </tr>\n    <tr>\n      <th>2</th>\n      <td>Nantucket Nectar</td>\n      <td>$3.39</td>\n    </tr>\n    <tr>\n      <th>3</th>\n      <td>Chips and Tomatillo-Green Chili Salsa</td>\n      <td>$2.39</td>\n    </tr>\n    <tr>\n      <th>4</th>\n      <td>Chicken Bowl</td>\n      <td>$16.98</td>\n    </tr>\n    <tr>\n      <th>...</th>\n      <td>...</td>\n      <td>...</td>\n    </tr>\n    <tr>\n      <th>4617</th>\n      <td>Steak Burrito</td>\n      <td>$11.75</td>\n    </tr>\n    <tr>\n      <th>4618</th>\n      <td>Steak Burrito</td>\n      <td>$11.75</td>\n    </tr>\n    <tr>\n      <th>4619</th>\n      <td>Chicken Salad Bowl</td>\n      <td>$11.25</td>\n    </tr>\n    <tr>\n      <th>4620</th>\n      <td>Chicken Salad Bowl</td>\n      <td>$8.75</td>\n    </tr>\n    <tr>\n      <th>4621</th>\n      <td>Chicken Salad Bowl</td>\n      <td>$8.75</td>\n    </tr>\n  </tbody>\n</table>\n<p>4622 rows × 2 columns</p>\n</div>"
          },
          "metadata": {},
          "execution_count": 30
        }
      ]
    },
    {
      "cell_type": "markdown",
      "metadata": {
        "id": "7plkZIOtVg-D"
      },
      "source": [
        "### Step 6. Sort by the name of the item"
      ]
    },
    {
      "cell_type": "code",
      "metadata": {
        "id": "go7RJ6p8Vg-E"
      },
      "source": [
        "prices.sort_values([\"item_name\"])"
      ],
      "execution_count": 31,
      "outputs": [
        {
          "output_type": "execute_result",
          "data": {
            "text/plain": [
              "              item_name item_price\n",
              "3389  6 Pack Soft Drink    $12.98 \n",
              "341   6 Pack Soft Drink     $6.49 \n",
              "1849  6 Pack Soft Drink     $6.49 \n",
              "1860  6 Pack Soft Drink     $6.49 \n",
              "2713  6 Pack Soft Drink     $6.49 \n",
              "...                 ...        ...\n",
              "2384  Veggie Soft Tacos     $8.75 \n",
              "781   Veggie Soft Tacos     $8.75 \n",
              "2851  Veggie Soft Tacos     $8.49 \n",
              "1699  Veggie Soft Tacos    $11.25 \n",
              "1395  Veggie Soft Tacos     $8.49 \n",
              "\n",
              "[4622 rows x 2 columns]"
            ],
            "text/html": "<div>\n<style scoped>\n    .dataframe tbody tr th:only-of-type {\n        vertical-align: middle;\n    }\n\n    .dataframe tbody tr th {\n        vertical-align: top;\n    }\n\n    .dataframe thead th {\n        text-align: right;\n    }\n</style>\n<table border=\"1\" class=\"dataframe\">\n  <thead>\n    <tr style=\"text-align: right;\">\n      <th></th>\n      <th>item_name</th>\n      <th>item_price</th>\n    </tr>\n  </thead>\n  <tbody>\n    <tr>\n      <th>3389</th>\n      <td>6 Pack Soft Drink</td>\n      <td>$12.98</td>\n    </tr>\n    <tr>\n      <th>341</th>\n      <td>6 Pack Soft Drink</td>\n      <td>$6.49</td>\n    </tr>\n    <tr>\n      <th>1849</th>\n      <td>6 Pack Soft Drink</td>\n      <td>$6.49</td>\n    </tr>\n    <tr>\n      <th>1860</th>\n      <td>6 Pack Soft Drink</td>\n      <td>$6.49</td>\n    </tr>\n    <tr>\n      <th>2713</th>\n      <td>6 Pack Soft Drink</td>\n      <td>$6.49</td>\n    </tr>\n    <tr>\n      <th>...</th>\n      <td>...</td>\n      <td>...</td>\n    </tr>\n    <tr>\n      <th>2384</th>\n      <td>Veggie Soft Tacos</td>\n      <td>$8.75</td>\n    </tr>\n    <tr>\n      <th>781</th>\n      <td>Veggie Soft Tacos</td>\n      <td>$8.75</td>\n    </tr>\n    <tr>\n      <th>2851</th>\n      <td>Veggie Soft Tacos</td>\n      <td>$8.49</td>\n    </tr>\n    <tr>\n      <th>1699</th>\n      <td>Veggie Soft Tacos</td>\n      <td>$11.25</td>\n    </tr>\n    <tr>\n      <th>1395</th>\n      <td>Veggie Soft Tacos</td>\n      <td>$8.49</td>\n    </tr>\n  </tbody>\n</table>\n<p>4622 rows × 2 columns</p>\n</div>"
          },
          "metadata": {},
          "execution_count": 31
        }
      ]
    },
    {
      "cell_type": "markdown",
      "metadata": {
        "id": "M4Lj4Np3Vg-E"
      },
      "source": [
        "### Step 7. What was the quantity of the most expensive item ordered? 2 ways"
      ]
    },
    {
      "cell_type": "markdown",
      "metadata": {
        "id": "fOE5U3wwVg-F"
      },
      "source": [
        "V1"
      ]
    },
    {
      "cell_type": "code",
      "metadata": {
        "id": "usoi3uzmVg-I"
      },
      "source": [
        "chipo.sort_values(\"item_price\", ascending=False)"
      ],
      "execution_count": 106,
      "outputs": [
        {
          "output_type": "error",
          "ename": "ValueError",
          "evalue": "No axis named item_price for object type Series",
          "traceback": [
            "\u001b[1;31m---------------------------------------------------------------------------\u001b[0m",
            "\u001b[1;31mKeyError\u001b[0m                                  Traceback (most recent call last)",
            "\u001b[1;32m~\\AppData\\Local\\Programs\\Python\\Python37\\lib\\site-packages\\pandas\\core\\generic.py\u001b[0m in \u001b[0;36m_get_axis_number\u001b[1;34m(cls, axis)\u001b[0m\n\u001b[0;32m    459\u001b[0m         \u001b[1;32mtry\u001b[0m\u001b[1;33m:\u001b[0m\u001b[1;33m\u001b[0m\u001b[1;33m\u001b[0m\u001b[0m\n\u001b[1;32m--> 460\u001b[1;33m             \u001b[1;32mreturn\u001b[0m \u001b[0mcls\u001b[0m\u001b[1;33m.\u001b[0m\u001b[0m_AXIS_TO_AXIS_NUMBER\u001b[0m\u001b[1;33m[\u001b[0m\u001b[0maxis\u001b[0m\u001b[1;33m]\u001b[0m\u001b[1;33m\u001b[0m\u001b[1;33m\u001b[0m\u001b[0m\n\u001b[0m\u001b[0;32m    461\u001b[0m         \u001b[1;32mexcept\u001b[0m \u001b[0mKeyError\u001b[0m\u001b[1;33m:\u001b[0m\u001b[1;33m\u001b[0m\u001b[1;33m\u001b[0m\u001b[0m\n",
            "\u001b[1;31mKeyError\u001b[0m: 'item_price'",
            "\nDuring handling of the above exception, another exception occurred:\n",
            "\u001b[1;31mValueError\u001b[0m                                Traceback (most recent call last)",
            "\u001b[1;32m<ipython-input-106-9860e7342699>\u001b[0m in \u001b[0;36m<module>\u001b[1;34m\u001b[0m\n\u001b[1;32m----> 1\u001b[1;33m \u001b[0mchipo\u001b[0m\u001b[1;33m.\u001b[0m\u001b[0msort_values\u001b[0m\u001b[1;33m(\u001b[0m\u001b[1;34m\"item_price\"\u001b[0m\u001b[1;33m,\u001b[0m \u001b[0mascending\u001b[0m\u001b[1;33m=\u001b[0m\u001b[1;32mFalse\u001b[0m\u001b[1;33m)\u001b[0m\u001b[1;33m\u001b[0m\u001b[1;33m\u001b[0m\u001b[0m\n\u001b[0m",
            "\u001b[1;32m~\\AppData\\Local\\Programs\\Python\\Python37\\lib\\site-packages\\pandas\\core\\series.py\u001b[0m in \u001b[0;36msort_values\u001b[1;34m(self, axis, ascending, inplace, kind, na_position, ignore_index, key)\u001b[0m\n\u001b[0;32m   3236\u001b[0m         \u001b[0minplace\u001b[0m \u001b[1;33m=\u001b[0m \u001b[0mvalidate_bool_kwarg\u001b[0m\u001b[1;33m(\u001b[0m\u001b[0minplace\u001b[0m\u001b[1;33m,\u001b[0m \u001b[1;34m\"inplace\"\u001b[0m\u001b[1;33m)\u001b[0m\u001b[1;33m\u001b[0m\u001b[1;33m\u001b[0m\u001b[0m\n\u001b[0;32m   3237\u001b[0m         \u001b[1;31m# Validate the axis parameter\u001b[0m\u001b[1;33m\u001b[0m\u001b[1;33m\u001b[0m\u001b[1;33m\u001b[0m\u001b[0m\n\u001b[1;32m-> 3238\u001b[1;33m         \u001b[0mself\u001b[0m\u001b[1;33m.\u001b[0m\u001b[0m_get_axis_number\u001b[0m\u001b[1;33m(\u001b[0m\u001b[0maxis\u001b[0m\u001b[1;33m)\u001b[0m\u001b[1;33m\u001b[0m\u001b[1;33m\u001b[0m\u001b[0m\n\u001b[0m\u001b[0;32m   3239\u001b[0m \u001b[1;33m\u001b[0m\u001b[0m\n\u001b[0;32m   3240\u001b[0m         \u001b[1;31m# GH 5856/5853\u001b[0m\u001b[1;33m\u001b[0m\u001b[1;33m\u001b[0m\u001b[1;33m\u001b[0m\u001b[0m\n",
            "\u001b[1;32m~\\AppData\\Local\\Programs\\Python\\Python37\\lib\\site-packages\\pandas\\core\\generic.py\u001b[0m in \u001b[0;36m_get_axis_number\u001b[1;34m(cls, axis)\u001b[0m\n\u001b[0;32m    460\u001b[0m             \u001b[1;32mreturn\u001b[0m \u001b[0mcls\u001b[0m\u001b[1;33m.\u001b[0m\u001b[0m_AXIS_TO_AXIS_NUMBER\u001b[0m\u001b[1;33m[\u001b[0m\u001b[0maxis\u001b[0m\u001b[1;33m]\u001b[0m\u001b[1;33m\u001b[0m\u001b[1;33m\u001b[0m\u001b[0m\n\u001b[0;32m    461\u001b[0m         \u001b[1;32mexcept\u001b[0m \u001b[0mKeyError\u001b[0m\u001b[1;33m:\u001b[0m\u001b[1;33m\u001b[0m\u001b[1;33m\u001b[0m\u001b[0m\n\u001b[1;32m--> 462\u001b[1;33m             \u001b[1;32mraise\u001b[0m \u001b[0mValueError\u001b[0m\u001b[1;33m(\u001b[0m\u001b[1;34mf\"No axis named {axis} for object type {cls.__name__}\"\u001b[0m\u001b[1;33m)\u001b[0m\u001b[1;33m\u001b[0m\u001b[1;33m\u001b[0m\u001b[0m\n\u001b[0m\u001b[0;32m    463\u001b[0m \u001b[1;33m\u001b[0m\u001b[0m\n\u001b[0;32m    464\u001b[0m     \u001b[1;33m@\u001b[0m\u001b[0mfinal\u001b[0m\u001b[1;33m\u001b[0m\u001b[1;33m\u001b[0m\u001b[0m\n",
            "\u001b[1;31mValueError\u001b[0m: No axis named item_price for object type Series"
          ]
        }
      ]
    },
    {
      "cell_type": "markdown",
      "metadata": {
        "id": "SSm2iOUiVg-J"
      },
      "source": [
        "V2"
      ]
    },
    {
      "cell_type": "code",
      "metadata": {
        "id": "_RdQnro1Vg-J"
      },
      "source": [],
      "execution_count": null,
      "outputs": []
    },
    {
      "cell_type": "markdown",
      "metadata": {
        "id": "pnha-DUbVg-K"
      },
      "source": [
        "### Step 8. How many times was a Veggie Salad Bowl ordered?"
      ]
    },
    {
      "cell_type": "code",
      "execution_count": 40,
      "metadata": {},
      "outputs": [
        {
          "output_type": "error",
          "ename": "KeyError",
          "evalue": "'Veggie Salad Bow'",
          "traceback": [
            "\u001b[1;31m---------------------------------------------------------------------------\u001b[0m",
            "\u001b[1;31mKeyError\u001b[0m                                  Traceback (most recent call last)",
            "\u001b[1;32m<ipython-input-40-9eec7986831d>\u001b[0m in \u001b[0;36m<module>\u001b[1;34m\u001b[0m\n\u001b[1;32m----> 1\u001b[1;33m \u001b[0mchipo\u001b[0m\u001b[1;33m[\u001b[0m\u001b[1;34m'item_name'\u001b[0m\u001b[1;33m]\u001b[0m \u001b[1;33m=\u001b[0m \u001b[0mchipo\u001b[0m\u001b[1;33m.\u001b[0m\u001b[0mgroupby\u001b[0m\u001b[1;33m(\u001b[0m\u001b[1;34m'Veggie Salad Bow'\u001b[0m\u001b[1;33m)\u001b[0m\u001b[1;33m[\u001b[0m\u001b[1;34m'Veggie Salad Bow'\u001b[0m\u001b[1;33m]\u001b[0m\u001b[1;33m.\u001b[0m\u001b[0mtransform\u001b[0m\u001b[1;33m(\u001b[0m\u001b[1;34m'item_name'\u001b[0m\u001b[1;33m)\u001b[0m\u001b[1;33m\u001b[0m\u001b[1;33m\u001b[0m\u001b[0m\n\u001b[0m",
            "\u001b[1;32m~\\AppData\\Local\\Programs\\Python\\Python37\\lib\\site-packages\\pandas\\core\\frame.py\u001b[0m in \u001b[0;36mgroupby\u001b[1;34m(self, by, axis, level, as_index, sort, group_keys, squeeze, observed, dropna)\u001b[0m\n\u001b[0;32m   6725\u001b[0m             \u001b[0msqueeze\u001b[0m\u001b[1;33m=\u001b[0m\u001b[0msqueeze\u001b[0m\u001b[1;33m,\u001b[0m\u001b[1;33m\u001b[0m\u001b[1;33m\u001b[0m\u001b[0m\n\u001b[0;32m   6726\u001b[0m             \u001b[0mobserved\u001b[0m\u001b[1;33m=\u001b[0m\u001b[0mobserved\u001b[0m\u001b[1;33m,\u001b[0m\u001b[1;33m\u001b[0m\u001b[1;33m\u001b[0m\u001b[0m\n\u001b[1;32m-> 6727\u001b[1;33m             \u001b[0mdropna\u001b[0m\u001b[1;33m=\u001b[0m\u001b[0mdropna\u001b[0m\u001b[1;33m,\u001b[0m\u001b[1;33m\u001b[0m\u001b[1;33m\u001b[0m\u001b[0m\n\u001b[0m\u001b[0;32m   6728\u001b[0m         )\n\u001b[0;32m   6729\u001b[0m \u001b[1;33m\u001b[0m\u001b[0m\n",
            "\u001b[1;32m~\\AppData\\Local\\Programs\\Python\\Python37\\lib\\site-packages\\pandas\\core\\groupby\\groupby.py\u001b[0m in \u001b[0;36m__init__\u001b[1;34m(self, obj, keys, axis, level, grouper, exclusions, selection, as_index, sort, group_keys, squeeze, observed, mutated, dropna)\u001b[0m\n\u001b[0;32m    566\u001b[0m                 \u001b[0mobserved\u001b[0m\u001b[1;33m=\u001b[0m\u001b[0mobserved\u001b[0m\u001b[1;33m,\u001b[0m\u001b[1;33m\u001b[0m\u001b[1;33m\u001b[0m\u001b[0m\n\u001b[0;32m    567\u001b[0m                 \u001b[0mmutated\u001b[0m\u001b[1;33m=\u001b[0m\u001b[0mself\u001b[0m\u001b[1;33m.\u001b[0m\u001b[0mmutated\u001b[0m\u001b[1;33m,\u001b[0m\u001b[1;33m\u001b[0m\u001b[1;33m\u001b[0m\u001b[0m\n\u001b[1;32m--> 568\u001b[1;33m                 \u001b[0mdropna\u001b[0m\u001b[1;33m=\u001b[0m\u001b[0mself\u001b[0m\u001b[1;33m.\u001b[0m\u001b[0mdropna\u001b[0m\u001b[1;33m,\u001b[0m\u001b[1;33m\u001b[0m\u001b[1;33m\u001b[0m\u001b[0m\n\u001b[0m\u001b[0;32m    569\u001b[0m             )\n\u001b[0;32m    570\u001b[0m \u001b[1;33m\u001b[0m\u001b[0m\n",
            "\u001b[1;32m~\\AppData\\Local\\Programs\\Python\\Python37\\lib\\site-packages\\pandas\\core\\groupby\\grouper.py\u001b[0m in \u001b[0;36mget_grouper\u001b[1;34m(obj, key, axis, level, sort, observed, mutated, validate, dropna)\u001b[0m\n\u001b[0;32m    809\u001b[0m                 \u001b[0min_axis\u001b[0m\u001b[1;33m,\u001b[0m \u001b[0mname\u001b[0m\u001b[1;33m,\u001b[0m \u001b[0mlevel\u001b[0m\u001b[1;33m,\u001b[0m \u001b[0mgpr\u001b[0m \u001b[1;33m=\u001b[0m \u001b[1;32mFalse\u001b[0m\u001b[1;33m,\u001b[0m \u001b[1;32mNone\u001b[0m\u001b[1;33m,\u001b[0m \u001b[0mgpr\u001b[0m\u001b[1;33m,\u001b[0m \u001b[1;32mNone\u001b[0m\u001b[1;33m\u001b[0m\u001b[1;33m\u001b[0m\u001b[0m\n\u001b[0;32m    810\u001b[0m             \u001b[1;32melse\u001b[0m\u001b[1;33m:\u001b[0m\u001b[1;33m\u001b[0m\u001b[1;33m\u001b[0m\u001b[0m\n\u001b[1;32m--> 811\u001b[1;33m                 \u001b[1;32mraise\u001b[0m \u001b[0mKeyError\u001b[0m\u001b[1;33m(\u001b[0m\u001b[0mgpr\u001b[0m\u001b[1;33m)\u001b[0m\u001b[1;33m\u001b[0m\u001b[1;33m\u001b[0m\u001b[0m\n\u001b[0m\u001b[0;32m    812\u001b[0m         \u001b[1;32melif\u001b[0m \u001b[0misinstance\u001b[0m\u001b[1;33m(\u001b[0m\u001b[0mgpr\u001b[0m\u001b[1;33m,\u001b[0m \u001b[0mGrouper\u001b[0m\u001b[1;33m)\u001b[0m \u001b[1;32mand\u001b[0m \u001b[0mgpr\u001b[0m\u001b[1;33m.\u001b[0m\u001b[0mkey\u001b[0m \u001b[1;32mis\u001b[0m \u001b[1;32mnot\u001b[0m \u001b[1;32mNone\u001b[0m\u001b[1;33m:\u001b[0m\u001b[1;33m\u001b[0m\u001b[1;33m\u001b[0m\u001b[0m\n\u001b[0;32m    813\u001b[0m             \u001b[1;31m# Add key to exclusions\u001b[0m\u001b[1;33m\u001b[0m\u001b[1;33m\u001b[0m\u001b[1;33m\u001b[0m\u001b[0m\n",
            "\u001b[1;31mKeyError\u001b[0m: 'Veggie Salad Bow'"
          ]
        }
      ],
      "source": [
        "chipo['item_name'] = chipo.groupby('Veggie Salad Bow')['Veggie Salad Bow'].transform('item_name')"
      ]
    },
    {
      "cell_type": "code",
      "execution_count": 167,
      "metadata": {},
      "outputs": [
        {
          "output_type": "error",
          "ename": "TypeError",
          "evalue": "'method' object is not subscriptable",
          "traceback": [
            "\u001b[1;31m---------------------------------------------------------------------------\u001b[0m",
            "\u001b[1;31mTypeError\u001b[0m                                 Traceback (most recent call last)",
            "\u001b[1;32m<ipython-input-167-73a720ae6f3b>\u001b[0m in \u001b[0;36m<module>\u001b[1;34m\u001b[0m\n\u001b[1;32m----> 1\u001b[1;33m \u001b[0mchipo\u001b[0m\u001b[1;33m.\u001b[0m\u001b[0mgroupby\u001b[0m\u001b[1;33m[\u001b[0m\u001b[1;34m\"quantity\"\u001b[0m\u001b[1;33m]\u001b[0m\u001b[1;33m(\u001b[0m\u001b[1;34m'Veggie Salad Bow'\u001b[0m\u001b[1;33m)\u001b[0m\u001b[1;33m.\u001b[0m\u001b[0mtransform\u001b[0m\u001b[1;33m(\u001b[0m\u001b[1;34m'item_name'\u001b[0m\u001b[1;33m)\u001b[0m\u001b[1;33m\u001b[0m\u001b[1;33m\u001b[0m\u001b[0m\n\u001b[0m",
            "\u001b[1;31mTypeError\u001b[0m: 'method' object is not subscriptable"
          ]
        }
      ],
      "source": [
        "chipo.groupby[\"quantity\"]('Veggie Salad Bow').transform('item_name')"
      ]
    },
    {
      "cell_type": "code",
      "metadata": {
        "id": "PFFIM008Vg-K"
      },
      "source": [
        "chipo[\"item_name\"].value_counts()"
      ],
      "execution_count": 12,
      "outputs": [
        {
          "output_type": "execute_result",
          "data": {
            "text/plain": [
              "Chicken Bowl                             726\n",
              "Chicken Burrito                          553\n",
              "Chips and Guacamole                      479\n",
              "Steak Burrito                            368\n",
              "Canned Soft Drink                        301\n",
              "Steak Bowl                               211\n",
              "Chips                                    211\n",
              "Bottled Water                            162\n",
              "Chicken Soft Tacos                       115\n",
              "Chicken Salad Bowl                       110\n",
              "Chips and Fresh Tomato Salsa             110\n",
              "Canned Soda                              104\n",
              "Side of Chips                            101\n",
              "Veggie Burrito                            95\n",
              "Barbacoa Burrito                          91\n",
              "Veggie Bowl                               85\n",
              "Carnitas Bowl                             68\n",
              "Barbacoa Bowl                             66\n",
              "Carnitas Burrito                          59\n",
              "Steak Soft Tacos                          55\n",
              "6 Pack Soft Drink                         54\n",
              "Chips and Tomatillo Red Chili Salsa       48\n",
              "Chicken Crispy Tacos                      47\n",
              "Chips and Tomatillo Green Chili Salsa     43\n",
              "Carnitas Soft Tacos                       40\n",
              "Steak Crispy Tacos                        35\n",
              "Chips and Tomatillo-Green Chili Salsa     31\n",
              "Steak Salad Bowl                          29\n",
              "Nantucket Nectar                          27\n",
              "Barbacoa Soft Tacos                       25\n",
              "Chips and Roasted Chili Corn Salsa        22\n",
              "Chips and Tomatillo-Red Chili Salsa       20\n",
              "Izze                                      20\n",
              "Chips and Roasted Chili-Corn Salsa        18\n",
              "Veggie Salad Bowl                         18\n",
              "Barbacoa Crispy Tacos                     11\n",
              "Barbacoa Salad Bowl                       10\n",
              "Chicken Salad                              9\n",
              "Carnitas Crispy Tacos                      7\n",
              "Veggie Soft Tacos                          7\n",
              "Carnitas Salad Bowl                        6\n",
              "Veggie Salad                               6\n",
              "Burrito                                    6\n",
              "Steak Salad                                4\n",
              "Bowl                                       2\n",
              "Salad                                      2\n",
              "Crispy Tacos                               2\n",
              "Veggie Crispy Tacos                        1\n",
              "Chips and Mild Fresh Tomato Salsa          1\n",
              "Carnitas Salad                             1\n",
              "Name: item_name, dtype: int64"
            ]
          },
          "metadata": {},
          "execution_count": 12
        }
      ]
    },
    {
      "cell_type": "code",
      "execution_count": 20,
      "metadata": {},
      "outputs": [
        {
          "output_type": "execute_result",
          "data": {
            "text/plain": [
              "array([6], dtype=int64)"
            ]
          },
          "metadata": {},
          "execution_count": 20
        }
      ],
      "source": [
        "chipo[\"item_name\"].value_counts().values[chipo[\"item_name\"].value_counts().index == \"Veggie Salad\"]\n",
        "\n",
        "#chipo[\"item_name\"].value_counts().values hace de serie sobre la que se da el valor siguiente para pasarla con encima con los true"
      ]
    },
    {
      "cell_type": "code",
      "execution_count": 17,
      "metadata": {},
      "outputs": [
        {
          "output_type": "execute_result",
          "data": {
            "text/plain": [
              "array([3, 4])"
            ]
          },
          "metadata": {},
          "execution_count": 17
        }
      ],
      "source": [
        "\n",
        "arr1= np.array([3,4,5])\n",
        "arr1[[True,True,False]]"
      ]
    },
    {
      "cell_type": "markdown",
      "metadata": {
        "id": "MTKVC3xcVg-M"
      },
      "source": [
        "### Step 9. How many times did someone order more than one Canned Soda?"
      ]
    },
    {
      "cell_type": "code",
      "execution_count": 24,
      "metadata": {},
      "outputs": [
        {
          "output_type": "execute_result",
          "data": {
            "text/plain": [
              "      order_id  quantity                              item_name  \\\n",
              "0            1         1           Chips and Fresh Tomato Salsa   \n",
              "1            1         1                                   Izze   \n",
              "2            1         1                       Nantucket Nectar   \n",
              "3            1         1  Chips and Tomatillo-Green Chili Salsa   \n",
              "4            2         2                           Chicken Bowl   \n",
              "...        ...       ...                                    ...   \n",
              "4617      1833         1                          Steak Burrito   \n",
              "4618      1833         1                          Steak Burrito   \n",
              "4619      1834         1                     Chicken Salad Bowl   \n",
              "4620      1834         1                     Chicken Salad Bowl   \n",
              "4621      1834         1                     Chicken Salad Bowl   \n",
              "\n",
              "                                     choice_description  item_price  \n",
              "0                                                   NaN        2.39  \n",
              "1                                          [Clementine]        3.39  \n",
              "2                                               [Apple]        3.39  \n",
              "3                                                   NaN        2.39  \n",
              "4     [Tomatillo-Red Chili Salsa (Hot), [Black Beans...       16.98  \n",
              "...                                                 ...         ...  \n",
              "4617  [Fresh Tomato Salsa, [Rice, Black Beans, Sour ...       11.75  \n",
              "4618  [Fresh Tomato Salsa, [Rice, Sour Cream, Cheese...       11.75  \n",
              "4619  [Fresh Tomato Salsa, [Fajita Vegetables, Pinto...       11.25  \n",
              "4620  [Fresh Tomato Salsa, [Fajita Vegetables, Lettu...        8.75  \n",
              "4621  [Fresh Tomato Salsa, [Fajita Vegetables, Pinto...        8.75  \n",
              "\n",
              "[4622 rows x 5 columns]"
            ],
            "text/html": "<div>\n<style scoped>\n    .dataframe tbody tr th:only-of-type {\n        vertical-align: middle;\n    }\n\n    .dataframe tbody tr th {\n        vertical-align: top;\n    }\n\n    .dataframe thead th {\n        text-align: right;\n    }\n</style>\n<table border=\"1\" class=\"dataframe\">\n  <thead>\n    <tr style=\"text-align: right;\">\n      <th></th>\n      <th>order_id</th>\n      <th>quantity</th>\n      <th>item_name</th>\n      <th>choice_description</th>\n      <th>item_price</th>\n    </tr>\n  </thead>\n  <tbody>\n    <tr>\n      <th>0</th>\n      <td>1</td>\n      <td>1</td>\n      <td>Chips and Fresh Tomato Salsa</td>\n      <td>NaN</td>\n      <td>2.39</td>\n    </tr>\n    <tr>\n      <th>1</th>\n      <td>1</td>\n      <td>1</td>\n      <td>Izze</td>\n      <td>[Clementine]</td>\n      <td>3.39</td>\n    </tr>\n    <tr>\n      <th>2</th>\n      <td>1</td>\n      <td>1</td>\n      <td>Nantucket Nectar</td>\n      <td>[Apple]</td>\n      <td>3.39</td>\n    </tr>\n    <tr>\n      <th>3</th>\n      <td>1</td>\n      <td>1</td>\n      <td>Chips and Tomatillo-Green Chili Salsa</td>\n      <td>NaN</td>\n      <td>2.39</td>\n    </tr>\n    <tr>\n      <th>4</th>\n      <td>2</td>\n      <td>2</td>\n      <td>Chicken Bowl</td>\n      <td>[Tomatillo-Red Chili Salsa (Hot), [Black Beans...</td>\n      <td>16.98</td>\n    </tr>\n    <tr>\n      <th>...</th>\n      <td>...</td>\n      <td>...</td>\n      <td>...</td>\n      <td>...</td>\n      <td>...</td>\n    </tr>\n    <tr>\n      <th>4617</th>\n      <td>1833</td>\n      <td>1</td>\n      <td>Steak Burrito</td>\n      <td>[Fresh Tomato Salsa, [Rice, Black Beans, Sour ...</td>\n      <td>11.75</td>\n    </tr>\n    <tr>\n      <th>4618</th>\n      <td>1833</td>\n      <td>1</td>\n      <td>Steak Burrito</td>\n      <td>[Fresh Tomato Salsa, [Rice, Sour Cream, Cheese...</td>\n      <td>11.75</td>\n    </tr>\n    <tr>\n      <th>4619</th>\n      <td>1834</td>\n      <td>1</td>\n      <td>Chicken Salad Bowl</td>\n      <td>[Fresh Tomato Salsa, [Fajita Vegetables, Pinto...</td>\n      <td>11.25</td>\n    </tr>\n    <tr>\n      <th>4620</th>\n      <td>1834</td>\n      <td>1</td>\n      <td>Chicken Salad Bowl</td>\n      <td>[Fresh Tomato Salsa, [Fajita Vegetables, Lettu...</td>\n      <td>8.75</td>\n    </tr>\n    <tr>\n      <th>4621</th>\n      <td>1834</td>\n      <td>1</td>\n      <td>Chicken Salad Bowl</td>\n      <td>[Fresh Tomato Salsa, [Fajita Vegetables, Pinto...</td>\n      <td>8.75</td>\n    </tr>\n  </tbody>\n</table>\n<p>4622 rows × 5 columns</p>\n</div>"
          },
          "metadata": {},
          "execution_count": 24
        }
      ],
      "source": [
        "chipo"
      ]
    },
    {
      "cell_type": "code",
      "execution_count": 27,
      "metadata": {},
      "outputs": [
        {
          "output_type": "execute_result",
          "data": {
            "text/plain": [
              "array([4355,  224,   28,   10,    1,    1,    1,    1,    1], dtype=int64)"
            ]
          },
          "metadata": {},
          "execution_count": 27
        }
      ],
      "source": [
        "chipo[\"quantity\"].value_counts().values"
      ]
    },
    {
      "cell_type": "code",
      "execution_count": 32,
      "metadata": {},
      "outputs": [
        {
          "output_type": "execute_result",
          "data": {
            "text/plain": [
              "20"
            ]
          },
          "metadata": {},
          "execution_count": 32
        }
      ],
      "source": [
        "chipo[(chipo.item_name == \"Canned Soda\") & (chipo.quantity > 1)].shape[0]"
      ]
    },
    {
      "cell_type": "code",
      "execution_count": 33,
      "metadata": {},
      "outputs": [
        {
          "output_type": "execute_result",
          "data": {
            "text/plain": [
              "      order_id  quantity    item_name choice_description  item_price\n",
              "18           9         2  Canned Soda           [Sprite]        2.18\n",
              "28          14         1  Canned Soda       [Dr. Pepper]        1.09\n",
              "51          23         2  Canned Soda     [Mountain Dew]        2.18\n",
              "53          24         1  Canned Soda           [Sprite]        1.09\n",
              "107         47         1  Canned Soda       [Dr. Pepper]        1.09\n",
              "...        ...       ...          ...                ...         ...\n",
              "3897      1562         1  Canned Soda     [Mountain Dew]        1.09\n",
              "3926      1575         1  Canned Soda       [Dr. Pepper]        1.09\n",
              "3936      1578         1  Canned Soda  [Diet Dr. Pepper]        1.09\n",
              "4008      1604         1  Canned Soda        [Diet Coke]        1.09\n",
              "4051      1621         1  Canned Soda           [Sprite]        1.09\n",
              "\n",
              "[104 rows x 5 columns]"
            ],
            "text/html": "<div>\n<style scoped>\n    .dataframe tbody tr th:only-of-type {\n        vertical-align: middle;\n    }\n\n    .dataframe tbody tr th {\n        vertical-align: top;\n    }\n\n    .dataframe thead th {\n        text-align: right;\n    }\n</style>\n<table border=\"1\" class=\"dataframe\">\n  <thead>\n    <tr style=\"text-align: right;\">\n      <th></th>\n      <th>order_id</th>\n      <th>quantity</th>\n      <th>item_name</th>\n      <th>choice_description</th>\n      <th>item_price</th>\n    </tr>\n  </thead>\n  <tbody>\n    <tr>\n      <th>18</th>\n      <td>9</td>\n      <td>2</td>\n      <td>Canned Soda</td>\n      <td>[Sprite]</td>\n      <td>2.18</td>\n    </tr>\n    <tr>\n      <th>28</th>\n      <td>14</td>\n      <td>1</td>\n      <td>Canned Soda</td>\n      <td>[Dr. Pepper]</td>\n      <td>1.09</td>\n    </tr>\n    <tr>\n      <th>51</th>\n      <td>23</td>\n      <td>2</td>\n      <td>Canned Soda</td>\n      <td>[Mountain Dew]</td>\n      <td>2.18</td>\n    </tr>\n    <tr>\n      <th>53</th>\n      <td>24</td>\n      <td>1</td>\n      <td>Canned Soda</td>\n      <td>[Sprite]</td>\n      <td>1.09</td>\n    </tr>\n    <tr>\n      <th>107</th>\n      <td>47</td>\n      <td>1</td>\n      <td>Canned Soda</td>\n      <td>[Dr. Pepper]</td>\n      <td>1.09</td>\n    </tr>\n    <tr>\n      <th>...</th>\n      <td>...</td>\n      <td>...</td>\n      <td>...</td>\n      <td>...</td>\n      <td>...</td>\n    </tr>\n    <tr>\n      <th>3897</th>\n      <td>1562</td>\n      <td>1</td>\n      <td>Canned Soda</td>\n      <td>[Mountain Dew]</td>\n      <td>1.09</td>\n    </tr>\n    <tr>\n      <th>3926</th>\n      <td>1575</td>\n      <td>1</td>\n      <td>Canned Soda</td>\n      <td>[Dr. Pepper]</td>\n      <td>1.09</td>\n    </tr>\n    <tr>\n      <th>3936</th>\n      <td>1578</td>\n      <td>1</td>\n      <td>Canned Soda</td>\n      <td>[Diet Dr. Pepper]</td>\n      <td>1.09</td>\n    </tr>\n    <tr>\n      <th>4008</th>\n      <td>1604</td>\n      <td>1</td>\n      <td>Canned Soda</td>\n      <td>[Diet Coke]</td>\n      <td>1.09</td>\n    </tr>\n    <tr>\n      <th>4051</th>\n      <td>1621</td>\n      <td>1</td>\n      <td>Canned Soda</td>\n      <td>[Sprite]</td>\n      <td>1.09</td>\n    </tr>\n  </tbody>\n</table>\n<p>104 rows × 5 columns</p>\n</div>"
          },
          "metadata": {},
          "execution_count": 33
        }
      ],
      "source": [
        "df_canned = chipo[chipo.item_name == \"Canned Soda\"]\n",
        "df_canned"
      ]
    },
    {
      "cell_type": "code",
      "execution_count": null,
      "metadata": {},
      "outputs": [],
      "source": []
    },
    {
      "cell_type": "code",
      "metadata": {
        "id": "C_m9GydyVg-M"
      },
      "source": [
        "chipo[\"quantity\"].value_counts().values[chipo[\"quantity\"].value_counts().index == \"Canned Soda\" > 1]"
      ],
      "execution_count": 25,
      "outputs": [
        {
          "output_type": "error",
          "ename": "ValueError",
          "evalue": "The truth value of an array with more than one element is ambiguous. Use a.any() or a.all()",
          "traceback": [
            "\u001b[1;31m---------------------------------------------------------------------------\u001b[0m",
            "\u001b[1;31mValueError\u001b[0m                                Traceback (most recent call last)",
            "\u001b[1;32m<ipython-input-25-bb5f82cec8fc>\u001b[0m in \u001b[0;36m<module>\u001b[1;34m\u001b[0m\n\u001b[1;32m----> 1\u001b[1;33m \u001b[0mchipo\u001b[0m\u001b[1;33m[\u001b[0m\u001b[1;34m\"quantity\"\u001b[0m\u001b[1;33m]\u001b[0m\u001b[1;33m.\u001b[0m\u001b[0mvalue_counts\u001b[0m\u001b[1;33m(\u001b[0m\u001b[1;33m)\u001b[0m\u001b[1;33m.\u001b[0m\u001b[0mvalues\u001b[0m\u001b[1;33m[\u001b[0m\u001b[0mchipo\u001b[0m\u001b[1;33m[\u001b[0m\u001b[1;34m\"quantity\"\u001b[0m\u001b[1;33m]\u001b[0m\u001b[1;33m.\u001b[0m\u001b[0mvalue_counts\u001b[0m\u001b[1;33m(\u001b[0m\u001b[1;33m)\u001b[0m\u001b[1;33m.\u001b[0m\u001b[0mindex\u001b[0m \u001b[1;33m==\u001b[0m \u001b[1;34m\"Canned Soda\"\u001b[0m \u001b[1;33m>\u001b[0m \u001b[1;36m1\u001b[0m\u001b[1;33m]\u001b[0m\u001b[1;33m\u001b[0m\u001b[1;33m\u001b[0m\u001b[0m\n\u001b[0m",
            "\u001b[1;31mValueError\u001b[0m: The truth value of an array with more than one element is ambiguous. Use a.any() or a.all()"
          ]
        }
      ]
    },
    {
      "cell_type": "code",
      "execution_count": null,
      "metadata": {},
      "outputs": [],
      "source": []
    }
  ]
}