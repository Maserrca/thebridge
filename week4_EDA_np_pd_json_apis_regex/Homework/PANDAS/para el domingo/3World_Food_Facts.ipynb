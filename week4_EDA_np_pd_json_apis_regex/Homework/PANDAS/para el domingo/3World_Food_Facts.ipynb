{
  "nbformat": 4,
  "nbformat_minor": 0,
  "metadata": {
    "anaconda-cloud": {},
    "kernelspec": {
      "name": "python374jvsc74a57bd0797ece2db6cd49410b212500b07c3b6429b528fb918ab6c0d0ffbc4c51c5b09e",
      "display_name": "Python 3.7.4 64-bit"
    },
    "language_info": {
      "codemirror_mode": {
        "name": "ipython",
        "version": 3
      },
      "file_extension": ".py",
      "mimetype": "text/x-python",
      "name": "python",
      "nbconvert_exporter": "python",
      "pygments_lexer": "ipython3",
      "version": "3.7.4"
    },
    "colab": {
      "name": "World Food Facts.ipynb",
      "provenance": []
    },
    "metadata": {
      "interpreter": {
        "hash": "797ece2db6cd49410b212500b07c3b6429b528fb918ab6c0d0ffbc4c51c5b09e"
      }
    }
  },
  "cells": [
    {
      "cell_type": "markdown",
      "metadata": {
        "id": "rShcxJMeVe5W"
      },
      "source": [
        "# 01 - Getting and knowing your Data"
      ]
    },
    {
      "cell_type": "markdown",
      "metadata": {
        "id": "YsUTYYkPVe5j"
      },
      "source": [
        "### Step 1. Import the necessary libraries."
      ]
    },
    {
      "cell_type": "code",
      "metadata": {
        "id": "aqS0gfCKVe5l"
      },
      "source": [
        "import pandas as pd \n",
        "import numpy as np \n"
      ],
      "execution_count": 2,
      "outputs": []
    },
    {
      "cell_type": "markdown",
      "metadata": {
        "id": "LuI6JjILVe5m"
      },
      "source": [
        "###  Step 2. Import the data `food_100.csv` called it `food`"
      ]
    },
    {
      "cell_type": "code",
      "metadata": {
        "id": "L31LGlaVVe5m"
      },
      "source": [
        "food = pd.read_csv(\"food_100.csv\")\n",
        "food"
      ],
      "execution_count": 4,
      "outputs": [
        {
          "output_type": "execute_result",
          "data": {
            "text/plain": [
              "    Unnamed: 0   code                                                url  \\\n",
              "0            0   3087  http://world-en.openfoodfacts.org/product/0000...   \n",
              "1            1   4530  http://world-en.openfoodfacts.org/product/0000...   \n",
              "2            2   4559  http://world-en.openfoodfacts.org/product/0000...   \n",
              "3            3  16087  http://world-en.openfoodfacts.org/product/0000...   \n",
              "4            4  16094  http://world-en.openfoodfacts.org/product/0000...   \n",
              "..         ...    ...                                                ...   \n",
              "95          95  34715  http://world-en.openfoodfacts.org/product/0000...   \n",
              "96          96  34784  http://world-en.openfoodfacts.org/product/0000...   \n",
              "97          97  34791  http://world-en.openfoodfacts.org/product/0000...   \n",
              "98          98  35071  http://world-en.openfoodfacts.org/product/0000...   \n",
              "99          99  35170  http://world-en.openfoodfacts.org/product/0000...   \n",
              "\n",
              "                       creator   created_t      created_datetime  \\\n",
              "0   openfoodfacts-contributors  1474103866  2016-09-17T09:17:46Z   \n",
              "1              usda-ndb-import  1489069957  2017-03-09T14:32:37Z   \n",
              "2              usda-ndb-import  1489069957  2017-03-09T14:32:37Z   \n",
              "3              usda-ndb-import  1489055731  2017-03-09T10:35:31Z   \n",
              "4              usda-ndb-import  1489055653  2017-03-09T10:34:13Z   \n",
              "..                         ...         ...                   ...   \n",
              "95             usda-ndb-import  1489055715  2017-03-09T10:35:15Z   \n",
              "96             usda-ndb-import  1489138485  2017-03-10T09:34:45Z   \n",
              "97             usda-ndb-import  1489055720  2017-03-09T10:35:20Z   \n",
              "98             usda-ndb-import  1489138484  2017-03-10T09:34:44Z   \n",
              "99             usda-ndb-import  1489138488  2017-03-10T09:34:48Z   \n",
              "\n",
              "    last_modified_t last_modified_datetime                    product_name  \\\n",
              "0        1474103893   2016-09-17T09:18:13Z              Farine de blé noir   \n",
              "1        1489069957   2017-03-09T14:32:37Z  Banana Chips Sweetened (Whole)   \n",
              "2        1489069957   2017-03-09T14:32:37Z                         Peanuts   \n",
              "3        1489055731   2017-03-09T10:35:31Z          Organic Salted Nut Mix   \n",
              "4        1489055653   2017-03-09T10:34:13Z                 Organic Polenta   \n",
              "..              ...                    ...                             ...   \n",
              "95       1489055715   2017-03-09T10:35:15Z            Organic Pecan Halves   \n",
              "96       1489138485   2017-03-10T09:34:45Z    Unsalted Dry Roasted Almonds   \n",
              "97       1489055720   2017-03-09T10:35:20Z       Organic Raw Pumpkin Seeds   \n",
              "98       1489138484   2017-03-10T09:34:44Z  Organic Extra Virgin Olive Oil   \n",
              "99       1489138488   2017-03-10T09:34:48Z                   Liquid Aminos   \n",
              "\n",
              "    generic_name  ... fruits-vegetables-nuts_100g  \\\n",
              "0            NaN  ...                         NaN   \n",
              "1            NaN  ...                         NaN   \n",
              "2            NaN  ...                         NaN   \n",
              "3            NaN  ...                         NaN   \n",
              "4            NaN  ...                         NaN   \n",
              "..           ...  ...                         ...   \n",
              "95           NaN  ...                         NaN   \n",
              "96           NaN  ...                         NaN   \n",
              "97           NaN  ...                         NaN   \n",
              "98           NaN  ...                         NaN   \n",
              "99           NaN  ...                         NaN   \n",
              "\n",
              "   fruits-vegetables-nuts-estimate_100g collagen-meat-protein-ratio_100g  \\\n",
              "0                                   NaN                              NaN   \n",
              "1                                   NaN                              NaN   \n",
              "2                                   NaN                              NaN   \n",
              "3                                   NaN                              NaN   \n",
              "4                                   NaN                              NaN   \n",
              "..                                  ...                              ...   \n",
              "95                                  NaN                              NaN   \n",
              "96                                  NaN                              NaN   \n",
              "97                                  NaN                              NaN   \n",
              "98                                  NaN                              NaN   \n",
              "99                                  NaN                              NaN   \n",
              "\n",
              "   cocoa_100g chlorophyl_100g carbon-footprint_100g nutrition-score-fr_100g  \\\n",
              "0         NaN             NaN                   NaN                     NaN   \n",
              "1         NaN             NaN                   NaN                    14.0   \n",
              "2         NaN             NaN                   NaN                     0.0   \n",
              "3         NaN             NaN                   NaN                    12.0   \n",
              "4         NaN             NaN                   NaN                     NaN   \n",
              "..        ...             ...                   ...                     ...   \n",
              "95        NaN             NaN                   NaN                     NaN   \n",
              "96        NaN             NaN                   NaN                     NaN   \n",
              "97        NaN             NaN                   NaN                    12.0   \n",
              "98        NaN             NaN                   NaN                     NaN   \n",
              "99        NaN             NaN                   NaN                     NaN   \n",
              "\n",
              "   nutrition-score-uk_100g  glycemic-index_100g  water-hardness_100g  \n",
              "0                      NaN                  NaN                  NaN  \n",
              "1                     14.0                  NaN                  NaN  \n",
              "2                      0.0                  NaN                  NaN  \n",
              "3                     12.0                  NaN                  NaN  \n",
              "4                      NaN                  NaN                  NaN  \n",
              "..                     ...                  ...                  ...  \n",
              "95                     NaN                  NaN                  NaN  \n",
              "96                     NaN                  NaN                  NaN  \n",
              "97                    12.0                  NaN                  NaN  \n",
              "98                     NaN                  NaN                  NaN  \n",
              "99                     NaN                  NaN                  NaN  \n",
              "\n",
              "[100 rows x 164 columns]"
            ],
            "text/html": "<div>\n<style scoped>\n    .dataframe tbody tr th:only-of-type {\n        vertical-align: middle;\n    }\n\n    .dataframe tbody tr th {\n        vertical-align: top;\n    }\n\n    .dataframe thead th {\n        text-align: right;\n    }\n</style>\n<table border=\"1\" class=\"dataframe\">\n  <thead>\n    <tr style=\"text-align: right;\">\n      <th></th>\n      <th>Unnamed: 0</th>\n      <th>code</th>\n      <th>url</th>\n      <th>creator</th>\n      <th>created_t</th>\n      <th>created_datetime</th>\n      <th>last_modified_t</th>\n      <th>last_modified_datetime</th>\n      <th>product_name</th>\n      <th>generic_name</th>\n      <th>...</th>\n      <th>fruits-vegetables-nuts_100g</th>\n      <th>fruits-vegetables-nuts-estimate_100g</th>\n      <th>collagen-meat-protein-ratio_100g</th>\n      <th>cocoa_100g</th>\n      <th>chlorophyl_100g</th>\n      <th>carbon-footprint_100g</th>\n      <th>nutrition-score-fr_100g</th>\n      <th>nutrition-score-uk_100g</th>\n      <th>glycemic-index_100g</th>\n      <th>water-hardness_100g</th>\n    </tr>\n  </thead>\n  <tbody>\n    <tr>\n      <th>0</th>\n      <td>0</td>\n      <td>3087</td>\n      <td>http://world-en.openfoodfacts.org/product/0000...</td>\n      <td>openfoodfacts-contributors</td>\n      <td>1474103866</td>\n      <td>2016-09-17T09:17:46Z</td>\n      <td>1474103893</td>\n      <td>2016-09-17T09:18:13Z</td>\n      <td>Farine de blé noir</td>\n      <td>NaN</td>\n      <td>...</td>\n      <td>NaN</td>\n      <td>NaN</td>\n      <td>NaN</td>\n      <td>NaN</td>\n      <td>NaN</td>\n      <td>NaN</td>\n      <td>NaN</td>\n      <td>NaN</td>\n      <td>NaN</td>\n      <td>NaN</td>\n    </tr>\n    <tr>\n      <th>1</th>\n      <td>1</td>\n      <td>4530</td>\n      <td>http://world-en.openfoodfacts.org/product/0000...</td>\n      <td>usda-ndb-import</td>\n      <td>1489069957</td>\n      <td>2017-03-09T14:32:37Z</td>\n      <td>1489069957</td>\n      <td>2017-03-09T14:32:37Z</td>\n      <td>Banana Chips Sweetened (Whole)</td>\n      <td>NaN</td>\n      <td>...</td>\n      <td>NaN</td>\n      <td>NaN</td>\n      <td>NaN</td>\n      <td>NaN</td>\n      <td>NaN</td>\n      <td>NaN</td>\n      <td>14.0</td>\n      <td>14.0</td>\n      <td>NaN</td>\n      <td>NaN</td>\n    </tr>\n    <tr>\n      <th>2</th>\n      <td>2</td>\n      <td>4559</td>\n      <td>http://world-en.openfoodfacts.org/product/0000...</td>\n      <td>usda-ndb-import</td>\n      <td>1489069957</td>\n      <td>2017-03-09T14:32:37Z</td>\n      <td>1489069957</td>\n      <td>2017-03-09T14:32:37Z</td>\n      <td>Peanuts</td>\n      <td>NaN</td>\n      <td>...</td>\n      <td>NaN</td>\n      <td>NaN</td>\n      <td>NaN</td>\n      <td>NaN</td>\n      <td>NaN</td>\n      <td>NaN</td>\n      <td>0.0</td>\n      <td>0.0</td>\n      <td>NaN</td>\n      <td>NaN</td>\n    </tr>\n    <tr>\n      <th>3</th>\n      <td>3</td>\n      <td>16087</td>\n      <td>http://world-en.openfoodfacts.org/product/0000...</td>\n      <td>usda-ndb-import</td>\n      <td>1489055731</td>\n      <td>2017-03-09T10:35:31Z</td>\n      <td>1489055731</td>\n      <td>2017-03-09T10:35:31Z</td>\n      <td>Organic Salted Nut Mix</td>\n      <td>NaN</td>\n      <td>...</td>\n      <td>NaN</td>\n      <td>NaN</td>\n      <td>NaN</td>\n      <td>NaN</td>\n      <td>NaN</td>\n      <td>NaN</td>\n      <td>12.0</td>\n      <td>12.0</td>\n      <td>NaN</td>\n      <td>NaN</td>\n    </tr>\n    <tr>\n      <th>4</th>\n      <td>4</td>\n      <td>16094</td>\n      <td>http://world-en.openfoodfacts.org/product/0000...</td>\n      <td>usda-ndb-import</td>\n      <td>1489055653</td>\n      <td>2017-03-09T10:34:13Z</td>\n      <td>1489055653</td>\n      <td>2017-03-09T10:34:13Z</td>\n      <td>Organic Polenta</td>\n      <td>NaN</td>\n      <td>...</td>\n      <td>NaN</td>\n      <td>NaN</td>\n      <td>NaN</td>\n      <td>NaN</td>\n      <td>NaN</td>\n      <td>NaN</td>\n      <td>NaN</td>\n      <td>NaN</td>\n      <td>NaN</td>\n      <td>NaN</td>\n    </tr>\n    <tr>\n      <th>...</th>\n      <td>...</td>\n      <td>...</td>\n      <td>...</td>\n      <td>...</td>\n      <td>...</td>\n      <td>...</td>\n      <td>...</td>\n      <td>...</td>\n      <td>...</td>\n      <td>...</td>\n      <td>...</td>\n      <td>...</td>\n      <td>...</td>\n      <td>...</td>\n      <td>...</td>\n      <td>...</td>\n      <td>...</td>\n      <td>...</td>\n      <td>...</td>\n      <td>...</td>\n      <td>...</td>\n    </tr>\n    <tr>\n      <th>95</th>\n      <td>95</td>\n      <td>34715</td>\n      <td>http://world-en.openfoodfacts.org/product/0000...</td>\n      <td>usda-ndb-import</td>\n      <td>1489055715</td>\n      <td>2017-03-09T10:35:15Z</td>\n      <td>1489055715</td>\n      <td>2017-03-09T10:35:15Z</td>\n      <td>Organic Pecan Halves</td>\n      <td>NaN</td>\n      <td>...</td>\n      <td>NaN</td>\n      <td>NaN</td>\n      <td>NaN</td>\n      <td>NaN</td>\n      <td>NaN</td>\n      <td>NaN</td>\n      <td>NaN</td>\n      <td>NaN</td>\n      <td>NaN</td>\n      <td>NaN</td>\n    </tr>\n    <tr>\n      <th>96</th>\n      <td>96</td>\n      <td>34784</td>\n      <td>http://world-en.openfoodfacts.org/product/0000...</td>\n      <td>usda-ndb-import</td>\n      <td>1489138485</td>\n      <td>2017-03-10T09:34:45Z</td>\n      <td>1489138485</td>\n      <td>2017-03-10T09:34:45Z</td>\n      <td>Unsalted Dry Roasted Almonds</td>\n      <td>NaN</td>\n      <td>...</td>\n      <td>NaN</td>\n      <td>NaN</td>\n      <td>NaN</td>\n      <td>NaN</td>\n      <td>NaN</td>\n      <td>NaN</td>\n      <td>NaN</td>\n      <td>NaN</td>\n      <td>NaN</td>\n      <td>NaN</td>\n    </tr>\n    <tr>\n      <th>97</th>\n      <td>97</td>\n      <td>34791</td>\n      <td>http://world-en.openfoodfacts.org/product/0000...</td>\n      <td>usda-ndb-import</td>\n      <td>1489055720</td>\n      <td>2017-03-09T10:35:20Z</td>\n      <td>1489055720</td>\n      <td>2017-03-09T10:35:20Z</td>\n      <td>Organic Raw Pumpkin Seeds</td>\n      <td>NaN</td>\n      <td>...</td>\n      <td>NaN</td>\n      <td>NaN</td>\n      <td>NaN</td>\n      <td>NaN</td>\n      <td>NaN</td>\n      <td>NaN</td>\n      <td>12.0</td>\n      <td>12.0</td>\n      <td>NaN</td>\n      <td>NaN</td>\n    </tr>\n    <tr>\n      <th>98</th>\n      <td>98</td>\n      <td>35071</td>\n      <td>http://world-en.openfoodfacts.org/product/0000...</td>\n      <td>usda-ndb-import</td>\n      <td>1489138484</td>\n      <td>2017-03-10T09:34:44Z</td>\n      <td>1489138484</td>\n      <td>2017-03-10T09:34:44Z</td>\n      <td>Organic Extra Virgin Olive Oil</td>\n      <td>NaN</td>\n      <td>...</td>\n      <td>NaN</td>\n      <td>NaN</td>\n      <td>NaN</td>\n      <td>NaN</td>\n      <td>NaN</td>\n      <td>NaN</td>\n      <td>NaN</td>\n      <td>NaN</td>\n      <td>NaN</td>\n      <td>NaN</td>\n    </tr>\n    <tr>\n      <th>99</th>\n      <td>99</td>\n      <td>35170</td>\n      <td>http://world-en.openfoodfacts.org/product/0000...</td>\n      <td>usda-ndb-import</td>\n      <td>1489138488</td>\n      <td>2017-03-10T09:34:48Z</td>\n      <td>1489138488</td>\n      <td>2017-03-10T09:34:48Z</td>\n      <td>Liquid Aminos</td>\n      <td>NaN</td>\n      <td>...</td>\n      <td>NaN</td>\n      <td>NaN</td>\n      <td>NaN</td>\n      <td>NaN</td>\n      <td>NaN</td>\n      <td>NaN</td>\n      <td>NaN</td>\n      <td>NaN</td>\n      <td>NaN</td>\n      <td>NaN</td>\n    </tr>\n  </tbody>\n</table>\n<p>100 rows × 164 columns</p>\n</div>"
          },
          "metadata": {},
          "execution_count": 4
        }
      ]
    },
    {
      "cell_type": "markdown",
      "metadata": {
        "id": "H9lyf1sTVe5n"
      },
      "source": [
        "### Step 3. Run this cell only once, in order to delete the column `Unnamed: 0`"
      ]
    },
    {
      "cell_type": "code",
      "metadata": {
        "id": "279FN8u_Ve5o"
      },
      "source": [
        "food = food.drop(\"Unnamed: 0\", 1)\n"
      ],
      "execution_count": 8,
      "outputs": []
    },
    {
      "cell_type": "code",
      "execution_count": 9,
      "metadata": {},
      "outputs": [
        {
          "output_type": "execute_result",
          "data": {
            "text/plain": [
              "     code                                                url  \\\n",
              "0    3087  http://world-en.openfoodfacts.org/product/0000...   \n",
              "1    4530  http://world-en.openfoodfacts.org/product/0000...   \n",
              "2    4559  http://world-en.openfoodfacts.org/product/0000...   \n",
              "3   16087  http://world-en.openfoodfacts.org/product/0000...   \n",
              "4   16094  http://world-en.openfoodfacts.org/product/0000...   \n",
              "..    ...                                                ...   \n",
              "95  34715  http://world-en.openfoodfacts.org/product/0000...   \n",
              "96  34784  http://world-en.openfoodfacts.org/product/0000...   \n",
              "97  34791  http://world-en.openfoodfacts.org/product/0000...   \n",
              "98  35071  http://world-en.openfoodfacts.org/product/0000...   \n",
              "99  35170  http://world-en.openfoodfacts.org/product/0000...   \n",
              "\n",
              "                       creator   created_t      created_datetime  \\\n",
              "0   openfoodfacts-contributors  1474103866  2016-09-17T09:17:46Z   \n",
              "1              usda-ndb-import  1489069957  2017-03-09T14:32:37Z   \n",
              "2              usda-ndb-import  1489069957  2017-03-09T14:32:37Z   \n",
              "3              usda-ndb-import  1489055731  2017-03-09T10:35:31Z   \n",
              "4              usda-ndb-import  1489055653  2017-03-09T10:34:13Z   \n",
              "..                         ...         ...                   ...   \n",
              "95             usda-ndb-import  1489055715  2017-03-09T10:35:15Z   \n",
              "96             usda-ndb-import  1489138485  2017-03-10T09:34:45Z   \n",
              "97             usda-ndb-import  1489055720  2017-03-09T10:35:20Z   \n",
              "98             usda-ndb-import  1489138484  2017-03-10T09:34:44Z   \n",
              "99             usda-ndb-import  1489138488  2017-03-10T09:34:48Z   \n",
              "\n",
              "    last_modified_t last_modified_datetime                    product_name  \\\n",
              "0        1474103893   2016-09-17T09:18:13Z              Farine de blé noir   \n",
              "1        1489069957   2017-03-09T14:32:37Z  Banana Chips Sweetened (Whole)   \n",
              "2        1489069957   2017-03-09T14:32:37Z                         Peanuts   \n",
              "3        1489055731   2017-03-09T10:35:31Z          Organic Salted Nut Mix   \n",
              "4        1489055653   2017-03-09T10:34:13Z                 Organic Polenta   \n",
              "..              ...                    ...                             ...   \n",
              "95       1489055715   2017-03-09T10:35:15Z            Organic Pecan Halves   \n",
              "96       1489138485   2017-03-10T09:34:45Z    Unsalted Dry Roasted Almonds   \n",
              "97       1489055720   2017-03-09T10:35:20Z       Organic Raw Pumpkin Seeds   \n",
              "98       1489138484   2017-03-10T09:34:44Z  Organic Extra Virgin Olive Oil   \n",
              "99       1489138488   2017-03-10T09:34:48Z                   Liquid Aminos   \n",
              "\n",
              "    generic_name quantity  ... fruits-vegetables-nuts_100g  \\\n",
              "0            NaN      1kg  ...                         NaN   \n",
              "1            NaN      NaN  ...                         NaN   \n",
              "2            NaN      NaN  ...                         NaN   \n",
              "3            NaN      NaN  ...                         NaN   \n",
              "4            NaN      NaN  ...                         NaN   \n",
              "..           ...      ...  ...                         ...   \n",
              "95           NaN      NaN  ...                         NaN   \n",
              "96           NaN      NaN  ...                         NaN   \n",
              "97           NaN      NaN  ...                         NaN   \n",
              "98           NaN      NaN  ...                         NaN   \n",
              "99           NaN      NaN  ...                         NaN   \n",
              "\n",
              "   fruits-vegetables-nuts-estimate_100g collagen-meat-protein-ratio_100g  \\\n",
              "0                                   NaN                              NaN   \n",
              "1                                   NaN                              NaN   \n",
              "2                                   NaN                              NaN   \n",
              "3                                   NaN                              NaN   \n",
              "4                                   NaN                              NaN   \n",
              "..                                  ...                              ...   \n",
              "95                                  NaN                              NaN   \n",
              "96                                  NaN                              NaN   \n",
              "97                                  NaN                              NaN   \n",
              "98                                  NaN                              NaN   \n",
              "99                                  NaN                              NaN   \n",
              "\n",
              "   cocoa_100g chlorophyl_100g carbon-footprint_100g nutrition-score-fr_100g  \\\n",
              "0         NaN             NaN                   NaN                     NaN   \n",
              "1         NaN             NaN                   NaN                    14.0   \n",
              "2         NaN             NaN                   NaN                     0.0   \n",
              "3         NaN             NaN                   NaN                    12.0   \n",
              "4         NaN             NaN                   NaN                     NaN   \n",
              "..        ...             ...                   ...                     ...   \n",
              "95        NaN             NaN                   NaN                     NaN   \n",
              "96        NaN             NaN                   NaN                     NaN   \n",
              "97        NaN             NaN                   NaN                    12.0   \n",
              "98        NaN             NaN                   NaN                     NaN   \n",
              "99        NaN             NaN                   NaN                     NaN   \n",
              "\n",
              "    nutrition-score-uk_100g  glycemic-index_100g  water-hardness_100g  \n",
              "0                       NaN                  NaN                  NaN  \n",
              "1                      14.0                  NaN                  NaN  \n",
              "2                       0.0                  NaN                  NaN  \n",
              "3                      12.0                  NaN                  NaN  \n",
              "4                       NaN                  NaN                  NaN  \n",
              "..                      ...                  ...                  ...  \n",
              "95                      NaN                  NaN                  NaN  \n",
              "96                      NaN                  NaN                  NaN  \n",
              "97                     12.0                  NaN                  NaN  \n",
              "98                      NaN                  NaN                  NaN  \n",
              "99                      NaN                  NaN                  NaN  \n",
              "\n",
              "[100 rows x 163 columns]"
            ],
            "text/html": "<div>\n<style scoped>\n    .dataframe tbody tr th:only-of-type {\n        vertical-align: middle;\n    }\n\n    .dataframe tbody tr th {\n        vertical-align: top;\n    }\n\n    .dataframe thead th {\n        text-align: right;\n    }\n</style>\n<table border=\"1\" class=\"dataframe\">\n  <thead>\n    <tr style=\"text-align: right;\">\n      <th></th>\n      <th>code</th>\n      <th>url</th>\n      <th>creator</th>\n      <th>created_t</th>\n      <th>created_datetime</th>\n      <th>last_modified_t</th>\n      <th>last_modified_datetime</th>\n      <th>product_name</th>\n      <th>generic_name</th>\n      <th>quantity</th>\n      <th>...</th>\n      <th>fruits-vegetables-nuts_100g</th>\n      <th>fruits-vegetables-nuts-estimate_100g</th>\n      <th>collagen-meat-protein-ratio_100g</th>\n      <th>cocoa_100g</th>\n      <th>chlorophyl_100g</th>\n      <th>carbon-footprint_100g</th>\n      <th>nutrition-score-fr_100g</th>\n      <th>nutrition-score-uk_100g</th>\n      <th>glycemic-index_100g</th>\n      <th>water-hardness_100g</th>\n    </tr>\n  </thead>\n  <tbody>\n    <tr>\n      <th>0</th>\n      <td>3087</td>\n      <td>http://world-en.openfoodfacts.org/product/0000...</td>\n      <td>openfoodfacts-contributors</td>\n      <td>1474103866</td>\n      <td>2016-09-17T09:17:46Z</td>\n      <td>1474103893</td>\n      <td>2016-09-17T09:18:13Z</td>\n      <td>Farine de blé noir</td>\n      <td>NaN</td>\n      <td>1kg</td>\n      <td>...</td>\n      <td>NaN</td>\n      <td>NaN</td>\n      <td>NaN</td>\n      <td>NaN</td>\n      <td>NaN</td>\n      <td>NaN</td>\n      <td>NaN</td>\n      <td>NaN</td>\n      <td>NaN</td>\n      <td>NaN</td>\n    </tr>\n    <tr>\n      <th>1</th>\n      <td>4530</td>\n      <td>http://world-en.openfoodfacts.org/product/0000...</td>\n      <td>usda-ndb-import</td>\n      <td>1489069957</td>\n      <td>2017-03-09T14:32:37Z</td>\n      <td>1489069957</td>\n      <td>2017-03-09T14:32:37Z</td>\n      <td>Banana Chips Sweetened (Whole)</td>\n      <td>NaN</td>\n      <td>NaN</td>\n      <td>...</td>\n      <td>NaN</td>\n      <td>NaN</td>\n      <td>NaN</td>\n      <td>NaN</td>\n      <td>NaN</td>\n      <td>NaN</td>\n      <td>14.0</td>\n      <td>14.0</td>\n      <td>NaN</td>\n      <td>NaN</td>\n    </tr>\n    <tr>\n      <th>2</th>\n      <td>4559</td>\n      <td>http://world-en.openfoodfacts.org/product/0000...</td>\n      <td>usda-ndb-import</td>\n      <td>1489069957</td>\n      <td>2017-03-09T14:32:37Z</td>\n      <td>1489069957</td>\n      <td>2017-03-09T14:32:37Z</td>\n      <td>Peanuts</td>\n      <td>NaN</td>\n      <td>NaN</td>\n      <td>...</td>\n      <td>NaN</td>\n      <td>NaN</td>\n      <td>NaN</td>\n      <td>NaN</td>\n      <td>NaN</td>\n      <td>NaN</td>\n      <td>0.0</td>\n      <td>0.0</td>\n      <td>NaN</td>\n      <td>NaN</td>\n    </tr>\n    <tr>\n      <th>3</th>\n      <td>16087</td>\n      <td>http://world-en.openfoodfacts.org/product/0000...</td>\n      <td>usda-ndb-import</td>\n      <td>1489055731</td>\n      <td>2017-03-09T10:35:31Z</td>\n      <td>1489055731</td>\n      <td>2017-03-09T10:35:31Z</td>\n      <td>Organic Salted Nut Mix</td>\n      <td>NaN</td>\n      <td>NaN</td>\n      <td>...</td>\n      <td>NaN</td>\n      <td>NaN</td>\n      <td>NaN</td>\n      <td>NaN</td>\n      <td>NaN</td>\n      <td>NaN</td>\n      <td>12.0</td>\n      <td>12.0</td>\n      <td>NaN</td>\n      <td>NaN</td>\n    </tr>\n    <tr>\n      <th>4</th>\n      <td>16094</td>\n      <td>http://world-en.openfoodfacts.org/product/0000...</td>\n      <td>usda-ndb-import</td>\n      <td>1489055653</td>\n      <td>2017-03-09T10:34:13Z</td>\n      <td>1489055653</td>\n      <td>2017-03-09T10:34:13Z</td>\n      <td>Organic Polenta</td>\n      <td>NaN</td>\n      <td>NaN</td>\n      <td>...</td>\n      <td>NaN</td>\n      <td>NaN</td>\n      <td>NaN</td>\n      <td>NaN</td>\n      <td>NaN</td>\n      <td>NaN</td>\n      <td>NaN</td>\n      <td>NaN</td>\n      <td>NaN</td>\n      <td>NaN</td>\n    </tr>\n    <tr>\n      <th>...</th>\n      <td>...</td>\n      <td>...</td>\n      <td>...</td>\n      <td>...</td>\n      <td>...</td>\n      <td>...</td>\n      <td>...</td>\n      <td>...</td>\n      <td>...</td>\n      <td>...</td>\n      <td>...</td>\n      <td>...</td>\n      <td>...</td>\n      <td>...</td>\n      <td>...</td>\n      <td>...</td>\n      <td>...</td>\n      <td>...</td>\n      <td>...</td>\n      <td>...</td>\n      <td>...</td>\n    </tr>\n    <tr>\n      <th>95</th>\n      <td>34715</td>\n      <td>http://world-en.openfoodfacts.org/product/0000...</td>\n      <td>usda-ndb-import</td>\n      <td>1489055715</td>\n      <td>2017-03-09T10:35:15Z</td>\n      <td>1489055715</td>\n      <td>2017-03-09T10:35:15Z</td>\n      <td>Organic Pecan Halves</td>\n      <td>NaN</td>\n      <td>NaN</td>\n      <td>...</td>\n      <td>NaN</td>\n      <td>NaN</td>\n      <td>NaN</td>\n      <td>NaN</td>\n      <td>NaN</td>\n      <td>NaN</td>\n      <td>NaN</td>\n      <td>NaN</td>\n      <td>NaN</td>\n      <td>NaN</td>\n    </tr>\n    <tr>\n      <th>96</th>\n      <td>34784</td>\n      <td>http://world-en.openfoodfacts.org/product/0000...</td>\n      <td>usda-ndb-import</td>\n      <td>1489138485</td>\n      <td>2017-03-10T09:34:45Z</td>\n      <td>1489138485</td>\n      <td>2017-03-10T09:34:45Z</td>\n      <td>Unsalted Dry Roasted Almonds</td>\n      <td>NaN</td>\n      <td>NaN</td>\n      <td>...</td>\n      <td>NaN</td>\n      <td>NaN</td>\n      <td>NaN</td>\n      <td>NaN</td>\n      <td>NaN</td>\n      <td>NaN</td>\n      <td>NaN</td>\n      <td>NaN</td>\n      <td>NaN</td>\n      <td>NaN</td>\n    </tr>\n    <tr>\n      <th>97</th>\n      <td>34791</td>\n      <td>http://world-en.openfoodfacts.org/product/0000...</td>\n      <td>usda-ndb-import</td>\n      <td>1489055720</td>\n      <td>2017-03-09T10:35:20Z</td>\n      <td>1489055720</td>\n      <td>2017-03-09T10:35:20Z</td>\n      <td>Organic Raw Pumpkin Seeds</td>\n      <td>NaN</td>\n      <td>NaN</td>\n      <td>...</td>\n      <td>NaN</td>\n      <td>NaN</td>\n      <td>NaN</td>\n      <td>NaN</td>\n      <td>NaN</td>\n      <td>NaN</td>\n      <td>12.0</td>\n      <td>12.0</td>\n      <td>NaN</td>\n      <td>NaN</td>\n    </tr>\n    <tr>\n      <th>98</th>\n      <td>35071</td>\n      <td>http://world-en.openfoodfacts.org/product/0000...</td>\n      <td>usda-ndb-import</td>\n      <td>1489138484</td>\n      <td>2017-03-10T09:34:44Z</td>\n      <td>1489138484</td>\n      <td>2017-03-10T09:34:44Z</td>\n      <td>Organic Extra Virgin Olive Oil</td>\n      <td>NaN</td>\n      <td>NaN</td>\n      <td>...</td>\n      <td>NaN</td>\n      <td>NaN</td>\n      <td>NaN</td>\n      <td>NaN</td>\n      <td>NaN</td>\n      <td>NaN</td>\n      <td>NaN</td>\n      <td>NaN</td>\n      <td>NaN</td>\n      <td>NaN</td>\n    </tr>\n    <tr>\n      <th>99</th>\n      <td>35170</td>\n      <td>http://world-en.openfoodfacts.org/product/0000...</td>\n      <td>usda-ndb-import</td>\n      <td>1489138488</td>\n      <td>2017-03-10T09:34:48Z</td>\n      <td>1489138488</td>\n      <td>2017-03-10T09:34:48Z</td>\n      <td>Liquid Aminos</td>\n      <td>NaN</td>\n      <td>NaN</td>\n      <td>...</td>\n      <td>NaN</td>\n      <td>NaN</td>\n      <td>NaN</td>\n      <td>NaN</td>\n      <td>NaN</td>\n      <td>NaN</td>\n      <td>NaN</td>\n      <td>NaN</td>\n      <td>NaN</td>\n      <td>NaN</td>\n    </tr>\n  </tbody>\n</table>\n<p>100 rows × 163 columns</p>\n</div>"
          },
          "metadata": {},
          "execution_count": 9
        }
      ],
      "source": [
        "food"
      ]
    },
    {
      "cell_type": "markdown",
      "metadata": {
        "id": "SBPDanLcVe5o"
      },
      "source": [
        "### Step 4. See the first 5 entries"
      ]
    },
    {
      "cell_type": "code",
      "metadata": {
        "id": "EgToF90SVe5p"
      },
      "source": [
        "food.head(5)"
      ],
      "execution_count": 10,
      "outputs": [
        {
          "output_type": "execute_result",
          "data": {
            "text/plain": [
              "    code                                                url  \\\n",
              "0   3087  http://world-en.openfoodfacts.org/product/0000...   \n",
              "1   4530  http://world-en.openfoodfacts.org/product/0000...   \n",
              "2   4559  http://world-en.openfoodfacts.org/product/0000...   \n",
              "3  16087  http://world-en.openfoodfacts.org/product/0000...   \n",
              "4  16094  http://world-en.openfoodfacts.org/product/0000...   \n",
              "\n",
              "                      creator   created_t      created_datetime  \\\n",
              "0  openfoodfacts-contributors  1474103866  2016-09-17T09:17:46Z   \n",
              "1             usda-ndb-import  1489069957  2017-03-09T14:32:37Z   \n",
              "2             usda-ndb-import  1489069957  2017-03-09T14:32:37Z   \n",
              "3             usda-ndb-import  1489055731  2017-03-09T10:35:31Z   \n",
              "4             usda-ndb-import  1489055653  2017-03-09T10:34:13Z   \n",
              "\n",
              "   last_modified_t last_modified_datetime                    product_name  \\\n",
              "0       1474103893   2016-09-17T09:18:13Z              Farine de blé noir   \n",
              "1       1489069957   2017-03-09T14:32:37Z  Banana Chips Sweetened (Whole)   \n",
              "2       1489069957   2017-03-09T14:32:37Z                         Peanuts   \n",
              "3       1489055731   2017-03-09T10:35:31Z          Organic Salted Nut Mix   \n",
              "4       1489055653   2017-03-09T10:34:13Z                 Organic Polenta   \n",
              "\n",
              "   generic_name quantity  ... fruits-vegetables-nuts_100g  \\\n",
              "0           NaN      1kg  ...                         NaN   \n",
              "1           NaN      NaN  ...                         NaN   \n",
              "2           NaN      NaN  ...                         NaN   \n",
              "3           NaN      NaN  ...                         NaN   \n",
              "4           NaN      NaN  ...                         NaN   \n",
              "\n",
              "  fruits-vegetables-nuts-estimate_100g collagen-meat-protein-ratio_100g  \\\n",
              "0                                  NaN                              NaN   \n",
              "1                                  NaN                              NaN   \n",
              "2                                  NaN                              NaN   \n",
              "3                                  NaN                              NaN   \n",
              "4                                  NaN                              NaN   \n",
              "\n",
              "  cocoa_100g chlorophyl_100g carbon-footprint_100g nutrition-score-fr_100g  \\\n",
              "0        NaN             NaN                   NaN                     NaN   \n",
              "1        NaN             NaN                   NaN                    14.0   \n",
              "2        NaN             NaN                   NaN                     0.0   \n",
              "3        NaN             NaN                   NaN                    12.0   \n",
              "4        NaN             NaN                   NaN                     NaN   \n",
              "\n",
              "   nutrition-score-uk_100g  glycemic-index_100g  water-hardness_100g  \n",
              "0                      NaN                  NaN                  NaN  \n",
              "1                     14.0                  NaN                  NaN  \n",
              "2                      0.0                  NaN                  NaN  \n",
              "3                     12.0                  NaN                  NaN  \n",
              "4                      NaN                  NaN                  NaN  \n",
              "\n",
              "[5 rows x 163 columns]"
            ],
            "text/html": "<div>\n<style scoped>\n    .dataframe tbody tr th:only-of-type {\n        vertical-align: middle;\n    }\n\n    .dataframe tbody tr th {\n        vertical-align: top;\n    }\n\n    .dataframe thead th {\n        text-align: right;\n    }\n</style>\n<table border=\"1\" class=\"dataframe\">\n  <thead>\n    <tr style=\"text-align: right;\">\n      <th></th>\n      <th>code</th>\n      <th>url</th>\n      <th>creator</th>\n      <th>created_t</th>\n      <th>created_datetime</th>\n      <th>last_modified_t</th>\n      <th>last_modified_datetime</th>\n      <th>product_name</th>\n      <th>generic_name</th>\n      <th>quantity</th>\n      <th>...</th>\n      <th>fruits-vegetables-nuts_100g</th>\n      <th>fruits-vegetables-nuts-estimate_100g</th>\n      <th>collagen-meat-protein-ratio_100g</th>\n      <th>cocoa_100g</th>\n      <th>chlorophyl_100g</th>\n      <th>carbon-footprint_100g</th>\n      <th>nutrition-score-fr_100g</th>\n      <th>nutrition-score-uk_100g</th>\n      <th>glycemic-index_100g</th>\n      <th>water-hardness_100g</th>\n    </tr>\n  </thead>\n  <tbody>\n    <tr>\n      <th>0</th>\n      <td>3087</td>\n      <td>http://world-en.openfoodfacts.org/product/0000...</td>\n      <td>openfoodfacts-contributors</td>\n      <td>1474103866</td>\n      <td>2016-09-17T09:17:46Z</td>\n      <td>1474103893</td>\n      <td>2016-09-17T09:18:13Z</td>\n      <td>Farine de blé noir</td>\n      <td>NaN</td>\n      <td>1kg</td>\n      <td>...</td>\n      <td>NaN</td>\n      <td>NaN</td>\n      <td>NaN</td>\n      <td>NaN</td>\n      <td>NaN</td>\n      <td>NaN</td>\n      <td>NaN</td>\n      <td>NaN</td>\n      <td>NaN</td>\n      <td>NaN</td>\n    </tr>\n    <tr>\n      <th>1</th>\n      <td>4530</td>\n      <td>http://world-en.openfoodfacts.org/product/0000...</td>\n      <td>usda-ndb-import</td>\n      <td>1489069957</td>\n      <td>2017-03-09T14:32:37Z</td>\n      <td>1489069957</td>\n      <td>2017-03-09T14:32:37Z</td>\n      <td>Banana Chips Sweetened (Whole)</td>\n      <td>NaN</td>\n      <td>NaN</td>\n      <td>...</td>\n      <td>NaN</td>\n      <td>NaN</td>\n      <td>NaN</td>\n      <td>NaN</td>\n      <td>NaN</td>\n      <td>NaN</td>\n      <td>14.0</td>\n      <td>14.0</td>\n      <td>NaN</td>\n      <td>NaN</td>\n    </tr>\n    <tr>\n      <th>2</th>\n      <td>4559</td>\n      <td>http://world-en.openfoodfacts.org/product/0000...</td>\n      <td>usda-ndb-import</td>\n      <td>1489069957</td>\n      <td>2017-03-09T14:32:37Z</td>\n      <td>1489069957</td>\n      <td>2017-03-09T14:32:37Z</td>\n      <td>Peanuts</td>\n      <td>NaN</td>\n      <td>NaN</td>\n      <td>...</td>\n      <td>NaN</td>\n      <td>NaN</td>\n      <td>NaN</td>\n      <td>NaN</td>\n      <td>NaN</td>\n      <td>NaN</td>\n      <td>0.0</td>\n      <td>0.0</td>\n      <td>NaN</td>\n      <td>NaN</td>\n    </tr>\n    <tr>\n      <th>3</th>\n      <td>16087</td>\n      <td>http://world-en.openfoodfacts.org/product/0000...</td>\n      <td>usda-ndb-import</td>\n      <td>1489055731</td>\n      <td>2017-03-09T10:35:31Z</td>\n      <td>1489055731</td>\n      <td>2017-03-09T10:35:31Z</td>\n      <td>Organic Salted Nut Mix</td>\n      <td>NaN</td>\n      <td>NaN</td>\n      <td>...</td>\n      <td>NaN</td>\n      <td>NaN</td>\n      <td>NaN</td>\n      <td>NaN</td>\n      <td>NaN</td>\n      <td>NaN</td>\n      <td>12.0</td>\n      <td>12.0</td>\n      <td>NaN</td>\n      <td>NaN</td>\n    </tr>\n    <tr>\n      <th>4</th>\n      <td>16094</td>\n      <td>http://world-en.openfoodfacts.org/product/0000...</td>\n      <td>usda-ndb-import</td>\n      <td>1489055653</td>\n      <td>2017-03-09T10:34:13Z</td>\n      <td>1489055653</td>\n      <td>2017-03-09T10:34:13Z</td>\n      <td>Organic Polenta</td>\n      <td>NaN</td>\n      <td>NaN</td>\n      <td>...</td>\n      <td>NaN</td>\n      <td>NaN</td>\n      <td>NaN</td>\n      <td>NaN</td>\n      <td>NaN</td>\n      <td>NaN</td>\n      <td>NaN</td>\n      <td>NaN</td>\n      <td>NaN</td>\n      <td>NaN</td>\n    </tr>\n  </tbody>\n</table>\n<p>5 rows × 163 columns</p>\n</div>"
          },
          "metadata": {},
          "execution_count": 10
        }
      ]
    },
    {
      "cell_type": "markdown",
      "metadata": {
        "id": "7zzz4JjYVe5p"
      },
      "source": [
        "### Step 5. What is the number of observations in the dataset?"
      ]
    },
    {
      "cell_type": "code",
      "metadata": {
        "id": "0O_M9gUAVe5q"
      },
      "source": [
        "print(len(food))"
      ],
      "execution_count": 11,
      "outputs": [
        {
          "output_type": "stream",
          "name": "stdout",
          "text": [
            "100\n"
          ]
        }
      ]
    },
    {
      "cell_type": "markdown",
      "metadata": {
        "id": "ERjMt-JOVe5q"
      },
      "source": [
        "### Step 6. What is the number of columns in the dataset?"
      ]
    },
    {
      "cell_type": "code",
      "metadata": {
        "id": "mZu2OGWzVe5r"
      },
      "source": [
        "print(len(food.columns))"
      ],
      "execution_count": 13,
      "outputs": [
        {
          "output_type": "stream",
          "name": "stdout",
          "text": [
            "163\n"
          ]
        }
      ]
    },
    {
      "cell_type": "markdown",
      "metadata": {
        "id": "eXD9YNBBVe5r"
      },
      "source": [
        "### Step 7. Print the name of all the columns."
      ]
    },
    {
      "cell_type": "code",
      "metadata": {
        "id": "IF945nLGVe5s"
      },
      "source": [
        "print(food.columns)"
      ],
      "execution_count": 14,
      "outputs": [
        {
          "output_type": "stream",
          "name": "stdout",
          "text": [
            "Index(['code', 'url', 'creator', 'created_t', 'created_datetime',\n       'last_modified_t', 'last_modified_datetime', 'product_name',\n       'generic_name', 'quantity',\n       ...\n       'fruits-vegetables-nuts_100g', 'fruits-vegetables-nuts-estimate_100g',\n       'collagen-meat-protein-ratio_100g', 'cocoa_100g', 'chlorophyl_100g',\n       'carbon-footprint_100g', 'nutrition-score-fr_100g',\n       'nutrition-score-uk_100g', 'glycemic-index_100g',\n       'water-hardness_100g'],\n      dtype='object', length=163)\n"
          ]
        }
      ]
    },
    {
      "cell_type": "markdown",
      "metadata": {
        "id": "44DDomcYVe5s"
      },
      "source": [
        "### Step 8. What is the name of 105th column? Position, not index"
      ]
    },
    {
      "cell_type": "code",
      "metadata": {
        "id": "fictsi6jVe5u"
      },
      "source": [
        "print(food.columns[106])"
      ],
      "execution_count": 17,
      "outputs": [
        {
          "output_type": "stream",
          "name": "stdout",
          "text": [
            "-lactose_100g\n"
          ]
        }
      ]
    },
    {
      "cell_type": "markdown",
      "metadata": {
        "id": "vv7Cnz0fVe5u"
      },
      "source": [
        "### Step 9. What is the type of the observations of the 105th column?"
      ]
    },
    {
      "cell_type": "code",
      "metadata": {
        "id": "XwYONrnDVe5v"
      },
      "source": [
        "food[\"-lactose_100g\"].dtypes"
      ],
      "execution_count": 19,
      "outputs": [
        {
          "output_type": "execute_result",
          "data": {
            "text/plain": [
              "dtype('float64')"
            ]
          },
          "metadata": {},
          "execution_count": 19
        }
      ]
    },
    {
      "cell_type": "code",
      "execution_count": 20,
      "metadata": {},
      "outputs": [
        {
          "output_type": "execute_result",
          "data": {
            "text/plain": [
              "dtype('float64')"
            ]
          },
          "metadata": {},
          "execution_count": 20
        }
      ],
      "source": [
        "food[food.columns[106]].dtypes"
      ]
    },
    {
      "cell_type": "markdown",
      "metadata": {
        "id": "f6bBjK0UVe5v"
      },
      "source": [
        "### Step 10. How is the dataset indexed?"
      ]
    },
    {
      "cell_type": "code",
      "metadata": {
        "id": "fEBQBaScVe5w"
      },
      "source": [
        "food.index"
      ],
      "execution_count": 21,
      "outputs": [
        {
          "output_type": "execute_result",
          "data": {
            "text/plain": [
              "RangeIndex(start=0, stop=100, step=1)"
            ]
          },
          "metadata": {},
          "execution_count": 21
        }
      ]
    },
    {
      "cell_type": "markdown",
      "metadata": {
        "id": "jE4wmmNeVe5x"
      },
      "source": [
        "### Step 11. What is the product name of the 19th observation?"
      ]
    },
    {
      "cell_type": "code",
      "metadata": {
        "id": "e2_SeXcEVe5x"
      },
      "source": [
        "food.values[19]"
      ],
      "execution_count": 27,
      "outputs": [
        {
          "output_type": "execute_result",
          "data": {
            "text/plain": [
              "array([18227,\n",
              "       'http://world-en.openfoodfacts.org/product/0000000018227/organic-oat-groats-pcc',\n",
              "       'usda-ndb-import', 1489055682, '2017-03-09T10:34:42Z', 1489055682,\n",
              "       '2017-03-09T10:34:42Z', 'Organic Oat Groats', nan, nan, nan, nan,\n",
              "       'Pcc', 'pcc', nan, nan, nan, nan, nan, nan, nan, nan, nan, nan,\n",
              "       nan, nan, nan, nan, nan, nan, nan, 'US', 'en:united-states',\n",
              "       'United States', 'Organic oat groats', nan, nan, nan, nan, nan,\n",
              "       '42 g (0.25 cup)', nan, 0.0,\n",
              "       ' [ organic-oat-groats -> en:organic-oat-groats  ]  [ oat-groats -> en:oat-groats  ]  [ groats -> en:groats  ] ',\n",
              "       nan, nan, 0.0, nan, nan, 0.0, nan, nan, nan, 'a', nan, nan,\n",
              "       'en:to-be-completed, en:nutrition-facts-completed, en:ingredients-completed, en:expiration-date-to-be-completed, en:packaging-code-to-be-completed, en:characteristics-to-be-completed, en:categories-to-be-completed, en:brands-completed, en:packaging-to-be-completed, en:quantity-to-be-completed, en:product-name-completed, en:photos-to-be-uploaded',\n",
              "       'en:to-be-completed,en:nutrition-facts-completed,en:ingredients-completed,en:expiration-date-to-be-completed,en:packaging-code-to-be-completed,en:characteristics-to-be-completed,en:categories-to-be-completed,en:brands-completed,en:packaging-to-be-completed,en:quantity-to-be-completed,en:product-name-completed,en:photos-to-be-uploaded',\n",
              "       'To be completed,Nutrition facts completed,Ingredients completed,Expiration date to be completed,Packaging-code-to-be-completed,Characteristics to be completed,Categories to be completed,Brands completed,Packaging to be completed,Quantity to be completed,Product name completed,Photos to be uploaded',\n",
              "       nan, nan, nan, nan, 1096.0, nan, 5.95, 1.19, nan, nan, nan, nan,\n",
              "       nan, nan, nan, nan, nan, nan, nan, nan, nan, nan, nan, nan, nan,\n",
              "       nan, nan, nan, nan, nan, nan, nan, nan, nan, nan, nan, nan, nan,\n",
              "       nan, nan, nan, nan, 66.67, 2.38, nan, nan, nan, nan, nan, nan, nan,\n",
              "       nan, 9.5, 16.67, nan, nan, nan, 0.0254, 0.01, nan, nan, nan, nan,\n",
              "       nan, nan, nan, nan, nan, nan, nan, nan, nan, nan, nan, nan, nan,\n",
              "       nan, nan, nan, 0.048, nan, 0.0042899999999999, nan, nan, nan, nan,\n",
              "       nan, nan, nan, nan, nan, nan, nan, nan, nan, nan, nan, nan, nan,\n",
              "       nan, -6.0, -6.0, nan, nan], dtype=object)"
            ]
          },
          "metadata": {},
          "execution_count": 27
        }
      ]
    },
    {
      "cell_type": "code",
      "execution_count": null,
      "metadata": {},
      "outputs": [],
      "source": []
    }
  ]
}