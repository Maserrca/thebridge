{
  "nbformat": 4,
  "nbformat_minor": 0,
  "metadata": {
    "anaconda-cloud": {},
    "kernelspec": {
      "name": "python374jvsc74a57bd0797ece2db6cd49410b212500b07c3b6429b528fb918ab6c0d0ffbc4c51c5b09e",
      "display_name": "Python 3.7.4 64-bit"
    },
    "language_info": {
      "codemirror_mode": {
        "name": "ipython",
        "version": 3
      },
      "file_extension": ".py",
      "mimetype": "text/x-python",
      "name": "python",
      "nbconvert_exporter": "python",
      "pygments_lexer": "ipython3",
      "version": "3.7.4"
    },
    "colab": {
      "name": "Occupation.ipynb",
      "provenance": []
    },
    "metadata": {
      "interpreter": {
        "hash": "797ece2db6cd49410b212500b07c3b6429b528fb918ab6c0d0ffbc4c51c5b09e"
      }
    }
  },
  "cells": [
    {
      "cell_type": "markdown",
      "metadata": {
        "id": "F7AF1NxhVe5m"
      },
      "source": [
        "# 01 - Getting and Knowing your Data"
      ]
    },
    {
      "cell_type": "markdown",
      "metadata": {
        "id": "OkyTk3T2Ve55"
      },
      "source": [
        "\n",
        "\n",
        "### Step 1. Import the necessary libraries"
      ]
    },
    {
      "cell_type": "code",
      "metadata": {
        "id": "3bx20ZguVe58"
      },
      "source": [
        "import numpy as np \n",
        "import pandas as pd \n"
      ],
      "execution_count": 9,
      "outputs": []
    },
    {
      "cell_type": "markdown",
      "metadata": {
        "id": "0mlQjbSFVe5-"
      },
      "source": [
        "### Step 2. Import the dataset from this [address](https://raw.githubusercontent.com/justmarkham/DAT8/master/data/u.user). "
      ]
    },
    {
      "cell_type": "code",
      "execution_count": 10,
      "metadata": {},
      "outputs": [
        {
          "output_type": "execute_result",
          "data": {
            "text/plain": [
              "    user_id|age|gender|occupation|zip_code\n",
              "0                  1|24|M|technician|85711\n",
              "1                       2|53|F|other|94043\n",
              "2                      3|23|M|writer|32067\n",
              "3                  4|24|M|technician|43537\n",
              "4                       5|33|F|other|15213\n",
              "..                                     ...\n",
              "938                 939|26|F|student|33319\n",
              "939           940|32|M|administrator|02215\n",
              "940                 941|20|M|student|97229\n",
              "941               942|48|F|librarian|78209\n",
              "942                 943|22|M|student|77841\n",
              "\n",
              "[943 rows x 1 columns]"
            ],
            "text/html": "<div>\n<style scoped>\n    .dataframe tbody tr th:only-of-type {\n        vertical-align: middle;\n    }\n\n    .dataframe tbody tr th {\n        vertical-align: top;\n    }\n\n    .dataframe thead th {\n        text-align: right;\n    }\n</style>\n<table border=\"1\" class=\"dataframe\">\n  <thead>\n    <tr style=\"text-align: right;\">\n      <th></th>\n      <th>user_id|age|gender|occupation|zip_code</th>\n    </tr>\n  </thead>\n  <tbody>\n    <tr>\n      <th>0</th>\n      <td>1|24|M|technician|85711</td>\n    </tr>\n    <tr>\n      <th>1</th>\n      <td>2|53|F|other|94043</td>\n    </tr>\n    <tr>\n      <th>2</th>\n      <td>3|23|M|writer|32067</td>\n    </tr>\n    <tr>\n      <th>3</th>\n      <td>4|24|M|technician|43537</td>\n    </tr>\n    <tr>\n      <th>4</th>\n      <td>5|33|F|other|15213</td>\n    </tr>\n    <tr>\n      <th>...</th>\n      <td>...</td>\n    </tr>\n    <tr>\n      <th>938</th>\n      <td>939|26|F|student|33319</td>\n    </tr>\n    <tr>\n      <th>939</th>\n      <td>940|32|M|administrator|02215</td>\n    </tr>\n    <tr>\n      <th>940</th>\n      <td>941|20|M|student|97229</td>\n    </tr>\n    <tr>\n      <th>941</th>\n      <td>942|48|F|librarian|78209</td>\n    </tr>\n    <tr>\n      <th>942</th>\n      <td>943|22|M|student|77841</td>\n    </tr>\n  </tbody>\n</table>\n<p>943 rows × 1 columns</p>\n</div>"
          },
          "metadata": {},
          "execution_count": 10
        }
      ],
      "source": [
        "csv = pd.read_csv(\"https://raw.githubusercontent.com/justmarkham/DAT8/master/data/u.user\")\n",
        "csv"
      ]
    },
    {
      "cell_type": "markdown",
      "metadata": {
        "id": "TIvE_MMxVe6A"
      },
      "source": [
        "### Step 3. Assign it to a variable called users and use the 'user_id' as index"
      ]
    },
    {
      "cell_type": "code",
      "metadata": {
        "id": "o9y81mY_Ve6B"
      },
      "source": [
        "users = pd.read_csv('https://raw.githubusercontent.com/justmarkham/DAT8/master/data/u.user', sep='|', index_col='user_id')\n",
        "users"
      ],
      "execution_count": 11,
      "outputs": [
        {
          "output_type": "execute_result",
          "data": {
            "text/plain": [
              "         age gender     occupation zip_code\n",
              "user_id                                    \n",
              "1         24      M     technician    85711\n",
              "2         53      F          other    94043\n",
              "3         23      M         writer    32067\n",
              "4         24      M     technician    43537\n",
              "5         33      F          other    15213\n",
              "...      ...    ...            ...      ...\n",
              "939       26      F        student    33319\n",
              "940       32      M  administrator    02215\n",
              "941       20      M        student    97229\n",
              "942       48      F      librarian    78209\n",
              "943       22      M        student    77841\n",
              "\n",
              "[943 rows x 4 columns]"
            ],
            "text/html": "<div>\n<style scoped>\n    .dataframe tbody tr th:only-of-type {\n        vertical-align: middle;\n    }\n\n    .dataframe tbody tr th {\n        vertical-align: top;\n    }\n\n    .dataframe thead th {\n        text-align: right;\n    }\n</style>\n<table border=\"1\" class=\"dataframe\">\n  <thead>\n    <tr style=\"text-align: right;\">\n      <th></th>\n      <th>age</th>\n      <th>gender</th>\n      <th>occupation</th>\n      <th>zip_code</th>\n    </tr>\n    <tr>\n      <th>user_id</th>\n      <th></th>\n      <th></th>\n      <th></th>\n      <th></th>\n    </tr>\n  </thead>\n  <tbody>\n    <tr>\n      <th>1</th>\n      <td>24</td>\n      <td>M</td>\n      <td>technician</td>\n      <td>85711</td>\n    </tr>\n    <tr>\n      <th>2</th>\n      <td>53</td>\n      <td>F</td>\n      <td>other</td>\n      <td>94043</td>\n    </tr>\n    <tr>\n      <th>3</th>\n      <td>23</td>\n      <td>M</td>\n      <td>writer</td>\n      <td>32067</td>\n    </tr>\n    <tr>\n      <th>4</th>\n      <td>24</td>\n      <td>M</td>\n      <td>technician</td>\n      <td>43537</td>\n    </tr>\n    <tr>\n      <th>5</th>\n      <td>33</td>\n      <td>F</td>\n      <td>other</td>\n      <td>15213</td>\n    </tr>\n    <tr>\n      <th>...</th>\n      <td>...</td>\n      <td>...</td>\n      <td>...</td>\n      <td>...</td>\n    </tr>\n    <tr>\n      <th>939</th>\n      <td>26</td>\n      <td>F</td>\n      <td>student</td>\n      <td>33319</td>\n    </tr>\n    <tr>\n      <th>940</th>\n      <td>32</td>\n      <td>M</td>\n      <td>administrator</td>\n      <td>02215</td>\n    </tr>\n    <tr>\n      <th>941</th>\n      <td>20</td>\n      <td>M</td>\n      <td>student</td>\n      <td>97229</td>\n    </tr>\n    <tr>\n      <th>942</th>\n      <td>48</td>\n      <td>F</td>\n      <td>librarian</td>\n      <td>78209</td>\n    </tr>\n    <tr>\n      <th>943</th>\n      <td>22</td>\n      <td>M</td>\n      <td>student</td>\n      <td>77841</td>\n    </tr>\n  </tbody>\n</table>\n<p>943 rows × 4 columns</p>\n</div>"
          },
          "metadata": {},
          "execution_count": 11
        }
      ]
    },
    {
      "cell_type": "markdown",
      "metadata": {
        "id": "02i0ECxQVe6C"
      },
      "source": [
        "### Step 4. See the first 25 entries\n",
        "Solve it by 2 different ways"
      ]
    },
    {
      "cell_type": "code",
      "metadata": {
        "id": "9_K8UMBoVe6D"
      },
      "source": [
        "users.head(25)"
      ],
      "execution_count": 12,
      "outputs": [
        {
          "output_type": "execute_result",
          "data": {
            "text/plain": [
              "         age gender     occupation zip_code\n",
              "user_id                                    \n",
              "1         24      M     technician    85711\n",
              "2         53      F          other    94043\n",
              "3         23      M         writer    32067\n",
              "4         24      M     technician    43537\n",
              "5         33      F          other    15213\n",
              "6         42      M      executive    98101\n",
              "7         57      M  administrator    91344\n",
              "8         36      M  administrator    05201\n",
              "9         29      M        student    01002\n",
              "10        53      M         lawyer    90703\n",
              "11        39      F          other    30329\n",
              "12        28      F          other    06405\n",
              "13        47      M       educator    29206\n",
              "14        45      M      scientist    55106\n",
              "15        49      F       educator    97301\n",
              "16        21      M  entertainment    10309\n",
              "17        30      M     programmer    06355\n",
              "18        35      F          other    37212\n",
              "19        40      M      librarian    02138\n",
              "20        42      F      homemaker    95660\n",
              "21        26      M         writer    30068\n",
              "22        25      M         writer    40206\n",
              "23        30      F         artist    48197\n",
              "24        21      F         artist    94533\n",
              "25        39      M       engineer    55107"
            ],
            "text/html": "<div>\n<style scoped>\n    .dataframe tbody tr th:only-of-type {\n        vertical-align: middle;\n    }\n\n    .dataframe tbody tr th {\n        vertical-align: top;\n    }\n\n    .dataframe thead th {\n        text-align: right;\n    }\n</style>\n<table border=\"1\" class=\"dataframe\">\n  <thead>\n    <tr style=\"text-align: right;\">\n      <th></th>\n      <th>age</th>\n      <th>gender</th>\n      <th>occupation</th>\n      <th>zip_code</th>\n    </tr>\n    <tr>\n      <th>user_id</th>\n      <th></th>\n      <th></th>\n      <th></th>\n      <th></th>\n    </tr>\n  </thead>\n  <tbody>\n    <tr>\n      <th>1</th>\n      <td>24</td>\n      <td>M</td>\n      <td>technician</td>\n      <td>85711</td>\n    </tr>\n    <tr>\n      <th>2</th>\n      <td>53</td>\n      <td>F</td>\n      <td>other</td>\n      <td>94043</td>\n    </tr>\n    <tr>\n      <th>3</th>\n      <td>23</td>\n      <td>M</td>\n      <td>writer</td>\n      <td>32067</td>\n    </tr>\n    <tr>\n      <th>4</th>\n      <td>24</td>\n      <td>M</td>\n      <td>technician</td>\n      <td>43537</td>\n    </tr>\n    <tr>\n      <th>5</th>\n      <td>33</td>\n      <td>F</td>\n      <td>other</td>\n      <td>15213</td>\n    </tr>\n    <tr>\n      <th>6</th>\n      <td>42</td>\n      <td>M</td>\n      <td>executive</td>\n      <td>98101</td>\n    </tr>\n    <tr>\n      <th>7</th>\n      <td>57</td>\n      <td>M</td>\n      <td>administrator</td>\n      <td>91344</td>\n    </tr>\n    <tr>\n      <th>8</th>\n      <td>36</td>\n      <td>M</td>\n      <td>administrator</td>\n      <td>05201</td>\n    </tr>\n    <tr>\n      <th>9</th>\n      <td>29</td>\n      <td>M</td>\n      <td>student</td>\n      <td>01002</td>\n    </tr>\n    <tr>\n      <th>10</th>\n      <td>53</td>\n      <td>M</td>\n      <td>lawyer</td>\n      <td>90703</td>\n    </tr>\n    <tr>\n      <th>11</th>\n      <td>39</td>\n      <td>F</td>\n      <td>other</td>\n      <td>30329</td>\n    </tr>\n    <tr>\n      <th>12</th>\n      <td>28</td>\n      <td>F</td>\n      <td>other</td>\n      <td>06405</td>\n    </tr>\n    <tr>\n      <th>13</th>\n      <td>47</td>\n      <td>M</td>\n      <td>educator</td>\n      <td>29206</td>\n    </tr>\n    <tr>\n      <th>14</th>\n      <td>45</td>\n      <td>M</td>\n      <td>scientist</td>\n      <td>55106</td>\n    </tr>\n    <tr>\n      <th>15</th>\n      <td>49</td>\n      <td>F</td>\n      <td>educator</td>\n      <td>97301</td>\n    </tr>\n    <tr>\n      <th>16</th>\n      <td>21</td>\n      <td>M</td>\n      <td>entertainment</td>\n      <td>10309</td>\n    </tr>\n    <tr>\n      <th>17</th>\n      <td>30</td>\n      <td>M</td>\n      <td>programmer</td>\n      <td>06355</td>\n    </tr>\n    <tr>\n      <th>18</th>\n      <td>35</td>\n      <td>F</td>\n      <td>other</td>\n      <td>37212</td>\n    </tr>\n    <tr>\n      <th>19</th>\n      <td>40</td>\n      <td>M</td>\n      <td>librarian</td>\n      <td>02138</td>\n    </tr>\n    <tr>\n      <th>20</th>\n      <td>42</td>\n      <td>F</td>\n      <td>homemaker</td>\n      <td>95660</td>\n    </tr>\n    <tr>\n      <th>21</th>\n      <td>26</td>\n      <td>M</td>\n      <td>writer</td>\n      <td>30068</td>\n    </tr>\n    <tr>\n      <th>22</th>\n      <td>25</td>\n      <td>M</td>\n      <td>writer</td>\n      <td>40206</td>\n    </tr>\n    <tr>\n      <th>23</th>\n      <td>30</td>\n      <td>F</td>\n      <td>artist</td>\n      <td>48197</td>\n    </tr>\n    <tr>\n      <th>24</th>\n      <td>21</td>\n      <td>F</td>\n      <td>artist</td>\n      <td>94533</td>\n    </tr>\n    <tr>\n      <th>25</th>\n      <td>39</td>\n      <td>M</td>\n      <td>engineer</td>\n      <td>55107</td>\n    </tr>\n  </tbody>\n</table>\n</div>"
          },
          "metadata": {},
          "execution_count": 12
        }
      ]
    },
    {
      "cell_type": "code",
      "execution_count": 13,
      "metadata": {},
      "outputs": [
        {
          "output_type": "execute_result",
          "data": {
            "text/plain": [
              "         age gender     occupation zip_code\n",
              "user_id                                    \n",
              "1         24      M     technician    85711\n",
              "2         53      F          other    94043\n",
              "3         23      M         writer    32067\n",
              "4         24      M     technician    43537\n",
              "5         33      F          other    15213\n",
              "6         42      M      executive    98101\n",
              "7         57      M  administrator    91344\n",
              "8         36      M  administrator    05201\n",
              "9         29      M        student    01002\n",
              "10        53      M         lawyer    90703\n",
              "11        39      F          other    30329\n",
              "12        28      F          other    06405\n",
              "13        47      M       educator    29206\n",
              "14        45      M      scientist    55106\n",
              "15        49      F       educator    97301\n",
              "16        21      M  entertainment    10309\n",
              "17        30      M     programmer    06355\n",
              "18        35      F          other    37212\n",
              "19        40      M      librarian    02138\n",
              "20        42      F      homemaker    95660\n",
              "21        26      M         writer    30068\n",
              "22        25      M         writer    40206\n",
              "23        30      F         artist    48197\n",
              "24        21      F         artist    94533\n",
              "25        39      M       engineer    55107"
            ],
            "text/html": "<div>\n<style scoped>\n    .dataframe tbody tr th:only-of-type {\n        vertical-align: middle;\n    }\n\n    .dataframe tbody tr th {\n        vertical-align: top;\n    }\n\n    .dataframe thead th {\n        text-align: right;\n    }\n</style>\n<table border=\"1\" class=\"dataframe\">\n  <thead>\n    <tr style=\"text-align: right;\">\n      <th></th>\n      <th>age</th>\n      <th>gender</th>\n      <th>occupation</th>\n      <th>zip_code</th>\n    </tr>\n    <tr>\n      <th>user_id</th>\n      <th></th>\n      <th></th>\n      <th></th>\n      <th></th>\n    </tr>\n  </thead>\n  <tbody>\n    <tr>\n      <th>1</th>\n      <td>24</td>\n      <td>M</td>\n      <td>technician</td>\n      <td>85711</td>\n    </tr>\n    <tr>\n      <th>2</th>\n      <td>53</td>\n      <td>F</td>\n      <td>other</td>\n      <td>94043</td>\n    </tr>\n    <tr>\n      <th>3</th>\n      <td>23</td>\n      <td>M</td>\n      <td>writer</td>\n      <td>32067</td>\n    </tr>\n    <tr>\n      <th>4</th>\n      <td>24</td>\n      <td>M</td>\n      <td>technician</td>\n      <td>43537</td>\n    </tr>\n    <tr>\n      <th>5</th>\n      <td>33</td>\n      <td>F</td>\n      <td>other</td>\n      <td>15213</td>\n    </tr>\n    <tr>\n      <th>6</th>\n      <td>42</td>\n      <td>M</td>\n      <td>executive</td>\n      <td>98101</td>\n    </tr>\n    <tr>\n      <th>7</th>\n      <td>57</td>\n      <td>M</td>\n      <td>administrator</td>\n      <td>91344</td>\n    </tr>\n    <tr>\n      <th>8</th>\n      <td>36</td>\n      <td>M</td>\n      <td>administrator</td>\n      <td>05201</td>\n    </tr>\n    <tr>\n      <th>9</th>\n      <td>29</td>\n      <td>M</td>\n      <td>student</td>\n      <td>01002</td>\n    </tr>\n    <tr>\n      <th>10</th>\n      <td>53</td>\n      <td>M</td>\n      <td>lawyer</td>\n      <td>90703</td>\n    </tr>\n    <tr>\n      <th>11</th>\n      <td>39</td>\n      <td>F</td>\n      <td>other</td>\n      <td>30329</td>\n    </tr>\n    <tr>\n      <th>12</th>\n      <td>28</td>\n      <td>F</td>\n      <td>other</td>\n      <td>06405</td>\n    </tr>\n    <tr>\n      <th>13</th>\n      <td>47</td>\n      <td>M</td>\n      <td>educator</td>\n      <td>29206</td>\n    </tr>\n    <tr>\n      <th>14</th>\n      <td>45</td>\n      <td>M</td>\n      <td>scientist</td>\n      <td>55106</td>\n    </tr>\n    <tr>\n      <th>15</th>\n      <td>49</td>\n      <td>F</td>\n      <td>educator</td>\n      <td>97301</td>\n    </tr>\n    <tr>\n      <th>16</th>\n      <td>21</td>\n      <td>M</td>\n      <td>entertainment</td>\n      <td>10309</td>\n    </tr>\n    <tr>\n      <th>17</th>\n      <td>30</td>\n      <td>M</td>\n      <td>programmer</td>\n      <td>06355</td>\n    </tr>\n    <tr>\n      <th>18</th>\n      <td>35</td>\n      <td>F</td>\n      <td>other</td>\n      <td>37212</td>\n    </tr>\n    <tr>\n      <th>19</th>\n      <td>40</td>\n      <td>M</td>\n      <td>librarian</td>\n      <td>02138</td>\n    </tr>\n    <tr>\n      <th>20</th>\n      <td>42</td>\n      <td>F</td>\n      <td>homemaker</td>\n      <td>95660</td>\n    </tr>\n    <tr>\n      <th>21</th>\n      <td>26</td>\n      <td>M</td>\n      <td>writer</td>\n      <td>30068</td>\n    </tr>\n    <tr>\n      <th>22</th>\n      <td>25</td>\n      <td>M</td>\n      <td>writer</td>\n      <td>40206</td>\n    </tr>\n    <tr>\n      <th>23</th>\n      <td>30</td>\n      <td>F</td>\n      <td>artist</td>\n      <td>48197</td>\n    </tr>\n    <tr>\n      <th>24</th>\n      <td>21</td>\n      <td>F</td>\n      <td>artist</td>\n      <td>94533</td>\n    </tr>\n    <tr>\n      <th>25</th>\n      <td>39</td>\n      <td>M</td>\n      <td>engineer</td>\n      <td>55107</td>\n    </tr>\n  </tbody>\n</table>\n</div>"
          },
          "metadata": {},
          "execution_count": 13
        }
      ],
      "source": [
        "users.loc[1:25]"
      ]
    },
    {
      "cell_type": "markdown",
      "metadata": {
        "id": "iiTCqwKgVe6E"
      },
      "source": [
        "### Step 5. See the last 10 entries"
      ]
    },
    {
      "cell_type": "code",
      "metadata": {
        "id": "wfFlpC5jVe6F"
      },
      "source": [
        "users.tail(10)"
      ],
      "execution_count": 14,
      "outputs": [
        {
          "output_type": "execute_result",
          "data": {
            "text/plain": [
              "         age gender     occupation zip_code\n",
              "user_id                                    \n",
              "934       61      M       engineer    22902\n",
              "935       42      M         doctor    66221\n",
              "936       24      M          other    32789\n",
              "937       48      M       educator    98072\n",
              "938       38      F     technician    55038\n",
              "939       26      F        student    33319\n",
              "940       32      M  administrator    02215\n",
              "941       20      M        student    97229\n",
              "942       48      F      librarian    78209\n",
              "943       22      M        student    77841"
            ],
            "text/html": "<div>\n<style scoped>\n    .dataframe tbody tr th:only-of-type {\n        vertical-align: middle;\n    }\n\n    .dataframe tbody tr th {\n        vertical-align: top;\n    }\n\n    .dataframe thead th {\n        text-align: right;\n    }\n</style>\n<table border=\"1\" class=\"dataframe\">\n  <thead>\n    <tr style=\"text-align: right;\">\n      <th></th>\n      <th>age</th>\n      <th>gender</th>\n      <th>occupation</th>\n      <th>zip_code</th>\n    </tr>\n    <tr>\n      <th>user_id</th>\n      <th></th>\n      <th></th>\n      <th></th>\n      <th></th>\n    </tr>\n  </thead>\n  <tbody>\n    <tr>\n      <th>934</th>\n      <td>61</td>\n      <td>M</td>\n      <td>engineer</td>\n      <td>22902</td>\n    </tr>\n    <tr>\n      <th>935</th>\n      <td>42</td>\n      <td>M</td>\n      <td>doctor</td>\n      <td>66221</td>\n    </tr>\n    <tr>\n      <th>936</th>\n      <td>24</td>\n      <td>M</td>\n      <td>other</td>\n      <td>32789</td>\n    </tr>\n    <tr>\n      <th>937</th>\n      <td>48</td>\n      <td>M</td>\n      <td>educator</td>\n      <td>98072</td>\n    </tr>\n    <tr>\n      <th>938</th>\n      <td>38</td>\n      <td>F</td>\n      <td>technician</td>\n      <td>55038</td>\n    </tr>\n    <tr>\n      <th>939</th>\n      <td>26</td>\n      <td>F</td>\n      <td>student</td>\n      <td>33319</td>\n    </tr>\n    <tr>\n      <th>940</th>\n      <td>32</td>\n      <td>M</td>\n      <td>administrator</td>\n      <td>02215</td>\n    </tr>\n    <tr>\n      <th>941</th>\n      <td>20</td>\n      <td>M</td>\n      <td>student</td>\n      <td>97229</td>\n    </tr>\n    <tr>\n      <th>942</th>\n      <td>48</td>\n      <td>F</td>\n      <td>librarian</td>\n      <td>78209</td>\n    </tr>\n    <tr>\n      <th>943</th>\n      <td>22</td>\n      <td>M</td>\n      <td>student</td>\n      <td>77841</td>\n    </tr>\n  </tbody>\n</table>\n</div>"
          },
          "metadata": {},
          "execution_count": 14
        }
      ]
    },
    {
      "cell_type": "markdown",
      "metadata": {
        "id": "AzwvEaAeVe6G"
      },
      "source": [
        "### Step 6. What is the number of observations in the dataset?\n",
        "Solve it by 2 different ways"
      ]
    },
    {
      "cell_type": "code",
      "metadata": {
        "id": "JXjK9QJGVe6H"
      },
      "source": [
        "print(len(users))\n",
        "print(users.shape[0])"
      ],
      "execution_count": 18,
      "outputs": [
        {
          "output_type": "stream",
          "name": "stdout",
          "text": [
            "943\n943\n"
          ]
        }
      ]
    },
    {
      "cell_type": "markdown",
      "metadata": {
        "id": "X4Clj-TWVe6I"
      },
      "source": [
        "### Step 7. What is the number of columns in the dataset?\n",
        "Solve it by 2 different ways"
      ]
    },
    {
      "cell_type": "code",
      "metadata": {
        "id": "Q_zFDVCPVe6I"
      },
      "source": [
        "print(len(users.columns))\n",
        "print(users.shape[1])"
      ],
      "execution_count": 21,
      "outputs": [
        {
          "output_type": "stream",
          "name": "stdout",
          "text": [
            "4\n4\n"
          ]
        }
      ]
    },
    {
      "cell_type": "markdown",
      "metadata": {
        "id": "sgcrWIniVe6J"
      },
      "source": [
        "### Step 8. Print the name of all the columns."
      ]
    },
    {
      "cell_type": "code",
      "metadata": {
        "id": "3vIA7xVZVe6K"
      },
      "source": [
        "print(users.columns)"
      ],
      "execution_count": 24,
      "outputs": [
        {
          "output_type": "stream",
          "name": "stdout",
          "text": [
            "Index(['age', 'gender', 'occupation', 'zip_code'], dtype='object')\n"
          ]
        }
      ]
    },
    {
      "cell_type": "markdown",
      "metadata": {
        "id": "eWI9EhO4Ve6L"
      },
      "source": [
        "### Step 9. How is the dataset indexed? Get the index values"
      ]
    },
    {
      "cell_type": "code",
      "metadata": {
        "id": "BIkjQqU5Ve6L"
      },
      "source": [
        "users.index"
      ],
      "execution_count": 25,
      "outputs": [
        {
          "output_type": "execute_result",
          "data": {
            "text/plain": [
              "Int64Index([  1,   2,   3,   4,   5,   6,   7,   8,   9,  10,\n",
              "            ...\n",
              "            934, 935, 936, 937, 938, 939, 940, 941, 942, 943],\n",
              "           dtype='int64', name='user_id', length=943)"
            ]
          },
          "metadata": {},
          "execution_count": 25
        }
      ]
    },
    {
      "cell_type": "markdown",
      "metadata": {
        "id": "cKAy9QF4Ve6M"
      },
      "source": [
        "### Step 10. What is the data type of each column?\n",
        "Solve it by 2 different ways"
      ]
    },
    {
      "cell_type": "code",
      "metadata": {
        "id": "mHXEeEFIVe6M"
      },
      "source": [
        "users.dtypes"
      ],
      "execution_count": 26,
      "outputs": [
        {
          "output_type": "execute_result",
          "data": {
            "text/plain": [
              "age            int64\n",
              "gender        object\n",
              "occupation    object\n",
              "zip_code      object\n",
              "dtype: object"
            ]
          },
          "metadata": {},
          "execution_count": 26
        }
      ]
    },
    {
      "cell_type": "code",
      "execution_count": 49,
      "metadata": {},
      "outputs": [
        {
          "output_type": "stream",
          "name": "stdout",
          "text": [
            "<class 'str'>\n<class 'str'>\n<class 'str'>\n<class 'str'>\n"
          ]
        }
      ],
      "source": [
        "print(type(users.columns[0]))\n",
        "print(type(users.columns[1]))\n",
        "print(type(users.columns[2]))\n",
        "print(type(users.columns[3]))"
      ]
    },
    {
      "cell_type": "markdown",
      "metadata": {
        "id": "6m81puMvVe6N"
      },
      "source": [
        "### Step 11. Print only the occupation column\n",
        "Solve it by 2 different ways"
      ]
    },
    {
      "cell_type": "code",
      "metadata": {
        "id": "bXHpu7BmVe6O"
      },
      "source": [
        "print(users[\"occupation\"])"
      ],
      "execution_count": 50,
      "outputs": [
        {
          "output_type": "stream",
          "name": "stdout",
          "text": [
            "user_id\n1         technician\n2              other\n3             writer\n4         technician\n5              other\n           ...      \n939          student\n940    administrator\n941          student\n942        librarian\n943          student\nName: occupation, Length: 943, dtype: object\n"
          ]
        }
      ]
    },
    {
      "cell_type": "code",
      "execution_count": 51,
      "metadata": {},
      "outputs": [
        {
          "output_type": "stream",
          "name": "stdout",
          "text": [
            "technician\nother\nwriter\ntechnician\nother\nexecutive\nadministrator\nadministrator\nstudent\nlawyer\nother\nother\neducator\nscientist\neducator\nentertainment\nprogrammer\nother\nlibrarian\nhomemaker\nwriter\nwriter\nartist\nartist\nengineer\nengineer\nlibrarian\nwriter\nprogrammer\nstudent\nartist\nstudent\nstudent\nadministrator\nhomemaker\nstudent\nstudent\nother\nentertainment\nscientist\nengineer\nadministrator\nlibrarian\ntechnician\nprogrammer\nmarketing\nmarketing\nadministrator\nstudent\nwriter\neducator\nstudent\nprogrammer\nexecutive\nprogrammer\nlibrarian\nnone\nprogrammer\neducator\nhealthcare\nengineer\nadministrator\nmarketing\neducator\neducator\nstudent\nstudent\nstudent\nengineer\nengineer\nscientist\nadministrator\nstudent\nscientist\nentertainment\nstudent\ntechnician\nadministrator\nadministrator\nadministrator\nstudent\nprogrammer\nother\nexecutive\neducator\nadministrator\nadministrator\nlibrarian\nadministrator\neducator\nmarketing\nentertainment\nexecutive\nstudent\nadministrator\nartist\nartist\nexecutive\nstudent\nexecutive\nstudent\nprogrammer\nstudent\nstudent\nengineer\nretired\nscientist\neducator\nother\nstudent\nengineer\nsalesman\nexecutive\nprogrammer\nengineer\nhealthcare\nstudent\nadministrator\nprogrammer\nother\nlibrarian\nwriter\nartist\nstudent\nlawyer\nlawyer\nnone\nmarketing\nmarketing\nnone\nadministrator\nother\nengineer\nprogrammer\nstudent\nother\neducator\ndoctor\nstudent\nstudent\nprogrammer\nother\ntechnician\nprogrammer\nentertainment\nartist\nlibrarian\nengineer\nmarketing\nartist\nadministrator\neducator\nstudent\nstudent\nother\neducator\nengineer\neducator\nstudent\nprogrammer\nlawyer\nartist\nadministrator\nhealthcare\nother\neducator\nother\nother\nother\nhealthcare\neducator\nmarketing\nother\nadministrator\nscientist\nscientist\nprogrammer\nother\nentertainment\nadministrator\nexecutive\nprogrammer\nscientist\nlibrarian\nlibrarian\nexecutive\neducator\nstudent\nartist\nadministrator\nadministrator\neducator\nstudent\nadministrator\nscientist\nwriter\ntechnician\nstudent\nwriter\nprogrammer\nwriter\neducator\nstudent\nlibrarian\nlawyer\nstudent\nmarketing\nengineer\neducator\nengineer\nsalesman\neducator\nexecutive\nlibrarian\nprogrammer\nengineer\nother\nadministrator\nprogrammer\nlibrarian\nstudent\nprogrammer\nstudent\neducator\nadministrator\nstudent\nexecutive\nstudent\nlibrarian\nstudent\nlibrarian\nscientist\nengineer\nretired\neducator\nwriter\nadministrator\nadministrator\nartist\neducator\nstudent\neducator\neducator\ntechnician\nstudent\nstudent\nengineer\nstudent\nstudent\nexecutive\ndoctor\nengineer\nlibrarian\neducator\nentertainment\nnone\nstudent\nstudent\nstudent\nartist\nadministrator\nstudent\nprogrammer\nwriter\nexecutive\nadministrator\nengineer\nengineer\nlibrarian\nstudent\nengineer\nscientist\nother\nstudent\nengineer\nstudent\nadministrator\nlibrarian\nprogrammer\nlibrarian\nstudent\nadministrator\nprogrammer\nexecutive\nprogrammer\nstudent\nsalesman\nmarketing\nnone\nengineer\nstudent\nprogrammer\nwriter\ntechnician\neducator\nadministrator\neducator\nexecutive\ndoctor\nprogrammer\nstudent\neducator\nstudent\nstudent\nprogrammer\nother\nstudent\nretired\nscientist\neducator\ntechnician\nother\nmarketing\nstudent\neducator\nother\nadministrator\nretired\nprogrammer\nstudent\neducator\nstudent\nstudent\nstudent\ntechnician\nadministrator\nstudent\nadministrator\neducator\neducator\nentertainment\nstudent\nother\nlibrarian\nexecutive\nsalesman\nscientist\nlibrarian\nlawyer\nengineer\nstudent\nother\nengineer\nlibrarian\nlibrarian\nother\nstudent\nstudent\nretired\nstudent\neducator\nprogrammer\nscientist\nlibrarian\nstudent\nhomemaker\nexecutive\neducator\nstudent\nother\nstudent\nhomemaker\nstudent\nengineer\nlawyer\nstudent\nstudent\nstudent\nstudent\nwriter\nengineer\nstudent\nother\nexecutive\nentertainment\nother\nstudent\nstudent\nprogrammer\nengineer\nartist\nengineer\nadministrator\nprogrammer\nwriter\nsalesman\nentertainment\nother\nwriter\nwriter\nstudent\nwriter\nstudent\nadministrator\nother\nengineer\nstudent\nother\nother\nadministrator\nhealthcare\nengineer\nother\nprogrammer\nhealthcare\neducator\nengineer\nstudent\nadministrator\nartist\neducator\neducator\neducator\nprogrammer\neducator\nstudent\nother\nnone\nlawyer\neducator\nprogrammer\nentertainment\nother\nmarketing\nstudent\neducator\ndoctor\nstudent\nstudent\nscientist\nmarketing\nentertainment\nartist\nstudent\nengineer\nadministrator\nother\nadministrator\nadministrator\nother\ntechnician\nstudent\nsalesman\nlawyer\nwriter\neducator\nadministrator\nentertainment\nlibrarian\neducator\nstudent\nadministrator\nstudent\nother\nadministrator\ntechnician\nsalesman\ntechnician\nstudent\nother\nstudent\nstudent\nhealthcare\nwriter\nother\nstudent\nengineer\nengineer\neducator\nprogrammer\nstudent\nstudent\nstudent\nexecutive\nprogrammer\nstudent\nstudent\nother\neducator\nretired\nretired\nstudent\nscientist\nstudent\neducator\neducator\nengineer\ntechnician\nother\nartist\nwriter\neducator\nengineer\nadministrator\nengineer\nstudent\nstudent\nwriter\nprogrammer\nadministrator\nstudent\nstudent\nwriter\nwriter\nother\nprogrammer\nwriter\nmarketing\nadministrator\nother\nstudent\nother\nadministrator\nprogrammer\nmarketing\nlibrarian\nstudent\nwriter\nother\nhealthcare\nstudent\nengineer\nadministrator\neducator\nadministrator\nmarketing\nlibrarian\nstudent\nadministrator\nengineer\nsalesman\nstudent\nlibrarian\nstudent\neducator\nengineer\nengineer\nscientist\nadministrator\nengineer\nstudent\nstudent\nscientist\nother\ntechnician\nexecutive\neducator\nwriter\nscientist\nstudent\nprogrammer\nother\neducator\nscientist\neducator\neducator\nwriter\nwriter\nexecutive\nstudent\nengineer\nadministrator\nlibrarian\nretired\nstudent\nstudent\nentertainment\neducator\neducator\neducator\nartist\neducator\nretired\neducator\nmarketing\nexecutive\nstudent\nadministrator\neducator\nstudent\nother\nstudent\nengineer\nstudent\nlibrarian\nstudent\nother\nstudent\nlawyer\neducator\nlibrarian\nstudent\neducator\neducator\nprogrammer\nartist\nother\nmarketing\nstudent\nprogrammer\nartist\nother\nprogrammer\neducator\nengineer\nprogrammer\nhealthcare\nother\nstudent\nstudent\nlibrarian\neducator\nmarketing\neducator\neducator\nscientist\nwriter\nstudent\nstudent\nwriter\nstudent\nprogrammer\neducator\nstudent\nprogrammer\nscientist\nengineer\nnone\nother\nhealthcare\nstudent\nstudent\nprogrammer\nengineer\nother\neducator\nother\nengineer\nlibrarian\nstudent\nstudent\nstudent\nscientist\nretired\nprogrammer\nstudent\neducator\nengineer\nstudent\nengineer\nretired\nother\nexecutive\nstudent\nhealthcare\neducator\nnone\nprogrammer\neducator\nstudent\nprogrammer\nlibrarian\nother\nengineer\nadministrator\nadministrator\nlibrarian\nwriter\nother\ntechnician\nprogrammer\nadministrator\neducator\nstudent\nother\nprogrammer\nother\neducator\nstudent\nlawyer\nmarketing\nprogrammer\nlibrarian\nstudent\nlibrarian\neducator\nhealthcare\nadministrator\nother\nsalesman\neducator\nengineer\nhealthcare\nprogrammer\nwriter\nother\nother\nprogrammer\nother\nstudent\nlibrarian\nother\neducator\nlibrarian\nstudent\nstudent\nlibrarian\nhomemaker\nother\nstudent\nstudent\nstudent\nother\nengineer\ntechnician\nadministrator\ntechnician\ntechnician\nother\nadministrator\nentertainment\nhomemaker\nexecutive\nexecutive\nstudent\nadministrator\nstudent\nexecutive\nstudent\nscientist\neducator\nother\nother\nother\nhealthcare\nwriter\nprogrammer\ntechnician\ntechnician\neducator\nwriter\nstudent\nprogrammer\nmarketing\nwriter\nengineer\nother\nadministrator\nother\nadministrator\nother\nretired\nsalesman\nlibrarian\neducator\nnone\nstudent\nstudent\nstudent\nother\nstudent\nadministrator\nscientist\neducator\nstudent\nother\nengineer\nadministrator\nexecutive\nstudent\nstudent\nwriter\nstudent\nstudent\nexecutive\nlibrarian\nprogrammer\nstudent\nstudent\nprogrammer\nstudent\nartist\nmarketing\nadministrator\nengineer\nengineer\nstudent\nadministrator\nother\ntechnician\neducator\nprogrammer\nstudent\neducator\nprogrammer\nwriter\nother\nwriter\nadministrator\nprogrammer\nwriter\nadministrator\nadministrator\neducator\nother\nmarketing\nhealthcare\nsalesman\nmarketing\nother\neducator\ntechnician\nstudent\nother\nother\nother\nstudent\nlibrarian\nadministrator\nstudent\nengineer\nlibrarian\nartist\nother\nengineer\nartist\nengineer\nlibrarian\nwriter\nprogrammer\nother\ntechnician\nwriter\nother\nexecutive\nartist\nartist\nstudent\nentertainment\nartist\ndoctor\nwriter\nlibrarian\nengineer\ndoctor\nlawyer\nstudent\nengineer\nstudent\ntechnician\nother\nadministrator\nwriter\nstudent\nlibrarian\nmarketing\nadministrator\neducator\nother\nretired\nstudent\nexecutive\nstudent\nprogrammer\nartist\nother\nscientist\nprogrammer\nstudent\nstudent\nexecutive\nstudent\nadministrator\nscientist\nstudent\nother\nother\neducator\nadministrator\nstudent\nmarketing\nengineer\nlibrarian\nengineer\nother\nstudent\nstudent\nscientist\ntechnician\nstudent\nadministrator\nother\nstudent\neducator\nlibrarian\nwriter\nother\nhomemaker\nother\nretired\nexecutive\nartist\neducator\nstudent\nother\nlibrarian\nother\nlibrarian\neducator\nhealthcare\nwriter\nother\nstudent\nother\nentertainment\nengineer\nstudent\nscientist\nother\nartist\nstudent\nadministrator\nstudent\nother\nsalesman\nentertainment\nprogrammer\nstudent\nscientist\nscientist\neducator\neducator\nstudent\nengineer\ndoctor\nother\neducator\ntechnician\nstudent\nadministrator\nstudent\nlibrarian\nstudent\n"
          ]
        }
      ],
      "source": [
        "for v in users[\"occupation\"]:\n",
        "    print(v)"
      ]
    },
    {
      "cell_type": "markdown",
      "metadata": {
        "id": "KwZZavFdVe6O"
      },
      "source": [
        "### Step 12. How many different occupations are in this dataset? How many users per occupation are in the dataset?"
      ]
    },
    {
      "cell_type": "code",
      "metadata": {
        "id": "qDp1vDNoVe6P"
      },
      "source": [
        "set(users[\"occupation\"])"
      ],
      "execution_count": 54,
      "outputs": [
        {
          "output_type": "execute_result",
          "data": {
            "text/plain": [
              "{'administrator',\n",
              " 'artist',\n",
              " 'doctor',\n",
              " 'educator',\n",
              " 'engineer',\n",
              " 'entertainment',\n",
              " 'executive',\n",
              " 'healthcare',\n",
              " 'homemaker',\n",
              " 'lawyer',\n",
              " 'librarian',\n",
              " 'marketing',\n",
              " 'none',\n",
              " 'other',\n",
              " 'programmer',\n",
              " 'retired',\n",
              " 'salesman',\n",
              " 'scientist',\n",
              " 'student',\n",
              " 'technician',\n",
              " 'writer'}"
            ]
          },
          "metadata": {},
          "execution_count": 54
        }
      ]
    },
    {
      "cell_type": "code",
      "execution_count": 58,
      "metadata": {},
      "outputs": [
        {
          "output_type": "execute_result",
          "data": {
            "text/plain": [
              "student          196\n",
              "other            105\n",
              "educator          95\n",
              "administrator     79\n",
              "engineer          67\n",
              "programmer        66\n",
              "librarian         51\n",
              "writer            45\n",
              "executive         32\n",
              "scientist         31\n",
              "artist            28\n",
              "technician        27\n",
              "marketing         26\n",
              "entertainment     18\n",
              "healthcare        16\n",
              "retired           14\n",
              "lawyer            12\n",
              "salesman          12\n",
              "none               9\n",
              "homemaker          7\n",
              "doctor             7\n",
              "Name: occupation, dtype: int64"
            ]
          },
          "metadata": {},
          "execution_count": 58
        }
      ],
      "source": [
        "users['occupation'].value_counts()"
      ]
    },
    {
      "cell_type": "markdown",
      "metadata": {
        "id": "40-Umds6Ve6Q"
      },
      "source": [
        "### Step 13. What is the most frequent occupation?"
      ]
    },
    {
      "cell_type": "code",
      "execution_count": 60,
      "metadata": {},
      "outputs": [
        {
          "output_type": "execute_result",
          "data": {
            "text/plain": [
              "0    student\n",
              "dtype: object"
            ]
          },
          "metadata": {},
          "execution_count": 60
        }
      ],
      "source": [
        "users['occupation'].mode()"
      ]
    },
    {
      "cell_type": "markdown",
      "metadata": {
        "id": "JKim5q7VVe6R"
      },
      "source": [
        "### Step 14. Summarize the DataFrame."
      ]
    },
    {
      "cell_type": "code",
      "metadata": {
        "tags": [],
        "id": "kOn0EWZnVe6R"
      },
      "source": [
        "users.nunique()"
      ],
      "execution_count": 65,
      "outputs": [
        {
          "output_type": "execute_result",
          "data": {
            "text/plain": [
              "age            61\n",
              "gender          2\n",
              "occupation     21\n",
              "zip_code      795\n",
              "dtype: int64"
            ]
          },
          "metadata": {},
          "execution_count": 65
        }
      ]
    },
    {
      "cell_type": "code",
      "execution_count": 62,
      "metadata": {},
      "outputs": [
        {
          "output_type": "stream",
          "name": "stdout",
          "text": [
            "<class 'pandas.core.frame.DataFrame'>\nInt64Index: 943 entries, 1 to 943\nData columns (total 4 columns):\n #   Column      Non-Null Count  Dtype \n---  ------      --------------  ----- \n 0   age         943 non-null    int64 \n 1   gender      943 non-null    object\n 2   occupation  943 non-null    object\n 3   zip_code    943 non-null    object\ndtypes: int64(1), object(3)\nmemory usage: 69.1+ KB\n"
          ]
        }
      ],
      "source": [
        "users.info()\n"
      ]
    },
    {
      "cell_type": "markdown",
      "metadata": {
        "id": "VVC8nSKSVe6S"
      },
      "source": [
        "### Step 15. Summarize all the columns"
      ]
    },
    {
      "cell_type": "code",
      "metadata": {
        "id": "jfSYFOVfVe6S"
      },
      "source": [
        "users.describe(include=\"all\")"
      ],
      "execution_count": 61,
      "outputs": [
        {
          "output_type": "execute_result",
          "data": {
            "text/plain": [
              "               age gender occupation zip_code\n",
              "count   943.000000    943        943      943\n",
              "unique         NaN      2         21      795\n",
              "top            NaN      M    student    55414\n",
              "freq           NaN    670        196        9\n",
              "mean     34.051962    NaN        NaN      NaN\n",
              "std      12.192740    NaN        NaN      NaN\n",
              "min       7.000000    NaN        NaN      NaN\n",
              "25%      25.000000    NaN        NaN      NaN\n",
              "50%      31.000000    NaN        NaN      NaN\n",
              "75%      43.000000    NaN        NaN      NaN\n",
              "max      73.000000    NaN        NaN      NaN"
            ],
            "text/html": "<div>\n<style scoped>\n    .dataframe tbody tr th:only-of-type {\n        vertical-align: middle;\n    }\n\n    .dataframe tbody tr th {\n        vertical-align: top;\n    }\n\n    .dataframe thead th {\n        text-align: right;\n    }\n</style>\n<table border=\"1\" class=\"dataframe\">\n  <thead>\n    <tr style=\"text-align: right;\">\n      <th></th>\n      <th>age</th>\n      <th>gender</th>\n      <th>occupation</th>\n      <th>zip_code</th>\n    </tr>\n  </thead>\n  <tbody>\n    <tr>\n      <th>count</th>\n      <td>943.000000</td>\n      <td>943</td>\n      <td>943</td>\n      <td>943</td>\n    </tr>\n    <tr>\n      <th>unique</th>\n      <td>NaN</td>\n      <td>2</td>\n      <td>21</td>\n      <td>795</td>\n    </tr>\n    <tr>\n      <th>top</th>\n      <td>NaN</td>\n      <td>M</td>\n      <td>student</td>\n      <td>55414</td>\n    </tr>\n    <tr>\n      <th>freq</th>\n      <td>NaN</td>\n      <td>670</td>\n      <td>196</td>\n      <td>9</td>\n    </tr>\n    <tr>\n      <th>mean</th>\n      <td>34.051962</td>\n      <td>NaN</td>\n      <td>NaN</td>\n      <td>NaN</td>\n    </tr>\n    <tr>\n      <th>std</th>\n      <td>12.192740</td>\n      <td>NaN</td>\n      <td>NaN</td>\n      <td>NaN</td>\n    </tr>\n    <tr>\n      <th>min</th>\n      <td>7.000000</td>\n      <td>NaN</td>\n      <td>NaN</td>\n      <td>NaN</td>\n    </tr>\n    <tr>\n      <th>25%</th>\n      <td>25.000000</td>\n      <td>NaN</td>\n      <td>NaN</td>\n      <td>NaN</td>\n    </tr>\n    <tr>\n      <th>50%</th>\n      <td>31.000000</td>\n      <td>NaN</td>\n      <td>NaN</td>\n      <td>NaN</td>\n    </tr>\n    <tr>\n      <th>75%</th>\n      <td>43.000000</td>\n      <td>NaN</td>\n      <td>NaN</td>\n      <td>NaN</td>\n    </tr>\n    <tr>\n      <th>max</th>\n      <td>73.000000</td>\n      <td>NaN</td>\n      <td>NaN</td>\n      <td>NaN</td>\n    </tr>\n  </tbody>\n</table>\n</div>"
          },
          "metadata": {},
          "execution_count": 61
        }
      ]
    },
    {
      "cell_type": "markdown",
      "metadata": {
        "id": "vSwC_79WVe6T"
      },
      "source": [
        "### Step 16. Summarize only the occupation column"
      ]
    },
    {
      "cell_type": "code",
      "metadata": {
        "id": "QsKSRxTaVe6T"
      },
      "source": [
        "users.occupation.value_counts()"
      ],
      "execution_count": 64,
      "outputs": [
        {
          "output_type": "execute_result",
          "data": {
            "text/plain": [
              "student          196\n",
              "other            105\n",
              "educator          95\n",
              "administrator     79\n",
              "engineer          67\n",
              "programmer        66\n",
              "librarian         51\n",
              "writer            45\n",
              "executive         32\n",
              "scientist         31\n",
              "artist            28\n",
              "technician        27\n",
              "marketing         26\n",
              "entertainment     18\n",
              "healthcare        16\n",
              "retired           14\n",
              "lawyer            12\n",
              "salesman          12\n",
              "none               9\n",
              "homemaker          7\n",
              "doctor             7\n",
              "Name: occupation, dtype: int64"
            ]
          },
          "metadata": {},
          "execution_count": 64
        }
      ]
    },
    {
      "cell_type": "markdown",
      "metadata": {
        "id": "tvI_wCD3Ve6U"
      },
      "source": [
        "### Step 17. What is the mean age of users?"
      ]
    },
    {
      "cell_type": "code",
      "metadata": {
        "id": "6JQQrFovVe6U"
      },
      "source": [
        "users[\"age\"].mean()"
      ],
      "execution_count": 67,
      "outputs": [
        {
          "output_type": "execute_result",
          "data": {
            "text/plain": [
              "34.05196182396607"
            ]
          },
          "metadata": {},
          "execution_count": 67
        }
      ]
    },
    {
      "cell_type": "markdown",
      "metadata": {
        "id": "9FF5pbvkVe6V"
      },
      "source": [
        "### Step 18. What is the age with least occurrence?"
      ]
    },
    {
      "cell_type": "code",
      "metadata": {
        "id": "g9Cae0OBVe6V"
      },
      "source": [
        "c = users.age.value_counts()\n",
        "c.index[-1]"
      ],
      "execution_count": 73,
      "outputs": [
        {
          "output_type": "execute_result",
          "data": {
            "text/plain": [
              "73"
            ]
          },
          "metadata": {},
          "execution_count": 73
        }
      ]
    },
    {
      "cell_type": "code",
      "execution_count": 75,
      "metadata": {},
      "outputs": [
        {
          "output_type": "execute_result",
          "data": {
            "text/plain": [
              "30    39\n",
              "25    38\n",
              "22    37\n",
              "28    36\n",
              "27    35\n",
              "      ..\n",
              "7      1\n",
              "66     1\n",
              "10     1\n",
              "11     1\n",
              "73     1\n",
              "Name: age, Length: 61, dtype: int64"
            ]
          },
          "metadata": {},
          "execution_count": 75
        }
      ],
      "source": [
        "users.age.value_counts()"
      ]
    },
    {
      "cell_type": "code",
      "execution_count": null,
      "metadata": {},
      "outputs": [],
      "source": []
    }
  ]
}