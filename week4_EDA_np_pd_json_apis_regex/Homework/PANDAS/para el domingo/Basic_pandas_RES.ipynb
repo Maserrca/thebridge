{
  "nbformat": 4,
  "nbformat_minor": 0,
  "metadata": {
    "kernelspec": {
      "display_name": "Python 3",
      "language": "python",
      "name": "python3"
    },
    "language_info": {
      "codemirror_mode": {
        "name": "ipython",
        "version": 3
      },
      "file_extension": ".py",
      "mimetype": "text/x-python",
      "name": "python",
      "nbconvert_exporter": "python",
      "pygments_lexer": "ipython3",
      "version": "3.8.6"
    },
    "colab": {
      "name": "Basic_pandas_RES.ipynb",
      "provenance": []
    }
  },
  "cells": [
    {
      "cell_type": "markdown",
      "metadata": {
        "id": "sS7Tp7aECgND"
      },
      "source": [
        "## Ejercicio 1\n",
        "Importa la libreria de `pandas` y `numpy`. ¿Qué versión de la librería `pandas` tienes?"
      ]
    },
    {
      "cell_type": "code",
      "metadata": {
        "id": "7JrmU6C7CgNQ"
      },
      "source": [
        "import pandas as pd\n",
        "import numpy as np"
      ],
      "execution_count": null,
      "outputs": []
    },
    {
      "cell_type": "markdown",
      "metadata": {
        "id": "sU3FeCPACgNS"
      },
      "source": [
        "## Ejercicio 2\n",
        "Lee el archivo CSV de la liga. Guarda el DataFrame en una variable llamada `df`. [Usa el método `read_csv` de `pandas`](https://pandas.pydata.org/pandas-docs/stable/reference/api/pandas.read_csv.html)."
      ]
    },
    {
      "cell_type": "code",
      "metadata": {
        "id": "_W5kuzsYCgNS"
      },
      "source": [
        "liga = pd.read_csv(\"laliga.csv\")"
      ],
      "execution_count": null,
      "outputs": []
    },
    {
      "cell_type": "markdown",
      "metadata": {
        "id": "OLuvadQUCgNT"
      },
      "source": [
        "## Ejercicio 3\n",
        "Obtén por pantalla los 4 primero registros"
      ]
    },
    {
      "cell_type": "code",
      "metadata": {
        "id": "KNCNK55LCgNT",
        "outputId": "6e46d30d-5c38-4e04-8c99-70d7d5fa6d0b"
      },
      "source": [
        "# way 1\n",
        "liga.head(4)"
      ],
      "execution_count": null,
      "outputs": [
        {
          "output_type": "execute_result",
          "data": {
            "text/html": [
              "<div>\n",
              "<style scoped>\n",
              "    .dataframe tbody tr th:only-of-type {\n",
              "        vertical-align: middle;\n",
              "    }\n",
              "\n",
              "    .dataframe tbody tr th {\n",
              "        vertical-align: top;\n",
              "    }\n",
              "\n",
              "    .dataframe thead th {\n",
              "        text-align: right;\n",
              "    }\n",
              "</style>\n",
              "<table border=\"1\" class=\"dataframe\">\n",
              "  <thead>\n",
              "    <tr style=\"text-align: right;\">\n",
              "      <th></th>\n",
              "      <th>Unnamed: 0</th>\n",
              "      <th>season</th>\n",
              "      <th>division</th>\n",
              "      <th>round</th>\n",
              "      <th>localTeam</th>\n",
              "      <th>visitorTeam</th>\n",
              "      <th>localGoals</th>\n",
              "      <th>visitorGoals</th>\n",
              "      <th>date</th>\n",
              "      <th>timestamp</th>\n",
              "    </tr>\n",
              "  </thead>\n",
              "  <tbody>\n",
              "    <tr>\n",
              "      <th>0</th>\n",
              "      <td>26201</td>\n",
              "      <td>2005-06</td>\n",
              "      <td>1</td>\n",
              "      <td>1</td>\n",
              "      <td>Atletico de Bilbao</td>\n",
              "      <td>Real Sociedad</td>\n",
              "      <td>3</td>\n",
              "      <td>0</td>\n",
              "      <td>27/08/2005</td>\n",
              "      <td>1125093600</td>\n",
              "    </tr>\n",
              "    <tr>\n",
              "      <th>1</th>\n",
              "      <td>26202</td>\n",
              "      <td>2005-06</td>\n",
              "      <td>1</td>\n",
              "      <td>1</td>\n",
              "      <td>Alaves</td>\n",
              "      <td>Barcelona</td>\n",
              "      <td>0</td>\n",
              "      <td>0</td>\n",
              "      <td>27/08/2005</td>\n",
              "      <td>1125093600</td>\n",
              "    </tr>\n",
              "    <tr>\n",
              "      <th>2</th>\n",
              "      <td>26203</td>\n",
              "      <td>2005-06</td>\n",
              "      <td>1</td>\n",
              "      <td>1</td>\n",
              "      <td>Valencia</td>\n",
              "      <td>Betis</td>\n",
              "      <td>1</td>\n",
              "      <td>0</td>\n",
              "      <td>27/08/2005</td>\n",
              "      <td>1125093600</td>\n",
              "    </tr>\n",
              "    <tr>\n",
              "      <th>3</th>\n",
              "      <td>26204</td>\n",
              "      <td>2005-06</td>\n",
              "      <td>1</td>\n",
              "      <td>1</td>\n",
              "      <td>Atletico de Madrid</td>\n",
              "      <td>Zaragoza</td>\n",
              "      <td>0</td>\n",
              "      <td>0</td>\n",
              "      <td>28/08/2005</td>\n",
              "      <td>1125180000</td>\n",
              "    </tr>\n",
              "  </tbody>\n",
              "</table>\n",
              "</div>"
            ],
            "text/plain": [
              "   Unnamed: 0   season  division  round           localTeam    visitorTeam  \\\n",
              "0       26201  2005-06         1      1  Atletico de Bilbao  Real Sociedad   \n",
              "1       26202  2005-06         1      1              Alaves      Barcelona   \n",
              "2       26203  2005-06         1      1            Valencia          Betis   \n",
              "3       26204  2005-06         1      1  Atletico de Madrid       Zaragoza   \n",
              "\n",
              "   localGoals  visitorGoals        date   timestamp  \n",
              "0           3             0  27/08/2005  1125093600  \n",
              "1           0             0  27/08/2005  1125093600  \n",
              "2           1             0  27/08/2005  1125093600  \n",
              "3           0             0  28/08/2005  1125180000  "
            ]
          },
          "metadata": {
            "tags": []
          },
          "execution_count": 3
        }
      ]
    },
    {
      "cell_type": "code",
      "metadata": {
        "id": "b1s3ohCKCgNV",
        "outputId": "b083e6ba-92ed-4bf5-d07e-1e93f49d2281"
      },
      "source": [
        "# way 2\n",
        "liga[:4]"
      ],
      "execution_count": null,
      "outputs": [
        {
          "output_type": "execute_result",
          "data": {
            "text/html": [
              "<div>\n",
              "<style scoped>\n",
              "    .dataframe tbody tr th:only-of-type {\n",
              "        vertical-align: middle;\n",
              "    }\n",
              "\n",
              "    .dataframe tbody tr th {\n",
              "        vertical-align: top;\n",
              "    }\n",
              "\n",
              "    .dataframe thead th {\n",
              "        text-align: right;\n",
              "    }\n",
              "</style>\n",
              "<table border=\"1\" class=\"dataframe\">\n",
              "  <thead>\n",
              "    <tr style=\"text-align: right;\">\n",
              "      <th></th>\n",
              "      <th>Unnamed: 0</th>\n",
              "      <th>season</th>\n",
              "      <th>division</th>\n",
              "      <th>round</th>\n",
              "      <th>localTeam</th>\n",
              "      <th>visitorTeam</th>\n",
              "      <th>localGoals</th>\n",
              "      <th>visitorGoals</th>\n",
              "      <th>date</th>\n",
              "      <th>timestamp</th>\n",
              "    </tr>\n",
              "  </thead>\n",
              "  <tbody>\n",
              "    <tr>\n",
              "      <th>0</th>\n",
              "      <td>26201</td>\n",
              "      <td>2005-06</td>\n",
              "      <td>1</td>\n",
              "      <td>1</td>\n",
              "      <td>Atletico de Bilbao</td>\n",
              "      <td>Real Sociedad</td>\n",
              "      <td>3</td>\n",
              "      <td>0</td>\n",
              "      <td>27/08/2005</td>\n",
              "      <td>1125093600</td>\n",
              "    </tr>\n",
              "    <tr>\n",
              "      <th>1</th>\n",
              "      <td>26202</td>\n",
              "      <td>2005-06</td>\n",
              "      <td>1</td>\n",
              "      <td>1</td>\n",
              "      <td>Alaves</td>\n",
              "      <td>Barcelona</td>\n",
              "      <td>0</td>\n",
              "      <td>0</td>\n",
              "      <td>27/08/2005</td>\n",
              "      <td>1125093600</td>\n",
              "    </tr>\n",
              "    <tr>\n",
              "      <th>2</th>\n",
              "      <td>26203</td>\n",
              "      <td>2005-06</td>\n",
              "      <td>1</td>\n",
              "      <td>1</td>\n",
              "      <td>Valencia</td>\n",
              "      <td>Betis</td>\n",
              "      <td>1</td>\n",
              "      <td>0</td>\n",
              "      <td>27/08/2005</td>\n",
              "      <td>1125093600</td>\n",
              "    </tr>\n",
              "    <tr>\n",
              "      <th>3</th>\n",
              "      <td>26204</td>\n",
              "      <td>2005-06</td>\n",
              "      <td>1</td>\n",
              "      <td>1</td>\n",
              "      <td>Atletico de Madrid</td>\n",
              "      <td>Zaragoza</td>\n",
              "      <td>0</td>\n",
              "      <td>0</td>\n",
              "      <td>28/08/2005</td>\n",
              "      <td>1125180000</td>\n",
              "    </tr>\n",
              "  </tbody>\n",
              "</table>\n",
              "</div>"
            ],
            "text/plain": [
              "   Unnamed: 0   season  division  round           localTeam    visitorTeam  \\\n",
              "0       26201  2005-06         1      1  Atletico de Bilbao  Real Sociedad   \n",
              "1       26202  2005-06         1      1              Alaves      Barcelona   \n",
              "2       26203  2005-06         1      1            Valencia          Betis   \n",
              "3       26204  2005-06         1      1  Atletico de Madrid       Zaragoza   \n",
              "\n",
              "   localGoals  visitorGoals        date   timestamp  \n",
              "0           3             0  27/08/2005  1125093600  \n",
              "1           0             0  27/08/2005  1125093600  \n",
              "2           1             0  27/08/2005  1125093600  \n",
              "3           0             0  28/08/2005  1125180000  "
            ]
          },
          "metadata": {
            "tags": []
          },
          "execution_count": 4
        }
      ]
    },
    {
      "cell_type": "markdown",
      "metadata": {
        "id": "ev1AtlrOCgNW"
      },
      "source": [
        "## Ejercicio 4\n",
        "Obtén en un array de `numpy` todos los valores del DataFrame"
      ]
    },
    {
      "cell_type": "code",
      "metadata": {
        "id": "MmiJD9_iCgNW",
        "outputId": "bcea4bcd-2730-42eb-af95-bd3fdaa5f164"
      },
      "source": [
        "liga.values"
      ],
      "execution_count": null,
      "outputs": [
        {
          "output_type": "execute_result",
          "data": {
            "text/plain": [
              "array([[26201, '2005-06', 1, ..., 0, '27/08/2005', 1125093600],\n",
              "       [26202, '2005-06', 1, ..., 0, '27/08/2005', 1125093600],\n",
              "       [26203, '2005-06', 1, ..., 0, '27/08/2005', 1125093600],\n",
              "       ...,\n",
              "       [36682, '2017-18', 1, ..., 0, '20/05/2018', 1526767200],\n",
              "       [36683, '2017-18', 1, ..., 1, '20/05/2018', 1526767200],\n",
              "       [36684, '2017-18', 1, ..., 2, '20/05/2018', 1526767200]],\n",
              "      dtype=object)"
            ]
          },
          "metadata": {
            "tags": []
          },
          "execution_count": 5
        }
      ]
    },
    {
      "cell_type": "code",
      "metadata": {
        "id": "DCWN5I5bCgNX",
        "outputId": "9e55438b-cb5a-422f-c32a-a69f36308791"
      },
      "source": [
        "for col in liga.columns:\n",
        "    print(f\"Array de la columna {col} ->\", liga[col].values)"
      ],
      "execution_count": null,
      "outputs": [
        {
          "output_type": "stream",
          "text": [
            "Array de la columna Unnamed: 0 -> [26201 26202 26203 ... 36682 36683 36684]\n",
            "Array de la columna season -> ['2005-06' '2005-06' '2005-06' ... '2017-18' '2017-18' '2017-18']\n",
            "Array de la columna division -> [1 1 1 ... 1 1 1]\n",
            "Array de la columna round -> [ 1  1  1 ... 38 38 38]\n",
            "Array de la columna localTeam -> ['Atletico de Bilbao' 'Alaves' 'Valencia' ... 'Barcelona' 'Valencia'\n",
            " 'Atletico de Madrid']\n",
            "Array de la columna visitorTeam -> ['Real Sociedad' 'Barcelona' 'Betis' ... 'Real Sociedad' 'Deportivo'\n",
            " 'Eibar']\n",
            "Array de la columna localGoals -> [3 0 1 ... 1 2 2]\n",
            "Array de la columna visitorGoals -> [0 0 0 ... 0 1 2]\n",
            "Array de la columna date -> ['27/08/2005' '27/08/2005' '27/08/2005' ... '20/05/2018' '20/05/2018'\n",
            " '20/05/2018']\n",
            "Array de la columna timestamp -> [1125093600 1125093600 1125093600 ... 1526767200 1526767200 1526767200]\n"
          ],
          "name": "stdout"
        }
      ]
    },
    {
      "cell_type": "markdown",
      "metadata": {
        "id": "vlPJoDWhCgNY"
      },
      "source": [
        "## Ejercicio 5\n",
        "¿Cuáles son las columnas de `df`?"
      ]
    },
    {
      "cell_type": "code",
      "metadata": {
        "id": "lf_hzS8sCgNY",
        "outputId": "3d660076-d84a-42d2-d4d1-cb3d4fb1de55"
      },
      "source": [
        "liga.columns"
      ],
      "execution_count": null,
      "outputs": [
        {
          "output_type": "execute_result",
          "data": {
            "text/plain": [
              "Index(['Unnamed: 0', 'season', 'division', 'round', 'localTeam', 'visitorTeam',\n",
              "       'localGoals', 'visitorGoals', 'date', 'timestamp'],\n",
              "      dtype='object')"
            ]
          },
          "metadata": {
            "tags": []
          },
          "execution_count": 7
        }
      ]
    },
    {
      "cell_type": "markdown",
      "metadata": {
        "id": "hnrSQaGKCgNZ"
      },
      "source": [
        "## Ejercicio 6\n",
        "Crea un `Series` con la [población de Madrid, Galicia, Murcia y Andalucía](https://es.wikipedia.org/wiki/Anexo:Comunidades_y_ciudades_aut%C3%B3nomas_de_Espa%C3%B1a). Llamalo `poblacion`.\n",
        "\n",
        "- Madrid: 6685471\n",
        "- Galicia: 2698764\n",
        "- Murcia: 1494442\n",
        "- Andalucía: 8446561\n"
      ]
    },
    {
      "cell_type": "code",
      "metadata": {
        "id": "MvxckYGiCgNa",
        "outputId": "1d3f0381-96ab-484f-f7a9-9698d13071bf"
      },
      "source": [
        "poblacion = pd.Series([6685471, 2698764, 1494442, 8446561], index = [\"Madrid\", \"Galicia\", \"Murcia\", \"Andalucia\"])\n",
        "poblacion"
      ],
      "execution_count": null,
      "outputs": [
        {
          "output_type": "execute_result",
          "data": {
            "text/plain": [
              "Madrid       6685471\n",
              "Galicia      2698764\n",
              "Murcia       1494442\n",
              "Andalucia    8446561\n",
              "dtype: int64"
            ]
          },
          "metadata": {
            "tags": []
          },
          "execution_count": 8
        }
      ]
    },
    {
      "cell_type": "markdown",
      "metadata": {
        "id": "MvqtYXZcCgNb"
      },
      "source": [
        "## Ejercicio 7\n",
        "Obtén un array de `numpy` con los valores del `Series`.\n",
        "\n",
        "Saca también sus índices, y los valores de sus índices."
      ]
    },
    {
      "cell_type": "code",
      "metadata": {
        "id": "iTYlc-gpCgNb",
        "outputId": "4aef1a45-90ac-42b6-e68b-6e651d508ca9"
      },
      "source": [
        "poblacion.values"
      ],
      "execution_count": null,
      "outputs": [
        {
          "output_type": "execute_result",
          "data": {
            "text/plain": [
              "array([6685471, 2698764, 1494442, 8446561], dtype=int64)"
            ]
          },
          "metadata": {
            "tags": []
          },
          "execution_count": 9
        }
      ]
    },
    {
      "cell_type": "code",
      "metadata": {
        "id": "xW5irTBTCgNc",
        "outputId": "9776fe56-8082-4135-8d7d-3f8d06778ecf"
      },
      "source": [
        "poblacion.index"
      ],
      "execution_count": null,
      "outputs": [
        {
          "output_type": "execute_result",
          "data": {
            "text/plain": [
              "Index(['Madrid', 'Galicia', 'Murcia', 'Andalucia'], dtype='object')"
            ]
          },
          "metadata": {
            "tags": []
          },
          "execution_count": 10
        }
      ]
    },
    {
      "cell_type": "code",
      "metadata": {
        "id": "Zs0uy_VoCgNd",
        "outputId": "ad2d0a3d-7248-448f-cff7-a053b61d5725"
      },
      "source": [
        "# poblacion.index nos devuelve un objeto Index, del cual podemos obtener también sus valores\n",
        "poblacion.index.values"
      ],
      "execution_count": null,
      "outputs": [
        {
          "output_type": "execute_result",
          "data": {
            "text/plain": [
              "array(['Madrid', 'Galicia', 'Murcia', 'Andalucia'], dtype=object)"
            ]
          },
          "metadata": {
            "tags": []
          },
          "execution_count": 11
        }
      ]
    },
    {
      "cell_type": "markdown",
      "metadata": {
        "id": "ENazjygXCgNe"
      },
      "source": [
        "## Ejercicio 8\n",
        "1. ¿Qué población hay en el primer elemento del `Series`?\n",
        "2. ¿Qué población hay en Galicia?\n",
        "3. Imprime por pantalla las poblaciones de Galicia, Andalucía y las comunidades autónomas que se encuentren entre ambas, dentro del `Series`.\n",
        "4. Comprueba con un output booleano que `Galicia` se encuentra entre los índices del `Index`.\n",
        "5. Realiza los apartados 1,2,3 pero esta vez de una manera diferente."
      ]
    },
    {
      "cell_type": "code",
      "metadata": {
        "id": "6NWmSMVLCgNe",
        "outputId": "10905390-b849-4ffe-dc25-4638a1249073"
      },
      "source": [
        "#1\n",
        "poblacion[0]"
      ],
      "execution_count": null,
      "outputs": [
        {
          "output_type": "execute_result",
          "data": {
            "text/plain": [
              "6685471"
            ]
          },
          "metadata": {
            "tags": []
          },
          "execution_count": 12
        }
      ]
    },
    {
      "cell_type": "code",
      "metadata": {
        "id": "mvcoD-rwCgNf",
        "outputId": "b6928e78-7891-4022-9519-7a82560e1d68"
      },
      "source": [
        "#2\n",
        "poblacion[\"Galicia\"]"
      ],
      "execution_count": null,
      "outputs": [
        {
          "output_type": "execute_result",
          "data": {
            "text/plain": [
              "2698764"
            ]
          },
          "metadata": {
            "tags": []
          },
          "execution_count": 13
        }
      ]
    },
    {
      "cell_type": "code",
      "metadata": {
        "id": "pQDOEGs7CgNf",
        "outputId": "ece50ff5-2890-4949-9230-1ae7ed6f48ff"
      },
      "source": [
        "#3\n",
        "poblacion[\"Galicia\":\"Andalucia\"]\n",
        "# cuando hacemos slicing por nombre, se incluye el último"
      ],
      "execution_count": null,
      "outputs": [
        {
          "output_type": "execute_result",
          "data": {
            "text/plain": [
              "Galicia      2698764\n",
              "Murcia       1494442\n",
              "Andalucia    8446561\n",
              "dtype: int64"
            ]
          },
          "metadata": {
            "tags": []
          },
          "execution_count": 14
        }
      ]
    },
    {
      "cell_type": "code",
      "metadata": {
        "id": "YFhzlWJrCgNg",
        "outputId": "e55ff158-cfe7-41b1-f1b9-98f9ce16d9ce"
      },
      "source": [
        "#4\n",
        "\"Galicia\" in poblacion.index"
      ],
      "execution_count": null,
      "outputs": [
        {
          "output_type": "execute_result",
          "data": {
            "text/plain": [
              "True"
            ]
          },
          "metadata": {
            "tags": []
          },
          "execution_count": 15
        }
      ]
    },
    {
      "cell_type": "code",
      "metadata": {
        "id": "epZL6nDYCgNg",
        "outputId": "8578dc4e-a2d9-4ef3-ed25-8a962bbfe62c"
      },
      "source": [
        "#5\n",
        "print(poblacion[\"Madrid\"]) #1\n",
        "print()\n",
        "print(poblacion[1]) #2\n",
        "print()\n",
        "print(poblacion[1:]) #3"
      ],
      "execution_count": null,
      "outputs": [
        {
          "output_type": "stream",
          "text": [
            "6685471\n",
            "\n",
            "2698764\n",
            "\n",
            "Galicia      2698764\n",
            "Murcia       1494442\n",
            "Andalucia    8446561\n",
            "dtype: int64\n"
          ],
          "name": "stdout"
        }
      ]
    },
    {
      "cell_type": "markdown",
      "metadata": {
        "id": "WgNzNnDcCgNh"
      },
      "source": [
        "## Ejercicio 9\n",
        "A partir de las comunidades autónomas anteriores, crea un `Series` con [la tasa de paro](https://es.statista.com/estadisticas/941646/prevision-de-la-tasa-de-paro-por-comunidad-autonoma-espana/) en dichas comunidades autónomas.\n",
        "\n",
        "Con la tasa de paro y las poblaciones, crea un DataFrame de pandas. Llámalo `data`.\n",
        "\n",
        "- Madrid: 9.99\n",
        "- Galicia: 11.74\n",
        "- Murcia: 16.08\n",
        "- Andalucía: 20.8"
      ]
    },
    {
      "cell_type": "code",
      "metadata": {
        "id": "7G095EJcCgNh"
      },
      "source": [
        "paro = pd.Series([9.99, 11.74, 16.08, 20.8], index = [\"Madrid\", \"Galicia\", \"Murcia\", \"Andalucia\"])"
      ],
      "execution_count": null,
      "outputs": []
    },
    {
      "cell_type": "code",
      "metadata": {
        "id": "7XOYLNNjCgNi"
      },
      "source": [
        "data = pd.DataFrame({\"Paro\": paro, \"Poblacion\": poblacion})"
      ],
      "execution_count": null,
      "outputs": []
    },
    {
      "cell_type": "markdown",
      "metadata": {
        "id": "earj3LeYCgNi"
      },
      "source": [
        "## Ejercicio 10\n",
        "Imprime por pantalla la población, y la tasa de paro. Por separado"
      ]
    },
    {
      "cell_type": "code",
      "metadata": {
        "id": "YmzklFx0CgNj",
        "outputId": "d92af2f2-b96f-4408-db48-c9187dd85441"
      },
      "source": [
        "data[\"Paro\"]"
      ],
      "execution_count": null,
      "outputs": [
        {
          "output_type": "execute_result",
          "data": {
            "text/plain": [
              "Madrid        9.99\n",
              "Galicia      11.74\n",
              "Murcia       16.08\n",
              "Andalucia    20.80\n",
              "Name: Paro, dtype: float64"
            ]
          },
          "metadata": {
            "tags": []
          },
          "execution_count": 19
        }
      ]
    },
    {
      "cell_type": "code",
      "metadata": {
        "id": "BH0gg4PeCgNj",
        "outputId": "214d774b-7fea-4bbe-b33e-75ac07d94da8"
      },
      "source": [
        "data[\"Poblacion\"]"
      ],
      "execution_count": null,
      "outputs": [
        {
          "output_type": "execute_result",
          "data": {
            "text/plain": [
              "Madrid       6685471\n",
              "Galicia      2698764\n",
              "Murcia       1494442\n",
              "Andalucia    8446561\n",
              "Name: Poblacion, dtype: int64"
            ]
          },
          "metadata": {
            "tags": []
          },
          "execution_count": 20
        }
      ]
    },
    {
      "cell_type": "markdown",
      "metadata": {
        "id": "Cnn69zkSCgNk"
      },
      "source": [
        "## Ejercicio 11\n",
        "Crea un nuevo Data Frame (`data2`), que sea igual que `data`, pero con una nueva columna, que lleve [la superficie de las Comunidades Autónomas](https://es.wikipedia.org/wiki/Anexo:Comunidades_y_ciudades_aut%C3%B3nomas_de_Espa%C3%B1a).\n",
        "\n",
        "- Madrid: 8028\n",
        "- Galicia: 29575\n",
        "- Murcia: 11314\n",
        "- Andalucía: 87599"
      ]
    },
    {
      "cell_type": "code",
      "metadata": {
        "id": "FmI3VX1ZCgNk",
        "outputId": "7a532135-dab7-446a-f691-4b3b28e247c2"
      },
      "source": [
        "superficie = pd.Series({\"Madrid\":8028, \"Galicia\":29575, \"Murcia\":11314, \"Andalucia\":87599})\n",
        "print(superficie)"
      ],
      "execution_count": null,
      "outputs": [
        {
          "output_type": "stream",
          "text": [
            "Madrid        8028\n",
            "Galicia      29575\n",
            "Murcia       11314\n",
            "Andalucia    87599\n",
            "dtype: int64\n"
          ],
          "name": "stdout"
        }
      ]
    },
    {
      "cell_type": "code",
      "metadata": {
        "id": "-Nb8xlQTCgNk"
      },
      "source": [
        "data2 = data.copy()"
      ],
      "execution_count": null,
      "outputs": []
    },
    {
      "cell_type": "code",
      "metadata": {
        "id": "iGO0zkZUCgNl"
      },
      "source": [
        "data2[\"Superficie\"] = superficie"
      ],
      "execution_count": null,
      "outputs": []
    },
    {
      "cell_type": "code",
      "metadata": {
        "id": "fj97eNcoCgNl",
        "outputId": "daad6298-fd26-4b03-a2ad-2914685e598f"
      },
      "source": [
        "# way 2\n",
        "data2 = pd.DataFrame({\"Paro\": paro, \"Poblacion\": poblacion, \"Superficie\": superficie})\n",
        "data2"
      ],
      "execution_count": null,
      "outputs": [
        {
          "output_type": "execute_result",
          "data": {
            "text/html": [
              "<div>\n",
              "<style scoped>\n",
              "    .dataframe tbody tr th:only-of-type {\n",
              "        vertical-align: middle;\n",
              "    }\n",
              "\n",
              "    .dataframe tbody tr th {\n",
              "        vertical-align: top;\n",
              "    }\n",
              "\n",
              "    .dataframe thead th {\n",
              "        text-align: right;\n",
              "    }\n",
              "</style>\n",
              "<table border=\"1\" class=\"dataframe\">\n",
              "  <thead>\n",
              "    <tr style=\"text-align: right;\">\n",
              "      <th></th>\n",
              "      <th>Paro</th>\n",
              "      <th>Poblacion</th>\n",
              "      <th>Superficie</th>\n",
              "    </tr>\n",
              "  </thead>\n",
              "  <tbody>\n",
              "    <tr>\n",
              "      <th>Madrid</th>\n",
              "      <td>9.99</td>\n",
              "      <td>6685471</td>\n",
              "      <td>8028</td>\n",
              "    </tr>\n",
              "    <tr>\n",
              "      <th>Galicia</th>\n",
              "      <td>11.74</td>\n",
              "      <td>2698764</td>\n",
              "      <td>29575</td>\n",
              "    </tr>\n",
              "    <tr>\n",
              "      <th>Murcia</th>\n",
              "      <td>16.08</td>\n",
              "      <td>1494442</td>\n",
              "      <td>11314</td>\n",
              "    </tr>\n",
              "    <tr>\n",
              "      <th>Andalucia</th>\n",
              "      <td>20.80</td>\n",
              "      <td>8446561</td>\n",
              "      <td>87599</td>\n",
              "    </tr>\n",
              "  </tbody>\n",
              "</table>\n",
              "</div>"
            ],
            "text/plain": [
              "            Paro  Poblacion  Superficie\n",
              "Madrid      9.99    6685471        8028\n",
              "Galicia    11.74    2698764       29575\n",
              "Murcia     16.08    1494442       11314\n",
              "Andalucia  20.80    8446561       87599"
            ]
          },
          "metadata": {
            "tags": []
          },
          "execution_count": 24
        }
      ]
    },
    {
      "cell_type": "markdown",
      "metadata": {
        "id": "gRVztHpOCgNl"
      },
      "source": [
        "## Ejercicio 12\n",
        "Calcula la densidad de población (hab/km^2) en una nueva columna del dataframe `data2` que se llame `Densidad`."
      ]
    },
    {
      "cell_type": "code",
      "metadata": {
        "id": "CvvozfVECgNl",
        "outputId": "372a7508-93bb-4586-d5d7-9ddf2d0a2472"
      },
      "source": [
        "data2[\"Densidad poblacion\"] = data2[\"Poblacion\"] / data2[\"Superficie\"]\n",
        "data2"
      ],
      "execution_count": null,
      "outputs": [
        {
          "output_type": "execute_result",
          "data": {
            "text/html": [
              "<div>\n",
              "<style scoped>\n",
              "    .dataframe tbody tr th:only-of-type {\n",
              "        vertical-align: middle;\n",
              "    }\n",
              "\n",
              "    .dataframe tbody tr th {\n",
              "        vertical-align: top;\n",
              "    }\n",
              "\n",
              "    .dataframe thead th {\n",
              "        text-align: right;\n",
              "    }\n",
              "</style>\n",
              "<table border=\"1\" class=\"dataframe\">\n",
              "  <thead>\n",
              "    <tr style=\"text-align: right;\">\n",
              "      <th></th>\n",
              "      <th>Paro</th>\n",
              "      <th>Poblacion</th>\n",
              "      <th>Superficie</th>\n",
              "      <th>Densidad poblacion</th>\n",
              "    </tr>\n",
              "  </thead>\n",
              "  <tbody>\n",
              "    <tr>\n",
              "      <th>Madrid</th>\n",
              "      <td>9.99</td>\n",
              "      <td>6685471</td>\n",
              "      <td>8028</td>\n",
              "      <td>832.769183</td>\n",
              "    </tr>\n",
              "    <tr>\n",
              "      <th>Galicia</th>\n",
              "      <td>11.74</td>\n",
              "      <td>2698764</td>\n",
              "      <td>29575</td>\n",
              "      <td>91.251530</td>\n",
              "    </tr>\n",
              "    <tr>\n",
              "      <th>Murcia</th>\n",
              "      <td>16.08</td>\n",
              "      <td>1494442</td>\n",
              "      <td>11314</td>\n",
              "      <td>132.087856</td>\n",
              "    </tr>\n",
              "    <tr>\n",
              "      <th>Andalucia</th>\n",
              "      <td>20.80</td>\n",
              "      <td>8446561</td>\n",
              "      <td>87599</td>\n",
              "      <td>96.423030</td>\n",
              "    </tr>\n",
              "  </tbody>\n",
              "</table>\n",
              "</div>"
            ],
            "text/plain": [
              "            Paro  Poblacion  Superficie  Densidad poblacion\n",
              "Madrid      9.99    6685471        8028          832.769183\n",
              "Galicia    11.74    2698764       29575           91.251530\n",
              "Murcia     16.08    1494442       11314          132.087856\n",
              "Andalucia  20.80    8446561       87599           96.423030"
            ]
          },
          "metadata": {
            "tags": []
          },
          "execution_count": 25
        }
      ]
    }
  ]
}